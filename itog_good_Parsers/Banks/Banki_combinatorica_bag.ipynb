{
 "cells": [
  {
   "cell_type": "markdown",
   "metadata": {},
   "source": [
    "# Баг с банками. Комбинаторика. Степени."
   ]
  },
  {
   "cell_type": "code",
   "execution_count": null,
   "metadata": {
    "collapsed": true
   },
   "outputs": [],
   "source": [
    "with open('banki_bag.pickle', 'rb') as handle:\n",
    "    all_data = pickle.load(handle)"
   ]
  },
  {
   "cell_type": "markdown",
   "metadata": {},
   "source": [
    "Все данные качались отсюда:\n",
    "\n",
    "http://www.banki.ru/banks/ratings/?PAGEN_1=8&search%5Btype%5D=name&sort_param=rating&sort_order=ASC&PROPERTY_ID=30&REGION_ID=0&date1=2009-03-01&date2=2009-02-01&IS_SHOW_GROUP=0&IS_SHOW_LIABILITIES=0"
   ]
  },
  {
   "cell_type": "code",
   "execution_count": null,
   "metadata": {
    "collapsed": true
   },
   "outputs": [],
   "source": [
    "# Merge multiple dataframes\n",
    "df1 = pd.DataFrame(np.array([\n",
    "    ['a', 5, 9],\n",
    "    ['b', 4, 61],\n",
    "    ['c', 24, 9]]),\n",
    "    columns=['name', 'attr11', 'attr12'])\n",
    "df2 = pd.DataFrame(np.array([\n",
    "    ['d', 5, 19],\n",
    "    ['b', 14, 16],\n",
    "    ['e', 4, 9]]),\n",
    "    columns=['name', 'attr21', 'attr22'])\n",
    "df3 = pd.DataFrame(np.array([\n",
    "    ['a', 15, 49],\n",
    "    ['b', 4, 36],\n",
    "    ['e', 14, 9]]),\n",
    "    columns=['name', 'attr31', 'attr32'])\n",
    "\n",
    "pd.merge(pd.merge(df1,df2,on='name',how='outer'),df3,on='name',how='outer')\n",
    "\n",
    "A = df1.merge(df2,on='name',how='outer').merge(df3,on='name',how='outer')\n",
    "A"
   ]
  },
  {
   "cell_type": "code",
   "execution_count": null,
   "metadata": {
    "collapsed": true
   },
   "outputs": [],
   "source": []
  },
  {
   "cell_type": "code",
   "execution_count": null,
   "metadata": {
    "collapsed": true
   },
   "outputs": [],
   "source": []
  },
  {
   "cell_type": "code",
   "execution_count": null,
   "metadata": {
    "collapsed": true
   },
   "outputs": [],
   "source": []
  },
  {
   "cell_type": "code",
   "execution_count": null,
   "metadata": {
    "collapsed": true
   },
   "outputs": [],
   "source": [
    "# Функция для создания табличек\n",
    "def Data_frame_uniter(df_vector):\n",
    "    A = df_vector[0]\n",
    "    for item in df_vector[1:]:\n",
    "        dropname = item.columns[2]\n",
    "        new_item = item.drop(dropname,axis=1)\n",
    "        A = pd.merge(A,new_item,on='Банк',how='left')        \n",
    "    return(A)"
   ]
  },
  {
   "cell_type": "code",
   "execution_count": null,
   "metadata": {
    "collapsed": true
   },
   "outputs": [],
   "source": []
  },
  {
   "cell_type": "code",
   "execution_count": null,
   "metadata": {
    "collapsed": true
   },
   "outputs": [],
   "source": [
    "test = all_data[:20]"
   ]
  },
  {
   "cell_type": "code",
   "execution_count": null,
   "metadata": {
    "collapsed": true
   },
   "outputs": [],
   "source": [
    "np.sum(np.array([all_data[i].shape[0] for i in range(len(test))]))"
   ]
  },
  {
   "cell_type": "code",
   "execution_count": null,
   "metadata": {
    "collapsed": true
   },
   "outputs": [],
   "source": [
    "dff = Data_frame_uniter(test)\n",
    "dff.shape"
   ]
  },
  {
   "cell_type": "code",
   "execution_count": null,
   "metadata": {
    "collapsed": true
   },
   "outputs": [],
   "source": [
    "wow = dff[dff['Банк']=='Первомайский']\n",
    "wow.shape[0]/2**16"
   ]
  },
  {
   "cell_type": "code",
   "execution_count": null,
   "metadata": {
    "collapsed": true
   },
   "outputs": [],
   "source": [
    "wow"
   ]
  },
  {
   "cell_type": "code",
   "execution_count": null,
   "metadata": {
    "collapsed": true
   },
   "outputs": [],
   "source": []
  },
  {
   "cell_type": "code",
   "execution_count": null,
   "metadata": {
    "collapsed": true
   },
   "outputs": [],
   "source": [
    "all_data[10].tail(5)"
   ]
  },
  {
   "cell_type": "code",
   "execution_count": null,
   "metadata": {
    "collapsed": true
   },
   "outputs": [],
   "source": [
    "all_data[11].tail(5)"
   ]
  }
 ],
 "metadata": {
  "kernelspec": {
   "display_name": "Python 3",
   "language": "python",
   "name": "python3"
  },
  "language_info": {
   "codemirror_mode": {
    "name": "ipython",
    "version": 3
   },
   "file_extension": ".py",
   "mimetype": "text/x-python",
   "name": "python",
   "nbconvert_exporter": "python",
   "pygments_lexer": "ipython3",
   "version": "3.5.2"
  }
 },
 "nbformat": 4,
 "nbformat_minor": 1
}
