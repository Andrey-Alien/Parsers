{
 "cells": [
  {
   "cell_type": "markdown",
   "metadata": {},
   "source": [
    "# Программирование на языке Python для сбора и анализа данных\n",
    "*Семинары ведут: Щуров И.В., Будылин Р.Я., НИУ ВШЭ*\n",
    "\n",
    "Данный notebook является набором задач по курсу \n",
    "«Программирование на языке Python для сбора и анализа данных» \n",
    "(НИУ ВШЭ, 2014-15). Распространяется по лицензии [CC BY-SA \n",
    "4.0](https://creativecommons.org/licenses/by-sa/4.0/deed.ru).\n",
    "На [странице курса](http://math-info.hse.ru/s15/m) находятся другие материалы."
   ]
  },
  {
   "cell_type": "markdown",
   "metadata": {},
   "source": [
    "## Домашнее задание №13\n",
    "За разные задачи можно получить разное число баллов. Максимум за ДЗ можно набрать 8 баллов. Вы можете решить больше задач, чем требуется, чтобы подстраховаться.\n",
    "\n",
    "Для предварительной проверки задания нужно скачать данный `ipynb`-файл на свой компьютер, открыть его в IPython Notebook/Jupyter (подробнее о том, как это сделать, см. [здесь](http://math-info.hse.ru/2015-16/%D0%9F%D1%80%D0%BE%D0%B3%D1%80%D0%B0%D0%BC%D0%BC%D0%B8%D1%80%D0%BE%D0%B2%D0%B0%D0%BD%D0%B8%D0%B5_%D0%BD%D0%B0_%D1%8F%D0%B7%D1%8B%D0%BA%D0%B5_Python_%D0%B4%D0%BB%D1%8F_%D1%81%D0%B1%D0%BE%D1%80%D0%B0_%D0%B8_%D0%B0%D0%BD%D0%B0%D0%BB%D0%B8%D0%B7%D0%B0_%D0%B4%D0%B0%D0%BD%D0%BD%D1%8B%D1%85#.D0.9A.D0.B0.D0.BA_.D0.B8.D1.81.D0.BF.D0.BE.D0.BB.D1.8C.D0.B7.D0.BE.D0.B2.D0.B0.D1.82.D1.8C)) и вставить решение каждой задачи в ячейку для кода, следующую за его условием, запустить эту ячейку, а затем запустить следующую ячейку (в ней содержится тест). Если запуск ячейки с тестом не приводит к появлению ошибки (assertion), значит, всё в порядке, задача решена. Если приводит к появлению ошибки, значит, тест не пройден и нужно искать ошибку.\n",
    "\n",
    "Чтобы сдать ДЗ, его надо будет загрузить в [nbgr-x](http://python.math-hse.info) в виде `ipynb`-файла."
   ]
  },
  {
   "cell_type": "code",
   "execution_count": null,
   "metadata": {
    "collapsed": true
   },
   "outputs": [],
   "source": [
    "import pandas as pd"
   ]
  },
  {
   "cell_type": "markdown",
   "metadata": {},
   "source": [
    "### Задача 1 (1 балл)\n",
    "В датафрейме `df` находится информация об успеваемости студентов: в столбцах `First Name` и `Last Name` — имя и фамилия, а в следующих столбцах — оценки за разные курсы по пятибальной системе (целые числа от 0 до 5). Напишите функцию `get_grade(df, lastname, firstname, course)`, возвращающую оценку данного студента по данному курсу. Предполагается, что не бывает студентов, у которых совпадали бы одновременно фамилия и имя.\n",
    "\n",
    "**Пример:**\n",
    "\n",
    "Входная таблица\n",
    "\n",
    "```\n",
    "  Last Name First Name  Algebra  Calculus  Music  Law\n",
    "0       Doe       John        4         5      3    5\n",
    "1     Smith      Alice        5         4      2    4\n",
    "```\n",
    "записывается в виде\n",
    "\n",
    "```python\n",
    "df = pd.DataFrame(\n",
    "    [\n",
    "        ['Doe', 'John', 4, 5, 3, 5], \n",
    "        ['Smith', 'Alice', 5, 4, 2, 4]\n",
    "    ], \n",
    "    columns=['Last Name', 'First Name', 'Algebra', 'Calculus', 'Music', 'Law']\n",
    ")\n",
    "```\n",
    "Для неё функция `get_grade(df, 'Doe', 'John', 'Algebra')` должна вернуть число `4`.\n",
    "\n",
    "**Подсказка.** Не забудьте превратить результат в целое число (`int`)!"
   ]
  },
  {
   "cell_type": "code",
   "execution_count": null,
   "metadata": {
    "collapsed": true,
    "deletable": false,
    "nbgrader": {
     "checksum": "56f2008ad102c7354b3f9ef0447bc55f",
     "grade": false,
     "grade_id": "pr_1",
     "locked": false,
     "solution": true
    }
   },
   "outputs": [],
   "source": [
    "# YOUR CODE HERE"
   ]
  },
  {
   "cell_type": "code",
   "execution_count": null,
   "metadata": {
    "collapsed": true,
    "deletable": false,
    "nbgrader": {
     "checksum": "769dd4c85bc357a7c249a3ffb669d915",
     "grade": true,
     "grade_id": "pr_1_t",
     "locked": true,
     "points": 1,
     "solution": false
    }
   },
   "outputs": [],
   "source": [
    "def test(table, columns):\n",
    "    df = pd.DataFrame(table, columns=columns)\n",
    "    for row in table:\n",
    "        firstname = row[columns.index('First Name')]\n",
    "        lastname = row[columns.index('Last Name')]\n",
    "        for j, course in enumerate(columns[2:], 2):\n",
    "            assert get_grade(df, lastname, firstname, course) == row[j]\n",
    "\n",
    "test(\n",
    "    [\n",
    "        ['Doe', 'John', 1, 2, 3, 4], \n",
    "        ['Smith', 'Alice', 5, 4, 2, 4]\n",
    "    ], \n",
    "    columns=['Last Name', 'First Name', 'Algebra', 'Calculus', 'Music', 'Law']\n",
    ")\n",
    "\n",
    "test(\n",
    "    [\n",
    "        ['John', 'Doe', 1, 2, 3, 4], \n",
    "        ['Max', 'Katz', 5, 4, 2, 4]\n",
    "    ], \n",
    "    columns=['First Name', 'Last Name', 'Algebra', 'Calculus', 'Music', 'Law']\n",
    ")\n",
    "\n",
    "test(\n",
    "    [\n",
    "        ['John', 'Doe', 1, 2, 3, 4, 3, 2], \n",
    "        ['Jennifer', 'Lopez', 5, 4, 2, 4, 1, 1],\n",
    "        ['John', 'Smith', 2, 1, 4, 3, 3, 2]\n",
    "    ],\n",
    "    columns=['First Name', 'Last Name', 'Algebra', 'Calculus', 'Music', 'Law', 'CS', 'Physics']\n",
    ")\n",
    "\n",
    "test(\n",
    "    [\n",
    "        ['John', 'Doe', 1, 2, 3, 4, 3, 2], \n",
    "        ['Jack', 'Doe', 5, 4, 2, 4, 1, 1],\n",
    "        ['John', 'Smith', 2, 1, 4, 3, 3, 2]\n",
    "    ],\n",
    "    columns=['First Name', 'Last Name', 'Algebra', 'Calculus', 'Music', 'Law', 'CS', 'Physics']\n",
    ")\n"
   ]
  },
  {
   "cell_type": "code",
   "execution_count": null,
   "metadata": {
    "collapsed": false
   },
   "outputs": [],
   "source": [
    "df = pd.DataFrame(\n",
    "    [\n",
    "        ['Doe', 'John', 4, 5, 3, 5], \n",
    "        ['Smith', 'Alice', 5, 4, 2, 4]\n",
    "    ], \n",
    "    columns=['Last Name', 'First Name', 'Algebra', 'Calculus', 'Music', 'Law']\n",
    ")\n",
    "get_grade(df, 'Doe', 'John', 'Calculus')"
   ]
  },
  {
   "cell_type": "markdown",
   "metadata": {},
   "source": [
    "### Задача 2 (1 балл)\n",
    "В датафрейме `df` задана некоторая таблица. Написать функцию `get_rows_after_5(df, n)`, возвращающую датафрейм, в котором записано `n` строк, начиная с пятой сверху (включая 5-ю). Например, `get_row_after_5(df, 1)` должна вернуть только пятую строку, а `get_row_after_5(df, 2)` — 5-ю и 6-ю.\n",
    "\n",
    "**Внимание!** Индексами (именами строк) могут быть не числа, а что угодно."
   ]
  },
  {
   "cell_type": "code",
   "execution_count": null,
   "metadata": {
    "collapsed": true,
    "deletable": false,
    "nbgrader": {
     "checksum": "a93978e42e6491c3ff3e257ef3f541b5",
     "grade": false,
     "grade_id": "pr_2",
     "locked": false,
     "solution": true
    }
   },
   "outputs": [],
   "source": [
    "# YOUR CODE HERE"
   ]
  },
  {
   "cell_type": "code",
   "execution_count": null,
   "metadata": {
    "collapsed": false,
    "deletable": false,
    "nbgrader": {
     "checksum": "32ef9cf824690cb99bc1d7c9b6ebfb45",
     "grade": true,
     "grade_id": "pr_2_t",
     "locked": true,
     "points": 1,
     "solution": false
    }
   },
   "outputs": [],
   "source": [
    "df = pd.DataFrame([[1, 2, 3], \n",
    "                   [4, 5, 6], \n",
    "                   [7, 8, 9], \n",
    "                   [10, 11, 12], \n",
    "                   [13, 14, 15], \n",
    "                   [16, 17, 18], \n",
    "                   [19, 20, 21]])\n",
    "\n",
    "assert get_rows_after_5(df, 1).equals(pd.DataFrame([[13, 14, 15]], index=[4]))\n",
    "assert get_rows_after_5(df, 2).equals(pd.DataFrame([[13, 14, 15], [16, 17, 18]], index=[4, 5]))\n",
    "assert get_rows_after_5(df, 3).equals(pd.DataFrame([[13, 14, 15], [16, 17, 18], [19, 20, 21]], index=[4, 5, 6]))\n",
    "\n",
    "\n",
    "df.index = list(range(6, -1, -1))\n",
    "assert get_rows_after_5(df, 1).equals(pd.DataFrame([[13, 14, 15]], index=[2]))\n",
    "\n",
    "df.index = list('abcdefg')\n",
    "df.sort_values(0, ascending=False, inplace=True)\n",
    "\n",
    "assert get_rows_after_5(df, 1).equals(pd.DataFrame([[7, 8, 9]], index=['c']))\n",
    "assert get_rows_after_5(df, 2).equals(pd.DataFrame([[7, 8, 9], [4, 5, 6]], index=['c', 'b']))\n",
    "\n",
    "df['hello'] = list('qwertyu')\n",
    "\n",
    "get_rows_after_5(df, 2)\n",
    "\n",
    "assert get_rows_after_5(df, 2).equals(pd.DataFrame([[7, 8, 9, 't'], [4, 5, 6, 'y']], columns = [0, 1, 2, 'hello'], index=['c', 'b']))"
   ]
  },
  {
   "cell_type": "markdown",
   "metadata": {},
   "source": [
    "### Задача 3 (1 балл)\n",
    "В датафрейме `df` задана некоторая таблица, её индексами являются целые числа, не обязательно идущие по порядку. Написать функцию `between(df, n, m)`, возвращающую все строки этой таблицы, расположенные между строками с индексами `n` и `m`, включая строки с индексами `n` и `m`. Гарантируется, что строка с индексом `n` встречается раньше строки с индексом `m`."
   ]
  },
  {
   "cell_type": "code",
   "execution_count": null,
   "metadata": {
    "collapsed": true,
    "deletable": false,
    "nbgrader": {
     "checksum": "8c983e41b2ba4fba5c317a154a59858b",
     "grade": false,
     "grade_id": "pr_3",
     "locked": false,
     "solution": true
    }
   },
   "outputs": [],
   "source": [
    "# YOUR CODE HERE"
   ]
  },
  {
   "cell_type": "code",
   "execution_count": null,
   "metadata": {
    "collapsed": false,
    "deletable": false,
    "nbgrader": {
     "checksum": "6fe1f6d015b51ae6689f953796245d76",
     "grade": true,
     "grade_id": "pr_3_t",
     "locked": true,
     "points": 1,
     "solution": false
    }
   },
   "outputs": [],
   "source": [
    "df = pd.DataFrame([[1, 2, 3], \n",
    "                   [4, 5, 6], \n",
    "                   [7, 8, 9], \n",
    "                   [10, 11, 12], \n",
    "                   [13, 14, 15], \n",
    "                   [16, 17, 18], \n",
    "                   [19, 20, 21]])\n",
    "assert between(df, 2, 3).equals(pd.DataFrame([[7, 8, 9], [10, 11, 12]], index=[2, 3]))\n",
    "\n",
    "df.index=[1, 2, 10, 9, 8, 7, 3]\n",
    "\n",
    "assert between(df, 2, 3).equals(pd.DataFrame([[4, 5, 6], [7, 8, 9], [10, 11, 12], [13, 14, 15], [16, 17, 18], [19, 20, 21]], columns=[0, 1, 2], index=[2, 10, 9, 8, 7, 3]))"
   ]
  },
  {
   "cell_type": "markdown",
   "metadata": {
    "collapsed": true
   },
   "source": [
    "### Задача 4. (2 балла)\n",
    "В датафрейме `df` находится информация об успеваемости студентов. Написать функцию `gpa_top(df)`, принимающую на вход датафрейм `df` и модифицирующую его следующим образом:\n",
    "\n",
    "- Добавить в `df` столбец с именем `'GPA'`, содержащим среднюю оценка студента. Разные студенты могут брать разный набор курсов, поэтому среди оценок студентов может встречаться `NaN` (это означает, что студент не брал соответствующий курс). Среднее считается среди тех курсов, которые студент брал.\n",
    "\n",
    "- Отсортировать датафрейм по убыванию `GPA`.\n",
    "\n",
    "- Вернуть только те строчки датафрейма, в которых `GPA` не меньше `4` баллов.\n",
    "\n",
    "**Подсказки:** \n",
    "\n",
    "1. Для сортировки датафрейма нужно использовать метод `sort_values()`.\n",
    "2. Метод `mean()` игнорирует строки и `NaN`'ы.\n",
    "\n",
    "В следующих ячейках приведено два примера."
   ]
  },
  {
   "cell_type": "code",
   "execution_count": null,
   "metadata": {
    "collapsed": false
   },
   "outputs": [],
   "source": [
    "# входной датафрейм\n",
    "pd.DataFrame([['Doe', 'John', 4, 5, 3.0, 5], ['Smith', 'Alice', 5, 4, float(\"nan\"), 4]], columns=['Last Name', 'First Name', 'Algebra', 'Calculus', 'Music', 'Law'], index=[0, 1])"
   ]
  },
  {
   "cell_type": "code",
   "execution_count": null,
   "metadata": {
    "collapsed": false
   },
   "outputs": [],
   "source": [
    "# выходной датафрейм\n",
    "pd.DataFrame([['Smith', 'Alice', 5, 4, float(\"nan\"), 4, 4.333333333333333], ['Doe', 'John', 4, 5, 3.0, 5, 4.25]], columns=['Last Name', 'First Name', 'Algebra', 'Calculus', 'Music', 'Law', 'GPA'], index=[1, 0])"
   ]
  },
  {
   "cell_type": "code",
   "execution_count": null,
   "metadata": {
    "collapsed": false
   },
   "outputs": [],
   "source": [
    "# входной датафрейм\n",
    "pd.DataFrame([['Doe', 'John', 1, 5, 3.0, 5], ['Smith', 'Alice', 5, 4, float(\"nan\"), 4]], columns=['Last Name', 'First Name', 'Algebra', 'Calculus', 'Music', 'Law'], index=[0, 1])"
   ]
  },
  {
   "cell_type": "code",
   "execution_count": null,
   "metadata": {
    "collapsed": false
   },
   "outputs": [],
   "source": [
    "# выходной датафрейм\n",
    "pd.DataFrame([['Smith', 'Alice', 5, 4, float(\"nan\"), 4, 4.333333333333333]], columns=['Last Name', 'First Name', 'Algebra', 'Calculus', 'Music', 'Law', 'GPA'], index=[1])"
   ]
  },
  {
   "cell_type": "code",
   "execution_count": null,
   "metadata": {
    "collapsed": true,
    "deletable": false,
    "nbgrader": {
     "checksum": "e2b18d98a37a4c7b671f48e43f995399",
     "grade": false,
     "grade_id": "pr_4",
     "locked": false,
     "solution": true
    }
   },
   "outputs": [],
   "source": [
    "# YOUR CODE HERE"
   ]
  },
  {
   "cell_type": "code",
   "execution_count": null,
   "metadata": {
    "collapsed": false,
    "deletable": false,
    "nbgrader": {
     "checksum": "1504387713d04aa091fec0953726cfaf",
     "grade": true,
     "grade_id": "pr_4_t",
     "locked": true,
     "points": 2,
     "solution": false
    }
   },
   "outputs": [],
   "source": [
    "import pandas as pd\n",
    "def pd_repr(df):\n",
    "    content = repr(df.values.tolist()).replace('nan', 'float(\"nan\")')\n",
    "    columns = repr(df.columns.tolist())\n",
    "    index = repr(df.index.tolist())\n",
    "    return \"pd.DataFrame(%s, columns=%s, index=%s)\" % (content, columns, index)\n",
    "\n",
    "def test(table, columns, newtable, newindex):\n",
    "    inp = pd.DataFrame(table, columns=columns)\n",
    "    expected = pd.DataFrame(newtable, columns = columns + ['GPA'], index=newindex)\n",
    "    out = gpa_top(inp)\n",
    "    if len(out) == 0 and len(expected) == 0:\n",
    "        return\n",
    "    assert out.equals(expected), \"Что-то пошло не так для входного датафрейма %s\" % pd_repr(inp)\n",
    "\n",
    "test([['Doe', 'John', 4, 5, 3.0, 5]], ['Last Name', 'First Name', 'Algebra', 'Calculus', 'Music', 'Law'], [['Doe', 'John', 4, 5, 3.0, 5, 4.25]], [0])\n",
    "test([['Doe', 'John', 4, 5, 3.0, 5], ['Smith', 'Alice', 5, 4, float('nan'), 4]], ['Last Name', 'First Name', 'Algebra', 'Calculus', 'Music', 'Law'], [['Smith', 'Alice', 5, 4, float('nan'), 4, 4.333333333333333], ['Doe', 'John', 4, 5, 3.0, 5, 4.25]], [1, 0])\n",
    "test([['Doe', 'John', 1, 5, 3.0, 5], ['Smith', 'Alice', 5, 4, float('nan'), 4]], ['Last Name', 'First Name', 'Algebra', 'Calculus', 'Music', 'Law'], [['Smith', 'Alice', 5, 4, float('nan'), 4, 4.333333333333333]], [1])\n",
    "test([['Doe', 'John', 4, float('nan'), 3.0, float('nan')], ['Smith', 'Alice', 2, 4, float('nan'), 4]], ['Last Name', 'First Name', 'Algebra', 'Calculus', 'Music', 'Law'], [], [])\n",
    "test([['Doe', 'John', 4, float('nan'), 5.0, float('nan')], ['Smith', 'Alice', 5, 5, float('nan'), 4]], ['Last Name', 'First Name', 'Algebra', 'Calculus', 'Music', 'Law'], [['Smith', 'Alice', 5, 5.0, float('nan'), 4.0, 4.666666666666667], ['Doe', 'John', 4, float('nan'), 5.0, float('nan'), 4.5]], [1, 0])\n",
    "test([['Doe', 'John', 4, float('nan'), 5.0, float('nan'), 4, 5], ['Smith', 'Alice', 5, 5, float('nan'), 4, 4, float('nan')]], ['Last Name', 'First Name', 'Algebra', 'Calculus', 'Music', 'Law', 'Science', 'English'], [['Doe', 'John', 4, float('nan'), 5.0, float('nan'), 4, 5.0, 4.5], ['Smith', 'Alice', 5, 5.0, float('nan'), 4.0, 4, float('nan'), 4.5]], [0, 1])\n",
    "test([['Doe', 'John', 4, float('nan'), 5.0, float('nan'), 4, 5], ['Smith', 'Alice', 5, 5, float('nan'), 4, 5, float('nan')], ['Doe', 'Alice', 4, float('nan'), 5.0, float('nan'), 4, 5], ['Smith', 'John', 5, 5, float('nan'), 3, 4, float('nan')], ['Doe', 'John', 4, float('nan'), 5.0, 2, 4, 5], ['Smith', 'Alice', 2, 2, float('nan'), 4, 4, float('nan')]], ['Last Name', 'First Name', 'Algebra', 'Calculus', 'Music', 'Law', 'Science', 'English'], [['Smith', 'Alice', 5, 5.0, float('nan'), 4.0, 5, float('nan'), 4.75], ['Doe', 'John', 4, float('nan'), 5.0, float('nan'), 4, 5.0, 4.5], ['Doe', 'Alice', 4, float('nan'), 5.0, float('nan'), 4, 5.0, 4.5], ['Smith', 'John', 5, 5.0, float('nan'), 3.0, 4, float('nan'), 4.25], ['Doe', 'John', 4, float('nan'), 5.0, 2.0, 4, 5.0, 4.0]], [1, 0, 2, 3, 4])"
   ]
  },
  {
   "cell_type": "markdown",
   "metadata": {},
   "source": [
    "### Задача 5 (2 балла)\n",
    "В таблице `df` записана информация о покупках товаров в некотором магазине. Пример:\n",
    "\n",
    "            Покупатель     Товар  Количество  Цена\n",
    "    0    Иван Петрович  Макароны           4   120\n",
    "    1  Лариса Ивановна    Плюшки          10   100\n",
    "    2    Иван Петрович    Плюшки           1   100\n",
    "    3             Петя   Леденцы           5    20\n",
    "    \n",
    "Один и тот же товар может продаваться по разным ценам.\n",
    "\n",
    "Вам нужно написать функцию `check_table(df)`, возвращающую кортеж из двух словарей: в первом должно быть указано, сколько денег оставил в магазине каждый покупатель, а во втором — сколько удалось выручить за продажу каждого товара. Например, для приведенной выше таблицы должно быть возвращено\n",
    "\n",
    "```\n",
    "({'Иван Петрович': 580, 'Лариса Ивановна': 1000, 'Петя': 100},\n",
    " {'Леденцы': 100, 'Макароны': 480, 'Плюшки': 1100})\n",
    "```\n",
    "\n",
    "**Подсказки:**\n",
    "\n",
    "1. Сначала создайте столбец, в котором будет указано, во сколько обошлась каждая покупка (с учётом количества товара и его цены). Одномерные элементы *pandas* (например, столбцы и строки датафреймов — их тип называется `pd.DataSeries`) ведут себя как `np.array()`, то есть операции с ними производятся поэлементно.\n",
    "2. Вам поможет метод `groupby()`.\n",
    "3. У элементов типа `pd.DataSeries` есть метод `to_dict()`, превращающий их в словари."
   ]
  },
  {
   "cell_type": "code",
   "execution_count": null,
   "metadata": {
    "collapsed": true,
    "deletable": false,
    "nbgrader": {
     "checksum": "960ff9a127927506d777d84e0c4e61be",
     "grade": false,
     "grade_id": "pr_5",
     "locked": false,
     "solution": true
    }
   },
   "outputs": [],
   "source": [
    "# YOUR CODE HERE"
   ]
  },
  {
   "cell_type": "code",
   "execution_count": null,
   "metadata": {
    "collapsed": false,
    "deletable": false,
    "nbgrader": {
     "checksum": "16fca2cdcffecf9bf4d5cea4645df23e",
     "grade": true,
     "grade_id": "pr_5_t",
     "locked": true,
     "points": 2,
     "solution": false
    }
   },
   "outputs": [],
   "source": [
    "# базовые тесты\n",
    "assert check_table(pd.DataFrame([['Иван Иванович', 'Молоко', 1, 10]], columns=['Покупатель', 'Товар', 'Количество', 'Цена'], index=[0])) == ({'Иван Иванович': 10}, {'Молоко': 10})\n",
    "assert check_table(pd.DataFrame([['Иван Иванович', 'Молоко', 1, 10], ['Иван Иванович', 'Кефир', 2, 20]], columns=['Покупатель', 'Товар', 'Количество', 'Цена'], index=[0, 1])) == ({'Иван Иванович': 50}, {'Молоко': 10, 'Кефир': 40})\n",
    "assert check_table(pd.DataFrame([['Иван Иванович', 'Молоко', 1, 10], ['Иван Никифорович', 'Кефир', 2, 20]], columns=['Покупатель', 'Товар', 'Количество', 'Цена'], index=[0, 1])) == ({'Иван Никифорович': 40, 'Иван Иванович': 10}, {'Молоко': 10, 'Кефир': 40})\n",
    "assert check_table(pd.DataFrame([['Иван Иванович', 'Молоко', 1, 10], ['Иван Никифорович', 'Молоко', 2, 20]], columns=['Покупатель', 'Товар', 'Количество', 'Цена'], index=[0, 1])) == ({'Иван Никифорович': 40, 'Иван Иванович': 10}, {'Молоко': 50})\n",
    "\n",
    "# стресс-тестирование\n",
    "assert check_table(pd.DataFrame([['Петя', 'Кефир', 5, 983], ['Петя', 'Колбаса', 7, 301], ['Элизабет', 'Молоко', 1, 332], ['Иван Никифорович', 'Простокваша', 1, 318], ['Элизабет', 'Кефир', 7, 334], ['Петя', 'Колбаса', 3, 376], ['Петя', 'Чай', 1, 952], ['Ваня', 'Чай', 2, 930], ['Петя', 'Молоко', 8, 759], ['Иван Иванович', 'Кефир', 7, 720], ['Элизабет', 'Простокваша', 2, 958], ['Петя', 'Простокваша', 8, 904], ['Элизабет', 'Кефир', 6, 213], ['Иван Иванович', 'Молоко', 2, 878], ['Ваня', 'Колбаса', 7, 819], ['Петя', 'Журнал \"Мурзилка\"', 6, 924], ['Элизабет', 'Кефир', 6, 862], ['Ваня', 'Журнал \"Мурзилка\"', 7, 324], ['Петя', 'Простокваша', 3, 200], ['Иван Иванович', 'Молоко', 8, 881]], columns=['Покупатель', 'Товар', 'Количество', 'Цена'], index=[0, 1, 2, 3, 4, 5, 6, 7, 8, 9, 10, 11, 12, 13, 14, 15, 16, 17, 18, 19])) == ({'Ваня': 9861, 'Петя': 28550, 'Иван Никифорович': 318, 'Иван Иванович': 13844, 'Элизабет': 11036}, {'Чай': 2812, 'Колбаса': 8968, 'Журнал \"Мурзилка\"': 7812, 'Простокваша': 10066, 'Молоко': 15208, 'Кефир': 18743})\n",
    "assert check_table(pd.DataFrame([['Ваня', 'Простокваша', 8, 189], ['Иван Никифорович', 'Молоко', 2, 723], ['Иван Иванович', 'Молоко', 1, 558], ['Иван Никифорович', 'Молоко', 5, 209], ['Петя', 'Простокваша', 8, 522], ['Иван Иванович', 'Чай', 3, 193], ['Иван Иванович', 'Чай', 4, 312], ['Петя', 'Молоко', 7, 662], ['Элизабет', 'Простокваша', 7, 56], ['Петя', 'Колбаса', 9, 415], ['Иван Никифорович', 'Колбаса', 7, 772], ['Петя', 'Хлеб', 6, 825], ['Элизабет', 'Колбаса', 4, 24], ['Иван Никифорович', 'Хлеб', 9, 68], ['Иван Никифорович', 'Чай', 6, 143], ['Иван Иванович', 'Колбаса', 8, 794], ['Элизабет', 'Простокваша', 2, 333], ['Иван Иванович', 'Хлеб', 2, 272], ['Иван Иванович', 'Колбаса', 2, 250], ['Элизабет', 'Простокваша', 1, 642]], columns=['Покупатель', 'Товар', 'Количество', 'Цена'], index=[0, 1, 2, 3, 4, 5, 6, 7, 8, 9, 10, 11, 12, 13, 14, 15, 16, 17, 18, 19])) == ({'Ваня': 1512, 'Петя': 17495, 'Иван Никифорович': 9365, 'Иван Иванович': 9781, 'Элизабет': 1796}, {'Колбаса': 16087, 'Чай': 2685, 'Простокваша': 7388, 'Молоко': 7683, 'Хлеб': 6106})\n",
    "assert check_table(pd.DataFrame([['Элизабет', 'Чай', 9, 354], ['Иван Никифорович', 'Колбаса', 3, 523], ['Элизабет', 'Молоко', 4, 476], ['Элизабет', 'Молоко', 5, 253], ['Иван Иванович', 'Кефир', 5, 829], ['Иван Никифорович', 'Молоко', 7, 874], ['Элизабет', 'Чай', 3, 901], ['Петя', 'Хлеб', 4, 644], ['Иван Иванович', 'Хлеб', 8, 943], ['Элизабет', 'Колбаса', 5, 80], ['Иван Никифорович', 'Чай', 3, 537], ['Иван Иванович', 'Журнал \"Мурзилка\"', 7, 204], ['Петя', 'Журнал \"Мурзилка\"', 2, 251], ['Петя', 'Колбаса', 1, 344], ['Иван Никифорович', 'Простокваша', 5, 694], ['Иван Иванович', 'Кефир', 3, 661], ['Иван Никифорович', 'Чай', 7, 365], ['Элизабет', 'Хлеб', 6, 36], ['Ваня', 'Колбаса', 9, 40], ['Элизабет', 'Чай', 5, 846]], columns=['Покупатель', 'Товар', 'Количество', 'Цена'], index=[0, 1, 2, 3, 4, 5, 6, 7, 8, 9, 10, 11, 12, 13, 14, 15, 16, 17, 18, 19])) == ({'Ваня': 360, 'Петя': 3422, 'Иван Никифорович': 15323, 'Иван Иванович': 15100, 'Элизабет': 13904}, {'Чай': 14285, 'Колбаса': 2673, 'Журнал \"Мурзилка\"': 1930, 'Хлеб': 10336, 'Простокваша': 3470, 'Молоко': 9287, 'Кефир': 6128})\n",
    "assert check_table(pd.DataFrame([['Элизабет', 'Чай', 5, 547], ['Иван Иванович', 'Хлеб', 2, 883], ['Иван Иванович', 'Журнал \"Мурзилка\"', 6, 616], ['Петя', 'Хлеб', 9, 313], ['Петя', 'Чай', 1, 73], ['Иван Никифорович', 'Хлеб', 8, 665], ['Иван Иванович', 'Колбаса', 5, 219], ['Элизабет', 'Журнал \"Мурзилка\"', 8, 207], ['Петя', 'Кефир', 7, 512], ['Иван Никифорович', 'Молоко', 6, 302], ['Иван Иванович', 'Колбаса', 9, 467], ['Иван Никифорович', 'Хлеб', 8, 548], ['Ваня', 'Простокваша', 9, 331], ['Иван Никифорович', 'Чай', 5, 414], ['Иван Иванович', 'Журнал \"Мурзилка\"', 6, 606], ['Элизабет', 'Чай', 8, 17], ['Иван Иванович', 'Простокваша', 9, 139], ['Иван Иванович', 'Кефир', 3, 730], ['Элизабет', 'Кефир', 2, 727], ['Элизабет', 'Журнал \"Мурзилка\"', 1, 618]], columns=['Покупатель', 'Товар', 'Количество', 'Цена'], index=[0, 1, 2, 3, 4, 5, 6, 7, 8, 9, 10, 11, 12, 13, 14, 15, 16, 17, 18, 19])) == ({'Ваня': 2979, 'Петя': 6474, 'Иван Никифорович': 13586, 'Иван Иванович': 17837, 'Элизабет': 6599}, {'Чай': 5014, 'Колбаса': 5298, 'Журнал \"Мурзилка\"': 9606, 'Хлеб': 14287, 'Простокваша': 4230, 'Молоко': 1812, 'Кефир': 7228})\n",
    "assert check_table(pd.DataFrame([['Петя', 'Простокваша', 8, 516], ['Петя', 'Молоко', 1, 779], ['Петя', 'Журнал \"Мурзилка\"', 2, 12], ['Иван Никифорович', 'Колбаса', 3, 776], ['Элизабет', 'Простокваша', 7, 810], ['Иван Никифорович', 'Журнал \"Мурзилка\"', 8, 368], ['Петя', 'Журнал \"Мурзилка\"', 6, 129], ['Иван Никифорович', 'Колбаса', 6, 246], ['Иван Иванович', 'Чай', 9, 297], ['Петя', 'Журнал \"Мурзилка\"', 7, 558], ['Петя', 'Колбаса', 3, 210], ['Ваня', 'Хлеб', 2, 916], ['Элизабет', 'Чай', 2, 395], ['Петя', 'Простокваша', 5, 317], ['Иван Иванович', 'Чай', 5, 892], ['Петя', 'Хлеб', 2, 389], ['Ваня', 'Кефир', 6, 771], ['Иван Никифорович', 'Простокваша', 5, 33], ['Элизабет', 'Чай', 3, 103], ['Элизабет', 'Кефир', 2, 91]], columns=['Покупатель', 'Товар', 'Количество', 'Цена'], index=[0, 1, 2, 3, 4, 5, 6, 7, 8, 9, 10, 11, 12, 13, 14, 15, 16, 17, 18, 19])) == ({'Ваня': 6458, 'Петя': 12604, 'Иван Никифорович': 6913, 'Иван Иванович': 7133, 'Элизабет': 6951}, {'Чай': 8232, 'Колбаса': 4434, 'Журнал \"Мурзилка\"': 7648, 'Хлеб': 2610, 'Простокваша': 11548, 'Молоко': 779, 'Кефир': 4808})"
   ]
  },
  {
   "cell_type": "markdown",
   "metadata": {},
   "source": [
    "### Задача 6 (4 балла)\n",
    "На [портале открытых данных г. Москвы](http://data.mos.ru) есть [API](http://api.data.mos.ru/), с помощью которого можно программно запрашивать наборы данных. API возвращает данные в формате JSON; при этом часть данных носит на самом деле табличный характер (их можно также получить в виде таблиц, но уже не с помощью API, а с помощью обычного интерфейса). Необходимо написать функцию `data_mos_to_pd(dataset_id)`, принимающую на вход идентификатор набора данных (например, 658) и возвращающую датафрейм, в который записаны результаты соответствующего запроса к API. Например, для набора данных с идентификатором 658 должна возвращаться табличка со столбцами `global_id`,`TypeOfTransport`,`NameOfTariff`,`NameOfCarrier`,`TicketCost`,`TicketValidity` (порядок не имеет значения). В том случае, если в JSON'е в соответствующей ячейке записано не число и не строка, а более сложный объект (например, в `NameOfCarrier` в наборе данных 658 записан список словарей), в датафрейм нужно записать этот объект как есть, без его дополнительной «расшировки» (элементами датафрейма могут быть сложные объекты). Индексом датафрейма должен быть столбец `global_id`, представленный как целые числа."
   ]
  },
  {
   "cell_type": "code",
   "execution_count": null,
   "metadata": {
    "collapsed": false,
    "deletable": false,
    "nbgrader": {
     "checksum": "47a4b2ced00e1a4079d54f79f2273ee9",
     "grade": false,
     "grade_id": "pr_6",
     "locked": false,
     "solution": true
    }
   },
   "outputs": [],
   "source": [
    "# YOUR CODE HERE"
   ]
  },
  {
   "cell_type": "code",
   "execution_count": null,
   "metadata": {
    "collapsed": false,
    "scrolled": true
   },
   "outputs": [],
   "source": [
    "df = data_mos_to_pd(1131)"
   ]
  },
  {
   "cell_type": "code",
   "execution_count": null,
   "metadata": {
    "collapsed": false
   },
   "outputs": [],
   "source": [
    "sum(df.TariffValue)"
   ]
  },
  {
   "cell_type": "code",
   "execution_count": null,
   "metadata": {
    "collapsed": false,
    "deletable": false,
    "nbgrader": {
     "checksum": "bb8b7b4570d0a95ad7da80df5827dfc6",
     "grade": true,
     "grade_id": "pr_6_t",
     "locked": true,
     "points": 4,
     "solution": false
    }
   },
   "outputs": [],
   "source": [
    "df1964 = data_mos_to_pd(1964)\n",
    "assert df1964.loc[37338700, 'RefusedAgreedDecisionsActs'] == 6\n",
    "assert df1964.sum()['RegAppsToAgreedDecisionsAct'] == 4584\n",
    "\n",
    "df1131 = data_mos_to_pd(1131)\n",
    "assert abs(df1131.loc[19693725, 'TariffValue'] - 1.16 < 1E-5)\n",
    "assert abs(df1131.sum()['TariffValue'] - 175691.84) < 1E-5 "
   ]
  }
 ],
 "metadata": {
  "kernelspec": {
   "display_name": "Python 3",
   "language": "python",
   "name": "python3"
  },
  "language_info": {
   "codemirror_mode": {
    "name": "ipython",
    "version": 3
   },
   "file_extension": ".py",
   "mimetype": "text/x-python",
   "name": "python",
   "nbconvert_exporter": "python",
   "pygments_lexer": "ipython3",
   "version": "3.5.0"
  }
 },
 "nbformat": 4,
 "nbformat_minor": 0
}