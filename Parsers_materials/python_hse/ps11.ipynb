{
 "cells": [
  {
   "cell_type": "markdown",
   "metadata": {},
   "source": [
    "# Программирование на языке Python для сбора и анализа данных\n",
    "*Семинары ведут: Щуров И.В., Будылин Р.Я., НИУ ВШЭ*\n",
    "\n",
    "Данный notebook является набором задач по курсу \n",
    "«Программирование на языке Python для сбора и анализа данных» \n",
    "(НИУ ВШЭ, 2014-15). Распространяется по лицензии [CC BY-SA \n",
    "4.0](https://creativecommons.org/licenses/by-sa/4.0/deed.ru).\n",
    "На [странице курса](http://math-info.hse.ru/s15/m) находятся другие материалы."
   ]
  },
  {
   "cell_type": "markdown",
   "metadata": {},
   "source": [
    "## Домашнее задание №11\n",
    "За разные задачи можно получить разное число баллов. Максимум за ДЗ можно набрать 8 баллов. Вы можете решить больше задач, чем требуется, чтобы подстраховаться.\n",
    "\n",
    "Для предварительной проверки задания нужно скачать данный `ipynb`-файл на свой компьютер, открыть его в IPython Notebook/Jupyter (подробнее о том, как это сделать, см. [здесь](http://math-info.hse.ru/2015-16/%D0%9F%D1%80%D0%BE%D0%B3%D1%80%D0%B0%D0%BC%D0%BC%D0%B8%D1%80%D0%BE%D0%B2%D0%B0%D0%BD%D0%B8%D0%B5_%D0%BD%D0%B0_%D1%8F%D0%B7%D1%8B%D0%BA%D0%B5_Python_%D0%B4%D0%BB%D1%8F_%D1%81%D0%B1%D0%BE%D1%80%D0%B0_%D0%B8_%D0%B0%D0%BD%D0%B0%D0%BB%D0%B8%D0%B7%D0%B0_%D0%B4%D0%B0%D0%BD%D0%BD%D1%8B%D1%85#.D0.9A.D0.B0.D0.BA_.D0.B8.D1.81.D0.BF.D0.BE.D0.BB.D1.8C.D0.B7.D0.BE.D0.B2.D0.B0.D1.82.D1.8C)) и вставить решение каждой задачи в ячейку для кода, следующую за его условием, запустить эту ячейку, а затем запустить следующую ячейку (в ней содержится тест). Если запуск ячейки с тестом не приводит к появлению ошибки (assertion), значит, всё в порядке, задача решена. Если приводит к появлению ошибки, значит, тест не пройден и нужно искать ошибку.\n",
    "\n",
    "Чтобы сдать ДЗ, его надо будет загрузить в [nbgr-x](http://python.math-hse.info) в виде `ipynb`-файла."
   ]
  },
  {
   "cell_type": "markdown",
   "metadata": {},
   "source": [
    "Во всех задачах словом «массив» обозначается объект типа `np.array`. Везде, где не оговорено обратное, запрещается пользоваться циклами и list comprehensions!"
   ]
  },
  {
   "cell_type": "markdown",
   "metadata": {},
   "source": [
    "### Задача 1 (1 балл)\n",
    "Написать функцию `double_this(arr)`, принимающую на вход массив `arr`, состоящий из чисел, и возвращающую массив, полученный удвоением каждого элемента `arr`.\n",
    "\n",
    "**Подсказка:** Операции с массивами действуют поэлементно."
   ]
  },
  {
   "cell_type": "code",
   "execution_count": null,
   "metadata": {
    "collapsed": true,
    "deletable": false,
    "nbgrader": {
     "checksum": "56f2008ad102c7354b3f9ef0447bc55f",
     "grade": false,
     "grade_id": "pr_1",
     "locked": false,
     "solution": true
    }
   },
   "outputs": [],
   "source": [
    "# YOUR CODE HERE"
   ]
  },
  {
   "cell_type": "code",
   "execution_count": null,
   "metadata": {
    "collapsed": false,
    "deletable": false,
    "nbgrader": {
     "checksum": "217ce00dfd2255c629bd3ade0ebd1aa3",
     "grade": true,
     "grade_id": "pr_1_t",
     "locked": true,
     "points": 1,
     "solution": false
    }
   },
   "outputs": [],
   "source": [
    "from timeit import timeit\n",
    "import numpy as np\n",
    "\n",
    "def testme(f, inp, outp):\n",
    "    q = f(np.array(inp))\n",
    "    assert isinstance(q, np.ndarray), \"Функция должна возвращать массив numpy (np.array)\"\n",
    "    assert np.array_equal(q, np.array(outp)), \"Ошибка для входного списка \"+str(np.array(inp))\n",
    "def test(inp, outp):\n",
    "    testme(double_this, inp, outp)\n",
    "\n",
    "test([1, 2, 3], [2, 4, 6])\n",
    "test([1.1, 2.2, 3.3], [2.2, 4.4, 6.6])\n",
    "test([1]*10, [2]*10)\n",
    "test([1]*10+[2]*15, [2]*10+[4]*15)\n",
    "\n",
    "N = 1000000\n",
    "\n",
    "benchmark = timeit(\"[x*x for x in np.array([1]*N)]\", \"from __main__ import N, np\", number=1)\n",
    "otherbenchmark = timeit(\"double_this(np.array([1]*N))\", \n",
    "                        \"from __main__ import N, np, double_this\", number=1)\n",
    "print(benchmark, otherbenchmark)\n",
    "assert benchmark > otherbenchmark*2, \"Код работает слишком медленно — вы точно не пользовались циклами?\"\n"
   ]
  },
  {
   "cell_type": "markdown",
   "metadata": {},
   "source": [
    "### Задача 2 (1 балл)\n",
    "Написать функцию `select_even(arr)`, принимающую на вход массив целых чисел `arr` и возвращающую новый массив, который состоит из всех *чётных* элементов `arr`.\n",
    "\n",
    "**Подсказка:** напомним, что все арифметические операции, а также операции сравнения, действуют на массивы поэлементно."
   ]
  },
  {
   "cell_type": "code",
   "execution_count": null,
   "metadata": {
    "collapsed": true,
    "deletable": false,
    "nbgrader": {
     "checksum": "a93978e42e6491c3ff3e257ef3f541b5",
     "grade": false,
     "grade_id": "pr_2",
     "locked": false,
     "solution": true
    }
   },
   "outputs": [],
   "source": [
    "# YOUR CODE HERE"
   ]
  },
  {
   "cell_type": "code",
   "execution_count": null,
   "metadata": {
    "collapsed": false,
    "deletable": false,
    "nbgrader": {
     "checksum": "93fe5f58dafcf21f5424c625eb4fb562",
     "grade": true,
     "grade_id": "pr_2_t",
     "locked": true,
     "points": 1,
     "solution": false
    }
   },
   "outputs": [],
   "source": [
    "from timeit import timeit\n",
    "import numpy as np\n",
    "\n",
    "def testme(f, inp, outp):\n",
    "    q = f(np.array(inp))\n",
    "    assert isinstance(q, np.ndarray), \"Функция должна возвращать массив numpy (np.array)\"\n",
    "    assert np.array_equal(q, np.array(outp)), \"Ошибка для входного списка \"+str(np.array(inp))\n",
    "def test(inp, outp):\n",
    "    testme(select_even, inp, outp)\n",
    "    \n",
    "test([1, 2, 3, 4, 5], [2, 4])\n",
    "test([], [])\n",
    "test([1, 3, 5], [])\n",
    "test([5, 4, 3, 2, 0], [4, 2, 0])\n",
    "test([100, 200, 300, 199, 299, 150], [100, 200, 300, 150])\n",
    "\n",
    "N = 100000\n",
    "benchmark = timeit(\"[x for x in np.array([1]*N) if x*2]\", \"from __main__ import N, np\", number=1)\n",
    "otherbenchmark = timeit(\"select_even(np.array([1]*N))\", \n",
    "                        \"from __main__ import N, select_even, np\", number=1)\n",
    "print(benchmark, otherbenchmark)\n",
    "assert benchmark > otherbenchmark*2, \"Код работает слишком медленно — вы точно не пользовались циклами?\"\n",
    "# should be at least two times faster then list comprehensions"
   ]
  },
  {
   "cell_type": "markdown",
   "metadata": {},
   "source": [
    "### Задача 3 (2 балла)\n",
    "Написать функцию `wipe_even(arr, target_value, in_place)`, принимающую на вход массив целых чисел `arr`, и возвращающую массив, полученный из `arr` путём замены всех чётных элементов на  `target_value`. Если `target_value` не указано, то оно должно считаться равным числу 0. Если указан параметр `in_place` и он равен `True`, то функция должна менять исходный массив, а если не указан или указан в `False`, то сохранять его неизменным."
   ]
  },
  {
   "cell_type": "code",
   "execution_count": null,
   "metadata": {
    "collapsed": true,
    "deletable": false,
    "nbgrader": {
     "checksum": "8c983e41b2ba4fba5c317a154a59858b",
     "grade": false,
     "grade_id": "pr_3",
     "locked": false,
     "solution": true
    }
   },
   "outputs": [],
   "source": [
    "# YOUR CODE HERE"
   ]
  },
  {
   "cell_type": "code",
   "execution_count": null,
   "metadata": {
    "collapsed": false,
    "deletable": false,
    "nbgrader": {
     "checksum": "02f19764a4c1185d8749172b21e3ae23",
     "grade": true,
     "grade_id": "pr_3_t1",
     "locked": true,
     "points": 1,
     "solution": false
    }
   },
   "outputs": [],
   "source": [
    "from timeit import timeit\n",
    "import numpy as np\n",
    "\n",
    "def test(inp, outp, target=0, in_place=False):\n",
    "    inp = np.array(inp)\n",
    "    inp_backup = np.array(inp)\n",
    "    \n",
    "    q = wipe_even(inp, target, in_place)\n",
    "    assert isinstance(q, np.ndarray), \"Функция должна возвращать массив numpy (np.array)\"\n",
    "    assert np.array_equal(q, np.array(outp)), \"Ошибка для входного списка \"+str(np.array(inp))\n",
    "    if in_place:\n",
    "        assert np.array_equal(inp, np.array(outp)), \"Функция должна менять исходный список\"\n",
    "    else:\n",
    "        assert np.array_equal(inp, inp_backup), \"Исходный список должен остаться неизменным\"\n",
    "    \n",
    "test([1, 2, 3, 4, 5], [1, 0, 3, 0, 5], in_place=True)\n",
    "test([], [], in_place=True)\n",
    "test([1, 3, 5], [1, 3, 5], in_place=True)\n",
    "test([5, 4, 3, 2, 0], [5, 0, 3, 0, 0], in_place=True)\n",
    "test([100, 200, 300, 199, 299, 150], [0, 0, 0,  199, 299, 0], in_place=True)\n",
    "\n",
    "test([1, 2, 3, 4, 5], [1, 99, 3, 99, 5], target = 99, in_place=True)\n",
    "\n",
    "N = 100000\n",
    "benchmark = timeit(\"[0 if x*2 else x for x in np.array([1]*N)]\", \n",
    "                   \"from __main__ import np, N\", number=1)\n",
    "print(benchmark)\n",
    "otherbenchmark = timeit(\"wipe_even(np.array([1]*N), in_place=True)\", \n",
    "                        \"from __main__ import np, N, wipe_even\", number=1)\n",
    "print(otherbenchmark)\n",
    "assert benchmark > otherbenchmark*1.5, \"Код работает слишком медленно — вы точно не пользовались циклами?\""
   ]
  },
  {
   "cell_type": "code",
   "execution_count": null,
   "metadata": {
    "collapsed": false,
    "deletable": false,
    "nbgrader": {
     "checksum": "3fce071b8bd4fdabca357b59bd1a206b",
     "grade": true,
     "grade_id": "pr_3_t2",
     "locked": true,
     "points": 1,
     "solution": false
    }
   },
   "outputs": [],
   "source": [
    "# test not in_place behaviour now\n",
    "\n",
    "test([1, 2, 3, 4, 5], [1, 0, 3, 0, 5])\n",
    "test([], [])\n",
    "test([1, 3, 5], [1, 3, 5])\n",
    "test([5, 4, 3, 2, 0], [5, 0, 3, 0, 0])\n",
    "test([100, 200, 300, 199, 299, 150], [0, 0, 0,  199, 299, 0])"
   ]
  },
  {
   "cell_type": "markdown",
   "metadata": {},
   "source": [
    "### Задача 4 (2 балла)\n",
    "Написать функцию `weighted_sum(weights, grades, normalize)`, возвращающую взвешенную сумму оценок, записанных в массив `grades`, в соответствии с весами, записанными в массив `weights`. Например, для `weights = np.array([0.3, 0.3, 0.4])` и `grades = np.array([7, 9, 8])` функция должна вернуть число $0.3\\times 7+0.3\\times 9+0.4\\times 8=8.0$.\n",
    "\n",
    "Если параметр `normalize` установлен в `True`, а сумма всех весов отличается от 1, то следует умножить все веса на одно и то же число таким образом, чтобы их сумма была равна 1, в противном случае следует использовать веса «как есть», даже если их сумма отличается от 1. Если функция запущена без указания параметра `normalize`, следует считать, что `normalize = False`.\n",
    "\n",
    "**Подсказка:** Вам помогут функции `np.dot()` и `np.sum()`. Встроенная функция `sum()` также работает с массивами `numpy`, но гораздо медленнее (проверьте с помощью `%timeit`!) "
   ]
  },
  {
   "cell_type": "code",
   "execution_count": null,
   "metadata": {
    "collapsed": false,
    "deletable": false,
    "nbgrader": {
     "checksum": "e2b18d98a37a4c7b671f48e43f995399",
     "grade": false,
     "grade_id": "pr_4",
     "locked": false,
     "solution": true
    }
   },
   "outputs": [],
   "source": [
    "# YOUR CODE HERE"
   ]
  },
  {
   "cell_type": "code",
   "execution_count": null,
   "metadata": {
    "collapsed": false,
    "deletable": false,
    "nbgrader": {
     "checksum": "62b1220f5db8c588fe795792308e61c0",
     "grade": true,
     "grade_id": "pr_4_corr",
     "locked": true,
     "points": 1,
     "solution": false
    }
   },
   "outputs": [],
   "source": [
    "from timeit import timeit\n",
    "import numpy as np\n",
    "\n",
    "def test(w, g, out, normalize = False):\n",
    "    q = weighted_sum(np.array(w), np.array(g), normalize)\n",
    "    assert np.isclose(q, out)\n",
    "\n",
    "test([0.3, 0.3, 0.4], [7, 9, 8], 8)\n",
    "test([0.1, 0.2, 0.3, 0.4], [1, 5, 3, 2], 2.8)\n",
    "test([1, 2, 3, 4], [1, 5, 3, 2], 28)\n",
    "test([1, 2, 3, 4], [1, 5, 3, 2], 2.8, normalize=True)"
   ]
  },
  {
   "cell_type": "code",
   "execution_count": null,
   "metadata": {
    "collapsed": false,
    "deletable": false,
    "nbgrader": {
     "checksum": "baefb3a9fcf25356109b0c27bb26718a",
     "grade": true,
     "grade_id": "pr_4_perf",
     "locked": true,
     "points": 1,
     "solution": false
    }
   },
   "outputs": [],
   "source": [
    "N = 1000000\n",
    "\n",
    "test([1, 2, 3, 4], [1, 5, 3, 2], 28)\n",
    "\n",
    "benchmark = timeit(\"sum([x/x for x in np.array([1]*N)])\", \"from __main__ import N, np\", number=1)\n",
    "otherbenchmark = timeit(\"weighted_sum(np.array([1.1]*N), np.array([1]*N), True)\", \n",
    "                        \"from __main__ import N, weighted_sum, np\", number=1)\n",
    "\n",
    "print(benchmark/otherbenchmark)\n",
    "assert benchmark > otherbenchmark*1.7, \"Код работает слишком медленно — вы точно использовали методы numpy?\""
   ]
  },
  {
   "cell_type": "markdown",
   "metadata": {
    "collapsed": true
   },
   "source": [
    "### Задача 5 (2 балла)\n",
    "Написать функцию `mean_by_gender(grades, genders)`, принимающую на вход два массива одинаковой длины: в массиве `grades` записаны оценки некоторых студентов, а в массиве `genders` — их пол в виде строк `male` или `female`. Требуется вернуть словарь, ключами которого будут строки `male` и `female`, а записями — среднее арифметическое оценок студентов соответствующего пола.\n",
    "\n",
    "Например, если `grades = np.array([5, 4, 3, 5, 2])` и `genders = np.array([\"female\", \"male\", \"male\", \"female\", \"male\"])`, функция должна вернуть словарь `{'male': 3.0, 'female': 5.0}`.\n",
    "\n",
    "**Подсказка.** Для быстрого вычисления среднего есть функция `np.mean()` или соответствующий метод у объектов типа `numpy.array`."
   ]
  },
  {
   "cell_type": "code",
   "execution_count": null,
   "metadata": {
    "collapsed": true,
    "deletable": false,
    "nbgrader": {
     "checksum": "960ff9a127927506d777d84e0c4e61be",
     "grade": false,
     "grade_id": "pr_5",
     "locked": false,
     "solution": true
    }
   },
   "outputs": [],
   "source": [
    "# YOUR CODE HERE"
   ]
  },
  {
   "cell_type": "code",
   "execution_count": null,
   "metadata": {
    "collapsed": false,
    "deletable": false,
    "nbgrader": {
     "checksum": "f8328c78130bf49fe0e56ee62c1a3d32",
     "grade": true,
     "grade_id": "pr_5_t",
     "locked": true,
     "points": 2,
     "solution": false
    }
   },
   "outputs": [],
   "source": [
    "from timeit import timeit\n",
    "import numpy as np\n",
    "\n",
    "def test(grades, genders, outp):\n",
    "    ret = mean_by_gender(np.array(grades), np.array(genders))\n",
    "    assert np.isclose(ret['female'], outp['female'])\n",
    "    assert np.isclose(ret['male'], outp['male'])\n",
    "\n",
    "test([5, 4, 3, 5, 2], [\"female\", \"male\", \"male\", \"female\", \"male\"], {'male': 3.0, 'female': 5.0})\n",
    "test([1, 0]*10, ['female', 'male']*10, {'female': 1, 'male': 0})\n",
    "test(range(100), ['female', 'male']* 50, {'female': 49.0, 'male': 50.0})\n",
    "test(list(range(100))+[100], ['male']*100+['female'], {'male':49.5, 'female': 100.0})\n",
    "# mean_by_gender(np.array(range(100)), ['female', 'male']* 50)\n",
    "\n",
    "def benchmark_test(a, b):\n",
    "    xx = 0\n",
    "    yy = 0\n",
    "    im = 0\n",
    "    fi = 0\n",
    "    for x, y in zip(a, b):\n",
    "        if x != y:\n",
    "            xx += x\n",
    "            yy += x\n",
    "            im += 1\n",
    "            fi += 1\n",
    "    \n",
    "    return xx+yy\n",
    "\n",
    "N = int(1E5)\n",
    "grades = np.array([1.1]*N + [2.2]*N)\n",
    "genders = np.array(['male']*N + ['female']*N)\n",
    "\n",
    "benchmark = timeit(\"assert np.isclose(mean_by_gender(grades, genders)['male'], 1.1)\",\n",
    "                   \"from __main__ import np, mean_by_gender, grades, genders\",\n",
    "                   number=1)\n",
    "reference_benchmark = timeit(\"benchmark_test(grades, genders)\",\n",
    "                             \"from __main__ import benchmark_test, grades, genders\",\n",
    "                             number=1)\n",
    "\n",
    "assert reference_benchmark > benchmark * 10, \"Код работает слишком медленно — вы точно использовали методы numpy?\""
   ]
  },
  {
   "cell_type": "markdown",
   "metadata": {},
   "source": [
    "### Задача 6 (3 балла)\n",
    "В некотором царстве, в некотором государстве, налог на доходы физических лиц вычисляется следующим образом. Базовая ставка налога составляет 13%. Если в каком-то месяце ваш заработок за год составит больше тысячи тугриков, то на оставшуюся часть года (не включая этот месяц) устанавливается ставка в 20%. Например, если вы зарабатываете каждый месяц 150 тугриков, то к июлю заработаете $150\\times 7 = 1050$ тугриков и начиная с августа подоходный налог будет начисляться по ставке 20%. Написать функцию `calculate_tax(income)`, принимающую на вход массив, содержащий доход за каждый месяц года, начиная с первого и возвращающую общую сумму налога, который предстоит заплатить за год. Год в некотором царстве может длиться более 12 месяцев, если по этому поводу будет принят соответствующий высочайший декрет.\n",
    "\n",
    "**Подсказка.** Вам поможет функция `np.cumsum()`. Чтобы создать новый массив, длина которого равна длине какого-то другого, можно использовать функции `np.zeros_like()` или `np.ones_like()`."
   ]
  },
  {
   "cell_type": "code",
   "execution_count": null,
   "metadata": {
    "collapsed": false,
    "deletable": false,
    "nbgrader": {
     "checksum": "47a4b2ced00e1a4079d54f79f2273ee9",
     "grade": false,
     "grade_id": "pr_6",
     "locked": false,
     "solution": true
    }
   },
   "outputs": [],
   "source": [
    "# YOUR CODE HERE"
   ]
  },
  {
   "cell_type": "code",
   "execution_count": null,
   "metadata": {
    "collapsed": false,
    "deletable": false,
    "nbgrader": {
     "checksum": "7bbbb9a2ff6d3c186605591847be5ec6",
     "grade": true,
     "grade_id": "pr_6_t1",
     "locked": true,
     "points": 2,
     "solution": false
    }
   },
   "outputs": [],
   "source": [
    "from timeit import timeit\n",
    "import numpy as np\n",
    "\n",
    "assert np.isclose(calculate_tax(np.array([150]*12)), 286.5)\n",
    "assert np.isclose(calculate_tax(np.array([100]*12)), 163)\n",
    "assert np.isclose(calculate_tax(np.array([50]*12)), 78)\n",
    "assert np.isclose(calculate_tax(np.array([1000]*12)), 2260)\n",
    "\n",
    "assert np.isclose(calculate_tax(np.array(range(12))*100), 1215)\n",
    "assert np.isclose(calculate_tax(np.array(range(11,-1,-1))*100), 1243)\n"
   ]
  },
  {
   "cell_type": "code",
   "execution_count": null,
   "metadata": {
    "collapsed": false,
    "deletable": false,
    "nbgrader": {
     "checksum": "0eb7f58dd198c131a96c5cf7bc064261",
     "grade": true,
     "grade_id": "pr_6_t2",
     "locked": true,
     "points": 1,
     "solution": false
    }
   },
   "outputs": [],
   "source": [
    "def dummy(x):\n",
    "    z = 0\n",
    "    for y in x:\n",
    "        z += y\n",
    "        z += y*0.12\n",
    "        if z:\n",
    "            z += y\n",
    "    return z\n",
    "\n",
    "assert np.isclose(calculate_tax(np.array(range(12))*100), 1215)\n",
    "\n",
    "N = int(1E6)\n",
    "arr = np.array([1]*N)\n",
    "benchmark = timeit(\"calculate_tax(arr)\", \"from __main__ import calculate_tax, arr\", number=1)\n",
    "reference_benchmark = timeit(\"dummy(arr)\", \"from __main__ import dummy, arr\", number=1)\n",
    "\n",
    "assert reference_benchmark > benchmark*5, \"Код работает слишком медленно — вы точно использовали методы numpy?\""
   ]
  },
  {
   "cell_type": "code",
   "execution_count": null,
   "metadata": {
    "collapsed": true
   },
   "outputs": [],
   "source": []
  }
 ],
 "metadata": {
  "kernelspec": {
   "display_name": "Python 3",
   "language": "python",
   "name": "python3"
  },
  "language_info": {
   "codemirror_mode": {
    "name": "ipython",
    "version": 3
   },
   "file_extension": ".py",
   "mimetype": "text/x-python",
   "name": "python",
   "nbconvert_exporter": "python",
   "pygments_lexer": "ipython3",
   "version": "3.5.0"
  }
 },
 "nbformat": 4,
 "nbformat_minor": 0
}