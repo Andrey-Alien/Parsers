{
 "cells": [
  {
   "cell_type": "code",
   "execution_count": null,
   "metadata": {
    "collapsed": true
   },
   "outputs": [],
   "source": []
  },
  {
   "cell_type": "code",
   "execution_count": null,
   "metadata": {
    "collapsed": true
   },
   "outputs": [],
   "source": []
  },
  {
   "cell_type": "markdown",
   "metadata": {},
   "source": []
  },
  {
   "cell_type": "code",
   "execution_count": 104,
   "metadata": {
    "collapsed": true
   },
   "outputs": [],
   "source": [
    "token= \"d24465a1e125f57c83e39885491e73f9e4487de8faba4e82bf1288fc631543b4b691b7226d9d9b40e3a3e\"\n",
    "myid = \"6045249\"\n",
    "\n",
    "# Подгружаем уже знакомую нам библиотеку для запросов\n",
    "import requests\n",
    "\n",
    "def Vk_downloader(method,parameters,token = token):\n",
    "    url = 'https://api.vk.com/method/'+method+'?'+parameters+'&access_token='+str(token)\n",
    "    response = requests.get(url) \n",
    "    return(response.json())"
   ]
  },
  {
   "cell_type": "code",
   "execution_count": 105,
   "metadata": {
    "collapsed": false
   },
   "outputs": [
    {
     "data": {
      "text/plain": [
       "{'response': [{'first_name': 'Филипп',\n",
       "   'last_name': 'Ульянкин',\n",
       "   'uid': 6045249}]}"
      ]
     },
     "execution_count": 105,
     "metadata": {},
     "output_type": "execute_result"
    }
   ],
   "source": [
    "# Проверяем всё ли работает на своём имени.\n",
    "Vk_downloader('users.get','user_ids=6045249')"
   ]
  },
  {
   "cell_type": "markdown",
   "metadata": {},
   "source": [
    "Перед нами стоит довольно мсштабная и сложная задача. Мы должны написать код, который будет делать две вещи:\n",
    "\n",
    "* Код должен брать какого-то конкретного человека и находить все лоисы, которые он ставил в последнее время.\n",
    "* Код должен находить все лоисы, которые были поставлены этому человеку.\n",
    "\n",
    "Для простоты будем руководствоваться следующими предпосылками. Если он ставит много лайков какой-то тёлке, значит он хочет с ней переспать. Если он ставит много лайков какой-то тёлке, а какая-то тёлка ставит много лайков ему, значит они уже давно спят. Чтож! Включаем свой измухислоноделатель и вперёд! Искать измены и изменщиков. Всё, что однажды попало в интернет остаётся в интернете навечно. Точно также навечно он останется в могиле, когда мы с тобой всё узнаем...\n",
    "\n",
    "\n",
    "## 1. Его лайкатели\n",
    "\n",
    "Соберём все лайки, которые есть у нег на странице. Будем собирать лайки со стены и с фоточек.  Этого должно хватить. (ДЛЯ ЧЕГО БЛИН ХВАТИТЬ?!)\n"
   ]
  },
  {
   "cell_type": "code",
   "execution_count": 112,
   "metadata": {
    "collapsed": true
   },
   "outputs": [],
   "source": [
    "his_id = \"87385777\""
   ]
  },
  {
   "cell_type": "markdown",
   "metadata": {},
   "source": [
    "Собираем id всех людей, которые лайкнули его стену и время, в которое они это сделали. Будем собирать информацию годовой свежести. Сначала собираем стену. С неё нам потребуются id записи и время, когда она была размещена.  "
   ]
  },
  {
   "cell_type": "code",
   "execution_count": 113,
   "metadata": {
    "collapsed": false
   },
   "outputs": [
    {
     "data": {
      "text/plain": [
       "51"
      ]
     },
     "execution_count": 113,
     "metadata": {},
     "output_type": "execute_result"
    }
   ],
   "source": [
    "# Число записей на стене:\n",
    "n = Vk_downloader('wall.get','owner_id='+his_id)['response'][0]\n",
    "n"
   ]
  },
  {
   "cell_type": "code",
   "execution_count": 114,
   "metadata": {
    "collapsed": false
   },
   "outputs": [
    {
     "data": {
      "text/plain": [
       "0"
      ]
     },
     "execution_count": 114,
     "metadata": {},
     "output_type": "execute_result"
    }
   ],
   "source": [
    "n // 100"
   ]
  },
  {
   "cell_type": "code",
   "execution_count": 116,
   "metadata": {
    "collapsed": false
   },
   "outputs": [
    {
     "data": {
      "text/plain": [
       "51"
      ]
     },
     "execution_count": 116,
     "metadata": {},
     "output_type": "execute_result"
    }
   ],
   "source": [
    "chto_on_postit =  [ ]\n",
    "for i in range(0,100*(n//100+1),100):\n",
    "    wall = Vk_downloader('wall.get','owner_id='+his_id+'&count=100&offset='+str(i))['response']\n",
    "    chto_on_postit.extend([[item['id'],item['date']] for item in wall[1:]])\n",
    "\n",
    "len(chto_on_postit)"
   ]
  },
  {
   "cell_type": "markdown",
   "metadata": {},
   "source": [
    "Стена у нас. Теперь возьмём кажду запись и посмотрим на id тех, кто лайкал её."
   ]
  },
  {
   "cell_type": "code",
   "execution_count": 120,
   "metadata": {
    "collapsed": false
   },
   "outputs": [
    {
     "data": {
      "text/plain": [
       "{'response': {'count': 13,\n",
       "  'users': [1119778,\n",
       "   11983762,\n",
       "   12169511,\n",
       "   12332013,\n",
       "   15598144,\n",
       "   31645230,\n",
       "   33063426,\n",
       "   53874035,\n",
       "   56141079,\n",
       "   195518047,\n",
       "   346502968,\n",
       "   356502688,\n",
       "   393881886]}}"
      ]
     },
     "execution_count": 120,
     "metadata": {},
     "output_type": "execute_result"
    }
   ],
   "source": [
    "Vk_downloader('likes.getList','type=post&owner_id='+his_id+'&item_id='+str(chto_on_postit[1][0]))"
   ]
  },
  {
   "cell_type": "markdown",
   "metadata": {},
   "source": [
    "Собираем информацию о всех записях со стены."
   ]
  },
  {
   "cell_type": "code",
   "execution_count": 121,
   "metadata": {
    "collapsed": false
   },
   "outputs": [
    {
     "data": {
      "text/plain": [
       "[[1351158707,\n",
       "  [324191161,\n",
       "   3725990,\n",
       "   4910969,\n",
       "   8704213,\n",
       "   8987491,\n",
       "   15598144,\n",
       "   18319207,\n",
       "   23163529,\n",
       "   25386440,\n",
       "   31645230,\n",
       "   36076632,\n",
       "   45062739,\n",
       "   50326247,\n",
       "   53874035,\n",
       "   54132581,\n",
       "   56141079,\n",
       "   71554513,\n",
       "   75268658,\n",
       "   90693963,\n",
       "   96155503,\n",
       "   98271934,\n",
       "   98732311,\n",
       "   112104602,\n",
       "   153737703,\n",
       "   175275930,\n",
       "   178107745,\n",
       "   180112558]],\n",
       " [1350764396, [31645230, 87385777, 142031968]],\n",
       " [1345129215,\n",
       "  [21345871,\n",
       "   22765047,\n",
       "   40267069,\n",
       "   41415965,\n",
       "   52726745,\n",
       "   53874035,\n",
       "   63813664,\n",
       "   87385777,\n",
       "   110391696]]]"
      ]
     },
     "execution_count": 121,
     "metadata": {},
     "output_type": "execute_result"
    }
   ],
   "source": [
    "wall_likes = [ ]\n",
    "for item in chto_on_postit:\n",
    "    a = Vk_downloader('likes.getList','type=post&owner_id='+his_id+'&item_id='+str(item[0]))\n",
    "    wall_likes.append([item[1],a['response']['users']])\n",
    "    \n",
    "wall_likes[-3:]"
   ]
  },
  {
   "cell_type": "markdown",
   "metadata": {},
   "source": [
    "Обратим свой взор на собранное нами время постов. В этот вектор попали какие-то странные цифры. Эти цифры означают количество секунд, которое прошло с 1970 года. При парсинге вам часто предстоит сталкиваться с таким форматом записи времени."
   ]
  },
  {
   "cell_type": "code",
   "execution_count": 130,
   "metadata": {
    "collapsed": false
   },
   "outputs": [
    {
     "data": {
      "text/plain": [
       "1431361204"
      ]
     },
     "execution_count": 130,
     "metadata": {},
     "output_type": "execute_result"
    }
   ],
   "source": [
    "wall_likes[0][0]"
   ]
  },
  {
   "cell_type": "markdown",
   "metadata": {},
   "source": [
    "Модуль `datetime` позволяет работать с датами и временем. В том числе он позволяет перевести секунды в нормальный формат."
   ]
  },
  {
   "cell_type": "code",
   "execution_count": 127,
   "metadata": {
    "collapsed": false
   },
   "outputs": [
    {
     "data": {
      "text/plain": [
       "'2016-08-29 18:29:13'"
      ]
     },
     "execution_count": 127,
     "metadata": {},
     "output_type": "execute_result"
    }
   ],
   "source": [
    "import datetime\n",
    "datetime.datetime.fromtimestamp(1472484553).strftime('%Y-%m-%d %H:%M:%S')"
   ]
  },
  {
   "cell_type": "code",
   "execution_count": 134,
   "metadata": {
    "collapsed": false
   },
   "outputs": [
    {
     "data": {
      "text/plain": [
       "'2016-08-29'"
      ]
     },
     "execution_count": 134,
     "metadata": {},
     "output_type": "execute_result"
    }
   ],
   "source": [
    "datetime.datetime.fromtimestamp(1472484553).strftime('%Y-%m-%d')"
   ]
  },
  {
   "cell_type": "code",
   "execution_count": 139,
   "metadata": {
    "collapsed": false
   },
   "outputs": [
    {
     "data": {
      "text/plain": [
       "'08-29'"
      ]
     },
     "execution_count": 139,
     "metadata": {},
     "output_type": "execute_result"
    }
   ],
   "source": [
    "datetime.datetime.fromtimestamp(1472484553).strftime('%m-%d')"
   ]
  },
  {
   "cell_type": "markdown",
   "metadata": {},
   "source": [
    "Можно обрубить время до того состояния, которое нам нужно и перевести в текстовый формат. Также можно скоадывать и вычитать даты. Например."
   ]
  },
  {
   "cell_type": "code",
   "execution_count": 148,
   "metadata": {
    "collapsed": false
   },
   "outputs": [
    {
     "name": "stdout",
     "output_type": "stream",
     "text": [
      "2016-08-29 18:29:13\n",
      "2007-02-26 13:09:13\n"
     ]
    },
    {
     "data": {
      "text/plain": [
       "3472"
      ]
     },
     "execution_count": 148,
     "metadata": {},
     "output_type": "execute_result"
    }
   ],
   "source": [
    "dt1 = datetime.datetime.fromtimestamp(1472484553)\n",
    "dt2 = datetime.datetime.fromtimestamp(1172484553)\n",
    "print(dt1.strftime('%Y-%m-%d %H:%M:%S'))\n",
    "print(dt2.strftime('%Y-%m-%d %H:%M:%S'))\n",
    "dt3 = dt1 - dt2\n",
    "dt3.days"
   ]
  },
  {
   "cell_type": "code",
   "execution_count": null,
   "metadata": {
    "collapsed": true
   },
   "outputs": [],
   "source": []
  },
  {
   "cell_type": "code",
   "execution_count": null,
   "metadata": {
    "collapsed": true
   },
   "outputs": [],
   "source": []
  },
  {
   "cell_type": "code",
   "execution_count": null,
   "metadata": {
    "collapsed": true
   },
   "outputs": [],
   "source": []
  },
  {
   "cell_type": "markdown",
   "metadata": {},
   "source": [
    "Собираем id всех людей, которые лайкнули его фотки и время, когда фото было опубликовано."
   ]
  },
  {
   "cell_type": "code",
   "execution_count": 103,
   "metadata": {
    "collapsed": false
   },
   "outputs": [
    {
     "data": {
      "text/plain": [
       "[235698536,\n",
       " 235422333,\n",
       " 234565119,\n",
       " 231698970,\n",
       " 220214180,\n",
       " 219249629,\n",
       " 215459702,\n",
       " 176201807,\n",
       " 174855244,\n",
       " 112238015]"
      ]
     },
     "execution_count": 103,
     "metadata": {},
     "output_type": "execute_result"
    }
   ],
   "source": [
    "# Все айдишники альбомов: \n",
    "albums = [item['aid'] for item in Vk_downloader('photos.getAlbums','owner_id='+his_id)['response']]\n",
    "albums"
   ]
  },
  {
   "cell_type": "code",
   "execution_count": 67,
   "metadata": {
    "collapsed": false
   },
   "outputs": [
    {
     "data": {
      "text/plain": [
       "{'aid': 235698536,\n",
       " 'created': 1472484553,\n",
       " 'height': 1707,\n",
       " 'owner_id': 10592581,\n",
       " 'pid': 431139714,\n",
       " 'src': 'https://pp.userapi.com/c637430/v637430581/7695/53uLqS8_MoA.jpg',\n",
       " 'src_big': 'https://pp.userapi.com/c637430/v637430581/7696/dqjz9S35T2s.jpg',\n",
       " 'src_small': 'https://pp.userapi.com/c637430/v637430581/7694/fI0hCs3Jem0.jpg',\n",
       " 'src_xbig': 'https://pp.userapi.com/c637430/v637430581/7697/xfAmteKcR0Q.jpg',\n",
       " 'src_xxbig': 'https://pp.userapi.com/c637430/v637430581/7698/eKrueDx4T60.jpg',\n",
       " 'src_xxxbig': 'https://pp.userapi.com/c637430/v637430581/7699/FsiCf_iTMFY.jpg',\n",
       " 'text': '',\n",
       " 'width': 2560}"
      ]
     },
     "execution_count": 67,
     "metadata": {},
     "output_type": "execute_result"
    }
   ],
   "source": [
    "# Фото из конкретного альбома\n",
    "Vk_downloader('photos.get','owner_id='+his_id+'&album_id=235698536')['response'][0]"
   ]
  },
  {
   "cell_type": "code",
   "execution_count": 80,
   "metadata": {
    "collapsed": false
   },
   "outputs": [
    {
     "name": "stdout",
     "output_type": "stream",
     "text": [
      "176201807\n",
      "174855244\n",
      "112238015\n"
     ]
    }
   ],
   "source": [
    "# Вытаскиваем айдишники всех фоток из всех альбомов, а также время когда фотка была залита. \n",
    "# К некоторым альбомам нам отказано в доступе... К каким не очень понятно.\n",
    "\n",
    "photo_ids = [ ]\n",
    "for alb in albums:\n",
    "    try:\n",
    "        cur = Vk_downloader('photos.get','owner_id='+his_id+'&album_id='+str(alb))['response']\n",
    "        ids = [[item['pid'],item['created']] for item in cur]\n",
    "        photo_ids.extend(ids)\n",
    "    except Exception:\n",
    "        print(alb)"
   ]
  },
  {
   "cell_type": "code",
   "execution_count": 82,
   "metadata": {
    "collapsed": false
   },
   "outputs": [
    {
     "data": {
      "text/plain": [
       "1487"
      ]
     },
     "execution_count": 82,
     "metadata": {},
     "output_type": "execute_result"
    }
   ],
   "source": [
    "# Количество фоточек\n",
    "len(photo_ids)"
   ]
  },
  {
   "cell_type": "markdown",
   "metadata": {},
   "source": [
    "Собираем всю информацию о лайках под фотками за последнее время."
   ]
  },
  {
   "cell_type": "code",
   "execution_count": 91,
   "metadata": {
    "collapsed": false
   },
   "outputs": [
    {
     "data": {
      "text/plain": [
       "{'response': {'count': 0, 'users': []}}"
      ]
     },
     "execution_count": 91,
     "metadata": {},
     "output_type": "execute_result"
    }
   ],
   "source": [
    "Vk_downloader('likes.getList','type=photo&owner_id='+his_id+'&item_id='+str(photo_ids[0][0]))"
   ]
  },
  {
   "cell_type": "code",
   "execution_count": 92,
   "metadata": {
    "collapsed": false
   },
   "outputs": [
    {
     "data": {
      "text/plain": [
       "[]"
      ]
     },
     "execution_count": 92,
     "metadata": {},
     "output_type": "execute_result"
    }
   ],
   "source": [
    "photo_likes = [ ]\n",
    "for item in photo_ids:\n",
    "    a = Vk_downloader('likes.getList','type=photo&owner_id='+his_id+'&item_id='+str(item[0]))\n",
    "    wall_likes.append([item[1],a['response']['users']])\n",
    "    \n",
    "photo_likes[-3:]"
   ]
  },
  {
   "cell_type": "markdown",
   "metadata": {},
   "source": [
    "## 2. Кого он лайкает\n",
    "\n",
    "Он может быть очень хитрым. Вполне возможно, что он скрыл из списка своих друзей всех тех (ну вы поняли), чтобы конкретно ТЫ, моя милая воображалка, не нашла их. Нам нужно собрать id всех друзей его друзей. На всякий случай соберём в дополнение id всех друзей друзей его друзей. Найдём у всех этих множеств пересечение. Это будет список подозреваемых. \n",
    "\n",
    "Код для ультра-хардкорной рекурсивной процедуры сбора друзей друзей друзей от друзей друзей друзей можно найти в [соответствующей статейке на хабре.](https://habrahabr.ru/post/243229/)"
   ]
  },
  {
   "cell_type": "code",
   "execution_count": null,
   "metadata": {
    "collapsed": false
   },
   "outputs": [],
   "source": []
  },
  {
   "cell_type": "code",
   "execution_count": null,
   "metadata": {
    "collapsed": true
   },
   "outputs": [],
   "source": []
  },
  {
   "cell_type": "code",
   "execution_count": null,
   "metadata": {
    "collapsed": true
   },
   "outputs": [],
   "source": []
  },
  {
   "cell_type": "markdown",
   "metadata": {},
   "source": [
    "Отлично! Мы на шаг ближе к разоблачению этого изменщика. Пришло время собирать лайки. Нас интересует лайк вполне конкретного человека. ЕГО ЛАЙК. Для нас достаточным было бы просто взять и записать все его лайки. Остальные лайки нас не волнуют. \n",
    "\n",
    "Однако запишем и их тоже, чтобы в самом конце скрипта запилить парочку красивых визуализаций. Все его лайки будем помещать в отдельный словарь. "
   ]
  },
  {
   "cell_type": "code",
   "execution_count": null,
   "metadata": {
    "collapsed": true
   },
   "outputs": [],
   "source": []
  },
  {
   "cell_type": "code",
   "execution_count": null,
   "metadata": {
    "collapsed": true
   },
   "outputs": [],
   "source": []
  },
  {
   "cell_type": "code",
   "execution_count": null,
   "metadata": {
    "collapsed": true
   },
   "outputs": [],
   "source": []
  },
  {
   "cell_type": "code",
   "execution_count": null,
   "metadata": {
    "collapsed": true
   },
   "outputs": [],
   "source": []
  },
  {
   "cell_type": "markdown",
   "metadata": {},
   "source": [
    "Все предположительные лайки предположительным... (ну вы поняли) собраны. Пришло время безжалостного и объективного анализа данных.\n",
    "\n",
    "\n",
    "## 3. Проверка пары гипотез\n",
    "\n",
    "Пока у нас окончательно не разыгрался синдром поиска измены, проверим парочку интересных гипотез.\n",
    "\n",
    "* Гипотеза 1: взаимные лайки с какой вероятностью на лайк в течение 30 минут следует ответный лайк? \n",
    "* Гипотеза 2: в какое время суток парни лайкают дам\n",
    "* Гипотеза 3: в какое время суток дамы лайкают парней\n",
    "* Гипотеза 4: в какие дни недели ставятся лайки\n",
    "* Гипотеза 5: \n",
    "\n"
   ]
  },
  {
   "cell_type": "code",
   "execution_count": null,
   "metadata": {
    "collapsed": true
   },
   "outputs": [],
   "source": []
  },
  {
   "cell_type": "code",
   "execution_count": null,
   "metadata": {
    "collapsed": true
   },
   "outputs": [],
   "source": []
  },
  {
   "cell_type": "markdown",
   "metadata": {},
   "source": [
    "## 4.  Взаимные лайки\n",
    "\n",
    " "
   ]
  },
  {
   "cell_type": "code",
   "execution_count": null,
   "metadata": {
    "collapsed": true
   },
   "outputs": [],
   "source": []
  },
  {
   "cell_type": "code",
   "execution_count": null,
   "metadata": {
    "collapsed": true
   },
   "outputs": [],
   "source": []
  },
  {
   "cell_type": "code",
   "execution_count": null,
   "metadata": {
    "collapsed": true
   },
   "outputs": [],
   "source": []
  },
  {
   "cell_type": "code",
   "execution_count": null,
   "metadata": {
    "collapsed": true
   },
   "outputs": [],
   "source": []
  },
  {
   "cell_type": "code",
   "execution_count": null,
   "metadata": {
    "collapsed": true
   },
   "outputs": [],
   "source": []
  },
  {
   "cell_type": "code",
   "execution_count": null,
   "metadata": {
    "collapsed": true
   },
   "outputs": [],
   "source": []
  },
  {
   "cell_type": "code",
   "execution_count": null,
   "metadata": {
    "collapsed": true
   },
   "outputs": [],
   "source": []
  },
  {
   "cell_type": "code",
   "execution_count": null,
   "metadata": {
    "collapsed": true
   },
   "outputs": [],
   "source": []
  },
  {
   "cell_type": "code",
   "execution_count": null,
   "metadata": {
    "collapsed": true
   },
   "outputs": [],
   "source": []
  },
  {
   "cell_type": "code",
   "execution_count": null,
   "metadata": {
    "collapsed": true
   },
   "outputs": [],
   "source": []
  },
  {
   "cell_type": "code",
   "execution_count": null,
   "metadata": {
    "collapsed": true
   },
   "outputs": [],
   "source": []
  }
 ],
 "metadata": {
  "kernelspec": {
   "display_name": "Python 3",
   "language": "python",
   "name": "python3"
  },
  "language_info": {
   "codemirror_mode": {
    "name": "ipython",
    "version": 3
   },
   "file_extension": ".py",
   "mimetype": "text/x-python",
   "name": "python",
   "nbconvert_exporter": "python",
   "pygments_lexer": "ipython3",
   "version": "3.5.2"
  }
 },
 "nbformat": 4,
 "nbformat_minor": 1
}
