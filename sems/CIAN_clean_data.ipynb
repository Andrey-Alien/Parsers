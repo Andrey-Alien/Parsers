{
 "cells": [
  {
   "cell_type": "markdown",
   "metadata": {},
   "source": [
    "\n",
    "<img src=\"https://www.python.org/static/community_logos/python-logo-generic.svg\" height=\"500\" width=\"500\"> \n",
    "\n",
    "# <center> Грабёж, разбой и другие незаконные деяния с помощью Python. <br> <br> Завершаем наше первое дело. Шаг второй. Отмываем ЦИАН.   </center>\n",
    "---------"
   ]
  },
  {
   "cell_type": "markdown",
   "metadata": {},
   "source": [
    "Данные заботливо распиханы нами по колоночкам и закутаны в csv-файлик. Однако есть одна важная проблема. Данные, которые мы скачали - грязные! Необходимо их как следуюет отмыть.\n",
    "\n",
    "<img align=\"center\" src=\"https://raw.githubusercontent.com/FUlyankin/Parsers/master/images%20/otmyivanie-deneg-cherez-bankovskie-kartyi.jpg\" height=\"400\" width=\"400\"> \n",
    "\n",
    "\n",
    "Обычно работа специалиста по анализу данных делится на два этапа: \n",
    "\n",
    "1. Сбор данных и постройка фич\n",
    "2. Оценка моделей\n",
    "\n",
    "Как вы уже поняли, больше всего времени обычно тратится на первый этап. В этой тетрадке мы попытаемся отмыть данные, а также поговорим о библиотеке `Pandas`, которая позволяет работать с датафреймами и о работе с переменными типа `str`. \n",
    "\n",
    "## 1. Pandas и регулярные выражения\n",
    "\n",
    "\n",
    "<img align=\"center\" src=\"https://raw.githubusercontent.com/FUlyankin/Parsers/master/images%20/pandas.jpg\" height=\"600\" width=\"600\"> \n",
    " \n",
    "`Pandas` - это пакет для работы с датафреймами. Вне всяких сомнений, `Pandas` - очень классная штука. Мы часто в ходе наших семинаров будем им пользоваться.\n",
    "\n",
    "Где узнать больше про `Pandas`? \n",
    "\n",
    "* В первую очередь нужно посмотреть [тетрадку от  OpenDataScience (ODS) сообщества по Pandas](  https://habrahabr.ru/company/ods/blog/322626/). Именно эти ребята устраивают каждый год Datafest. В этом году они запустили на Хабре цикл статей по практическому анализу данных и машинному обучени. Цикл ещё не закончен. Всем, кто хочет в анализ данных рекомендую почитать. \n",
    "\n",
    "* `Pandas` постижим. Если вы хотите научиться использовать этот пакет, просто посмотреть тетрадки будет недостаточно. Нужно проделать самостоятельно пару упражнений с таблицами. В той же самой статье на хабре есть хорошая домашка по Pandas. К ней прилагается решение. Если вы просто смотрите на код, а не сами пытаетесь его написать, ВЫ НИКОГДА НЕ СМОЖЕТЕ ПИСАТЬ КОД! \n",
    "\n",
    "* [Официальная документация Pandas](http://pandas.pydata.org/pandas-docs/stable/index.html). Помните, что документация наш друг. Если вы забыли как что-то делается или не знали как что-то делается, всегда можно найти ответы в хорошей документации. В частности, можно почитать неплохое введение [10 minutes to pandas](http://pandas.pydata.org/pandas-docs/stable/10min.html).\n",
    "\n",
    "* [PDF-шпаргалка по библиотеке](https://github.com/pandas-dev/pandas/blob/master/doc/cheatsheet/Pandas_Cheat_Sheet.pdf)\n",
    "\n",
    "* [Отличная презентация Александра Дьяконова «Знакомство с Pandas»](https://alexanderdyakonov.wordpress.com/2015/11/06/%D0%B7%D0%BD%D0%B0%D0%BA%D0%BE%D0%BC%D1%81%D1%82%D0%B2%D0%BE-%D1%81-pandas-%D1%81%D0%BB%D0%B0%D0%B9%D0%B4%D1%8B/)\n",
    "\n",
    "* На гитхабе есть [подборка упражнений по Pandas](https://github.com/guipsamora/pandas_exercises/) и еще один [полезный репозиторий](https://github.com/TomAugspurger/effective-pandas) (на английском языке),,\n",
    "\n",
    "P.S. Я не просто тупо скопировал все эти ссылки из статьи на Хабре. На самом деле я большую часть этих материалов просмотрел! \n",
    "\n",
    "\n",
    "Итак, подгружаем пакеты, а также наши грязные данные..."
   ]
  },
  {
   "cell_type": "code",
   "execution_count": 142,
   "metadata": {
    "collapsed": false
   },
   "outputs": [
    {
     "data": {
      "text/html": [
       "<div>\n",
       "<table border=\"1\" class=\"dataframe\">\n",
       "  <thead>\n",
       "    <tr style=\"text-align: right;\">\n",
       "      <th></th>\n",
       "      <th>Балкон:</th>\n",
       "      <th>Вид из окна:</th>\n",
       "      <th>Высота потолков:</th>\n",
       "      <th>Год постройки:</th>\n",
       "      <th>До метро</th>\n",
       "      <th>Жилая площадь:</th>\n",
       "      <th>Координаты</th>\n",
       "      <th>Лифт:</th>\n",
       "      <th>Метро</th>\n",
       "      <th>Общая площадь:</th>\n",
       "      <th>Отделка:</th>\n",
       "      <th>Парковка:</th>\n",
       "      <th>Площадь комнат:</th>\n",
       "      <th>Площадь кухни:</th>\n",
       "      <th>Раздельных санузлов:</th>\n",
       "      <th>Ремонт:</th>\n",
       "      <th>Санузел:</th>\n",
       "      <th>Сдача ГК:</th>\n",
       "      <th>Совмещенных санузлов:</th>\n",
       "      <th>Статус помещения:</th>\n",
       "      <th>Телефон:</th>\n",
       "      <th>Тип дома:</th>\n",
       "      <th>Тип продажи:</th>\n",
       "      <th>Цена</th>\n",
       "      <th>Этаж:</th>\n",
       "    </tr>\n",
       "  </thead>\n",
       "  <tbody>\n",
       "    <tr>\n",
       "      <th>1</th>\n",
       "      <td>–</td>\n",
       "      <td>двор</td>\n",
       "      <td>3,50 м</td>\n",
       "      <td>2012.0</td>\n",
       "      <td>4\\n                мин.\\n                \\n   ...</td>\n",
       "      <td>121,7 м2</td>\n",
       "      <td>[37.653703,55.744738]</td>\n",
       "      <td>2 пасс. + 2 груз.</td>\n",
       "      <td>Таганская,</td>\n",
       "      <td>194,7 м2</td>\n",
       "      <td>NaN</td>\n",
       "      <td>подземная</td>\n",
       "      <td>21,1-35,43-41,48-23,73 м2</td>\n",
       "      <td>22 м2</td>\n",
       "      <td>NaN</td>\n",
       "      <td>отсутствует</td>\n",
       "      <td>NaN</td>\n",
       "      <td>NaN</td>\n",
       "      <td>3.0</td>\n",
       "      <td>NaN</td>\n",
       "      <td>NaN</td>\n",
       "      <td>вторичка</td>\n",
       "      <td>свободная</td>\n",
       "      <td>123 000 000 руб.</td>\n",
       "      <td>7 / 9</td>\n",
       "    </tr>\n",
       "    <tr>\n",
       "      <th>2</th>\n",
       "      <td>1 балк.</td>\n",
       "      <td>улица</td>\n",
       "      <td>NaN</td>\n",
       "      <td>NaN</td>\n",
       "      <td>10\\n                мин.\\n                \\n  ...</td>\n",
       "      <td>30,1 м2</td>\n",
       "      <td>[37.414421,55.633661]</td>\n",
       "      <td>1 пасс. + 1 груз.</td>\n",
       "      <td>Саларьево,</td>\n",
       "      <td>54,0 м2</td>\n",
       "      <td>NaN</td>\n",
       "      <td>NaN</td>\n",
       "      <td>15.78-14.29 м2</td>\n",
       "      <td>9,2 м2</td>\n",
       "      <td>1.0</td>\n",
       "      <td>NaN</td>\n",
       "      <td>NaN</td>\n",
       "      <td>3 кв. 2017 года</td>\n",
       "      <td>NaN</td>\n",
       "      <td>NaN</td>\n",
       "      <td>NaN</td>\n",
       "      <td>новостройка, \\n            панельный дом</td>\n",
       "      <td>свободная</td>\n",
       "      <td>5 579 537 руб.</td>\n",
       "      <td>3 / 21</td>\n",
       "    </tr>\n",
       "    <tr>\n",
       "      <th>3</th>\n",
       "      <td>1 лодж.</td>\n",
       "      <td>улица</td>\n",
       "      <td>2,64 м</td>\n",
       "      <td>1965.0</td>\n",
       "      <td>16\\n                мин.\\n                \\n  ...</td>\n",
       "      <td>17 м2</td>\n",
       "      <td>[37.554987,55.871930]</td>\n",
       "      <td>1 пасс.</td>\n",
       "      <td>Петровско-Разумовская,</td>\n",
       "      <td>33 м2</td>\n",
       "      <td>NaN</td>\n",
       "      <td>наземная</td>\n",
       "      <td>17 м2</td>\n",
       "      <td>7 м2</td>\n",
       "      <td>NaN</td>\n",
       "      <td>евроремонт</td>\n",
       "      <td>NaN</td>\n",
       "      <td>NaN</td>\n",
       "      <td>1.0</td>\n",
       "      <td>NaN</td>\n",
       "      <td>да</td>\n",
       "      <td>вторичка</td>\n",
       "      <td>свободная</td>\n",
       "      <td>5 200 000 руб.</td>\n",
       "      <td>5 / 9</td>\n",
       "    </tr>\n",
       "    <tr>\n",
       "      <th>4</th>\n",
       "      <td>–</td>\n",
       "      <td>–</td>\n",
       "      <td>NaN</td>\n",
       "      <td>NaN</td>\n",
       "      <td>25\\n                мин.\\n                \\n  ...</td>\n",
       "      <td>26 м2</td>\n",
       "      <td>[37.322593,55.648382]</td>\n",
       "      <td>–</td>\n",
       "      <td>Киевская,</td>\n",
       "      <td>29 м2</td>\n",
       "      <td>NaN</td>\n",
       "      <td>наземная</td>\n",
       "      <td>26 м2</td>\n",
       "      <td>–</td>\n",
       "      <td>NaN</td>\n",
       "      <td>отсутствует</td>\n",
       "      <td>NaN</td>\n",
       "      <td>NaN</td>\n",
       "      <td>1.0</td>\n",
       "      <td>NaN</td>\n",
       "      <td>NaN</td>\n",
       "      <td>вторичка</td>\n",
       "      <td>свободная</td>\n",
       "      <td>1 440 000 руб.</td>\n",
       "      <td>3 / 3</td>\n",
       "    </tr>\n",
       "    <tr>\n",
       "      <th>5</th>\n",
       "      <td>–</td>\n",
       "      <td>–</td>\n",
       "      <td>2,64 м</td>\n",
       "      <td>1972.0</td>\n",
       "      <td>16\\n                мин.\\n                \\n  ...</td>\n",
       "      <td>10 м2</td>\n",
       "      <td>[37.617986,55.606690]</td>\n",
       "      <td>–</td>\n",
       "      <td>Пражская,</td>\n",
       "      <td>12 м2</td>\n",
       "      <td>NaN</td>\n",
       "      <td>NaN</td>\n",
       "      <td>10 м2</td>\n",
       "      <td>–</td>\n",
       "      <td>NaN</td>\n",
       "      <td>отсутствует</td>\n",
       "      <td>NaN</td>\n",
       "      <td>NaN</td>\n",
       "      <td>1.0</td>\n",
       "      <td>NaN</td>\n",
       "      <td>NaN</td>\n",
       "      <td>вторичка</td>\n",
       "      <td>свободная</td>\n",
       "      <td>1 540 000 руб.</td>\n",
       "      <td>1 / 9</td>\n",
       "    </tr>\n",
       "  </tbody>\n",
       "</table>\n",
       "</div>"
      ],
      "text/plain": [
       "   Балкон: Вид из окна: Высота потолков:  Год постройки:  \\\n",
       "1        –         двор           3,50 м          2012.0   \n",
       "2  1 балк.        улица              NaN             NaN   \n",
       "3  1 лодж.        улица           2,64 м          1965.0   \n",
       "4        –            –              NaN             NaN   \n",
       "5        –            –           2,64 м          1972.0   \n",
       "\n",
       "                                            До метро Жилая площадь:  \\\n",
       "1  4\\n                мин.\\n                \\n   ...       121,7 м2   \n",
       "2  10\\n                мин.\\n                \\n  ...        30,1 м2   \n",
       "3  16\\n                мин.\\n                \\n  ...          17 м2   \n",
       "4  25\\n                мин.\\n                \\n  ...          26 м2   \n",
       "5  16\\n                мин.\\n                \\n  ...          10 м2   \n",
       "\n",
       "              Координаты              Лифт:                   Метро  \\\n",
       "1  [37.653703,55.744738]  2 пасс. + 2 груз.              Таганская,   \n",
       "2  [37.414421,55.633661]  1 пасс. + 1 груз.              Саларьево,   \n",
       "3  [37.554987,55.871930]            1 пасс.  Петровско-Разумовская,   \n",
       "4  [37.322593,55.648382]                  –               Киевская,   \n",
       "5  [37.617986,55.606690]                  –               Пражская,   \n",
       "\n",
       "  Общая площадь: Отделка:  Парковка:            Площадь комнат:  \\\n",
       "1       194,7 м2      NaN  подземная  21,1-35,43-41,48-23,73 м2   \n",
       "2        54,0 м2      NaN        NaN             15.78-14.29 м2   \n",
       "3          33 м2      NaN   наземная                      17 м2   \n",
       "4          29 м2      NaN   наземная                      26 м2   \n",
       "5          12 м2      NaN        NaN                      10 м2   \n",
       "\n",
       "  Площадь кухни:  Раздельных санузлов:      Ремонт: Санузел:        Сдача ГК:  \\\n",
       "1          22 м2                   NaN  отсутствует      NaN              NaN   \n",
       "2         9,2 м2                   1.0          NaN      NaN  3 кв. 2017 года   \n",
       "3           7 м2                   NaN   евроремонт      NaN              NaN   \n",
       "4              –                   NaN  отсутствует      NaN              NaN   \n",
       "5              –                   NaN  отсутствует      NaN              NaN   \n",
       "\n",
       "   Совмещенных санузлов: Статус помещения: Телефон:  \\\n",
       "1                    3.0               NaN      NaN   \n",
       "2                    NaN               NaN      NaN   \n",
       "3                    1.0               NaN       да   \n",
       "4                    1.0               NaN      NaN   \n",
       "5                    1.0               NaN      NaN   \n",
       "\n",
       "                                  Тип дома: Тип продажи:              Цена  \\\n",
       "1                                  вторичка    свободная  123 000 000 руб.   \n",
       "2  новостройка, \\n            панельный дом    свободная    5 579 537 руб.   \n",
       "3                                  вторичка    свободная    5 200 000 руб.   \n",
       "4                                  вторичка    свободная    1 440 000 руб.   \n",
       "5                                  вторичка    свободная    1 540 000 руб.   \n",
       "\n",
       "    Этаж:  \n",
       "1   7 / 9  \n",
       "2  3 / 21  \n",
       "3   5 / 9  \n",
       "4   3 / 3  \n",
       "5   1 / 9  "
      ]
     },
     "execution_count": 142,
     "metadata": {},
     "output_type": "execute_result"
    }
   ],
   "source": [
    "import pandas as pd\n",
    "data = pd.read_csv('CIAN_data.csv', header=0, sep=',' ,index_col=0)\n",
    "\n",
    "# Взглянем на нашу табличку!\n",
    "data.head()"
   ]
  },
  {
   "cell_type": "markdown",
   "metadata": {},
   "source": [
    "Немного поизучаем нашу табличку. Например, выясним какая у неё размерность"
   ]
  },
  {
   "cell_type": "code",
   "execution_count": 3,
   "metadata": {
    "collapsed": false
   },
   "outputs": [
    {
     "data": {
      "text/plain": [
       "(5572, 25)"
      ]
     },
     "execution_count": 3,
     "metadata": {},
     "output_type": "execute_result"
    }
   ],
   "source": [
    "data.shape"
   ]
  },
  {
   "cell_type": "markdown",
   "metadata": {},
   "source": [
    "Посмотрим сводную информацию о наших данных."
   ]
  },
  {
   "cell_type": "code",
   "execution_count": 4,
   "metadata": {
    "collapsed": false
   },
   "outputs": [
    {
     "name": "stdout",
     "output_type": "stream",
     "text": [
      "<class 'pandas.core.frame.DataFrame'>\n",
      "Int64Index: 5572 entries, 1 to 5572\n",
      "Data columns (total 25 columns):\n",
      "Балкон:                  5572 non-null object\n",
      "Вид из окна:             5572 non-null object\n",
      "Высота потолков:         1929 non-null object\n",
      "Год постройки:           2017 non-null float64\n",
      "До метро                 4066 non-null object\n",
      "Жилая площадь:           5572 non-null object\n",
      "Координаты               5572 non-null object\n",
      "Лифт:                    5572 non-null object\n",
      "Метро                    4789 non-null object\n",
      "Общая площадь:           5572 non-null object\n",
      "Отделка:                 23 non-null object\n",
      "Парковка:                2958 non-null object\n",
      "Площадь комнат:          5572 non-null object\n",
      "Площадь кухни:           5572 non-null object\n",
      "Раздельных санузлов:     1094 non-null float64\n",
      "Ремонт:                  3769 non-null object\n",
      "Санузел:                 670 non-null object\n",
      "Сдача ГК:                1701 non-null object\n",
      "Совмещенных санузлов:    3890 non-null float64\n",
      "Статус помещения:        29 non-null object\n",
      "Телефон:                 1116 non-null object\n",
      "Тип дома:                5572 non-null object\n",
      "Тип продажи:             5566 non-null object\n",
      "Цена                     5572 non-null object\n",
      "Этаж:                    5572 non-null object\n",
      "dtypes: float64(3), object(22)\n",
      "memory usage: 1.1+ MB\n"
     ]
    }
   ],
   "source": [
    "data.info()"
   ]
  },
  {
   "cell_type": "markdown",
   "metadata": {},
   "source": [
    "Посмотрим на названия колонок! "
   ]
  },
  {
   "cell_type": "code",
   "execution_count": 5,
   "metadata": {
    "collapsed": false
   },
   "outputs": [
    {
     "data": {
      "text/plain": [
       "Index(['Балкон:', 'Вид из окна:', 'Высота потолков:', 'Год постройки:',\n",
       "       'До метро', 'Жилая площадь:', 'Координаты', 'Лифт:', 'Метро',\n",
       "       'Общая площадь:', 'Отделка:', 'Парковка:', 'Площадь комнат:',\n",
       "       'Площадь кухни:', 'Раздельных санузлов:', 'Ремонт:', 'Санузел:',\n",
       "       'Сдача ГК:', 'Совмещенных санузлов:', 'Статус помещения:', 'Телефон:',\n",
       "       'Тип дома:', 'Тип продажи:', 'Цена', 'Этаж:'],\n",
       "      dtype='object')"
      ]
     },
     "execution_count": 5,
     "metadata": {},
     "output_type": "execute_result"
    }
   ],
   "source": [
    "data.columns"
   ]
  },
  {
   "cell_type": "markdown",
   "metadata": {
    "collapsed": true
   },
   "source": [
    "Начинаем очищать всё это дело от ерунды. Итак, посмотрим на первый столбец! Попутно выясним, что его можно вызвать несколькими разными способами..."
   ]
  },
  {
   "cell_type": "code",
   "execution_count": 6,
   "metadata": {
    "collapsed": false
   },
   "outputs": [
    {
     "data": {
      "text/plain": [
       "1      7 / 9\n",
       "2     3 / 21\n",
       "3      5 / 9\n",
       "4      3 / 3\n",
       "5      1 / 9\n",
       "6     2 / 21\n",
       "7      1 / 3\n",
       "8      1 / 9\n",
       "9      1 / 9\n",
       "10     1 / 3\n",
       "Name: Этаж:, dtype: object"
      ]
     },
     "execution_count": 6,
     "metadata": {},
     "output_type": "execute_result"
    }
   ],
   "source": [
    "data['Этаж:'][:10]"
   ]
  },
  {
   "cell_type": "markdown",
   "metadata": {},
   "source": [
    "Данные приведены в формате на каком этаже квартира/сколько в дом этажей. По уму, эту колонку нужно разбить на две части. Одна будет отвечать за этажность дома, а вторая за этажность квартиры. Каждая переменная в данном столбце обладает типом str. \n"
   ]
  },
  {
   "cell_type": "code",
   "execution_count": 7,
   "metadata": {
    "collapsed": false
   },
   "outputs": [
    {
     "data": {
      "text/plain": [
       "str"
      ]
     },
     "execution_count": 7,
     "metadata": {},
     "output_type": "execute_result"
    }
   ],
   "source": [
    "floors = data['Этаж:']\n",
    "type(floors[1])"
   ]
  },
  {
   "cell_type": "markdown",
   "metadata": {},
   "source": [
    "Изучим очень крутой метод для работы с текстами, а именно `.split`. Он позволяет разбить какую-то текстовую фразу на части по какому-то символу. Например, по пробелу или букве а..."
   ]
  },
  {
   "cell_type": "code",
   "execution_count": 8,
   "metadata": {
    "collapsed": false
   },
   "outputs": [
    {
     "name": "stdout",
     "output_type": "stream",
     "text": [
      "['Ахмеду', 'пришла', 'стипуха,', 'он', 'купил', 'себе', 'самокат!']\n",
      "['Ахмеду пришл', ' стипух', ', он купил себе с', 'мок', 'т!']\n"
     ]
    }
   ],
   "source": [
    "x = 'Ахмеду пришла стипуха, он купил себе самокат!'\n",
    "\n",
    "print(x.split(\" \"))\n",
    "print(x.split(\"а\"))"
   ]
  },
  {
   "cell_type": "code",
   "execution_count": 10,
   "metadata": {
    "collapsed": false
   },
   "outputs": [
    {
     "data": {
      "text/plain": [
       "['7', '9']"
      ]
     },
     "execution_count": 10,
     "metadata": {},
     "output_type": "execute_result"
    }
   ],
   "source": [
    "floors[1].split('\\xa0/\\xa0')"
   ]
  },
  {
   "cell_type": "code",
   "execution_count": 12,
   "metadata": {
    "collapsed": false
   },
   "outputs": [
    {
     "data": {
      "text/plain": [
       "['2', '2', '2', '2', '3']"
      ]
     },
     "execution_count": 12,
     "metadata": {},
     "output_type": "execute_result"
    }
   ],
   "source": [
    "[floor for floor in floors if len(floor) <= 2]"
   ]
  },
  {
   "cell_type": "markdown",
   "metadata": {},
   "source": [
    "Разобьём каждый элемент в списке этажей на две частички. Получим вектора из этажей."
   ]
  },
  {
   "cell_type": "code",
   "execution_count": 14,
   "metadata": {
    "collapsed": false
   },
   "outputs": [
    {
     "data": {
      "text/plain": [
       "[['7', '9'],\n",
       " ['3', '21'],\n",
       " ['5', '9'],\n",
       " ['3', '3'],\n",
       " ['1', '9'],\n",
       " ['2', '21'],\n",
       " ['1', '3'],\n",
       " ['1', '9'],\n",
       " ['1', '9'],\n",
       " ['1', '3']]"
      ]
     },
     "execution_count": 14,
     "metadata": {},
     "output_type": "execute_result"
    }
   ],
   "source": [
    "[floor.split('\\xa0/\\xa0') for floor in floors][:10]"
   ]
  },
  {
   "cell_type": "code",
   "execution_count": 16,
   "metadata": {
    "collapsed": false
   },
   "outputs": [
    {
     "data": {
      "text/plain": [
       "[7, 3, 5, 3, 1, 2, 1, 1, 1, 1]"
      ]
     },
     "execution_count": 16,
     "metadata": {},
     "output_type": "execute_result"
    }
   ],
   "source": [
    "new_floors0 =  [int(floor.split('\\xa0/\\xa0')[0]) for floor in floors] \n",
    "\n",
    "new_floors0[:10]"
   ]
  },
  {
   "cell_type": "code",
   "execution_count": 21,
   "metadata": {
    "collapsed": true
   },
   "outputs": [],
   "source": [
    "# Поначалу тут были две одинаковые строки. Но при расширении выборки, вторая строка с кодом перестала работать.\n",
    "# new_floors1 =  [int(floor.split('\\xa0/\\xa0')[1]) for floor in floors] \n",
    "\n",
    "# Выяснилось, что встречаются данные, в которых не указана вторая цифра в этажности. К сожалению, так бывает \n",
    "# и иногда код, который работал вчера, перестаёт работать сегодня. В таких случаях приходится прописывать \n",
    "# конструкцию try-except. Привыкайте к этому.\n",
    "\n",
    "new_floors1 =  [ ]\n",
    "for floor in floors: \n",
    "    try:\n",
    "        new_floors1.append(int(floor.split('\\xa0/\\xa0')[1]))\n",
    "    except Exception:\n",
    "        new_floors1.append(int(floor.split('\\xa0/\\xa0')[0]))"
   ]
  },
  {
   "cell_type": "code",
   "execution_count": 22,
   "metadata": {
    "collapsed": false
   },
   "outputs": [
    {
     "data": {
      "text/plain": [
       "[9, 21, 9, 3, 9, 21, 3, 9, 9, 3]"
      ]
     },
     "execution_count": 22,
     "metadata": {},
     "output_type": "execute_result"
    }
   ],
   "source": [
    "new_floors1[:10]"
   ]
  },
  {
   "cell_type": "code",
   "execution_count": 20,
   "metadata": {
    "collapsed": false
   },
   "outputs": [
    {
     "data": {
      "text/plain": [
       "[1, 2, 3, 4]"
      ]
     },
     "execution_count": 20,
     "metadata": {},
     "output_type": "execute_result"
    }
   ],
   "source": [
    "x = [1,2,3]\n",
    "x.append(4)\n",
    "x"
   ]
  },
  {
   "cell_type": "markdown",
   "metadata": {},
   "source": [
    "Удалим из нашей таблички старый столбец."
   ]
  },
  {
   "cell_type": "code",
   "execution_count": 23,
   "metadata": {
    "collapsed": false
   },
   "outputs": [
    {
     "data": {
      "text/html": [
       "<div>\n",
       "<table border=\"1\" class=\"dataframe\">\n",
       "  <thead>\n",
       "    <tr style=\"text-align: right;\">\n",
       "      <th></th>\n",
       "      <th>Балкон:</th>\n",
       "      <th>Вид из окна:</th>\n",
       "      <th>Высота потолков:</th>\n",
       "      <th>Год постройки:</th>\n",
       "      <th>До метро</th>\n",
       "      <th>Жилая площадь:</th>\n",
       "      <th>Координаты</th>\n",
       "      <th>Лифт:</th>\n",
       "      <th>Метро</th>\n",
       "      <th>Общая площадь:</th>\n",
       "      <th>...</th>\n",
       "      <th>Раздельных санузлов:</th>\n",
       "      <th>Ремонт:</th>\n",
       "      <th>Санузел:</th>\n",
       "      <th>Сдача ГК:</th>\n",
       "      <th>Совмещенных санузлов:</th>\n",
       "      <th>Статус помещения:</th>\n",
       "      <th>Телефон:</th>\n",
       "      <th>Тип дома:</th>\n",
       "      <th>Тип продажи:</th>\n",
       "      <th>Цена</th>\n",
       "    </tr>\n",
       "  </thead>\n",
       "  <tbody>\n",
       "    <tr>\n",
       "      <th>1</th>\n",
       "      <td>–</td>\n",
       "      <td>двор</td>\n",
       "      <td>3,50 м</td>\n",
       "      <td>2012.0</td>\n",
       "      <td>4\\n                мин.\\n                \\n   ...</td>\n",
       "      <td>121,7 м2</td>\n",
       "      <td>[37.653703,55.744738]</td>\n",
       "      <td>2 пасс. + 2 груз.</td>\n",
       "      <td>Таганская,</td>\n",
       "      <td>194,7 м2</td>\n",
       "      <td>...</td>\n",
       "      <td>NaN</td>\n",
       "      <td>отсутствует</td>\n",
       "      <td>NaN</td>\n",
       "      <td>NaN</td>\n",
       "      <td>3.0</td>\n",
       "      <td>NaN</td>\n",
       "      <td>NaN</td>\n",
       "      <td>вторичка</td>\n",
       "      <td>свободная</td>\n",
       "      <td>123 000 000 руб.</td>\n",
       "    </tr>\n",
       "    <tr>\n",
       "      <th>2</th>\n",
       "      <td>1 балк.</td>\n",
       "      <td>улица</td>\n",
       "      <td>NaN</td>\n",
       "      <td>NaN</td>\n",
       "      <td>10\\n                мин.\\n                \\n  ...</td>\n",
       "      <td>30,1 м2</td>\n",
       "      <td>[37.414421,55.633661]</td>\n",
       "      <td>1 пасс. + 1 груз.</td>\n",
       "      <td>Саларьево,</td>\n",
       "      <td>54,0 м2</td>\n",
       "      <td>...</td>\n",
       "      <td>1.0</td>\n",
       "      <td>NaN</td>\n",
       "      <td>NaN</td>\n",
       "      <td>3 кв. 2017 года</td>\n",
       "      <td>NaN</td>\n",
       "      <td>NaN</td>\n",
       "      <td>NaN</td>\n",
       "      <td>новостройка, \\n            панельный дом</td>\n",
       "      <td>свободная</td>\n",
       "      <td>5 579 537 руб.</td>\n",
       "    </tr>\n",
       "  </tbody>\n",
       "</table>\n",
       "<p>2 rows × 24 columns</p>\n",
       "</div>"
      ],
      "text/plain": [
       "   Балкон: Вид из окна: Высота потолков:  Год постройки:  \\\n",
       "1        –         двор           3,50 м          2012.0   \n",
       "2  1 балк.        улица              NaN             NaN   \n",
       "\n",
       "                                            До метро Жилая площадь:  \\\n",
       "1  4\\n                мин.\\n                \\n   ...       121,7 м2   \n",
       "2  10\\n                мин.\\n                \\n  ...        30,1 м2   \n",
       "\n",
       "              Координаты              Лифт:       Метро Общая площадь:  \\\n",
       "1  [37.653703,55.744738]  2 пасс. + 2 груз.  Таганская,       194,7 м2   \n",
       "2  [37.414421,55.633661]  1 пасс. + 1 груз.  Саларьево,        54,0 м2   \n",
       "\n",
       "         ...        Раздельных санузлов:      Ремонт: Санузел:  \\\n",
       "1        ...                         NaN  отсутствует      NaN   \n",
       "2        ...                         1.0          NaN      NaN   \n",
       "\n",
       "         Сдача ГК:  Совмещенных санузлов: Статус помещения: Телефон:  \\\n",
       "1              NaN                    3.0               NaN      NaN   \n",
       "2  3 кв. 2017 года                    NaN               NaN      NaN   \n",
       "\n",
       "                                  Тип дома:  Тип продажи:              Цена  \n",
       "1                                  вторичка     свободная  123 000 000 руб.  \n",
       "2  новостройка, \\n            панельный дом     свободная    5 579 537 руб.  \n",
       "\n",
       "[2 rows x 24 columns]"
      ]
     },
     "execution_count": 23,
     "metadata": {},
     "output_type": "execute_result"
    }
   ],
   "source": [
    "data.drop('Этаж:',axis=1).head(2)"
   ]
  },
  {
   "cell_type": "markdown",
   "metadata": {},
   "source": [
    "Нууу вроде бы удалили... Уверены?! А давайте проверим!"
   ]
  },
  {
   "cell_type": "code",
   "execution_count": 24,
   "metadata": {
    "collapsed": false
   },
   "outputs": [
    {
     "data": {
      "text/html": [
       "<div>\n",
       "<table border=\"1\" class=\"dataframe\">\n",
       "  <thead>\n",
       "    <tr style=\"text-align: right;\">\n",
       "      <th></th>\n",
       "      <th>Балкон:</th>\n",
       "      <th>Вид из окна:</th>\n",
       "      <th>Высота потолков:</th>\n",
       "      <th>Год постройки:</th>\n",
       "      <th>До метро</th>\n",
       "      <th>Жилая площадь:</th>\n",
       "      <th>Координаты</th>\n",
       "      <th>Лифт:</th>\n",
       "      <th>Метро</th>\n",
       "      <th>Общая площадь:</th>\n",
       "      <th>...</th>\n",
       "      <th>Ремонт:</th>\n",
       "      <th>Санузел:</th>\n",
       "      <th>Сдача ГК:</th>\n",
       "      <th>Совмещенных санузлов:</th>\n",
       "      <th>Статус помещения:</th>\n",
       "      <th>Телефон:</th>\n",
       "      <th>Тип дома:</th>\n",
       "      <th>Тип продажи:</th>\n",
       "      <th>Цена</th>\n",
       "      <th>Этаж:</th>\n",
       "    </tr>\n",
       "  </thead>\n",
       "  <tbody>\n",
       "    <tr>\n",
       "      <th>1</th>\n",
       "      <td>–</td>\n",
       "      <td>двор</td>\n",
       "      <td>3,50 м</td>\n",
       "      <td>2012.0</td>\n",
       "      <td>4\\n                мин.\\n                \\n   ...</td>\n",
       "      <td>121,7 м2</td>\n",
       "      <td>[37.653703,55.744738]</td>\n",
       "      <td>2 пасс. + 2 груз.</td>\n",
       "      <td>Таганская,</td>\n",
       "      <td>194,7 м2</td>\n",
       "      <td>...</td>\n",
       "      <td>отсутствует</td>\n",
       "      <td>NaN</td>\n",
       "      <td>NaN</td>\n",
       "      <td>3.0</td>\n",
       "      <td>NaN</td>\n",
       "      <td>NaN</td>\n",
       "      <td>вторичка</td>\n",
       "      <td>свободная</td>\n",
       "      <td>123 000 000 руб.</td>\n",
       "      <td>7 / 9</td>\n",
       "    </tr>\n",
       "    <tr>\n",
       "      <th>2</th>\n",
       "      <td>1 балк.</td>\n",
       "      <td>улица</td>\n",
       "      <td>NaN</td>\n",
       "      <td>NaN</td>\n",
       "      <td>10\\n                мин.\\n                \\n  ...</td>\n",
       "      <td>30,1 м2</td>\n",
       "      <td>[37.414421,55.633661]</td>\n",
       "      <td>1 пасс. + 1 груз.</td>\n",
       "      <td>Саларьево,</td>\n",
       "      <td>54,0 м2</td>\n",
       "      <td>...</td>\n",
       "      <td>NaN</td>\n",
       "      <td>NaN</td>\n",
       "      <td>3 кв. 2017 года</td>\n",
       "      <td>NaN</td>\n",
       "      <td>NaN</td>\n",
       "      <td>NaN</td>\n",
       "      <td>новостройка, \\n            панельный дом</td>\n",
       "      <td>свободная</td>\n",
       "      <td>5 579 537 руб.</td>\n",
       "      <td>3 / 21</td>\n",
       "    </tr>\n",
       "  </tbody>\n",
       "</table>\n",
       "<p>2 rows × 25 columns</p>\n",
       "</div>"
      ],
      "text/plain": [
       "   Балкон: Вид из окна: Высота потолков:  Год постройки:  \\\n",
       "1        –         двор           3,50 м          2012.0   \n",
       "2  1 балк.        улица              NaN             NaN   \n",
       "\n",
       "                                            До метро Жилая площадь:  \\\n",
       "1  4\\n                мин.\\n                \\n   ...       121,7 м2   \n",
       "2  10\\n                мин.\\n                \\n  ...        30,1 м2   \n",
       "\n",
       "              Координаты              Лифт:       Метро Общая площадь:  \\\n",
       "1  [37.653703,55.744738]  2 пасс. + 2 груз.  Таганская,       194,7 м2   \n",
       "2  [37.414421,55.633661]  1 пасс. + 1 груз.  Саларьево,        54,0 м2   \n",
       "\n",
       "    ...        Ремонт: Санузел:        Сдача ГК: Совмещенных санузлов:  \\\n",
       "1   ...    отсутствует      NaN              NaN                   3.0   \n",
       "2   ...            NaN      NaN  3 кв. 2017 года                   NaN   \n",
       "\n",
       "   Статус помещения: Телефон:                                 Тип дома:  \\\n",
       "1                NaN      NaN                                  вторичка   \n",
       "2                NaN      NaN  новостройка, \\n            панельный дом   \n",
       "\n",
       "  Тип продажи:              Цена   Этаж:  \n",
       "1    свободная  123 000 000 руб.   7 / 9  \n",
       "2    свободная    5 579 537 руб.  3 / 21  \n",
       "\n",
       "[2 rows x 25 columns]"
      ]
     },
     "execution_count": 24,
     "metadata": {},
     "output_type": "execute_result"
    }
   ],
   "source": [
    "data.head(2) "
   ]
  },
  {
   "cell_type": "markdown",
   "metadata": {},
   "source": [
    "Блин... Ничего не получилось. Глупый Python. Ничего не хочет делать. Плохо работает. Ну его нафиг. Буду обрабатывать таблицы в экселе. Обажаю майкрософт и Билла Гейтса! \n",
    "\n",
    "<img align=\"center\" src=\"https://raw.githubusercontent.com/FUlyankin/Parsers/master/images%20/s7VPrY01mK8.jpg\" height=\"500\" width=\"500\"> \n",
    "\n",
    "На самом деле нет. Всё получилось. Просто нужно сохранить новую табличку с удалённой строкой. Либо подписать в опциях `inplace = True`. Это сохранит все изменения, сделанные нами в таблице. "
   ]
  },
  {
   "cell_type": "code",
   "execution_count": 25,
   "metadata": {
    "collapsed": false
   },
   "outputs": [
    {
     "data": {
      "text/html": [
       "<div>\n",
       "<table border=\"1\" class=\"dataframe\">\n",
       "  <thead>\n",
       "    <tr style=\"text-align: right;\">\n",
       "      <th></th>\n",
       "      <th>Балкон:</th>\n",
       "      <th>Вид из окна:</th>\n",
       "      <th>Высота потолков:</th>\n",
       "      <th>Год постройки:</th>\n",
       "      <th>До метро</th>\n",
       "      <th>Жилая площадь:</th>\n",
       "      <th>Координаты</th>\n",
       "      <th>Лифт:</th>\n",
       "      <th>Метро</th>\n",
       "      <th>Общая площадь:</th>\n",
       "      <th>...</th>\n",
       "      <th>Раздельных санузлов:</th>\n",
       "      <th>Ремонт:</th>\n",
       "      <th>Санузел:</th>\n",
       "      <th>Сдача ГК:</th>\n",
       "      <th>Совмещенных санузлов:</th>\n",
       "      <th>Статус помещения:</th>\n",
       "      <th>Телефон:</th>\n",
       "      <th>Тип дома:</th>\n",
       "      <th>Тип продажи:</th>\n",
       "      <th>Цена</th>\n",
       "    </tr>\n",
       "  </thead>\n",
       "  <tbody>\n",
       "    <tr>\n",
       "      <th>1</th>\n",
       "      <td>–</td>\n",
       "      <td>двор</td>\n",
       "      <td>3,50 м</td>\n",
       "      <td>2012.0</td>\n",
       "      <td>4\\n                мин.\\n                \\n   ...</td>\n",
       "      <td>121,7 м2</td>\n",
       "      <td>[37.653703,55.744738]</td>\n",
       "      <td>2 пасс. + 2 груз.</td>\n",
       "      <td>Таганская,</td>\n",
       "      <td>194,7 м2</td>\n",
       "      <td>...</td>\n",
       "      <td>NaN</td>\n",
       "      <td>отсутствует</td>\n",
       "      <td>NaN</td>\n",
       "      <td>NaN</td>\n",
       "      <td>3.0</td>\n",
       "      <td>NaN</td>\n",
       "      <td>NaN</td>\n",
       "      <td>вторичка</td>\n",
       "      <td>свободная</td>\n",
       "      <td>123 000 000 руб.</td>\n",
       "    </tr>\n",
       "    <tr>\n",
       "      <th>2</th>\n",
       "      <td>1 балк.</td>\n",
       "      <td>улица</td>\n",
       "      <td>NaN</td>\n",
       "      <td>NaN</td>\n",
       "      <td>10\\n                мин.\\n                \\n  ...</td>\n",
       "      <td>30,1 м2</td>\n",
       "      <td>[37.414421,55.633661]</td>\n",
       "      <td>1 пасс. + 1 груз.</td>\n",
       "      <td>Саларьево,</td>\n",
       "      <td>54,0 м2</td>\n",
       "      <td>...</td>\n",
       "      <td>1.0</td>\n",
       "      <td>NaN</td>\n",
       "      <td>NaN</td>\n",
       "      <td>3 кв. 2017 года</td>\n",
       "      <td>NaN</td>\n",
       "      <td>NaN</td>\n",
       "      <td>NaN</td>\n",
       "      <td>новостройка, \\n            панельный дом</td>\n",
       "      <td>свободная</td>\n",
       "      <td>5 579 537 руб.</td>\n",
       "    </tr>\n",
       "  </tbody>\n",
       "</table>\n",
       "<p>2 rows × 24 columns</p>\n",
       "</div>"
      ],
      "text/plain": [
       "   Балкон: Вид из окна: Высота потолков:  Год постройки:  \\\n",
       "1        –         двор           3,50 м          2012.0   \n",
       "2  1 балк.        улица              NaN             NaN   \n",
       "\n",
       "                                            До метро Жилая площадь:  \\\n",
       "1  4\\n                мин.\\n                \\n   ...       121,7 м2   \n",
       "2  10\\n                мин.\\n                \\n  ...        30,1 м2   \n",
       "\n",
       "              Координаты              Лифт:       Метро Общая площадь:  \\\n",
       "1  [37.653703,55.744738]  2 пасс. + 2 груз.  Таганская,       194,7 м2   \n",
       "2  [37.414421,55.633661]  1 пасс. + 1 груз.  Саларьево,        54,0 м2   \n",
       "\n",
       "         ...        Раздельных санузлов:      Ремонт: Санузел:  \\\n",
       "1        ...                         NaN  отсутствует      NaN   \n",
       "2        ...                         1.0          NaN      NaN   \n",
       "\n",
       "         Сдача ГК:  Совмещенных санузлов: Статус помещения: Телефон:  \\\n",
       "1              NaN                    3.0               NaN      NaN   \n",
       "2  3 кв. 2017 года                    NaN               NaN      NaN   \n",
       "\n",
       "                                  Тип дома:  Тип продажи:              Цена  \n",
       "1                                  вторичка     свободная  123 000 000 руб.  \n",
       "2  новостройка, \\n            панельный дом     свободная    5 579 537 руб.  \n",
       "\n",
       "[2 rows x 24 columns]"
      ]
     },
     "execution_count": 25,
     "metadata": {},
     "output_type": "execute_result"
    }
   ],
   "source": [
    "data.drop('Этаж:',axis=1,inplace = True)\n",
    "\n",
    "# Перезапись приведёт к аналоничному результату\n",
    "# data = data.drop('Этаж:',axis=1)\n",
    "data.head(2)"
   ]
  },
  {
   "cell_type": "markdown",
   "metadata": {},
   "source": [
    "Добавляем новые столбцы... Назовём их Total_floor и Curent_floor."
   ]
  },
  {
   "cell_type": "code",
   "execution_count": 27,
   "metadata": {
    "collapsed": false
   },
   "outputs": [
    {
     "data": {
      "text/html": [
       "<div>\n",
       "<table border=\"1\" class=\"dataframe\">\n",
       "  <thead>\n",
       "    <tr style=\"text-align: right;\">\n",
       "      <th></th>\n",
       "      <th>Балкон:</th>\n",
       "      <th>Вид из окна:</th>\n",
       "      <th>Высота потолков:</th>\n",
       "      <th>Год постройки:</th>\n",
       "      <th>До метро</th>\n",
       "      <th>Жилая площадь:</th>\n",
       "      <th>Координаты</th>\n",
       "      <th>Лифт:</th>\n",
       "      <th>Метро</th>\n",
       "      <th>Общая площадь:</th>\n",
       "      <th>...</th>\n",
       "      <th>Санузел:</th>\n",
       "      <th>Сдача ГК:</th>\n",
       "      <th>Совмещенных санузлов:</th>\n",
       "      <th>Статус помещения:</th>\n",
       "      <th>Телефон:</th>\n",
       "      <th>Тип дома:</th>\n",
       "      <th>Тип продажи:</th>\n",
       "      <th>Цена</th>\n",
       "      <th>Total_floor</th>\n",
       "      <th>Curent_floor</th>\n",
       "    </tr>\n",
       "  </thead>\n",
       "  <tbody>\n",
       "    <tr>\n",
       "      <th>1</th>\n",
       "      <td>–</td>\n",
       "      <td>двор</td>\n",
       "      <td>3,50 м</td>\n",
       "      <td>2012.0</td>\n",
       "      <td>4\\n                мин.\\n                \\n   ...</td>\n",
       "      <td>121,7 м2</td>\n",
       "      <td>[37.653703,55.744738]</td>\n",
       "      <td>2 пасс. + 2 груз.</td>\n",
       "      <td>Таганская,</td>\n",
       "      <td>194,7 м2</td>\n",
       "      <td>...</td>\n",
       "      <td>NaN</td>\n",
       "      <td>NaN</td>\n",
       "      <td>3.0</td>\n",
       "      <td>NaN</td>\n",
       "      <td>NaN</td>\n",
       "      <td>вторичка</td>\n",
       "      <td>свободная</td>\n",
       "      <td>123 000 000 руб.</td>\n",
       "      <td>9</td>\n",
       "      <td>7</td>\n",
       "    </tr>\n",
       "    <tr>\n",
       "      <th>2</th>\n",
       "      <td>1 балк.</td>\n",
       "      <td>улица</td>\n",
       "      <td>NaN</td>\n",
       "      <td>NaN</td>\n",
       "      <td>10\\n                мин.\\n                \\n  ...</td>\n",
       "      <td>30,1 м2</td>\n",
       "      <td>[37.414421,55.633661]</td>\n",
       "      <td>1 пасс. + 1 груз.</td>\n",
       "      <td>Саларьево,</td>\n",
       "      <td>54,0 м2</td>\n",
       "      <td>...</td>\n",
       "      <td>NaN</td>\n",
       "      <td>3 кв. 2017 года</td>\n",
       "      <td>NaN</td>\n",
       "      <td>NaN</td>\n",
       "      <td>NaN</td>\n",
       "      <td>новостройка, \\n            панельный дом</td>\n",
       "      <td>свободная</td>\n",
       "      <td>5 579 537 руб.</td>\n",
       "      <td>21</td>\n",
       "      <td>3</td>\n",
       "    </tr>\n",
       "  </tbody>\n",
       "</table>\n",
       "<p>2 rows × 26 columns</p>\n",
       "</div>"
      ],
      "text/plain": [
       "   Балкон: Вид из окна: Высота потолков:  Год постройки:  \\\n",
       "1        –         двор           3,50 м          2012.0   \n",
       "2  1 балк.        улица              NaN             NaN   \n",
       "\n",
       "                                            До метро Жилая площадь:  \\\n",
       "1  4\\n                мин.\\n                \\n   ...       121,7 м2   \n",
       "2  10\\n                мин.\\n                \\n  ...        30,1 м2   \n",
       "\n",
       "              Координаты              Лифт:       Метро Общая площадь:  \\\n",
       "1  [37.653703,55.744738]  2 пасс. + 2 груз.  Таганская,       194,7 м2   \n",
       "2  [37.414421,55.633661]  1 пасс. + 1 груз.  Саларьево,        54,0 м2   \n",
       "\n",
       "      ...      Санузел:        Сдача ГК: Совмещенных санузлов:  \\\n",
       "1     ...           NaN              NaN                   3.0   \n",
       "2     ...           NaN  3 кв. 2017 года                   NaN   \n",
       "\n",
       "  Статус помещения:  Телефон:                                 Тип дома:  \\\n",
       "1               NaN       NaN                                  вторичка   \n",
       "2               NaN       NaN  новостройка, \\n            панельный дом   \n",
       "\n",
       "  Тип продажи:              Цена  Total_floor Curent_floor  \n",
       "1    свободная  123 000 000 руб.            9            7  \n",
       "2    свободная    5 579 537 руб.           21            3  \n",
       "\n",
       "[2 rows x 26 columns]"
      ]
     },
     "execution_count": 27,
     "metadata": {},
     "output_type": "execute_result"
    }
   ],
   "source": [
    "data['Total_floor'] =  new_floors1\n",
    "data['Curent_floor'] = new_floors0 \n",
    "data.head(2)"
   ]
  },
  {
   "cell_type": "markdown",
   "metadata": {},
   "source": [
    "Работать с изначальной таблицей не очень хорошая идея. Если мы однажды удалим через опцию `inplace` из неё столбец, мы больше никогда не сможем обратиться к нему. Придётся подгружать таблицу заново."
   ]
  },
  {
   "cell_type": "code",
   "execution_count": 28,
   "metadata": {
    "collapsed": false
   },
   "outputs": [
    {
     "ename": "ValueError",
     "evalue": "labels ['Этаж:'] not contained in axis",
     "output_type": "error",
     "traceback": [
      "\u001b[0;31m---------------------------------------------------------------------------\u001b[0m",
      "\u001b[0;31mValueError\u001b[0m                                Traceback (most recent call last)",
      "\u001b[0;32m<ipython-input-28-a0ba3070041e>\u001b[0m in \u001b[0;36m<module>\u001b[0;34m()\u001b[0m\n\u001b[1;32m      1\u001b[0m \u001b[0;31m# Нам понадобилось перезапустить кусок кода, мы сделали это, а таблица уже удалена...\u001b[0m\u001b[0;34m\u001b[0m\u001b[0;34m\u001b[0m\u001b[0m\n\u001b[0;32m----> 2\u001b[0;31m \u001b[0mdata\u001b[0m\u001b[0;34m.\u001b[0m\u001b[0mdrop\u001b[0m\u001b[0;34m(\u001b[0m\u001b[0;34m'Этаж:'\u001b[0m\u001b[0;34m,\u001b[0m\u001b[0maxis\u001b[0m\u001b[0;34m=\u001b[0m\u001b[0;36m1\u001b[0m\u001b[0;34m,\u001b[0m\u001b[0minplace\u001b[0m \u001b[0;34m=\u001b[0m \u001b[0;32mTrue\u001b[0m\u001b[0;34m)\u001b[0m\u001b[0;34m\u001b[0m\u001b[0m\n\u001b[0m",
      "\u001b[0;32m/usr/local/lib/python3.5/dist-packages/pandas/core/generic.py\u001b[0m in \u001b[0;36mdrop\u001b[0;34m(self, labels, axis, level, inplace, errors)\u001b[0m\n\u001b[1;32m   1905\u001b[0m                 \u001b[0mnew_axis\u001b[0m \u001b[0;34m=\u001b[0m \u001b[0maxis\u001b[0m\u001b[0;34m.\u001b[0m\u001b[0mdrop\u001b[0m\u001b[0;34m(\u001b[0m\u001b[0mlabels\u001b[0m\u001b[0;34m,\u001b[0m \u001b[0mlevel\u001b[0m\u001b[0;34m=\u001b[0m\u001b[0mlevel\u001b[0m\u001b[0;34m,\u001b[0m \u001b[0merrors\u001b[0m\u001b[0;34m=\u001b[0m\u001b[0merrors\u001b[0m\u001b[0;34m)\u001b[0m\u001b[0;34m\u001b[0m\u001b[0m\n\u001b[1;32m   1906\u001b[0m             \u001b[0;32melse\u001b[0m\u001b[0;34m:\u001b[0m\u001b[0;34m\u001b[0m\u001b[0m\n\u001b[0;32m-> 1907\u001b[0;31m                 \u001b[0mnew_axis\u001b[0m \u001b[0;34m=\u001b[0m \u001b[0maxis\u001b[0m\u001b[0;34m.\u001b[0m\u001b[0mdrop\u001b[0m\u001b[0;34m(\u001b[0m\u001b[0mlabels\u001b[0m\u001b[0;34m,\u001b[0m \u001b[0merrors\u001b[0m\u001b[0;34m=\u001b[0m\u001b[0merrors\u001b[0m\u001b[0;34m)\u001b[0m\u001b[0;34m\u001b[0m\u001b[0m\n\u001b[0m\u001b[1;32m   1908\u001b[0m             \u001b[0mdropped\u001b[0m \u001b[0;34m=\u001b[0m \u001b[0mself\u001b[0m\u001b[0;34m.\u001b[0m\u001b[0mreindex\u001b[0m\u001b[0;34m(\u001b[0m\u001b[0;34m**\u001b[0m\u001b[0;34m{\u001b[0m\u001b[0maxis_name\u001b[0m\u001b[0;34m:\u001b[0m \u001b[0mnew_axis\u001b[0m\u001b[0;34m}\u001b[0m\u001b[0;34m)\u001b[0m\u001b[0;34m\u001b[0m\u001b[0m\n\u001b[1;32m   1909\u001b[0m             \u001b[0;32mtry\u001b[0m\u001b[0;34m:\u001b[0m\u001b[0;34m\u001b[0m\u001b[0m\n",
      "\u001b[0;32m/usr/local/lib/python3.5/dist-packages/pandas/indexes/base.py\u001b[0m in \u001b[0;36mdrop\u001b[0;34m(self, labels, errors)\u001b[0m\n\u001b[1;32m   3260\u001b[0m             \u001b[0;32mif\u001b[0m \u001b[0merrors\u001b[0m \u001b[0;34m!=\u001b[0m \u001b[0;34m'ignore'\u001b[0m\u001b[0;34m:\u001b[0m\u001b[0;34m\u001b[0m\u001b[0m\n\u001b[1;32m   3261\u001b[0m                 raise ValueError('labels %s not contained in axis' %\n\u001b[0;32m-> 3262\u001b[0;31m                                  labels[mask])\n\u001b[0m\u001b[1;32m   3263\u001b[0m             \u001b[0mindexer\u001b[0m \u001b[0;34m=\u001b[0m \u001b[0mindexer\u001b[0m\u001b[0;34m[\u001b[0m\u001b[0;34m~\u001b[0m\u001b[0mmask\u001b[0m\u001b[0;34m]\u001b[0m\u001b[0;34m\u001b[0m\u001b[0m\n\u001b[1;32m   3264\u001b[0m         \u001b[0;32mreturn\u001b[0m \u001b[0mself\u001b[0m\u001b[0;34m.\u001b[0m\u001b[0mdelete\u001b[0m\u001b[0;34m(\u001b[0m\u001b[0mindexer\u001b[0m\u001b[0;34m)\u001b[0m\u001b[0;34m\u001b[0m\u001b[0m\n",
      "\u001b[0;31mValueError\u001b[0m: labels ['Этаж:'] not contained in axis"
     ]
    }
   ],
   "source": [
    "# Нам понадобилось перезапустить кусок кода, мы сделали это, а таблица уже удалена...\n",
    "data.drop('Этаж:',axis=1,inplace = True)"
   ]
  },
  {
   "cell_type": "markdown",
   "metadata": {},
   "source": [
    "Именно поэтому мы будем работать с двумя таблицами. Новой и старой! \n",
    "\n",
    "Создадим свеженькую таблицу и поместим в неё свои пожитки. "
   ]
  },
  {
   "cell_type": "code",
   "execution_count": 30,
   "metadata": {
    "collapsed": false
   },
   "outputs": [
    {
     "data": {
      "text/html": [
       "<div>\n",
       "<table border=\"1\" class=\"dataframe\">\n",
       "  <thead>\n",
       "    <tr style=\"text-align: right;\">\n",
       "      <th></th>\n",
       "      <th>Total_floor</th>\n",
       "      <th>Curent_floor</th>\n",
       "    </tr>\n",
       "  </thead>\n",
       "  <tbody>\n",
       "    <tr>\n",
       "      <th>0</th>\n",
       "      <td>9</td>\n",
       "      <td>7</td>\n",
       "    </tr>\n",
       "    <tr>\n",
       "      <th>1</th>\n",
       "      <td>21</td>\n",
       "      <td>3</td>\n",
       "    </tr>\n",
       "    <tr>\n",
       "      <th>2</th>\n",
       "      <td>9</td>\n",
       "      <td>5</td>\n",
       "    </tr>\n",
       "    <tr>\n",
       "      <th>3</th>\n",
       "      <td>3</td>\n",
       "      <td>3</td>\n",
       "    </tr>\n",
       "    <tr>\n",
       "      <th>4</th>\n",
       "      <td>9</td>\n",
       "      <td>1</td>\n",
       "    </tr>\n",
       "  </tbody>\n",
       "</table>\n",
       "</div>"
      ],
      "text/plain": [
       "   Total_floor  Curent_floor\n",
       "0            9             7\n",
       "1           21             3\n",
       "2            9             5\n",
       "3            3             3\n",
       "4            9             1"
      ]
     },
     "execution_count": 30,
     "metadata": {},
     "output_type": "execute_result"
    }
   ],
   "source": [
    "df = pd.DataFrame( )\n",
    "df['Total_floor'] =  new_floors1\n",
    "df['Curent_floor'] = new_floors0\n",
    "df.head()"
   ]
  },
  {
   "cell_type": "markdown",
   "metadata": {},
   "source": [
    "## 2. Регулярные выражения "
   ]
  },
  {
   "cell_type": "markdown",
   "metadata": {},
   "source": [
    "Продолжаем очистку! "
   ]
  },
  {
   "cell_type": "code",
   "execution_count": 31,
   "metadata": {
    "collapsed": false
   },
   "outputs": [
    {
     "data": {
      "text/plain": [
       "1    123 000 000 руб.\n",
       "2      5 579 537 руб.\n",
       "3      5 200 000 руб.\n",
       "4      1 440 000 руб.\n",
       "5      1 540 000 руб.\n",
       "Name: Цена, dtype: object"
      ]
     },
     "execution_count": 31,
     "metadata": {},
     "output_type": "execute_result"
    }
   ],
   "source": [
    "data['Цена'][:5]"
   ]
  },
  {
   "cell_type": "code",
   "execution_count": 32,
   "metadata": {
    "collapsed": false
   },
   "outputs": [
    {
     "data": {
      "text/plain": [
       "'123 000 000 '"
      ]
     },
     "execution_count": 32,
     "metadata": {},
     "output_type": "execute_result"
    }
   ],
   "source": [
    "data['Цена'][1].replace(\"руб.\", \"\")"
   ]
  },
  {
   "cell_type": "code",
   "execution_count": 33,
   "metadata": {
    "collapsed": false
   },
   "outputs": [
    {
     "data": {
      "text/plain": [
       "'123000000руб.'"
      ]
     },
     "execution_count": 33,
     "metadata": {},
     "output_type": "execute_result"
    }
   ],
   "source": [
    "data['Цена'][1].replace(\" \", \"\")"
   ]
  },
  {
   "cell_type": "markdown",
   "metadata": {},
   "source": [
    "Хотелось бы избавиться и от пробелов и от слова `руб.`, однако делать это в два применения команды, как ниже не очень хочется..."
   ]
  },
  {
   "cell_type": "code",
   "execution_count": 34,
   "metadata": {
    "collapsed": false
   },
   "outputs": [
    {
     "data": {
      "text/plain": [
       "'123000000'"
      ]
     },
     "execution_count": 34,
     "metadata": {},
     "output_type": "execute_result"
    }
   ],
   "source": [
    "data['Цена'][1].replace(\" \", \"\").replace(\"руб.\", \"\")"
   ]
  },
  {
   "cell_type": "markdown",
   "metadata": {},
   "source": [
    "Ну и хорошо, что не хочется! Пришло время подгрузить новый пакет... \n",
    "\n",
    "[`re`](https://docs.python.org/2/library/re.html) это прекрасная библиотека, которая позволяет использовать регулярные выражения, а также более удобно работать с текстовыми данными. \n",
    "\n",
    "Регулярные выражение - это очень стнные конструкции, которые позволяют выцеплять из текстов разные закономерности. Например, решим небольшую задачку! "
   ]
  },
  {
   "cell_type": "code",
   "execution_count": 35,
   "metadata": {
    "collapsed": false
   },
   "outputs": [
    {
     "data": {
      "text/plain": [
       "['@gmail', '@test', '@analyticsvidhya', '@rest']"
      ]
     },
     "execution_count": 35,
     "metadata": {},
     "output_type": "execute_result"
    }
   ],
   "source": [
    "import re\n",
    "# Задача: вернуть список доменов из списка адресов электронной почты\n",
    "text = 'abc.test@gmail.com, xyz@test.in, test.first@analyticsvidhya.com, first.test@rest.biz'\n",
    "re.findall(r'@\\w+',text)"
   ]
  },
  {
   "cell_type": "markdown",
   "metadata": {},
   "source": [
    "Регулярное выражение `\\w` обозначает любую цифру или букву. `+` означает 1 и более вхождений шаблона слева. `\\w+` означает \"Вытаскивай мне все цифры и буквы, пока не прервётся слово. \n",
    "\n",
    "Нам не хватает точек и комов! Попросим Python добавить их. "
   ]
  },
  {
   "cell_type": "code",
   "execution_count": 36,
   "metadata": {
    "collapsed": false
   },
   "outputs": [
    {
     "data": {
      "text/plain": [
       "['@gmail.com', '@test.in', '@analyticsvidhya.com', '@rest.biz']"
      ]
     },
     "execution_count": 36,
     "metadata": {},
     "output_type": "execute_result"
    }
   ],
   "source": [
    "re.findall(r'@\\w+.\\w+',text)"
   ]
  },
  {
   "cell_type": "markdown",
   "metadata": {},
   "source": [
    "На самом деле существует довольно большое количество самых разных регулярных выражений, позволяющих очень лихо работать с текстами. Вот только учить их лениво...\n",
    "\n",
    "Если вы хотите подробнее поизучать регулярные выражения, а не только гуглить на стаковерфлоу необходимые вам паттерны, как делаю я, то вот идеальный сайт для изучения - http://regexr.com/\n",
    "\n",
    "Кроме регулярных выражений, в пакете **re** лежат удобные функции для текстовых данных. Если вы ещё не забыли, мы подгружали этот пакет для того, чтобы уничтожить рубли и пробелы. Регулярное выражение `\\d` означает цифру. Выражение `\\D` означает всё кроме цифры. Удалим всё, кроме цифр. "
   ]
  },
  {
   "cell_type": "code",
   "execution_count": 37,
   "metadata": {
    "collapsed": false
   },
   "outputs": [
    {
     "data": {
      "text/plain": [
       "'123000000'"
      ]
     },
     "execution_count": 37,
     "metadata": {},
     "output_type": "execute_result"
    }
   ],
   "source": [
    "re.sub('\\D' ,'',data['Цена'][1])"
   ]
  },
  {
   "cell_type": "code",
   "execution_count": 38,
   "metadata": {
    "collapsed": false
   },
   "outputs": [
    {
     "data": {
      "text/html": [
       "<div>\n",
       "<table border=\"1\" class=\"dataframe\">\n",
       "  <thead>\n",
       "    <tr style=\"text-align: right;\">\n",
       "      <th></th>\n",
       "      <th>Total_floor</th>\n",
       "      <th>Curent_floor</th>\n",
       "      <th>Price</th>\n",
       "    </tr>\n",
       "  </thead>\n",
       "  <tbody>\n",
       "    <tr>\n",
       "      <th>0</th>\n",
       "      <td>9</td>\n",
       "      <td>7</td>\n",
       "      <td>123000000.0</td>\n",
       "    </tr>\n",
       "    <tr>\n",
       "      <th>1</th>\n",
       "      <td>21</td>\n",
       "      <td>3</td>\n",
       "      <td>5579537.0</td>\n",
       "    </tr>\n",
       "    <tr>\n",
       "      <th>2</th>\n",
       "      <td>9</td>\n",
       "      <td>5</td>\n",
       "      <td>5200000.0</td>\n",
       "    </tr>\n",
       "    <tr>\n",
       "      <th>3</th>\n",
       "      <td>3</td>\n",
       "      <td>3</td>\n",
       "      <td>1440000.0</td>\n",
       "    </tr>\n",
       "    <tr>\n",
       "      <th>4</th>\n",
       "      <td>9</td>\n",
       "      <td>1</td>\n",
       "      <td>1540000.0</td>\n",
       "    </tr>\n",
       "  </tbody>\n",
       "</table>\n",
       "</div>"
      ],
      "text/plain": [
       "   Total_floor  Curent_floor        Price\n",
       "0            9             7  123000000.0\n",
       "1           21             3    5579537.0\n",
       "2            9             5    5200000.0\n",
       "3            3             3    1440000.0\n",
       "4            9             1    1540000.0"
      ]
     },
     "execution_count": 38,
     "metadata": {},
     "output_type": "execute_result"
    }
   ],
   "source": [
    "# Обрабатываем колонку! \n",
    "price = [float(re.sub('\\D' ,'',item)) for item in data['Цена']]\n",
    "df['Price'] = price \n",
    "\n",
    "df.head()"
   ]
  },
  {
   "cell_type": "markdown",
   "metadata": {},
   "source": [
    "## 3. Мы чистим, чистим, чистим.\n",
    "\n",
    "### 3.1 Чистим площади\n",
    "\n",
    "Вытащим разные площади квартир. "
   ]
  },
  {
   "cell_type": "code",
   "execution_count": 39,
   "metadata": {
    "collapsed": false
   },
   "outputs": [
    {
     "data": {
      "text/plain": [
       "1       22 м2\n",
       "2      9,2 м2\n",
       "3        7 м2\n",
       "4           –\n",
       "5           –\n",
       "6        3 м2\n",
       "7       10 м2\n",
       "8      2,5 м2\n",
       "9           –\n",
       "10    10,2 м2\n",
       "Name: Площадь кухни:, dtype: object"
      ]
     },
     "execution_count": 39,
     "metadata": {},
     "output_type": "execute_result"
    }
   ],
   "source": [
    "data['Площадь кухни:'][:10]"
   ]
  },
  {
   "cell_type": "markdown",
   "metadata": {},
   "source": [
    "Чёрт! Сколько же проблем. Мы должны: \n",
    "\n",
    "* Убрать подписи `m2` \n",
    "* Заменить `,` на `.`\n",
    "* Заменить – на NaN  (сделаем это в самом конце) "
   ]
  },
  {
   "cell_type": "code",
   "execution_count": 41,
   "metadata": {
    "collapsed": false
   },
   "outputs": [
    {
     "name": "stdout",
     "output_type": "stream",
     "text": [
      "9,2 м2\n",
      "9,2\n",
      "9.2\n"
     ]
    }
   ],
   "source": [
    "print(data['Площадь кухни:'][2])\n",
    "# Сначала убираем м2 \n",
    "step1 = re.sub('\\xa0м2' ,'',data['Площадь кухни:'][2])\n",
    "print(step1)\n",
    "# Меняем запятые на точки \n",
    "step2 = re.sub(',','.',step1)\n",
    "print(step2)"
   ]
  },
  {
   "cell_type": "markdown",
   "metadata": {},
   "source": [
    "Напишем функцию, которая обработает все площади."
   ]
  },
  {
   "cell_type": "code",
   "execution_count": 42,
   "metadata": {
    "collapsed": false
   },
   "outputs": [],
   "source": [
    "def SqMaker(text_vector):\n",
    "    step1 = [re.sub('\\xa0м2' ,'',text) for text in text_vector]\n",
    "    step2 = [re.sub(',','.', text) for text in step1]\n",
    "    return(step2)"
   ]
  },
  {
   "cell_type": "code",
   "execution_count": 43,
   "metadata": {
    "collapsed": false
   },
   "outputs": [
    {
     "data": {
      "text/html": [
       "<div>\n",
       "<table border=\"1\" class=\"dataframe\">\n",
       "  <thead>\n",
       "    <tr style=\"text-align: right;\">\n",
       "      <th></th>\n",
       "      <th>Total_floor</th>\n",
       "      <th>Curent_floor</th>\n",
       "      <th>Price</th>\n",
       "      <th>TotalSq</th>\n",
       "      <th>LiveSq</th>\n",
       "      <th>KichSq</th>\n",
       "      <th>RoomSq</th>\n",
       "    </tr>\n",
       "  </thead>\n",
       "  <tbody>\n",
       "    <tr>\n",
       "      <th>0</th>\n",
       "      <td>9</td>\n",
       "      <td>7</td>\n",
       "      <td>123000000.0</td>\n",
       "      <td>194.7</td>\n",
       "      <td>121.7</td>\n",
       "      <td>22</td>\n",
       "      <td>21.1-35.43-41.48-23.73</td>\n",
       "    </tr>\n",
       "    <tr>\n",
       "      <th>1</th>\n",
       "      <td>21</td>\n",
       "      <td>3</td>\n",
       "      <td>5579537.0</td>\n",
       "      <td>54.0</td>\n",
       "      <td>30.1</td>\n",
       "      <td>9.2</td>\n",
       "      <td>15.78-14.29</td>\n",
       "    </tr>\n",
       "    <tr>\n",
       "      <th>2</th>\n",
       "      <td>9</td>\n",
       "      <td>5</td>\n",
       "      <td>5200000.0</td>\n",
       "      <td>33</td>\n",
       "      <td>17</td>\n",
       "      <td>7</td>\n",
       "      <td>17</td>\n",
       "    </tr>\n",
       "    <tr>\n",
       "      <th>3</th>\n",
       "      <td>3</td>\n",
       "      <td>3</td>\n",
       "      <td>1440000.0</td>\n",
       "      <td>29</td>\n",
       "      <td>26</td>\n",
       "      <td>–</td>\n",
       "      <td>26</td>\n",
       "    </tr>\n",
       "    <tr>\n",
       "      <th>4</th>\n",
       "      <td>9</td>\n",
       "      <td>1</td>\n",
       "      <td>1540000.0</td>\n",
       "      <td>12</td>\n",
       "      <td>10</td>\n",
       "      <td>–</td>\n",
       "      <td>10</td>\n",
       "    </tr>\n",
       "  </tbody>\n",
       "</table>\n",
       "</div>"
      ],
      "text/plain": [
       "   Total_floor  Curent_floor        Price TotalSq LiveSq KichSq  \\\n",
       "0            9             7  123000000.0   194.7  121.7     22   \n",
       "1           21             3    5579537.0    54.0   30.1    9.2   \n",
       "2            9             5    5200000.0      33     17      7   \n",
       "3            3             3    1440000.0      29     26      –   \n",
       "4            9             1    1540000.0      12     10      –   \n",
       "\n",
       "                   RoomSq  \n",
       "0  21.1-35.43-41.48-23.73  \n",
       "1             15.78-14.29  \n",
       "2                      17  \n",
       "3                      26  \n",
       "4                      10  "
      ]
     },
     "execution_count": 43,
     "metadata": {},
     "output_type": "execute_result"
    }
   ],
   "source": [
    "df['TotalSq'] = SqMaker(data['Общая площадь:'])\n",
    "df['LiveSq'] = SqMaker(data['Жилая площадь:'])\n",
    "df['KichSq'] = SqMaker(data['Площадь кухни:'])\n",
    "df['RoomSq'] = SqMaker(data['Площадь комнат:'])\n",
    "\n",
    "# Обратите внимание, что люди очень непредсказуемо заполняют графу, которая отвечает за площадь комнат. \n",
    "df.head()"
   ]
  },
  {
   "cell_type": "markdown",
   "metadata": {},
   "source": [
    "### 3.2 Качественные переменные \n",
    "\n",
    "Переходим к следующей колонке! Новая колонка тестовая..."
   ]
  },
  {
   "cell_type": "code",
   "execution_count": 44,
   "metadata": {
    "collapsed": false
   },
   "outputs": [
    {
     "data": {
      "text/plain": [
       "1                                     вторичка\n",
       "2     новостройка, \\n            панельный дом\n",
       "3                                     вторичка\n",
       "4                                     вторичка\n",
       "5                                     вторичка\n",
       "6           вторичка, \\n            монолитный\n",
       "7         новостройка, \\n            кирпичный\n",
       "8                                     вторичка\n",
       "9        вторичка, \\n            панельный дом\n",
       "10       новостройка, \\n            монолитный\n",
       "Name: Тип дома:, dtype: object"
      ]
     },
     "execution_count": 44,
     "metadata": {},
     "output_type": "execute_result"
    }
   ],
   "source": [
    "data['Тип дома:'][:10]"
   ]
  },
  {
   "cell_type": "markdown",
   "metadata": {},
   "source": [
    "Посмотрим какие значения принимает эта переменная."
   ]
  },
  {
   "cell_type": "code",
   "execution_count": 45,
   "metadata": {
    "collapsed": false
   },
   "outputs": [
    {
     "data": {
      "text/plain": [
       "вторичка                                          2480\n",
       "новостройка, \\n            монолитный              727\n",
       "новостройка, \\n            панельный дом           581\n",
       "вторичка, \\n            монолитный                 449\n",
       "вторичка, \\n            панельный дом              441\n",
       "вторичка, \\n            кирпичный                  242\n",
       "новостройка, \\n            кирпичный               183\n",
       "вторичка, \\n            блочный                    178\n",
       "новостройка, \\n            кирпично-монолитный     128\n",
       "новостройка                                         82\n",
       "вторичка, \\n            кирпично-монолитный         75\n",
       "вторичка, \\n            сталинский                   6\n",
       "Name: Тип дома:, dtype: int64"
      ]
     },
     "execution_count": 45,
     "metadata": {},
     "output_type": "execute_result"
    }
   ],
   "source": [
    "data['Тип дома:'].value_counts()"
   ]
  },
  {
   "cell_type": "markdown",
   "metadata": {},
   "source": [
    "В колонке находится сразу два вида переменных. Новостройка наш дом или вторичка и тип постройки. Надо разбить этот стоблец на две части. "
   ]
  },
  {
   "cell_type": "code",
   "execution_count": 46,
   "metadata": {
    "collapsed": false
   },
   "outputs": [
    {
     "data": {
      "text/plain": [
       "['вторичка']"
      ]
     },
     "execution_count": 46,
     "metadata": {},
     "output_type": "execute_result"
    }
   ],
   "source": [
    "re.split(', +\\n +',data['Тип дома:'][1])"
   ]
  },
  {
   "cell_type": "code",
   "execution_count": 48,
   "metadata": {
    "collapsed": false
   },
   "outputs": [
    {
     "data": {
      "text/plain": [
       "['новостройка', 'панельный дом']"
      ]
     },
     "execution_count": 48,
     "metadata": {},
     "output_type": "execute_result"
    }
   ],
   "source": [
    "re.split(', +\\n +',data['Тип дома:'][2])"
   ]
  },
  {
   "cell_type": "code",
   "execution_count": 49,
   "metadata": {
    "collapsed": false
   },
   "outputs": [
    {
     "data": {
      "text/plain": [
       "[['вторичка'],\n",
       " ['новостройка', 'панельный дом'],\n",
       " ['вторичка'],\n",
       " ['вторичка'],\n",
       " ['вторичка']]"
      ]
     },
     "execution_count": 49,
     "metadata": {},
     "output_type": "execute_result"
    }
   ],
   "source": [
    "# Бац! И мы всё сделали! \n",
    "[re.split(', +\\n +', house) for house in data['Тип дома:']][:5]"
   ]
  },
  {
   "cell_type": "markdown",
   "metadata": {},
   "source": [
    "Первый элемент достаётся без проблем. На месте второго элемента возникают пропуски. Их надо будет фиксить."
   ]
  },
  {
   "cell_type": "code",
   "execution_count": 50,
   "metadata": {
    "collapsed": false
   },
   "outputs": [],
   "source": [
    "new_or_not = [re.split(', +\\n +', house)[0] for house in data['Тип дома:']]"
   ]
  },
  {
   "cell_type": "code",
   "execution_count": 51,
   "metadata": {
    "collapsed": false
   },
   "outputs": [
    {
     "data": {
      "text/plain": [
       "['–',\n",
       " 'панельный дом',\n",
       " '–',\n",
       " '–',\n",
       " '–',\n",
       " 'монолитный',\n",
       " 'кирпичный',\n",
       " '–',\n",
       " 'панельный дом',\n",
       " 'монолитный']"
      ]
     },
     "execution_count": 51,
     "metadata": {},
     "output_type": "execute_result"
    }
   ],
   "source": [
    "house_type = [ ]\n",
    "for house in data['Тип дома:']:\n",
    "    hs = re.split(', +\\n +', house)\n",
    "    if len(hs) == 2:\n",
    "        house_type.append(hs[1])\n",
    "    else:\n",
    "        house_type.append('–')\n",
    "house_type[:10]"
   ]
  },
  {
   "cell_type": "markdown",
   "metadata": {},
   "source": [
    "Добавляем всё это дело в таблицу."
   ]
  },
  {
   "cell_type": "code",
   "execution_count": 52,
   "metadata": {
    "collapsed": false
   },
   "outputs": [
    {
     "data": {
      "text/html": [
       "<div>\n",
       "<table border=\"1\" class=\"dataframe\">\n",
       "  <thead>\n",
       "    <tr style=\"text-align: right;\">\n",
       "      <th></th>\n",
       "      <th>Total_floor</th>\n",
       "      <th>Curent_floor</th>\n",
       "      <th>Price</th>\n",
       "      <th>TotalSq</th>\n",
       "      <th>LiveSq</th>\n",
       "      <th>KichSq</th>\n",
       "      <th>RoomSq</th>\n",
       "      <th>new_or_not</th>\n",
       "      <th>house_type</th>\n",
       "    </tr>\n",
       "  </thead>\n",
       "  <tbody>\n",
       "    <tr>\n",
       "      <th>0</th>\n",
       "      <td>9</td>\n",
       "      <td>7</td>\n",
       "      <td>123000000.0</td>\n",
       "      <td>194.7</td>\n",
       "      <td>121.7</td>\n",
       "      <td>22</td>\n",
       "      <td>21.1-35.43-41.48-23.73</td>\n",
       "      <td>вторичка</td>\n",
       "      <td>–</td>\n",
       "    </tr>\n",
       "    <tr>\n",
       "      <th>1</th>\n",
       "      <td>21</td>\n",
       "      <td>3</td>\n",
       "      <td>5579537.0</td>\n",
       "      <td>54.0</td>\n",
       "      <td>30.1</td>\n",
       "      <td>9.2</td>\n",
       "      <td>15.78-14.29</td>\n",
       "      <td>новостройка</td>\n",
       "      <td>панельный дом</td>\n",
       "    </tr>\n",
       "    <tr>\n",
       "      <th>2</th>\n",
       "      <td>9</td>\n",
       "      <td>5</td>\n",
       "      <td>5200000.0</td>\n",
       "      <td>33</td>\n",
       "      <td>17</td>\n",
       "      <td>7</td>\n",
       "      <td>17</td>\n",
       "      <td>вторичка</td>\n",
       "      <td>–</td>\n",
       "    </tr>\n",
       "    <tr>\n",
       "      <th>3</th>\n",
       "      <td>3</td>\n",
       "      <td>3</td>\n",
       "      <td>1440000.0</td>\n",
       "      <td>29</td>\n",
       "      <td>26</td>\n",
       "      <td>–</td>\n",
       "      <td>26</td>\n",
       "      <td>вторичка</td>\n",
       "      <td>–</td>\n",
       "    </tr>\n",
       "    <tr>\n",
       "      <th>4</th>\n",
       "      <td>9</td>\n",
       "      <td>1</td>\n",
       "      <td>1540000.0</td>\n",
       "      <td>12</td>\n",
       "      <td>10</td>\n",
       "      <td>–</td>\n",
       "      <td>10</td>\n",
       "      <td>вторичка</td>\n",
       "      <td>–</td>\n",
       "    </tr>\n",
       "  </tbody>\n",
       "</table>\n",
       "</div>"
      ],
      "text/plain": [
       "   Total_floor  Curent_floor        Price TotalSq LiveSq KichSq  \\\n",
       "0            9             7  123000000.0   194.7  121.7     22   \n",
       "1           21             3    5579537.0    54.0   30.1    9.2   \n",
       "2            9             5    5200000.0      33     17      7   \n",
       "3            3             3    1440000.0      29     26      –   \n",
       "4            9             1    1540000.0      12     10      –   \n",
       "\n",
       "                   RoomSq   new_or_not     house_type  \n",
       "0  21.1-35.43-41.48-23.73     вторичка              –  \n",
       "1             15.78-14.29  новостройка  панельный дом  \n",
       "2                      17     вторичка              –  \n",
       "3                      26     вторичка              –  \n",
       "4                      10     вторичка              –  "
      ]
     },
     "execution_count": 52,
     "metadata": {},
     "output_type": "execute_result"
    }
   ],
   "source": [
    "df['new_or_not'] = new_or_not \n",
    "df['house_type'] = house_type\n",
    "\n",
    "df.head()"
   ]
  },
  {
   "cell_type": "code",
   "execution_count": 53,
   "metadata": {
    "collapsed": false
   },
   "outputs": [
    {
     "data": {
      "text/plain": [
       "вторичка       3871\n",
       "новостройка    1701\n",
       "Name: new_or_not, dtype: int64"
      ]
     },
     "execution_count": 53,
     "metadata": {},
     "output_type": "execute_result"
    }
   ],
   "source": [
    "df['new_or_not'].value_counts()"
   ]
  },
  {
   "cell_type": "code",
   "execution_count": 54,
   "metadata": {
    "collapsed": false
   },
   "outputs": [
    {
     "data": {
      "text/plain": [
       "–                      2562\n",
       "монолитный             1176\n",
       "панельный дом          1022\n",
       "кирпичный               425\n",
       "кирпично-монолитный     203\n",
       "блочный                 178\n",
       "сталинский                6\n",
       "Name: house_type, dtype: int64"
      ]
     },
     "execution_count": 54,
     "metadata": {},
     "output_type": "execute_result"
    }
   ],
   "source": [
    "df['house_type'].value_counts()"
   ]
  },
  {
   "cell_type": "markdown",
   "metadata": {},
   "source": [
    "Вроде бы всё нормально. Продолжаем очистку."
   ]
  },
  {
   "cell_type": "markdown",
   "metadata": {},
   "source": [
    "### 3.3 Лифты и Балконы\n",
    "\n",
    "С лифтами и балконами происходят очень похожие события. Что те данные, что те, отображаются стрёмно. Надо разбивать Кажду из переменных на две. В случае балкона на количество лоджий и количество балконов. "
   ]
  },
  {
   "cell_type": "code",
   "execution_count": 55,
   "metadata": {
    "collapsed": false
   },
   "outputs": [
    {
     "data": {
      "text/plain": [
       "–                    3538\n",
       "1 балк.               903\n",
       "1 лодж.               663\n",
       "нет                   361\n",
       "1 балк. + 1 лодж.      44\n",
       "2 лодж.                34\n",
       "2 балк.                11\n",
       "3 лодж.                 6\n",
       "4 лодж.                 3\n",
       "1 балк. + 2 лодж.       3\n",
       "2 балк. + 2 лодж.       2\n",
       "4 балк. + 4 лодж.       2\n",
       "2 балк. + 1 лодж.       2\n",
       "Name: Балкон:, dtype: int64"
      ]
     },
     "execution_count": 55,
     "metadata": {},
     "output_type": "execute_result"
    }
   ],
   "source": [
    "data['Балкон:'].value_counts()"
   ]
  },
  {
   "cell_type": "code",
   "execution_count": 56,
   "metadata": {
    "collapsed": false
   },
   "outputs": [
    {
     "data": {
      "text/plain": [
       "–                     2989\n",
       "1 пасс. + 1 груз.     1607\n",
       "1 пасс.                355\n",
       "2 пасс. + 2 груз.      212\n",
       "нет                    211\n",
       "2 пасс. + 1 груз.       95\n",
       "2 пасс.                 39\n",
       "1 пасс. + 2 груз.       33\n",
       "3 пасс. + 1 груз.       10\n",
       "4 пасс. + 2 груз.        6\n",
       "1 груз.                  4\n",
       "3 пасс. + 3 груз.        3\n",
       "3 груз.                  2\n",
       "3 пасс.                  2\n",
       "2 пасс. + 3 груз.        1\n",
       "3 пасс. + 2 груз.        1\n",
       "4 пасс. + 4 груз.        1\n",
       "1 пасс. + 11 груз.       1\n",
       "Name: Лифт:, dtype: int64"
      ]
     },
     "execution_count": 56,
     "metadata": {},
     "output_type": "execute_result"
    }
   ],
   "source": [
    "data['Лифт:'].value_counts()"
   ]
  },
  {
   "cell_type": "code",
   "execution_count": 57,
   "metadata": {
    "collapsed": false
   },
   "outputs": [
    {
     "data": {
      "text/plain": [
       "'–'"
      ]
     },
     "execution_count": 57,
     "metadata": {},
     "output_type": "execute_result"
    }
   ],
   "source": [
    "data['Балкон:'][24]"
   ]
  },
  {
   "cell_type": "code",
   "execution_count": 61,
   "metadata": {
    "collapsed": false
   },
   "outputs": [
    {
     "data": {
      "text/plain": [
       "['1', 'лодж.']"
      ]
     },
     "execution_count": 61,
     "metadata": {},
     "output_type": "execute_result"
    }
   ],
   "source": [
    "# Дробим все Балконы на два разных вида!  ( | - это значёк или для регулярных выражений)\n",
    "re.split(' \\+ | ',data['Балкон:'][42])"
   ]
  },
  {
   "cell_type": "code",
   "execution_count": 64,
   "metadata": {
    "collapsed": false
   },
   "outputs": [
    {
     "data": {
      "text/plain": [
       "[['–'],\n",
       " ['1', 'балк.'],\n",
       " ['1', 'лодж.'],\n",
       " ['–'],\n",
       " ['–'],\n",
       " ['–'],\n",
       " ['–'],\n",
       " ['–'],\n",
       " ['–'],\n",
       " ['1', 'балк.']]"
      ]
     },
     "execution_count": 64,
     "metadata": {},
     "output_type": "execute_result"
    }
   ],
   "source": [
    "house_transport = [re.split(' \\+ | ',house) for house in data['Балкон:'].replace('нет','–')]\n",
    "house_transport[:10]"
   ]
  },
  {
   "cell_type": "markdown",
   "metadata": {},
   "source": [
    "Хочется сделать всё прямо одной командой и всё. К сожалению, в скачаном формате слишком много грязи... Придётся писать для очистки полноценный цикл."
   ]
  },
  {
   "cell_type": "code",
   "execution_count": 63,
   "metadata": {
    "collapsed": false
   },
   "outputs": [
    {
     "name": "stdout",
     "output_type": "stream",
     "text": [
      "[0, 1, 0, 0, 0, 0, 0, 0, 0, 1, 0, 0, 0, 0, 0, 0, 0, 1, 1, 0, 0, 0, 0, 0, 0, 0, 0, 0, 0, 1, 0, 0, 0, 0, 0, 1, 0, 1, 0, 1, 1, 0, 1, 1, 0, 1, 0, 0, 1, 1, 0, 0, 0, 0, 0, 1, 0, 0, 1, 0, 1, 1, 0, 0, 0, 0, 0, 1, 0, 0, 0, 0, 0, 0, 0, 1, 0, 1, 0, 0, 0, 1, 1, 1, 0, 0, 1, 0, 0, 0, 0, 0, 0, 0, 0, 1, 0, 0, 0, 0, 0, 1, 0, 0, 0, 0, 0, 0, 0, 1, 0, 1, 0, 0, 1, 1, 1, 0, 0, 0, 1, 1, 0, 0, 0, 0, 0, 0, 0, 0, 0, 1, 0, 1, 0, 0, 0, 1, 1, 0, 0, 1, 0, 0, 0, 0, 1, 0, 1, 0, 1, 0, 0, 0, 0, 1, 1, 0, 0, 1, 0, 0, 1, 0, 0, 1, 1, 0, 0, 1, 0, 0, 0, 0, 0, 0, 1, 1, 1, 1, 1, 1, 1, 0, 0, 1, 1, 0, 0, 0, 1, 1, 1, 0, 1, 0, 2, 0, 0, 0]\n",
      "[0, 0, 1, 0, 0, 0, 0, 0, 0, 0, 0, 0, 0, 0, 0, 0, 0, 0, 0, 1, 0, 0, 0, 0, 0, 1, 0, 0, 2, 1, 0, 0, 0, 1, 0, 0, 0, 0, 0, 0, 0, 1, 0, 0, 0, 0, 0, 0, 0, 0, 0, 1, 0, 0, 0, 0, 1, 1, 0, 1, 0, 0, 0, 0, 1, 1, 0, 0, 0, 1, 0, 0, 0, 0, 0, 0, 1, 0, 0, 0, 0, 0, 0, 0, 1, 1, 0, 0, 0, 0, 0, 1, 0, 0, 1, 0, 0, 1, 0, 0, 1, 0, 1, 0, 0, 0, 0, 0, 0, 0, 0, 0, 1, 0, 1, 0, 0, 0, 0, 0, 0, 0, 0, 0, 0, 0, 0, 0, 0, 0, 1, 0, 0, 0, 0, 0, 0, 0, 0, 0, 0, 0, 1, 0, 0, 0, 0, 1, 0, 0, 0, 0, 0, 1, 0, 0, 0, 0, 1, 0, 1, 1, 0, 0, 0, 0, 0, 1, 0, 0, 0, 1, 1, 0, 0, 0, 0, 0, 0, 0, 0, 0, 0, 0, 0, 0, 0, 0, 0, 0, 0, 0, 0, 1, 0, 1, 0, 2, 0, 0]\n"
     ]
    }
   ],
   "source": [
    "# Не очень хочется тут писать для очистки данных цикл. \n",
    "# Хочется способ очистить их на халяву! \n",
    "balkon = [ ]\n",
    "lodgya = [ ] \n",
    "for transport in house_transport:\n",
    "    if transport[0] == '–':  # Если длина 1, то нет ни балкона ни лоджии...\n",
    "        balkon.append(0)\n",
    "        lodgya.append(0)\n",
    "    elif len(transport) == 2: # Если длина 2, то есть либо балконы либо лоджии...\n",
    "        if transport[1] == 'балк.':\n",
    "            balkon.append(int(transport[0]))\n",
    "            lodgya.append(0)\n",
    "        else:\n",
    "            balkon.append(0)\n",
    "            lodgya.append(int(transport[0]))   # Если не балкон, то лоджия. Другого не дано. \n",
    "    else:                    # Если длина ни 2 и ни 1, то она 4. И у нас есть и балкон и лоджия.\n",
    "        balkon.append(int(transport[0]))\n",
    "        lodgya.append(int(transport[2]))\n",
    "    \n",
    "print(balkon[:200])\n",
    "print(lodgya[:200])"
   ]
  },
  {
   "cell_type": "markdown",
   "metadata": {},
   "source": [
    "Ровно точно также поступим с лифтами. "
   ]
  },
  {
   "cell_type": "code",
   "execution_count": 66,
   "metadata": {
    "collapsed": false
   },
   "outputs": [
    {
     "data": {
      "text/plain": [
       "[['2', 'пасс.', '2', 'груз.'],\n",
       " ['1', 'пасс.', '1', 'груз.'],\n",
       " ['1', 'пасс.'],\n",
       " ['–'],\n",
       " ['–'],\n",
       " ['1', 'пасс.', '1', 'груз.'],\n",
       " ['–'],\n",
       " ['1', 'пасс.'],\n",
       " ['–'],\n",
       " ['1', 'пасс.', '1', 'груз.']]"
      ]
     },
     "execution_count": 66,
     "metadata": {},
     "output_type": "execute_result"
    }
   ],
   "source": [
    "house_transport = [re.split(' \\+ | ',house) for house in data['Лифт:'].replace('нет','–')]\n",
    "house_transport[:10]"
   ]
  },
  {
   "cell_type": "code",
   "execution_count": 67,
   "metadata": {
    "collapsed": false
   },
   "outputs": [
    {
     "name": "stdout",
     "output_type": "stream",
     "text": [
      "[2, 1, 1, 0, 0, 1, 0, 1, 0, 1, 0, 0, 0, 0, 0, 1, 1, 1, 1, 0, 0, 0, 0, 0, 0, 0, 2, 0, 0, 0, 1, 1, 1, 1, 1, 0, 0, 1, 2, 1, 1, 1, 1, 2, 0, 0, 2, 2, 1, 1, 1, 1, 1, 1, 1, 1, 1, 1, 1, 1, 1, 1, 1, 0, 0, 1, 1, 1, 0, 1, 1, 0, 0, 0, 0, 1, 0, 1, 2, 0, 1, 0, 1, 1, 2, 1, 1, 2, 2, 0, 0, 1, 2, 1, 1, 0, 2, 0, 1, 0, 0, 1, 1, 2, 2, 1, 2, 1, 2, 1, 1, 0, 1, 1, 1, 1, 2, 1, 0, 0, 1, 1, 0, 1, 1, 2, 2, 1, 0, 0, 1, 1, 2, 1, 2, 2, 2, 1, 1, 2, 2, 1, 1, 2, 1, 0, 1, 1, 0, 1, 1, 0, 2, 1, 2, 1, 1, 0, 0, 1, 1, 1, 1, 2, 1, 1, 1, 0, 0, 1, 3, 0, 1, 2, 1, 0, 0, 1, 1, 1, 1, 1, 1, 1, 2, 1, 0, 2, 1, 0, 0, 1, 1, 1, 1, 0, 1, 1, 2, 0]\n",
      "[2, 1, 0, 0, 0, 1, 0, 0, 0, 1, 0, 0, 0, 0, 0, 1, 1, 1, 1, 0, 0, 0, 0, 0, 0, 0, 2, 0, 0, 0, 1, 1, 1, 1, 1, 0, 0, 1, 1, 1, 1, 1, 0, 2, 0, 0, 1, 1, 1, 1, 1, 1, 0, 0, 1, 1, 1, 1, 0, 1, 1, 1, 0, 0, 0, 1, 1, 1, 0, 1, 0, 0, 0, 0, 0, 1, 0, 1, 0, 0, 0, 0, 1, 1, 1, 1, 0, 1, 1, 0, 0, 1, 1, 1, 0, 0, 1, 0, 1, 0, 0, 0, 1, 1, 1, 1, 1, 1, 1, 2, 1, 0, 1, 1, 1, 1, 1, 1, 0, 0, 1, 0, 0, 1, 1, 1, 1, 1, 0, 0, 1, 2, 1, 1, 1, 0, 0, 2, 1, 1, 2, 1, 1, 0, 0, 0, 2, 1, 0, 1, 1, 0, 1, 1, 1, 1, 1, 0, 0, 1, 1, 1, 1, 1, 1, 1, 1, 0, 3, 1, 3, 0, 1, 2, 1, 0, 0, 1, 1, 1, 1, 1, 1, 0, 1, 1, 0, 1, 1, 0, 0, 1, 1, 0, 2, 0, 0, 1, 2, 0]\n"
     ]
    }
   ],
   "source": [
    "# Не очень хочется тут писать для очистки данных цикл. \n",
    "# Хочется способ очистить их на халяву! \n",
    "passagir = [ ]\n",
    "gruzovoy = [ ] \n",
    "for transport in house_transport:\n",
    "    if len(transport) <=1:  # Если длина 1, то нет ни одного лифта...\n",
    "        passagir.append(0)\n",
    "        gruzovoy.append(0)\n",
    "    elif len(transport) == 2: # Если длина 2, то есть либо грузовой либо пассажирский...\n",
    "        if transport[1] == 'пасс.':\n",
    "            passagir.append(int(transport[0]))\n",
    "            gruzovoy.append(0)\n",
    "        else:\n",
    "            passagir.append(0)\n",
    "            gruzovoy.append(int(transport[0]))   # Если не пассажирский, то грузовой. Другого не дано. \n",
    "    else:                    # Если длина ни 2 и ни 1, то она 4. И у нас есть оба типа лифтов.\n",
    "        passagir.append(int(transport[0]))\n",
    "        gruzovoy.append(int(transport[2]))\n",
    "    \n",
    "print(passagir[:200])\n",
    "print(gruzovoy[:200])"
   ]
  },
  {
   "cell_type": "markdown",
   "metadata": {},
   "source": [
    "Проверяем всё ли нормально."
   ]
  },
  {
   "cell_type": "code",
   "execution_count": 68,
   "metadata": {
    "collapsed": false
   },
   "outputs": [
    {
     "data": {
      "text/plain": [
       "(5572, 9)"
      ]
     },
     "execution_count": 68,
     "metadata": {},
     "output_type": "execute_result"
    }
   ],
   "source": [
    "df.shape"
   ]
  },
  {
   "cell_type": "code",
   "execution_count": 69,
   "metadata": {
    "collapsed": false
   },
   "outputs": [
    {
     "data": {
      "text/plain": [
       "5572"
      ]
     },
     "execution_count": 69,
     "metadata": {},
     "output_type": "execute_result"
    }
   ],
   "source": [
    "len(passagir)"
   ]
  },
  {
   "cell_type": "markdown",
   "metadata": {},
   "source": [
    "Добавляем в таблицу новую информацию."
   ]
  },
  {
   "cell_type": "code",
   "execution_count": 70,
   "metadata": {
    "collapsed": false
   },
   "outputs": [],
   "source": [
    "df['pass_elevator'] = passagir\n",
    "df['gruz_elevator'] = gruzovoy\n",
    "\n",
    "df['balkon'] = balkon\n",
    "df['lodgya'] = lodgya"
   ]
  },
  {
   "cell_type": "code",
   "execution_count": 71,
   "metadata": {
    "collapsed": false
   },
   "outputs": [
    {
     "data": {
      "text/html": [
       "<div>\n",
       "<table border=\"1\" class=\"dataframe\">\n",
       "  <thead>\n",
       "    <tr style=\"text-align: right;\">\n",
       "      <th></th>\n",
       "      <th>Total_floor</th>\n",
       "      <th>Curent_floor</th>\n",
       "      <th>Price</th>\n",
       "      <th>TotalSq</th>\n",
       "      <th>LiveSq</th>\n",
       "      <th>KichSq</th>\n",
       "      <th>RoomSq</th>\n",
       "      <th>new_or_not</th>\n",
       "      <th>house_type</th>\n",
       "      <th>pass_elevator</th>\n",
       "      <th>gruz_elevator</th>\n",
       "      <th>balkon</th>\n",
       "      <th>lodgya</th>\n",
       "    </tr>\n",
       "  </thead>\n",
       "  <tbody>\n",
       "    <tr>\n",
       "      <th>0</th>\n",
       "      <td>9</td>\n",
       "      <td>7</td>\n",
       "      <td>123000000.0</td>\n",
       "      <td>194.7</td>\n",
       "      <td>121.7</td>\n",
       "      <td>22</td>\n",
       "      <td>21.1-35.43-41.48-23.73</td>\n",
       "      <td>вторичка</td>\n",
       "      <td>–</td>\n",
       "      <td>2</td>\n",
       "      <td>2</td>\n",
       "      <td>0</td>\n",
       "      <td>0</td>\n",
       "    </tr>\n",
       "    <tr>\n",
       "      <th>1</th>\n",
       "      <td>21</td>\n",
       "      <td>3</td>\n",
       "      <td>5579537.0</td>\n",
       "      <td>54.0</td>\n",
       "      <td>30.1</td>\n",
       "      <td>9.2</td>\n",
       "      <td>15.78-14.29</td>\n",
       "      <td>новостройка</td>\n",
       "      <td>панельный дом</td>\n",
       "      <td>1</td>\n",
       "      <td>1</td>\n",
       "      <td>1</td>\n",
       "      <td>0</td>\n",
       "    </tr>\n",
       "    <tr>\n",
       "      <th>2</th>\n",
       "      <td>9</td>\n",
       "      <td>5</td>\n",
       "      <td>5200000.0</td>\n",
       "      <td>33</td>\n",
       "      <td>17</td>\n",
       "      <td>7</td>\n",
       "      <td>17</td>\n",
       "      <td>вторичка</td>\n",
       "      <td>–</td>\n",
       "      <td>1</td>\n",
       "      <td>0</td>\n",
       "      <td>0</td>\n",
       "      <td>1</td>\n",
       "    </tr>\n",
       "    <tr>\n",
       "      <th>3</th>\n",
       "      <td>3</td>\n",
       "      <td>3</td>\n",
       "      <td>1440000.0</td>\n",
       "      <td>29</td>\n",
       "      <td>26</td>\n",
       "      <td>–</td>\n",
       "      <td>26</td>\n",
       "      <td>вторичка</td>\n",
       "      <td>–</td>\n",
       "      <td>0</td>\n",
       "      <td>0</td>\n",
       "      <td>0</td>\n",
       "      <td>0</td>\n",
       "    </tr>\n",
       "    <tr>\n",
       "      <th>4</th>\n",
       "      <td>9</td>\n",
       "      <td>1</td>\n",
       "      <td>1540000.0</td>\n",
       "      <td>12</td>\n",
       "      <td>10</td>\n",
       "      <td>–</td>\n",
       "      <td>10</td>\n",
       "      <td>вторичка</td>\n",
       "      <td>–</td>\n",
       "      <td>0</td>\n",
       "      <td>0</td>\n",
       "      <td>0</td>\n",
       "      <td>0</td>\n",
       "    </tr>\n",
       "  </tbody>\n",
       "</table>\n",
       "</div>"
      ],
      "text/plain": [
       "   Total_floor  Curent_floor        Price TotalSq LiveSq KichSq  \\\n",
       "0            9             7  123000000.0   194.7  121.7     22   \n",
       "1           21             3    5579537.0    54.0   30.1    9.2   \n",
       "2            9             5    5200000.0      33     17      7   \n",
       "3            3             3    1440000.0      29     26      –   \n",
       "4            9             1    1540000.0      12     10      –   \n",
       "\n",
       "                   RoomSq   new_or_not     house_type  pass_elevator  \\\n",
       "0  21.1-35.43-41.48-23.73     вторичка              –              2   \n",
       "1             15.78-14.29  новостройка  панельный дом              1   \n",
       "2                      17     вторичка              –              1   \n",
       "3                      26     вторичка              –              0   \n",
       "4                      10     вторичка              –              0   \n",
       "\n",
       "   gruz_elevator  balkon  lodgya  \n",
       "0              2       0       0  \n",
       "1              1       1       0  \n",
       "2              0       0       1  \n",
       "3              0       0       0  \n",
       "4              0       0       0  "
      ]
     },
     "execution_count": 71,
     "metadata": {},
     "output_type": "execute_result"
    }
   ],
   "source": [
    "df.head()"
   ]
  },
  {
   "cell_type": "markdown",
   "metadata": {},
   "source": [
    "### 3.4  Высота потолков\n",
    "\n",
    "Очищаем высоту потолков от метров, пробелов и меняем все запятые на точки. "
   ]
  },
  {
   "cell_type": "code",
   "execution_count": 72,
   "metadata": {
    "collapsed": false
   },
   "outputs": [
    {
     "data": {
      "text/plain": [
       "2,64 м    608\n",
       "3 м       567\n",
       "2,80 м    213\n",
       "2,70 м    209\n",
       "3,20 м    191\n",
       "2,74 м     16\n",
       "2,48 м     16\n",
       "2,75 м     11\n",
       "3,50 м      9\n",
       "2,90 м      9\n",
       "2,60 м      9\n",
       "3,30 м      9\n",
       "3,10 м      8\n",
       "2,65 м      7\n",
       "2,50 м      6\n",
       "3,60 м      6\n",
       "3,40 м      5\n",
       "4 м         4\n",
       "2,85 м      3\n",
       "3,05 м      3\n",
       "45 м        3\n",
       "3,08 м      2\n",
       "2,45 м      2\n",
       "5,50 м      2\n",
       "2,55 м      2\n",
       "285 м       1\n",
       "2,58 м      1\n",
       "3,70 м      1\n",
       "25 м        1\n",
       "2,78 м      1\n",
       "4,20 м      1\n",
       "275 м       1\n",
       "4,10 м      1\n",
       "4,80 м      1\n",
       "Name: Высота потолков:, dtype: int64"
      ]
     },
     "execution_count": 72,
     "metadata": {},
     "output_type": "execute_result"
    }
   ],
   "source": [
    "data['Высота потолков:'].value_counts()"
   ]
  },
  {
   "cell_type": "code",
   "execution_count": 73,
   "metadata": {
    "collapsed": false
   },
   "outputs": [
    {
     "data": {
      "text/plain": [
       "'3,50'"
      ]
     },
     "execution_count": 73,
     "metadata": {},
     "output_type": "execute_result"
    }
   ],
   "source": [
    "re.sub('\\xa0м' ,'',data['Высота потолков:'][1])"
   ]
  },
  {
   "cell_type": "code",
   "execution_count": 74,
   "metadata": {
    "collapsed": false
   },
   "outputs": [
    {
     "ename": "TypeError",
     "evalue": "expected string or bytes-like object",
     "output_type": "error",
     "traceback": [
      "\u001b[0;31m---------------------------------------------------------------------------\u001b[0m",
      "\u001b[0;31mTypeError\u001b[0m                                 Traceback (most recent call last)",
      "\u001b[0;32m<ipython-input-74-f0450432e7dc>\u001b[0m in \u001b[0;36m<module>\u001b[0;34m()\u001b[0m\n\u001b[0;32m----> 1\u001b[0;31m \u001b[0;34m[\u001b[0m\u001b[0mre\u001b[0m\u001b[0;34m.\u001b[0m\u001b[0msub\u001b[0m\u001b[0;34m(\u001b[0m\u001b[0;34m'\\xa0м'\u001b[0m\u001b[0;34m,\u001b[0m\u001b[0;34m''\u001b[0m\u001b[0;34m,\u001b[0m\u001b[0mtext\u001b[0m\u001b[0;34m)\u001b[0m \u001b[0;32mfor\u001b[0m \u001b[0mtext\u001b[0m \u001b[0;32min\u001b[0m \u001b[0mdata\u001b[0m\u001b[0;34m[\u001b[0m\u001b[0;34m'Высота потолков:'\u001b[0m\u001b[0;34m]\u001b[0m\u001b[0;34m]\u001b[0m\u001b[0;34m\u001b[0m\u001b[0m\n\u001b[0m",
      "\u001b[0;32m<ipython-input-74-f0450432e7dc>\u001b[0m in \u001b[0;36m<listcomp>\u001b[0;34m(.0)\u001b[0m\n\u001b[0;32m----> 1\u001b[0;31m \u001b[0;34m[\u001b[0m\u001b[0mre\u001b[0m\u001b[0;34m.\u001b[0m\u001b[0msub\u001b[0m\u001b[0;34m(\u001b[0m\u001b[0;34m'\\xa0м'\u001b[0m\u001b[0;34m,\u001b[0m\u001b[0;34m''\u001b[0m\u001b[0;34m,\u001b[0m\u001b[0mtext\u001b[0m\u001b[0;34m)\u001b[0m \u001b[0;32mfor\u001b[0m \u001b[0mtext\u001b[0m \u001b[0;32min\u001b[0m \u001b[0mdata\u001b[0m\u001b[0;34m[\u001b[0m\u001b[0;34m'Высота потолков:'\u001b[0m\u001b[0;34m]\u001b[0m\u001b[0;34m]\u001b[0m\u001b[0;34m\u001b[0m\u001b[0m\n\u001b[0m",
      "\u001b[0;32m/usr/lib/python3.5/re.py\u001b[0m in \u001b[0;36msub\u001b[0;34m(pattern, repl, string, count, flags)\u001b[0m\n\u001b[1;32m    180\u001b[0m     \u001b[0ma\u001b[0m \u001b[0mcallable\u001b[0m\u001b[0;34m,\u001b[0m \u001b[0mit\u001b[0m\u001b[0;31m'\u001b[0m\u001b[0ms\u001b[0m \u001b[0mpassed\u001b[0m \u001b[0mthe\u001b[0m \u001b[0mmatch\u001b[0m \u001b[0mobject\u001b[0m \u001b[0;32mand\u001b[0m \u001b[0mmust\u001b[0m \u001b[0;32mreturn\u001b[0m\u001b[0;34m\u001b[0m\u001b[0m\n\u001b[1;32m    181\u001b[0m     a replacement string to be used.\"\"\"\n\u001b[0;32m--> 182\u001b[0;31m     \u001b[0;32mreturn\u001b[0m \u001b[0m_compile\u001b[0m\u001b[0;34m(\u001b[0m\u001b[0mpattern\u001b[0m\u001b[0;34m,\u001b[0m \u001b[0mflags\u001b[0m\u001b[0;34m)\u001b[0m\u001b[0;34m.\u001b[0m\u001b[0msub\u001b[0m\u001b[0;34m(\u001b[0m\u001b[0mrepl\u001b[0m\u001b[0;34m,\u001b[0m \u001b[0mstring\u001b[0m\u001b[0;34m,\u001b[0m \u001b[0mcount\u001b[0m\u001b[0;34m)\u001b[0m\u001b[0;34m\u001b[0m\u001b[0m\n\u001b[0m\u001b[1;32m    183\u001b[0m \u001b[0;34m\u001b[0m\u001b[0m\n\u001b[1;32m    184\u001b[0m \u001b[0;32mdef\u001b[0m \u001b[0msubn\u001b[0m\u001b[0;34m(\u001b[0m\u001b[0mpattern\u001b[0m\u001b[0;34m,\u001b[0m \u001b[0mrepl\u001b[0m\u001b[0;34m,\u001b[0m \u001b[0mstring\u001b[0m\u001b[0;34m,\u001b[0m \u001b[0mcount\u001b[0m\u001b[0;34m=\u001b[0m\u001b[0;36m0\u001b[0m\u001b[0;34m,\u001b[0m \u001b[0mflags\u001b[0m\u001b[0;34m=\u001b[0m\u001b[0;36m0\u001b[0m\u001b[0;34m)\u001b[0m\u001b[0;34m:\u001b[0m\u001b[0;34m\u001b[0m\u001b[0m\n",
      "\u001b[0;31mTypeError\u001b[0m: expected string or bytes-like object"
     ]
    }
   ],
   "source": [
    "[re.sub('\\xa0м','',text) for text in data['Высота потолков:']]"
   ]
  },
  {
   "cell_type": "markdown",
   "metadata": {},
   "source": [
    "Не получается. Почему не получается? Что делать, чтобы получилось? \n",
    "\n",
    "Правильно! Всё дела в NaN. Код не работает для них и выдаёт кучу ошибок. Заменим все NaN на что-нибудь..."
   ]
  },
  {
   "cell_type": "code",
   "execution_count": 76,
   "metadata": {
    "collapsed": false
   },
   "outputs": [
    {
     "data": {
      "text/plain": [
       "['3,50', '–', '2,64', '–', '2,64', '2,70', '–', '2,64', '–', '–']"
      ]
     },
     "execution_count": 76,
     "metadata": {},
     "output_type": "execute_result"
    }
   ],
   "source": [
    "import numpy as np  # настоящие наны живут в нумпае\n",
    "\n",
    "# Снова ничего не работает! Почему? \n",
    "potolki1 = [re.sub('\\xa0м','',text) for text in data['Высота потолков:'].replace(np.nan,'–')]\n",
    "potolki1[:10]"
   ]
  },
  {
   "cell_type": "code",
   "execution_count": 77,
   "metadata": {
    "collapsed": false
   },
   "outputs": [
    {
     "data": {
      "text/plain": [
       "['3.50', '–', '2.64', '–', '2.64', '2.70', '–', '2.64', '–', '–']"
      ]
     },
     "execution_count": 77,
     "metadata": {},
     "output_type": "execute_result"
    }
   ],
   "source": [
    "potolki2 = [re.sub(',','.',potolok) for potolok in potolki1]\n",
    "potolki2[:10]"
   ]
  },
  {
   "cell_type": "code",
   "execution_count": 78,
   "metadata": {
    "collapsed": true
   },
   "outputs": [],
   "source": [
    "df['visokiy_potolok'] = potolki2"
   ]
  },
  {
   "cell_type": "markdown",
   "metadata": {},
   "source": [
    "### 3.5 Когда санузлов слишком много...\n",
    "\n",
    "В нашей таблице слишком много переменных, отвечающих за санузлы. Надо с этим что-то сделать. "
   ]
  },
  {
   "cell_type": "code",
   "execution_count": 79,
   "metadata": {
    "collapsed": false
   },
   "outputs": [
    {
     "data": {
      "text/plain": [
       "1.0    3744\n",
       "2.0     104\n",
       "3.0      32\n",
       "4.0      10\n",
       "Name: Совмещенных санузлов:, dtype: int64"
      ]
     },
     "execution_count": 79,
     "metadata": {},
     "output_type": "execute_result"
    }
   ],
   "source": [
    "data['Совмещенных санузлов:'].value_counts()"
   ]
  },
  {
   "cell_type": "code",
   "execution_count": 80,
   "metadata": {
    "collapsed": false
   },
   "outputs": [
    {
     "data": {
      "text/plain": [
       "1.0    1045\n",
       "2.0      40\n",
       "3.0       5\n",
       "4.0       4\n",
       "Name: Раздельных санузлов:, dtype: int64"
      ]
     },
     "execution_count": 80,
     "metadata": {},
     "output_type": "execute_result"
    }
   ],
   "source": [
    "data['Раздельных санузлов:'].value_counts()"
   ]
  },
  {
   "cell_type": "code",
   "execution_count": 81,
   "metadata": {
    "collapsed": false
   },
   "outputs": [
    {
     "data": {
      "text/plain": [
       "нет        605\n",
       "–           58\n",
       "1 совм.      7\n",
       "Name: Санузел:, dtype: int64"
      ]
     },
     "execution_count": 81,
     "metadata": {},
     "output_type": "execute_result"
    }
   ],
   "source": [
    "data['Санузел:'].value_counts()"
   ]
  },
  {
   "cell_type": "markdown",
   "metadata": {},
   "source": [
    "**Внимание, вопрос! Почему этих переменных так много? **"
   ]
  },
  {
   "cell_type": "code",
   "execution_count": 82,
   "metadata": {
    "collapsed": false
   },
   "outputs": [
    {
     "data": {
      "text/html": [
       "<div>\n",
       "<table border=\"1\" class=\"dataframe\">\n",
       "  <thead>\n",
       "    <tr style=\"text-align: right;\">\n",
       "      <th></th>\n",
       "      <th>Совмещенных санузлов:</th>\n",
       "      <th>Раздельных санузлов:</th>\n",
       "      <th>Санузел:</th>\n",
       "    </tr>\n",
       "  </thead>\n",
       "  <tbody>\n",
       "    <tr>\n",
       "      <th>1</th>\n",
       "      <td>3.0</td>\n",
       "      <td>NaN</td>\n",
       "      <td>NaN</td>\n",
       "    </tr>\n",
       "    <tr>\n",
       "      <th>2</th>\n",
       "      <td>NaN</td>\n",
       "      <td>1.0</td>\n",
       "      <td>NaN</td>\n",
       "    </tr>\n",
       "    <tr>\n",
       "      <th>3</th>\n",
       "      <td>1.0</td>\n",
       "      <td>NaN</td>\n",
       "      <td>NaN</td>\n",
       "    </tr>\n",
       "    <tr>\n",
       "      <th>4</th>\n",
       "      <td>1.0</td>\n",
       "      <td>NaN</td>\n",
       "      <td>NaN</td>\n",
       "    </tr>\n",
       "    <tr>\n",
       "      <th>5</th>\n",
       "      <td>1.0</td>\n",
       "      <td>NaN</td>\n",
       "      <td>NaN</td>\n",
       "    </tr>\n",
       "  </tbody>\n",
       "</table>\n",
       "</div>"
      ],
      "text/plain": [
       "   Совмещенных санузлов:  Раздельных санузлов: Санузел:\n",
       "1                    3.0                   NaN      NaN\n",
       "2                    NaN                   1.0      NaN\n",
       "3                    1.0                   NaN      NaN\n",
       "4                    1.0                   NaN      NaN\n",
       "5                    1.0                   NaN      NaN"
      ]
     },
     "execution_count": 82,
     "metadata": {},
     "output_type": "execute_result"
    }
   ],
   "source": [
    "sanuzl = data[['Совмещенных санузлов:','Раздельных санузлов:','Санузел:']]\n",
    "sanuzl.head()"
   ]
  },
  {
   "cell_type": "code",
   "execution_count": 84,
   "metadata": {
    "collapsed": false
   },
   "outputs": [
    {
     "data": {
      "text/html": [
       "<div>\n",
       "<table border=\"1\" class=\"dataframe\">\n",
       "  <thead>\n",
       "    <tr style=\"text-align: right;\">\n",
       "      <th></th>\n",
       "      <th>Совмещенных санузлов:</th>\n",
       "      <th>Раздельных санузлов:</th>\n",
       "      <th>Санузел:</th>\n",
       "    </tr>\n",
       "  </thead>\n",
       "  <tbody>\n",
       "    <tr>\n",
       "      <th>7</th>\n",
       "      <td>NaN</td>\n",
       "      <td>NaN</td>\n",
       "      <td>нет</td>\n",
       "    </tr>\n",
       "    <tr>\n",
       "      <th>11</th>\n",
       "      <td>NaN</td>\n",
       "      <td>NaN</td>\n",
       "      <td>нет</td>\n",
       "    </tr>\n",
       "    <tr>\n",
       "      <th>28</th>\n",
       "      <td>NaN</td>\n",
       "      <td>NaN</td>\n",
       "      <td>нет</td>\n",
       "    </tr>\n",
       "    <tr>\n",
       "      <th>32</th>\n",
       "      <td>NaN</td>\n",
       "      <td>NaN</td>\n",
       "      <td>нет</td>\n",
       "    </tr>\n",
       "    <tr>\n",
       "      <th>43</th>\n",
       "      <td>NaN</td>\n",
       "      <td>NaN</td>\n",
       "      <td>нет</td>\n",
       "    </tr>\n",
       "    <tr>\n",
       "      <th>46</th>\n",
       "      <td>NaN</td>\n",
       "      <td>NaN</td>\n",
       "      <td>нет</td>\n",
       "    </tr>\n",
       "    <tr>\n",
       "      <th>114</th>\n",
       "      <td>NaN</td>\n",
       "      <td>NaN</td>\n",
       "      <td>нет</td>\n",
       "    </tr>\n",
       "    <tr>\n",
       "      <th>123</th>\n",
       "      <td>NaN</td>\n",
       "      <td>NaN</td>\n",
       "      <td>нет</td>\n",
       "    </tr>\n",
       "    <tr>\n",
       "      <th>124</th>\n",
       "      <td>NaN</td>\n",
       "      <td>NaN</td>\n",
       "      <td>нет</td>\n",
       "    </tr>\n",
       "    <tr>\n",
       "      <th>125</th>\n",
       "      <td>NaN</td>\n",
       "      <td>NaN</td>\n",
       "      <td>нет</td>\n",
       "    </tr>\n",
       "    <tr>\n",
       "      <th>143</th>\n",
       "      <td>NaN</td>\n",
       "      <td>NaN</td>\n",
       "      <td>нет</td>\n",
       "    </tr>\n",
       "    <tr>\n",
       "      <th>192</th>\n",
       "      <td>NaN</td>\n",
       "      <td>NaN</td>\n",
       "      <td>нет</td>\n",
       "    </tr>\n",
       "    <tr>\n",
       "      <th>255</th>\n",
       "      <td>NaN</td>\n",
       "      <td>NaN</td>\n",
       "      <td>нет</td>\n",
       "    </tr>\n",
       "    <tr>\n",
       "      <th>267</th>\n",
       "      <td>NaN</td>\n",
       "      <td>NaN</td>\n",
       "      <td>нет</td>\n",
       "    </tr>\n",
       "    <tr>\n",
       "      <th>344</th>\n",
       "      <td>NaN</td>\n",
       "      <td>NaN</td>\n",
       "      <td>нет</td>\n",
       "    </tr>\n",
       "    <tr>\n",
       "      <th>357</th>\n",
       "      <td>NaN</td>\n",
       "      <td>NaN</td>\n",
       "      <td>нет</td>\n",
       "    </tr>\n",
       "    <tr>\n",
       "      <th>377</th>\n",
       "      <td>NaN</td>\n",
       "      <td>NaN</td>\n",
       "      <td>нет</td>\n",
       "    </tr>\n",
       "    <tr>\n",
       "      <th>378</th>\n",
       "      <td>NaN</td>\n",
       "      <td>NaN</td>\n",
       "      <td>нет</td>\n",
       "    </tr>\n",
       "    <tr>\n",
       "      <th>405</th>\n",
       "      <td>NaN</td>\n",
       "      <td>NaN</td>\n",
       "      <td>нет</td>\n",
       "    </tr>\n",
       "    <tr>\n",
       "      <th>441</th>\n",
       "      <td>NaN</td>\n",
       "      <td>NaN</td>\n",
       "      <td>нет</td>\n",
       "    </tr>\n",
       "    <tr>\n",
       "      <th>476</th>\n",
       "      <td>NaN</td>\n",
       "      <td>NaN</td>\n",
       "      <td>нет</td>\n",
       "    </tr>\n",
       "    <tr>\n",
       "      <th>487</th>\n",
       "      <td>NaN</td>\n",
       "      <td>NaN</td>\n",
       "      <td>нет</td>\n",
       "    </tr>\n",
       "    <tr>\n",
       "      <th>490</th>\n",
       "      <td>NaN</td>\n",
       "      <td>NaN</td>\n",
       "      <td>нет</td>\n",
       "    </tr>\n",
       "    <tr>\n",
       "      <th>493</th>\n",
       "      <td>NaN</td>\n",
       "      <td>NaN</td>\n",
       "      <td>нет</td>\n",
       "    </tr>\n",
       "    <tr>\n",
       "      <th>535</th>\n",
       "      <td>NaN</td>\n",
       "      <td>NaN</td>\n",
       "      <td>нет</td>\n",
       "    </tr>\n",
       "    <tr>\n",
       "      <th>539</th>\n",
       "      <td>NaN</td>\n",
       "      <td>NaN</td>\n",
       "      <td>нет</td>\n",
       "    </tr>\n",
       "    <tr>\n",
       "      <th>586</th>\n",
       "      <td>NaN</td>\n",
       "      <td>NaN</td>\n",
       "      <td>нет</td>\n",
       "    </tr>\n",
       "    <tr>\n",
       "      <th>591</th>\n",
       "      <td>NaN</td>\n",
       "      <td>NaN</td>\n",
       "      <td>нет</td>\n",
       "    </tr>\n",
       "    <tr>\n",
       "      <th>626</th>\n",
       "      <td>NaN</td>\n",
       "      <td>NaN</td>\n",
       "      <td>нет</td>\n",
       "    </tr>\n",
       "    <tr>\n",
       "      <th>669</th>\n",
       "      <td>NaN</td>\n",
       "      <td>NaN</td>\n",
       "      <td>нет</td>\n",
       "    </tr>\n",
       "    <tr>\n",
       "      <th>...</th>\n",
       "      <td>...</td>\n",
       "      <td>...</td>\n",
       "      <td>...</td>\n",
       "    </tr>\n",
       "    <tr>\n",
       "      <th>5303</th>\n",
       "      <td>NaN</td>\n",
       "      <td>NaN</td>\n",
       "      <td>нет</td>\n",
       "    </tr>\n",
       "    <tr>\n",
       "      <th>5320</th>\n",
       "      <td>NaN</td>\n",
       "      <td>NaN</td>\n",
       "      <td>нет</td>\n",
       "    </tr>\n",
       "    <tr>\n",
       "      <th>5327</th>\n",
       "      <td>NaN</td>\n",
       "      <td>NaN</td>\n",
       "      <td>нет</td>\n",
       "    </tr>\n",
       "    <tr>\n",
       "      <th>5331</th>\n",
       "      <td>NaN</td>\n",
       "      <td>NaN</td>\n",
       "      <td>нет</td>\n",
       "    </tr>\n",
       "    <tr>\n",
       "      <th>5348</th>\n",
       "      <td>NaN</td>\n",
       "      <td>NaN</td>\n",
       "      <td>нет</td>\n",
       "    </tr>\n",
       "    <tr>\n",
       "      <th>5355</th>\n",
       "      <td>NaN</td>\n",
       "      <td>NaN</td>\n",
       "      <td>нет</td>\n",
       "    </tr>\n",
       "    <tr>\n",
       "      <th>5359</th>\n",
       "      <td>NaN</td>\n",
       "      <td>NaN</td>\n",
       "      <td>нет</td>\n",
       "    </tr>\n",
       "    <tr>\n",
       "      <th>5376</th>\n",
       "      <td>NaN</td>\n",
       "      <td>NaN</td>\n",
       "      <td>нет</td>\n",
       "    </tr>\n",
       "    <tr>\n",
       "      <th>5383</th>\n",
       "      <td>NaN</td>\n",
       "      <td>NaN</td>\n",
       "      <td>нет</td>\n",
       "    </tr>\n",
       "    <tr>\n",
       "      <th>5387</th>\n",
       "      <td>NaN</td>\n",
       "      <td>NaN</td>\n",
       "      <td>нет</td>\n",
       "    </tr>\n",
       "    <tr>\n",
       "      <th>5404</th>\n",
       "      <td>NaN</td>\n",
       "      <td>NaN</td>\n",
       "      <td>нет</td>\n",
       "    </tr>\n",
       "    <tr>\n",
       "      <th>5411</th>\n",
       "      <td>NaN</td>\n",
       "      <td>NaN</td>\n",
       "      <td>нет</td>\n",
       "    </tr>\n",
       "    <tr>\n",
       "      <th>5415</th>\n",
       "      <td>NaN</td>\n",
       "      <td>NaN</td>\n",
       "      <td>нет</td>\n",
       "    </tr>\n",
       "    <tr>\n",
       "      <th>5432</th>\n",
       "      <td>NaN</td>\n",
       "      <td>NaN</td>\n",
       "      <td>нет</td>\n",
       "    </tr>\n",
       "    <tr>\n",
       "      <th>5439</th>\n",
       "      <td>NaN</td>\n",
       "      <td>NaN</td>\n",
       "      <td>нет</td>\n",
       "    </tr>\n",
       "    <tr>\n",
       "      <th>5443</th>\n",
       "      <td>NaN</td>\n",
       "      <td>NaN</td>\n",
       "      <td>нет</td>\n",
       "    </tr>\n",
       "    <tr>\n",
       "      <th>5460</th>\n",
       "      <td>NaN</td>\n",
       "      <td>NaN</td>\n",
       "      <td>нет</td>\n",
       "    </tr>\n",
       "    <tr>\n",
       "      <th>5467</th>\n",
       "      <td>NaN</td>\n",
       "      <td>NaN</td>\n",
       "      <td>нет</td>\n",
       "    </tr>\n",
       "    <tr>\n",
       "      <th>5471</th>\n",
       "      <td>NaN</td>\n",
       "      <td>NaN</td>\n",
       "      <td>нет</td>\n",
       "    </tr>\n",
       "    <tr>\n",
       "      <th>5488</th>\n",
       "      <td>NaN</td>\n",
       "      <td>NaN</td>\n",
       "      <td>нет</td>\n",
       "    </tr>\n",
       "    <tr>\n",
       "      <th>5495</th>\n",
       "      <td>NaN</td>\n",
       "      <td>NaN</td>\n",
       "      <td>нет</td>\n",
       "    </tr>\n",
       "    <tr>\n",
       "      <th>5499</th>\n",
       "      <td>NaN</td>\n",
       "      <td>NaN</td>\n",
       "      <td>нет</td>\n",
       "    </tr>\n",
       "    <tr>\n",
       "      <th>5516</th>\n",
       "      <td>NaN</td>\n",
       "      <td>NaN</td>\n",
       "      <td>нет</td>\n",
       "    </tr>\n",
       "    <tr>\n",
       "      <th>5519</th>\n",
       "      <td>NaN</td>\n",
       "      <td>NaN</td>\n",
       "      <td>нет</td>\n",
       "    </tr>\n",
       "    <tr>\n",
       "      <th>5523</th>\n",
       "      <td>NaN</td>\n",
       "      <td>NaN</td>\n",
       "      <td>нет</td>\n",
       "    </tr>\n",
       "    <tr>\n",
       "      <th>5527</th>\n",
       "      <td>NaN</td>\n",
       "      <td>NaN</td>\n",
       "      <td>нет</td>\n",
       "    </tr>\n",
       "    <tr>\n",
       "      <th>5544</th>\n",
       "      <td>NaN</td>\n",
       "      <td>NaN</td>\n",
       "      <td>нет</td>\n",
       "    </tr>\n",
       "    <tr>\n",
       "      <th>5551</th>\n",
       "      <td>NaN</td>\n",
       "      <td>NaN</td>\n",
       "      <td>нет</td>\n",
       "    </tr>\n",
       "    <tr>\n",
       "      <th>5555</th>\n",
       "      <td>NaN</td>\n",
       "      <td>NaN</td>\n",
       "      <td>нет</td>\n",
       "    </tr>\n",
       "    <tr>\n",
       "      <th>5572</th>\n",
       "      <td>NaN</td>\n",
       "      <td>NaN</td>\n",
       "      <td>нет</td>\n",
       "    </tr>\n",
       "  </tbody>\n",
       "</table>\n",
       "<p>605 rows × 3 columns</p>\n",
       "</div>"
      ],
      "text/plain": [
       "      Совмещенных санузлов:  Раздельных санузлов: Санузел:\n",
       "7                       NaN                   NaN      нет\n",
       "11                      NaN                   NaN      нет\n",
       "28                      NaN                   NaN      нет\n",
       "32                      NaN                   NaN      нет\n",
       "43                      NaN                   NaN      нет\n",
       "46                      NaN                   NaN      нет\n",
       "114                     NaN                   NaN      нет\n",
       "123                     NaN                   NaN      нет\n",
       "124                     NaN                   NaN      нет\n",
       "125                     NaN                   NaN      нет\n",
       "143                     NaN                   NaN      нет\n",
       "192                     NaN                   NaN      нет\n",
       "255                     NaN                   NaN      нет\n",
       "267                     NaN                   NaN      нет\n",
       "344                     NaN                   NaN      нет\n",
       "357                     NaN                   NaN      нет\n",
       "377                     NaN                   NaN      нет\n",
       "378                     NaN                   NaN      нет\n",
       "405                     NaN                   NaN      нет\n",
       "441                     NaN                   NaN      нет\n",
       "476                     NaN                   NaN      нет\n",
       "487                     NaN                   NaN      нет\n",
       "490                     NaN                   NaN      нет\n",
       "493                     NaN                   NaN      нет\n",
       "535                     NaN                   NaN      нет\n",
       "539                     NaN                   NaN      нет\n",
       "586                     NaN                   NaN      нет\n",
       "591                     NaN                   NaN      нет\n",
       "626                     NaN                   NaN      нет\n",
       "669                     NaN                   NaN      нет\n",
       "...                     ...                   ...      ...\n",
       "5303                    NaN                   NaN      нет\n",
       "5320                    NaN                   NaN      нет\n",
       "5327                    NaN                   NaN      нет\n",
       "5331                    NaN                   NaN      нет\n",
       "5348                    NaN                   NaN      нет\n",
       "5355                    NaN                   NaN      нет\n",
       "5359                    NaN                   NaN      нет\n",
       "5376                    NaN                   NaN      нет\n",
       "5383                    NaN                   NaN      нет\n",
       "5387                    NaN                   NaN      нет\n",
       "5404                    NaN                   NaN      нет\n",
       "5411                    NaN                   NaN      нет\n",
       "5415                    NaN                   NaN      нет\n",
       "5432                    NaN                   NaN      нет\n",
       "5439                    NaN                   NaN      нет\n",
       "5443                    NaN                   NaN      нет\n",
       "5460                    NaN                   NaN      нет\n",
       "5467                    NaN                   NaN      нет\n",
       "5471                    NaN                   NaN      нет\n",
       "5488                    NaN                   NaN      нет\n",
       "5495                    NaN                   NaN      нет\n",
       "5499                    NaN                   NaN      нет\n",
       "5516                    NaN                   NaN      нет\n",
       "5519                    NaN                   NaN      нет\n",
       "5523                    NaN                   NaN      нет\n",
       "5527                    NaN                   NaN      нет\n",
       "5544                    NaN                   NaN      нет\n",
       "5551                    NaN                   NaN      нет\n",
       "5555                    NaN                   NaN      нет\n",
       "5572                    NaN                   NaN      нет\n",
       "\n",
       "[605 rows x 3 columns]"
      ]
     },
     "execution_count": 84,
     "metadata": {},
     "output_type": "execute_result"
    }
   ],
   "source": [
    "sanuzl['Санузел:'] == 'нет'\n",
    "sanuzl[sanuzl['Санузел:'] == 'нет']"
   ]
  },
  {
   "cell_type": "code",
   "execution_count": 90,
   "metadata": {
    "collapsed": true
   },
   "outputs": [],
   "source": [
    "# Вопрос на засыпку: Зачем я применил тут команду list? \n",
    "df['sovmest_sanuz'] = list(data['Совмещенных санузлов:'])\n",
    "df['razdeln_sanuz'] = list(data['Раздельных санузлов:'])\n",
    "df['exist_sanuz'] =  list(data['Санузел:'])"
   ]
  },
  {
   "cell_type": "code",
   "execution_count": 91,
   "metadata": {
    "collapsed": false
   },
   "outputs": [
    {
     "data": {
      "text/html": [
       "<div>\n",
       "<table border=\"1\" class=\"dataframe\">\n",
       "  <thead>\n",
       "    <tr style=\"text-align: right;\">\n",
       "      <th></th>\n",
       "      <th>Total_floor</th>\n",
       "      <th>Curent_floor</th>\n",
       "      <th>Price</th>\n",
       "      <th>TotalSq</th>\n",
       "      <th>LiveSq</th>\n",
       "      <th>KichSq</th>\n",
       "      <th>RoomSq</th>\n",
       "      <th>new_or_not</th>\n",
       "      <th>house_type</th>\n",
       "      <th>pass_elevator</th>\n",
       "      <th>gruz_elevator</th>\n",
       "      <th>balkon</th>\n",
       "      <th>lodgya</th>\n",
       "      <th>visokiy_potolok</th>\n",
       "      <th>sovmest_sanuz</th>\n",
       "      <th>razdeln_sanuz</th>\n",
       "      <th>exist_sanuz</th>\n",
       "    </tr>\n",
       "  </thead>\n",
       "  <tbody>\n",
       "    <tr>\n",
       "      <th>0</th>\n",
       "      <td>9</td>\n",
       "      <td>7</td>\n",
       "      <td>123000000.0</td>\n",
       "      <td>194.7</td>\n",
       "      <td>121.7</td>\n",
       "      <td>22</td>\n",
       "      <td>21.1-35.43-41.48-23.73</td>\n",
       "      <td>вторичка</td>\n",
       "      <td>–</td>\n",
       "      <td>2</td>\n",
       "      <td>2</td>\n",
       "      <td>0</td>\n",
       "      <td>0</td>\n",
       "      <td>3.50</td>\n",
       "      <td>3.0</td>\n",
       "      <td>NaN</td>\n",
       "      <td>NaN</td>\n",
       "    </tr>\n",
       "    <tr>\n",
       "      <th>1</th>\n",
       "      <td>21</td>\n",
       "      <td>3</td>\n",
       "      <td>5579537.0</td>\n",
       "      <td>54.0</td>\n",
       "      <td>30.1</td>\n",
       "      <td>9.2</td>\n",
       "      <td>15.78-14.29</td>\n",
       "      <td>новостройка</td>\n",
       "      <td>панельный дом</td>\n",
       "      <td>1</td>\n",
       "      <td>1</td>\n",
       "      <td>1</td>\n",
       "      <td>0</td>\n",
       "      <td>–</td>\n",
       "      <td>NaN</td>\n",
       "      <td>1.0</td>\n",
       "      <td>NaN</td>\n",
       "    </tr>\n",
       "    <tr>\n",
       "      <th>2</th>\n",
       "      <td>9</td>\n",
       "      <td>5</td>\n",
       "      <td>5200000.0</td>\n",
       "      <td>33</td>\n",
       "      <td>17</td>\n",
       "      <td>7</td>\n",
       "      <td>17</td>\n",
       "      <td>вторичка</td>\n",
       "      <td>–</td>\n",
       "      <td>1</td>\n",
       "      <td>0</td>\n",
       "      <td>0</td>\n",
       "      <td>1</td>\n",
       "      <td>2.64</td>\n",
       "      <td>1.0</td>\n",
       "      <td>NaN</td>\n",
       "      <td>NaN</td>\n",
       "    </tr>\n",
       "    <tr>\n",
       "      <th>3</th>\n",
       "      <td>3</td>\n",
       "      <td>3</td>\n",
       "      <td>1440000.0</td>\n",
       "      <td>29</td>\n",
       "      <td>26</td>\n",
       "      <td>–</td>\n",
       "      <td>26</td>\n",
       "      <td>вторичка</td>\n",
       "      <td>–</td>\n",
       "      <td>0</td>\n",
       "      <td>0</td>\n",
       "      <td>0</td>\n",
       "      <td>0</td>\n",
       "      <td>–</td>\n",
       "      <td>1.0</td>\n",
       "      <td>NaN</td>\n",
       "      <td>NaN</td>\n",
       "    </tr>\n",
       "    <tr>\n",
       "      <th>4</th>\n",
       "      <td>9</td>\n",
       "      <td>1</td>\n",
       "      <td>1540000.0</td>\n",
       "      <td>12</td>\n",
       "      <td>10</td>\n",
       "      <td>–</td>\n",
       "      <td>10</td>\n",
       "      <td>вторичка</td>\n",
       "      <td>–</td>\n",
       "      <td>0</td>\n",
       "      <td>0</td>\n",
       "      <td>0</td>\n",
       "      <td>0</td>\n",
       "      <td>2.64</td>\n",
       "      <td>1.0</td>\n",
       "      <td>NaN</td>\n",
       "      <td>NaN</td>\n",
       "    </tr>\n",
       "  </tbody>\n",
       "</table>\n",
       "</div>"
      ],
      "text/plain": [
       "   Total_floor  Curent_floor        Price TotalSq LiveSq KichSq  \\\n",
       "0            9             7  123000000.0   194.7  121.7     22   \n",
       "1           21             3    5579537.0    54.0   30.1    9.2   \n",
       "2            9             5    5200000.0      33     17      7   \n",
       "3            3             3    1440000.0      29     26      –   \n",
       "4            9             1    1540000.0      12     10      –   \n",
       "\n",
       "                   RoomSq   new_or_not     house_type  pass_elevator  \\\n",
       "0  21.1-35.43-41.48-23.73     вторичка              –              2   \n",
       "1             15.78-14.29  новостройка  панельный дом              1   \n",
       "2                      17     вторичка              –              1   \n",
       "3                      26     вторичка              –              0   \n",
       "4                      10     вторичка              –              0   \n",
       "\n",
       "   gruz_elevator  balkon  lodgya visokiy_potolok  sovmest_sanuz  \\\n",
       "0              2       0       0            3.50            3.0   \n",
       "1              1       1       0               –            NaN   \n",
       "2              0       0       1            2.64            1.0   \n",
       "3              0       0       0               –            1.0   \n",
       "4              0       0       0            2.64            1.0   \n",
       "\n",
       "   razdeln_sanuz exist_sanuz  \n",
       "0            NaN         NaN  \n",
       "1            1.0         NaN  \n",
       "2            NaN         NaN  \n",
       "3            NaN         NaN  \n",
       "4            NaN         NaN  "
      ]
     },
     "execution_count": 91,
     "metadata": {},
     "output_type": "execute_result"
    }
   ],
   "source": [
    "df.head( )"
   ]
  },
  {
   "cell_type": "markdown",
   "metadata": {},
   "source": [
    "### 3.6 Расстояние до метро\n",
    "\n",
    "До метро можно добраться либо пешком либо на машине. Разобьём переменную, отвечающую за это на две части - машинную и пешеходную "
   ]
  },
  {
   "cell_type": "code",
   "execution_count": 93,
   "metadata": {
    "collapsed": false
   },
   "outputs": [
    {
     "data": {
      "text/plain": [
       "'16\\n                мин.\\n                \\n                    пешком'"
      ]
     },
     "execution_count": 93,
     "metadata": {},
     "output_type": "execute_result"
    }
   ],
   "source": [
    "data['До метро'][5]"
   ]
  },
  {
   "cell_type": "code",
   "execution_count": 94,
   "metadata": {
    "collapsed": false
   },
   "outputs": [
    {
     "data": {
      "text/plain": [
       "['25', 'на машине']"
      ]
     },
     "execution_count": 94,
     "metadata": {},
     "output_type": "execute_result"
    }
   ],
   "source": [
    "re.split('\\n +мин.\\n + \\n +',data['До метро'][4])"
   ]
  },
  {
   "cell_type": "code",
   "execution_count": 95,
   "metadata": {
    "collapsed": false
   },
   "outputs": [
    {
     "data": {
      "text/plain": [
       "[['4', 'пешком'],\n",
       " ['10', 'на машине'],\n",
       " ['16', 'на машине'],\n",
       " ['25', 'на машине'],\n",
       " ['16', 'пешком'],\n",
       " ['–'],\n",
       " ['30', 'на машине'],\n",
       " ['16', 'пешком'],\n",
       " ['8', 'пешком'],\n",
       " ['37', 'на машине']]"
      ]
     },
     "execution_count": 95,
     "metadata": {},
     "output_type": "execute_result"
    }
   ],
   "source": [
    "do_metro = [re.split('\\n +мин.\\n + \\n + ', item) for item in data['До метро'].replace(np.nan,'–')]\n",
    "do_metro[:10]"
   ]
  },
  {
   "cell_type": "code",
   "execution_count": 97,
   "metadata": {
    "collapsed": false
   },
   "outputs": [],
   "source": [
    "do_metro_mashina = [ ]\n",
    "do_metro_peshkom = [ ]\n",
    "for doroga in do_metro:\n",
    "    if len(doroga) == 1:  # Значит никакой информации не дано\n",
    "        do_metro_mashina.append('–')\n",
    "        do_metro_peshkom.append('–')\n",
    "    elif doroga[1] == 'пешком':\n",
    "        do_metro_mashina.append('–')\n",
    "        do_metro_peshkom.append(doroga[0])\n",
    "    else:\n",
    "        do_metro_mashina.append(doroga[0])\n",
    "        do_metro_peshkom.append('–')"
   ]
  },
  {
   "cell_type": "markdown",
   "metadata": {},
   "source": [
    "Добавляем очередные колонки к таблице."
   ]
  },
  {
   "cell_type": "code",
   "execution_count": 98,
   "metadata": {
    "collapsed": false
   },
   "outputs": [],
   "source": [
    "df['do_metro_peshkom'] = do_metro_peshkom\n",
    "df['do_metro_mashina'] = do_metro_mashina"
   ]
  },
  {
   "cell_type": "markdown",
   "metadata": {},
   "source": [
    "### 3.7 Год постройки."
   ]
  },
  {
   "cell_type": "code",
   "execution_count": 99,
   "metadata": {
    "collapsed": false
   },
   "outputs": [
    {
     "data": {
      "text/plain": [
       "1     2012\n",
       "2        –\n",
       "3     1965\n",
       "4        –\n",
       "5     1972\n",
       "6     2015\n",
       "7        –\n",
       "8     1972\n",
       "9     1982\n",
       "10       –\n",
       "Name: Год постройки:, dtype: object"
      ]
     },
     "execution_count": 99,
     "metadata": {},
     "output_type": "execute_result"
    }
   ],
   "source": [
    "# С годом постройки всё хорошо. Тут уже приведены цифры. \n",
    "past_year = data['Год постройки:'].replace(np.nan,'–')\n",
    "past_year[:10]"
   ]
  },
  {
   "cell_type": "code",
   "execution_count": 105,
   "metadata": {
    "collapsed": false
   },
   "outputs": [
    {
     "data": {
      "text/plain": [
       "'2 кв. 2017 года'"
      ]
     },
     "execution_count": 105,
     "metadata": {},
     "output_type": "execute_result"
    }
   ],
   "source": [
    "data['Сдача ГК:'][11]"
   ]
  },
  {
   "cell_type": "code",
   "execution_count": 108,
   "metadata": {
    "collapsed": false
   },
   "outputs": [
    {
     "data": {
      "text/plain": [
       "['2017']"
      ]
     },
     "execution_count": 108,
     "metadata": {},
     "output_type": "execute_result"
    }
   ],
   "source": [
    "# С годом сдачи проблемы. Пренебрежём кварталами и оставим только года. \n",
    "re.findall('2\\d+', data['Сдача ГК:'][11])"
   ]
  },
  {
   "cell_type": "code",
   "execution_count": 109,
   "metadata": {
    "collapsed": false
   },
   "outputs": [],
   "source": [
    "future_year = [ ]\n",
    "for year in data['Сдача ГК:'].replace(np.nan,'–'):\n",
    "    if year == '–':\n",
    "        future_year.append('–')\n",
    "    else:\n",
    "        future_year.append(re.findall('2\\d+', year))"
   ]
  },
  {
   "cell_type": "code",
   "execution_count": 110,
   "metadata": {
    "collapsed": false
   },
   "outputs": [],
   "source": [
    "df['past_year'] = past_year\n",
    "df['future_year'] = future_year"
   ]
  },
  {
   "cell_type": "markdown",
   "metadata": {},
   "source": [
    "### 3.8 Координаты\n",
    "\n",
    "Разобьём координаты на широту и доготу объекта. При варке фичей нам так будет гораздо удобнее считать расстояния. "
   ]
  },
  {
   "cell_type": "code",
   "execution_count": 111,
   "metadata": {
    "collapsed": false
   },
   "outputs": [
    {
     "data": {
      "text/plain": [
       "'[37.653703,55.744738]'"
      ]
     },
     "execution_count": 111,
     "metadata": {},
     "output_type": "execute_result"
    }
   ],
   "source": [
    "data['Координаты'][1]"
   ]
  },
  {
   "cell_type": "code",
   "execution_count": 112,
   "metadata": {
    "collapsed": false
   },
   "outputs": [
    {
     "data": {
      "text/plain": [
       "['', '37.653703', '55.744738', '']"
      ]
     },
     "execution_count": 112,
     "metadata": {},
     "output_type": "execute_result"
    }
   ],
   "source": [
    "re.split('\\[|,|\\]',data['Координаты'][1])"
   ]
  },
  {
   "cell_type": "code",
   "execution_count": 113,
   "metadata": {
    "collapsed": false
   },
   "outputs": [
    {
     "data": {
      "text/plain": [
       "'37.653703'"
      ]
     },
     "execution_count": 113,
     "metadata": {},
     "output_type": "execute_result"
    }
   ],
   "source": [
    "re.split('\\[|,|\\]',data['Координаты'][1])[1]"
   ]
  },
  {
   "cell_type": "code",
   "execution_count": 114,
   "metadata": {
    "collapsed": false
   },
   "outputs": [
    {
     "data": {
      "text/plain": [
       "'55.744738'"
      ]
     },
     "execution_count": 114,
     "metadata": {},
     "output_type": "execute_result"
    }
   ],
   "source": [
    "re.split('\\[|,|\\]',data['Координаты'][1])[2]"
   ]
  },
  {
   "cell_type": "code",
   "execution_count": 115,
   "metadata": {
    "collapsed": false
   },
   "outputs": [],
   "source": [
    "longitude = [float(re.split('\\[|,|\\]',item)[1]) for item in data['Координаты']]  # долгота \n",
    "latitude  = [float(re.split('\\[|,|\\]',item)[2]) for item in data['Координаты']]  # широта"
   ]
  },
  {
   "cell_type": "code",
   "execution_count": 116,
   "metadata": {
    "collapsed": false
   },
   "outputs": [],
   "source": [
    "df['latitude'] = latitude\n",
    "df['longitude'] = longitude"
   ]
  },
  {
   "cell_type": "markdown",
   "metadata": {},
   "source": [
    "### 3.9   Уже чистые данные\n",
    "Наша работа здесь окончена. Дальше идёт несколько колонок, с которыми всё хорошо. Трогать их не имеет смысла. "
   ]
  },
  {
   "cell_type": "code",
   "execution_count": 117,
   "metadata": {
    "collapsed": false
   },
   "outputs": [
    {
     "data": {
      "text/plain": [
       "свободная                  4696\n",
       "переуступка                 583\n",
       "214-ФЗ                      223\n",
       "альтернатива                 51\n",
       "предварительный договор      12\n",
       "договор ЖСК                   1\n",
       "Name: Тип продажи:, dtype: int64"
      ]
     },
     "execution_count": 117,
     "metadata": {},
     "output_type": "execute_result"
    }
   ],
   "source": [
    "data['Тип продажи:'].value_counts()"
   ]
  },
  {
   "cell_type": "code",
   "execution_count": 118,
   "metadata": {
    "collapsed": false
   },
   "outputs": [
    {
     "data": {
      "text/plain": [
       "апартаменты    18\n",
       "пентхаус       11\n",
       "Name: Статус помещения:, dtype: int64"
      ]
     },
     "execution_count": 118,
     "metadata": {},
     "output_type": "execute_result"
    }
   ],
   "source": [
    "# Сомнительная переменная \n",
    "data['Статус помещения:'].value_counts()"
   ]
  },
  {
   "cell_type": "code",
   "execution_count": 119,
   "metadata": {
    "collapsed": false
   },
   "outputs": [
    {
     "data": {
      "text/plain": [
       "нет    707\n",
       "да     409\n",
       "Name: Телефон:, dtype: int64"
      ]
     },
     "execution_count": 119,
     "metadata": {},
     "output_type": "execute_result"
    }
   ],
   "source": [
    "data['Телефон:'].value_counts()"
   ]
  },
  {
   "cell_type": "code",
   "execution_count": 120,
   "metadata": {
    "collapsed": false
   },
   "outputs": [
    {
     "data": {
      "text/plain": [
       "отсутствует      2562\n",
       "косметический     989\n",
       "евроремонт        128\n",
       "дизайнерский       90\n",
       "Name: Ремонт:, dtype: int64"
      ]
     },
     "execution_count": 120,
     "metadata": {},
     "output_type": "execute_result"
    }
   ],
   "source": [
    "data['Ремонт:'].value_counts()"
   ]
  },
  {
   "cell_type": "code",
   "execution_count": 121,
   "metadata": {
    "collapsed": false
   },
   "outputs": [
    {
     "data": {
      "text/plain": [
       "наземная          2614\n",
       "подземная          328\n",
       "многоуровневая       9\n",
       "открытая             6\n",
       "на крыше             1\n",
       "Name: Парковка:, dtype: int64"
      ]
     },
     "execution_count": 121,
     "metadata": {},
     "output_type": "execute_result"
    }
   ],
   "source": [
    "data['Парковка:'].value_counts()"
   ]
  },
  {
   "cell_type": "code",
   "execution_count": 122,
   "metadata": {
    "collapsed": false
   },
   "outputs": [
    {
     "data": {
      "text/plain": [
       "двор            3375\n",
       "–               1198\n",
       "улица            556\n",
       "двор и улица     443\n",
       "Name: Вид из окна:, dtype: int64"
      ]
     },
     "execution_count": 122,
     "metadata": {},
     "output_type": "execute_result"
    }
   ],
   "source": [
    "data['Вид из окна:'].value_counts()"
   ]
  },
  {
   "cell_type": "code",
   "execution_count": 123,
   "metadata": {
    "collapsed": false
   },
   "outputs": [
    {
     "data": {
      "text/plain": [
       "есть    23\n",
       "Name: Отделка:, dtype: int64"
      ]
     },
     "execution_count": 123,
     "metadata": {},
     "output_type": "execute_result"
    }
   ],
   "source": [
    "# Сомнительная переменная \n",
    "data['Отделка:'].value_counts()"
   ]
  },
  {
   "cell_type": "code",
   "execution_count": 125,
   "metadata": {
    "collapsed": false
   },
   "outputs": [],
   "source": [
    "# Название станции метро\n",
    "#data['Метро'].value_counts()"
   ]
  },
  {
   "cell_type": "code",
   "execution_count": 126,
   "metadata": {
    "collapsed": true
   },
   "outputs": [],
   "source": [
    "df['sell_type'] = list(data['Тип продажи:'])\n",
    "df['phone'] = list(data['Телефон:'])\n",
    "df['status_doma'] = list(data['Статус помещения:'])\n",
    "df['repair'] = list(data['Ремонт:'])\n",
    "df['parking'] = list(data['Парковка:'])\n",
    "df['view_window'] = list(data['Вид из окна:'])\n",
    "df['otdelka'] = list(data['Отделка:'])\n",
    "df['metro_name'] = list(data['Метро'])"
   ]
  },
  {
   "cell_type": "markdown",
   "metadata": {},
   "source": [
    "## 4. Несколько финальных штрихов\n",
    "\n",
    "Посмотри на сводную информацию по таблице и обнаружим несколько нюансов, от которых нужно избавиться. Например, многие цифровые данные обладают строковым типом. Это плохо. От этого надо избавиться. Также необходимо заменить все прочерки на nan. "
   ]
  },
  {
   "cell_type": "code",
   "execution_count": 127,
   "metadata": {
    "collapsed": false,
    "scrolled": true
   },
   "outputs": [
    {
     "data": {
      "text/html": [
       "<div>\n",
       "<table border=\"1\" class=\"dataframe\">\n",
       "  <thead>\n",
       "    <tr style=\"text-align: right;\">\n",
       "      <th></th>\n",
       "      <th>Total_floor</th>\n",
       "      <th>Curent_floor</th>\n",
       "      <th>Price</th>\n",
       "      <th>TotalSq</th>\n",
       "      <th>LiveSq</th>\n",
       "      <th>KichSq</th>\n",
       "      <th>RoomSq</th>\n",
       "      <th>new_or_not</th>\n",
       "      <th>house_type</th>\n",
       "      <th>pass_elevator</th>\n",
       "      <th>...</th>\n",
       "      <th>latitude</th>\n",
       "      <th>longitude</th>\n",
       "      <th>sell_type</th>\n",
       "      <th>phone</th>\n",
       "      <th>status_doma</th>\n",
       "      <th>repair</th>\n",
       "      <th>parking</th>\n",
       "      <th>view_window</th>\n",
       "      <th>otdelka</th>\n",
       "      <th>metro_name</th>\n",
       "    </tr>\n",
       "  </thead>\n",
       "  <tbody>\n",
       "    <tr>\n",
       "      <th>0</th>\n",
       "      <td>9</td>\n",
       "      <td>7</td>\n",
       "      <td>123000000.0</td>\n",
       "      <td>194.7</td>\n",
       "      <td>121.7</td>\n",
       "      <td>22</td>\n",
       "      <td>21.1-35.43-41.48-23.73</td>\n",
       "      <td>вторичка</td>\n",
       "      <td>–</td>\n",
       "      <td>2</td>\n",
       "      <td>...</td>\n",
       "      <td>55.744738</td>\n",
       "      <td>37.653703</td>\n",
       "      <td>свободная</td>\n",
       "      <td>NaN</td>\n",
       "      <td>NaN</td>\n",
       "      <td>отсутствует</td>\n",
       "      <td>подземная</td>\n",
       "      <td>двор</td>\n",
       "      <td>NaN</td>\n",
       "      <td>Таганская,</td>\n",
       "    </tr>\n",
       "    <tr>\n",
       "      <th>1</th>\n",
       "      <td>21</td>\n",
       "      <td>3</td>\n",
       "      <td>5579537.0</td>\n",
       "      <td>54.0</td>\n",
       "      <td>30.1</td>\n",
       "      <td>9.2</td>\n",
       "      <td>15.78-14.29</td>\n",
       "      <td>новостройка</td>\n",
       "      <td>панельный дом</td>\n",
       "      <td>1</td>\n",
       "      <td>...</td>\n",
       "      <td>55.633661</td>\n",
       "      <td>37.414421</td>\n",
       "      <td>свободная</td>\n",
       "      <td>NaN</td>\n",
       "      <td>NaN</td>\n",
       "      <td>NaN</td>\n",
       "      <td>NaN</td>\n",
       "      <td>улица</td>\n",
       "      <td>NaN</td>\n",
       "      <td>Саларьево,</td>\n",
       "    </tr>\n",
       "    <tr>\n",
       "      <th>2</th>\n",
       "      <td>9</td>\n",
       "      <td>5</td>\n",
       "      <td>5200000.0</td>\n",
       "      <td>33</td>\n",
       "      <td>17</td>\n",
       "      <td>7</td>\n",
       "      <td>17</td>\n",
       "      <td>вторичка</td>\n",
       "      <td>–</td>\n",
       "      <td>1</td>\n",
       "      <td>...</td>\n",
       "      <td>55.871930</td>\n",
       "      <td>37.554987</td>\n",
       "      <td>свободная</td>\n",
       "      <td>да</td>\n",
       "      <td>NaN</td>\n",
       "      <td>евроремонт</td>\n",
       "      <td>наземная</td>\n",
       "      <td>улица</td>\n",
       "      <td>NaN</td>\n",
       "      <td>Петровско-Разумовская,</td>\n",
       "    </tr>\n",
       "    <tr>\n",
       "      <th>3</th>\n",
       "      <td>3</td>\n",
       "      <td>3</td>\n",
       "      <td>1440000.0</td>\n",
       "      <td>29</td>\n",
       "      <td>26</td>\n",
       "      <td>–</td>\n",
       "      <td>26</td>\n",
       "      <td>вторичка</td>\n",
       "      <td>–</td>\n",
       "      <td>0</td>\n",
       "      <td>...</td>\n",
       "      <td>55.648382</td>\n",
       "      <td>37.322593</td>\n",
       "      <td>свободная</td>\n",
       "      <td>NaN</td>\n",
       "      <td>NaN</td>\n",
       "      <td>отсутствует</td>\n",
       "      <td>наземная</td>\n",
       "      <td>–</td>\n",
       "      <td>NaN</td>\n",
       "      <td>Киевская,</td>\n",
       "    </tr>\n",
       "    <tr>\n",
       "      <th>4</th>\n",
       "      <td>9</td>\n",
       "      <td>1</td>\n",
       "      <td>1540000.0</td>\n",
       "      <td>12</td>\n",
       "      <td>10</td>\n",
       "      <td>–</td>\n",
       "      <td>10</td>\n",
       "      <td>вторичка</td>\n",
       "      <td>–</td>\n",
       "      <td>0</td>\n",
       "      <td>...</td>\n",
       "      <td>55.606690</td>\n",
       "      <td>37.617986</td>\n",
       "      <td>свободная</td>\n",
       "      <td>NaN</td>\n",
       "      <td>NaN</td>\n",
       "      <td>отсутствует</td>\n",
       "      <td>NaN</td>\n",
       "      <td>–</td>\n",
       "      <td>NaN</td>\n",
       "      <td>Пражская,</td>\n",
       "    </tr>\n",
       "  </tbody>\n",
       "</table>\n",
       "<p>5 rows × 31 columns</p>\n",
       "</div>"
      ],
      "text/plain": [
       "   Total_floor  Curent_floor        Price TotalSq LiveSq KichSq  \\\n",
       "0            9             7  123000000.0   194.7  121.7     22   \n",
       "1           21             3    5579537.0    54.0   30.1    9.2   \n",
       "2            9             5    5200000.0      33     17      7   \n",
       "3            3             3    1440000.0      29     26      –   \n",
       "4            9             1    1540000.0      12     10      –   \n",
       "\n",
       "                   RoomSq   new_or_not     house_type  pass_elevator  \\\n",
       "0  21.1-35.43-41.48-23.73     вторичка              –              2   \n",
       "1             15.78-14.29  новостройка  панельный дом              1   \n",
       "2                      17     вторичка              –              1   \n",
       "3                      26     вторичка              –              0   \n",
       "4                      10     вторичка              –              0   \n",
       "\n",
       "            ...             latitude  longitude  sell_type phone  status_doma  \\\n",
       "0           ...            55.744738  37.653703  свободная   NaN          NaN   \n",
       "1           ...            55.633661  37.414421  свободная   NaN          NaN   \n",
       "2           ...            55.871930  37.554987  свободная    да          NaN   \n",
       "3           ...            55.648382  37.322593  свободная   NaN          NaN   \n",
       "4           ...            55.606690  37.617986  свободная   NaN          NaN   \n",
       "\n",
       "        repair    parking view_window otdelka              metro_name  \n",
       "0  отсутствует  подземная        двор     NaN              Таганская,  \n",
       "1          NaN        NaN       улица     NaN              Саларьево,  \n",
       "2   евроремонт   наземная       улица     NaN  Петровско-Разумовская,  \n",
       "3  отсутствует   наземная           –     NaN               Киевская,  \n",
       "4  отсутствует        NaN           –     NaN               Пражская,  \n",
       "\n",
       "[5 rows x 31 columns]"
      ]
     },
     "execution_count": 127,
     "metadata": {},
     "output_type": "execute_result"
    }
   ],
   "source": [
    "df.head()"
   ]
  },
  {
   "cell_type": "code",
   "execution_count": 128,
   "metadata": {
    "collapsed": false
   },
   "outputs": [
    {
     "data": {
      "text/plain": [
       "['21.1+35.43+41.48+23.73',\n",
       " '15.78+14.29',\n",
       " '17',\n",
       " '26',\n",
       " '10',\n",
       " '10',\n",
       " '18',\n",
       " '8',\n",
       " '–',\n",
       " '18.1']"
      ]
     },
     "execution_count": 128,
     "metadata": {},
     "output_type": "execute_result"
    }
   ],
   "source": [
    "[re.sub('-','+',item) for item in df['RoomSq']][:10]"
   ]
  },
  {
   "cell_type": "code",
   "execution_count": 139,
   "metadata": {
    "collapsed": false
   },
   "outputs": [
    {
     "ename": "TypeError",
     "evalue": "expected string or bytes-like object",
     "output_type": "error",
     "traceback": [
      "\u001b[0;31m---------------------------------------------------------------------------\u001b[0m",
      "\u001b[0;31mTypeError\u001b[0m                                 Traceback (most recent call last)",
      "\u001b[0;32m<ipython-input-139-3caec224926b>\u001b[0m in \u001b[0;36m<module>\u001b[0;34m()\u001b[0m\n\u001b[0;32m----> 1\u001b[0;31m \u001b[0mdf\u001b[0m\u001b[0;34m[\u001b[0m\u001b[0;34m'RoomSq'\u001b[0m\u001b[0;34m]\u001b[0m \u001b[0;34m=\u001b[0m \u001b[0;34m[\u001b[0m\u001b[0mre\u001b[0m\u001b[0;34m.\u001b[0m\u001b[0msub\u001b[0m\u001b[0;34m(\u001b[0m\u001b[0;34m'-'\u001b[0m\u001b[0;34m,\u001b[0m\u001b[0;34m'+'\u001b[0m\u001b[0;34m,\u001b[0m\u001b[0mitem\u001b[0m\u001b[0;34m)\u001b[0m \u001b[0;32mfor\u001b[0m \u001b[0mitem\u001b[0m \u001b[0;32min\u001b[0m \u001b[0mdf\u001b[0m\u001b[0;34m[\u001b[0m\u001b[0;34m'RoomSq'\u001b[0m\u001b[0;34m]\u001b[0m\u001b[0;34m]\u001b[0m\u001b[0;34m\u001b[0m\u001b[0m\n\u001b[0m",
      "\u001b[0;32m<ipython-input-139-3caec224926b>\u001b[0m in \u001b[0;36m<listcomp>\u001b[0;34m(.0)\u001b[0m\n\u001b[0;32m----> 1\u001b[0;31m \u001b[0mdf\u001b[0m\u001b[0;34m[\u001b[0m\u001b[0;34m'RoomSq'\u001b[0m\u001b[0;34m]\u001b[0m \u001b[0;34m=\u001b[0m \u001b[0;34m[\u001b[0m\u001b[0mre\u001b[0m\u001b[0;34m.\u001b[0m\u001b[0msub\u001b[0m\u001b[0;34m(\u001b[0m\u001b[0;34m'-'\u001b[0m\u001b[0;34m,\u001b[0m\u001b[0;34m'+'\u001b[0m\u001b[0;34m,\u001b[0m\u001b[0mitem\u001b[0m\u001b[0;34m)\u001b[0m \u001b[0;32mfor\u001b[0m \u001b[0mitem\u001b[0m \u001b[0;32min\u001b[0m \u001b[0mdf\u001b[0m\u001b[0;34m[\u001b[0m\u001b[0;34m'RoomSq'\u001b[0m\u001b[0;34m]\u001b[0m\u001b[0;34m]\u001b[0m\u001b[0;34m\u001b[0m\u001b[0m\n\u001b[0m",
      "\u001b[0;32m/usr/lib/python3.5/re.py\u001b[0m in \u001b[0;36msub\u001b[0;34m(pattern, repl, string, count, flags)\u001b[0m\n\u001b[1;32m    180\u001b[0m     \u001b[0ma\u001b[0m \u001b[0mcallable\u001b[0m\u001b[0;34m,\u001b[0m \u001b[0mit\u001b[0m\u001b[0;31m'\u001b[0m\u001b[0ms\u001b[0m \u001b[0mpassed\u001b[0m \u001b[0mthe\u001b[0m \u001b[0mmatch\u001b[0m \u001b[0mobject\u001b[0m \u001b[0;32mand\u001b[0m \u001b[0mmust\u001b[0m \u001b[0;32mreturn\u001b[0m\u001b[0;34m\u001b[0m\u001b[0m\n\u001b[1;32m    181\u001b[0m     a replacement string to be used.\"\"\"\n\u001b[0;32m--> 182\u001b[0;31m     \u001b[0;32mreturn\u001b[0m \u001b[0m_compile\u001b[0m\u001b[0;34m(\u001b[0m\u001b[0mpattern\u001b[0m\u001b[0;34m,\u001b[0m \u001b[0mflags\u001b[0m\u001b[0;34m)\u001b[0m\u001b[0;34m.\u001b[0m\u001b[0msub\u001b[0m\u001b[0;34m(\u001b[0m\u001b[0mrepl\u001b[0m\u001b[0;34m,\u001b[0m \u001b[0mstring\u001b[0m\u001b[0;34m,\u001b[0m \u001b[0mcount\u001b[0m\u001b[0;34m)\u001b[0m\u001b[0;34m\u001b[0m\u001b[0m\n\u001b[0m\u001b[1;32m    183\u001b[0m \u001b[0;34m\u001b[0m\u001b[0m\n\u001b[1;32m    184\u001b[0m \u001b[0;32mdef\u001b[0m \u001b[0msubn\u001b[0m\u001b[0;34m(\u001b[0m\u001b[0mpattern\u001b[0m\u001b[0;34m,\u001b[0m \u001b[0mrepl\u001b[0m\u001b[0;34m,\u001b[0m \u001b[0mstring\u001b[0m\u001b[0;34m,\u001b[0m \u001b[0mcount\u001b[0m\u001b[0;34m=\u001b[0m\u001b[0;36m0\u001b[0m\u001b[0;34m,\u001b[0m \u001b[0mflags\u001b[0m\u001b[0;34m=\u001b[0m\u001b[0;36m0\u001b[0m\u001b[0;34m)\u001b[0m\u001b[0;34m:\u001b[0m\u001b[0;34m\u001b[0m\u001b[0m\n",
      "\u001b[0;31mTypeError\u001b[0m: expected string or bytes-like object"
     ]
    }
   ],
   "source": [
    "df['RoomSq'] = [re.sub('-| ','+',item) for item in df['RoomSq']]\n",
    "# по идее с пробелом тут всё будет хорошо! "
   ]
  },
  {
   "cell_type": "code",
   "execution_count": 131,
   "metadata": {
    "collapsed": false
   },
   "outputs": [
    {
     "data": {
      "text/plain": [
       "'15.78+14.29'"
      ]
     },
     "execution_count": 131,
     "metadata": {},
     "output_type": "execute_result"
    }
   ],
   "source": [
    "df['RoomSq'][1]"
   ]
  },
  {
   "cell_type": "code",
   "execution_count": 132,
   "metadata": {
    "collapsed": false
   },
   "outputs": [
    {
     "data": {
      "text/plain": [
       "121.74"
      ]
     },
     "execution_count": 132,
     "metadata": {},
     "output_type": "execute_result"
    }
   ],
   "source": [
    "# Насильное вычисление =) \n",
    "eval(df['RoomSq'][0])"
   ]
  },
  {
   "cell_type": "code",
   "execution_count": 133,
   "metadata": {
    "collapsed": false
   },
   "outputs": [
    {
     "data": {
      "text/plain": [
       "range(0, 5572)"
      ]
     },
     "execution_count": 133,
     "metadata": {},
     "output_type": "execute_result"
    }
   ],
   "source": [
    "range(df.shape[0])"
   ]
  },
  {
   "cell_type": "code",
   "execution_count": 134,
   "metadata": {
    "collapsed": false
   },
   "outputs": [
    {
     "name": "stderr",
     "output_type": "stream",
     "text": [
      "/usr/local/lib/python3.5/dist-packages/ipykernel/__main__.py:3: SettingWithCopyWarning: \n",
      "A value is trying to be set on a copy of a slice from a DataFrame\n",
      "\n",
      "See the caveats in the documentation: http://pandas.pydata.org/pandas-docs/stable/indexing.html#indexing-view-versus-copy\n",
      "  app.launch_new_instance()\n"
     ]
    },
    {
     "ename": "SyntaxError",
     "evalue": "invalid syntax (<string>, line 1)",
     "output_type": "error",
     "traceback": [
      "\u001b[0;36m  File \u001b[0;32m\"<string>\"\u001b[0;36m, line \u001b[0;32m1\u001b[0m\n\u001b[0;31m    55 30 25\u001b[0m\n\u001b[0m        ^\u001b[0m\n\u001b[0;31mSyntaxError\u001b[0m\u001b[0;31m:\u001b[0m invalid syntax\n"
     ]
    }
   ],
   "source": [
    "for i in range(df.shape[0]):\n",
    "    if df['RoomSq'][i] != '–':\n",
    "        df['RoomSq'][i] = eval(df['RoomSq'][i])"
   ]
  },
  {
   "cell_type": "code",
   "execution_count": 140,
   "metadata": {
    "collapsed": false
   },
   "outputs": [
    {
     "data": {
      "text/plain": [
       "0    121.74\n",
       "1     30.07\n",
       "2        17\n",
       "3        26\n",
       "4        10\n",
       "5        10\n",
       "6        18\n",
       "7         8\n",
       "8         –\n",
       "9      18.1\n",
       "Name: RoomSq, dtype: object"
      ]
     },
     "execution_count": 140,
     "metadata": {},
     "output_type": "execute_result"
    }
   ],
   "source": [
    "df['RoomSq'][:10]"
   ]
  },
  {
   "cell_type": "code",
   "execution_count": 141,
   "metadata": {
    "collapsed": false
   },
   "outputs": [
    {
     "data": {
      "text/html": [
       "<div>\n",
       "<table border=\"1\" class=\"dataframe\">\n",
       "  <thead>\n",
       "    <tr style=\"text-align: right;\">\n",
       "      <th></th>\n",
       "      <th>Total_floor</th>\n",
       "      <th>Curent_floor</th>\n",
       "      <th>Price</th>\n",
       "      <th>TotalSq</th>\n",
       "      <th>LiveSq</th>\n",
       "      <th>KichSq</th>\n",
       "      <th>RoomSq</th>\n",
       "      <th>new_or_not</th>\n",
       "      <th>house_type</th>\n",
       "      <th>pass_elevator</th>\n",
       "      <th>gruz_elevator</th>\n",
       "      <th>balkon</th>\n",
       "      <th>lodgya</th>\n",
       "      <th>visokiy_potolok</th>\n",
       "      <th>sovmest_sanuz</th>\n",
       "      <th>razdeln_sanuz</th>\n",
       "      <th>exist_sanuz</th>\n",
       "      <th>do_metro_peshkom</th>\n",
       "      <th>do_metro_mashina</th>\n",
       "      <th>past_year</th>\n",
       "      <th>future_year</th>\n",
       "      <th>latitude</th>\n",
       "      <th>longitude</th>\n",
       "      <th>sell_type</th>\n",
       "      <th>phone</th>\n",
       "      <th>status_doma</th>\n",
       "      <th>repair</th>\n",
       "      <th>parking</th>\n",
       "      <th>view_window</th>\n",
       "      <th>otdelka</th>\n",
       "      <th>metro_name</th>\n",
       "    </tr>\n",
       "  </thead>\n",
       "  <tbody>\n",
       "    <tr>\n",
       "      <th>0</th>\n",
       "      <td>9</td>\n",
       "      <td>7</td>\n",
       "      <td>123000000.0</td>\n",
       "      <td>194.7</td>\n",
       "      <td>121.7</td>\n",
       "      <td>22</td>\n",
       "      <td>121.74</td>\n",
       "      <td>вторичка</td>\n",
       "      <td>NaN</td>\n",
       "      <td>2</td>\n",
       "      <td>2</td>\n",
       "      <td>0</td>\n",
       "      <td>0</td>\n",
       "      <td>3.50</td>\n",
       "      <td>3.0</td>\n",
       "      <td>NaN</td>\n",
       "      <td>NaN</td>\n",
       "      <td>4</td>\n",
       "      <td>NaN</td>\n",
       "      <td>NaN</td>\n",
       "      <td>NaN</td>\n",
       "      <td>55.744738</td>\n",
       "      <td>37.653703</td>\n",
       "      <td>свободная</td>\n",
       "      <td>NaN</td>\n",
       "      <td>NaN</td>\n",
       "      <td>отсутствует</td>\n",
       "      <td>подземная</td>\n",
       "      <td>двор</td>\n",
       "      <td>NaN</td>\n",
       "      <td>Таганская,</td>\n",
       "    </tr>\n",
       "    <tr>\n",
       "      <th>1</th>\n",
       "      <td>21</td>\n",
       "      <td>3</td>\n",
       "      <td>5579537.0</td>\n",
       "      <td>54.0</td>\n",
       "      <td>30.1</td>\n",
       "      <td>9.2</td>\n",
       "      <td>30.07</td>\n",
       "      <td>новостройка</td>\n",
       "      <td>панельный дом</td>\n",
       "      <td>1</td>\n",
       "      <td>1</td>\n",
       "      <td>1</td>\n",
       "      <td>0</td>\n",
       "      <td>NaN</td>\n",
       "      <td>NaN</td>\n",
       "      <td>1.0</td>\n",
       "      <td>NaN</td>\n",
       "      <td>NaN</td>\n",
       "      <td>10</td>\n",
       "      <td>2012.0</td>\n",
       "      <td>[2017]</td>\n",
       "      <td>55.633661</td>\n",
       "      <td>37.414421</td>\n",
       "      <td>свободная</td>\n",
       "      <td>NaN</td>\n",
       "      <td>NaN</td>\n",
       "      <td>NaN</td>\n",
       "      <td>NaN</td>\n",
       "      <td>улица</td>\n",
       "      <td>NaN</td>\n",
       "      <td>Саларьево,</td>\n",
       "    </tr>\n",
       "    <tr>\n",
       "      <th>2</th>\n",
       "      <td>9</td>\n",
       "      <td>5</td>\n",
       "      <td>5200000.0</td>\n",
       "      <td>33</td>\n",
       "      <td>17</td>\n",
       "      <td>7</td>\n",
       "      <td>17</td>\n",
       "      <td>вторичка</td>\n",
       "      <td>NaN</td>\n",
       "      <td>1</td>\n",
       "      <td>0</td>\n",
       "      <td>0</td>\n",
       "      <td>1</td>\n",
       "      <td>2.64</td>\n",
       "      <td>1.0</td>\n",
       "      <td>NaN</td>\n",
       "      <td>NaN</td>\n",
       "      <td>NaN</td>\n",
       "      <td>16</td>\n",
       "      <td>NaN</td>\n",
       "      <td>NaN</td>\n",
       "      <td>55.871930</td>\n",
       "      <td>37.554987</td>\n",
       "      <td>свободная</td>\n",
       "      <td>да</td>\n",
       "      <td>NaN</td>\n",
       "      <td>евроремонт</td>\n",
       "      <td>наземная</td>\n",
       "      <td>улица</td>\n",
       "      <td>NaN</td>\n",
       "      <td>Петровско-Разумовская,</td>\n",
       "    </tr>\n",
       "    <tr>\n",
       "      <th>3</th>\n",
       "      <td>3</td>\n",
       "      <td>3</td>\n",
       "      <td>1440000.0</td>\n",
       "      <td>29</td>\n",
       "      <td>26</td>\n",
       "      <td>NaN</td>\n",
       "      <td>26</td>\n",
       "      <td>вторичка</td>\n",
       "      <td>NaN</td>\n",
       "      <td>0</td>\n",
       "      <td>0</td>\n",
       "      <td>0</td>\n",
       "      <td>0</td>\n",
       "      <td>NaN</td>\n",
       "      <td>1.0</td>\n",
       "      <td>NaN</td>\n",
       "      <td>NaN</td>\n",
       "      <td>NaN</td>\n",
       "      <td>25</td>\n",
       "      <td>1965.0</td>\n",
       "      <td>NaN</td>\n",
       "      <td>55.648382</td>\n",
       "      <td>37.322593</td>\n",
       "      <td>свободная</td>\n",
       "      <td>NaN</td>\n",
       "      <td>NaN</td>\n",
       "      <td>отсутствует</td>\n",
       "      <td>наземная</td>\n",
       "      <td>NaN</td>\n",
       "      <td>NaN</td>\n",
       "      <td>Киевская,</td>\n",
       "    </tr>\n",
       "    <tr>\n",
       "      <th>4</th>\n",
       "      <td>9</td>\n",
       "      <td>1</td>\n",
       "      <td>1540000.0</td>\n",
       "      <td>12</td>\n",
       "      <td>10</td>\n",
       "      <td>NaN</td>\n",
       "      <td>10</td>\n",
       "      <td>вторичка</td>\n",
       "      <td>NaN</td>\n",
       "      <td>0</td>\n",
       "      <td>0</td>\n",
       "      <td>0</td>\n",
       "      <td>0</td>\n",
       "      <td>2.64</td>\n",
       "      <td>1.0</td>\n",
       "      <td>NaN</td>\n",
       "      <td>NaN</td>\n",
       "      <td>16</td>\n",
       "      <td>NaN</td>\n",
       "      <td>NaN</td>\n",
       "      <td>NaN</td>\n",
       "      <td>55.606690</td>\n",
       "      <td>37.617986</td>\n",
       "      <td>свободная</td>\n",
       "      <td>NaN</td>\n",
       "      <td>NaN</td>\n",
       "      <td>отсутствует</td>\n",
       "      <td>NaN</td>\n",
       "      <td>NaN</td>\n",
       "      <td>NaN</td>\n",
       "      <td>Пражская,</td>\n",
       "    </tr>\n",
       "  </tbody>\n",
       "</table>\n",
       "</div>"
      ],
      "text/plain": [
       "   Total_floor  Curent_floor        Price TotalSq LiveSq KichSq  RoomSq  \\\n",
       "0            9             7  123000000.0   194.7  121.7     22  121.74   \n",
       "1           21             3    5579537.0    54.0   30.1    9.2   30.07   \n",
       "2            9             5    5200000.0      33     17      7      17   \n",
       "3            3             3    1440000.0      29     26    NaN      26   \n",
       "4            9             1    1540000.0      12     10    NaN      10   \n",
       "\n",
       "    new_or_not     house_type  pass_elevator  gruz_elevator  balkon  lodgya  \\\n",
       "0     вторичка            NaN              2              2       0       0   \n",
       "1  новостройка  панельный дом              1              1       1       0   \n",
       "2     вторичка            NaN              1              0       0       1   \n",
       "3     вторичка            NaN              0              0       0       0   \n",
       "4     вторичка            NaN              0              0       0       0   \n",
       "\n",
       "  visokiy_potolok  sovmest_sanuz  razdeln_sanuz exist_sanuz do_metro_peshkom  \\\n",
       "0            3.50            3.0            NaN         NaN                4   \n",
       "1             NaN            NaN            1.0         NaN              NaN   \n",
       "2            2.64            1.0            NaN         NaN              NaN   \n",
       "3             NaN            1.0            NaN         NaN              NaN   \n",
       "4            2.64            1.0            NaN         NaN               16   \n",
       "\n",
       "  do_metro_mashina  past_year future_year   latitude  longitude  sell_type  \\\n",
       "0              NaN        NaN         NaN  55.744738  37.653703  свободная   \n",
       "1               10     2012.0      [2017]  55.633661  37.414421  свободная   \n",
       "2               16        NaN         NaN  55.871930  37.554987  свободная   \n",
       "3               25     1965.0         NaN  55.648382  37.322593  свободная   \n",
       "4              NaN        NaN         NaN  55.606690  37.617986  свободная   \n",
       "\n",
       "  phone status_doma       repair    parking view_window otdelka  \\\n",
       "0   NaN         NaN  отсутствует  подземная        двор     NaN   \n",
       "1   NaN         NaN          NaN        NaN       улица     NaN   \n",
       "2    да         NaN   евроремонт   наземная       улица     NaN   \n",
       "3   NaN         NaN  отсутствует   наземная         NaN     NaN   \n",
       "4   NaN         NaN  отсутствует        NaN         NaN     NaN   \n",
       "\n",
       "               metro_name  \n",
       "0              Таганская,  \n",
       "1              Саларьево,  \n",
       "2  Петровско-Разумовская,  \n",
       "3               Киевская,  \n",
       "4               Пражская,  "
      ]
     },
     "execution_count": 141,
     "metadata": {},
     "output_type": "execute_result"
    }
   ],
   "source": [
    "# Заменяем все прочерки на nan.\n",
    "pd.set_option('display.max_columns', None) # Посмотреть все столбцы\n",
    "\n",
    "df.replace('–',np.nan, inplace = True)\n",
    "df.head()"
   ]
  },
  {
   "cell_type": "code",
   "execution_count": 143,
   "metadata": {
    "collapsed": false
   },
   "outputs": [
    {
     "name": "stdout",
     "output_type": "stream",
     "text": [
      "<class 'pandas.core.frame.DataFrame'>\n",
      "RangeIndex: 5572 entries, 0 to 5571\n",
      "Data columns (total 31 columns):\n",
      "Total_floor         5572 non-null int64\n",
      "Curent_floor        5572 non-null int64\n",
      "Price               5572 non-null float64\n",
      "TotalSq             5572 non-null object\n",
      "LiveSq              5041 non-null object\n",
      "KichSq              4237 non-null object\n",
      "RoomSq              4733 non-null object\n",
      "new_or_not          5572 non-null object\n",
      "house_type          3010 non-null object\n",
      "pass_elevator       5572 non-null int64\n",
      "gruz_elevator       5572 non-null int64\n",
      "balkon              5572 non-null int64\n",
      "lodgya              5572 non-null int64\n",
      "visokiy_potolok     1929 non-null object\n",
      "sovmest_sanuz       3890 non-null float64\n",
      "razdeln_sanuz       1094 non-null float64\n",
      "exist_sanuz         612 non-null object\n",
      "do_metro_peshkom    1512 non-null object\n",
      "do_metro_mashina    2554 non-null object\n",
      "past_year           2016 non-null float64\n",
      "future_year         1701 non-null object\n",
      "latitude            5572 non-null float64\n",
      "longitude           5572 non-null float64\n",
      "sell_type           5566 non-null object\n",
      "phone               1116 non-null object\n",
      "status_doma         29 non-null object\n",
      "repair              3769 non-null object\n",
      "parking             2958 non-null object\n",
      "view_window         4374 non-null object\n",
      "otdelka             23 non-null object\n",
      "metro_name          4789 non-null object\n",
      "dtypes: float64(6), int64(6), object(19)\n",
      "memory usage: 1.3+ MB\n"
     ]
    }
   ],
   "source": [
    "# Посмотрим на тип данных\n",
    "df.info()"
   ]
  },
  {
   "cell_type": "markdown",
   "metadata": {},
   "source": [
    "Поменяем у всех данных, которые должны быть числовыми тип."
   ]
  },
  {
   "cell_type": "code",
   "execution_count": 144,
   "metadata": {
    "collapsed": false
   },
   "outputs": [
    {
     "name": "stdout",
     "output_type": "stream",
     "text": [
      "<class 'pandas.core.frame.DataFrame'>\n",
      "RangeIndex: 5572 entries, 0 to 5571\n",
      "Data columns (total 31 columns):\n",
      "Total_floor         5572 non-null int64\n",
      "Curent_floor        5572 non-null int64\n",
      "Price               5572 non-null float64\n",
      "TotalSq             5572 non-null float64\n",
      "LiveSq              5041 non-null float64\n",
      "KichSq              4237 non-null float64\n",
      "RoomSq              4733 non-null object\n",
      "new_or_not          5572 non-null object\n",
      "house_type          3010 non-null object\n",
      "pass_elevator       5572 non-null int64\n",
      "gruz_elevator       5572 non-null int64\n",
      "balkon              5572 non-null int64\n",
      "lodgya              5572 non-null int64\n",
      "visokiy_potolok     1929 non-null float64\n",
      "sovmest_sanuz       3890 non-null float64\n",
      "razdeln_sanuz       1094 non-null float64\n",
      "exist_sanuz         612 non-null object\n",
      "do_metro_peshkom    1512 non-null float64\n",
      "do_metro_mashina    2554 non-null float64\n",
      "past_year           2016 non-null float64\n",
      "future_year         1701 non-null object\n",
      "latitude            5572 non-null float64\n",
      "longitude           5572 non-null float64\n",
      "sell_type           5566 non-null object\n",
      "phone               1116 non-null object\n",
      "status_doma         29 non-null object\n",
      "repair              3769 non-null object\n",
      "parking             2958 non-null object\n",
      "view_window         4374 non-null object\n",
      "otdelka             23 non-null object\n",
      "metro_name          4789 non-null object\n",
      "dtypes: float64(12), int64(6), object(13)\n",
      "memory usage: 1.3+ MB\n"
     ]
    }
   ],
   "source": [
    "df['TotalSq'] = df['TotalSq'].astype('float64')\n",
    "df['LiveSq'] = df['LiveSq'].astype('float64')\n",
    "df['KichSq'] = df['KichSq'].astype('float64')\n",
    "# После того, как сы сделали насильное eval, мы можем сменить тип Roomsq\n",
    "# df['RoomSq'] = df['RoomSq'].astype('float64')\n",
    "df['visokiy_potolok'] = df['visokiy_potolok'].astype('float64')\n",
    "df['do_metro_peshkom'] = df['do_metro_peshkom'].astype('float64')\n",
    "df['do_metro_mashina'] = df['do_metro_mashina'].astype('float64')\n",
    "\n",
    "df.info()"
   ]
  },
  {
   "cell_type": "code",
   "execution_count": 146,
   "metadata": {
    "collapsed": true
   },
   "outputs": [],
   "source": [
    "df.to_csv('clean_data_for_work.csv')"
   ]
  },
  {
   "cell_type": "markdown",
   "metadata": {
    "collapsed": true
   },
   "source": [
    "## 5 Ответы на глупые вопросы"
   ]
  },
  {
   "cell_type": "code",
   "execution_count": 147,
   "metadata": {
    "collapsed": false
   },
   "outputs": [
    {
     "data": {
      "text/html": [
       "<div>\n",
       "<table border=\"1\" class=\"dataframe\">\n",
       "  <thead>\n",
       "    <tr style=\"text-align: right;\">\n",
       "      <th></th>\n",
       "      <th>Total_floor</th>\n",
       "      <th>Curent_floor</th>\n",
       "      <th>Price</th>\n",
       "      <th>TotalSq</th>\n",
       "      <th>LiveSq</th>\n",
       "      <th>KichSq</th>\n",
       "      <th>RoomSq</th>\n",
       "      <th>new_or_not</th>\n",
       "      <th>house_type</th>\n",
       "      <th>pass_elevator</th>\n",
       "      <th>gruz_elevator</th>\n",
       "      <th>balkon</th>\n",
       "      <th>lodgya</th>\n",
       "      <th>visokiy_potolok</th>\n",
       "      <th>sovmest_sanuz</th>\n",
       "      <th>razdeln_sanuz</th>\n",
       "      <th>exist_sanuz</th>\n",
       "      <th>do_metro_peshkom</th>\n",
       "      <th>do_metro_mashina</th>\n",
       "      <th>past_year</th>\n",
       "      <th>future_year</th>\n",
       "      <th>latitude</th>\n",
       "      <th>longitude</th>\n",
       "      <th>sell_type</th>\n",
       "      <th>phone</th>\n",
       "      <th>status_doma</th>\n",
       "      <th>repair</th>\n",
       "      <th>parking</th>\n",
       "      <th>view_window</th>\n",
       "      <th>otdelka</th>\n",
       "      <th>metro_name</th>\n",
       "    </tr>\n",
       "  </thead>\n",
       "  <tbody>\n",
       "    <tr>\n",
       "      <th>0</th>\n",
       "      <td>9</td>\n",
       "      <td>7</td>\n",
       "      <td>123000000.0</td>\n",
       "      <td>194.7</td>\n",
       "      <td>121.7</td>\n",
       "      <td>22.0</td>\n",
       "      <td>121.74</td>\n",
       "      <td>вторичка</td>\n",
       "      <td>NaN</td>\n",
       "      <td>2</td>\n",
       "      <td>2</td>\n",
       "      <td>0</td>\n",
       "      <td>0</td>\n",
       "      <td>3.50</td>\n",
       "      <td>3.0</td>\n",
       "      <td>NaN</td>\n",
       "      <td>NaN</td>\n",
       "      <td>4.0</td>\n",
       "      <td>NaN</td>\n",
       "      <td>NaN</td>\n",
       "      <td>NaN</td>\n",
       "      <td>55.744738</td>\n",
       "      <td>37.653703</td>\n",
       "      <td>свободная</td>\n",
       "      <td>NaN</td>\n",
       "      <td>NaN</td>\n",
       "      <td>отсутствует</td>\n",
       "      <td>подземная</td>\n",
       "      <td>двор</td>\n",
       "      <td>NaN</td>\n",
       "      <td>Таганская,</td>\n",
       "    </tr>\n",
       "    <tr>\n",
       "      <th>1</th>\n",
       "      <td>21</td>\n",
       "      <td>3</td>\n",
       "      <td>5579537.0</td>\n",
       "      <td>54.0</td>\n",
       "      <td>30.1</td>\n",
       "      <td>9.2</td>\n",
       "      <td>30.07</td>\n",
       "      <td>новостройка</td>\n",
       "      <td>панельный дом</td>\n",
       "      <td>1</td>\n",
       "      <td>1</td>\n",
       "      <td>1</td>\n",
       "      <td>0</td>\n",
       "      <td>NaN</td>\n",
       "      <td>NaN</td>\n",
       "      <td>1.0</td>\n",
       "      <td>NaN</td>\n",
       "      <td>NaN</td>\n",
       "      <td>10.0</td>\n",
       "      <td>2012.0</td>\n",
       "      <td>[2017]</td>\n",
       "      <td>55.633661</td>\n",
       "      <td>37.414421</td>\n",
       "      <td>свободная</td>\n",
       "      <td>NaN</td>\n",
       "      <td>NaN</td>\n",
       "      <td>NaN</td>\n",
       "      <td>NaN</td>\n",
       "      <td>улица</td>\n",
       "      <td>NaN</td>\n",
       "      <td>Саларьево,</td>\n",
       "    </tr>\n",
       "    <tr>\n",
       "      <th>2</th>\n",
       "      <td>9</td>\n",
       "      <td>5</td>\n",
       "      <td>5200000.0</td>\n",
       "      <td>33.0</td>\n",
       "      <td>17.0</td>\n",
       "      <td>7.0</td>\n",
       "      <td>17</td>\n",
       "      <td>вторичка</td>\n",
       "      <td>NaN</td>\n",
       "      <td>1</td>\n",
       "      <td>0</td>\n",
       "      <td>0</td>\n",
       "      <td>1</td>\n",
       "      <td>2.64</td>\n",
       "      <td>1.0</td>\n",
       "      <td>NaN</td>\n",
       "      <td>NaN</td>\n",
       "      <td>NaN</td>\n",
       "      <td>16.0</td>\n",
       "      <td>NaN</td>\n",
       "      <td>NaN</td>\n",
       "      <td>55.871930</td>\n",
       "      <td>37.554987</td>\n",
       "      <td>свободная</td>\n",
       "      <td>да</td>\n",
       "      <td>NaN</td>\n",
       "      <td>евроремонт</td>\n",
       "      <td>наземная</td>\n",
       "      <td>улица</td>\n",
       "      <td>NaN</td>\n",
       "      <td>Петровско-Разумовская,</td>\n",
       "    </tr>\n",
       "    <tr>\n",
       "      <th>3</th>\n",
       "      <td>3</td>\n",
       "      <td>3</td>\n",
       "      <td>1440000.0</td>\n",
       "      <td>29.0</td>\n",
       "      <td>26.0</td>\n",
       "      <td>NaN</td>\n",
       "      <td>26</td>\n",
       "      <td>вторичка</td>\n",
       "      <td>NaN</td>\n",
       "      <td>0</td>\n",
       "      <td>0</td>\n",
       "      <td>0</td>\n",
       "      <td>0</td>\n",
       "      <td>NaN</td>\n",
       "      <td>1.0</td>\n",
       "      <td>NaN</td>\n",
       "      <td>NaN</td>\n",
       "      <td>NaN</td>\n",
       "      <td>25.0</td>\n",
       "      <td>1965.0</td>\n",
       "      <td>NaN</td>\n",
       "      <td>55.648382</td>\n",
       "      <td>37.322593</td>\n",
       "      <td>свободная</td>\n",
       "      <td>NaN</td>\n",
       "      <td>NaN</td>\n",
       "      <td>отсутствует</td>\n",
       "      <td>наземная</td>\n",
       "      <td>NaN</td>\n",
       "      <td>NaN</td>\n",
       "      <td>Киевская,</td>\n",
       "    </tr>\n",
       "    <tr>\n",
       "      <th>4</th>\n",
       "      <td>9</td>\n",
       "      <td>1</td>\n",
       "      <td>1540000.0</td>\n",
       "      <td>12.0</td>\n",
       "      <td>10.0</td>\n",
       "      <td>NaN</td>\n",
       "      <td>10</td>\n",
       "      <td>вторичка</td>\n",
       "      <td>NaN</td>\n",
       "      <td>0</td>\n",
       "      <td>0</td>\n",
       "      <td>0</td>\n",
       "      <td>0</td>\n",
       "      <td>2.64</td>\n",
       "      <td>1.0</td>\n",
       "      <td>NaN</td>\n",
       "      <td>NaN</td>\n",
       "      <td>16.0</td>\n",
       "      <td>NaN</td>\n",
       "      <td>NaN</td>\n",
       "      <td>NaN</td>\n",
       "      <td>55.606690</td>\n",
       "      <td>37.617986</td>\n",
       "      <td>свободная</td>\n",
       "      <td>NaN</td>\n",
       "      <td>NaN</td>\n",
       "      <td>отсутствует</td>\n",
       "      <td>NaN</td>\n",
       "      <td>NaN</td>\n",
       "      <td>NaN</td>\n",
       "      <td>Пражская,</td>\n",
       "    </tr>\n",
       "  </tbody>\n",
       "</table>\n",
       "</div>"
      ],
      "text/plain": [
       "   Total_floor  Curent_floor        Price  TotalSq  LiveSq  KichSq  RoomSq  \\\n",
       "0            9             7  123000000.0    194.7   121.7    22.0  121.74   \n",
       "1           21             3    5579537.0     54.0    30.1     9.2   30.07   \n",
       "2            9             5    5200000.0     33.0    17.0     7.0      17   \n",
       "3            3             3    1440000.0     29.0    26.0     NaN      26   \n",
       "4            9             1    1540000.0     12.0    10.0     NaN      10   \n",
       "\n",
       "    new_or_not     house_type  pass_elevator  gruz_elevator  balkon  lodgya  \\\n",
       "0     вторичка            NaN              2              2       0       0   \n",
       "1  новостройка  панельный дом              1              1       1       0   \n",
       "2     вторичка            NaN              1              0       0       1   \n",
       "3     вторичка            NaN              0              0       0       0   \n",
       "4     вторичка            NaN              0              0       0       0   \n",
       "\n",
       "   visokiy_potolok  sovmest_sanuz  razdeln_sanuz exist_sanuz  \\\n",
       "0             3.50            3.0            NaN         NaN   \n",
       "1              NaN            NaN            1.0         NaN   \n",
       "2             2.64            1.0            NaN         NaN   \n",
       "3              NaN            1.0            NaN         NaN   \n",
       "4             2.64            1.0            NaN         NaN   \n",
       "\n",
       "   do_metro_peshkom  do_metro_mashina  past_year future_year   latitude  \\\n",
       "0               4.0               NaN        NaN         NaN  55.744738   \n",
       "1               NaN              10.0     2012.0      [2017]  55.633661   \n",
       "2               NaN              16.0        NaN         NaN  55.871930   \n",
       "3               NaN              25.0     1965.0         NaN  55.648382   \n",
       "4              16.0               NaN        NaN         NaN  55.606690   \n",
       "\n",
       "   longitude  sell_type phone status_doma       repair    parking view_window  \\\n",
       "0  37.653703  свободная   NaN         NaN  отсутствует  подземная        двор   \n",
       "1  37.414421  свободная   NaN         NaN          NaN        NaN       улица   \n",
       "2  37.554987  свободная    да         NaN   евроремонт   наземная       улица   \n",
       "3  37.322593  свободная   NaN         NaN  отсутствует   наземная         NaN   \n",
       "4  37.617986  свободная   NaN         NaN  отсутствует        NaN         NaN   \n",
       "\n",
       "  otdelka              metro_name  \n",
       "0     NaN              Таганская,  \n",
       "1     NaN              Саларьево,  \n",
       "2     NaN  Петровско-Разумовская,  \n",
       "3     NaN               Киевская,  \n",
       "4     NaN               Пражская,  "
      ]
     },
     "execution_count": 147,
     "metadata": {},
     "output_type": "execute_result"
    }
   ],
   "source": [
    "df.head()"
   ]
  },
  {
   "cell_type": "code",
   "execution_count": 148,
   "metadata": {
    "collapsed": false
   },
   "outputs": [
    {
     "data": {
      "text/plain": [
       "23390747015029.277"
      ]
     },
     "execution_count": 148,
     "metadata": {},
     "output_type": "execute_result"
    }
   ],
   "source": [
    "df['Price'].mean()"
   ]
  },
  {
   "cell_type": "code",
   "execution_count": 151,
   "metadata": {
    "collapsed": false
   },
   "outputs": [
    {
     "data": {
      "text/plain": [
       "1990000.0"
      ]
     },
     "execution_count": 151,
     "metadata": {},
     "output_type": "execute_result"
    }
   ],
   "source": [
    "df['Price'].median()"
   ]
  },
  {
   "cell_type": "code",
   "execution_count": 153,
   "metadata": {
    "collapsed": false
   },
   "outputs": [
    {
     "data": {
      "text/html": [
       "<div>\n",
       "<table border=\"1\" class=\"dataframe\">\n",
       "  <thead>\n",
       "    <tr style=\"text-align: right;\">\n",
       "      <th></th>\n",
       "      <th>Total_floor</th>\n",
       "      <th>Curent_floor</th>\n",
       "      <th>Price</th>\n",
       "      <th>TotalSq</th>\n",
       "      <th>LiveSq</th>\n",
       "      <th>KichSq</th>\n",
       "      <th>RoomSq</th>\n",
       "      <th>new_or_not</th>\n",
       "      <th>house_type</th>\n",
       "      <th>pass_elevator</th>\n",
       "      <th>gruz_elevator</th>\n",
       "      <th>balkon</th>\n",
       "      <th>lodgya</th>\n",
       "      <th>visokiy_potolok</th>\n",
       "      <th>sovmest_sanuz</th>\n",
       "      <th>razdeln_sanuz</th>\n",
       "      <th>exist_sanuz</th>\n",
       "      <th>do_metro_peshkom</th>\n",
       "      <th>do_metro_mashina</th>\n",
       "      <th>past_year</th>\n",
       "      <th>future_year</th>\n",
       "      <th>latitude</th>\n",
       "      <th>longitude</th>\n",
       "      <th>sell_type</th>\n",
       "      <th>phone</th>\n",
       "      <th>status_doma</th>\n",
       "      <th>repair</th>\n",
       "      <th>parking</th>\n",
       "      <th>view_window</th>\n",
       "      <th>otdelka</th>\n",
       "      <th>metro_name</th>\n",
       "    </tr>\n",
       "  </thead>\n",
       "  <tbody>\n",
       "    <tr>\n",
       "      <th>812</th>\n",
       "      <td>35</td>\n",
       "      <td>6</td>\n",
       "      <td>7.000000e+15</td>\n",
       "      <td>480.0</td>\n",
       "      <td>360.0</td>\n",
       "      <td>80.0</td>\n",
       "      <td>242</td>\n",
       "      <td>вторичка</td>\n",
       "      <td>NaN</td>\n",
       "      <td>4</td>\n",
       "      <td>2</td>\n",
       "      <td>4</td>\n",
       "      <td>4</td>\n",
       "      <td>NaN</td>\n",
       "      <td>4.0</td>\n",
       "      <td>NaN</td>\n",
       "      <td>NaN</td>\n",
       "      <td>3.0</td>\n",
       "      <td>NaN</td>\n",
       "      <td>NaN</td>\n",
       "      <td>NaN</td>\n",
       "      <td>55.79848</td>\n",
       "      <td>37.520671</td>\n",
       "      <td>свободная</td>\n",
       "      <td>NaN</td>\n",
       "      <td>NaN</td>\n",
       "      <td>дизайнерский</td>\n",
       "      <td>подземная</td>\n",
       "      <td>двор и улица</td>\n",
       "      <td>NaN</td>\n",
       "      <td>Сокол,</td>\n",
       "    </tr>\n",
       "    <tr>\n",
       "      <th>4230</th>\n",
       "      <td>35</td>\n",
       "      <td>6</td>\n",
       "      <td>7.000000e+15</td>\n",
       "      <td>480.0</td>\n",
       "      <td>360.0</td>\n",
       "      <td>80.0</td>\n",
       "      <td>56+38+17+22+37+23+28+21</td>\n",
       "      <td>вторичка</td>\n",
       "      <td>NaN</td>\n",
       "      <td>4</td>\n",
       "      <td>2</td>\n",
       "      <td>4</td>\n",
       "      <td>4</td>\n",
       "      <td>NaN</td>\n",
       "      <td>4.0</td>\n",
       "      <td>NaN</td>\n",
       "      <td>NaN</td>\n",
       "      <td>3.0</td>\n",
       "      <td>NaN</td>\n",
       "      <td>NaN</td>\n",
       "      <td>NaN</td>\n",
       "      <td>55.79848</td>\n",
       "      <td>37.520671</td>\n",
       "      <td>свободная</td>\n",
       "      <td>NaN</td>\n",
       "      <td>NaN</td>\n",
       "      <td>дизайнерский</td>\n",
       "      <td>подземная</td>\n",
       "      <td>двор и улица</td>\n",
       "      <td>NaN</td>\n",
       "      <td>Сокол,</td>\n",
       "    </tr>\n",
       "  </tbody>\n",
       "</table>\n",
       "</div>"
      ],
      "text/plain": [
       "      Total_floor  Curent_floor         Price  TotalSq  LiveSq  KichSq  \\\n",
       "812            35             6  7.000000e+15    480.0   360.0    80.0   \n",
       "4230           35             6  7.000000e+15    480.0   360.0    80.0   \n",
       "\n",
       "                       RoomSq new_or_not house_type  pass_elevator  \\\n",
       "812                       242   вторичка        NaN              4   \n",
       "4230  56+38+17+22+37+23+28+21   вторичка        NaN              4   \n",
       "\n",
       "      gruz_elevator  balkon  lodgya  visokiy_potolok  sovmest_sanuz  \\\n",
       "812               2       4       4              NaN            4.0   \n",
       "4230              2       4       4              NaN            4.0   \n",
       "\n",
       "      razdeln_sanuz exist_sanuz  do_metro_peshkom  do_metro_mashina  \\\n",
       "812             NaN         NaN               3.0               NaN   \n",
       "4230            NaN         NaN               3.0               NaN   \n",
       "\n",
       "      past_year future_year  latitude  longitude  sell_type phone status_doma  \\\n",
       "812         NaN         NaN  55.79848  37.520671  свободная   NaN         NaN   \n",
       "4230        NaN         NaN  55.79848  37.520671  свободная   NaN         NaN   \n",
       "\n",
       "            repair    parking   view_window otdelka metro_name  \n",
       "812   дизайнерский  подземная  двор и улица     NaN     Сокол,  \n",
       "4230  дизайнерский  подземная  двор и улица     NaN     Сокол,  "
      ]
     },
     "execution_count": 153,
     "metadata": {},
     "output_type": "execute_result"
    }
   ],
   "source": [
    "df[df['Price'] == df['Price'].max()]"
   ]
  },
  {
   "cell_type": "code",
   "execution_count": null,
   "metadata": {
    "collapsed": true
   },
   "outputs": [],
   "source": []
  }
 ],
 "metadata": {
  "kernelspec": {
   "display_name": "Python 3",
   "language": "python",
   "name": "python3"
  },
  "language_info": {
   "codemirror_mode": {
    "name": "ipython",
    "version": 3
   },
   "file_extension": ".py",
   "mimetype": "text/x-python",
   "name": "python",
   "nbconvert_exporter": "python",
   "pygments_lexer": "ipython3",
   "version": "3.5.2"
  }
 },
 "nbformat": 4,
 "nbformat_minor": 1
}
