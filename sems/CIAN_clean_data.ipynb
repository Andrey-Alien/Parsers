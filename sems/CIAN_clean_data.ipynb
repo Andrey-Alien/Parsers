{
 "cells": [
  {
   "cell_type": "markdown",
   "metadata": {},
   "source": [
    "\n",
    "<img src=\"https://www.python.org/static/community_logos/python-logo-generic.svg\" height=\"500\" width=\"500\"> \n",
    "\n",
    "# <center> Грабёж, разбой и другие незаконные деяния с помощью Python. <br> <br> Завершаем наше первое дело. Отмываем ЦИАН.   </center>\n",
    "---------"
   ]
  },
  {
   "cell_type": "markdown",
   "metadata": {},
   "source": [
    "Данные заботливо распиханы нами по колоночкам и закутаны в csv-файлик. Однако есть одна важная проблема. Данные, которые мы скачали - грязные! Необходимо их как следуюет отмыть. \n",
    "\n",
    "Обычно работа специалиста по анализу данных делится на два этапа: \n",
    "\n",
    "1. Сбор данных и постройка фич\n",
    "2. Оценка моделей\n",
    "\n",
    "Как вы уже поняли, больше всего времени обычно тратится на первый этап. В этой тетрадке мы поговорим о библиотеке `Pandas`, которая позволяет работать с датафреймами и о работе с переменными типа `str`. \n",
    "\n",
    "## 1. Pandas\n",
    "\n",
    "\n",
    "<img align=\"center\" src=\"https://raw.githubusercontent.com/FUlyankin/Parsers/master/images%20/pandas.jpg\" height=\"700\" width=\"700\"> \n",
    " \n",
    "`Pandas` - это пакет для работы с датафреймами. Вне всяких сомнений, `Pandas` - очень классная штука. Мы часто в ходе наших семинаров будем им пользоваться.\n",
    "\n",
    "Где узнать больше про `Pandas`? \n",
    "\n",
    "\n",
    "Старт открытого курса OpenDataScience\n",
    "\n",
    "Привет всем, кто ждал запуска открытого курса по практическому анализу данных и машинному обучению!\n",
    "\n",
    "* В первую очередь нужно посмотреть [тетрадку от  OpenDataScience (ODS) сообщества по Pandas](  https://habrahabr.ru/company/ods/blog/322626/). Именно эти ребята устраивают каждый год Datafest. В этом году они запустили на Хабре цикл статей по практическому анализу данных и машинному обучени. Цикл ещё не закончен. Всем, кто хочет в анализ данных рекомендую почитать. \n",
    "\n",
    "* `Pandas` постижим. Если вы хотите научиться использовать этот пакет, просто посмотреть тетрадки будет недостаточно. Нужно проделать самостоятельно пару упражнений с таблицами. В той же самой статье на хабре есть хорошая домашка по Pandas. К ней прилагается решение. Если вы просто смотрите на код, а не сами пытаетесь его написать, ВЫ НИКОГДА НЕ СМОЖЕТЕ ПИСАТЬ КОД! \n",
    "\n",
    "* [Официальная документация Pandas](http://pandas.pydata.org/pandas-docs/stable/index.html). Помните, что документация наш друг. Если вы забыли как что-то делается или не знали как что-то делается, всегда можно найти ответы в хорошей документации. В частности, можно почитать неплохое введение [10 minutes to pandas](http://pandas.pydata.org/pandas-docs/stable/10min.html).\n",
    "\n",
    "* [PDF-шпаргалка по библиотеке](https://github.com/pandas-dev/pandas/blob/master/doc/cheatsheet/Pandas_Cheat_Sheet.pdf)\n",
    "\n",
    "* [Отличная презентация Александра Дьяконова «Знакомство с Pandas»](https://alexanderdyakonov.wordpress.com/2015/11/06/%D0%B7%D0%BD%D0%B0%D0%BA%D0%BE%D0%BC%D1%81%D1%82%D0%B2%D0%BE-%D1%81-pandas-%D1%81%D0%BB%D0%B0%D0%B9%D0%B4%D1%8B/)\n",
    "\n",
    "* На гитхабе есть [подборка упражнений по Pandas](https://github.com/guipsamora/pandas_exercises/) и еще один [полезный репозиторий](https://github.com/TomAugspurger/effective-pandas) (на английском языке),,\n",
    "\n",
    "P.S. Я не просто тупо скопировал все эти ссылки из статьи на Хабре. На самом деле я большую часть этих материалов просмотрел! \n"
   ]
  },
  {
   "cell_type": "code",
   "execution_count": null,
   "metadata": {
    "collapsed": true
   },
   "outputs": [],
   "source": []
  },
  {
   "cell_type": "code",
   "execution_count": null,
   "metadata": {
    "collapsed": true
   },
   "outputs": [],
   "source": [
    "'CIAN_data.csv'"
   ]
  },
  {
   "cell_type": "code",
   "execution_count": null,
   "metadata": {
    "collapsed": true
   },
   "outputs": [],
   "source": []
  },
  {
   "cell_type": "code",
   "execution_count": null,
   "metadata": {
    "collapsed": true
   },
   "outputs": [],
   "source": []
  },
  {
   "cell_type": "code",
   "execution_count": null,
   "metadata": {
    "collapsed": true
   },
   "outputs": [],
   "source": []
  },
  {
   "cell_type": "code",
   "execution_count": null,
   "metadata": {
    "collapsed": true
   },
   "outputs": [],
   "source": []
  },
  {
   "cell_type": "code",
   "execution_count": null,
   "metadata": {
    "collapsed": true
   },
   "outputs": [],
   "source": []
  }
 ],
 "metadata": {
  "kernelspec": {
   "display_name": "Python 3",
   "language": "python",
   "name": "python3"
  },
  "language_info": {
   "codemirror_mode": {
    "name": "ipython",
    "version": 3
   },
   "file_extension": ".py",
   "mimetype": "text/x-python",
   "name": "python",
   "nbconvert_exporter": "python",
   "pygments_lexer": "ipython3",
   "version": "3.5.2"
  }
 },
 "nbformat": 4,
 "nbformat_minor": 1
}
