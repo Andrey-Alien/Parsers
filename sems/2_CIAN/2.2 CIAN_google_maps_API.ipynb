{
 "cells": [
  {
   "cell_type": "markdown",
   "metadata": {
    "collapsed": true
   },
   "source": [
    "<img src=\"https://raw.githubusercontent.com/FUlyankin/Parsers/master/images%20/cian_main_theme.png\" height=\"1000\" width=\"1000\"> \n",
    "\n",
    "<img align=\"center\" src=\"https://www.cian.ru/promo/adv/assets/images/logo.svg\" height=\"300\" width=\"300\"> \n",
    "\n",
    "\n",
    "# <center> Грабёж, разбой и другие незаконные деяния с помощью Python. <br> <br> Продолжаем ограбление. Задействуем союзника - Google!  </center>\n",
    "---------"
   ]
  },
  {
   "cell_type": "markdown",
   "metadata": {},
   "source": [
    "## 1. Что такое API?\n",
    "\n",
    "API (Application Programming Interface) это уже готовый код, который можно всунуть в свой код!  Многие разработчики, в том числе Google и Вконтакте, предоставляют свои уже готовые решения для вашей разработки. \n",
    "\n",
    "Обычно обращение к API происходит точно также как к обычной ссылке через пакет `requests`."
   ]
  },
  {
   "cell_type": "code",
   "execution_count": 1,
   "metadata": {
    "collapsed": true
   },
   "outputs": [],
   "source": [
    "import pandas as pd\n",
    "import numpy as np\n",
    "\n",
    "import requests"
   ]
  },
  {
   "cell_type": "markdown",
   "metadata": {},
   "source": [
    "Обратиться через этот пакет обычно нужно к простой банальной ссылке, в которую будет вшито то, что вы хотели бы для себя достать. Итак, заходим в [документацию по API для Google maps](https://developers.google.com/maps/documentation/webservices/), которая была заботливо для нас написана и начинаем её использовать."
   ]
  },
  {
   "cell_type": "markdown",
   "metadata": {},
   "source": [
    "Мы хотим получить расстояние, которое нужно пройти пешком или проехать на машине от каждой квартиры до ближайшего метро. Для этого мы будем использовать метод, который называется *distancematrix*. \n",
    "\n",
    "*Google Distance Matrix API* — это сервис, который предоставляет расстояние и время пути между указанными точками. Ссылка для запроса к API будет иметь следующую структуру\n",
    "\n",
    "> https://maps.googleapis.com/maps/api/distancematrix/json?units=imperial&origins=Washington,DC&destinations=New+York+City,NY&key=YOUR_API_KEY\n",
    "\n",
    "В первой строке указано название сервиса, к API которого мы обращаемся, метод который мы используем ,*distancematrix*, формат, в котором мы хотели бы получить ответ, *json*, и объекты, между которыми мы ищем расстояние, *Origins* — начало отсчета, *Destinations* — конец отсчета. Кроме того через амперсанды в ссылку можно добавить кучу других параметров. Например: *Mode* — способ перемещения, *Language* — язык, на котором мы хотели бы получить ответ на наш запрос.\n",
    "\n",
    "Пробуем!"
   ]
  },
  {
   "cell_type": "code",
   "execution_count": 2,
   "metadata": {
    "collapsed": false
   },
   "outputs": [
    {
     "data": {
      "text/plain": [
       "'http://maps.googleapis.com/maps/api/distancematrix/json?origins=м. Юго-Западная, Москва&destinations=ул. Академика Анохина 20, Москва&mode=walking&language=ru-Ru'"
      ]
     },
     "execution_count": 2,
     "metadata": {},
     "output_type": "execute_result"
    }
   ],
   "source": [
    "mainpage = \"http://maps.googleapis.com/maps/api/distancematrix/json?\"\n",
    "\n",
    "place_one = \"м. Юго-Западная, Москва\"\n",
    "place_two = \"ул. Академика Анохина 20, Москва\"\n",
    "sposob = \"walking\"\n",
    "YOU_API_KEY = ''\n",
    "\n",
    "parameters = 'origins='+place_one+'&destinations='+place_two+'&mode='+sposob+'&language=ru-Ru'\n",
    "\n",
    "itog_url = mainpage + parameters\n",
    "itog_url"
   ]
  },
  {
   "cell_type": "code",
   "execution_count": 3,
   "metadata": {
    "collapsed": false
   },
   "outputs": [
    {
     "data": {
      "text/plain": [
       "<Response [200]>"
      ]
     },
     "execution_count": 3,
     "metadata": {},
     "output_type": "execute_result"
    }
   ],
   "source": [
    "response = requests.get(itog_url)\n",
    "response"
   ]
  },
  {
   "cell_type": "markdown",
   "metadata": {},
   "source": [
    "Ура! Благосолавенный 200-всё-очень-хорошо-ответ! Попробуем сделать как мы делали раньше и посмотреть html нашей странички."
   ]
  },
  {
   "cell_type": "code",
   "execution_count": 4,
   "metadata": {
    "collapsed": false
   },
   "outputs": [
    {
     "data": {
      "text/plain": [
       "b'{\\n   \"destination_addresses\" : [\\n      \"\\xd1\\x83\\xd0\\xbb. \\xd0\\x90\\xd0\\xbd\\xd0\\xbe\\xd1\\x85\\xd0\\xb8\\xd0\\xbd\\xd0\\xb0 \\xd0\\x90\\xd0\\xba\\xd0\\xb0\\xd0\\xb4\\xd0\\xb5\\xd0\\xbc\\xd0\\xb8\\xd0\\xba\\xd0\\xb0, 20, \\xd0\\x9c\\xd0\\xbe\\xd1\\x81\\xd0\\xba\\xd0\\xb2\\xd0\\xb0, \\xd0\\xa0\\xd0\\xbe\\xd1\\x81\\xd1\\x81\\xd0\\xb8\\xd1\\x8f, 119602\"\\n   ],\\n   \"origin_addresses\" : [ \"\\xd0\\xae\\xd0\\xb3\\xd0\\xbe-\\xd0\\x97\\xd0\\xb0\\xd0\\xbf\\xd0\\xb0\\xd0\\xb4\\xd0\\xbd\\xd0\\xb0\\xd1\\x8f, \\xd0\\x9c\\xd0\\xbe\\xd1\\x81\\xd0\\xba\\xd0\\xb2\\xd0\\xb0, \\xd0\\xa0\\xd0\\xbe\\xd1\\x81\\xd1\\x81\\xd0\\xb8\\xd1\\x8f, 119526\" ],\\n   \"rows\" : [\\n      {\\n         \"elements\" : [\\n            {\\n               \"distance\" : {\\n                  \"text\" : \"0,9 \\xd0\\xba\\xd0\\xbc\",\\n                  \"value\" : 898\\n               },\\n               \"duration\" : {\\n                  \"text\" : \"11 \\xd0\\xbc\\xd0\\xb8\\xd0\\xbd.\",\\n                  \"value\" : 687\\n               },\\n               \"status\" : \"OK\"\\n            }\\n         ]\\n      }\\n   ],\\n   \"status\" : \"OK\"\\n}\\n'"
      ]
     },
     "execution_count": 4,
     "metadata": {},
     "output_type": "execute_result"
    }
   ],
   "source": [
    "content = response.content\n",
    "content"
   ]
  },
  {
   "cell_type": "markdown",
   "metadata": {},
   "source": [
    "Ух! Какая страшная штука. Но тем не менее она похожа именно на то, что нам нужно. Как я это понял? Интуиция... Но почему тогда она такая некрасивая? Всё дело в том, что мы пытаемся применить к нашему контенту те же самые методы, что мы использовали для HTML разметки. Тем не менее данные были скачены в формате JSON. Если бы мы указали в ссылке для скачки XML-формат, то мы могли бы даже поработать с нашими данными красивым супом. \n",
    "\n",
    "JSON расшифровывается как JavaScript Object Notation и изначально возник как подмножество языка JavaScript (пусть вас не вводит в заблуждение название, этот язык ничего не имеет общего с Java), используемое для описания объектов, но впоследствии стал использоваться и в других языках программирования, включая Python. Различные API могут поддерживать либо XML, либо JSON, либо и то, и другое.\n",
    "\n",
    "Почему же мы указали именно JSON... Потому что он более удобный. Смотрите!"
   ]
  },
  {
   "cell_type": "code",
   "execution_count": 5,
   "metadata": {
    "collapsed": false
   },
   "outputs": [
    {
     "data": {
      "text/plain": [
       "{'destination_addresses': ['ул. Анохина Академика, 20, Москва, Россия, 119602'],\n",
       " 'origin_addresses': ['Юго-Западная, Москва, Россия, 119526'],\n",
       " 'rows': [{'elements': [{'distance': {'text': '0,9 км', 'value': 898},\n",
       "     'duration': {'text': '11 мин.', 'value': 687},\n",
       "     'status': 'OK'}]}],\n",
       " 'status': 'OK'}"
      ]
     },
     "execution_count": 5,
     "metadata": {},
     "output_type": "execute_result"
    }
   ],
   "source": [
    "content = response.json()\n",
    "content"
   ]
  },
  {
   "cell_type": "markdown",
   "metadata": {},
   "source": [
    "Секундочку... Это что? Словарь? Да! Это словарь! "
   ]
  },
  {
   "cell_type": "code",
   "execution_count": 6,
   "metadata": {
    "collapsed": false
   },
   "outputs": [
    {
     "data": {
      "text/plain": [
       "dict"
      ]
     },
     "execution_count": 6,
     "metadata": {},
     "output_type": "execute_result"
    }
   ],
   "source": [
    "type(content)"
   ]
  },
  {
   "cell_type": "markdown",
   "metadata": {},
   "source": [
    "Вытаскиваем из этого словаря всё, что нам необходимо. "
   ]
  },
  {
   "cell_type": "code",
   "execution_count": 7,
   "metadata": {
    "collapsed": false
   },
   "outputs": [
    {
     "data": {
      "text/plain": [
       "['ул. Анохина Академика, 20, Москва, Россия, 119602']"
      ]
     },
     "execution_count": 7,
     "metadata": {},
     "output_type": "execute_result"
    }
   ],
   "source": [
    "content['destination_addresses']"
   ]
  },
  {
   "cell_type": "code",
   "execution_count": 8,
   "metadata": {
    "collapsed": false
   },
   "outputs": [
    {
     "data": {
      "text/plain": [
       "'11 мин.'"
      ]
     },
     "execution_count": 8,
     "metadata": {},
     "output_type": "execute_result"
    }
   ],
   "source": [
    "content['rows'][0]['elements'][0]['duration']['text']"
   ]
  },
  {
   "cell_type": "markdown",
   "metadata": {},
   "source": [
    "Точно также можно качать расстояние между объектами по координатам! Подгружаем наш ЦИАНовский датасет!"
   ]
  },
  {
   "cell_type": "code",
   "execution_count": 9,
   "metadata": {
    "collapsed": false
   },
   "outputs": [],
   "source": [
    "df = pd.read_csv('clean_data_for_work.csv', header=0, sep=',' ,index_col=0)\n",
    "longtitude = list(df['longitude'])\n",
    "latitude = list(df['latitude'])\n",
    "metro = list(df['metro_name'])"
   ]
  },
  {
   "cell_type": "code",
   "execution_count": 10,
   "metadata": {
    "collapsed": true
   },
   "outputs": [],
   "source": [
    "def infa_downloader(place_one,place_two,sposob):\n",
    "    \n",
    "    # создлали ссылку по входным параметрам\n",
    "    mainpage = \"http://maps.googleapis.com/maps/api/distancematrix/json?\"\n",
    "    parameters = 'origins='+place_one+'&destinations='+place_two+'&mode='+sposob+'&language=ru-Ru'+'&key='\n",
    "    itog_url = mainpage + parameters\n",
    "    \n",
    "    # сделали запрос и вытащили инфу\n",
    "    response = requests.get(itog_url)\n",
    "    content = response.json()\n",
    "    return(content['rows'][0]['elements'][0]['duration']['text'])"
   ]
  },
  {
   "cell_type": "code",
   "execution_count": 11,
   "metadata": {
    "collapsed": false
   },
   "outputs": [
    {
     "data": {
      "text/plain": [
       "'37.544467,55.860792'"
      ]
     },
     "execution_count": 11,
     "metadata": {},
     "output_type": "execute_result"
    }
   ],
   "source": [
    "str(longtitude[0])+','+str(latitude[0])"
   ]
  },
  {
   "cell_type": "code",
   "execution_count": 12,
   "metadata": {
    "collapsed": false
   },
   "outputs": [
    {
     "data": {
      "text/plain": [
       "'Петровско-Разумовская,'"
      ]
     },
     "execution_count": 12,
     "metadata": {},
     "output_type": "execute_result"
    }
   ],
   "source": [
    "metro[0]"
   ]
  },
  {
   "cell_type": "code",
   "execution_count": 13,
   "metadata": {
    "collapsed": false
   },
   "outputs": [
    {
     "data": {
      "text/plain": [
       "'1 час. 26 мин.'"
      ]
     },
     "execution_count": 13,
     "metadata": {},
     "output_type": "execute_result"
    }
   ],
   "source": [
    "infa_downloader(str(latitude[1001])+','+str(longtitude[1001]),metro[1001],\"walking\")"
   ]
  },
  {
   "cell_type": "code",
   "execution_count": 19,
   "metadata": {
    "collapsed": false
   },
   "outputs": [
    {
     "data": {
      "text/plain": [
       "'35 мин.'"
      ]
     },
     "execution_count": 19,
     "metadata": {},
     "output_type": "execute_result"
    }
   ],
   "source": [
    "infa_downloader(str(latitude[1001])+','+str(longtitude[1001]),metro[1001],\"driving\")"
   ]
  },
  {
   "cell_type": "markdown",
   "metadata": {},
   "source": [
    "Вроде бы всё хорошо. Дело осталось за малым - написать цикл! \n",
    "\n",
    "# НЕТ! \n",
    "\n",
    "Ничего подобного. Сначала нужно изучить ограничения.\n",
    "\n",
    "<img src=\"https://raw.githubusercontent.com/FUlyankin/Parsers/master/images%20/Workspace%201_180.png\" height=\"700\" width=\"700\">\n",
    "\n",
    "Неожиданно выясняется, что мы можем делать в течение суток не более 2500 запросов. Чёрт возьми! Какая боль, какая обида и какие страдания... Ограничения выяснили, попробуем теперь написать цикл. Авось прокатит...\n"
   ]
  },
  {
   "cell_type": "code",
   "execution_count": null,
   "metadata": {
    "collapsed": false
   },
   "outputs": [],
   "source": [
    "walk_dist  = [ ]\n",
    "drive_dist = [ ]\n",
    "\n",
    "for i in range(len(metro)):\n",
    "    walk_dist.append( infa_downloader(str(latitude[i])+','+str(longtitude[i]),metro[i],\"walking\") )\n",
    "    drive_dist.append( infa_downloader(str(latitude[i])+','+str(longtitude[i]),metro[i],\"driving\") )"
   ]
  },
  {
   "cell_type": "markdown",
   "metadata": {},
   "source": [
    "Неожиданно вспоминаем, что такой цикл не заработает, потому что метро есть не везде... Переписываем цикл..."
   ]
  },
  {
   "cell_type": "code",
   "execution_count": 20,
   "metadata": {
    "collapsed": false
   },
   "outputs": [
    {
     "name": "stdout",
     "output_type": "stream",
     "text": [
      "0 10 мин. 51 мин.\n",
      "10 32 мин. 7 ч. 45 мин.\n",
      "20 10 ч. 50 мин. 7 дн. 7 ч.\n",
      "30 5 мин. 20 мин.\n",
      "40 6 мин. 8 мин.\n",
      "50 3 мин. 9 мин.\n",
      "60 7 мин. 10 мин.\n",
      "70 2 мин. 10 мин.\n",
      "80 42 мин. 7 ч. 24 мин.\n",
      "90 17 мин. 1 час. 31 мин.\n"
     ]
    }
   ],
   "source": [
    "walk_dist  = [ ]\n",
    "drive_dist = [ ]\n",
    "\n",
    "for i in range(len(metro[:100])):\n",
    "    try:\n",
    "        walk_dist.append( infa_downloader(str(latitude[i])+','+str(longtitude[i]),metro[i],\"walking\") )\n",
    "    except Exception:\n",
    "        walk_dist.append(np.nan)\n",
    "    \n",
    "    try:\n",
    "        drive_dist.append( infa_downloader(str(latitude[i])+','+str(longtitude[i]),metro[i],\"driving\") )\n",
    "    except Exception:\n",
    "        drive_dist.append(np.nan)    \n",
    "        \n",
    "    # Мы хотим видеть где именно находится наш цикл!\n",
    "    if i%10 == 0:\n",
    "        print(i,drive_dist[i],walk_dist[i])"
   ]
  },
  {
   "cell_type": "code",
   "execution_count": 24,
   "metadata": {
    "collapsed": false
   },
   "outputs": [
    {
     "name": "stdout",
     "output_type": "stream",
     "text": [
      "['10 мин.', '7 мин.', '5 мин.', '36 мин.', '10 ч. 48 мин.', '34 мин.', '38 мин.', '8 мин.', '3 мин.', '32 мин.', '32 мин.', '32 мин.', nan, nan, '32 мин.', nan, '32 мин.', nan, '10 ч. 48 мин.', '30 мин.', '10 ч. 50 мин.', '35 мин.', '3 мин.', '5 мин.', '4 мин.', nan, '30 мин.', '17 мин.', '10 мин.', '5 мин.', '5 мин.', '30 мин.', '21 мин.', '30 мин.', '24 мин.', '8 мин.', '7 мин.', '32 мин.', '30 мин.', '30 мин.', '6 мин.', '5 мин.', '25 мин.', '7 мин.', '23 мин.', '29 мин.', '3 мин.', '30 мин.', nan, '30 мин.', '3 мин.', nan, '30 мин.', '7 мин.', '33 мин.', nan, '3 мин.', '8 мин.', '7 мин.', '7 мин.', '7 мин.', '23 мин.', '30 мин.', '17 мин.', '12 мин.', '6 мин.', '35 мин.', '32 мин.', '32 мин.', '17 мин.', '2 мин.', '17 мин.', '9 мин.', '31 мин.', '9 мин.', nan, '9 мин.', nan, nan, nan, '42 мин.', '14 мин.', '17 мин.', '17 мин.', '5 мин.', '5 мин.', '5 мин.', '17 мин.', '17 мин.', '9 мин.', '17 мин.', '23 мин.', '17 мин.', '1 мин.', '17 мин.', nan, '32 мин.', '17 мин.', '30 мин.', '29 мин.']\n",
      " \n",
      " \n",
      "['51 мин.', '28 мин.', '18 мин.', '1 час. 31 мин.', '7 дн. 7 ч.', '1 час. 19 мин.', '8 ч. 55 мин.', '18 мин.', '9 мин.', '7 ч. 45 мин.', '7 ч. 45 мин.', '7 ч. 45 мин.', nan, nan, '7 ч. 45 мин.', nan, '7 ч. 45 мин.', nan, '7 дн. 7 ч.', '42 мин.', '7 дн. 7 ч.', '1 час. 26 мин.', '9 мин.', '15 мин.', '10 мин.', nan, '4 ч. 47 мин.', '1 час. 31 мин.', '18 мин.', '12 мин.', '20 мин.', '4 ч. 47 мин.', '3 ч. 6 мин.', '4 ч. 47 мин.', '3 ч. 15 мин.', '20 мин.', '16 мин.', '7 ч. 45 мин.', '4 ч. 47 мин.', '4 ч. 47 мин.', '8 мин.', '15 мин.', '2 ч. 55 мин.', '25 мин.', '5 ч. 28 мин.', '4 ч. 5 мин.', '13 мин.', '4 ч. 47 мин.', nan, '4 ч. 47 мин.', '9 мин.', nan, '4 ч. 47 мин.', '10 мин.', nan, nan, '6 мин.', '24 мин.', '22 мин.', '10 мин.', '10 мин.', '3 ч. 18 мин.', '4 ч. 47 мин.', '1 час. 31 мин.', '35 мин.', '38 мин.', '4 ч. 7 мин.', '7 ч. 45 мин.', '7 ч. 45 мин.', '1 час. 31 мин.', '10 мин.', '1 час. 31 мин.', '28 мин.', '4 ч. 17 мин.', '33 мин.', nan, '28 мин.', nan, nan, nan, '7 ч. 24 мин.', '1 час. 14 мин.', '1 час. 31 мин.', '1 час. 31 мин.', '18 мин.', '16 мин.', '12 мин.', '1 час. 31 мин.', '1 час. 31 мин.', '28 мин.', '1 час. 31 мин.', '1 час. 26 мин.', '1 час. 31 мин.', '2 мин.', '1 час. 31 мин.', nan, '7 ч. 45 мин.', '1 час. 31 мин.', '3 ч. 51 мин.', '3 ч. 49 мин.']\n"
     ]
    }
   ],
   "source": [
    "print(drive_dist,walk_dist,sep='\\n \\n \\n')"
   ]
  },
  {
   "cell_type": "markdown",
   "metadata": {},
   "source": [
    "Цикл работает довольно быстро и обрубается как только число отведённых нам запросов заканчивается. Вместо хороших ответов на наши запросы начинают появляться вот такие: \n",
    "\n",
    "``` \n",
    "{'destination_addresses': [],\n",
    " 'error_message': 'You have exceeded your daily request quota for this API. We recommend registering for a key at the Google Developers Console: https://console.developers.google.com/apis/credentials?project=_',\n",
    " 'origin_addresses': [],\n",
    " 'rows': [],\n",
    " 'status': 'OVER_QUERY_LIMIT'}\n",
    "\n",
    "```\n",
    "\n",
    "\n",
    "Что нам с этим делать? \n",
    "\n",
    "* Выход первый: качать несколько дней, качать с разных компов\n",
    "* Выход второй: обмануть гугл, подключив кусок кода, который динамически меняет наш IP\n",
    "\n",
    "Но об этом чуть позже...  Когда мы станем совсем продвинутыми юзерами..."
   ]
  },
  {
   "cell_type": "code",
   "execution_count": null,
   "metadata": {
    "collapsed": true
   },
   "outputs": [],
   "source": []
  }
 ],
 "metadata": {
  "kernelspec": {
   "display_name": "Python 3",
   "language": "python",
   "name": "python3"
  },
  "language_info": {
   "codemirror_mode": {
    "name": "ipython",
    "version": 3
   },
   "file_extension": ".py",
   "mimetype": "text/x-python",
   "name": "python",
   "nbconvert_exporter": "python",
   "pygments_lexer": "ipython3",
   "version": "3.5.2"
  }
 },
 "nbformat": 4,
 "nbformat_minor": 1
}
