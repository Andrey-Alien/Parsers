{
 "cells": [
  {
   "cell_type": "markdown",
   "metadata": {},
   "source": [
    "<img align=\"center\" src=\"https://raw.githubusercontent.com/FUlyankin/Parsers/master/images%20/bander3.jpg\" height=\"1000\" width=\"1000\"> \n",
    "\n",
    "# <center> Грабёж, разбой и другие незаконные деяния с помощью Python. <br> <br> Selenium: дистанционное управление для браузера   </center>\n",
    "\n",
    "---------\n",
    "\n",
    "В этой части нашего небольшого курса мы начнём заниматься очеловечиванием роботов, которых мы пишем. Первый способ придать нашему сборщику информации шарма – это заставить его открывать браузер и ходить по ссылкам. \n",
    "\n",
    "Поможет нам в этом пакет, который называется *Selenium*. Немного терминов и описаний.\n",
    "\n",
    "**Selenium** – это инструмент для автоматизированного управления браузерами. Наиболее популярной областью применения Selenium является автоматизация тестирования веб-приложений. Однако при помощи Selenium можно (и даже нужно!) автоматизировать любые другие рутинные действия, выполняемые через браузер. \n",
    "\n",
    "Мы, в свою очередь, будем использовать этот пакет для своих шкурных интересов: сбора данных. \n",
    "\n",
    "Первый квест, который нам предстоит пройти – это устанвока пакета. Во-первых, открываем уже любимую нами консоль и пишем в ней `pip3 install selenium`. Подробнее про пакет можно почитать в лучшем друге человека, [документации](http://selenium-python.readthedocs.io/installation.html). \n",
    "\n",
    "Пакет установлен, однако этого мало. Кроме самого по себе пакета нужен ещё драйвер, который обеспечит взаимосвязь с браузером... Для связки с firefox используется [gekodriver](https://github.com/mozilla/geckodriver/releases). Для связки с google chrome используется \n",
    "[chromedriver](https://sites.google.com/a/chromium.org/chromedriver/downloads). Про другие браузеры можно узнать в [документации](http://selenium-python.readthedocs.io/installation.html). \n",
    "\n",
    "Просто скачать драйвер недостаточно. Обязательно нужно позаботиться о том, чтобы система его увидела. В Linux достаточно просто перетащить его в папку bin. На Mac аналогично. На Windows придётся зайти в панель управления и дописать в PATH ещё один источник. Для этого найдите в панели управления подраздел \"Система\" раздела \"Система и безопасность\", жмакните на кнопку \"Дополнительные параметры системы\", там найдите \"Переменные среды\", а уже в них впишите в окошечко PATH через точку запятую путь к драйверу. \n",
    "\n",
    "<img align=\"center\" src=\"https://raw.githubusercontent.com/FUlyankin/Parsers/master/images%20/path.jpg\" height=\"800\" width=\"800\"> \n",
    "\n",
    "Можно ли проще? Наверное, да. Если выясните как, непременно расскажите мне, потому что я нахожусь в том нежном возрасте, когда я уже забыл как пользоваться Windows, а Linux пользоваться пока ещё не научился...\n",
    "\n",
    "\n",
    "## 1. Пробуем прочувствовать Selenium на своей  (на самом деле не совсем своей) шкуре...\n",
    "\n",
    "Итак, попробуем запустить робо-браузер! "
   ]
  },
  {
   "cell_type": "code",
   "execution_count": 1,
   "metadata": {
    "collapsed": true
   },
   "outputs": [],
   "source": [
    "from selenium import webdriver"
   ]
  },
  {
   "cell_type": "code",
   "execution_count": 2,
   "metadata": {},
   "outputs": [],
   "source": [
    "driver = webdriver.Chrome()\n",
    "# Если вы хотите сделать это через firefox\n",
    "# driver = webdriver.Firefox()"
   ]
  },
  {
   "cell_type": "markdown",
   "metadata": {
    "collapsed": true
   },
   "source": [
    "После запуска строчки выше у вас в отдельном окне открылось окно с браузером. Оно загрузилось и молча ожидает дальнейших указаний. Ну что ж! Давайте поуказываем ему что делать. \n",
    "\n",
    "<img align=\"center\" src=\"https://raw.githubusercontent.com/FUlyankin/Parsers/master/images%20/boston_robot.jpg\" height=\"600\" width=\"600\"> \n",
    "\n",
    "Если вы устали читать, посмотрите [пару видяшек](https://www.youtube.com/user/BostonDynamics) по теме.\n",
    "\n",
    "Перейдём на стартовую страницу гугла и что-нибудь загуглим..."
   ]
  },
  {
   "cell_type": "code",
   "execution_count": 3,
   "metadata": {
    "collapsed": true
   },
   "outputs": [],
   "source": [
    "ref = 'http://google.com'\n",
    "driver.get(ref)"
   ]
  },
  {
   "cell_type": "markdown",
   "metadata": {
    "collapsed": true
   },
   "source": [
    "Найдём на странице через inspect блок, который отвечает за поисковую строку. Мы уже делали подобные вещи, когда парсили ЦИАН. \n",
    "\n",
    "<img align=\"center\" src=\"https://raw.githubusercontent.com/FUlyankin/Parsers/master/images%20/google_stroka_inspect.png\" height=\"700\" width=\"700\"> \n",
    "\n",
    "Видим, что у строки есть имя. И имя это \"q\". Судя по всему Гуглу нравится Джеймс Бонд (фьють, ха!)\n",
    "\n",
    "Найдём поисковую строку по этому имени. Точно также можно было бы найти её по любому другому параметру. Например, по классу или id. \n"
   ]
  },
  {
   "cell_type": "code",
   "execution_count": 4,
   "metadata": {},
   "outputs": [],
   "source": [
    "stroka = driver.find_element_by_name(\"q\")"
   ]
  },
  {
   "cell_type": "markdown",
   "metadata": {
    "collapsed": true
   },
   "source": [
    "Теперь в переменной `stroka` лежит найденная нами по тэгам поисковая строка. Отметим, что поиск поисковой строки (каламбур) можно осуществить и по другим её HTML-характеристикам. Например, по классу или id. Давайте кликнем на неё. "
   ]
  },
  {
   "cell_type": "code",
   "execution_count": 5,
   "metadata": {
    "collapsed": true
   },
   "outputs": [],
   "source": [
    "stroka.click()"
   ]
  },
  {
   "cell_type": "markdown",
   "metadata": {
    "collapsed": true
   },
   "source": [
    "В открытом окне в строке для ввода замигал курсор. Абсолютно то же самое произошло бы, если бы мы кликнули на него по-настоящему! Загуглим что-нибудь."
   ]
  },
  {
   "cell_type": "code",
   "execution_count": 6,
   "metadata": {},
   "outputs": [],
   "source": [
    "stroka.send_keys('Как правильно гуглить?')"
   ]
  },
  {
   "cell_type": "markdown",
   "metadata": {},
   "source": [
    "Мы загуглили что-то не совсем то... Давайте сотрём то, что уже написали, и загуглим что-нибудь новое."
   ]
  },
  {
   "cell_type": "code",
   "execution_count": 7,
   "metadata": {
    "collapsed": true
   },
   "outputs": [],
   "source": [
    "stroka.clear()\n",
    "\n",
    "stroka.send_keys('Вконтакте')"
   ]
  },
  {
   "cell_type": "markdown",
   "metadata": {
    "collapsed": true
   },
   "source": [
    "Дело осталось совсем за малым. Найдём кнопку для гугления и нажмём её!"
   ]
  },
  {
   "cell_type": "code",
   "execution_count": 8,
   "metadata": {
    "collapsed": true
   },
   "outputs": [],
   "source": [
    "button = driver.find_element_by_name('btnG')\n",
    "button.click()"
   ]
  },
  {
   "cell_type": "markdown",
   "metadata": {},
   "source": [
    "Попробуем вытащить всю информацию с текущей страницы уже знакомыми нам методами. Красивый суп, я выбираю тебя! "
   ]
  },
  {
   "cell_type": "code",
   "execution_count": 9,
   "metadata": {},
   "outputs": [
    {
     "name": "stderr",
     "output_type": "stream",
     "text": [
      "/usr/lib/python3/dist-packages/bs4/__init__.py:166: UserWarning: No parser was explicitly specified, so I'm using the best available HTML parser for this system (\"lxml\"). This usually isn't a problem, but if you run this code on another system, or in a different virtual environment, it may use a different parser and behave differently.\n",
      "\n",
      "To get rid of this warning, change this:\n",
      "\n",
      " BeautifulSoup([your markup])\n",
      "\n",
      "to this:\n",
      "\n",
      " BeautifulSoup([your markup], \"lxml\")\n",
      "\n",
      "  markup_type=markup_type))\n"
     ]
    }
   ],
   "source": [
    "from bs4 import BeautifulSoup\n",
    "bs = BeautifulSoup(driver.page_source)"
   ]
  },
  {
   "cell_type": "markdown",
   "metadata": {},
   "source": [
    "Вся информация оказалася в наших цепких руках, внутри переменной bs. Вытащим ссылки всех страниц, которые мы нашли в процессе гуглинга..."
   ]
  },
  {
   "cell_type": "code",
   "execution_count": 10,
   "metadata": {},
   "outputs": [
    {
     "data": {
      "text/plain": [
       "['https://vk.com/',\n",
       " 'https://vk.com/login',\n",
       " 'https://m.vk.com/login',\n",
       " 'https://vk.com/page-777107_28406709',\n",
       " 'https://vk.com/durov',\n",
       " 'https://ru.wikipedia.org/wiki/%D0%92%D0%9A%D0%BE%D0%BD%D1%82%D0%B0%D0%BA%D1%82%D0%B5',\n",
       " 'https://meduza.io/news/2017/05/17/vkontakte-pobila-rekord-poseschaemosti-na-ukraine',\n",
       " 'https://vk.me/',\n",
       " 'https://lenta.ru/news/2017/05/17/vkua_record/',\n",
       " 'https://russian.rt.com/ussr/news/390542-ukraina-rekord-vkontakte-blokirovka',\n",
       " 'https://russian.rt.com/ussr/news/390658-ukraina-zablokirovali-vkontakte-yandeks']"
      ]
     },
     "execution_count": 10,
     "metadata": {},
     "output_type": "execute_result"
    }
   ],
   "source": [
    "dirty_hrefs = bs.find_all('h3',attrs={'class':'r'})\n",
    "clean_hrefs = [href.a['href'] for href in dirty_hrefs]\n",
    "clean_hrefs"
   ]
  },
  {
   "cell_type": "markdown",
   "metadata": {},
   "source": [
    "Перейдём по ссылке на залогинивание вконтакте! Зачем? Я пока ещё не знаю..."
   ]
  },
  {
   "cell_type": "code",
   "execution_count": 11,
   "metadata": {
    "collapsed": true
   },
   "outputs": [],
   "source": [
    "driver.get(clean_hrefs[1])"
   ]
  },
  {
   "cell_type": "markdown",
   "metadata": {},
   "source": [
    "Попробуем залогиниться. Для этого нам конечно же понадобятся логин и пароль. Введём их с клавиатуры... Способ вводить логин и пароль ниже называется стандартным вводом. Если вы собираетесь связать свою жизнь с питоном, рано или поздно вам придётся его освоить..."
   ]
  },
  {
   "cell_type": "code",
   "execution_count": 12,
   "metadata": {},
   "outputs": [
    {
     "name": "stdout",
     "output_type": "stream",
     "text": [
      "filfonul@gmail.com\n",
      "12345678\n"
     ]
    }
   ],
   "source": [
    "login = input()\n",
    "password = input()"
   ]
  },
  {
   "cell_type": "markdown",
   "metadata": {},
   "source": [
    "Найдём на странице поля, которые отвечают за ввод мыла и пароля и отправим в них мыло и пароль..."
   ]
  },
  {
   "cell_type": "code",
   "execution_count": 13,
   "metadata": {},
   "outputs": [],
   "source": [
    "login_pole = driver.find_element_by_id('email')   # Находим поле для логина\n",
    "login_pole.click()                                # Кликаем на это поле\n",
    "login_pole.send_keys(login)                       # Заполняем его нашим мылом\n",
    "\n",
    "passw_pole = driver.find_element_by_id('pass')    # Находим поле для пароля\n",
    "passw_pole.click()                                # Кликаем на это поле\n",
    "passw_pole.send_keys(password)                    # Заполняем его нашим паролем\n",
    "\n",
    "bezopasno = driver.find_element_by_id('expire')   # Находим поле для галочки \"не запоминать\n",
    "bezopasno.click()                                 # Ставим эту галочку\n",
    "\n",
    "login_buttom = driver.find_element_by_id('login_button') # находим кнопку для залогинивания\n",
    "login_buttom.click()                              # Логинимся! "
   ]
  },
  {
   "cell_type": "markdown",
   "metadata": {},
   "source": [
    "Посмотрим чисто ради интереса на какой странице мы сейчас находимся..."
   ]
  },
  {
   "cell_type": "code",
   "execution_count": 14,
   "metadata": {},
   "outputs": [
    {
     "data": {
      "text/plain": [
       "'https://vk.com/ppilif'"
      ]
     },
     "execution_count": 14,
     "metadata": {},
     "output_type": "execute_result"
    }
   ],
   "source": [
    "driver.current_url"
   ]
  },
  {
   "cell_type": "markdown",
   "metadata": {},
   "source": [
    "Да, это действительна она... Моя страница вконтакте. Круто...  А давайте напишем кому-нибудь сообщение с помощью нашего робота. Переходим во вкладку с друзьями."
   ]
  },
  {
   "cell_type": "code",
   "execution_count": 15,
   "metadata": {},
   "outputs": [],
   "source": [
    "friends_buttom = driver.find_element_by_id('l_fr')\n",
    "friends_buttom.click()"
   ]
  },
  {
   "cell_type": "markdown",
   "metadata": {},
   "source": [
    "Находим какого-нибудь друга..."
   ]
  },
  {
   "cell_type": "code",
   "execution_count": 20,
   "metadata": {},
   "outputs": [],
   "source": [
    "search_block = driver.find_element_by_id(\"s_search\")\n",
    "search_block.click()\n",
    "search_block.send_keys('Ксения Кинякина')"
   ]
  },
  {
   "cell_type": "markdown",
   "metadata": {},
   "source": [
    "Жмакнем на написать сообщение."
   ]
  },
  {
   "cell_type": "code",
   "execution_count": 30,
   "metadata": {},
   "outputs": [],
   "source": [
    "write_mess = driver.find_element_by_class_name('friends_field_act')\n",
    "write_mess.click()"
   ]
  },
  {
   "cell_type": "markdown",
   "metadata": {},
   "source": [
    "Отправляем в блок для записи сообщений текст."
   ]
  },
  {
   "cell_type": "code",
   "execution_count": 31,
   "metadata": {},
   "outputs": [],
   "source": [
    "mess_block = driver.find_element_by_id(\"mail_box_editable\")\n",
    "mess_block.send_keys('Привет!')"
   ]
  },
  {
   "cell_type": "markdown",
   "metadata": {},
   "source": [
    "Отправляем сообщение..."
   ]
  },
  {
   "cell_type": "code",
   "execution_count": 29,
   "metadata": {},
   "outputs": [],
   "source": [
    "send_mess = driver.find_element_by_id('mail_box_send')\n",
    "send_mess.click()"
   ]
  },
  {
   "cell_type": "markdown",
   "metadata": {},
   "source": [
    "Ну и так уж и быть... Напишем небольшой скрипт, который будет атаковать выбранного нами человека спамом, пока не появится капча (ну или пока мы не отправим 30 сообщений). Активируем спамер... \n",
    "\n",
    "Если мы непрерывно напишем все три строчки, то страничка браузера не будет успевать подгружаться. Будем после каждого, сделанного нами действия выжидать какое-то время для полной прогрузки странички.\n",
    "\n",
    "**Ещё раз, ещё раз! При работе с Selenium нужно учитывать то, что Python не будет ждать загрузки страницы в браузере, прежде, чем выполнять следующие команды, поэтому, если вы пытаетесь выполнить несколько команд подряд, вы рискуете нарваться на ошибки. Чтобы решить эту проблему, делайте в Python искусственные паузы.**"
   ]
  },
  {
   "cell_type": "code",
   "execution_count": 35,
   "metadata": {},
   "outputs": [],
   "source": [
    "import time\n",
    "\n",
    "for i in range(30):\n",
    "    write_mess = driver.find_element_by_class_name('friends_field_act')\n",
    "    write_mess.click()\n",
    "\n",
    "    time.sleep(4)\n",
    "\n",
    "    mess_block = driver.find_element_by_id(\"mail_box_editable\")\n",
    "    mess_block.send_keys('Извини меня за это, плиз :) Шутка для поднятия настроения: Колобок повесился.')\n",
    "\n",
    "    time.sleep(4)\n",
    "\n",
    "    send_mess = driver.find_element_by_id('mail_box_send')\n",
    "    send_mess.click()\n",
    "\n",
    "    time.sleep(4)"
   ]
  },
  {
   "cell_type": "markdown",
   "metadata": {},
   "source": [
    "С чувством выполненного долга закроем селениум и отправимся немного порассуждать обо всём, что только что произошло..."
   ]
  },
  {
   "cell_type": "code",
   "execution_count": 36,
   "metadata": {
    "collapsed": true
   },
   "outputs": [],
   "source": [
    "driver.close()"
   ]
  },
  {
   "cell_type": "markdown",
   "metadata": {},
   "source": [
    "Итак, мы написали небольшого робота – спамера, который сам открывает браузер, залогинивается вконтакте, находит конкретного человека и начинает атаковать его сообщениями. Можно доработать этого робота и заставить его отсылать самые разные сообщения различным людям.\n",
    "\n",
    "Через какое-то количество сообщений мы упремся в капчу – первый и самый простой рубеж защиты от автоспама. \n",
    "\n",
    "<img align=\"center\" src=\"http://vachevskiy.ru/wp-content/uploads/2013/10/chto-takoe-captcha.jpg\" height=\"300\" width=\"300\">\n",
    "\n",
    "Можно обучить нового робота, который будет разгадывать такие капчи. Машинное обучение позволяет сделать это довольно быстро и просто на том же самом питоне... Такой разгадыватель капчей может продолжить спамить.\n",
    "\n",
    "Однако администрация вконтакте очень быстро забанит такого робота за подозрительную активность. В ответ на такое хамство с их стороны мы можем написать робота, который будет создавать новые аккаунты, заполнять их каким-нибудь контентом и продолжать спамить...\n",
    "\n",
    "Война может быть долгой, а роботы могут быть всё более и более умными. В конечном счёте нас могут забанить по IP (не знаю практикует ли Вконтакте такие блокировки). Мы в свою очередь запустим своего робота через ТОР и продолжим тероризировать вконтакте, создавая всё новые и новые аккаунты. Такой робот будет работать довольно медленно, но будет. Главная его фишка в том, что для его деятельности не нужны никакие API и ключи доступа и это очень круто.\n",
    "\n",
    "Тем не менее, я уверен, что в рукаве у админов вк припасена пара антиспамовых фишечек, которая нас шокирует и заставит как следует подумать над улучшениями нашего робота. \n",
    "\n",
    "Делать это всё мы конечно не будем... Потому что игра не стоит свеч. Это не принесёт нам никаких данных, а мы хотим данных! Займёмся чем-нибудь более приземлённым и близким тематике наших занятий. \n",
    "\n",
    "P.S. Вы делаете пост в общей группе с призывом пойти на тусу, а никто не приходит? После ты слышишь оправдание: \"Ну меня лично никто не звал...\" И им пофиг, что пост в группе был для всех! Самое время создать вконтакте аккаунт с именем \"Иканамовский тусер\" и начать через селениум от его имени всем в личку слать приглашения! :)\n",
    "\n",
    "\n",
    "## 2. Google trends. Сбор статистики о поисковых запросах.\n",
    "\n",
    "Нам, как мирным собирателям данных (а не как злостным спамерам) Selenium нужен для выхода из ситуаций, когда надо часто жать кнопку download...\n",
    "\n",
    "\n",
    "<img align=\"center\" src=\"https://raw.githubusercontent.com/FUlyankin/Parsers/master/images%20/2.png\" height=\"500\" width=\"500\">\n",
    "\n",
    "Переодически нужда нажимать эту кнопку возникает из-за всяких дурацких ограничений. Не так давно мне было нужно ограбить Google. Мне понадобилась статистика о поисковых запросах для довольно большого числа слов. Google – это компания, которая хорошо заботится о своих данныхи и отдаёт их в руки только самых достойных пиратов (либо своих сотрудников). \n",
    "\n",
    "<img align=\"center\" src=\"https://raw.githubusercontent.com/FUlyankin/Parsers/master/images%20/google_trends.png\" height=\"700\" width=\"700\">\n",
    "\n",
    "Для работы с Google trends я нашёл целый [питоновский пакет.](https://github.com/GeneralMills/pytrends) Для того, чтобы использовать его нужно было авторизоваться в gmail. Добрые разработчики разрешили сделать за сутки 300 запросов и забанили меня. Я попробовал включить автоматическую смену IP и наткнулся на забавный казус. Я в течение минуты зашёл на свою почту из 10 разных точек мира, о чём заботливый гугл сразу же мне сообщил... \n",
    "\n",
    "<img align=\"center\" src=\"https://raw.githubusercontent.com/FUlyankin/Parsers/master/images%20/Helsenki.jpg\" height=\"700\" width=\"700\">\n",
    "\n",
    "Со скачкой динамики поисковых запросов возникли серьёзные проблемы. Из-за гугловских ограничений (не более 5 слов за раз), мне нужно было сделать огромное количество запросов... Из этой ситуации мне помог выйти selenium. Через него я мог делать довольно большое количество запросов в течение дня. \n",
    "\n",
    "Кроме того, я пытался написать парсер через запущенный в selenium Tor, однако столкнулся с довольно забавной проблемой, с которой мы с вами столкнёмся чуть ниже.\n",
    "\n",
    "Для запуска селениума через Tor существует [пакет tbselenium,](https://github.com/webfp/tor-browser-selenium) который работает точно также как selenium, но с тором. Единственная разница в том, что нужно указать путь до тора. Можно использовать Tor и в selenium, но для этого придётся прописать пару настроек.\n",
    "\n",
    "Подгружаем пакет."
   ]
  },
  {
   "cell_type": "code",
   "execution_count": 38,
   "metadata": {},
   "outputs": [],
   "source": [
    "from tbselenium.tbdriver import TorBrowserDriver"
   ]
  },
  {
   "cell_type": "markdown",
   "metadata": {},
   "source": [
    "Торовский драйвер можно подгрузить следующим образом."
   ]
  },
  {
   "cell_type": "code",
   "execution_count": 39,
   "metadata": {
    "collapsed": true
   },
   "outputs": [],
   "source": [
    "driver = TorBrowserDriver('/home/filipp/Cash/programs/tor-browser_ru/')"
   ]
  },
  {
   "cell_type": "markdown",
   "metadata": {},
   "source": [
    "Следующая функция делает запрос к google-trends и скачивает csv-табличку со статистикой. "
   ]
  },
  {
   "cell_type": "code",
   "execution_count": 40,
   "metadata": {},
   "outputs": [],
   "source": [
    "def open_and_save(words,driver):\n",
    "    # Прогружаем страницу\n",
    "    driver.get(\"https://www.google.ru/trends/explore?date=all&geo=RU&q=\"+words)\n",
    "    # Немного ждём, иначе страница не успевает прогрузиться.\n",
    "    time.sleep(5)\n",
    "    # Находим кнопку для открытия менюшки. Для разнообразия скопируем xpath...\n",
    "    menu_knopka = reserv_driver.find_element_by_xpath('/html/body/div[2]/div[2]/md-content/div/div/div[1]/trends-widget/ng-include/widget/div/div/div/widget-actions/button')\n",
    "    menu_knopka.click() # Жмак\n",
    "    # Находим в меню кнопку для скачки csv-файла\n",
    "    csv_knopka = driver.find_element_by_xpath('/html/body/div[2]/div[2]/md-content/div/div/div[1]/trends-widget/ng-include/widget/div/div/div/widget-actions/div/button[3]/div')\n",
    "    csv_knopka.click() # Жмак\n",
    "    return()\n"
   ]
  },
  {
   "cell_type": "markdown",
   "metadata": {},
   "source": [
    "Скачиваем табличку через хром."
   ]
  },
  {
   "cell_type": "code",
   "execution_count": 41,
   "metadata": {
    "collapsed": true
   },
   "outputs": [],
   "source": [
    "reserv_driver =  webdriver.Chrome()\n",
    "open_and_save('коала,лемур,олег,япония,салат',reserv_driver)\n",
    "reserv_driver.close()"
   ]
  },
  {
   "cell_type": "markdown",
   "metadata": {},
   "source": [
    "Пытаемся скачать табличку через ТОР и встречаемся с неожиданным сюрпризом... Почему-то в Tor-окне отсутствует кнопка \"скачать csv\"."
   ]
  },
  {
   "cell_type": "code",
   "execution_count": 42,
   "metadata": {},
   "outputs": [
    {
     "ename": "WebDriverException",
     "evalue": "Message: no such session\n  (Driver info: chromedriver=2.27.440175 (9bc1d90b8bfa4dd181fbbf769a5eb5e575574320),platform=Linux 4.4.0-78-generic x86_64)\n",
     "output_type": "error",
     "traceback": [
      "\u001b[0;31m---------------------------------------------------------------------------\u001b[0m",
      "\u001b[0;31mWebDriverException\u001b[0m                        Traceback (most recent call last)",
      "\u001b[0;32m<ipython-input-42-4c726f8fafd5>\u001b[0m in \u001b[0;36m<module>\u001b[0;34m()\u001b[0m\n\u001b[1;32m      1\u001b[0m \u001b[0mdriver\u001b[0m \u001b[0;34m=\u001b[0m \u001b[0mTorBrowserDriver\u001b[0m\u001b[0;34m(\u001b[0m\u001b[0;34m'/home/filipp/Cash/programs/tor-browser_ru/'\u001b[0m\u001b[0;34m)\u001b[0m\u001b[0;34m\u001b[0m\u001b[0m\n\u001b[0;32m----> 2\u001b[0;31m \u001b[0mopen_and_save\u001b[0m\u001b[0;34m(\u001b[0m\u001b[0;34m'коала,лемур,олег,япония,салат'\u001b[0m\u001b[0;34m,\u001b[0m\u001b[0mdriver\u001b[0m\u001b[0;34m)\u001b[0m\u001b[0;34m\u001b[0m\u001b[0m\n\u001b[0m\u001b[1;32m      3\u001b[0m \u001b[0mdriver\u001b[0m\u001b[0;34m.\u001b[0m\u001b[0mclose\u001b[0m\u001b[0;34m(\u001b[0m\u001b[0;34m)\u001b[0m\u001b[0;34m\u001b[0m\u001b[0m\n",
      "\u001b[0;32m<ipython-input-40-3af1838b996a>\u001b[0m in \u001b[0;36mopen_and_save\u001b[0;34m(words, driver)\u001b[0m\n\u001b[1;32m      5\u001b[0m     \u001b[0mtime\u001b[0m\u001b[0;34m.\u001b[0m\u001b[0msleep\u001b[0m\u001b[0;34m(\u001b[0m\u001b[0;36m5\u001b[0m\u001b[0;34m)\u001b[0m\u001b[0;34m\u001b[0m\u001b[0m\n\u001b[1;32m      6\u001b[0m     \u001b[0;31m# Находим кнопку для открытия менюшки\u001b[0m\u001b[0;34m\u001b[0m\u001b[0;34m\u001b[0m\u001b[0m\n\u001b[0;32m----> 7\u001b[0;31m     \u001b[0mmenu_knopka\u001b[0m \u001b[0;34m=\u001b[0m \u001b[0mreserv_driver\u001b[0m\u001b[0;34m.\u001b[0m\u001b[0mfind_element_by_xpath\u001b[0m\u001b[0;34m(\u001b[0m\u001b[0;34m'/html/body/div[2]/div[2]/md-content/div/div/div[1]/trends-widget/ng-include/widget/div/div/div/widget-actions/button'\u001b[0m\u001b[0;34m)\u001b[0m\u001b[0;34m\u001b[0m\u001b[0m\n\u001b[0m\u001b[1;32m      8\u001b[0m     \u001b[0mmenu_knopka\u001b[0m\u001b[0;34m.\u001b[0m\u001b[0mclick\u001b[0m\u001b[0;34m(\u001b[0m\u001b[0;34m)\u001b[0m \u001b[0;31m# Жмак\u001b[0m\u001b[0;34m\u001b[0m\u001b[0m\n\u001b[1;32m      9\u001b[0m     \u001b[0;31m# Находим в меню кнопку для скачки csv-файла\u001b[0m\u001b[0;34m\u001b[0m\u001b[0;34m\u001b[0m\u001b[0m\n",
      "\u001b[0;32m/usr/local/lib/python3.5/dist-packages/selenium/webdriver/remote/webdriver.py\u001b[0m in \u001b[0;36mfind_element_by_xpath\u001b[0;34m(self, xpath)\u001b[0m\n\u001b[1;32m    291\u001b[0m             \u001b[0mdriver\u001b[0m\u001b[0;34m.\u001b[0m\u001b[0mfind_element_by_xpath\u001b[0m\u001b[0;34m(\u001b[0m\u001b[0;34m'//div/td[1]'\u001b[0m\u001b[0;34m)\u001b[0m\u001b[0;34m\u001b[0m\u001b[0m\n\u001b[1;32m    292\u001b[0m         \"\"\"\n\u001b[0;32m--> 293\u001b[0;31m         \u001b[0;32mreturn\u001b[0m \u001b[0mself\u001b[0m\u001b[0;34m.\u001b[0m\u001b[0mfind_element\u001b[0m\u001b[0;34m(\u001b[0m\u001b[0mby\u001b[0m\u001b[0;34m=\u001b[0m\u001b[0mBy\u001b[0m\u001b[0;34m.\u001b[0m\u001b[0mXPATH\u001b[0m\u001b[0;34m,\u001b[0m \u001b[0mvalue\u001b[0m\u001b[0;34m=\u001b[0m\u001b[0mxpath\u001b[0m\u001b[0;34m)\u001b[0m\u001b[0;34m\u001b[0m\u001b[0m\n\u001b[0m\u001b[1;32m    294\u001b[0m \u001b[0;34m\u001b[0m\u001b[0m\n\u001b[1;32m    295\u001b[0m     \u001b[0;32mdef\u001b[0m \u001b[0mfind_elements_by_xpath\u001b[0m\u001b[0;34m(\u001b[0m\u001b[0mself\u001b[0m\u001b[0;34m,\u001b[0m \u001b[0mxpath\u001b[0m\u001b[0;34m)\u001b[0m\u001b[0;34m:\u001b[0m\u001b[0;34m\u001b[0m\u001b[0m\n",
      "\u001b[0;32m/usr/local/lib/python3.5/dist-packages/selenium/webdriver/remote/webdriver.py\u001b[0m in \u001b[0;36mfind_element\u001b[0;34m(self, by, value)\u001b[0m\n\u001b[1;32m    750\u001b[0m         return self.execute(Command.FIND_ELEMENT, {\n\u001b[1;32m    751\u001b[0m             \u001b[0;34m'using'\u001b[0m\u001b[0;34m:\u001b[0m \u001b[0mby\u001b[0m\u001b[0;34m,\u001b[0m\u001b[0;34m\u001b[0m\u001b[0m\n\u001b[0;32m--> 752\u001b[0;31m             'value': value})['value']\n\u001b[0m\u001b[1;32m    753\u001b[0m \u001b[0;34m\u001b[0m\u001b[0m\n\u001b[1;32m    754\u001b[0m     \u001b[0;32mdef\u001b[0m \u001b[0mfind_elements\u001b[0m\u001b[0;34m(\u001b[0m\u001b[0mself\u001b[0m\u001b[0;34m,\u001b[0m \u001b[0mby\u001b[0m\u001b[0;34m=\u001b[0m\u001b[0mBy\u001b[0m\u001b[0;34m.\u001b[0m\u001b[0mID\u001b[0m\u001b[0;34m,\u001b[0m \u001b[0mvalue\u001b[0m\u001b[0;34m=\u001b[0m\u001b[0;32mNone\u001b[0m\u001b[0;34m)\u001b[0m\u001b[0;34m:\u001b[0m\u001b[0;34m\u001b[0m\u001b[0m\n",
      "\u001b[0;32m/usr/local/lib/python3.5/dist-packages/selenium/webdriver/remote/webdriver.py\u001b[0m in \u001b[0;36mexecute\u001b[0;34m(self, driver_command, params)\u001b[0m\n\u001b[1;32m    234\u001b[0m         \u001b[0mresponse\u001b[0m \u001b[0;34m=\u001b[0m \u001b[0mself\u001b[0m\u001b[0;34m.\u001b[0m\u001b[0mcommand_executor\u001b[0m\u001b[0;34m.\u001b[0m\u001b[0mexecute\u001b[0m\u001b[0;34m(\u001b[0m\u001b[0mdriver_command\u001b[0m\u001b[0;34m,\u001b[0m \u001b[0mparams\u001b[0m\u001b[0;34m)\u001b[0m\u001b[0;34m\u001b[0m\u001b[0m\n\u001b[1;32m    235\u001b[0m         \u001b[0;32mif\u001b[0m \u001b[0mresponse\u001b[0m\u001b[0;34m:\u001b[0m\u001b[0;34m\u001b[0m\u001b[0m\n\u001b[0;32m--> 236\u001b[0;31m             \u001b[0mself\u001b[0m\u001b[0;34m.\u001b[0m\u001b[0merror_handler\u001b[0m\u001b[0;34m.\u001b[0m\u001b[0mcheck_response\u001b[0m\u001b[0;34m(\u001b[0m\u001b[0mresponse\u001b[0m\u001b[0;34m)\u001b[0m\u001b[0;34m\u001b[0m\u001b[0m\n\u001b[0m\u001b[1;32m    237\u001b[0m             response['value'] = self._unwrap_value(\n\u001b[1;32m    238\u001b[0m                 response.get('value', None))\n",
      "\u001b[0;32m/usr/local/lib/python3.5/dist-packages/selenium/webdriver/remote/errorhandler.py\u001b[0m in \u001b[0;36mcheck_response\u001b[0;34m(self, response)\u001b[0m\n\u001b[1;32m    190\u001b[0m         \u001b[0;32melif\u001b[0m \u001b[0mexception_class\u001b[0m \u001b[0;34m==\u001b[0m \u001b[0mUnexpectedAlertPresentException\u001b[0m \u001b[0;32mand\u001b[0m \u001b[0;34m'alert'\u001b[0m \u001b[0;32min\u001b[0m \u001b[0mvalue\u001b[0m\u001b[0;34m:\u001b[0m\u001b[0;34m\u001b[0m\u001b[0m\n\u001b[1;32m    191\u001b[0m             \u001b[0;32mraise\u001b[0m \u001b[0mexception_class\u001b[0m\u001b[0;34m(\u001b[0m\u001b[0mmessage\u001b[0m\u001b[0;34m,\u001b[0m \u001b[0mscreen\u001b[0m\u001b[0;34m,\u001b[0m \u001b[0mstacktrace\u001b[0m\u001b[0;34m,\u001b[0m \u001b[0mvalue\u001b[0m\u001b[0;34m[\u001b[0m\u001b[0;34m'alert'\u001b[0m\u001b[0;34m]\u001b[0m\u001b[0;34m.\u001b[0m\u001b[0mget\u001b[0m\u001b[0;34m(\u001b[0m\u001b[0;34m'text'\u001b[0m\u001b[0;34m)\u001b[0m\u001b[0;34m)\u001b[0m\u001b[0;34m\u001b[0m\u001b[0m\n\u001b[0;32m--> 192\u001b[0;31m         \u001b[0;32mraise\u001b[0m \u001b[0mexception_class\u001b[0m\u001b[0;34m(\u001b[0m\u001b[0mmessage\u001b[0m\u001b[0;34m,\u001b[0m \u001b[0mscreen\u001b[0m\u001b[0;34m,\u001b[0m \u001b[0mstacktrace\u001b[0m\u001b[0;34m)\u001b[0m\u001b[0;34m\u001b[0m\u001b[0m\n\u001b[0m\u001b[1;32m    193\u001b[0m \u001b[0;34m\u001b[0m\u001b[0m\n\u001b[1;32m    194\u001b[0m     \u001b[0;32mdef\u001b[0m \u001b[0m_value_or_default\u001b[0m\u001b[0;34m(\u001b[0m\u001b[0mself\u001b[0m\u001b[0;34m,\u001b[0m \u001b[0mobj\u001b[0m\u001b[0;34m,\u001b[0m \u001b[0mkey\u001b[0m\u001b[0;34m,\u001b[0m \u001b[0mdefault\u001b[0m\u001b[0;34m)\u001b[0m\u001b[0;34m:\u001b[0m\u001b[0;34m\u001b[0m\u001b[0m\n",
      "\u001b[0;31mWebDriverException\u001b[0m: Message: no such session\n  (Driver info: chromedriver=2.27.440175 (9bc1d90b8bfa4dd181fbbf769a5eb5e575574320),platform=Linux 4.4.0-78-generic x86_64)\n"
     ]
    }
   ],
   "source": [
    "driver = TorBrowserDriver('/home/filipp/Cash/programs/tor-browser_ru/')\n",
    "open_and_save('коала,лемур,олег,япония,салат',driver)\n",
    "driver.close()"
   ]
  },
  {
   "cell_type": "markdown",
   "metadata": {},
   "source": [
    "Несмотря на такой неожиданный казус, селениум запущенный через ТОР иногда выручает. Кстати, если вы знаете как по-человечески спарсить гугл-трендс в обход всех блокировок и быстро, то расскажите мне... Пожалуйста... "
   ]
  },
  {
   "cell_type": "markdown",
   "metadata": {},
   "source": [
    "Напоследок, хочу обратить ваше внимание на то, что в Selenium можно имитировать нажатие на клавиши клавиатуры. Например, на стрелки! "
   ]
  },
  {
   "cell_type": "code",
   "execution_count": null,
   "metadata": {
    "collapsed": true
   },
   "outputs": [],
   "source": [
    "element.send_keys(\"some information\", Keys.ARROW_DOWN)"
   ]
  },
  {
   "cell_type": "markdown",
   "metadata": {},
   "source": [
    "Также в Selenium есть команды назад, вперёд и обновить."
   ]
  },
  {
   "cell_type": "code",
   "execution_count": null,
   "metadata": {
    "collapsed": true
   },
   "outputs": [],
   "source": [
    "driver.back()"
   ]
  },
  {
   "cell_type": "code",
   "execution_count": null,
   "metadata": {
    "collapsed": true
   },
   "outputs": [],
   "source": [
    "driver.forward()"
   ]
  },
  {
   "cell_type": "code",
   "execution_count": null,
   "metadata": {
    "collapsed": true
   },
   "outputs": [],
   "source": [
    "driver.refresh()"
   ]
  },
  {
   "cell_type": "markdown",
   "metadata": {},
   "source": [
    "Более того, в окне браузера можно открывать дополнительные окна, переключаться между ними, управлять всплывающими окнами, перетаскивать что-то куда-то и делать ещё кучу разных вещей. Если вы знаете что бы вы хотели автоматизировать с помощью selenium, на досуге займитесь этим...\n"
   ]
  },
  {
   "cell_type": "markdown",
   "metadata": {
    "collapsed": true
   },
   "source": [
    "\n",
    "## Почиташки: \n",
    "\n",
    "* Хороший [перевод документации по селениуму для Python на хабре](https://habrahabr.ru/post/248559/) из 8 частей. [Пятая](https://habrahabr.ru/post/273089/) и [шестая](https://habrahabr.ru/post/273115/) части точно написаны. Просто ссылок на них нигде нет. Нужно гуглить их отдельно. \n",
    "* [Оригинал документации](http://selenium-python.readthedocs.io/index.html) по selenium на английском языке. \n",
    "* [Документация для пакета с TOP](https://github.com/webfp/tor-browser-selenium) \n"
   ]
  }
 ],
 "metadata": {
  "kernelspec": {
   "display_name": "Python 3",
   "language": "python",
   "name": "python3"
  },
  "language_info": {
   "codemirror_mode": {
    "name": "ipython",
    "version": 3
   },
   "file_extension": ".py",
   "mimetype": "text/x-python",
   "name": "python",
   "nbconvert_exporter": "python",
   "pygments_lexer": "ipython3",
   "version": "3.6.3"
  }
 },
 "nbformat": 4,
 "nbformat_minor": 1
}
