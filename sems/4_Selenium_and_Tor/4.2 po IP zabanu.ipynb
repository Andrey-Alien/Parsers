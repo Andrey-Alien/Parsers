{
 "cells": [
  {
   "cell_type": "markdown",
   "metadata": {},
   "source": [
    "<img align=\"center\" src=\"https://raw.githubusercontent.com/FUlyankin/Parsers/master/images%20/TOR.jpg\" height=\"900\" width=\"900\"> \n",
    "\n",
    "# <center> Мне может и нечего скрывать, но чем я занимаюсь — это не ваше дело. Или \"Что делать, если вас банят по ip. </center>\n",
    "\n",
    "---------\n",
    "\n",
    "\n",
    "Вопреки пропагандируемому мнению, Tor используется не только преступниками, педофилами и прочими нехорошими террористами. Это, мягко говоря, далеко не так. Активисты разного рода, журналисты, просто люди, любящие приватность составляют портрет пользователей Tor. Лично мне очень импонирует позиция разработчиков Tor, отвечающих на вопрос «а что, у вас есть, что скрывать?» фразой: «Нет, это не секрет – просто это не ваше дело».\n",
    "\n",
    "У преступников есть и другие средства от смены личности и краденых устройств до специальных ботов и вирусов. Используя и пропагандируя Tor вы помогаете преступникам не более, чем используя интернет. Аналогичные вещи можно сказать и по поводу Telegram. Многие могут поспорить с такой позицией, но мы не для этого тут собрались...\n",
    "\n",
    "\n",
    "## Как работает ТОР\n",
    "\n",
    "Картинки и большая часть информации взяты со [статьи на geektimes.](https://geektimes.ru/post/277578/) Рекоменду почитать про ТОР [в интернатах :)](https://ru.wikipedia.org/wiki/Tor) Особенно про попытки сломать ТОР и поиск уязвимостей. Это поможет сформировать какое-то представления о нашей с вами анонимности в интернетах.\n",
    "\n",
    "<img align=\"center\" src=\"https://hsto.org/getpro/geektimes/post_images/f6c/2e7/99f/f6c2e799f6d101d30a07e355949cd15a.png\" height=\"800\" width=\"800\"> \n",
    "\n",
    "\n",
    "<img align=\"center\" src=\"https://hsto.org/getpro/geektimes/post_images/c8c/458/1af/c8c4581af03413ae7961b15f68a7d328.png\" height=\"800\" width=\"800\"> \n",
    "\n",
    "\n",
    "**Входной, или сторожевой узел (нода)** – точка входа в сеть. Входные узлы выбираются из тех, что работают продолжительное время, и показали себя как стабильные и высокоскоростные.\n",
    "**Промежуточный узел (нода)** – передаёт трафик от охранных к выходным. В результате первые не знают ничего о последних.\n",
    "**Выходной узел (нода)** – точка выхода из сети, отправляет трафик к пункту назначения, который нужен клиенту.\n",
    "\n",
    "Обычно безопасный метод запуска сторожевого или промежуточного узла — виртуальный сервер (DigitalOcean, EC2) – в этом случае операторы сервера увидят только зашифрованный трафик.\n",
    "\n",
    "На операторах выходных узлов лежит особая ответственность. Поскольку они отправляют трафик в пункт назначения, все незаконные действия, совершаемые через Tor, будут связываться с выходным узлом. А это может привести к полицейским рейдам, уведомлениям о нелегальной деятельности и другим вещам. Встретите оператора выходного узла – скажите ему спасибо. Он того заслуживает.\n",
    "\n",
    "<img align=\"center\" src=\"https://raw.githubusercontent.com/FUlyankin/Parsers/master/images%20/tor_noda.jpg\" height=\"650\" width=\"650\"> \n"
   ]
  },
  {
   "cell_type": "markdown",
   "metadata": {
    "collapsed": true
   },
   "source": [
    "Вернёмся к нашим баранам. Мы – мирные собиратели данных, а не терористы. Иногда серверу надоедает общаться с одним и тем же человеком, делающим кучу запросов и сервер банит его. К сожалению, не только люди бывают невыносимыми... Придётся маскироваться... Мы будем использовать возможности Tor для обхода блокировок. \n",
    "\n",
    "**Ещё раз, ещё раз, мы не терористы! Правда...**"
   ]
  },
  {
   "cell_type": "markdown",
   "metadata": {
    "collapsed": true
   },
   "source": [
    "## 2. Добиваемся бана.\n",
    "\n",
    "Дальнейший скрипт построен на материалах, созданных Димой Сергеевым.  Если хотите посмотреть первоисточник, а заодно и прочитать исследование о мемах, добро пожаловать в [Димин репозиторий](https://github.com/DmitrySerg/memology) с кучей кода и данных. Там много чего интересного. В том числе несколько парсеров... Также всем рекомендую посмотреть [выступление Димы на датафесте](https://it.mail.ru/video/933/), а также [его презенташку.](https://github.com/FUlyankin/Parsers/raw/master/Po_ai_774_pi_vychislyu_33.pdf) \n",
    "\n",
    "По аналогии с Димой добьёмся бана от http://knowyourmeme.com. Не будем особо заморачиваться с кодом парсера. Будем всё время обращаться к одной и той же странице до тех пор, пока нас не забанят.\n",
    "\n",
    "Как только мы получим бан, сервер либо начнёт нам выдавать ошибку, либо сообщения о том, что мы были забанены. "
   ]
  },
  {
   "cell_type": "code",
   "execution_count": 1,
   "metadata": {
    "collapsed": true
   },
   "outputs": [],
   "source": [
    "import requests\n",
    "page = 'http://knowyourmeme.com/memes/researching/page/8'"
   ]
  },
  {
   "cell_type": "code",
   "execution_count": 2,
   "metadata": {
    "collapsed": false
   },
   "outputs": [
    {
     "name": "stdout",
     "output_type": "stream",
     "text": [
      "<Response [403]>\n",
      "<Response [403]>\n",
      "<Response [403]>\n",
      "<Response [403]>\n",
      "<Response [403]>\n"
     ]
    }
   ],
   "source": [
    "k = 0\n",
    "while k<5:\n",
    "    response = requests.get(page)\n",
    "    print(response)\n",
    "    k += 1"
   ]
  },
  {
   "cell_type": "code",
   "execution_count": 3,
   "metadata": {
    "collapsed": false
   },
   "outputs": [
    {
     "data": {
      "text/plain": [
       "b'<html>\\r\\n<head><title>403 Forbidden</title></head>\\r\\n<body bgcolor=\"white\">\\r\\n<center><h1>403 Forbidden</h1></center>\\r\\n<hr><center>nginx/1.10.0 (Ubuntu)</center>\\r\\n</body>\\r\\n</html>\\r\\n'"
      ]
     },
     "execution_count": 3,
     "metadata": {},
     "output_type": "execute_result"
    }
   ],
   "source": [
    "response.content"
   ]
  },
  {
   "cell_type": "markdown",
   "metadata": {},
   "source": [
    "Ошибка 403, доступ запрещён. Попробуем добиться доступа с помощью генерации случайных юзер-агентов. Предварительно не забываем установить библиотеку! "
   ]
  },
  {
   "cell_type": "code",
   "execution_count": 4,
   "metadata": {
    "collapsed": false
   },
   "outputs": [],
   "source": [
    "from user_agent import generate_user_agent "
   ]
  },
  {
   "cell_type": "markdown",
   "metadata": {},
   "source": [
    "Сгенерим парочку юзер агентов:"
   ]
  },
  {
   "cell_type": "code",
   "execution_count": 5,
   "metadata": {
    "collapsed": false
   },
   "outputs": [
    {
     "data": {
      "text/plain": [
       "'Mozilla/5.0 (Macintosh; Intel Mac OS X 10.11; rv:48.0) Gecko/20100101 Firefox/48.0'"
      ]
     },
     "execution_count": 5,
     "metadata": {},
     "output_type": "execute_result"
    }
   ],
   "source": [
    "generate_user_agent()"
   ]
  },
  {
   "cell_type": "code",
   "execution_count": 6,
   "metadata": {
    "collapsed": false
   },
   "outputs": [
    {
     "data": {
      "text/plain": [
       "'Mozilla/5.0 (Windows NT 10.0; WOW64; rv:48.0) Gecko/20100101 Firefox/48.0'"
      ]
     },
     "execution_count": 6,
     "metadata": {},
     "output_type": "execute_result"
    }
   ],
   "source": [
    "generate_user_agent()"
   ]
  },
  {
   "cell_type": "code",
   "execution_count": 7,
   "metadata": {
    "collapsed": false
   },
   "outputs": [
    {
     "data": {
      "text/plain": [
       "'Mozilla/5.0 (Macintosh; Intel Mac OS X 10.8; rv:49.0) Gecko/20100101 Firefox/49.0'"
      ]
     },
     "execution_count": 7,
     "metadata": {},
     "output_type": "execute_result"
    }
   ],
   "source": [
    "generate_user_agent()"
   ]
  },
  {
   "cell_type": "markdown",
   "metadata": {},
   "source": [
    "Много разных юзер-агентов :) Пробуем обойти блокировку."
   ]
  },
  {
   "cell_type": "code",
   "execution_count": 8,
   "metadata": {
    "collapsed": false
   },
   "outputs": [
    {
     "name": "stdout",
     "output_type": "stream",
     "text": [
      "<Response [200]>\n",
      "<Response [200]>\n",
      "<Response [200]>\n",
      "<Response [200]>\n",
      "<Response [200]>\n"
     ]
    }
   ],
   "source": [
    "k = 0\n",
    "while k<5:\n",
    "    response = requests.get(page,headers = {'User-Agent':generate_user_agent()})\n",
    "    print(response)\n",
    "    k += 1"
   ]
  },
  {
   "cell_type": "markdown",
   "metadata": {
    "collapsed": true
   },
   "source": [
    "Благословенный 200 - ответ... Сервер снова нам отвечает. Убедимся, что респонс полон контента."
   ]
  },
  {
   "cell_type": "code",
   "execution_count": 9,
   "metadata": {
    "collapsed": false
   },
   "outputs": [
    {
     "data": {
      "text/plain": [
       "b'<h1>\\nYour ip address\\n<span style=\\'color: red;\\'>\\n85.30.254.40\\n</span>\\nhas been banned.\\n</h1>\\n<p>\\nIf you think this is a mistake then please contact\\n<a href=\"mailto:bans@knowyourmeme.com?subject=85.30.254.40 banned\">bans@knowyourmeme.com</a>\\nimmediately and\\n<strong>\\n<em>\\nmake sure to include your ip address.\\n</em>\\n</strong>\\n</p>\\n<h3 style=\\'color: red; font-weight: bold;\\'>\\nThis should be obvious but if you don\\'t include your ip address then there\\'s no way to unban you.\\n</h3>\\n<h3>\\n<em>\\nDon\\'t include a screenshot of this page or any other page in the email; it\\'s just a waste of time.\\n</em>\\n</h3>\\n<br>\\n<hr>\\n<br>\\n<p>\\n<strong>\\nNOTE: If you\\'re thinking of claiming that your ip address is actually 192.168.X.X and not the one listed above:\\n</strong>\\n</p>\\n<p>\\n<em>\\n192.168.X.X is a private ip address for your local network and it\\'s irrelevant to the outside world.\\n</em>\\n</p>\\n'"
      ]
     },
     "execution_count": 9,
     "metadata": {},
     "output_type": "execute_result"
    }
   ],
   "source": [
    "response.content"
   ]
  },
  {
   "cell_type": "markdown",
   "metadata": {
    "collapsed": true
   },
   "source": [
    "Снова добиваемся бана."
   ]
  },
  {
   "cell_type": "code",
   "execution_count": 10,
   "metadata": {
    "collapsed": false
   },
   "outputs": [
    {
     "name": "stdout",
     "output_type": "stream",
     "text": [
      "<Response [200]>\n",
      "<Response [200]>\n",
      "<Response [200]>\n",
      "<Response [200]>\n",
      "<Response [200]>\n",
      "<Response [200]>\n",
      "<Response [200]>\n",
      "<Response [200]>\n",
      "<Response [200]>\n",
      "<Response [200]>\n"
     ]
    }
   ],
   "source": [
    "k = 0\n",
    "while k < 500:\n",
    "    response = requests.get(page,headers = {'User-Agent':generate_user_agent()})\n",
    "    print(response)\n",
    "    k += 1"
   ]
  },
  {
   "cell_type": "markdown",
   "metadata": {},
   "source": [
    "А что у нас лежит в респонсе?"
   ]
  },
  {
   "cell_type": "code",
   "execution_count": 11,
   "metadata": {
    "collapsed": false
   },
   "outputs": [
    {
     "data": {
      "text/plain": [
       "b'<h1>\\nYour ip address\\n<span style=\\'color: red;\\'>\\n85.30.254.40\\n</span>\\nhas been banned.\\n</h1>\\n<p>\\nIf you think this is a mistake then please contact\\n<a href=\"mailto:bans@knowyourmeme.com?subject=85.30.254.40 banned\">bans@knowyourmeme.com</a>\\nimmediately and\\n<strong>\\n<em>\\nmake sure to include your ip address.\\n</em>\\n</strong>\\n</p>\\n<h3 style=\\'color: red; font-weight: bold;\\'>\\nThis should be obvious but if you don\\'t include your ip address then there\\'s no way to unban you.\\n</h3>\\n<h3>\\n<em>\\nDon\\'t include a screenshot of this page or any other page in the email; it\\'s just a waste of time.\\n</em>\\n</h3>\\n<br>\\n<hr>\\n<br>\\n<p>\\n<strong>\\nNOTE: If you\\'re thinking of claiming that your ip address is actually 192.168.X.X and not the one listed above:\\n</strong>\\n</p>\\n<p>\\n<em>\\n192.168.X.X is a private ip address for your local network and it\\'s irrelevant to the outside world.\\n</em>\\n</p>\\n'"
      ]
     },
     "execution_count": 11,
     "metadata": {},
     "output_type": "execute_result"
    }
   ],
   "source": [
    "response.content"
   ]
  },
  {
   "cell_type": "markdown",
   "metadata": {
    "collapsed": true
   },
   "source": [
    "**Запускаем ТОР-браузер! Да, да! Прямо берём и открываем окошечко с ним.** Запускаем код ниже."
   ]
  },
  {
   "cell_type": "code",
   "execution_count": 12,
   "metadata": {
    "collapsed": true
   },
   "outputs": [],
   "source": [
    "# Анонимизация \n",
    "# В консоли: pip install PySocks\n",
    "import socks\n",
    "import socket\n",
    "socks.set_default_proxy(socks.SOCKS5, \"localhost\", 9150)\n",
    "socket.socket = socks.socksocket\n",
    "# ТОР по умолчанию идет через сокет 9150"
   ]
  },
  {
   "cell_type": "markdown",
   "metadata": {},
   "source": [
    "Посмотрим в какой мы стране."
   ]
  },
  {
   "cell_type": "code",
   "execution_count": 13,
   "metadata": {
    "collapsed": false
   },
   "outputs": [
    {
     "name": "stdout",
     "output_type": "stream",
     "text": [
      "b'87.118.92.43\\n'\n"
     ]
    }
   ],
   "source": [
    "from urllib.request import urlopen\n",
    "print(urlopen('http://icanhazip.com').read())"
   ]
  },
  {
   "cell_type": "markdown",
   "metadata": {},
   "source": [
    "[Выясним откуда мы сидим в интернете!](http://ru.smart-ip.net/geoip) Ого... Германия.\n",
    "\n",
    "<img align=\"center\" src=\"https://raw.githubusercontent.com/FUlyankin/Parsers/master/images%20/ip_adress.png\" height=\"650\" width=\"650\"> \n",
    "\n"
   ]
  },
  {
   "cell_type": "code",
   "execution_count": 14,
   "metadata": {
    "collapsed": false
   },
   "outputs": [
    {
     "data": {
      "text/plain": [
       "<Response [200]>"
      ]
     },
     "execution_count": 14,
     "metadata": {},
     "output_type": "execute_result"
    }
   ],
   "source": [
    "response = requests.get(page,headers = {'User-Agent':generate_user_agent()})\n",
    "response"
   ]
  },
  {
   "cell_type": "code",
   "execution_count": 14,
   "metadata": {
    "collapsed": false
   },
   "outputs": [
    {
     "data": {
      "text/plain": [
       "b'<h1>\\nYour ip address\\n<span style=\\'color: red;\\'>\\n85.248.227.164\\n</span>\\nhas been banned.\\n</h1>\\n<p>\\nIf you think this is a mistake then please contact\\n<a href=\"mailto:bans@knowyourmeme.com?subject=85.248.227.164 banned\">bans@knowyourmeme.com</a>\\nimmediately and\\n<strong>\\n<em>\\nmake sure to include your ip address.\\n</em>\\n</strong>\\n</p>\\n<h3 style=\\'color: red; font-weight: bold;\\'>\\nThis should be obvious but if you don\\'t include your ip address then there\\'s no way to unban you.\\n</h3>\\n<h3>\\n<em>\\nDon\\'t include a screenshot of this page or any other page in the email; it\\'s just a waste of time.\\n</em>\\n</h3>\\n<br>\\n<hr>\\n<br>\\n<p>\\n<strong>\\nNOTE: If you\\'re thinking of claiming that your ip address is actually 192.168.X.X and not the one listed above:\\n</strong>\\n</p>\\n<p>\\n<em>\\n192.168.X.X is a private ip address for your local network and it\\'s irrelevant to the outside world.\\n</em>\\n</p>\\n'"
      ]
     },
     "execution_count": 14,
     "metadata": {},
     "output_type": "execute_result"
    }
   ],
   "source": [
    "response.content"
   ]
  },
  {
   "cell_type": "markdown",
   "metadata": {
    "collapsed": true
   },
   "source": [
    "Бан успешно снят! Респонс снова полон контента. Wow! "
   ]
  },
  {
   "cell_type": "markdown",
   "metadata": {
    "collapsed": true
   },
   "source": [
    "## Мораль\n",
    "\n",
    "Попробуйте накачивать свой парсер примочками постепенно. \n",
    "\n",
    "1. Нужно быть терпеливым, time.sleep(n). Выясните ограничения. Обращайтесь к серверу пореже и, возможно, он вас не забанит.\n",
    "\n",
    "2. Попытайтесь быть похожим на человка. Добавьте дополнительных полей в свои запросы. \n",
    "\n",
    "3. Если это всё не помогает, используйте ТОР. \n",
    "\n",
    "Каждая новая примочка замедляет работу кода. \n",
    "\n",
    "Так уж вышло, что пара по обходу блокировок пришлась на тот момент, когда правительство Украины заблокировало у себя в стране довольно большое количество Российских сервисов от вконтакте до яндекса. Топ Украинского Appstore выглядит сейчас вот так: \n",
    "\n",
    "\n",
    "<img align=\"center\" src=\"https://raw.githubusercontent.com/FUlyankin/Parsers/master/images%20/ukraina.jpg\n",
    "\" height=\"300\" width=\"300\">\n",
    "\n",
    "-----------------\n",
    "\n",
    "Ещё всем рекомендую посмотреть сериал [\"Чёрное Зеркало\"](https://www.kinopoisk.ru/film/655800/) о том как технологии до неузнаваемости меняют наш мир. Каждая серия в нём это новая история. Они никак не связаны. Некоторые производят очень сильное впечатление... \n"
   ]
  }
 ],
 "metadata": {
  "kernelspec": {
   "display_name": "Python 3",
   "language": "python",
   "name": "python3"
  },
  "language_info": {
   "codemirror_mode": {
    "name": "ipython",
    "version": 3
   },
   "file_extension": ".py",
   "mimetype": "text/x-python",
   "name": "python",
   "nbconvert_exporter": "python",
   "pygments_lexer": "ipython3",
   "version": "3.5.2"
  }
 },
 "nbformat": 4,
 "nbformat_minor": 1
}
