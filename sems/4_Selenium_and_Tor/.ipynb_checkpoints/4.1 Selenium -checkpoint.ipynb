{
 "cells": [
  {
   "cell_type": "markdown",
   "metadata": {},
   "source": [
    "# <center> Грабёж, разбой и другие незаконные деяния с помощью Python. <br> <br> Selenium: дистанционное управление для браузера   </center>\n",
    "\n",
    "<img align=\"center\" src=\"https://raw.githubusercontent.com/FUlyankin/Parsers/master/images%20/bander.jpg\" height=\"400\" width=\"400\"> \n",
    "\n",
    "\n",
    "---------\n",
    "\n",
    "В этой части нашего небольшого курса мы начнём заниматься очеловечиванием роботов, которых мы пишем. Первый способ придать нашему сборщику информации шарма - это заставить его открывать браузер и ходить по ссылкам. \n",
    "\n",
    "Поможет нам в этом пакет, который называется *Selenium*. Немного терминов и описаний.\n",
    "\n",
    "**Selenium** – это инструмент для автоматизированного управления браузерами. Наиболее популярной областью применения Selenium является автоматизация тестирования веб-приложений. Однако при помощи Selenium можно (и даже нужно!) автоматизировать любые другие рутинные действия, выполняемые через браузер. \n",
    "\n",
    "Мы, в свою очередь, будем использовать этот пакет для своих шкурных интересов: сбора данных. \n",
    "\n",
    "Первый квест, который нам предстоит пройти – это устанвока пакета. Во-первых, открываем уже любимую нами консоль и пишем в ней `pip3 install selenium`. Подробнее про пакет можно почитать в лучшем друге человека, [документации](http://selenium-python.readthedocs.io/installation.html). \n",
    "\n",
    "Пакет установлен, однако этого мало. Кроме самого по себе пакета нужен ещё и драйвер, который обеспечит взаимосвязь с браузером... Для связки с firefox используется [gekodriver](https://github.com/mozilla/geckodriver/releases). Для связки с google chrome используется \n",
    "[chromedriver](https://sites.google.com/a/chromium.org/chromedriver/downloads). Про другие браузеры можно узнать в [документации](http://selenium-python.readthedocs.io/installation.html). \n",
    "\n",
    "Просто скачать драйвер недостаточно. Обязательно нужно позаботиться о том, чтобы система его увидела. В Linux достаточно просто перетащить его в папку bin. На Mac, скорее всего, нужно предпринять что-то аналогичное. На Windows придётся зайти в панель управления и дописать в PATH ещё один источник. Для этого найдите в панели управления подраздел \"Система\" раздела \"Система и безопасность\", жмакните на кнопку \"Дополнительные параметры системы\", там найдите \"Переменные среды\", а уже в них впишите в окошечко PATH через точку запятую путь к драйверу. \n",
    "\n",
    "<img align=\"center\" src=\"https://raw.githubusercontent.com/FUlyankin/Parsers/master/images%20/path.jpg\" height=\"800\" width=\"800\"> \n",
    "\n",
    "Можно ли проще? Наверное, да. Если выясните как, непременно расскажите мне, потому что я нахожусь в том нежном возрасте, когда я уже забыл как пользоваться Windiws, а Linux пользоваться пока ещё не научился...\n",
    "\n",
    "\n",
    "## 1. Пробуем прочувствовать Selenium на своей  (на самом деле не совсем своей) шкуре...\n",
    "\n",
    "Итак, попробуем запустить робо-браузер! "
   ]
  },
  {
   "cell_type": "code",
   "execution_count": 1,
   "metadata": {
    "collapsed": true
   },
   "outputs": [],
   "source": [
    "from selenium import webdriver"
   ]
  },
  {
   "cell_type": "code",
   "execution_count": 30,
   "metadata": {
    "collapsed": false
   },
   "outputs": [],
   "source": [
    "driver = webdriver.Chrome()\n",
    "# Если вы хотите сделать это через firefox\n",
    "# driver = webdriver.Firefox()"
   ]
  },
  {
   "cell_type": "markdown",
   "metadata": {
    "collapsed": true
   },
   "source": [
    "После запуска строчки выше у вас в отдельном окне открылось окно с браузером. Оно загрузилось и молча ожидает дальнейших указаний. Ну что ж! Давайте поуказываем ему что делать. \n",
    "\n",
    "<img align=\"center\" src=\"https://raw.githubusercontent.com/FUlyankin/Parsers/master/images%20/boston_robot.jpg\" height=\"600\" width=\"600\"> \n",
    "\n",
    "Перейдём на стартовую страницу гугла и что-нибудь загуглим..."
   ]
  },
  {
   "cell_type": "code",
   "execution_count": 31,
   "metadata": {
    "collapsed": true
   },
   "outputs": [],
   "source": [
    "ref = 'http://google.com'\n",
    "driver.get(ref)"
   ]
  },
  {
   "cell_type": "markdown",
   "metadata": {
    "collapsed": true
   },
   "source": [
    "Найдём на странице через inspect блок, который отвечает за поисковую строку. Мы уже делали подобные вещи, когда парсили ЦИАН. \n",
    "\n",
    "<img align=\"center\" src=\"https://raw.githubusercontent.com/FUlyankin/Parsers/master/images%20/google_stroka_inspect.png\" height=\"700\" width=\"700\"> \n",
    "\n",
    "Видим, что у строки есть имя. И имя это \"q\". Судя по всему Гуглу нравится Джеймс Бонд (фьють, ха!)\n",
    "\n",
    "Найдём поисковую строку по этому имени. Точно также можно было бы найти её по любому другому параметру. Например, по классу или id. \n"
   ]
  },
  {
   "cell_type": "code",
   "execution_count": 32,
   "metadata": {
    "collapsed": false
   },
   "outputs": [],
   "source": [
    "stroka = driver.find_element_by_name(\"q\")"
   ]
  },
  {
   "cell_type": "markdown",
   "metadata": {
    "collapsed": true
   },
   "source": [
    "Теперь в переменной `stroka` лежит найденная нами по тэгам поисковая строка. Отметим, что поиск поисковой строки (каламбур) можно осуществить и по другим её HTML-характеристикам. Например, по классу или id. Давайте кликнем на неё. "
   ]
  },
  {
   "cell_type": "code",
   "execution_count": 33,
   "metadata": {
    "collapsed": true
   },
   "outputs": [],
   "source": [
    "stroka.click()"
   ]
  },
  {
   "cell_type": "markdown",
   "metadata": {
    "collapsed": true
   },
   "source": [
    "В открытом окне в строке для ввода замигал курсор. Абсолютно то же самое произошло бы если бы мы кликнули на него по-настоящему! Загуглим что-нибудь."
   ]
  },
  {
   "cell_type": "code",
   "execution_count": 34,
   "metadata": {
    "collapsed": false
   },
   "outputs": [],
   "source": [
    "stroka.send_keys('Как правильно гуглить?')"
   ]
  },
  {
   "cell_type": "markdown",
   "metadata": {},
   "source": [
    "Мы загуглили что-то не совсем то... Давайте сотрём то, что уже написали и загуглим что-нибудь новое."
   ]
  },
  {
   "cell_type": "code",
   "execution_count": 35,
   "metadata": {
    "collapsed": true
   },
   "outputs": [],
   "source": [
    "stroka.clear()\n",
    "\n",
    "stroka.send_keys('Вконтакте')"
   ]
  },
  {
   "cell_type": "markdown",
   "metadata": {
    "collapsed": true
   },
   "source": [
    "Дело осталось совсем за малым. Найдём кнопку для гугления и нажмём её!"
   ]
  },
  {
   "cell_type": "code",
   "execution_count": 36,
   "metadata": {
    "collapsed": true
   },
   "outputs": [],
   "source": [
    "button = driver.find_element_by_name('btnG')\n",
    "button.click()"
   ]
  },
  {
   "cell_type": "markdown",
   "metadata": {},
   "source": [
    "Попробуем вытащить всю информацию с текущей страницы уже знакомыми нам методами. Красивый суп, я выбираю тебя! "
   ]
  },
  {
   "cell_type": "code",
   "execution_count": 39,
   "metadata": {
    "collapsed": false
   },
   "outputs": [
    {
     "name": "stderr",
     "output_type": "stream",
     "text": [
      "/usr/lib/python3/dist-packages/bs4/__init__.py:166: UserWarning: No parser was explicitly specified, so I'm using the best available HTML parser for this system (\"lxml\"). This usually isn't a problem, but if you run this code on another system, or in a different virtual environment, it may use a different parser and behave differently.\n",
      "\n",
      "To get rid of this warning, change this:\n",
      "\n",
      " BeautifulSoup([your markup])\n",
      "\n",
      "to this:\n",
      "\n",
      " BeautifulSoup([your markup], \"lxml\")\n",
      "\n",
      "  markup_type=markup_type))\n"
     ]
    }
   ],
   "source": [
    "from bs4 import BeautifulSoup\n",
    "bs = BeautifulSoup(driver.page_source)"
   ]
  },
  {
   "cell_type": "markdown",
   "metadata": {},
   "source": [
    "Вся информация оказалася в наших цепких руках, внутри переменной bs. Вытащим ссылки всех страниц, которые мы нашли в процессе гуглинга..."
   ]
  },
  {
   "cell_type": "code",
   "execution_count": 49,
   "metadata": {
    "collapsed": false
   },
   "outputs": [
    {
     "data": {
      "text/plain": [
       "['https://vk.com/',\n",
       " 'https://vk.com/login',\n",
       " 'https://vk.com/durov',\n",
       " 'https://vk.com/page-777107_28406709',\n",
       " 'https://vk.com/ria',\n",
       " 'https://ru.wikipedia.org/wiki/%D0%92%D0%9A%D0%BE%D0%BD%D1%82%D0%B0%D0%BA%D1%82%D0%B5',\n",
       " 'http://www.mk.ru/social/2017/05/17/vkontakte-i-odnoklassniki-razoslali-ukrainskim-polzovatelyam-instrukcii-po-blokirovke.html',\n",
       " 'https://lenta.ru/news/2017/05/17/vkua_record/',\n",
       " 'http://tass.ru/mezhdunarodnaya-panorama/4254425',\n",
       " 'http://www.rbc.ru/business/16/05/2017/591af3b69a79477a59306f36',\n",
       " 'https://meduza.io/shapito/2017/05/16/poroshenko-prikazal-zablokirovat-vkontakte-na-ukraine-i-chut-ne-zabyl-ubrat-knopki-sotsseti-so-svoego-sayta']"
      ]
     },
     "execution_count": 49,
     "metadata": {},
     "output_type": "execute_result"
    }
   ],
   "source": [
    "dirty_hrefs = bs.find_all('h3',attrs={'class':'r'})\n",
    "clean_hrefs = [href.a['href'] for href in dirty_hrefs]\n",
    "clean_hrefs"
   ]
  },
  {
   "cell_type": "markdown",
   "metadata": {},
   "source": [
    "Перейдём по ссылке на залогинивание вконтакте! Зачем? Я пока ещё не знаю..."
   ]
  },
  {
   "cell_type": "code",
   "execution_count": 75,
   "metadata": {
    "collapsed": true
   },
   "outputs": [],
   "source": [
    "driver.get(clean_hrefs[1])"
   ]
  },
  {
   "cell_type": "markdown",
   "metadata": {},
   "source": [
    "Попробуем залогиниться. Для этого нам конечно же понадобятся логин и пароль. Введём их с клавиатуры... Способ вводить логин и пароль ниже называется стандартным вводом. Если вы собираетесь связать свою жизнь с питоном, рано или поздно вам придётся его освоить..."
   ]
  },
  {
   "cell_type": "code",
   "execution_count": 52,
   "metadata": {
    "collapsed": false
   },
   "outputs": [
    {
     "name": "stdout",
     "output_type": "stream",
     "text": [
      "filfonul@gmail.com\n",
      "ecI561a23yefc\n"
     ]
    }
   ],
   "source": [
    "login = input()\n",
    "password = input()"
   ]
  },
  {
   "cell_type": "markdown",
   "metadata": {},
   "source": [
    "Найдём на странице поля, которые отвечают за ввод мыла и пароля и отправим в них мыло и пароль..."
   ]
  },
  {
   "cell_type": "code",
   "execution_count": 84,
   "metadata": {
    "collapsed": false
   },
   "outputs": [],
   "source": [
    "login_pole = driver.find_element_by_id('email')   # Находим поле для логина\n",
    "login_pole.click()                                # Кликаем на это поле\n",
    "login_pole.send_keys(login)                       # Заполняем его нашим мылом\n",
    "\n",
    "passw_pole = driver.find_element_by_id('pass')    # Находим поле для пароля\n",
    "passw_pole.click()                                # Кликаем на это поле\n",
    "passw_pole.send_keys(password)                    # Заполняем его нашим паролем\n",
    "\n",
    "bezopasno = driver.find_element_by_id('expire')   # Находим поле для галочки \"не запоминать\n",
    "bezopasno.click()                                 # Ставим эту галочку\n",
    "\n",
    "login_buttom = driver.find_element_by_id('login_button') # находим кнопку для залогинивания\n",
    "login_buttom.click()                              # Логинимся! "
   ]
  },
  {
   "cell_type": "markdown",
   "metadata": {},
   "source": [
    "Посмотрим чисто ради интереса на какой странице мы сейчас находимся..."
   ]
  },
  {
   "cell_type": "code",
   "execution_count": 86,
   "metadata": {
    "collapsed": false
   },
   "outputs": [
    {
     "data": {
      "text/plain": [
       "'https://vk.com/ppilif'"
      ]
     },
     "execution_count": 86,
     "metadata": {},
     "output_type": "execute_result"
    }
   ],
   "source": [
    "driver.current_url"
   ]
  },
  {
   "cell_type": "markdown",
   "metadata": {},
   "source": [
    "Да, это действительна она... Моя страница вконтакте. Круто...  А давайте напишем кому-нибудь сообщение с помощью нашего робота. Переходим во вкладку с друзьями."
   ]
  },
  {
   "cell_type": "code",
   "execution_count": 88,
   "metadata": {
    "collapsed": false
   },
   "outputs": [],
   "source": [
    "friends_buttom = driver.find_element_by_id('l_fr')\n",
    "friends_buttom.click()"
   ]
  },
  {
   "cell_type": "markdown",
   "metadata": {},
   "source": [
    "Находим какого-нибудь друга..."
   ]
  },
  {
   "cell_type": "code",
   "execution_count": 94,
   "metadata": {
    "collapsed": false
   },
   "outputs": [],
   "source": [
    "search_block = driver.find_element_by_id(\"s_search\")\n",
    "search_block.click()\n",
    "search_block.send_keys('Кому будем писать?')"
   ]
  },
  {
   "cell_type": "markdown",
   "metadata": {},
   "source": [
    "Жмакнем на написать сообщение."
   ]
  },
  {
   "cell_type": "code",
   "execution_count": 103,
   "metadata": {
    "collapsed": false
   },
   "outputs": [],
   "source": [
    "write_mess = driver.find_element_by_class_name('friends_field_act')\n",
    "write_mess.click()"
   ]
  },
  {
   "cell_type": "markdown",
   "metadata": {},
   "source": [
    "Отправляем в блок для записи сообщений текст."
   ]
  },
  {
   "cell_type": "code",
   "execution_count": 105,
   "metadata": {
    "collapsed": false
   },
   "outputs": [],
   "source": [
    "mess_block = driver.find_element_by_id(\"mail_box_editable\")\n",
    "mess_block.send_keys('Текст сообщения')"
   ]
  },
  {
   "cell_type": "markdown",
   "metadata": {},
   "source": [
    "Отправляем сообщение..."
   ]
  },
  {
   "cell_type": "code",
   "execution_count": 109,
   "metadata": {
    "collapsed": false
   },
   "outputs": [],
   "source": [
    "send_mess = driver.find_element_by_id('mail_box_send')\n",
    "send_mess.click()"
   ]
  },
  {
   "cell_type": "markdown",
   "metadata": {},
   "source": [
    "Ну и так уж и быть... Напишем небольшой скрипт, который будет атаковать выбранного нами человека спамом, пока не появится капча (ну или пока мы не отправим 30 сообщений). Все элементы, которые были упомянуты выше достаточно найти один раз и запомнить как готовые переменные.  Активируем спамер... \n",
    "\n",
    "Если мы непрерывно напишем все три строчки, то страничка браузера не будет успевать подгружаться. Будем после каждого, сделанного нами действия выжидать какое-то время для полной прогрузки странички.\n",
    "\n",
    "**Ещё раз, ещё раз! При работе с Selenium нужно учитывать то, что Python не будет ждать загрузки страницы в браузере, прежде, чем выполнять следующие команды, поэтому, если вы пытаетесь выполнить несколько команд подряд, вы рискуете нарваться на ошибки. Чтобы решить эту проблему, делайте в Python искусственные паузы.**"
   ]
  },
  {
   "cell_type": "code",
   "execution_count": 115,
   "metadata": {
    "collapsed": false
   },
   "outputs": [],
   "source": [
    "import time\n",
    "\n",
    "for i in range(30):\n",
    "    write_mess = driver.find_element_by_class_name('friends_field_act')\n",
    "    write_mess.click()\n",
    "\n",
    "    time.sleep(2)\n",
    "\n",
    "    mess_block = driver.find_element_by_id(\"mail_box_editable\")\n",
    "    mess_block.send_keys('Текст сообщения')\n",
    "\n",
    "    time.sleep(2)\n",
    "\n",
    "    send_mess = driver.find_element_by_id('mail_box_send')\n",
    "    send_mess.click()\n",
    "\n",
    "    time.sleep(2)"
   ]
  },
  {
   "cell_type": "markdown",
   "metadata": {},
   "source": [
    "С чувством выполненного долга закроем селениум и отправимся немного порассуждать обо всём, что только что произошло..."
   ]
  },
  {
   "cell_type": "code",
   "execution_count": 116,
   "metadata": {
    "collapsed": true
   },
   "outputs": [],
   "source": [
    "driver.close()"
   ]
  },
  {
   "cell_type": "markdown",
   "metadata": {},
   "source": [
    "Итак, мы написали небольшого робота - спамера, который сам открывает браузер, залогинивается вконтакте, находит конкретного человека и начинает атаковать его сообщениями. Можно доработать этого робота и заставить его отсылать самые различные сообщения различным людям.\n",
    "\n",
    "Через какое-то количество сообщений мы упремся в капчу – первый и самый простой рубеж защиты от автоспама. \n",
    "\n",
    "<img align=\"center\" src=\"http://vachevskiy.ru/wp-content/uploads/2013/10/chto-takoe-captcha.jpg\" height=\"300\" width=\"300\">\n",
    "\n",
    "Можно обучить нового робота, который будет разгадывать такие капчи. Машинное обучение позволяет сделать это довольно быстро и просто на том же самом питоне... Такой разгадыватель капчей может продолжить спамить.\n",
    "\n",
    "Однако администрация вконтакте очень быстро забанит такого робота за подозрительную активность. В ответ на такое хамство с их стороны мы можем написать робота, который будет создавать новые аккаунты, заполнять их каким-нибудь контентом и продолжать спамить...\n",
    "\n",
    "Война может быть долгой, а роботы могут быть всё более и более умными. В конечном счёте нас могут забанить по IP (не знаю практикует ли Вконтакте такие блокировки). Мы в свою очередь запустим своего робота через ТОР и продолжим тероризировать вконтакте, создавая всё новые и новые аккаунты. Такой робот будет работать довольно медленно, но будет. Главная его фишка в том, что для его деятельности не нужны никакие API и ключи доступа и это очень круто.\n",
    "\n",
    "Тем не менее, я уверен, что в рукаве у админов вк припасена пара антиспамовых фишечек, которая нас шокирует и заставит как следует подумать над улучшениями нашего робота. \n",
    "\n",
    "Делать это всё мы конечно не будем... Потому что игра не стоит свеч. Это не принесёт нам никаких данных, а мы хотим данных! Займёмся чем-нибудь более приземлённым и близким тематике наших занятий. \n",
    "\n",
    "P.S. Вы делаете пост в общей группе с призывом пойти на тусу, а никто не приходит? После ты слышишь оправдание: \"Ну меня лично никто не звал...\" И им пофиг, что пост в группе был для всех! Самое время создать вконтакте аккаунт с именем \"Иканамовский тусер\" и начать через селениум от его имени всем в личку слать приглашения! :)\n",
    "\n",
    "\n",
    "## 2. Google trends. Сбор статистики о поисковых запросах.\n",
    "\n",
    "Нам, как мирным собирателям данных (а не как злостным спамерам) Selenium нужен для выхода из ситуаций, когда надо часто жать кнопку download...\n",
    "\n",
    "\n",
    "<img align=\"center\" src=\"https://raw.githubusercontent.com/FUlyankin/Parsers/master/images%20/2.png\" height=\"500\" width=\"500\">\n",
    "\n",
    "Переодически нужда нажимать эту кнопку возникает из-за всяких дурацких ограничений. Не так давно мне было нужно ограбить Google. Мне понадобилась статистика о поисковых запросах для довольно большого числа слов. Google это компания, которая хорошо заботится о своих данныхи и отдаёт их в руки только самых достойных пиратов (либо своих сотрудников). \n",
    "\n",
    "<img align=\"center\" src=\"https://raw.githubusercontent.com/FUlyankin/Parsers/master/images%20/google_trends.png\" height=\"700\" width=\"700\">\n",
    "\n",
    "Для работы с Google trends я нашёл целый [питоновский пакет.](https://github.com/GeneralMills/pytrends) Для того, чтобы использовать его нужно было авторизоваться в gmail. Добрые разработчики разрешили сделать за сутки 300 запросов и забанили меня. Я попробовал включить автоматическую смену IP и наткнулся на забавный казус. Я в течение минуты зашёл на свою почту из 10 разных точек мира, о чём заботливый гугл сразу же мне сообщил... \n",
    "\n",
    "<img align=\"center\" src=\"https://raw.githubusercontent.com/FUlyankin/Parsers/master/images%20/Helsenki.jpg\" height=\"700\" width=\"700\">\n",
    "\n",
    "Со скачкой динамики поисковых запросов возникли серьёзные проблемы. Из-за гугловских ограничений (не более 5 слов за раз), мне нужно было сделать огромное количество запросов... Из этой ситуации мне помог выйти selenium. Через него я мог делать довольно большое количество запросов в течение дня. \n",
    "\n",
    "Кроме того, я пытался написать парсер через запущенный в selenium ТОР, однако столкнулся с довольно забавной проблемой, с которой мы с вами столкнёмся чуть ниже.\n",
    "\n",
    "Для запуска селениума через тор существует [пакет tbselenium,](https://github.com/webfp/tor-browser-selenium) который работает точно также как selenium, но с тором. Единственная разница в том, что нужно указать путь до тора. \n",
    "\n",
    "Подгружаем пакет."
   ]
  },
  {
   "cell_type": "code",
   "execution_count": 131,
   "metadata": {
    "collapsed": false
   },
   "outputs": [],
   "source": [
    "from tbselenium.tbdriver import TorBrowserDriver"
   ]
  },
  {
   "cell_type": "markdown",
   "metadata": {},
   "source": [
    "Торовский драйвер можно подгрузить следующим образом."
   ]
  },
  {
   "cell_type": "code",
   "execution_count": 155,
   "metadata": {
    "collapsed": true
   },
   "outputs": [],
   "source": [
    "driver = TorBrowserDriver('/home/filipp/Cash/programs/tor-browser_ru/')"
   ]
  },
  {
   "cell_type": "markdown",
   "metadata": {},
   "source": [
    "Следующая функция делает запрос к google-trends и скачивает csv-табличку со статистикой. "
   ]
  },
  {
   "cell_type": "code",
   "execution_count": 150,
   "metadata": {
    "collapsed": false
   },
   "outputs": [],
   "source": [
    "def open_and_save(words,driver):\n",
    "    # Прогружаем страницу\n",
    "    driver.get(\"https://www.google.ru/trends/explore?date=all&geo=RU&q=\"+words)\n",
    "    # Немного ждём, иначе страница не успевает прогрузиться.\n",
    "    time.sleep(5)\n",
    "    # Находим кнопку для открытия менюшки\n",
    "    menu_knopka = reserv_driver.find_element_by_xpath('/html/body/div[2]/div[2]/md-content/div/div/div[1]/trends-widget/ng-include/widget/div/div/div/widget-actions/button')\n",
    "    menu_knopka.click() # Жмак\n",
    "    # Находим в меню кнопку для скачки csv-файла\n",
    "    csv_knopka = driver.find_element_by_xpath('/html/body/div[2]/div[2]/md-content/div/div/div[1]/trends-widget/ng-include/widget/div/div/div/widget-actions/div/button[3]/div')\n",
    "    csv_knopka.click() # Жмак\n",
    "    return()\n"
   ]
  },
  {
   "cell_type": "markdown",
   "metadata": {},
   "source": [
    "Скачиваем табличку через хром."
   ]
  },
  {
   "cell_type": "code",
   "execution_count": null,
   "metadata": {
    "collapsed": true
   },
   "outputs": [],
   "source": [
    "reserv_driver =  webdriver.Chrome()\n",
    "open_and_save('коала,лемур,олег,япония,салат',reserv_driver)\n",
    "reserv_driver.close()"
   ]
  },
  {
   "cell_type": "markdown",
   "metadata": {},
   "source": [
    "Пытаемся скачать табличку через ТОР и встречаемся с неожиданным сюрпризом..."
   ]
  },
  {
   "cell_type": "code",
   "execution_count": null,
   "metadata": {
    "collapsed": true
   },
   "outputs": [],
   "source": [
    "driver = TorBrowserDriver('/home/filipp/Cash/programs/tor-browser_ru/')\n",
    "open_and_save('коала,лемур,олег,япония,салат',driver)\n",
    "driver.close()"
   ]
  },
  {
   "cell_type": "markdown",
   "metadata": {},
   "source": [
    "Несмотря на такой неожиданный казус, селениум запущенный через ТОР иногда выручает. Кстати, если вы знаете как по-человечески спарсить гугл-трендс в обход всех блокировок и быстро, то расскажите мне... Пожалуйста... "
   ]
  },
  {
   "cell_type": "markdown",
   "metadata": {},
   "source": [
    "Напоследок, хочу обратить ваше внимание на то, что в Selenium можно имитировать нажатие на клавиши клавиатуры. Например, на стрелки! "
   ]
  },
  {
   "cell_type": "code",
   "execution_count": null,
   "metadata": {
    "collapsed": true
   },
   "outputs": [],
   "source": [
    "element.send_keys(\"some information\", Keys.ARROW_DOWN)"
   ]
  },
  {
   "cell_type": "markdown",
   "metadata": {},
   "source": [
    "Также в Selenium есть команды назад, вперёд и обновить."
   ]
  },
  {
   "cell_type": "code",
   "execution_count": null,
   "metadata": {
    "collapsed": true
   },
   "outputs": [],
   "source": [
    "driver.back()"
   ]
  },
  {
   "cell_type": "code",
   "execution_count": null,
   "metadata": {
    "collapsed": true
   },
   "outputs": [],
   "source": [
    "driver.forward()"
   ]
  },
  {
   "cell_type": "code",
   "execution_count": null,
   "metadata": {
    "collapsed": true
   },
   "outputs": [],
   "source": [
    "driver.refresh()"
   ]
  },
  {
   "cell_type": "markdown",
   "metadata": {},
   "source": [
    "Более того, в окне браузера можно открывать дополнительные окна, переключаться между ними, управлять всплывающими окнами, перетаскивать что-то куда-то и делать ещё кучу разных вещей. Если вы знаете что бы вы хотели автоматизировать с помощью selenium, на досуге займитесь этим...\n"
   ]
  },
  {
   "cell_type": "markdown",
   "metadata": {
    "collapsed": true
   },
   "source": [
    "\n",
    "## Почиташки: \n",
    "\n",
    "* Хороший [перевод документации по селениуму для Python на хабре](https://habrahabr.ru/post/248559/) из 8 частей. [Пятая](https://habrahabr.ru/post/273089/) и [шестая](https://habrahabr.ru/post/273115/) части точно написаны. Просто ссылок на них нигде нет. Нужно гуглить их отдельно. \n",
    "* [Оригинал документации](http://selenium-python.readthedocs.io/index.html) по selenium на английском языке. \n",
    "* [Документация для пакета с TOP](https://github.com/webfp/tor-browser-selenium) \n"
   ]
  }
 ],
 "metadata": {
  "kernelspec": {
   "display_name": "Python 3",
   "language": "python",
   "name": "python3"
  },
  "language_info": {
   "codemirror_mode": {
    "name": "ipython",
    "version": 3
   },
   "file_extension": ".py",
   "mimetype": "text/x-python",
   "name": "python",
   "nbconvert_exporter": "python",
   "pygments_lexer": "ipython3",
   "version": "3.5.2"
  }
 },
 "nbformat": 4,
 "nbformat_minor": 1
}
