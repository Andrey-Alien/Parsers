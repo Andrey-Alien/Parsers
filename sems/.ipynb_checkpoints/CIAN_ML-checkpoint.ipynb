{
 "cells": [
  {
   "cell_type": "markdown",
   "metadata": {},
   "source": [
    "\n",
    "<img src=\"https://www.python.org/static/community_logos/python-logo-generic.svg\" height=\"500\" width=\"500\"> \n",
    "\n",
    "# <center> Грабёж, разбой и другие незаконные деяния с помощью Python. <br> <br> Завершаем наше первое дело. Шаг четвёртый. Гоняем модели по ЦИАН.   </center>\n",
    "---------\n",
    "\n",
    "## 1. Тренировочная и тестовая выборки"
   ]
  },
  {
   "cell_type": "code",
   "execution_count": 1,
   "metadata": {
    "collapsed": false
   },
   "outputs": [
    {
     "name": "stdout",
     "output_type": "stream",
     "text": [
      "Populating the interactive namespace from numpy and matplotlib\n"
     ]
    }
   ],
   "source": [
    "import numpy as np\n",
    "import pandas as pd\n",
    "import matplotlib.pyplot as plt\n",
    "plt.style.use('ggplot')  # Стиль графиков прямо как в R! \n",
    "# Активация этой опции позволяет видеть все столбцы у датафреймов\n",
    "pd.set_option('display.max_columns', None)\n",
    "# Отображать 100 строк датафрейма\n",
    "pd.set_option('display.max_rows', 100)\n",
    "# Опция для отображения двуз знаков после запятой, а не шести\n",
    "pd.set_option('precision', 2)\n",
    "# Опция для отображения картинок\n",
    "%pylab inline"
   ]
  },
  {
   "cell_type": "code",
   "execution_count": 3,
   "metadata": {
    "collapsed": false
   },
   "outputs": [
    {
     "data": {
      "text/html": [
       "<div>\n",
       "<table border=\"1\" class=\"dataframe\">\n",
       "  <thead>\n",
       "    <tr style=\"text-align: right;\">\n",
       "      <th></th>\n",
       "      <th>Total_floor</th>\n",
       "      <th>Curent_floor</th>\n",
       "      <th>Price</th>\n",
       "      <th>TotalSq</th>\n",
       "      <th>pass_elevator</th>\n",
       "      <th>gruz_elevator</th>\n",
       "      <th>balkon</th>\n",
       "      <th>lodgya</th>\n",
       "      <th>sovmest_sanuz</th>\n",
       "      <th>razdeln_sanuz</th>\n",
       "      <th>Is_second</th>\n",
       "      <th>CentrDist</th>\n",
       "      <th>sell_type_214-FZ</th>\n",
       "      <th>sell_type_GSK_dogovor</th>\n",
       "      <th>sell_type_alternativa</th>\n",
       "      <th>sell_type_free</th>\n",
       "      <th>sell_type_pereustupka</th>\n",
       "      <th>sell_type_predvarit_dogovor</th>\n",
       "      <th>phone_no</th>\n",
       "      <th>phone_yes</th>\n",
       "      <th>parking_mnogour</th>\n",
       "      <th>parking_na_krishe</th>\n",
       "      <th>parking_nazemn</th>\n",
       "      <th>parking_otkritaya</th>\n",
       "      <th>parking_podzemn</th>\n",
       "      <th>age</th>\n",
       "    </tr>\n",
       "  </thead>\n",
       "  <tbody>\n",
       "    <tr>\n",
       "      <th>0</th>\n",
       "      <td>7</td>\n",
       "      <td>9</td>\n",
       "      <td>1.23e+08</td>\n",
       "      <td>194.7</td>\n",
       "      <td>2</td>\n",
       "      <td>2</td>\n",
       "      <td>0</td>\n",
       "      <td>0</td>\n",
       "      <td>3.0</td>\n",
       "      <td>0.0</td>\n",
       "      <td>1</td>\n",
       "      <td>2.22</td>\n",
       "      <td>0</td>\n",
       "      <td>0</td>\n",
       "      <td>0</td>\n",
       "      <td>1</td>\n",
       "      <td>0</td>\n",
       "      <td>0</td>\n",
       "      <td>0</td>\n",
       "      <td>0</td>\n",
       "      <td>0</td>\n",
       "      <td>0</td>\n",
       "      <td>0</td>\n",
       "      <td>0</td>\n",
       "      <td>1</td>\n",
       "      <td>0.0</td>\n",
       "    </tr>\n",
       "    <tr>\n",
       "      <th>1</th>\n",
       "      <td>3</td>\n",
       "      <td>21</td>\n",
       "      <td>5.58e+06</td>\n",
       "      <td>54.0</td>\n",
       "      <td>1</td>\n",
       "      <td>1</td>\n",
       "      <td>1</td>\n",
       "      <td>0</td>\n",
       "      <td>0.0</td>\n",
       "      <td>1.0</td>\n",
       "      <td>0</td>\n",
       "      <td>18.83</td>\n",
       "      <td>0</td>\n",
       "      <td>0</td>\n",
       "      <td>0</td>\n",
       "      <td>1</td>\n",
       "      <td>0</td>\n",
       "      <td>0</td>\n",
       "      <td>0</td>\n",
       "      <td>0</td>\n",
       "      <td>0</td>\n",
       "      <td>0</td>\n",
       "      <td>0</td>\n",
       "      <td>0</td>\n",
       "      <td>0</td>\n",
       "      <td>5.0</td>\n",
       "    </tr>\n",
       "    <tr>\n",
       "      <th>2</th>\n",
       "      <td>5</td>\n",
       "      <td>9</td>\n",
       "      <td>5.20e+06</td>\n",
       "      <td>33.0</td>\n",
       "      <td>1</td>\n",
       "      <td>0</td>\n",
       "      <td>0</td>\n",
       "      <td>1</td>\n",
       "      <td>1.0</td>\n",
       "      <td>0.0</td>\n",
       "      <td>1</td>\n",
       "      <td>13.86</td>\n",
       "      <td>0</td>\n",
       "      <td>0</td>\n",
       "      <td>0</td>\n",
       "      <td>1</td>\n",
       "      <td>0</td>\n",
       "      <td>0</td>\n",
       "      <td>0</td>\n",
       "      <td>1</td>\n",
       "      <td>0</td>\n",
       "      <td>0</td>\n",
       "      <td>1</td>\n",
       "      <td>0</td>\n",
       "      <td>0</td>\n",
       "      <td>0.0</td>\n",
       "    </tr>\n",
       "    <tr>\n",
       "      <th>3</th>\n",
       "      <td>3</td>\n",
       "      <td>3</td>\n",
       "      <td>1.44e+06</td>\n",
       "      <td>29.0</td>\n",
       "      <td>0</td>\n",
       "      <td>0</td>\n",
       "      <td>0</td>\n",
       "      <td>0</td>\n",
       "      <td>1.0</td>\n",
       "      <td>0.0</td>\n",
       "      <td>1</td>\n",
       "      <td>22.44</td>\n",
       "      <td>0</td>\n",
       "      <td>0</td>\n",
       "      <td>0</td>\n",
       "      <td>1</td>\n",
       "      <td>0</td>\n",
       "      <td>0</td>\n",
       "      <td>0</td>\n",
       "      <td>0</td>\n",
       "      <td>0</td>\n",
       "      <td>0</td>\n",
       "      <td>1</td>\n",
       "      <td>0</td>\n",
       "      <td>0</td>\n",
       "      <td>52.0</td>\n",
       "    </tr>\n",
       "    <tr>\n",
       "      <th>4</th>\n",
       "      <td>1</td>\n",
       "      <td>9</td>\n",
       "      <td>1.54e+06</td>\n",
       "      <td>12.0</td>\n",
       "      <td>0</td>\n",
       "      <td>0</td>\n",
       "      <td>0</td>\n",
       "      <td>0</td>\n",
       "      <td>1.0</td>\n",
       "      <td>0.0</td>\n",
       "      <td>1</td>\n",
       "      <td>16.35</td>\n",
       "      <td>0</td>\n",
       "      <td>0</td>\n",
       "      <td>0</td>\n",
       "      <td>1</td>\n",
       "      <td>0</td>\n",
       "      <td>0</td>\n",
       "      <td>0</td>\n",
       "      <td>0</td>\n",
       "      <td>0</td>\n",
       "      <td>0</td>\n",
       "      <td>0</td>\n",
       "      <td>0</td>\n",
       "      <td>0</td>\n",
       "      <td>0.0</td>\n",
       "    </tr>\n",
       "  </tbody>\n",
       "</table>\n",
       "</div>"
      ],
      "text/plain": [
       "   Total_floor  Curent_floor     Price  TotalSq  pass_elevator  gruz_elevator  \\\n",
       "0            7             9  1.23e+08    194.7              2              2   \n",
       "1            3            21  5.58e+06     54.0              1              1   \n",
       "2            5             9  5.20e+06     33.0              1              0   \n",
       "3            3             3  1.44e+06     29.0              0              0   \n",
       "4            1             9  1.54e+06     12.0              0              0   \n",
       "\n",
       "   balkon  lodgya  sovmest_sanuz  razdeln_sanuz  Is_second  CentrDist  \\\n",
       "0       0       0            3.0            0.0          1       2.22   \n",
       "1       1       0            0.0            1.0          0      18.83   \n",
       "2       0       1            1.0            0.0          1      13.86   \n",
       "3       0       0            1.0            0.0          1      22.44   \n",
       "4       0       0            1.0            0.0          1      16.35   \n",
       "\n",
       "   sell_type_214-FZ  sell_type_GSK_dogovor  sell_type_alternativa  \\\n",
       "0                 0                      0                      0   \n",
       "1                 0                      0                      0   \n",
       "2                 0                      0                      0   \n",
       "3                 0                      0                      0   \n",
       "4                 0                      0                      0   \n",
       "\n",
       "   sell_type_free  sell_type_pereustupka  sell_type_predvarit_dogovor  \\\n",
       "0               1                      0                            0   \n",
       "1               1                      0                            0   \n",
       "2               1                      0                            0   \n",
       "3               1                      0                            0   \n",
       "4               1                      0                            0   \n",
       "\n",
       "   phone_no  phone_yes  parking_mnogour  parking_na_krishe  parking_nazemn  \\\n",
       "0         0          0                0                  0               0   \n",
       "1         0          0                0                  0               0   \n",
       "2         0          1                0                  0               1   \n",
       "3         0          0                0                  0               1   \n",
       "4         0          0                0                  0               0   \n",
       "\n",
       "   parking_otkritaya  parking_podzemn   age  \n",
       "0                  0                1   0.0  \n",
       "1                  0                0   5.0  \n",
       "2                  0                0   0.0  \n",
       "3                  0                0  52.0  \n",
       "4                  0                0   0.0  "
      ]
     },
     "execution_count": 3,
     "metadata": {},
     "output_type": "execute_result"
    }
   ],
   "source": [
    "data = pd.read_csv('CIAN_ready.csv', header=0, sep=',' ,index_col=0)\n",
    "data.head()"
   ]
  },
  {
   "cell_type": "markdown",
   "metadata": {},
   "source": [
    "Разбиваем выборку на обучающую и тестовую части. Обратите внимание на то, что мы отбираем наблюдения в тестовую выборку абсолютно случайно."
   ]
  },
  {
   "cell_type": "code",
   "execution_count": 9,
   "metadata": {
    "collapsed": false
   },
   "outputs": [
    {
     "name": "stdout",
     "output_type": "stream",
     "text": [
      "(4457, 26)\n",
      "(1115, 26)\n"
     ]
    }
   ],
   "source": [
    "from sklearn.model_selection import train_test_split\n",
    "\n",
    "train, test = train_test_split(data, test_size = 0.2)\n",
    "\n",
    "print(train.shape)\n",
    "print(test.shape)"
   ]
  },
  {
   "cell_type": "code",
   "execution_count": 10,
   "metadata": {
    "collapsed": false
   },
   "outputs": [
    {
     "data": {
      "text/html": [
       "<div>\n",
       "<table border=\"1\" class=\"dataframe\">\n",
       "  <thead>\n",
       "    <tr style=\"text-align: right;\">\n",
       "      <th></th>\n",
       "      <th>Total_floor</th>\n",
       "      <th>Curent_floor</th>\n",
       "      <th>Price</th>\n",
       "      <th>TotalSq</th>\n",
       "      <th>pass_elevator</th>\n",
       "      <th>gruz_elevator</th>\n",
       "      <th>balkon</th>\n",
       "      <th>lodgya</th>\n",
       "      <th>sovmest_sanuz</th>\n",
       "      <th>razdeln_sanuz</th>\n",
       "      <th>Is_second</th>\n",
       "      <th>CentrDist</th>\n",
       "      <th>sell_type_214-FZ</th>\n",
       "      <th>sell_type_GSK_dogovor</th>\n",
       "      <th>sell_type_alternativa</th>\n",
       "      <th>sell_type_free</th>\n",
       "      <th>sell_type_pereustupka</th>\n",
       "      <th>sell_type_predvarit_dogovor</th>\n",
       "      <th>phone_no</th>\n",
       "      <th>phone_yes</th>\n",
       "      <th>parking_mnogour</th>\n",
       "      <th>parking_na_krishe</th>\n",
       "      <th>parking_nazemn</th>\n",
       "      <th>parking_otkritaya</th>\n",
       "      <th>parking_podzemn</th>\n",
       "      <th>age</th>\n",
       "    </tr>\n",
       "  </thead>\n",
       "  <tbody>\n",
       "    <tr>\n",
       "      <th>3740</th>\n",
       "      <td>1</td>\n",
       "      <td>14</td>\n",
       "      <td>1.90e+06</td>\n",
       "      <td>15.0</td>\n",
       "      <td>1</td>\n",
       "      <td>1</td>\n",
       "      <td>0</td>\n",
       "      <td>0</td>\n",
       "      <td>1.0</td>\n",
       "      <td>0.0</td>\n",
       "      <td>1</td>\n",
       "      <td>18.46</td>\n",
       "      <td>0</td>\n",
       "      <td>0</td>\n",
       "      <td>0</td>\n",
       "      <td>1</td>\n",
       "      <td>0</td>\n",
       "      <td>0</td>\n",
       "      <td>0</td>\n",
       "      <td>0</td>\n",
       "      <td>0</td>\n",
       "      <td>0</td>\n",
       "      <td>1</td>\n",
       "      <td>0</td>\n",
       "      <td>0</td>\n",
       "      <td>15.0</td>\n",
       "    </tr>\n",
       "    <tr>\n",
       "      <th>310</th>\n",
       "      <td>2</td>\n",
       "      <td>5</td>\n",
       "      <td>6.00e+06</td>\n",
       "      <td>44.0</td>\n",
       "      <td>0</td>\n",
       "      <td>0</td>\n",
       "      <td>1</td>\n",
       "      <td>0</td>\n",
       "      <td>1.0</td>\n",
       "      <td>0.0</td>\n",
       "      <td>1</td>\n",
       "      <td>8.26</td>\n",
       "      <td>0</td>\n",
       "      <td>0</td>\n",
       "      <td>0</td>\n",
       "      <td>1</td>\n",
       "      <td>0</td>\n",
       "      <td>0</td>\n",
       "      <td>1</td>\n",
       "      <td>0</td>\n",
       "      <td>0</td>\n",
       "      <td>0</td>\n",
       "      <td>0</td>\n",
       "      <td>0</td>\n",
       "      <td>0</td>\n",
       "      <td>0.0</td>\n",
       "    </tr>\n",
       "    <tr>\n",
       "      <th>1013</th>\n",
       "      <td>2</td>\n",
       "      <td>21</td>\n",
       "      <td>1.59e+06</td>\n",
       "      <td>13.0</td>\n",
       "      <td>1</td>\n",
       "      <td>1</td>\n",
       "      <td>0</td>\n",
       "      <td>0</td>\n",
       "      <td>1.0</td>\n",
       "      <td>0.0</td>\n",
       "      <td>1</td>\n",
       "      <td>29.10</td>\n",
       "      <td>0</td>\n",
       "      <td>0</td>\n",
       "      <td>0</td>\n",
       "      <td>1</td>\n",
       "      <td>0</td>\n",
       "      <td>0</td>\n",
       "      <td>0</td>\n",
       "      <td>0</td>\n",
       "      <td>0</td>\n",
       "      <td>0</td>\n",
       "      <td>1</td>\n",
       "      <td>0</td>\n",
       "      <td>0</td>\n",
       "      <td>45.0</td>\n",
       "    </tr>\n",
       "    <tr>\n",
       "      <th>3997</th>\n",
       "      <td>2</td>\n",
       "      <td>3</td>\n",
       "      <td>1.99e+06</td>\n",
       "      <td>27.0</td>\n",
       "      <td>0</td>\n",
       "      <td>0</td>\n",
       "      <td>0</td>\n",
       "      <td>0</td>\n",
       "      <td>1.0</td>\n",
       "      <td>0.0</td>\n",
       "      <td>1</td>\n",
       "      <td>22.44</td>\n",
       "      <td>0</td>\n",
       "      <td>0</td>\n",
       "      <td>0</td>\n",
       "      <td>1</td>\n",
       "      <td>0</td>\n",
       "      <td>0</td>\n",
       "      <td>0</td>\n",
       "      <td>0</td>\n",
       "      <td>0</td>\n",
       "      <td>0</td>\n",
       "      <td>1</td>\n",
       "      <td>0</td>\n",
       "      <td>0</td>\n",
       "      <td>0.0</td>\n",
       "    </tr>\n",
       "    <tr>\n",
       "      <th>5148</th>\n",
       "      <td>3</td>\n",
       "      <td>3</td>\n",
       "      <td>1.99e+06</td>\n",
       "      <td>32.0</td>\n",
       "      <td>0</td>\n",
       "      <td>0</td>\n",
       "      <td>0</td>\n",
       "      <td>0</td>\n",
       "      <td>1.0</td>\n",
       "      <td>0.0</td>\n",
       "      <td>1</td>\n",
       "      <td>27.04</td>\n",
       "      <td>0</td>\n",
       "      <td>0</td>\n",
       "      <td>0</td>\n",
       "      <td>1</td>\n",
       "      <td>0</td>\n",
       "      <td>0</td>\n",
       "      <td>0</td>\n",
       "      <td>0</td>\n",
       "      <td>0</td>\n",
       "      <td>0</td>\n",
       "      <td>1</td>\n",
       "      <td>0</td>\n",
       "      <td>0</td>\n",
       "      <td>0.0</td>\n",
       "    </tr>\n",
       "  </tbody>\n",
       "</table>\n",
       "</div>"
      ],
      "text/plain": [
       "      Total_floor  Curent_floor     Price  TotalSq  pass_elevator  \\\n",
       "3740            1            14  1.90e+06     15.0              1   \n",
       "310             2             5  6.00e+06     44.0              0   \n",
       "1013            2            21  1.59e+06     13.0              1   \n",
       "3997            2             3  1.99e+06     27.0              0   \n",
       "5148            3             3  1.99e+06     32.0              0   \n",
       "\n",
       "      gruz_elevator  balkon  lodgya  sovmest_sanuz  razdeln_sanuz  Is_second  \\\n",
       "3740              1       0       0            1.0            0.0          1   \n",
       "310               0       1       0            1.0            0.0          1   \n",
       "1013              1       0       0            1.0            0.0          1   \n",
       "3997              0       0       0            1.0            0.0          1   \n",
       "5148              0       0       0            1.0            0.0          1   \n",
       "\n",
       "      CentrDist  sell_type_214-FZ  sell_type_GSK_dogovor  \\\n",
       "3740      18.46                 0                      0   \n",
       "310        8.26                 0                      0   \n",
       "1013      29.10                 0                      0   \n",
       "3997      22.44                 0                      0   \n",
       "5148      27.04                 0                      0   \n",
       "\n",
       "      sell_type_alternativa  sell_type_free  sell_type_pereustupka  \\\n",
       "3740                      0               1                      0   \n",
       "310                       0               1                      0   \n",
       "1013                      0               1                      0   \n",
       "3997                      0               1                      0   \n",
       "5148                      0               1                      0   \n",
       "\n",
       "      sell_type_predvarit_dogovor  phone_no  phone_yes  parking_mnogour  \\\n",
       "3740                            0         0          0                0   \n",
       "310                             0         1          0                0   \n",
       "1013                            0         0          0                0   \n",
       "3997                            0         0          0                0   \n",
       "5148                            0         0          0                0   \n",
       "\n",
       "      parking_na_krishe  parking_nazemn  parking_otkritaya  parking_podzemn  \\\n",
       "3740                  0               1                  0                0   \n",
       "310                   0               0                  0                0   \n",
       "1013                  0               1                  0                0   \n",
       "3997                  0               1                  0                0   \n",
       "5148                  0               1                  0                0   \n",
       "\n",
       "       age  \n",
       "3740  15.0  \n",
       "310    0.0  \n",
       "1013  45.0  \n",
       "3997   0.0  \n",
       "5148   0.0  "
      ]
     },
     "execution_count": 10,
     "metadata": {},
     "output_type": "execute_result"
    }
   ],
   "source": [
    "train.head( )"
   ]
  },
  {
   "cell_type": "code",
   "execution_count": 11,
   "metadata": {
    "collapsed": false
   },
   "outputs": [
    {
     "data": {
      "text/html": [
       "<div>\n",
       "<table border=\"1\" class=\"dataframe\">\n",
       "  <thead>\n",
       "    <tr style=\"text-align: right;\">\n",
       "      <th></th>\n",
       "      <th>Total_floor</th>\n",
       "      <th>Curent_floor</th>\n",
       "      <th>Price</th>\n",
       "      <th>TotalSq</th>\n",
       "      <th>pass_elevator</th>\n",
       "      <th>gruz_elevator</th>\n",
       "      <th>balkon</th>\n",
       "      <th>lodgya</th>\n",
       "      <th>sovmest_sanuz</th>\n",
       "      <th>razdeln_sanuz</th>\n",
       "      <th>Is_second</th>\n",
       "      <th>CentrDist</th>\n",
       "      <th>sell_type_214-FZ</th>\n",
       "      <th>sell_type_GSK_dogovor</th>\n",
       "      <th>sell_type_alternativa</th>\n",
       "      <th>sell_type_free</th>\n",
       "      <th>sell_type_pereustupka</th>\n",
       "      <th>sell_type_predvarit_dogovor</th>\n",
       "      <th>phone_no</th>\n",
       "      <th>phone_yes</th>\n",
       "      <th>parking_mnogour</th>\n",
       "      <th>parking_na_krishe</th>\n",
       "      <th>parking_nazemn</th>\n",
       "      <th>parking_otkritaya</th>\n",
       "      <th>parking_podzemn</th>\n",
       "      <th>age</th>\n",
       "    </tr>\n",
       "  </thead>\n",
       "  <tbody>\n",
       "    <tr>\n",
       "      <th>5467</th>\n",
       "      <td>1</td>\n",
       "      <td>9</td>\n",
       "      <td>1.79e+06</td>\n",
       "      <td>12.0</td>\n",
       "      <td>1</td>\n",
       "      <td>0</td>\n",
       "      <td>0</td>\n",
       "      <td>0</td>\n",
       "      <td>1.0</td>\n",
       "      <td>0.0</td>\n",
       "      <td>1</td>\n",
       "      <td>16.35</td>\n",
       "      <td>0</td>\n",
       "      <td>0</td>\n",
       "      <td>0</td>\n",
       "      <td>1</td>\n",
       "      <td>0</td>\n",
       "      <td>0</td>\n",
       "      <td>0</td>\n",
       "      <td>0</td>\n",
       "      <td>0</td>\n",
       "      <td>0</td>\n",
       "      <td>1</td>\n",
       "      <td>0</td>\n",
       "      <td>0</td>\n",
       "      <td>0.0</td>\n",
       "    </tr>\n",
       "    <tr>\n",
       "      <th>999</th>\n",
       "      <td>2</td>\n",
       "      <td>4</td>\n",
       "      <td>1.99e+06</td>\n",
       "      <td>38.0</td>\n",
       "      <td>0</td>\n",
       "      <td>0</td>\n",
       "      <td>0</td>\n",
       "      <td>1</td>\n",
       "      <td>1.0</td>\n",
       "      <td>0.0</td>\n",
       "      <td>1</td>\n",
       "      <td>18.45</td>\n",
       "      <td>0</td>\n",
       "      <td>0</td>\n",
       "      <td>0</td>\n",
       "      <td>1</td>\n",
       "      <td>0</td>\n",
       "      <td>0</td>\n",
       "      <td>1</td>\n",
       "      <td>0</td>\n",
       "      <td>0</td>\n",
       "      <td>0</td>\n",
       "      <td>0</td>\n",
       "      <td>0</td>\n",
       "      <td>1</td>\n",
       "      <td>0.0</td>\n",
       "    </tr>\n",
       "    <tr>\n",
       "      <th>5208</th>\n",
       "      <td>2</td>\n",
       "      <td>12</td>\n",
       "      <td>8.70e+06</td>\n",
       "      <td>64.0</td>\n",
       "      <td>0</td>\n",
       "      <td>0</td>\n",
       "      <td>0</td>\n",
       "      <td>1</td>\n",
       "      <td>1.0</td>\n",
       "      <td>0.0</td>\n",
       "      <td>1</td>\n",
       "      <td>14.37</td>\n",
       "      <td>0</td>\n",
       "      <td>0</td>\n",
       "      <td>1</td>\n",
       "      <td>0</td>\n",
       "      <td>0</td>\n",
       "      <td>0</td>\n",
       "      <td>0</td>\n",
       "      <td>1</td>\n",
       "      <td>0</td>\n",
       "      <td>0</td>\n",
       "      <td>1</td>\n",
       "      <td>0</td>\n",
       "      <td>0</td>\n",
       "      <td>3.0</td>\n",
       "    </tr>\n",
       "    <tr>\n",
       "      <th>714</th>\n",
       "      <td>12</td>\n",
       "      <td>18</td>\n",
       "      <td>4.36e+06</td>\n",
       "      <td>49.8</td>\n",
       "      <td>1</td>\n",
       "      <td>1</td>\n",
       "      <td>1</td>\n",
       "      <td>0</td>\n",
       "      <td>0.0</td>\n",
       "      <td>1.0</td>\n",
       "      <td>0</td>\n",
       "      <td>38.33</td>\n",
       "      <td>0</td>\n",
       "      <td>0</td>\n",
       "      <td>0</td>\n",
       "      <td>1</td>\n",
       "      <td>0</td>\n",
       "      <td>0</td>\n",
       "      <td>0</td>\n",
       "      <td>0</td>\n",
       "      <td>0</td>\n",
       "      <td>0</td>\n",
       "      <td>0</td>\n",
       "      <td>0</td>\n",
       "      <td>0</td>\n",
       "      <td>0.0</td>\n",
       "    </tr>\n",
       "    <tr>\n",
       "      <th>1115</th>\n",
       "      <td>2</td>\n",
       "      <td>3</td>\n",
       "      <td>1.99e+06</td>\n",
       "      <td>26.0</td>\n",
       "      <td>0</td>\n",
       "      <td>0</td>\n",
       "      <td>0</td>\n",
       "      <td>0</td>\n",
       "      <td>1.0</td>\n",
       "      <td>0.0</td>\n",
       "      <td>1</td>\n",
       "      <td>22.34</td>\n",
       "      <td>0</td>\n",
       "      <td>0</td>\n",
       "      <td>0</td>\n",
       "      <td>1</td>\n",
       "      <td>0</td>\n",
       "      <td>0</td>\n",
       "      <td>0</td>\n",
       "      <td>0</td>\n",
       "      <td>0</td>\n",
       "      <td>0</td>\n",
       "      <td>1</td>\n",
       "      <td>0</td>\n",
       "      <td>0</td>\n",
       "      <td>0.0</td>\n",
       "    </tr>\n",
       "  </tbody>\n",
       "</table>\n",
       "</div>"
      ],
      "text/plain": [
       "      Total_floor  Curent_floor     Price  TotalSq  pass_elevator  \\\n",
       "5467            1             9  1.79e+06     12.0              1   \n",
       "999             2             4  1.99e+06     38.0              0   \n",
       "5208            2            12  8.70e+06     64.0              0   \n",
       "714            12            18  4.36e+06     49.8              1   \n",
       "1115            2             3  1.99e+06     26.0              0   \n",
       "\n",
       "      gruz_elevator  balkon  lodgya  sovmest_sanuz  razdeln_sanuz  Is_second  \\\n",
       "5467              0       0       0            1.0            0.0          1   \n",
       "999               0       0       1            1.0            0.0          1   \n",
       "5208              0       0       1            1.0            0.0          1   \n",
       "714               1       1       0            0.0            1.0          0   \n",
       "1115              0       0       0            1.0            0.0          1   \n",
       "\n",
       "      CentrDist  sell_type_214-FZ  sell_type_GSK_dogovor  \\\n",
       "5467      16.35                 0                      0   \n",
       "999       18.45                 0                      0   \n",
       "5208      14.37                 0                      0   \n",
       "714       38.33                 0                      0   \n",
       "1115      22.34                 0                      0   \n",
       "\n",
       "      sell_type_alternativa  sell_type_free  sell_type_pereustupka  \\\n",
       "5467                      0               1                      0   \n",
       "999                       0               1                      0   \n",
       "5208                      1               0                      0   \n",
       "714                       0               1                      0   \n",
       "1115                      0               1                      0   \n",
       "\n",
       "      sell_type_predvarit_dogovor  phone_no  phone_yes  parking_mnogour  \\\n",
       "5467                            0         0          0                0   \n",
       "999                             0         1          0                0   \n",
       "5208                            0         0          1                0   \n",
       "714                             0         0          0                0   \n",
       "1115                            0         0          0                0   \n",
       "\n",
       "      parking_na_krishe  parking_nazemn  parking_otkritaya  parking_podzemn  \\\n",
       "5467                  0               1                  0                0   \n",
       "999                   0               0                  0                1   \n",
       "5208                  0               1                  0                0   \n",
       "714                   0               0                  0                0   \n",
       "1115                  0               1                  0                0   \n",
       "\n",
       "      age  \n",
       "5467  0.0  \n",
       "999   0.0  \n",
       "5208  3.0  \n",
       "714   0.0  \n",
       "1115  0.0  "
      ]
     },
     "execution_count": 11,
     "metadata": {},
     "output_type": "execute_result"
    }
   ],
   "source": [
    "test.head()"
   ]
  },
  {
   "cell_type": "code",
   "execution_count": 39,
   "metadata": {
    "collapsed": false
   },
   "outputs": [],
   "source": [
    "y_train, X_train = np.array(train['Price']), np.array(train.drop('Price',axis=1))\n",
    "y_test, X_test = np.array(test['Price']), np.array(test.drop('Price',axis=1))"
   ]
  },
  {
   "cell_type": "markdown",
   "metadata": {},
   "source": [
    "## 2. Константное предсказание.\n",
    "\n",
    "В конце концов! Надо же с чем-то сравнивать..."
   ]
  },
  {
   "cell_type": "code",
   "execution_count": 55,
   "metadata": {
    "collapsed": false
   },
   "outputs": [],
   "source": [
    "def loss(y, y_pred):\n",
    "    return(np.sum((y-y_pred)**2))"
   ]
  },
  {
   "cell_type": "code",
   "execution_count": 41,
   "metadata": {
    "collapsed": false
   },
   "outputs": [
    {
     "data": {
      "text/plain": [
       "0.66666666666666663"
      ]
     },
     "execution_count": 41,
     "metadata": {},
     "output_type": "execute_result"
    }
   ],
   "source": [
    "y_true = [1, 2, 3]\n",
    "y_pred = [1, 1, 3]\n",
    "accuracy_score(y_true, y_pred)"
   ]
  },
  {
   "cell_type": "code",
   "execution_count": 60,
   "metadata": {
    "collapsed": false
   },
   "outputs": [],
   "source": [
    "const = np.mean(y_test)"
   ]
  },
  {
   "cell_type": "code",
   "execution_count": 62,
   "metadata": {
    "collapsed": false
   },
   "outputs": [
    {
     "data": {
      "text/plain": [
       "2.0972039209158156e+32"
      ]
     },
     "execution_count": 62,
     "metadata": {},
     "output_type": "execute_result"
    }
   ],
   "source": [
    "# Смотрим на ошибку! \n",
    "loss(const,y_test)"
   ]
  },
  {
   "cell_type": "markdown",
   "metadata": {},
   "source": [
    "## 3. Regression is my profession!"
   ]
  },
  {
   "cell_type": "code",
   "execution_count": 29,
   "metadata": {
    "collapsed": true
   },
   "outputs": [],
   "source": [
    "from sklearn import linear_model"
   ]
  },
  {
   "cell_type": "code",
   "execution_count": 30,
   "metadata": {
    "collapsed": false
   },
   "outputs": [],
   "source": [
    "# Создаём модель для линейной регрессии\n",
    "regr = linear_model.LinearRegression()"
   ]
  },
  {
   "cell_type": "code",
   "execution_count": 46,
   "metadata": {
    "collapsed": false
   },
   "outputs": [
    {
     "data": {
      "text/plain": [
       "LinearRegression(copy_X=True, fit_intercept=True, n_jobs=1, normalize=False)"
      ]
     },
     "execution_count": 46,
     "metadata": {},
     "output_type": "execute_result"
    }
   ],
   "source": [
    "# Обучаем модель! \n",
    "regr.fit(X_train,y_train)"
   ]
  },
  {
   "cell_type": "code",
   "execution_count": 47,
   "metadata": {
    "collapsed": false
   },
   "outputs": [
    {
     "name": "stdout",
     "output_type": "stream",
     "text": [
      "Coefficients: \n",
      " [ -2.72896821e+12  -2.21514557e+12   5.29386071e+12   1.63463782e+13\n",
      "  -1.57866973e+12  -5.76046888e+13  -1.10564857e+14   1.79796994e+13\n",
      "  -4.53285076e+13   1.39281006e+12   9.44786066e+11  -7.05851416e+13\n",
      "  -4.74559750e+13   4.38606535e+12   1.53640640e+13  -7.58602217e+13\n",
      "  -1.63820293e+13   4.41373978e+12  -4.95966471e+13  -9.57410906e+13\n",
      "  -1.01562500e-01   2.55335117e+12  -1.79727496e+14   5.85094243e+13\n",
      "   1.19653925e+11]\n"
     ]
    }
   ],
   "source": [
    "# Посмотрим на коэффициенты: \n",
    "print('Coefficients: \\n', regr.coef_)"
   ]
  },
  {
   "cell_type": "code",
   "execution_count": 57,
   "metadata": {
    "collapsed": false
   },
   "outputs": [
    {
     "data": {
      "text/plain": [
       "2.5883953740201015e+32"
      ]
     },
     "execution_count": 57,
     "metadata": {},
     "output_type": "execute_result"
    }
   ],
   "source": [
    "# Посмотрим на ошибку на тренировочной выборке:\n",
    "loss(y_train,regr.predict(X_train))"
   ]
  },
  {
   "cell_type": "code",
   "execution_count": 58,
   "metadata": {
    "collapsed": false
   },
   "outputs": [
    {
     "data": {
      "text/plain": [
       "1.2623096940594792e+32"
      ]
     },
     "execution_count": 58,
     "metadata": {},
     "output_type": "execute_result"
    }
   ],
   "source": [
    "# Посмотрим на ошибку на тестовой выборке:\n",
    "loss(y_test,regr.predict(X_test))"
   ]
  },
  {
   "cell_type": "code",
   "execution_count": null,
   "metadata": {
    "collapsed": true
   },
   "outputs": [],
   "source": []
  },
  {
   "cell_type": "code",
   "execution_count": null,
   "metadata": {
    "collapsed": false
   },
   "outputs": [],
   "source": []
  },
  {
   "cell_type": "code",
   "execution_count": null,
   "metadata": {
    "collapsed": true
   },
   "outputs": [],
   "source": []
  },
  {
   "cell_type": "code",
   "execution_count": null,
   "metadata": {
    "collapsed": true
   },
   "outputs": [],
   "source": []
  },
  {
   "cell_type": "code",
   "execution_count": null,
   "metadata": {
    "collapsed": true
   },
   "outputs": [],
   "source": []
  },
  {
   "cell_type": "code",
   "execution_count": null,
   "metadata": {
    "collapsed": true
   },
   "outputs": [],
   "source": []
  },
  {
   "cell_type": "code",
   "execution_count": null,
   "metadata": {
    "collapsed": true
   },
   "outputs": [],
   "source": []
  },
  {
   "cell_type": "code",
   "execution_count": null,
   "metadata": {
    "collapsed": true
   },
   "outputs": [],
   "source": [
    "from sklearn.metrics import log_loss"
   ]
  },
  {
   "cell_type": "code",
   "execution_count": null,
   "metadata": {
    "collapsed": true
   },
   "outputs": [],
   "source": []
  },
  {
   "cell_type": "code",
   "execution_count": null,
   "metadata": {
    "collapsed": true
   },
   "outputs": [],
   "source": []
  }
 ],
 "metadata": {
  "kernelspec": {
   "display_name": "Python 3",
   "language": "python",
   "name": "python3"
  },
  "language_info": {
   "codemirror_mode": {
    "name": "ipython",
    "version": 3
   },
   "file_extension": ".py",
   "mimetype": "text/x-python",
   "name": "python",
   "nbconvert_exporter": "python",
   "pygments_lexer": "ipython3",
   "version": "3.5.2"
  }
 },
 "nbformat": 4,
 "nbformat_minor": 1
}
