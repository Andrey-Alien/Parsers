{
 "cells": [
  {
   "cell_type": "code",
   "execution_count": null,
   "metadata": {
    "collapsed": true
   },
   "outputs": [],
   "source": []
  },
  {
   "cell_type": "markdown",
   "metadata": {},
   "source": [
    "## 1. Подготовка\n",
    "\n",
    "Многие сайты и сервисы хотят упростить жизнь программистам и предоставляют им в пользование уже готорвые куски кода, к которым можно просто обратиться и получить нужную инфомрацию о сервисе. Такие куски кода называются API (Application programming interface). Мы уже пользовались с вами API Google maps, когда качали цены домиков с ЦИАН. Теперь пришло время сделать то же самое с контактом! API это чуть ли не единственный способ добиться чего-либо от него. Ознакомиться с спсобами такого взаимодействия с вконтакте можно [по ссылке, о существовании которой вы даже не догадывались...](https://vk.com/dev/manuals)\n",
    "\n",
    "Для того, чтобы получить доступ к выгрузке данных из вконтакте нужно пройти ряд бюрократических процедур. А именно, получить ключ доступа - access token. Для этого:\n",
    "\n",
    "Создаем свое приложение. Заполняем все поля, загружаем предварительно подготовленные картинки нужного размера. Разрешаем доступ этому приложению к своей старнцие. Сделать это можно по ссылке: http://vk.com/editapp?act=create.\n",
    "\n",
    "![два скрина с руководством]()\n",
    "\n",
    "Для работы с частью методов API вконтакте этого вполне достаточно (обычно в заголовке такого метода стоит соответствующая пометка). Для части методов, испульзуемых нами, может понадобиться ключ доступа. Для того, чтобы получить его необходимо сделать ещё пару странных манипуляций:\n",
    "\n",
    "\n",
    "Переходим по ссылке вида:\n",
    "\n",
    "https://oauth.vk.com/authorize?client_id=6045249&scope=friends&redirect_uri=https://oauth.vk.com/blank.html&display=page&v=5.16&response_type=token\n",
    "\n",
    "На месте звездочек должен стоять ID созданного вами приложения.\n",
    "\n",
    "В итоге по этому запросу будет сформирована ссылка следующего вида:\n",
    "\n",
    "https://oauth.vk.com/blank.html#access_token=95b636116ef20e0798fe4dff380511fc13&expires_in=86400&user_id=6045249\n",
    "\n",
    "Первый набор знаков - access token, т.е. маркер доступа. Вторая цифра (expires_in=) время работы маркера доступа в секундах (одни сутки). По истечению суток нужно будет получить новый маркер доступа. Последняя цифра (user_id=) ваш ID Вконтакте. Нам в дальнейшем понадобится маркер доступа и ID. Для удобства сохраним их."
   ]
  },
  {
   "cell_type": "code",
   "execution_count": 1,
   "metadata": {
    "collapsed": true
   },
   "outputs": [],
   "source": [
    "token=\"82b23bc582b23bc582e977325a82f8afb8882b282b23bc5da60d480cac91cc795a38d21\"\n",
    "myid =\"6045249\""
   ]
  },
  {
   "cell_type": "markdown",
   "metadata": {},
   "source": [
    "## 2. Честный сбор данных."
   ]
  },
  {
   "cell_type": "code",
   "execution_count": 2,
   "metadata": {
    "collapsed": true
   },
   "outputs": [],
   "source": [
    "# Подгружаем уже знакомые нам библиотеки\n",
    "import requests     \n",
    "from bs4 import BeautifulSoup"
   ]
  },
  {
   "cell_type": "markdown",
   "metadata": {},
   "source": [
    "Подробно узнать о том как задать вопрос Вконтакте можно по этой ссылке: https://new.vk.com/dev/api_requests. Как это можно выяснить по ссылке, любой запрос к Вконтакте должен иметь структуру следующего вида:\n",
    "\n",
    "** url = https://api.vk.com/method/ METHOD_NAME ?  ПАРАМЕТРЫ & access_token = access_token **\n",
    "\n",
    "\n",
    "Список всех существующих методов можно изучить по ссылке  https://vk.com/dev/methods. Попробуем узнать своё имя. В списке методом можно узнать, что метод \"users.get\"  возвращает расширенную информацию о пользователе. Параметр user_ids отвечает за id польователей, о которых информацию нам хотелось бы вытащить. Попробуем узнать своё имя напрямую!"
   ]
  },
  {
   "cell_type": "code",
   "execution_count": null,
   "metadata": {
    "collapsed": true
   },
   "outputs": [],
   "source": [
    "url = \"https://api.vk.com/method/users.get?user_ids=6045249&access_token=\"+str(token)"
   ]
  },
  {
   "cell_type": "code",
   "execution_count": null,
   "metadata": {
    "collapsed": true
   },
   "outputs": [],
   "source": [
    "response = urllib.request.urlopen(url)      # Команда, которая обращается к сайту\n",
    "response = response.read()                  # Команда, которая раскодирует юникод\n",
    "soup = BeautifulSoup(response,\"lxml\").text  # Переводит из байтового в формат красивого супа\n",
    "print(type(soup))\n",
    "print(soup)"
   ]
  },
  {
   "cell_type": "code",
   "execution_count": null,
   "metadata": {
    "collapsed": true
   },
   "outputs": [],
   "source": [
    "Переведём полученный формат в словарь с помощью модуля jsonn."
   ]
  },
  {
   "cell_type": "code",
   "execution_count": null,
   "metadata": {
    "collapsed": true
   },
   "outputs": [],
   "source": [
    "import json\n",
    "json_acceptable_string = soup.replace(\"'\", \"\\\"\")\n",
    "my_name = json.loads(json_acceptable_string)\n",
    "print(my_name['response'][0]['first_name']+' '+my_name['response'][0]['last_name'])"
   ]
  },
  {
   "cell_type": "markdown",
   "metadata": {},
   "source": [
    "Мы выяснили как нас зовут. Это неплохое достижение. Стоит заметить, что кроме прямого способа выяснить своё имя существует читерский способ. Для того, чтобы его использовать установим через pip специальный пакет, введя в командную строку: **pip install vk**."
   ]
  },
  {
   "cell_type": "code",
   "execution_count": null,
   "metadata": {
    "collapsed": true
   },
   "outputs": [],
   "source": []
  },
  {
   "cell_type": "code",
   "execution_count": null,
   "metadata": {
    "collapsed": true
   },
   "outputs": [],
   "source": []
  },
  {
   "cell_type": "code",
   "execution_count": null,
   "metadata": {
    "collapsed": true
   },
   "outputs": [],
   "source": []
  }
 ],
 "metadata": {
  "kernelspec": {
   "display_name": "Python 3",
   "language": "python",
   "name": "python3"
  },
  "language_info": {
   "codemirror_mode": {
    "name": "ipython",
    "version": 3
   },
   "file_extension": ".py",
   "mimetype": "text/x-python",
   "name": "python",
   "nbconvert_exporter": "python",
   "pygments_lexer": "ipython3",
   "version": "3.5.2"
  }
 },
 "nbformat": 4,
 "nbformat_minor": 1
}
