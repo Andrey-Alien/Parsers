{
 "cells": [
  {
   "cell_type": "markdown",
   "metadata": {},
   "source": [
    "# Парсеры для разных новостных сайтов "
   ]
  },
  {
   "cell_type": "code",
   "execution_count": 1,
   "metadata": {},
   "outputs": [],
   "source": [
    "import requests\n",
    "import numpy as np\n",
    "import datetime\n",
    "import re\n",
    "from bs4 import BeautifulSoup\n",
    "\n",
    "import time\n",
    "import datetime\n",
    "import pandas as pd\n",
    "import pickle\n",
    "\n",
    "from tqdm import tqdm_notebook"
   ]
  },
  {
   "cell_type": "code",
   "execution_count": 2,
   "metadata": {},
   "outputs": [],
   "source": [
    "# Вспомогательные функции для генерации дат \n",
    "# Функция для получения количества дней в месяцах\n",
    "def monthlength(month,year):\n",
    "    if year % 4 == 0:\n",
    "         VisYear = 29\n",
    "    else:\n",
    "         VisYear = 28\n",
    "    return [31,VisYear,31,30,31,30,31,31,30,31,30,31][month]\n",
    "\n",
    "# Функция для генерации кортежей вида (год, месяц, день)\n",
    "def days_of_year(year):\n",
    "    dates = [ ]\n",
    "    for mon in range(12):\n",
    "        cur_month = [(year, mon+1, day) for day in range(1, monthlength(mon, year)+1)]\n",
    "        dates.extend(cur_month)\n",
    "    return dates \n"
   ]
  },
  {
   "cell_type": "markdown",
   "metadata": {},
   "source": [
    "## 1. Парсер Lenta.ru \n",
    "\n",
    "* Новости доступны с 1 января 2008 года. Мы качаем с 1 января 2009 года\n",
    "* Общий архив разбит на несколько рубрик. Из этих рубрик некоторые мы сразу выбросим. Например, спорт, стиль жизни и тп. Остальное спарсим. "
   ]
  },
  {
   "cell_type": "code",
   "execution_count": 3,
   "metadata": {},
   "outputs": [],
   "source": [
    "# Функция для скачки новостей по конкретной дате \n",
    "def news_data_get(year,month,day,rubrics='economics'):\n",
    "    if len(str(day)) < 2:\n",
    "        day = '0' + str(day)\n",
    "        \n",
    "    if len(str(month)) < 2:\n",
    "        month = '0' + str(month)\n",
    "        \n",
    "    mainpage = 'https://lenta.ru/rubrics/{}/{}/{}/{}/'.format(rubrics, year, month, day)\n",
    "    response = requests.get(mainpage)\n",
    "    html = response.content\n",
    "    soup = BeautifulSoup(html,'html.parser')\n",
    "    all_news = soup.find_all('div',{'class':'item news b-tabloid__topic_news'})\n",
    "    return all_news\n",
    "\n",
    "# Функция по переработке отдельной новости в словарик\n",
    "def news_to_df(news):\n",
    "    new = { }\n",
    "    new['date'] = news.find('span', {'class':'g-date item__date'}).text[8:]\n",
    "    new['time'] = news.find('span', {'class':'time'}).text\n",
    "    hr_tx = news.find('div', {'class':'titles'}).a\n",
    "    new['title'] = hr_tx.text\n",
    "    new['href'] = hr_tx.attrs['href']\n",
    "    return new"
   ]
  },
  {
   "cell_type": "code",
   "execution_count": null,
   "metadata": {},
   "outputs": [],
   "source": [
    "# Финальные циклы \n",
    "years = list(range(2009,2018))   # цикл пойдёт по годам и по рубрикам \n",
    "rubrics = ['russia', 'world', 'ussr', 'economics', 'forces', 'science', 'sport', 'culture', 'media']\n",
    "\n",
    "itog_titles = [ ]\n",
    "for yr in tqdm_notebook(years, desc='Years'):\n",
    "    for date in tqdm_notebook(days_of_year(yr), desc='Days'):\n",
    "        for rub in rubrics:\n",
    "            all_news = news_data_get(date[0],date[1],date[2],rub)\n",
    "            for new in all_news:\n",
    "                cur_df = news_to_df(new)\n",
    "                cur_df['rubrics'] = rub\n",
    "                cur_df['year'] = date[0] \n",
    "                cur_df['month'] = date[1]\n",
    "                cur_df['day'] = date[2]\n",
    "                itog_titles.append(cur_df)"
   ]
  },
  {
   "cell_type": "code",
   "execution_count": null,
   "metadata": {},
   "outputs": [],
   "source": [
    "#with open('n    ewest_news_data/lenta_titles.pickle', 'wb') as f:\n",
    "#    pickle.dump(itog_titles, f)\n",
    "\n",
    "with open('newest_news_data/lenta_titles.pickle', 'rb') as f:\n",
    "    itog_titles = pickle.load(f)"
   ]
  },
  {
   "cell_type": "code",
   "execution_count": null,
   "metadata": {
    "scrolled": false
   },
   "outputs": [],
   "source": [
    "df = pd.DataFrame(itog_titles)\n",
    "print(df.shape)\n",
    "df.head()"
   ]
  },
  {
   "cell_type": "code",
   "execution_count": 4,
   "metadata": {
    "scrolled": false
   },
   "outputs": [],
   "source": [
    "# Функция, которая забирает текст по конкретной статье и добавляет её в итоговый массив \n",
    "def get_lenta_news(item_from_vect):\n",
    "    url = 'https://lenta.ru' + item_from_vect['href']\n",
    "    try:\n",
    "        response = requests.get(url)\n",
    "        html = response.content\n",
    "        soup = BeautifulSoup(html,'html.parser')\n",
    "        txt = soup.find('div',{\"class\" : \"b-text clearfix js-topic__text\"}).text\n",
    "        item_from_vect['text'] = txt\n",
    "        return item_from_vect\n",
    "    except:\n",
    "        print(url)\n",
    "        return { }"
   ]
  },
  {
   "cell_type": "code",
   "execution_count": null,
   "metadata": {},
   "outputs": [],
   "source": [
    "s = [item for item in itog_titles if item['href'] == '/news/2017/05/22/shit/']\n",
    "s"
   ]
  },
  {
   "cell_type": "code",
   "execution_count": null,
   "metadata": {},
   "outputs": [],
   "source": [
    "get_lenta_news(s[0])"
   ]
  },
  {
   "cell_type": "code",
   "execution_count": 4,
   "metadata": {},
   "outputs": [],
   "source": [
    "from multiprocessing.pool import ThreadPool\n",
    "\n",
    "# Универсальный раздрабливатель на батчи \n",
    "def Separator(vect, part):\n",
    "    n = len(vect)\n",
    "    vec_parts = [round(n/part)*i for i in range(part)]\n",
    "    vec_parts.append(n)\n",
    "    out = [vect[vec_parts[i]:vec_parts[i+1]] for i in range(part)]\n",
    "    return(out)\n",
    "\n",
    "# Универсальный Map для скачки массива из статей. Функция по скачке и словарь - аргументы \n",
    "def Map(vect, parser_function):\n",
    "    out = [parser_function(item) for item in vect]\n",
    "    return(out)\n",
    "\n",
    "# Универсальный Reduce по объединению статей \n",
    "def Reduce(l):\n",
    "    ll = [ ]\n",
    "    for item in l:\n",
    "        ll.extend(item)\n",
    "    return(ll)\n",
    "\n",
    "# Универсальный скачиватель \n",
    "def MRDownloader(what, parts, parser_function):\n",
    "    # Map - шаг \n",
    "    separatorlist = Separator(what, parts)\n",
    "    def Mp(what):\n",
    "        return Map(what, parser_function=parser_function)\n",
    "    # Скачиваем \n",
    "    pool = ThreadPool(parts)\n",
    "    l = pool.map(Mp, separatorlist)\n",
    "    # Reduce - шаг\n",
    "    itog = Reduce(l)\n",
    "    return(itog)    "
   ]
  },
  {
   "cell_type": "code",
   "execution_count": null,
   "metadata": {
    "scrolled": true
   },
   "outputs": [],
   "source": [
    "%%time\n",
    "itog_news = MRDownloader(itog_titles[:100000], 20, parser_function=get_lenta_news)"
   ]
  },
  {
   "cell_type": "code",
   "execution_count": null,
   "metadata": {},
   "outputs": [],
   "source": [
    "len(itog_news)"
   ]
  },
  {
   "cell_type": "code",
   "execution_count": null,
   "metadata": {},
   "outputs": [],
   "source": [
    "itog_news = [itog for itog in itog_news if len(itog.keys()) != 0 ]\n",
    "len(itog_news)"
   ]
  },
  {
   "cell_type": "code",
   "execution_count": null,
   "metadata": {},
   "outputs": [],
   "source": [
    "with open('newest_news_data/lenta_news_1.pickle', 'wb') as f:\n",
    "    pickle.dump(itog_news, f)"
   ]
  },
  {
   "cell_type": "markdown",
   "metadata": {},
   "source": [
    "## 2. Парсер interfax\n",
    "\n",
    "* Данные есть с 24 января 2008 года, мы качаем с 1 января 2009 года\n",
    "* Рубрик нет, но они отображаются в явном виде в ссылках "
   ]
  },
  {
   "cell_type": "code",
   "execution_count": 5,
   "metadata": {
    "scrolled": true
   },
   "outputs": [],
   "source": [
    "# Функция для скачки новостей по конкретной дате \n",
    "def news_data_get(year,month,day,rubrics='all'):\n",
    "    if len(str(day)) < 2:\n",
    "        day = '0' + str(day)\n",
    "        \n",
    "    if len(str(month)) < 2:\n",
    "        month = '0' + str(month)\n",
    "        \n",
    "    mainpage = 'http://www.interfax.ru/news/{}/{}/{}/{}/'.format(year, month, day, rubrics)\n",
    "    response = requests.get(mainpage)\n",
    "    html = response.content\n",
    "    soup = BeautifulSoup(html,'html.parser')\n",
    "    \n",
    "    # Определяем число страниц с новостями за день (обычно три)\n",
    "    i_page = int(soup.find('div', {'class' : 'pages'}).text[-2])\n",
    "    \n",
    "    # Проходимся по всем страницам \n",
    "    all_news = [ ] # Сюда собираем все новости \n",
    "    for i in range(1, i_page+1):\n",
    "        response = requests.get(mainpage + 'page_' + str(i))\n",
    "        html = response.content\n",
    "        soup = BeautifulSoup(html, 'html.parser')\n",
    "        cur_news = soup.find('div', {'class' : 'an'}).find_all('div')        \n",
    "        all_news.extend([nw for nw in cur_news  if len(\"\" if not nw.get('data-id') else nw.get('data-id')) > 0])\n",
    "    return all_news\n",
    "\n",
    "\n",
    "# Функция по переработке отдельной новости в словарик\n",
    "def news_to_df(news):\n",
    "    new = { }\n",
    "    new['date'] = news.get('data-id')\n",
    "    new['time'] = news.find('span').text\n",
    "    new['title'] = news.find('a').text\n",
    "    new['href'] = news.find('a').get('href')\n",
    "    return new"
   ]
  },
  {
   "cell_type": "code",
   "execution_count": null,
   "metadata": {},
   "outputs": [],
   "source": [
    "# Финальные циклы \n",
    "years = list(range(2009,2018))   # цикл пойдёт по годам и по рубрикам \n",
    "\n",
    "itog_titles = [ ]\n",
    "for yr in tqdm_notebook(years, desc='Years'):\n",
    "    for date in tqdm_notebook(days_of_year(yr), desc='Days'):\n",
    "        all_news = news_data_get(date[0],date[1],date[2])\n",
    "        for new in all_news:\n",
    "            cur_df = news_to_df(new)\n",
    "            cur_df['year'] = date[0] \n",
    "            cur_df['month'] = date[1]\n",
    "            cur_df['day'] = date[2]\n",
    "            itog_titles.append(cur_df)"
   ]
  },
  {
   "cell_type": "code",
   "execution_count": 6,
   "metadata": {},
   "outputs": [],
   "source": [
    "# with open('newest_news_data/interfax_titles.pickle', 'wb') as f:\n",
    "#     pickle.dump(itog_titles, f)\n",
    "\n",
    "with open('newest_news_data/interfax_titles.pickle', 'rb') as f:\n",
    "    itog_titles = pickle.load(f)"
   ]
  },
  {
   "cell_type": "code",
   "execution_count": 7,
   "metadata": {},
   "outputs": [
    {
     "name": "stdout",
     "output_type": "stream",
     "text": [
      "(441179, 7)\n"
     ]
    },
    {
     "data": {
      "text/html": [
       "<div>\n",
       "<style scoped>\n",
       "    .dataframe tbody tr th:only-of-type {\n",
       "        vertical-align: middle;\n",
       "    }\n",
       "\n",
       "    .dataframe tbody tr th {\n",
       "        vertical-align: top;\n",
       "    }\n",
       "\n",
       "    .dataframe thead th {\n",
       "        text-align: right;\n",
       "    }\n",
       "</style>\n",
       "<table border=\"1\" class=\"dataframe\">\n",
       "  <thead>\n",
       "    <tr style=\"text-align: right;\">\n",
       "      <th></th>\n",
       "      <th>date</th>\n",
       "      <th>day</th>\n",
       "      <th>href</th>\n",
       "      <th>month</th>\n",
       "      <th>time</th>\n",
       "      <th>title</th>\n",
       "      <th>year</th>\n",
       "    </tr>\n",
       "  </thead>\n",
       "  <tbody>\n",
       "    <tr>\n",
       "      <th>0</th>\n",
       "      <td>55263</td>\n",
       "      <td>1</td>\n",
       "      <td>/russia/55263</td>\n",
       "      <td>1</td>\n",
       "      <td>23:50</td>\n",
       "      <td>Сторожевой корабль \"Неустрашимый\" сопровождает...</td>\n",
       "      <td>2009</td>\n",
       "    </tr>\n",
       "    <tr>\n",
       "      <th>1</th>\n",
       "      <td>55262</td>\n",
       "      <td>1</td>\n",
       "      <td>/russia/55262</td>\n",
       "      <td>1</td>\n",
       "      <td>22:14</td>\n",
       "      <td>Около 60 украинцев хотят вернуться на родину и...</td>\n",
       "      <td>2009</td>\n",
       "    </tr>\n",
       "    <tr>\n",
       "      <th>2</th>\n",
       "      <td>55261</td>\n",
       "      <td>1</td>\n",
       "      <td>/business/55261</td>\n",
       "      <td>1</td>\n",
       "      <td>22:01</td>\n",
       "      <td>Белоруссия обвалила свою валюту</td>\n",
       "      <td>2009</td>\n",
       "    </tr>\n",
       "    <tr>\n",
       "      <th>3</th>\n",
       "      <td>55260</td>\n",
       "      <td>1</td>\n",
       "      <td>/business/55260</td>\n",
       "      <td>1</td>\n",
       "      <td>21:09</td>\n",
       "      <td>Цена газа для Украины теперь составит 418 долл...</td>\n",
       "      <td>2009</td>\n",
       "    </tr>\n",
       "    <tr>\n",
       "      <th>4</th>\n",
       "      <td>55259</td>\n",
       "      <td>1</td>\n",
       "      <td>/russia/55259</td>\n",
       "      <td>1</td>\n",
       "      <td>20:48</td>\n",
       "      <td>Посольство РФ в Израиле рассчитывает, что эвак...</td>\n",
       "      <td>2009</td>\n",
       "    </tr>\n",
       "  </tbody>\n",
       "</table>\n",
       "</div>"
      ],
      "text/plain": [
       "    date  day             href  month   time  \\\n",
       "0  55263    1    /russia/55263      1  23:50   \n",
       "1  55262    1    /russia/55262      1  22:14   \n",
       "2  55261    1  /business/55261      1  22:01   \n",
       "3  55260    1  /business/55260      1  21:09   \n",
       "4  55259    1    /russia/55259      1  20:48   \n",
       "\n",
       "                                               title  year  \n",
       "0  Сторожевой корабль \"Неустрашимый\" сопровождает...  2009  \n",
       "1  Около 60 украинцев хотят вернуться на родину и...  2009  \n",
       "2                    Белоруссия обвалила свою валюту  2009  \n",
       "3  Цена газа для Украины теперь составит 418 долл...  2009  \n",
       "4  Посольство РФ в Израиле рассчитывает, что эвак...  2009  "
      ]
     },
     "execution_count": 7,
     "metadata": {},
     "output_type": "execute_result"
    }
   ],
   "source": [
    "df = pd.DataFrame(itog_titles)\n",
    "print(df.shape)\n",
    "df.head()"
   ]
  },
  {
   "cell_type": "code",
   "execution_count": 8,
   "metadata": {},
   "outputs": [
    {
     "data": {
      "text/html": [
       "<div>\n",
       "<style scoped>\n",
       "    .dataframe tbody tr th:only-of-type {\n",
       "        vertical-align: middle;\n",
       "    }\n",
       "\n",
       "    .dataframe tbody tr th {\n",
       "        vertical-align: top;\n",
       "    }\n",
       "\n",
       "    .dataframe thead th {\n",
       "        text-align: right;\n",
       "    }\n",
       "</style>\n",
       "<table border=\"1\" class=\"dataframe\">\n",
       "  <thead>\n",
       "    <tr style=\"text-align: right;\">\n",
       "      <th></th>\n",
       "      <th>date</th>\n",
       "      <th>day</th>\n",
       "      <th>href</th>\n",
       "      <th>month</th>\n",
       "      <th>time</th>\n",
       "      <th>title</th>\n",
       "      <th>year</th>\n",
       "    </tr>\n",
       "  </thead>\n",
       "  <tbody>\n",
       "    <tr>\n",
       "      <th>441174</th>\n",
       "      <td>594125</td>\n",
       "      <td>31</td>\n",
       "      <td>/russia/594125</td>\n",
       "      <td>12</td>\n",
       "      <td>01:06</td>\n",
       "      <td>Новогодний салют в Москве запустят с 38 точек ...</td>\n",
       "      <td>2017</td>\n",
       "    </tr>\n",
       "    <tr>\n",
       "      <th>441175</th>\n",
       "      <td>594124</td>\n",
       "      <td>31</td>\n",
       "      <td>/russia/594124</td>\n",
       "      <td>12</td>\n",
       "      <td>00:59</td>\n",
       "      <td>Сообщения о минировании торговых центров в Рос...</td>\n",
       "      <td>2017</td>\n",
       "    </tr>\n",
       "    <tr>\n",
       "      <th>441176</th>\n",
       "      <td>594123</td>\n",
       "      <td>31</td>\n",
       "      <td>/world/594123</td>\n",
       "      <td>12</td>\n",
       "      <td>00:51</td>\n",
       "      <td>Обезвредить захватившего людей на почте в Харь...</td>\n",
       "      <td>2017</td>\n",
       "    </tr>\n",
       "    <tr>\n",
       "      <th>441177</th>\n",
       "      <td>594122</td>\n",
       "      <td>31</td>\n",
       "      <td>/world/594122</td>\n",
       "      <td>12</td>\n",
       "      <td>00:36</td>\n",
       "      <td>Пучдемон потребовал от Мадрида восстановить ег...</td>\n",
       "      <td>2017</td>\n",
       "    </tr>\n",
       "    <tr>\n",
       "      <th>441178</th>\n",
       "      <td>594121</td>\n",
       "      <td>31</td>\n",
       "      <td>/world/594121</td>\n",
       "      <td>12</td>\n",
       "      <td>00:05</td>\n",
       "      <td>Пассажиры пострадавшего от удара молнии авиаре...</td>\n",
       "      <td>2017</td>\n",
       "    </tr>\n",
       "  </tbody>\n",
       "</table>\n",
       "</div>"
      ],
      "text/plain": [
       "          date  day            href  month   time  \\\n",
       "441174  594125   31  /russia/594125     12  01:06   \n",
       "441175  594124   31  /russia/594124     12  00:59   \n",
       "441176  594123   31   /world/594123     12  00:51   \n",
       "441177  594122   31   /world/594122     12  00:36   \n",
       "441178  594121   31   /world/594121     12  00:05   \n",
       "\n",
       "                                                    title  year  \n",
       "441174  Новогодний салют в Москве запустят с 38 точек ...  2017  \n",
       "441175  Сообщения о минировании торговых центров в Рос...  2017  \n",
       "441176  Обезвредить захватившего людей на почте в Харь...  2017  \n",
       "441177  Пучдемон потребовал от Мадрида восстановить ег...  2017  \n",
       "441178  Пассажиры пострадавшего от удара молнии авиаре...  2017  "
      ]
     },
     "execution_count": 8,
     "metadata": {},
     "output_type": "execute_result"
    }
   ],
   "source": [
    "df.tail()"
   ]
  },
  {
   "cell_type": "code",
   "execution_count": 9,
   "metadata": {},
   "outputs": [],
   "source": [
    "# Функция, которая забирает текст по конкретной статье и добавляет её в итоговый массив \n",
    "def get_interfax_news(item_from_vect):\n",
    "    url = 'http://www.interfax.ru' + item_from_vect['href']\n",
    "    try:\n",
    "        response = requests.get(url)\n",
    "        html = response.content\n",
    "        soup = BeautifulSoup(html,'html.parser')\n",
    "        txt = soup.find('div', {'class' : \"at\"})\n",
    "        item_from_vect['text'] = txt.article.text\n",
    "        return item_from_vect\n",
    "    except:\n",
    "        print(url)\n",
    "        return { }\n",
    "# get_interfax_news(itog_titles[0])\n",
    "# get_interfax_news({'href' : '/russia/97031'})"
   ]
  },
  {
   "cell_type": "code",
   "execution_count": 10,
   "metadata": {
    "scrolled": true
   },
   "outputs": [
    {
     "name": "stdout",
     "output_type": "stream",
     "text": [
      "CPU times: user 38min 19s, sys: 51.8 s, total: 39min 11s\n",
      "Wall time: 1h 47s\n"
     ]
    }
   ],
   "source": [
    "%%time\n",
    "itog_news = MRDownloader(itog_titles[400000:], 5, parser_function=get_interfax_news)\n",
    "len(itog_news)"
   ]
  },
  {
   "cell_type": "code",
   "execution_count": 11,
   "metadata": {},
   "outputs": [
    {
     "data": {
      "text/plain": [
       "41179"
      ]
     },
     "execution_count": 11,
     "metadata": {},
     "output_type": "execute_result"
    }
   ],
   "source": [
    "len(itog_news)"
   ]
  },
  {
   "cell_type": "code",
   "execution_count": 12,
   "metadata": {},
   "outputs": [
    {
     "data": {
      "text/html": [
       "<div>\n",
       "<style scoped>\n",
       "    .dataframe tbody tr th:only-of-type {\n",
       "        vertical-align: middle;\n",
       "    }\n",
       "\n",
       "    .dataframe tbody tr th {\n",
       "        vertical-align: top;\n",
       "    }\n",
       "\n",
       "    .dataframe thead th {\n",
       "        text-align: right;\n",
       "    }\n",
       "</style>\n",
       "<table border=\"1\" class=\"dataframe\">\n",
       "  <thead>\n",
       "    <tr style=\"text-align: right;\">\n",
       "      <th></th>\n",
       "      <th>date</th>\n",
       "      <th>day</th>\n",
       "      <th>href</th>\n",
       "      <th>month</th>\n",
       "      <th>text</th>\n",
       "      <th>time</th>\n",
       "      <th>title</th>\n",
       "      <th>year</th>\n",
       "    </tr>\n",
       "  </thead>\n",
       "  <tbody>\n",
       "    <tr>\n",
       "      <th>0</th>\n",
       "      <td>550713</td>\n",
       "      <td>20</td>\n",
       "      <td>/business/550713</td>\n",
       "      <td>2</td>\n",
       "      <td>Москва. 20 февраля. INTERFAX.RU - Apple до кон...</td>\n",
       "      <td>18:37</td>\n",
       "      <td>Apple откроет сервисный центр в России</td>\n",
       "      <td>2017</td>\n",
       "    </tr>\n",
       "    <tr>\n",
       "      <th>1</th>\n",
       "      <td>550710</td>\n",
       "      <td>20</td>\n",
       "      <td>/russia/550710</td>\n",
       "      <td>2</td>\n",
       "      <td>Москва. 20 февраля. INTERFAX.RU - Мосгорсуд пр...</td>\n",
       "      <td>18:34</td>\n",
       "      <td>Cуд подтвердил продление ареста Вайнзихера и О...</td>\n",
       "      <td>2017</td>\n",
       "    </tr>\n",
       "    <tr>\n",
       "      <th>2</th>\n",
       "      <td>550712</td>\n",
       "      <td>20</td>\n",
       "      <td>/world/550712</td>\n",
       "      <td>2</td>\n",
       "      <td>Москва. 20 февраля. INTERFAX.RU - Ополченцы са...</td>\n",
       "      <td>18:32</td>\n",
       "      <td>ДНР пока не начала отвод вооружений от линии с...</td>\n",
       "      <td>2017</td>\n",
       "    </tr>\n",
       "    <tr>\n",
       "      <th>3</th>\n",
       "      <td>550709</td>\n",
       "      <td>20</td>\n",
       "      <td>/world/550709</td>\n",
       "      <td>2</td>\n",
       "      <td>Москва. 20 февраля. INTERFAX.RU - Российские в...</td>\n",
       "      <td>18:21</td>\n",
       "      <td>РФ и Турция зафиксировали в Сирии за сутки дев...</td>\n",
       "      <td>2017</td>\n",
       "    </tr>\n",
       "    <tr>\n",
       "      <th>4</th>\n",
       "      <td>550708</td>\n",
       "      <td>20</td>\n",
       "      <td>/world/550708</td>\n",
       "      <td>2</td>\n",
       "      <td>Москва. 20 февраля. INTERFAX.RU - Более $100 т...</td>\n",
       "      <td>18:11</td>\n",
       "      <td>В Канаде в корпусе отправленного в утиль телев...</td>\n",
       "      <td>2017</td>\n",
       "    </tr>\n",
       "  </tbody>\n",
       "</table>\n",
       "</div>"
      ],
      "text/plain": [
       "     date  day              href  month  \\\n",
       "0  550713   20  /business/550713      2   \n",
       "1  550710   20    /russia/550710      2   \n",
       "2  550712   20     /world/550712      2   \n",
       "3  550709   20     /world/550709      2   \n",
       "4  550708   20     /world/550708      2   \n",
       "\n",
       "                                                text   time  \\\n",
       "0  Москва. 20 февраля. INTERFAX.RU - Apple до кон...  18:37   \n",
       "1  Москва. 20 февраля. INTERFAX.RU - Мосгорсуд пр...  18:34   \n",
       "2  Москва. 20 февраля. INTERFAX.RU - Ополченцы са...  18:32   \n",
       "3  Москва. 20 февраля. INTERFAX.RU - Российские в...  18:21   \n",
       "4  Москва. 20 февраля. INTERFAX.RU - Более $100 т...  18:11   \n",
       "\n",
       "                                               title  year  \n",
       "0             Apple откроет сервисный центр в России  2017  \n",
       "1  Cуд подтвердил продление ареста Вайнзихера и О...  2017  \n",
       "2  ДНР пока не начала отвод вооружений от линии с...  2017  \n",
       "3  РФ и Турция зафиксировали в Сирии за сутки дев...  2017  \n",
       "4  В Канаде в корпусе отправленного в утиль телев...  2017  "
      ]
     },
     "execution_count": 12,
     "metadata": {},
     "output_type": "execute_result"
    }
   ],
   "source": [
    "pd.DataFrame(itog_news).head()"
   ]
  },
  {
   "cell_type": "code",
   "execution_count": 13,
   "metadata": {},
   "outputs": [
    {
     "data": {
      "text/plain": [
       "41179"
      ]
     },
     "execution_count": 13,
     "metadata": {},
     "output_type": "execute_result"
    }
   ],
   "source": [
    "itog_news = [itog for itog in itog_news if len(itog.keys()) != 0 ]\n",
    "len(itog_news)"
   ]
  },
  {
   "cell_type": "code",
   "execution_count": 14,
   "metadata": {},
   "outputs": [],
   "source": [
    "with open('newest_news_data/interfax_news_3.pickle', 'wb') as f:\n",
    "    pickle.dump(itog_news, f)"
   ]
  },
  {
   "cell_type": "markdown",
   "metadata": {},
   "source": [
    "## 3. Парсер Тасс"
   ]
  },
  {
   "cell_type": "code",
   "execution_count": null,
   "metadata": {},
   "outputs": [],
   "source": [
    "# функция, которая крутит вниз ленту из новостей ТАСС\n",
    "# И собирает их в словарики\n",
    "def tass_lenta(before,limit=200):\n",
    "    mainpage = 'http://tass.ru/api/news/lenta?limit='+str(limit)+'&before='+str(before)\n",
    "    response = requests.get(mainpage)\n",
    "    dic = response.json()\n",
    "    cur_news = [ ]\n",
    "    df = dic['articles']\n",
    "    for item in df:\n",
    "        try:\n",
    "            new = { }\n",
    "            new['title'] = item['title']\n",
    "            new['category'] = item['section']['title']\n",
    "            new['href'] = item['url']\n",
    "            new['date'] = datetime.datetime.fromtimestamp(int(item['time'])).strftime('%Y-%m-%d %H:%M:%S')\n",
    "            new['uci_time'] = int(item['time'])\n",
    "            cur_news.append(new)\n",
    "        except:\n",
    "            print('ОШИБКА! \\n',item, '\\n')\n",
    "    return cur_news"
   ]
  },
  {
   "cell_type": "markdown",
   "metadata": {},
   "source": [
    "``` \n",
    "   Что ещё можно достать нахаляву из df \n",
    "   {'audio': False,   'color': '2',   'flash': False,   'id': '4070830',\n",
    "   'is_breaking_news': False,  'is_online': False,   'live_text': False,\n",
    "   'marked': False,  'photos': False,  'search_queries': None,\n",
    "   'section': {'id': '25', 'title': 'Экономика и бизнес', 'url': '/ekonomika'},\n",
    "   'show_at_common_feed': True,  'show_at_section_feed': True, 'slideshow': False\n",
    "   'time': '1488624568',  'title': 'Глава ВТБ: курс доллара к концу года может достигнуть 61-62 рублей',\n",
    "   'topics': None,  'url': '/ekonomika/4070830', 'video': False}, \n",
    "```"
   ]
  },
  {
   "cell_type": "code",
   "execution_count": null,
   "metadata": {},
   "outputs": [],
   "source": [
    "'1514764799'   # 31 декабря 2017 года 23:59:59\n",
    "'1483228799'   # 2016 \n",
    "'1451606399'   # 2015\n",
    "'1420070399'   # 2014\n",
    "'1388534399'   # 2013\n",
    "'1356998399'   # 2012\n",
    "'1325375999'   # 2011\n",
    "'1293839999'   # 2010\n",
    "'1262303999'   # 2009\n",
    "'1230767999'   # 2008 "
   ]
  },
  {
   "cell_type": "code",
   "execution_count": null,
   "metadata": {},
   "outputs": [],
   "source": [
    "# Финальные циклы \n",
    "tass_news = [ ]\n",
    "before = 1325375999\n",
    "\n",
    "for i in tqdm_notebook(range(100000)):\n",
    "    current_news = tass_lenta(before)\n",
    "    before = current_news[-1]['uci_time']\n",
    "    \n",
    "    # Расширяем базу из новостей:\n",
    "    tass_news.extend(current_news)\n",
    "    # Если дошли до какой-то определённой даты, то стоп\n",
    "    if before < 1230767999:\n",
    "        break "
   ]
  },
  {
   "cell_type": "code",
   "execution_count": null,
   "metadata": {},
   "outputs": [],
   "source": [
    "len(itog_titles)"
   ]
  },
  {
   "cell_type": "code",
   "execution_count": null,
   "metadata": {},
   "outputs": [],
   "source": [
    "# with open('newest_news_data/tass_titles.pickle', 'wb') as f:\n",
    "#      pickle.dump(itog_titles, f)\n",
    "\n",
    "with open('newest_news_data/tass_titles.pickle', 'rb') as f:\n",
    "    itog_titles = pickle.load(f)"
   ]
  },
  {
   "cell_type": "code",
   "execution_count": null,
   "metadata": {},
   "outputs": [],
   "source": [
    "df = pd.DataFrame(itog_titles)\n",
    "print(df.shape)\n",
    "df.head()"
   ]
  },
  {
   "cell_type": "code",
   "execution_count": null,
   "metadata": {},
   "outputs": [],
   "source": [
    "def html_stripper(text):\n",
    "    return re.sub('<[^<]+?>', '', str(text)) \n",
    "# очень крутые регулярные выражения - убирают все скобочки, тэги и прочую ерунду\n",
    "# очищаю посты от тэгов так, а не через .text из-за разнообразия постов\n",
    "\n",
    "# Функция, которая забирает текст по конкретной статье и добавляет её в итоговый массив \n",
    "def page_content(url):\n",
    "    response = requests.get(url) \n",
    "    html = response.content  \n",
    "    soup = BeautifulSoup(html,\"lxml\")\n",
    "    \n",
    "    vvv = soup.findAll(\"div\", { \"class\" : \"b-material-text__l js-mediator-article\" })\n",
    "    if vvv == [ ]:\n",
    "        vvv = soup.findAll(\"div\", { \"class\" : \"article__text\" })  # собрал без неё      98693\n",
    "                                                                  # с ней стало получше 98986\n",
    "    text = vvv[0].findAll('p')\n",
    "    textwp = [html_stripper(item) for item in text]\n",
    "    return textwp\n",
    "\n",
    "# Функция для объединения абзацев в текст\n",
    "def uniter(vect):\n",
    "    a = vect[0]\n",
    "    for item in vect[1:]:\n",
    "        a = a + item\n",
    "    return a \n",
    "\n",
    "# Конечная функция для сбора статьи \n",
    "def get_tass_news(item_from_vect):\n",
    "    url = \"http://tass.ru\" + item_from_vect['href']\n",
    "    try:\n",
    "        precontent = page_content(url)\n",
    "        text = uniter(precontent)\n",
    "        item_from_vect['text'] = text\n",
    "        return item_from_vect\n",
    "    except:\n",
    "        print(url)\n",
    "        return{ }\n",
    "\n",
    "#get_tass_news(itog_titles[10000])"
   ]
  },
  {
   "cell_type": "code",
   "execution_count": null,
   "metadata": {},
   "outputs": [],
   "source": [
    "len(itog_titles)"
   ]
  },
  {
   "cell_type": "code",
   "execution_count": null,
   "metadata": {
    "scrolled": true
   },
   "outputs": [],
   "source": [
    "%%time\n",
    "itog_news = MRDownloader(itog_titles[600000:], 10, parser_function=get_tass_news)"
   ]
  },
  {
   "cell_type": "code",
   "execution_count": null,
   "metadata": {},
   "outputs": [],
   "source": [
    "len(itog_news)"
   ]
  },
  {
   "cell_type": "code",
   "execution_count": null,
   "metadata": {},
   "outputs": [],
   "source": [
    "itog_news = [itog for itog in itog_news if len(itog.keys()) != 0 ]\n",
    "len(itog_news)"
   ]
  },
  {
   "cell_type": "code",
   "execution_count": null,
   "metadata": {},
   "outputs": [],
   "source": [
    "pd.DataFrame(itog_news).head()"
   ]
  },
  {
   "cell_type": "code",
   "execution_count": null,
   "metadata": {},
   "outputs": [],
   "source": [
    "with open('newest_news_data/tass_news_7.pickle', 'wb') as f:\n",
    "    pickle.dump(itog_news, f)"
   ]
  },
  {
   "cell_type": "markdown",
   "metadata": {},
   "source": [
    "## 4. Парсер Ведомостей\n",
    "\n",
    "* Архив с 1999 года, мы качаем с 1 января 2009 года "
   ]
  },
  {
   "cell_type": "code",
   "execution_count": 15,
   "metadata": {},
   "outputs": [],
   "source": [
    "# Функция для скачки новостей по конкретной дате \n",
    "def news_data_get(year,month,day):\n",
    "    if len(str(day)) < 2:\n",
    "        day = '0' + str(day)\n",
    "        \n",
    "    if len(str(month)) < 2:\n",
    "        month = '0' + str(month)\n",
    "        \n",
    "    mainpage = 'https://www.vedomosti.ru/archive/{}/{}/{}'.format(year, month, day)\n",
    "    response = requests.get(mainpage)\n",
    "    html = response.content\n",
    "    soup = BeautifulSoup(html,'html.parser')\n",
    "    all_news = soup.find('ul',{'class':'b-subrubric__items'})\n",
    "    return all_news.find_all('li', {'class' : \"b-article b-article_list\"})\n",
    "\n",
    "# Функция по переработке отдельной новости в словарик\n",
    "def news_to_df(news):\n",
    "    new = { }\n",
    "    dt = news.find('time', {'class' : \"date\"}).get('datetime').split(' ')\n",
    "    new['date'] = dt[0]\n",
    "    new['time'] = dt[1]\n",
    "    th = news.find('div', {'class' : 'b-article__title'}).a\n",
    "    new['title'] = th.text\n",
    "    new['href'] = th.get('href')\n",
    "    return new"
   ]
  },
  {
   "cell_type": "code",
   "execution_count": null,
   "metadata": {},
   "outputs": [],
   "source": [
    "# Финальные циклы \n",
    "years = list(range(2009,2018))   # цикл пойдёт по годам и по рубрикам \n",
    "\n",
    "itog_titles = [ ]\n",
    "for yr in tqdm_notebook(years, desc='Years'):\n",
    "    for date in tqdm_notebook(days_of_year(yr), desc='Days'):\n",
    "        try:\n",
    "            all_news = news_data_get(date[0],date[1],date[2])\n",
    "            for new in all_news:\n",
    "                cur_df = news_to_df(new)\n",
    "                cur_df['year'] = date[0] \n",
    "                cur_df['month'] = date[1]\n",
    "                cur_df['day'] = date[2]\n",
    "                itog_titles.append(cur_df)\n",
    "        except:\n",
    "            print('https://www.vedomosti.ru/archive/{}/{}/{}'.format(date[0], date[1], date[2]))"
   ]
  },
  {
   "cell_type": "code",
   "execution_count": 16,
   "metadata": {},
   "outputs": [],
   "source": [
    "# with open('newest_news_data/vedomosty_titles.pickle', 'wb') as f:\n",
    "#     pickle.dump(itog_titles, f)\n",
    "\n",
    "with open('newest_news_data/vedomosty_titles.pickle', 'rb') as f:\n",
    "    itog_titles = pickle.load(f)"
   ]
  },
  {
   "cell_type": "code",
   "execution_count": 17,
   "metadata": {},
   "outputs": [
    {
     "name": "stdout",
     "output_type": "stream",
     "text": [
      "(355530, 7)\n"
     ]
    },
    {
     "data": {
      "text/html": [
       "<div>\n",
       "<style scoped>\n",
       "    .dataframe tbody tr th:only-of-type {\n",
       "        vertical-align: middle;\n",
       "    }\n",
       "\n",
       "    .dataframe tbody tr th {\n",
       "        vertical-align: top;\n",
       "    }\n",
       "\n",
       "    .dataframe thead th {\n",
       "        text-align: right;\n",
       "    }\n",
       "</style>\n",
       "<table border=\"1\" class=\"dataframe\">\n",
       "  <thead>\n",
       "    <tr style=\"text-align: right;\">\n",
       "      <th></th>\n",
       "      <th>date</th>\n",
       "      <th>day</th>\n",
       "      <th>href</th>\n",
       "      <th>month</th>\n",
       "      <th>time</th>\n",
       "      <th>title</th>\n",
       "      <th>year</th>\n",
       "    </tr>\n",
       "  </thead>\n",
       "  <tbody>\n",
       "    <tr>\n",
       "      <th>0</th>\n",
       "      <td>2009-01-05</td>\n",
       "      <td>5</td>\n",
       "      <td>/library/articles/2009/01/05/gazprom-sokratit-...</td>\n",
       "      <td>1</td>\n",
       "      <td>22:20:27</td>\n",
       "      <td>\\n                    \"Газпром\" сократит транз...</td>\n",
       "      <td>2009</td>\n",
       "    </tr>\n",
       "    <tr>\n",
       "      <th>1</th>\n",
       "      <td>2009-01-05</td>\n",
       "      <td>5</td>\n",
       "      <td>/library/news/2009/01/05/naftogaz-ukrainy-zove...</td>\n",
       "      <td>1</td>\n",
       "      <td>20:07:54</td>\n",
       "      <td>\\n                    \"Нафтогаз Украины\" зовет...</td>\n",
       "      <td>2009</td>\n",
       "    </tr>\n",
       "    <tr>\n",
       "      <th>2</th>\n",
       "      <td>2009-01-05</td>\n",
       "      <td>5</td>\n",
       "      <td>/library/news/2009/01/05/gazprom-schitaet-prav...</td>\n",
       "      <td>1</td>\n",
       "      <td>17:24:56</td>\n",
       "      <td>\\n                    \"Газпром\" считает правил...</td>\n",
       "      <td>2009</td>\n",
       "    </tr>\n",
       "    <tr>\n",
       "      <th>3</th>\n",
       "      <td>2009-01-05</td>\n",
       "      <td>5</td>\n",
       "      <td>/library/news/2009/01/05/naftogaz-schitaet-nea...</td>\n",
       "      <td>1</td>\n",
       "      <td>14:32:00</td>\n",
       "      <td>\\n                    \"Нафтогаз\" считает неаде...</td>\n",
       "      <td>2009</td>\n",
       "    </tr>\n",
       "    <tr>\n",
       "      <th>4</th>\n",
       "      <td>2009-01-05</td>\n",
       "      <td>5</td>\n",
       "      <td>/library/news/2009/01/05/jestonskij-sud-opravd...</td>\n",
       "      <td>1</td>\n",
       "      <td>12:42:00</td>\n",
       "      <td>\\n                    Эстонский суд оправдал з...</td>\n",
       "      <td>2009</td>\n",
       "    </tr>\n",
       "  </tbody>\n",
       "</table>\n",
       "</div>"
      ],
      "text/plain": [
       "         date  day                                               href  month  \\\n",
       "0  2009-01-05    5  /library/articles/2009/01/05/gazprom-sokratit-...      1   \n",
       "1  2009-01-05    5  /library/news/2009/01/05/naftogaz-ukrainy-zove...      1   \n",
       "2  2009-01-05    5  /library/news/2009/01/05/gazprom-schitaet-prav...      1   \n",
       "3  2009-01-05    5  /library/news/2009/01/05/naftogaz-schitaet-nea...      1   \n",
       "4  2009-01-05    5  /library/news/2009/01/05/jestonskij-sud-opravd...      1   \n",
       "\n",
       "       time                                              title  year  \n",
       "0  22:20:27  \\n                    \"Газпром\" сократит транз...  2009  \n",
       "1  20:07:54  \\n                    \"Нафтогаз Украины\" зовет...  2009  \n",
       "2  17:24:56  \\n                    \"Газпром\" считает правил...  2009  \n",
       "3  14:32:00  \\n                    \"Нафтогаз\" считает неаде...  2009  \n",
       "4  12:42:00  \\n                    Эстонский суд оправдал з...  2009  "
      ]
     },
     "execution_count": 17,
     "metadata": {},
     "output_type": "execute_result"
    }
   ],
   "source": [
    "df = pd.DataFrame(itog_titles)\n",
    "print(df.shape)\n",
    "df.head()"
   ]
  },
  {
   "cell_type": "code",
   "execution_count": 18,
   "metadata": {},
   "outputs": [
    {
     "name": "stdout",
     "output_type": "stream",
     "text": [
      "https://www.vedomosti.ru/library/news/2009/01/06/naftogaz-otricaet-obvineniya-v-vorovstve-gaza\n"
     ]
    }
   ],
   "source": [
    "print('https://www.vedomosti.ru' + itog_titles[10]['href'])"
   ]
  },
  {
   "cell_type": "code",
   "execution_count": 19,
   "metadata": {},
   "outputs": [],
   "source": [
    "# Функция, которая забирает текст по конкретной статье и добавляет её в итоговый массив \n",
    "def get_vedomosty_news(item_from_vect):\n",
    "    url = 'https://www.vedomosti.ru' + item_from_vect['href']\n",
    "    response = requests.get(url)\n",
    "    html = response.content\n",
    "    soup = BeautifulSoup(html,'html.parser')\n",
    "    try:\n",
    "        try:\n",
    "            article = soup.find('div', {'class' : \"b-news-item__wrapper\"})\n",
    "            text = ' '.join([art.text for art in article.find_all('p')])\n",
    "            item_from_vect['text'] = text\n",
    "            return item_from_vect\n",
    "        except:\n",
    "            article = soup.find('article', {'class' : \"js-mediator-article io-article-body\"})\n",
    "            text =  ' '.join([art.text for art in article.find_all('p')])\n",
    "            item_from_vect['text'] = text\n",
    "            return item_from_vect            \n",
    "    except:\n",
    "        print(url)\n",
    "        return { }"
   ]
  },
  {
   "cell_type": "code",
   "execution_count": null,
   "metadata": {},
   "outputs": [],
   "source": [
    "itog_news = [ ]\n",
    "for nw in tqdm_notebook(itog_titles[200000:210000]):\n",
    "    itog_news.append(get_vedomosty_news(nw))"
   ]
  },
  {
   "cell_type": "code",
   "execution_count": 20,
   "metadata": {},
   "outputs": [
    {
     "name": "stdout",
     "output_type": "stream",
     "text": [
      "https://www.vedomosti.ru/opinion/articles/2015/06/24/597712-perepisat-obschestvennii-dogovor\n",
      "https://www.vedomosti.ru/politics/news/2015/11/25/618258-tunise-chp\n",
      "https://www.vedomosti.ru/politics/news/2016/03/16/633750-kerri-kreml-vks\n",
      "https://www.vedomosti.ru/newspaper/articles/2015/06/23/597706-tendentsii-tsifri\n",
      "https://www.vedomosti.ru/economics/articles/2015/06/24/597705-yaponiya-reshit-problemu-ogromnogo-gosdolga-za-schet-uskoreniya-rosta-s-pomoschyu-reform\n",
      "https://www.vedomosti.ru/politics/news/2016/03/16/633748-amerikanskuyu-pomosch-ukraine\n",
      "https://www.vedomosti.ru/auto/galleries/2015/11/25/618248-nachalis-prodazhi-vesta\n",
      "https://www.vedomosti.ru/lifestyle/articles/2016/05/12/640828-angliiskaya-karikatura\n",
      "https://www.vedomosti.ru/lifestyle/articles/2016/05/12/640827-spektakl-tirani\n",
      "https://www.vedomosti.ru/business/news/2015/10/05/611475-moodys-transaero\n",
      "https://www.vedomosti.ru/business/articles/2015/08/14/604805-inventive-retail-group-zapuskaet-novuyu-set-magazinov\n",
      "https://www.vedomosti.ru/newspaper/articles/2015/08/13/604803-vkrattse\n",
      "https://www.vedomosti.ru/business/articles/2015/11/27/618629-yuteir-ostanetsya-neftyanikov\n",
      "https://www.vedomosti.ru/politics/articles/2015/08/17/604973-regionalnaya-politsiya-ne-mozhet-nakazivat-shumnih-sosedei\n",
      "https://www.vedomosti.ru/business/news/2016/03/19/634271-mintrans-aeroport\n",
      "https://www.vedomosti.ru/business/news/2015/10/07/611808-nordgold-buyback\n",
      "https://www.vedomosti.ru/opinion/articles/2015/06/26/598084-papa-o-klimate\n",
      "https://www.vedomosti.ru/opinion/articles/2015/06/26/598083-zheleznii-feliks-kak-zerkalo-rossiiskoi-demokratii\n",
      "https://www.vedomosti.ru/technology/articles/2015/10/07/611757-amerikanskie-kompanii-bolshe-smogut-hranit-dannie-evropeiskih-polzovatelei\n",
      "https://www.vedomosti.ru/finance/news/2015/08/17/605112-credit-suisse-otsenil-strahovie-ubitki\n",
      "https://www.vedomosti.ru/politics/articles/2016/07/08/648452-putin-pravozaschitnikam\n",
      "https://www.vedomosti.ru/business/news/2015/06/25/598028-kapello-hochet-prodolzhit-rabotu-trenerom-sbornoi-rossii-po-futbolu\n",
      "https://www.vedomosti.ru/business/news/2015/11/29/618792-anons-vedomostei-na-30-noyabrya-2015-g\n",
      "https://www.vedomosti.ru/finance/news/2016/01/26/625496-privatizirovat-banki-pod-sanktsiyami-tyazhelo\n",
      "https://www.vedomosti.ru/newspaper/articles/2015/10/07/611752-popravki\n",
      "https://www.vedomosti.ru/technology/online/2016/03/21/634464-apple-novii-iphone-ipad\n",
      "https://www.vedomosti.ru/lifestyle/articles/2015/08/20/605470-mami-tantsa-otkrili-festival-berline\n",
      "https://www.vedomosti.ru/newspaper/articles/2016/07/12/648823-pisma\n",
      "https://www.vedomosti.ru/newspaper/articles/2015/06/29/598537-tendentsii-tsifri\n",
      "https://www.vedomosti.ru/realty/articles/2015/08/21/605672-yulmart-vibral-podryadchika-stroitelstva-raspredelitelnogo-tsentra\n",
      "https://www.vedomosti.ru/politics/news/2015/12/02/619301-peskov\n",
      "https://www.vedomosti.ru/finance/news/2015/10/12/612434-nota-bank\n",
      "https://www.vedomosti.ru/realty/articles/2016/03/23/634722-tgk-1\n",
      "https://www.vedomosti.ru/politics/news/2015/12/02/619300-deputat-gosdumi-bankrotom\n",
      "https://www.vedomosti.ru/management/news/2016/04/04/636349-vtsiom-rossiyan-napryazhennost-raboti\n",
      "https://www.vedomosti.ru/business/news/2016/02/10/628333-kollaps-shabolovskaya\n",
      "https://www.vedomosti.ru/business/articles/2015/09/04/607496-transaero-mozhet-ostatsya-bez-biletov\n",
      "https://www.vedomosti.ru/newspaper/articles/2015/09/03/607495-vkrattse\n",
      "https://www.vedomosti.ru/newspaper/articles/2015/09/03/607494-muzikantov-poprosili-otchitatsya-o-dohodah\n",
      "https://www.vedomosti.ru/politics/news/2016/04/06/636700-tuleev-kollektorov\n",
      "https://www.vedomosti.ru/politics/news/2015/10/24/614169-rassledovanie-dela-krasnogorskogo-strelka-budet-prodolzheno\n",
      "https://www.vedomosti.ru/technology/news/2015/12/15/621017-laboratoriya-apple-taivane\n",
      "https://www.vedomosti.ru/politics/news/2016/04/06/636629-zakonoproekti-natsgvardii\n",
      "https://www.vedomosti.ru/management/video/2016/02/11/628511-kak-delat-biznes-v-usloviyah-neopredelennosti\n",
      "https://www.vedomosti.ru/economics/articles/2015/07/13/600264-minfin-predlagaet-ogranichit-rashodi-na-zhile-i-mashini-chinovnikov\n",
      "https://www.vedomosti.ru/newspaper/articles/2015/07/13/600263-slova\n",
      "https://www.vedomosti.ru/newspaper/articles/2015/10/25/614229-kodeks-krizisa\n",
      "https://www.vedomosti.ru/newspaper/articles/2016/04/07/636922-vkrattse\n",
      "https://www.vedomosti.ru/politics/articles/2015/07/13/600262-uganda-planiruet-zakupit-rossiiskoe-oruzhie-na-740-mln\n",
      "https://www.vedomosti.ru/finance/news/2016/06/02/643380-na-otkritii\n",
      "https://www.vedomosti.ru/business/news/2016/02/12/629116-suek\n",
      "https://www.vedomosti.ru/realty/news/2015/09/03/607383-moskva-vnov-sdaet-v-arendu-znamenitii-restoran-zolotoi-kolos-na-vdnh\n",
      "https://www.vedomosti.ru/newspaper/articles/2015/07/15/600625-dengi-utekayut-iz-efira\n",
      "https://www.vedomosti.ru/newspaper/articles/2015/07/15/600624-vkrattse\n",
      "https://www.vedomosti.ru/politics/news/2016/08/01/651242-rossiiskogo-pilota-otpustili\n",
      "https://www.vedomosti.ru/finance/articles/2016/08/03/651514-tsb-povisil-trebovaniya-sostavu-kapitala-npf\n",
      "https://www.vedomosti.ru/finance/articles/2016/08/03/651512-asv-vibralo-dve-treti-kreditnoi-linii-tsb\n",
      "https://www.vedomosti.ru/technology/news/2016/06/07/643886-qrator-labs-runet\n",
      "https://www.vedomosti.ru/politics/news/2016/06/07/643885-vzriva-orenburge\n",
      "https://www.vedomosti.ru/politics/news/2016/06/07/643884-aktobe-13-boevikov\n",
      "https://www.vedomosti.ru/business/news/2016/06/07/643883-minekonomiki-razdela-chechenneftehimproma\n",
      "https://www.vedomosti.ru/technology/news/2016/04/11/637176-shtraf-fas-google\n",
      "https://www.vedomosti.ru/lifestyle/galleries/2015/07/17/601055-afisha-na-vihodnie-chempionat-mira-po-fehtovaniyu-ralli-retro-avtomobilei-i-nestandartnii-supergeroi-chelovek-muravei\n",
      "https://www.vedomosti.ru/finance/galleries/2016/04/12/637369-kupyurami-nominalom-200-2000\n",
      "https://www.vedomosti.ru/finance/articles/2016/02/18/630135-tsb-poobeschal-poblazhki-dlya-inostrannih-investorov-vladeltsev-aktsii-rossiiskih-emitentov\n",
      "https://www.vedomosti.ru/politics/news/2016/08/03/651609-desyat-passazhirov\n",
      "https://www.vedomosti.ru/technology/news/2016/06/08/644557-zapusk-protona-perenesli\n",
      "https://www.vedomosti.ru/newspaper/articles/2016/02/17/630131-vkrattse\n",
      "https://www.vedomosti.ru/business/articles/2016/02/18/630130-vitalii-yusufov-prodaet-nordic-yards\n",
      "https://www.vedomosti.ru/politics/news/2016/06/08/644555-taliban-pohitil\n",
      "https://www.vedomosti.ru/politics/online/2016/04/14/637684-pryamaya-liniya\n"
     ]
    },
    {
     "ename": "KeyboardInterrupt",
     "evalue": "",
     "output_type": "error",
     "traceback": [
      "\u001b[0;31m---------------------------------------------------------------------------\u001b[0m",
      "\u001b[0;31mKeyboardInterrupt\u001b[0m                         Traceback (most recent call last)",
      "\u001b[0;32m<timed exec>\u001b[0m in \u001b[0;36m<module>\u001b[0;34m()\u001b[0m\n",
      "\u001b[0;32m<ipython-input-4-cc27242a8e72>\u001b[0m in \u001b[0;36mMRDownloader\u001b[0;34m(what, parts, parser_function)\u001b[0m\n\u001b[1;32m     29\u001b[0m     \u001b[0;31m# Скачиваем\u001b[0m\u001b[0;34m\u001b[0m\u001b[0;34m\u001b[0m\u001b[0m\n\u001b[1;32m     30\u001b[0m     \u001b[0mpool\u001b[0m \u001b[0;34m=\u001b[0m \u001b[0mThreadPool\u001b[0m\u001b[0;34m(\u001b[0m\u001b[0mparts\u001b[0m\u001b[0;34m)\u001b[0m\u001b[0;34m\u001b[0m\u001b[0m\n\u001b[0;32m---> 31\u001b[0;31m     \u001b[0ml\u001b[0m \u001b[0;34m=\u001b[0m \u001b[0mpool\u001b[0m\u001b[0;34m.\u001b[0m\u001b[0mmap\u001b[0m\u001b[0;34m(\u001b[0m\u001b[0mMp\u001b[0m\u001b[0;34m,\u001b[0m \u001b[0mseparatorlist\u001b[0m\u001b[0;34m)\u001b[0m\u001b[0;34m\u001b[0m\u001b[0m\n\u001b[0m\u001b[1;32m     32\u001b[0m     \u001b[0;31m# Reduce - шаг\u001b[0m\u001b[0;34m\u001b[0m\u001b[0;34m\u001b[0m\u001b[0m\n\u001b[1;32m     33\u001b[0m     \u001b[0mitog\u001b[0m \u001b[0;34m=\u001b[0m \u001b[0mReduce\u001b[0m\u001b[0;34m(\u001b[0m\u001b[0ml\u001b[0m\u001b[0;34m)\u001b[0m\u001b[0;34m\u001b[0m\u001b[0m\n",
      "\u001b[0;32m/usr/local/Cellar/python3/3.6.3/Frameworks/Python.framework/Versions/3.6/lib/python3.6/multiprocessing/pool.py\u001b[0m in \u001b[0;36mmap\u001b[0;34m(self, func, iterable, chunksize)\u001b[0m\n\u001b[1;32m    264\u001b[0m         \u001b[0;32min\u001b[0m \u001b[0ma\u001b[0m \u001b[0mlist\u001b[0m \u001b[0mthat\u001b[0m \u001b[0;32mis\u001b[0m \u001b[0mreturned\u001b[0m\u001b[0;34m.\u001b[0m\u001b[0;34m\u001b[0m\u001b[0m\n\u001b[1;32m    265\u001b[0m         '''\n\u001b[0;32m--> 266\u001b[0;31m         \u001b[0;32mreturn\u001b[0m \u001b[0mself\u001b[0m\u001b[0;34m.\u001b[0m\u001b[0m_map_async\u001b[0m\u001b[0;34m(\u001b[0m\u001b[0mfunc\u001b[0m\u001b[0;34m,\u001b[0m \u001b[0miterable\u001b[0m\u001b[0;34m,\u001b[0m \u001b[0mmapstar\u001b[0m\u001b[0;34m,\u001b[0m \u001b[0mchunksize\u001b[0m\u001b[0;34m)\u001b[0m\u001b[0;34m.\u001b[0m\u001b[0mget\u001b[0m\u001b[0;34m(\u001b[0m\u001b[0;34m)\u001b[0m\u001b[0;34m\u001b[0m\u001b[0m\n\u001b[0m\u001b[1;32m    267\u001b[0m \u001b[0;34m\u001b[0m\u001b[0m\n\u001b[1;32m    268\u001b[0m     \u001b[0;32mdef\u001b[0m \u001b[0mstarmap\u001b[0m\u001b[0;34m(\u001b[0m\u001b[0mself\u001b[0m\u001b[0;34m,\u001b[0m \u001b[0mfunc\u001b[0m\u001b[0;34m,\u001b[0m \u001b[0miterable\u001b[0m\u001b[0;34m,\u001b[0m \u001b[0mchunksize\u001b[0m\u001b[0;34m=\u001b[0m\u001b[0;32mNone\u001b[0m\u001b[0;34m)\u001b[0m\u001b[0;34m:\u001b[0m\u001b[0;34m\u001b[0m\u001b[0m\n",
      "\u001b[0;32m/usr/local/Cellar/python3/3.6.3/Frameworks/Python.framework/Versions/3.6/lib/python3.6/multiprocessing/pool.py\u001b[0m in \u001b[0;36mget\u001b[0;34m(self, timeout)\u001b[0m\n\u001b[1;32m    636\u001b[0m \u001b[0;34m\u001b[0m\u001b[0m\n\u001b[1;32m    637\u001b[0m     \u001b[0;32mdef\u001b[0m \u001b[0mget\u001b[0m\u001b[0;34m(\u001b[0m\u001b[0mself\u001b[0m\u001b[0;34m,\u001b[0m \u001b[0mtimeout\u001b[0m\u001b[0;34m=\u001b[0m\u001b[0;32mNone\u001b[0m\u001b[0;34m)\u001b[0m\u001b[0;34m:\u001b[0m\u001b[0;34m\u001b[0m\u001b[0m\n\u001b[0;32m--> 638\u001b[0;31m         \u001b[0mself\u001b[0m\u001b[0;34m.\u001b[0m\u001b[0mwait\u001b[0m\u001b[0;34m(\u001b[0m\u001b[0mtimeout\u001b[0m\u001b[0;34m)\u001b[0m\u001b[0;34m\u001b[0m\u001b[0m\n\u001b[0m\u001b[1;32m    639\u001b[0m         \u001b[0;32mif\u001b[0m \u001b[0;32mnot\u001b[0m \u001b[0mself\u001b[0m\u001b[0;34m.\u001b[0m\u001b[0mready\u001b[0m\u001b[0;34m(\u001b[0m\u001b[0;34m)\u001b[0m\u001b[0;34m:\u001b[0m\u001b[0;34m\u001b[0m\u001b[0m\n\u001b[1;32m    640\u001b[0m             \u001b[0;32mraise\u001b[0m \u001b[0mTimeoutError\u001b[0m\u001b[0;34m\u001b[0m\u001b[0m\n",
      "\u001b[0;32m/usr/local/Cellar/python3/3.6.3/Frameworks/Python.framework/Versions/3.6/lib/python3.6/multiprocessing/pool.py\u001b[0m in \u001b[0;36mwait\u001b[0;34m(self, timeout)\u001b[0m\n\u001b[1;32m    633\u001b[0m \u001b[0;34m\u001b[0m\u001b[0m\n\u001b[1;32m    634\u001b[0m     \u001b[0;32mdef\u001b[0m \u001b[0mwait\u001b[0m\u001b[0;34m(\u001b[0m\u001b[0mself\u001b[0m\u001b[0;34m,\u001b[0m \u001b[0mtimeout\u001b[0m\u001b[0;34m=\u001b[0m\u001b[0;32mNone\u001b[0m\u001b[0;34m)\u001b[0m\u001b[0;34m:\u001b[0m\u001b[0;34m\u001b[0m\u001b[0m\n\u001b[0;32m--> 635\u001b[0;31m         \u001b[0mself\u001b[0m\u001b[0;34m.\u001b[0m\u001b[0m_event\u001b[0m\u001b[0;34m.\u001b[0m\u001b[0mwait\u001b[0m\u001b[0;34m(\u001b[0m\u001b[0mtimeout\u001b[0m\u001b[0;34m)\u001b[0m\u001b[0;34m\u001b[0m\u001b[0m\n\u001b[0m\u001b[1;32m    636\u001b[0m \u001b[0;34m\u001b[0m\u001b[0m\n\u001b[1;32m    637\u001b[0m     \u001b[0;32mdef\u001b[0m \u001b[0mget\u001b[0m\u001b[0;34m(\u001b[0m\u001b[0mself\u001b[0m\u001b[0;34m,\u001b[0m \u001b[0mtimeout\u001b[0m\u001b[0;34m=\u001b[0m\u001b[0;32mNone\u001b[0m\u001b[0;34m)\u001b[0m\u001b[0;34m:\u001b[0m\u001b[0;34m\u001b[0m\u001b[0m\n",
      "\u001b[0;32m/usr/local/Cellar/python3/3.6.3/Frameworks/Python.framework/Versions/3.6/lib/python3.6/threading.py\u001b[0m in \u001b[0;36mwait\u001b[0;34m(self, timeout)\u001b[0m\n\u001b[1;32m    549\u001b[0m             \u001b[0msignaled\u001b[0m \u001b[0;34m=\u001b[0m \u001b[0mself\u001b[0m\u001b[0;34m.\u001b[0m\u001b[0m_flag\u001b[0m\u001b[0;34m\u001b[0m\u001b[0m\n\u001b[1;32m    550\u001b[0m             \u001b[0;32mif\u001b[0m \u001b[0;32mnot\u001b[0m \u001b[0msignaled\u001b[0m\u001b[0;34m:\u001b[0m\u001b[0;34m\u001b[0m\u001b[0m\n\u001b[0;32m--> 551\u001b[0;31m                 \u001b[0msignaled\u001b[0m \u001b[0;34m=\u001b[0m \u001b[0mself\u001b[0m\u001b[0;34m.\u001b[0m\u001b[0m_cond\u001b[0m\u001b[0;34m.\u001b[0m\u001b[0mwait\u001b[0m\u001b[0;34m(\u001b[0m\u001b[0mtimeout\u001b[0m\u001b[0;34m)\u001b[0m\u001b[0;34m\u001b[0m\u001b[0m\n\u001b[0m\u001b[1;32m    552\u001b[0m             \u001b[0;32mreturn\u001b[0m \u001b[0msignaled\u001b[0m\u001b[0;34m\u001b[0m\u001b[0m\n\u001b[1;32m    553\u001b[0m \u001b[0;34m\u001b[0m\u001b[0m\n",
      "\u001b[0;32m/usr/local/Cellar/python3/3.6.3/Frameworks/Python.framework/Versions/3.6/lib/python3.6/threading.py\u001b[0m in \u001b[0;36mwait\u001b[0;34m(self, timeout)\u001b[0m\n\u001b[1;32m    293\u001b[0m         \u001b[0;32mtry\u001b[0m\u001b[0;34m:\u001b[0m    \u001b[0;31m# restore state no matter what (e.g., KeyboardInterrupt)\u001b[0m\u001b[0;34m\u001b[0m\u001b[0m\n\u001b[1;32m    294\u001b[0m             \u001b[0;32mif\u001b[0m \u001b[0mtimeout\u001b[0m \u001b[0;32mis\u001b[0m \u001b[0;32mNone\u001b[0m\u001b[0;34m:\u001b[0m\u001b[0;34m\u001b[0m\u001b[0m\n\u001b[0;32m--> 295\u001b[0;31m                 \u001b[0mwaiter\u001b[0m\u001b[0;34m.\u001b[0m\u001b[0macquire\u001b[0m\u001b[0;34m(\u001b[0m\u001b[0;34m)\u001b[0m\u001b[0;34m\u001b[0m\u001b[0m\n\u001b[0m\u001b[1;32m    296\u001b[0m                 \u001b[0mgotit\u001b[0m \u001b[0;34m=\u001b[0m \u001b[0;32mTrue\u001b[0m\u001b[0;34m\u001b[0m\u001b[0m\n\u001b[1;32m    297\u001b[0m             \u001b[0;32melse\u001b[0m\u001b[0;34m:\u001b[0m\u001b[0;34m\u001b[0m\u001b[0m\n",
      "\u001b[0;31mKeyboardInterrupt\u001b[0m: "
     ]
    }
   ],
   "source": [
    "%%time\n",
    "# не качад 220000 : 250000\n",
    "itog_news = MRDownloader(itog_titles[250000:300000], 8, parser_function=get_vedomosty_news)\n",
    "len(itog_news) "
   ]
  },
  {
   "cell_type": "code",
   "execution_count": null,
   "metadata": {},
   "outputs": [],
   "source": [
    "len(itog_news)"
   ]
  },
  {
   "cell_type": "code",
   "execution_count": null,
   "metadata": {},
   "outputs": [],
   "source": [
    "a = [ ]\n",
    "for itog in tqdm_notebook(itog_news):\n",
    "    try:\n",
    "        if len(itog.keys()) != 0:\n",
    "            a.append(itog)\n",
    "    except:\n",
    "        print(itog)"
   ]
  },
  {
   "cell_type": "code",
   "execution_count": null,
   "metadata": {},
   "outputs": [],
   "source": [
    "len(a)"
   ]
  },
  {
   "cell_type": "code",
   "execution_count": null,
   "metadata": {},
   "outputs": [],
   "source": [
    "pd.DataFrame(a).head()"
   ]
  },
  {
   "cell_type": "code",
   "execution_count": null,
   "metadata": {},
   "outputs": [],
   "source": [
    "with open('newest_news_data/vedomosty_news_2_1.pickle', 'wb') as f:\n",
    "    pickle.dump(a, f)"
   ]
  },
  {
   "cell_type": "markdown",
   "metadata": {},
   "source": [
    "## 5. Парсер РИА Новости"
   ]
  },
  {
   "cell_type": "code",
   "execution_count": null,
   "metadata": {},
   "outputs": [],
   "source": []
  },
  {
   "cell_type": "code",
   "execution_count": null,
   "metadata": {},
   "outputs": [],
   "source": []
  }
 ],
 "metadata": {
  "kernelspec": {
   "display_name": "Python 3",
   "language": "python",
   "name": "python3"
  },
  "language_info": {
   "codemirror_mode": {
    "name": "ipython",
    "version": 3
   },
   "file_extension": ".py",
   "mimetype": "text/x-python",
   "name": "python",
   "nbconvert_exporter": "python",
   "pygments_lexer": "ipython3",
   "version": "3.6.3"
  }
 },
 "nbformat": 4,
 "nbformat_minor": 2
}
