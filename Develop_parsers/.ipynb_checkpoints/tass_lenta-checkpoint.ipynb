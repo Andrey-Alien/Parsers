{
 "cells": [
  {
   "cell_type": "code",
   "execution_count": 1,
   "metadata": {
    "collapsed": true
   },
   "outputs": [],
   "source": [
    "import requests\n",
    "import numpy as np\n",
    "import datetime\n",
    "import re\n",
    "from bs4 import BeautifulSoup\n",
    "\n",
    "from multiprocessing import Pool\n",
    "\n",
    "import time\n",
    "import pandas as pd"
   ]
  },
  {
   "cell_type": "markdown",
   "metadata": {},
   "source": [
    "Все API-запросы к Тасс можно формировать следующим образом через обычный реквест: \n",
    "\n",
    "Если нужны вообще все новости:\n",
    "'http://tass.ru/api/news/lenta?limit=50&before=1488624568'\n",
    "\n",
    "Если нужны новости только из 25 раздела - экономика:\n",
    "'http://tass.ru/api/news/lenta?limit=200&sections%5B%5D=25&unmarked[]=1581998&before=1488624568'"
   ]
  },
  {
   "cell_type": "code",
   "execution_count": 2,
   "metadata": {
    "collapsed": true
   },
   "outputs": [],
   "source": [
    "# функция, которая крутит вниз ленту из новостей ТАСС\n",
    "def _lenta(before,limit=200):\n",
    "    mainpage = 'http://tass.ru/api/news/lenta?limit='+str(limit)+'&before='+str(before)\n",
    "    response = requests.get(mainpage)\n",
    "    dic = response.json()\n",
    "    df = dic['articles']\n",
    "    w =[[item['title'],item['time'],item['url'],item['is_breaking_news'],item['section']] for item in df]\n",
    "    return(w)    "
   ]
  },
  {
   "cell_type": "markdown",
   "metadata": {},
   "source": [
    "``` Что ещё можно достать нахаляву из df \n",
    "  {'audio': False,\n",
    "  'color': '2',\n",
    "  'flash': False,\n",
    "  'id': '4070830',\n",
    "  'is_breaking_news': False,\n",
    "  'is_online': False,\n",
    "  'live_text': False,\n",
    "  'marked': False,\n",
    "  'photos': False,\n",
    "  'search_queries': None,\n",
    "  'section': {'id': '25', 'title': 'Экономика и бизнес', 'url': '/ekonomika'},\n",
    "  'show_at_common_feed': True,\n",
    "  'show_at_section_feed': True,\n",
    "  'slideshow': False\n",
    "  'time': '1488624568',\n",
    "  'title': 'Глава ВТБ: курс доллара к концу года может достигнуть 61-62 рублей',\n",
    "  'topics': None,\n",
    "  'url': '/ekonomika/4070830',\n",
    "  'video': False}, ```"
   ]
  },
  {
   "cell_type": "code",
   "execution_count": 3,
   "metadata": {
    "collapsed": true
   },
   "outputs": [],
   "source": [
    "mainpage = \"http://tass.ru\"\n",
    "def getPage(url):\n",
    "    response = requests.get(mainpage+url)\n",
    "                                       # выгружает данные по ссылке\n",
    "    html = response.content            # переводит их в читаемый формат, который можно вывести на экран\n",
    "    soup = BeautifulSoup(html,\"lxml\")  # отсекает кучу всяких ненужных вещей и запускает поиск по тегам в html  \n",
    "    return soup"
   ]
  },
  {
   "cell_type": "code",
   "execution_count": 4,
   "metadata": {
    "collapsed": true
   },
   "outputs": [],
   "source": [
    "def html_stripper(text):\n",
    "    return re.sub('<[^<]+?>', '', str(text)) \n",
    "# очень крутые регулярные выражения - убирают все скобочки, тэги и прочую ерунду\n",
    "\n",
    "def PageContent(url):\n",
    "    a = getPage(url)\n",
    "    vvv = a.findAll(\"div\", { \"class\" : \"b-material-text__l js-mediator-article\" })\n",
    "    text = vvv[0].findAll('p')\n",
    "    textwp = [html_stripper(item) for item in text]\n",
    "    return(textwp)"
   ]
  },
  {
   "cell_type": "code",
   "execution_count": 44,
   "metadata": {
    "collapsed": false
   },
   "outputs": [],
   "source": [
    "# Функция для объединения абзацев в текст\n",
    "def Uniter(vect):\n",
    "    a = vect[0]\n",
    "    for item in vect[1:]:\n",
    "        a = a + item\n",
    "    return(a)\n",
    "\n",
    "# Функция берёт одну конкретную новость и узнаёт про неё кучу полезной информации\n",
    "def href_grab(unic_predata):\n",
    "    url = unic_predata[2]\n",
    "    \n",
    "    try:\n",
    "        precontent = PageContent(url)     # скачали контент страницы \n",
    "        count_abz = (len(precontent)) # посчитали количество абзацев\n",
    "        text = Uniter(precontent)  # слили абзацы в текст\n",
    "    except Exception:   # на Тасс обычно выскакивают ошибки на интервьюшках + ошибки из-за пустот (см. ниже)\n",
    "        count_abz = 'Error' \n",
    "        text = 'Error'\n",
    "\n",
    "    # Онормаливаем время\n",
    "    if unic_predata[1] == None:\n",
    "        new_time = 'Error'\n",
    "    else:\n",
    "        new_time = datetime.datetime.fromtimestamp(int(unic_predata[1])).strftime('%Y-%m-%d %H:%M:%S')\n",
    "        # Отметим, что время будет записано в формате string\n",
    "\n",
    "    # Блок для диагностики пустоты в куску с тематикой\n",
    "    if unic_predata[4]==False:\n",
    "        cur_id = 'Error'\n",
    "        cur_title= 'Error'\n",
    "    else:\n",
    "        cur_id = unic_predata[4]['id']\n",
    "        cur_title = unic_predata[4]['title']\n",
    "    \n",
    "    infa = [unic_predata[0],text,count_abz,new_time,unic_predata[2],unic_predata[3],cur_title,\\\n",
    "            cur_id]\n",
    "    #[заголовок, текст, число абзацев, время публикации, ссылка, срочная ли новость, название раздела,\n",
    "    # id раздела]\n",
    "    return(infa)"
   ]
  },
  {
   "cell_type": "markdown",
   "metadata": {},
   "source": [
    "Добавим немножечко параллельности в этот код. К сожелению, он будет состоять из двух кусков - линейный кусок, который листает вниз ленту новостей и собирает хрефы, заголовки и даты. Распаралеленный кусок берёт уже готовые хрефы и забирает по ним текст и прочую ерунду, которая находится непосредственно в самой по себе статье. Линейная часть делает 1 запрос на каждые 200 запросов нелинейной части. "
   ]
  },
  {
   "cell_type": "code",
   "execution_count": 45,
   "metadata": {
    "collapsed": false
   },
   "outputs": [],
   "source": [
    "# Линейная часть\n",
    "def Prevector_prepare(deep,start = 9999999999):\n",
    "    time = start\n",
    "    prevector = [ ]\n",
    "    \n",
    "    for i in range(deep):\n",
    "        current = _lenta(time)\n",
    "                \n",
    "        # Дополнительный модуль по выявлению нехватающей даты\n",
    "        i=1\n",
    "        while current[-i][1]==None:\n",
    "            i = i + 1\n",
    "        prevector.extend(current)\n",
    "        time=current[-i][1]\n",
    "        #prevector.extend(current[:(-i+1)]) # Чтобы не возникало повторений (их и так не будет! Балбес!)\n",
    "        #time = current[-1][1]\n",
    "    return(prevector)\n",
    "    \n",
    "# вектор prevector включает в себя все хрефы на статьи, их заголовки и ещё кое-какой бред"
   ]
  },
  {
   "cell_type": "code",
   "execution_count": 46,
   "metadata": {
    "collapsed": false
   },
   "outputs": [],
   "source": [
    "# Функция Map для нелинейной части. Она берёт какой-то вектор с данными и скачивает всю инфу по нему\n",
    "def Map(vect):\n",
    "    wect = [href_grab(item) for item in vect]\n",
    "    return(wect)\n",
    "\n",
    "# Функция Reduce для нелинейной части. Она берёт все результаты разных Map и объединяет их в единый вектор\n",
    "def Reduce(l):\n",
    "    ll = [ ]\n",
    "    for item in l:\n",
    "        ll.extend(item)\n",
    "    return(ll)\n",
    "\n",
    "# Функция, которая делит входной поток данных на несколько частей\n",
    "def Separator(vect,part):\n",
    "    n = len(vect)\n",
    "    vec_parts = [round(n/part)*i for i in range(part)]\n",
    "    vec_parts.append(n)\n",
    "    prereduce = [vect[vec_parts[i]:vec_parts[i+1]] for i in range(part)]\n",
    "    return(prereduce)\n",
    "\n",
    "# Тестер того коректным ли было разбиение (на всякий случай)\n",
    "def Test(begin,end):\n",
    "    m=[]\n",
    "    for item in end:\n",
    "        m.extend(item)\n",
    "    print(m==begin)"
   ]
  },
  {
   "cell_type": "code",
   "execution_count": 47,
   "metadata": {
    "collapsed": false
   },
   "outputs": [],
   "source": [
    "# Функция для выгрузки! Ура! Ура! Ура! \n",
    "def Kachatel(chto_kachat,chislo_potokov):\n",
    "    # Map-шаг. В скобках у Pool задаётся количество потоков для работы \n",
    "    separatorlist = Separator(chto_kachat,chislo_potokov)\n",
    "    Test(chto_kachat,separatorlist)\n",
    "    if __name__ == '__main__':\n",
    "        with Pool(chislo_potokov) as p:\n",
    "            l = p.map(Map, separatorlist)\n",
    "\n",
    "    # Reduce-шаг.\n",
    "    itog = Reduce(l)\n",
    "    return(itog)"
   ]
  },
  {
   "cell_type": "code",
   "execution_count": 9,
   "metadata": {
    "collapsed": false
   },
   "outputs": [
    {
     "name": "stdout",
     "output_type": "stream",
     "text": [
      "--- 1920.7053484916687 seconds ---\n"
     ]
    }
   ],
   "source": [
    "# Погнали скачивать. Делай раз - линейная часть.\n",
    "# Обязательный аргумент - глубина выкачки. Каждая дополнительная итерация это ещё 200 статей\n",
    "# Качнём для начала 20 000 статей. \n",
    "\n",
    "start_time = time.time() # время работы кода \n",
    "\n",
    "prevector = Prevector_prepare(1000)\n",
    "\n",
    "print(\"--- %s seconds ---\" % (time.time() - start_time))  #время работы кода"
   ]
  },
  {
   "cell_type": "markdown",
   "metadata": {},
   "source": [
    "Внимание! После Prevector_prepare(1,start=1471320873) будет ошибка, потому что prevector[-1] выдаёт\n",
    "\n",
    "```['Все вологодские лагеря проверят после отравления детей под Череповцом',\n",
    " None,\n",
    " None,\n",
    " False,\n",
    " False]```"
   ]
  },
  {
   "cell_type": "code",
   "execution_count": 53,
   "metadata": {
    "collapsed": false
   },
   "outputs": [
    {
     "name": "stdout",
     "output_type": "stream",
     "text": [
      "True\n",
      "--- 15945.872259140015 seconds ---\n"
     ]
    }
   ],
   "source": [
    "# Делай два - распаралеленная часть.\n",
    "# Ставим в аргументы вектор из линейной части и число потоков\n",
    "# Результаты тестирования времени и количества потоков: \n",
    "# 1000 статей 5 потоков по 200 - 219 секунд (около 4 минут)\n",
    "# 2000 статей 10 потоков по 200 -221 секунда\n",
    "# 2000 статей 20 потоков по 100 -160 секунд\n",
    "# 20000 статей 20 потоков по 1000 штук - 1526 секунд (около 25 минут)\n",
    "# 60000 cтатей 30 потоков              - 3467 секунд (2016-09-07)\n",
    "\n",
    "test_vector = prevector\n",
    "\n",
    "start_time = time.time() # время работы кода \n",
    "\n",
    "data_vector = Kachatel(test_vector,20)\n",
    "\n",
    "print(\"--- %s seconds ---\" % (time.time() - start_time))  #время работы кода"
   ]
  },
  {
   "cell_type": "code",
   "execution_count": 57,
   "metadata": {
    "collapsed": false
   },
   "outputs": [
    {
     "data": {
      "text/plain": [
       "['Документы о снятии с Ирана санкций опубликуют в США',\n",
       " '1445165027',\n",
       " '/mezhdunarodnaya-panorama/2356646',\n",
       " False,\n",
       " {'id': '22',\n",
       "  'title': 'Международная панорама',\n",
       "  'url': '/mezhdunarodnaya-panorama'}]"
      ]
     },
     "execution_count": 57,
     "metadata": {},
     "output_type": "execute_result"
    }
   ],
   "source": [
    "prevector[-1]"
   ]
  },
  {
   "cell_type": "code",
   "execution_count": null,
   "metadata": {
    "collapsed": false
   },
   "outputs": [],
   "source": [
    "1000*200"
   ]
  },
  {
   "cell_type": "code",
   "execution_count": null,
   "metadata": {
    "collapsed": false
   },
   "outputs": [],
   "source": [
    "1000000/20000*30/60"
   ]
  },
  {
   "cell_type": "code",
   "execution_count": null,
   "metadata": {
    "collapsed": false
   },
   "outputs": [],
   "source": [
    "1473255150"
   ]
  },
  {
   "cell_type": "code",
   "execution_count": 18,
   "metadata": {
    "collapsed": true
   },
   "outputs": [],
   "source": [
    "2015-10-18 13:43:47\n",
    "1445165027"
   ]
  },
  {
   "cell_type": "code",
   "execution_count": null,
   "metadata": {
    "collapsed": true
   },
   "outputs": [],
   "source": []
  },
  {
   "cell_type": "code",
   "execution_count": 54,
   "metadata": {
    "collapsed": false
   },
   "outputs": [
    {
     "data": {
      "text/html": [
       "<div>\n",
       "<table border=\"1\" class=\"dataframe\">\n",
       "  <thead>\n",
       "    <tr style=\"text-align: right;\">\n",
       "      <th></th>\n",
       "      <th>Заголовок</th>\n",
       "      <th>Текст</th>\n",
       "      <th>Количество абзацев</th>\n",
       "      <th>Дата</th>\n",
       "      <th>Ссылка</th>\n",
       "      <th>Срочность</th>\n",
       "      <th>Раздел</th>\n",
       "      <th>id Раздела</th>\n",
       "    </tr>\n",
       "  </thead>\n",
       "  <tbody>\n",
       "    <tr>\n",
       "      <th>199994</th>\n",
       "      <td>Болельщики ФК \"Спартак\" посвятили перформанс д...</td>\n",
       "      <td>МОСКВА, 18 октября. /Корр. ТАСС Олег Кошелев/....</td>\n",
       "      <td>4</td>\n",
       "      <td>2015-10-18 13:53:07</td>\n",
       "      <td>/sport/2356725</td>\n",
       "      <td>False</td>\n",
       "      <td>Спорт</td>\n",
       "      <td>2176</td>\n",
       "    </tr>\n",
       "    <tr>\n",
       "      <th>199995</th>\n",
       "      <td>Митинг в поддержку действий России в Сирии про...</td>\n",
       "      <td>НЬЮ-ДЕЛИ, 18 октября. /Корр. ТАСС Евгения Карм...</td>\n",
       "      <td>12</td>\n",
       "      <td>2015-10-18 13:52:33</td>\n",
       "      <td>/mezhdunarodnaya-panorama/2356714</td>\n",
       "      <td>False</td>\n",
       "      <td>Международная панорама</td>\n",
       "      <td>22</td>\n",
       "    </tr>\n",
       "    <tr>\n",
       "      <th>199996</th>\n",
       "      <td>Сборная Украины по футболу планирует сыграть с...</td>\n",
       "      <td>НЬОН /Швейцария/, 18 октября. /Спец. корр. ТАС...</td>\n",
       "      <td>8</td>\n",
       "      <td>2015-10-18 13:49:28</td>\n",
       "      <td>/sport/2356696</td>\n",
       "      <td>False</td>\n",
       "      <td>Спорт</td>\n",
       "      <td>2176</td>\n",
       "    </tr>\n",
       "    <tr>\n",
       "      <th>199997</th>\n",
       "      <td>Минобороны ДНР не фиксирует подготовку украинс...</td>\n",
       "      <td>МОСКВА, 18 октября. /ТАСС/. Министерство оборо...</td>\n",
       "      <td>8</td>\n",
       "      <td>2015-10-18 13:48:48</td>\n",
       "      <td>/mezhdunarodnaya-panorama/2356678</td>\n",
       "      <td>False</td>\n",
       "      <td>Международная панорама</td>\n",
       "      <td>22</td>\n",
       "    </tr>\n",
       "    <tr>\n",
       "      <th>199998</th>\n",
       "      <td>Документы о снятии с Ирана санкций опубликуют ...</td>\n",
       "      <td>ВАШИНГТОН, 18 октября. /Корр. ТАСС Антон Чудак...</td>\n",
       "      <td>14</td>\n",
       "      <td>2015-10-18 13:43:47</td>\n",
       "      <td>/mezhdunarodnaya-panorama/2356646</td>\n",
       "      <td>False</td>\n",
       "      <td>Международная панорама</td>\n",
       "      <td>22</td>\n",
       "    </tr>\n",
       "  </tbody>\n",
       "</table>\n",
       "</div>"
      ],
      "text/plain": [
       "                                                Заголовок  \\\n",
       "199994  Болельщики ФК \"Спартак\" посвятили перформанс д...   \n",
       "199995  Митинг в поддержку действий России в Сирии про...   \n",
       "199996  Сборная Украины по футболу планирует сыграть с...   \n",
       "199997  Минобороны ДНР не фиксирует подготовку украинс...   \n",
       "199998  Документы о снятии с Ирана санкций опубликуют ...   \n",
       "\n",
       "                                                    Текст Количество абзацев  \\\n",
       "199994  МОСКВА, 18 октября. /Корр. ТАСС Олег Кошелев/....                  4   \n",
       "199995  НЬЮ-ДЕЛИ, 18 октября. /Корр. ТАСС Евгения Карм...                 12   \n",
       "199996  НЬОН /Швейцария/, 18 октября. /Спец. корр. ТАС...                  8   \n",
       "199997  МОСКВА, 18 октября. /ТАСС/. Министерство оборо...                  8   \n",
       "199998  ВАШИНГТОН, 18 октября. /Корр. ТАСС Антон Чудак...                 14   \n",
       "\n",
       "                       Дата                             Ссылка Срочность  \\\n",
       "199994  2015-10-18 13:53:07                     /sport/2356725     False   \n",
       "199995  2015-10-18 13:52:33  /mezhdunarodnaya-panorama/2356714     False   \n",
       "199996  2015-10-18 13:49:28                     /sport/2356696     False   \n",
       "199997  2015-10-18 13:48:48  /mezhdunarodnaya-panorama/2356678     False   \n",
       "199998  2015-10-18 13:43:47  /mezhdunarodnaya-panorama/2356646     False   \n",
       "\n",
       "                        Раздел id Раздела  \n",
       "199994                   Спорт       2176  \n",
       "199995  Международная панорама         22  \n",
       "199996                   Спорт       2176  \n",
       "199997  Международная панорама         22  \n",
       "199998  Международная панорама         22  "
      ]
     },
     "execution_count": 54,
     "metadata": {},
     "output_type": "execute_result"
    }
   ],
   "source": [
    "data = pd.DataFrame(data_vector)\n",
    "data.columns = ['Заголовок','Текст','Количество абзацев','Дата','Ссылка','Срочность','Раздел','id Раздела']\n",
    "data.tail(5)"
   ]
  },
  {
   "cell_type": "code",
   "execution_count": 55,
   "metadata": {
    "collapsed": true
   },
   "outputs": [],
   "source": [
    "# Сохранение и загрузка dataframe\n",
    "data.to_csv('data.csv',sep=';',header=True)\n",
    "# frame = pd.read_csv('dataset.tsv', header=0, sep='\\t')"
   ]
  },
  {
   "cell_type": "code",
   "execution_count": 56,
   "metadata": {
    "collapsed": false
   },
   "outputs": [
    {
     "name": "stdout",
     "output_type": "stream",
     "text": [
      "<class 'pandas.core.frame.DataFrame'>\n",
      "RangeIndex: 199999 entries, 0 to 199998\n",
      "Data columns (total 8 columns):\n",
      "Заголовок             199999 non-null object\n",
      "Текст                 199999 non-null object\n",
      "Количество абзацев    199999 non-null object\n",
      "Дата                  199999 non-null object\n",
      "Ссылка                199997 non-null object\n",
      "Срочность             199999 non-null bool\n",
      "Раздел                199999 non-null object\n",
      "id Раздела            199999 non-null object\n",
      "dtypes: bool(1), object(7)\n",
      "memory usage: 10.9+ MB\n"
     ]
    }
   ],
   "source": [
    "data.info()"
   ]
  },
  {
   "cell_type": "code",
   "execution_count": null,
   "metadata": {
    "collapsed": false
   },
   "outputs": [],
   "source": [
    "np.mean(np.array(data['Абзацы']))"
   ]
  },
  {
   "cell_type": "code",
   "execution_count": null,
   "metadata": {
    "collapsed": true
   },
   "outputs": [],
   "source": []
  },
  {
   "cell_type": "code",
   "execution_count": null,
   "metadata": {
    "collapsed": false
   },
   "outputs": [],
   "source": [
    "data.dtypes"
   ]
  },
  {
   "cell_type": "code",
   "execution_count": null,
   "metadata": {
    "collapsed": false
   },
   "outputs": [],
   "source": [
    "#изменение типа столбца с помощью функции apply\n",
    "data['Новое Время'] = data['Новое Время'].apply(pd.to_datetime)\n",
    "data.dtypes"
   ]
  },
  {
   "cell_type": "code",
   "execution_count": null,
   "metadata": {
    "collapsed": false
   },
   "outputs": [],
   "source": [
    "ye = []\n",
    "ye_mo = []\n",
    "ye_mo_dd = []\n",
    "\n",
    "for item in data['Новое Время']:\n",
    "    ye.append(item.year)\n",
    "    ye_mo.append(str(item.year)+'-'+str(item.month))\n",
    "    ye_mo_dd.append(str(item.year)+'-'+str(item.month)+'-'+str(item.day))\n"
   ]
  },
  {
   "cell_type": "code",
   "execution_count": null,
   "metadata": {
    "collapsed": false
   },
   "outputs": [],
   "source": [
    "data['y']=ye\n",
    "data['ym'] = ye_mo\n",
    "data['ymd'] = ye_mo_dd\n",
    "data.head(2)"
   ]
  },
  {
   "cell_type": "code",
   "execution_count": null,
   "metadata": {
    "collapsed": false
   },
   "outputs": [],
   "source": [
    "# Распределение новостей по годам. \n",
    "%pylab inline\n",
    "data.y.value_counts().plot(kind='pie',figsize=(5,5))"
   ]
  },
  {
   "cell_type": "code",
   "execution_count": null,
   "metadata": {
    "collapsed": false
   },
   "outputs": [],
   "source": [
    "# Распределение новостей по месяцам. \n",
    "%pylab inline\n",
    "data.ym.value_counts().plot(kind='pie',figsize=(5,5))  #'barh'"
   ]
  },
  {
   "cell_type": "code",
   "execution_count": null,
   "metadata": {
    "collapsed": false
   },
   "outputs": [],
   "source": [
    "# Распределение новостей по дням. \n",
    "%pylab inline\n",
    "data.ymd.value_counts().plot(kind='barh')"
   ]
  },
  {
   "cell_type": "code",
   "execution_count": null,
   "metadata": {
    "collapsed": true
   },
   "outputs": [],
   "source": [
    "# подгружает разбиватель предложения на слова\n",
    "from nltk.tokenize import RegexpTokenizer\n",
    "tokenizer = RegexpTokenizer(r'\\w+')"
   ]
  },
  {
   "cell_type": "code",
   "execution_count": null,
   "metadata": {
    "collapsed": false
   },
   "outputs": [],
   "source": [
    "def Uniter(vect):\n",
    "    a = vect[0]\n",
    "    for item in vect[1:]:\n",
    "        a = a + item\n",
    "    return(a)\n",
    "\n",
    "texts = [Uniter(item) for item in data['Текст']]\n",
    "texts"
   ]
  },
  {
   "cell_type": "code",
   "execution_count": null,
   "metadata": {
    "collapsed": false
   },
   "outputs": [],
   "source": [
    "tokens = [tokenizer.tokenize(jtem) for jtem in texts]\n",
    "tokens"
   ]
  },
  {
   "cell_type": "code",
   "execution_count": null,
   "metadata": {
    "collapsed": true
   },
   "outputs": [],
   "source": [
    "import nltk\n",
    "from nltk.corpus import stopwords\n",
    "stop = stopwords.words('russian')"
   ]
  },
  {
   "cell_type": "code",
   "execution_count": null,
   "metadata": {
    "collapsed": false
   },
   "outputs": [],
   "source": [
    "stop"
   ]
  },
  {
   "cell_type": "code",
   "execution_count": null,
   "metadata": {
    "collapsed": true
   },
   "outputs": [],
   "source": [
    "out1 = [item for item in vect if not item in stop]\n",
    "\n",
    "raw = text.lower()"
   ]
  },
  {
   "cell_type": "code",
   "execution_count": null,
   "metadata": {
    "collapsed": true
   },
   "outputs": [],
   "source": []
  },
  {
   "cell_type": "code",
   "execution_count": null,
   "metadata": {
    "collapsed": true
   },
   "outputs": [],
   "source": []
  },
  {
   "cell_type": "code",
   "execution_count": null,
   "metadata": {
    "collapsed": true
   },
   "outputs": [],
   "source": []
  },
  {
   "cell_type": "code",
   "execution_count": null,
   "metadata": {
    "collapsed": true
   },
   "outputs": [],
   "source": []
  },
  {
   "cell_type": "code",
   "execution_count": null,
   "metadata": {
    "collapsed": true
   },
   "outputs": [],
   "source": []
  },
  {
   "cell_type": "code",
   "execution_count": null,
   "metadata": {
    "collapsed": true
   },
   "outputs": [],
   "source": [
    "import pymorphy2\n",
    "morph = pymorphy2.MorphAnalyzer()"
   ]
  },
  {
   "cell_type": "code",
   "execution_count": null,
   "metadata": {
    "collapsed": true
   },
   "outputs": [],
   "source": [
    "\n",
    "morph.parse(item)[0].normal_form for item in out1]\n"
   ]
  },
  {
   "cell_type": "code",
   "execution_count": null,
   "metadata": {
    "collapsed": false
   },
   "outputs": [],
   "source": [
    "morph.parse('люди')[0].normal_form"
   ]
  },
  {
   "cell_type": "code",
   "execution_count": null,
   "metadata": {
    "collapsed": false
   },
   "outputs": [],
   "source": [
    "morph.parse('люди')"
   ]
  },
  {
   "cell_type": "code",
   "execution_count": null,
   "metadata": {
    "collapsed": false
   },
   "outputs": [],
   "source": [
    "morph.parse('букотявку')"
   ]
  },
  {
   "cell_type": "code",
   "execution_count": null,
   "metadata": {
    "collapsed": false
   },
   "outputs": [],
   "source": []
  },
  {
   "cell_type": "code",
   "execution_count": null,
   "metadata": {
    "collapsed": true
   },
   "outputs": [],
   "source": []
  }
 ],
 "metadata": {
  "kernelspec": {
   "display_name": "Python 3",
   "language": "python",
   "name": "python3"
  },
  "language_info": {
   "codemirror_mode": {
    "name": "ipython",
    "version": 3
   },
   "file_extension": ".py",
   "mimetype": "text/x-python",
   "name": "python",
   "nbconvert_exporter": "python",
   "pygments_lexer": "ipython3",
   "version": "3.5.2"
  }
 },
 "nbformat": 4,
 "nbformat_minor": 1
}
