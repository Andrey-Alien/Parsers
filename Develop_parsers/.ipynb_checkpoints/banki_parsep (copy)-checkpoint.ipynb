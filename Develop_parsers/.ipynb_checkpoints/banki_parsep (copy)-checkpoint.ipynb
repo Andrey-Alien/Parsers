{
 "cells": [
  {
   "cell_type": "markdown",
   "metadata": {},
   "source": [
    "# Парсер для сбора данных о банках"
   ]
  },
  {
   "cell_type": "code",
   "execution_count": 1,
   "metadata": {
    "collapsed": true
   },
   "outputs": [],
   "source": [
    "import requests\n",
    "import numpy as np\n",
    "import datetime\n",
    "import re\n",
    "from bs4 import BeautifulSoup\n",
    "\n",
    "from multiprocessing import Pool\n",
    "\n",
    "import time\n",
    "import pandas as pd\n",
    "\n",
    "import re\n",
    "import math"
   ]
  },
  {
   "cell_type": "markdown",
   "metadata": {},
   "source": [
    "# Сбор данных по одной странице"
   ]
  },
  {
   "cell_type": "code",
   "execution_count": 2,
   "metadata": {
    "collapsed": true
   },
   "outputs": [],
   "source": [
    "# Функция, которая скачивает одну конкретную страницу\n",
    "# page - номер страницы в списке\n",
    "# Id - номер показателя \n",
    "# date1 - первая дата в табличке\n",
    "# date2 - вторая дата в табличке\n",
    "\n",
    "def getPage(page,ID,date1,date2):\n",
    "    mainpage = 'http://www.banki.ru/banks/ratings/?PAGEN_1='+page+'&search%5Btype%5D=name\\\n",
    "    &sort_param=rating&sort_order=ASC&PROPERTY_ID='+ID+\\\n",
    "    '&REGION_ID=0&date1='+date1+'&date2='+date2+'&IS_SHOW_GROUP=0&IS_SHOW_LIABILITIES=0'\n",
    "    response = requests.get(mainpage)\n",
    "    html = response.content\n",
    "    soup = BeautifulSoup(html,\"lxml\")\n",
    "    return(soup)\n",
    "\n",
    "# Функция, которая скачивает данные с одной страницы в виде матрицы\n",
    "def OnepageDate(soup):\n",
    "    table = soup.findAll(\"tbody\")[2]\n",
    "    banks = table.findAll('a',{ \"class\" : \"widget__link\" })\n",
    "    clean_banks=[re.sub('  |\\n','',item.text) for item in banks]\n",
    "    \n",
    "    license = table.findAll('div',{ \"class\" : \"font-size-small color-gray-burn\" })\n",
    "    clean_license = [re.sub('  |\\n','',item.text) for item in license]  \n",
    "    \n",
    "    counts = table.findAll('td',{ \"class\" : \"text-align-right\" })\n",
    "    clean_counts = [item.text for item in counts]\n",
    "    clean_counts = [re.sub(' |\\n','',item) for item in clean_counts]\n",
    "    n = len(clean_banks)*4\n",
    "    rang = [j for j in range(n) if j%4==0]\n",
    "    bank_indicators = [[clean_counts[i],clean_counts[i+1],clean_counts[i+2],clean_counts[i+3]] for i in rang]\n",
    "    [bank_indicators[i].insert(0,clean_banks[i]) for i in range(len(clean_banks))]\n",
    "    [bank_indicators[i].insert(0,clean_license[i]) for i in range(len(clean_banks))]\n",
    "    \n",
    "    data = bank_indicators\n",
    "    return(data)\n",
    "\n",
    "\n",
    "# Функция, которая выдаёт количество страниц, на которое растягивается таблица с информацией\n",
    "def Number_of_Pages(soup):\n",
    "    endpage = math.ceil(int(soup.findAll('span',{'data-bind':'total-items'})[0].text)/50)\n",
    "    return(endpage)\n",
    "\n",
    "# Переодически на сайте встречаются пустые таблицы. Взаимодействие с ними приводит к ошибкам.\n",
    "# Чтобы оказать таким таблицам противодействия, придётся прописывать исключения. "
   ]
  },
  {
   "cell_type": "markdown",
   "metadata": {},
   "source": [
    "# Циклы\n",
    "\n",
    "Всего у парсера будет три цикла. Один цикл по показателям, второй цикл вглубину таблицы, третий цикл по смене дат."
   ]
  },
  {
   "cell_type": "code",
   "execution_count": 3,
   "metadata": {
    "collapsed": true
   },
   "outputs": [],
   "source": [
    "# Проход по конкретной странице и дате вглубину \n",
    "def Page_Deep(data1,data2,ID):\n",
    "    soup = getPage(str(1),ID,data1,data2)\n",
    "    data = OnepageDate(soup)\n",
    "    deep = Number_of_Pages(soup)\n",
    "\n",
    "    for i in range(2,deep+1):\n",
    "        soup = getPage(str(i),ID,data1,data2)\n",
    "        cur_page_data = OnepageDate(soup)\n",
    "        data.extend(cur_page_data)\n",
    "    return(data)\n",
    "\n",
    "\n",
    "# Сгенерируем лист из дат, которые необходимо пробежать.\n",
    "# февраль 17 - март 08  (2017-02-01 до  2008-03-01)\n",
    "years = [str(item) for item in range(2008,2018)]\n",
    "months = [str(item) for item in range(1,13)]\n",
    "months2 = [ ]\n",
    "for item in months:\n",
    "    if len(item)==1:\n",
    "        item = '0'+item\n",
    "    months2.append(item)\n",
    "dats = [ ]\n",
    "for item in years:\n",
    "    for jtem in months2:\n",
    "        dats.append(item + '-' + jtem + '-01')\n",
    "dats = dats[2:-10]\n",
    "\n",
    "\n",
    "# Функция, которая выгружает по датам 108 таблиц по конкретному показателю\n",
    "def One_ID_List_Date(ID):\n",
    "    all_data = [ ]\n",
    "    for idate in range(len(dats)-1):\n",
    "        try:\n",
    "            current_data = Page_Deep(dats[(idate+1)],dats[idate],ID)\n",
    "            ddf=pd.DataFrame(current_data)\n",
    "            ddf.columns = ['Лицензия','Банк',dats[(idate+1)],dats[idate],'неважно','неважно']\n",
    "            df = pd.DataFrame()\n",
    "            df['Лицензия']= ddf['Лицензия']\n",
    "            df['Банк']= ddf['Банк']\n",
    "            df[dats[(idate+1)]]=ddf[dats[(idate+1)]]\n",
    "            df[dats[idate]]=ddf[dats[idate]]\n",
    "            all_data.append(df)\n",
    "        except Exception:\n",
    "            all_data.append('Пропуск в данных')            \n",
    "    return(all_data)\n",
    "# Создаётся два дата фрейма из одного пересовываются дынные в другой... Кривовато получилось."
   ]
  },
  {
   "cell_type": "code",
   "execution_count": null,
   "metadata": {
    "collapsed": false
   },
   "outputs": [],
   "source": [
    "# Потестим время работы кода.\n",
    "start_time = time.time() # время работы кода \n",
    "all_data = One_ID_List_Date('1100')\n",
    "print(\"--- %s seconds ---\" % (time.time() - start_time))  #время работы кода\n",
    "# Код работал на 30 id около часа."
   ]
  },
  {
   "cell_type": "markdown",
   "metadata": {},
   "source": [
    "Функция выше выкачивает данные в виде вектора из датафреймов. Надо эти дата фреймы объединить"
   ]
  },
  {
   "cell_type": "code",
   "execution_count": 10,
   "metadata": {
    "collapsed": true
   },
   "outputs": [],
   "source": [
    "# Функция для создания табличек\n",
    "def Data_uniter(df_vector):\n",
    "    # Сайт банков работает немного странно и иногда говорит, что 2009 года не существует, если грузить его с 2008.\n",
    "    # При этом если грузить его с 2009, то он есть. Исправим этот досадный косяк, создавая base_df\n",
    "    base_df_0 = df_vector[0].iloc[:,[0:3]]\n",
    "    base_df_1 = df_vector[1].iloc[:,[0,3,2]] # в таком порядке, чтобы после объединения все было ок! \n",
    "    base_df = pd.merge(base_df_0,base_df_1,on='Лицензия',how='outer')\n",
    "       \n",
    "    for item in df_vector[2:]:\n",
    "        plus_df = item.iloc[:,[0,2]]\n",
    "        base_df = pd.merge(base_df,plus_df,on='Лицензия',how='outer')\n",
    "    return(base_df)"
   ]
  },
  {
   "cell_type": "code",
   "execution_count": 11,
   "metadata": {
    "collapsed": true
   },
   "outputs": [],
   "source": [
    "# Создаём таблицу по конкретному показателю.\n",
    "def data_frame_creator(ID):\n",
    "    all_data = One_ID_List_Date(ID)\n",
    "    new_all_data = [item for item in all_data if len(item) != 16]\n",
    "    A = Data_uniter(new_all_data)\n",
    "    return(A)"
   ]
  },
  {
   "cell_type": "markdown",
   "metadata": {},
   "source": [
    "## Данные, которые нужны для модели\n",
    "\n",
    "Сопоставление критериев и их ID:\n",
    "\n",
    "- Активы нетто: na     10\n",
    "- Чистая прибыль ni    30\n",
    "- Капитал (по форме 123) c_123     25\n",
    "- Капитал (по форме 134) c_134     20\n",
    "- Кредитный портфель cp   40\n",
    "- Просроченная задолженность в кредитном портфеле LLPGL   50\n",
    "- Вклады физических лиц dep_f      60\n",
    "- Средства предприятий и организаций dep_b   500\n",
    "- Рентабельность активов-нетто ROA    1000\n",
    "- Рентабельность капитала ROE         1100 \n",
    "- Уровень просроченной задолженности по кредитному портфелю LLP   1200\n",
    "- Уровень резервирования по кредитному портфелю lR    1300\n",
    "- Уровень обеспечения кредитного портфеля залогом имущества LCP      1400\n",
    "- Валютный оборот к активам-нетто fr_na            1500\n",
    "- Оборот по валютным операциям в тыс. рублей fr    1550\n",
    "- Н1 H1    1600\n",
    "- Н2 H2    1700\n",
    "- Н3 H3    1800\n",
    "- Кредиты физическим лицам c_f    200\n",
    "- Просроченная задолженность по кредитам физическим лицам LLP_c_f   260\n",
    "- Кредиты предприятиям и организациям c_b   300\n",
    "- Просроченная задолженность по кредитам предприятиям и организациям LLP_c_b   360\n",
    "- Выданные МБК ibl   120"
   ]
  },
  {
   "cell_type": "code",
   "execution_count": 30,
   "metadata": {
    "collapsed": true
   },
   "outputs": [],
   "source": [
    "# Список из ID страничек и соответствующие им названия переменных. \n",
    "ID_list = ['10','30','25','20','40','50','60','500','1000','1100','1200','1300','1400','1500','1550',\\\n",
    "           '1600','1700','1800','200','260','300','360','120']\n",
    "\n",
    "ID_names_list = ['na','ni','c_123','c_134','cp','LLPGL','dep_f','dep_b','ROA','ROE','LLP','IR','LCP','fr_na',\\\n",
    "                 'fr','H1','H2','H3','c_f','LLP_c_f','c_b','LLP_c_b','ibl']"
   ]
  },
  {
   "cell_type": "code",
   "execution_count": 14,
   "metadata": {
    "collapsed": false
   },
   "outputs": [],
   "source": [
    "# Цикл для выгрузки информации по каждому ID.\n",
    "# for ID in ID_list:\n",
    "#     data_id = data_frame_creator(ID)\n",
    "#     data_id.to_csv('Ndata/'+ ID + '.csv',sep=',',header=True,index=False)\n",
    "\n",
    "# Будем сохранять информацию по каждому из показателей в папку Ndata.\n",
    "# К концу выгрузки получим кучу фреймов. Всё это дело распаралелим.\n",
    "\n",
    "# Пишем наш Map-шаг: \n",
    "def Map(ID_list):\n",
    "    for ID in ID_list:\n",
    "        data_id = data_frame_creator(ID)\n",
    "        data_id.to_csv('Ndata/'+ ID + '.csv',sep=',',header=True,index=False)\n",
    "        #сохраним в файл с помощью пандас!\n",
    "    return(print('Индекс ' + ID + ' собран!'))\n",
    "\n",
    "# Поделим наш ID лист на несколько кусочков. \n",
    "# Функция - разбиватель на части. Аргументы - вектор для разбиения, число частей.\n",
    "def Decompositor(vect,num_parts):\n",
    "    parts = [round(len(vect)/num_parts)*i for i in range(num_parts)]\n",
    "    parts.append(len(vect))\n",
    "    curlist = [vect[parts[i]:parts[i+1]] for i in range(num_parts)]\n",
    "    return(curlist)"
   ]
  },
  {
   "cell_type": "markdown",
   "metadata": {},
   "source": [
    "Меньше слов, больше дела. Блок для скачки всего списка."
   ]
  },
  {
   "cell_type": "code",
   "execution_count": 15,
   "metadata": {
    "collapsed": false
   },
   "outputs": [
    {
     "name": "stdout",
     "output_type": "stream",
     "text": [
      "Индекс 1800 собран!\n",
      "Индекс 1600 собран!\n",
      "Индекс 1300 собран!\n",
      "Индекс 1500 собран!\n",
      "Индекс 20 собран!\n",
      "Индекс 120 собран!\n",
      "Индекс 1100 собран!\n",
      "Индекс 260 собран!\n",
      "Индекс 50 собран!\n",
      "Индекс 500 собран!\n",
      "Индекс 30 собран!\n",
      "Индекс 360 собран!\n"
     ]
    }
   ],
   "source": [
    "from multiprocessing import Pool\n",
    "flows = 12  # Количество потоков, в которое мы будем качать!\n",
    "work_list = Decompositor(ID_list,flows)\n",
    "\n",
    "if __name__ == '__main__':\n",
    "    with Pool(flows) as p:\n",
    "        l = p.map(Map, work_list)"
   ]
  },
  {
   "cell_type": "markdown",
   "metadata": {},
   "source": [
    "На Мар-шаге мы скачали все необходимые нам показатели с сайта в кучу маленьких csv-табличек, которые нам теперь нужно переработать в одну большую таблицу, которую мы будем впоследствии использовать при оценки моделей. Самого по себе Reduce-шага здесь не будет. Будет Panel - шаг!\n",
    "\n",
    "Мы хотим, чтобы в итоговой таблице оформление было таким, чтобы было удобно в R работать с панелями. Вроде как итоговая таблица должна идти вот в таком формате:\n",
    "\n",
    "\n",
    "\n",
    "| Банк   | Год   | Показатель 1 | Показатель 2 | Показатель 3 |\n",
    "|--------|-------|--------------|--------------|--------------|\n",
    "| Банк 1 | Год 1 |              |              |              |\n",
    "| Банк 1 | Год 2 |              |              |              |\n",
    "| Банк 2 | Год 1 |              |              |              |\n",
    "| Банк 2 | Год 2 |              |              |              |"
   ]
  },
  {
   "cell_type": "code",
   "execution_count": 38,
   "metadata": {
    "collapsed": true
   },
   "outputs": [],
   "source": [
    "# Для начала неплохо было бы выявить список из уникальных банков! \n",
    "\n",
    "# Функция, которая обхелиняет два лоиста по уникалтным названиям \n",
    "# Она делает пересечение двух множеств \n",
    "def union(a, b):\n",
    "    return list(set(a) | set(b))\n",
    "\n",
    "# Делаем список из датафреймов, которые мы подгружаем из папки. \n",
    "frames = [pd.read_csv('Ndata/'+strtem+'.csv', header=0, sep=',') for strtem in ID_list]\n",
    "\n",
    "def Uniq_banks(frames):\n",
    "    uniq_banks = list(frames[0]['Лицензия'])\n",
    "    for item in ID_list[1:]:\n",
    "        uniq_banks = union(uniq_banks,item)\n",
    "    return(uniq_banks)\n",
    "\n",
    "uniq_banks = Uniq_banks(frames)"
   ]
  },
  {
   "cell_type": "code",
   "execution_count": 39,
   "metadata": {
    "collapsed": false
   },
   "outputs": [
    {
     "data": {
      "text/plain": [
       "1255"
      ]
     },
     "execution_count": 39,
     "metadata": {},
     "output_type": "execute_result"
    }
   ],
   "source": [
    "len(uniq_banks)"
   ]
  },
  {
   "cell_type": "code",
   "execution_count": 80,
   "metadata": {
    "collapsed": false
   },
   "outputs": [
    {
     "name": "stderr",
     "output_type": "stream",
     "text": [
      "/usr/local/lib/python3.5/dist-packages/ipykernel/__main__.py:13: SettingWithCopyWarning: \n",
      "A value is trying to be set on a copy of a slice from a DataFrame.\n",
      "Try using .loc[row_indexer,col_indexer] = value instead\n",
      "\n",
      "See the caveats in the documentation: http://pandas.pydata.org/pandas-docs/stable/indexing.html#indexing-view-versus-copy\n"
     ]
    }
   ],
   "source": [
    "# Пишем сверхстрёмный код, который проходит по всем датафреймам и делает фрем по каждому банку.\n",
    "# Надо бы сделать это покомпактнее. Ибо такой костыльный монстр даже в кошмарах мало кому привидится! \n",
    "\n",
    "def one_bank_frame(frames,uniq,number_in_panel):   \n",
    "    cur = pd.DataFrame()\n",
    "    for i in range(len(frames)):\n",
    "        now_bank = uniq \n",
    "        new = frames[i][frames[i]['Лицензия'] == now_bank]\n",
    "        if list(new['Лицензия']) == []:\n",
    "            corrector = pd.DataFrame()\n",
    "            corrector['Лицензия'] = [now_bank]\n",
    "            new = pd.concat([corrector,new])\n",
    "        new[\"Номер показателя\"] = ID_names_list[i]\n",
    "        cur = pd.concat([cur,new], ignore_index=True)\n",
    "        \n",
    "    body = cur.iloc[:,:-3].T\n",
    "    head = cur.iloc[:,-3:]\n",
    "\n",
    "    body.columns = list(head['Номер показателя'])\n",
    "    years = list(body.index)\n",
    "    body.insert(0,'год',years)\n",
    "    bank = [head['Банк'][0] for i in range(len(years))]\n",
    "    lits = [head['Лицензия'][0] for i in range(len(years))]\n",
    "    bank_ID = [number_in_panel for i in range(len(years))]\n",
    "    \n",
    "    body.insert(0,'Subject',bank_ID)\n",
    "    body.insert(0,'Банк',bank)\n",
    "    body.insert(0,'Лицензия',lits)\n",
    "    body.index = [i for i in range(len(years))]\n",
    "    return(body)\n",
    "\n",
    "cur = one_bank_frame(frames,uniq_banks[0],1)"
   ]
  },
  {
   "cell_type": "code",
   "execution_count": 82,
   "metadata": {
    "collapsed": false
   },
   "outputs": [
    {
     "name": "stderr",
     "output_type": "stream",
     "text": [
      "/usr/local/lib/python3.5/dist-packages/ipykernel/__main__.py:13: SettingWithCopyWarning: \n",
      "A value is trying to be set on a copy of a slice from a DataFrame.\n",
      "Try using .loc[row_indexer,col_indexer] = value instead\n",
      "\n",
      "See the caveats in the documentation: http://pandas.pydata.org/pandas-docs/stable/indexing.html#indexing-view-versus-copy\n"
     ]
    },
    {
     "data": {
      "text/plain": [
       "(134285, 26)"
      ]
     },
     "execution_count": 82,
     "metadata": {},
     "output_type": "execute_result"
    }
   ],
   "source": [
    "# Делаем такой датафрейм для каждого банка из списка уникальных банков.\n",
    "bank_frame = pd.DataFrame()\n",
    "subject = 1\n",
    "for item in uniq_banks:\n",
    "    bank_frame = pd.concat([bank_frame,one_bank_frame(frames,item,subject)],ignore_index=True)\n",
    "    subject = subject + 1 \n",
    "bank_frame.shape    "
   ]
  },
  {
   "cell_type": "code",
   "execution_count": 89,
   "metadata": {
    "collapsed": true
   },
   "outputs": [],
   "source": [
    "# Сохраняем результат в двух форматах! \n",
    "bank_frame.to_csv('bank_panel.csv',sep='\\t',header=True,index=False,na_rep='NA')\n",
    "bank_frame.to_excel('bank_panel.xlsx',na_rep='NA')"
   ]
  },
  {
   "cell_type": "code",
   "execution_count": 88,
   "metadata": {
    "collapsed": false
   },
   "outputs": [],
   "source": [
    "# Сохраним ко всему прочьему информацию о том какие банки уникальны.\n",
    "un_banks = pd.DataFrame()\n",
    "un_banks['Уникальные банки'] = uniq_banks\n",
    "un_banks.to_csv('uniq_banks.csv',sep='\\t',header=True,index=False)"
   ]
  },
  {
   "cell_type": "markdown",
   "metadata": {},
   "source": [
    "Отлично! Осталось только расставить метки о том отозвана лицензия у банка или нет. Скачаем для этого все необходимые данные с сайта."
   ]
  },
  {
   "cell_type": "markdown",
   "metadata": {},
   "source": [
    "## Информация о банках"
   ]
  },
  {
   "cell_type": "code",
   "execution_count": 115,
   "metadata": {
    "collapsed": true
   },
   "outputs": [],
   "source": [
    "def Bank_parser(number):\n",
    "    bad_page = 'http://www.banki.ru/banks/memory/?by=PROPERTY_date&order=desc&PAGEN_1='+str(number)\n",
    "    response = requests.get(bad_page)\n",
    "    html = response.content\n",
    "    soup = BeautifulSoup(html,\"lxml\")\n",
    "    return(soup)\n",
    "\n",
    "\n",
    "def get_cause(url):\n",
    "    page = mainpage + url\n",
    "    response = requests.get(page)\n",
    "    html = response.content\n",
    "    soup = BeautifulSoup(html,\"lxml\")\n",
    "    cause = soup.findAll('dd',{'class':\"margin-bottom-zero\"})\n",
    "    return(cause)"
   ]
  },
  {
   "cell_type": "code",
   "execution_count": 122,
   "metadata": {
    "collapsed": false
   },
   "outputs": [],
   "source": [
    "bankrot = {'Банк':[],'Лицензия':[], 'хреф': [], 'статус': [], 'ликвдата': [], 'причина': []}\n",
    "for i in range(1,52):\n",
    "    bank_page = Bank_parser(i)\n",
    "    curvec = bank_page.findAll(\"tbody\")[2].findAll('td')\n",
    "    \n",
    "    bank = [curvec[1+i*6].findAll('a')[0].text for i in range(int(len(curvec)/6))]\n",
    "    lits = [curvec[2+i*6].text for i in range(int(len(curvec)/6))]\n",
    "    href = [re.split('=\"|\">',str(curvec[1+i*6].findAll('a')[0]))[1] for i in range(int(len(curvec)/6))]\n",
    "    status = [curvec[3+i*6].text for i in range(int(len(curvec)/6))]\n",
    "    likvid_data = [curvec[4+i*6].text for i in range(int(len(curvec)/6))]\n",
    "\n",
    "    mainpage = 'http://www.banki.ru'\n",
    "    cause = [get_cause(item) for item in href]  # убрал [0].text из-за ошибки\n",
    "    bankrot['Банк'].extend(bank)\n",
    "    bankrot['Лицензия'].extend(lits)\n",
    "    bankrot['хреф'].extend(href)\n",
    "    bankrot['статус'].extend(status)\n",
    "    bankrot['ликвдата'].extend(likvid_data)\n",
    "    bankrot['причина'].extend(cause)"
   ]
  },
  {
   "cell_type": "code",
   "execution_count": 124,
   "metadata": {
    "collapsed": false
   },
   "outputs": [
    {
     "data": {
      "text/plain": [
       "2550"
      ]
     },
     "execution_count": 124,
     "metadata": {},
     "output_type": "execute_result"
    }
   ],
   "source": [
    "len(bankrot['Банк'])"
   ]
  },
  {
   "cell_type": "code",
   "execution_count": 125,
   "metadata": {
    "collapsed": false
   },
   "outputs": [
    {
     "data": {
      "text/html": [
       "<div>\n",
       "<table border=\"1\" class=\"dataframe\">\n",
       "  <thead>\n",
       "    <tr style=\"text-align: right;\">\n",
       "      <th></th>\n",
       "      <th>Банк</th>\n",
       "      <th>Лицензия</th>\n",
       "      <th>ликвдата</th>\n",
       "      <th>причина</th>\n",
       "      <th>статус</th>\n",
       "      <th>хреф</th>\n",
       "    </tr>\n",
       "  </thead>\n",
       "  <tbody>\n",
       "    <tr>\n",
       "      <th>0</th>\n",
       "      <td>Нефтяной Альянс</td>\n",
       "      <td>2859</td>\n",
       "      <td>14.03.2017</td>\n",
       "      <td>[&lt;dd class=\"margin-bottom-zero\"&gt;&lt;p&gt;Решение о п...</td>\n",
       "      <td>отозв.</td>\n",
       "      <td>/banks/memory/bank/?id=9607838</td>\n",
       "    </tr>\n",
       "    <tr>\n",
       "      <th>1</th>\n",
       "      <td>Банк Экономический Союз</td>\n",
       "      <td>2798</td>\n",
       "      <td>13.03.2017</td>\n",
       "      <td>[&lt;dd class=\"margin-bottom-zero\"&gt;&lt;p&gt;Решение о п...</td>\n",
       "      <td>отозв.</td>\n",
       "      <td>/banks/memory/bank/?id=9604681</td>\n",
       "    </tr>\n",
       "    <tr>\n",
       "      <th>2</th>\n",
       "      <td>Торговый Городской Банк</td>\n",
       "      <td>3180</td>\n",
       "      <td>13.03.2017</td>\n",
       "      <td>[&lt;dd class=\"margin-bottom-zero\"&gt;&lt;p&gt;Решение о п...</td>\n",
       "      <td>отозв.</td>\n",
       "      <td>/banks/memory/bank/?id=9604686</td>\n",
       "    </tr>\n",
       "    <tr>\n",
       "      <th>3</th>\n",
       "      <td>Межрегиональный Почтовый Банк</td>\n",
       "      <td>3171</td>\n",
       "      <td>03.03.2017</td>\n",
       "      <td>[&lt;dd class=\"margin-bottom-zero\"&gt;&lt;p&gt;Лицензия у ...</td>\n",
       "      <td>ликв.</td>\n",
       "      <td>/banks/memory/bank/?id=9576507</td>\n",
       "    </tr>\n",
       "    <tr>\n",
       "      <th>4</th>\n",
       "      <td>Анкор Банк</td>\n",
       "      <td>889</td>\n",
       "      <td>03.03.2017</td>\n",
       "      <td>[&lt;dd class=\"margin-bottom-zero\"&gt;&lt;p&gt;Решение о п...</td>\n",
       "      <td>отозв.</td>\n",
       "      <td>/banks/memory/bank/?id=9576536</td>\n",
       "    </tr>\n",
       "    <tr>\n",
       "      <th>5</th>\n",
       "      <td>Интехбанк</td>\n",
       "      <td>2705</td>\n",
       "      <td>03.03.2017</td>\n",
       "      <td>[&lt;dd class=\"margin-bottom-zero\"&gt;Решение о прим...</td>\n",
       "      <td>отозв.</td>\n",
       "      <td>/banks/memory/bank/?id=9576541</td>\n",
       "    </tr>\n",
       "    <tr>\n",
       "      <th>6</th>\n",
       "      <td>Татфондбанк</td>\n",
       "      <td>3058</td>\n",
       "      <td>03.03.2017</td>\n",
       "      <td>[&lt;dd class=\"margin-bottom-zero\"&gt;Решение о прим...</td>\n",
       "      <td>отозв.</td>\n",
       "      <td>/banks/memory/bank/?id=9576563</td>\n",
       "    </tr>\n",
       "    <tr>\n",
       "      <th>7</th>\n",
       "      <td>ГПБ-Ипотека</td>\n",
       "      <td>2403</td>\n",
       "      <td>21.02.2017</td>\n",
       "      <td>[&lt;dd class=\"margin-bottom-zero\"&gt;Приказом Банка...</td>\n",
       "      <td>ликв.</td>\n",
       "      <td>/banks/memory/bank/?id=9558699</td>\n",
       "    </tr>\n",
       "    <tr>\n",
       "      <th>8</th>\n",
       "      <td>Северо-Западный 1 Альянс Банк</td>\n",
       "      <td>766</td>\n",
       "      <td>16.02.2017</td>\n",
       "      <td>[&lt;dd class=\"margin-bottom-zero\"&gt;Решение о прим...</td>\n",
       "      <td>отозв.</td>\n",
       "      <td>/banks/memory/bank/?id=9548566</td>\n",
       "    </tr>\n",
       "    <tr>\n",
       "      <th>9</th>\n",
       "      <td>Енисей</td>\n",
       "      <td>474</td>\n",
       "      <td>09.02.2017</td>\n",
       "      <td>[&lt;dd class=\"margin-bottom-zero\"&gt;Решение о прим...</td>\n",
       "      <td>отозв.</td>\n",
       "      <td>/banks/memory/bank/?id=9534528</td>\n",
       "    </tr>\n",
       "    <tr>\n",
       "      <th>10</th>\n",
       "      <td>Тальменка-Банк</td>\n",
       "      <td>826</td>\n",
       "      <td>23.01.2017</td>\n",
       "      <td>[&lt;dd class=\"margin-bottom-zero\"&gt;Решение о прим...</td>\n",
       "      <td>отозв.</td>\n",
       "      <td>/banks/memory/bank/?id=9496166</td>\n",
       "    </tr>\n",
       "    <tr>\n",
       "      <th>11</th>\n",
       "      <td>Новация</td>\n",
       "      <td>840</td>\n",
       "      <td>23.01.2017</td>\n",
       "      <td>[&lt;dd class=\"margin-bottom-zero\"&gt;Решение о прим...</td>\n",
       "      <td>отозв.</td>\n",
       "      <td>/banks/memory/bank/?id=9496187</td>\n",
       "    </tr>\n",
       "    <tr>\n",
       "      <th>12</th>\n",
       "      <td>Сириус</td>\n",
       "      <td>3506</td>\n",
       "      <td>23.01.2017</td>\n",
       "      <td>[&lt;dd class=\"margin-bottom-zero\"&gt;Решение о прим...</td>\n",
       "      <td>отозв.</td>\n",
       "      <td>/banks/memory/bank/?id=9496192</td>\n",
       "    </tr>\n",
       "    <tr>\n",
       "      <th>13</th>\n",
       "      <td>Юниаструм Банк</td>\n",
       "      <td>2771</td>\n",
       "      <td>20.01.2017</td>\n",
       "      <td>[&lt;dd class=\"margin-bottom-zero\"&gt;Прекращение де...</td>\n",
       "      <td>ликв.</td>\n",
       "      <td>/banks/memory/bank/?id=9506345</td>\n",
       "    </tr>\n",
       "    <tr>\n",
       "      <th>14</th>\n",
       "      <td>Булгар Банк</td>\n",
       "      <td>1917</td>\n",
       "      <td>16.01.2017</td>\n",
       "      <td>[&lt;dd class=\"margin-bottom-zero\"&gt;Решение о прим...</td>\n",
       "      <td>отозв.</td>\n",
       "      <td>/banks/memory/bank/?id=9483841</td>\n",
       "    </tr>\n",
       "    <tr>\n",
       "      <th>15</th>\n",
       "      <td>НКБ</td>\n",
       "      <td>2942</td>\n",
       "      <td>29.12.2016</td>\n",
       "      <td>[&lt;dd class=\"margin-bottom-zero\"&gt;Решение о прим...</td>\n",
       "      <td>отозв.</td>\n",
       "      <td>/banks/memory/bank/?id=9463816</td>\n",
       "    </tr>\n",
       "    <tr>\n",
       "      <th>16</th>\n",
       "      <td>Банк на Красных Воротах</td>\n",
       "      <td>2472</td>\n",
       "      <td>29.12.2016</td>\n",
       "      <td>[&lt;dd class=\"margin-bottom-zero\"&gt;Решение о прим...</td>\n",
       "      <td>отозв.</td>\n",
       "      <td>/banks/memory/bank/?id=9463828</td>\n",
       "    </tr>\n",
       "    <tr>\n",
       "      <th>17</th>\n",
       "      <td>Столичная расчетная палата</td>\n",
       "      <td>3419-К</td>\n",
       "      <td>22.12.2016</td>\n",
       "      <td>[&lt;dd class=\"margin-bottom-zero\"&gt;Решение о прим...</td>\n",
       "      <td>отозв.</td>\n",
       "      <td>/banks/memory/bank/?id=9447832</td>\n",
       "    </tr>\n",
       "    <tr>\n",
       "      <th>18</th>\n",
       "      <td>Межрегиональный Клиринговый Банк</td>\n",
       "      <td>2543</td>\n",
       "      <td>22.12.2016</td>\n",
       "      <td>[&lt;dd class=\"margin-bottom-zero\"&gt;Решение о прим...</td>\n",
       "      <td>отозв.</td>\n",
       "      <td>/banks/memory/bank/?id=9447838</td>\n",
       "    </tr>\n",
       "    <tr>\n",
       "      <th>19</th>\n",
       "      <td>Форус Банк</td>\n",
       "      <td>3457</td>\n",
       "      <td>19.12.2016</td>\n",
       "      <td>[&lt;dd class=\"margin-bottom-zero\"&gt;Решение о прим...</td>\n",
       "      <td>отозв.</td>\n",
       "      <td>/banks/memory/bank/?id=9439932</td>\n",
       "    </tr>\n",
       "    <tr>\n",
       "      <th>20</th>\n",
       "      <td>Идея Банк</td>\n",
       "      <td>430</td>\n",
       "      <td>19.12.2016</td>\n",
       "      <td>[&lt;dd class=\"margin-bottom-zero\"&gt;Решение о прим...</td>\n",
       "      <td>отозв.</td>\n",
       "      <td>/banks/memory/bank/?id=9439939</td>\n",
       "    </tr>\n",
       "    <tr>\n",
       "      <th>21</th>\n",
       "      <td>Миръ</td>\n",
       "      <td>3089</td>\n",
       "      <td>19.12.2016</td>\n",
       "      <td>[&lt;dd class=\"margin-bottom-zero\"&gt;Решение о прим...</td>\n",
       "      <td>отозв.</td>\n",
       "      <td>/banks/memory/bank/?id=9439945</td>\n",
       "    </tr>\n",
       "    <tr>\n",
       "      <th>22</th>\n",
       "      <td>Вологдабанк</td>\n",
       "      <td>992</td>\n",
       "      <td>19.12.2016</td>\n",
       "      <td>[&lt;dd class=\"margin-bottom-zero\"&gt;Решение о прим...</td>\n",
       "      <td>отозв.</td>\n",
       "      <td>/banks/memory/bank/?id=9439950</td>\n",
       "    </tr>\n",
       "    <tr>\n",
       "      <th>23</th>\n",
       "      <td>Вега-Банк</td>\n",
       "      <td>3270</td>\n",
       "      <td>09.12.2016</td>\n",
       "      <td>[&lt;dd class=\"margin-bottom-zero\"&gt;Решение о прим...</td>\n",
       "      <td>отозв.</td>\n",
       "      <td>/banks/memory/bank/?id=9425078</td>\n",
       "    </tr>\n",
       "    <tr>\n",
       "      <th>24</th>\n",
       "      <td>М2М Прайвет Банк</td>\n",
       "      <td>1414</td>\n",
       "      <td>09.12.2016</td>\n",
       "      <td>[&lt;dd class=\"margin-bottom-zero\"&gt;Решение о прим...</td>\n",
       "      <td>отозв.</td>\n",
       "      <td>/banks/memory/bank/?id=9425083</td>\n",
       "    </tr>\n",
       "    <tr>\n",
       "      <th>25</th>\n",
       "      <td>Международный Банк Развития</td>\n",
       "      <td>2704</td>\n",
       "      <td>09.12.2016</td>\n",
       "      <td>[&lt;dd class=\"margin-bottom-zero\"&gt;Решение о прим...</td>\n",
       "      <td>отозв.</td>\n",
       "      <td>/banks/memory/bank/?id=9425094</td>\n",
       "    </tr>\n",
       "    <tr>\n",
       "      <th>26</th>\n",
       "      <td>Русский Финансовый Альянс</td>\n",
       "      <td>2035</td>\n",
       "      <td>09.12.2016</td>\n",
       "      <td>[&lt;dd class=\"margin-bottom-zero\"&gt;Решение о прим...</td>\n",
       "      <td>отозв.</td>\n",
       "      <td>/banks/memory/bank/?id=9425137</td>\n",
       "    </tr>\n",
       "    <tr>\n",
       "      <th>27</th>\n",
       "      <td>МДМ Банк</td>\n",
       "      <td>2562</td>\n",
       "      <td>18.11.2016</td>\n",
       "      <td>[&lt;dd class=\"margin-bottom-zero\"&gt;Запись о регис...</td>\n",
       "      <td>ликв.</td>\n",
       "      <td>/banks/memory/bank/?id=9385325</td>\n",
       "    </tr>\n",
       "    <tr>\n",
       "      <th>28</th>\n",
       "      <td>Бинбанк Мурманск</td>\n",
       "      <td>1276</td>\n",
       "      <td>18.11.2016</td>\n",
       "      <td>[&lt;dd class=\"margin-bottom-zero\"&gt;Прекращение де...</td>\n",
       "      <td>ликв.</td>\n",
       "      <td>/banks/memory/bank/?id=9387441</td>\n",
       "    </tr>\n",
       "    <tr>\n",
       "      <th>29</th>\n",
       "      <td>Национальный Залоговый Банк</td>\n",
       "      <td>2944</td>\n",
       "      <td>18.11.2016</td>\n",
       "      <td>[&lt;dd class=\"margin-bottom-zero\"&gt;Решение о прим...</td>\n",
       "      <td>отозв.</td>\n",
       "      <td>/banks/memory/bank/?id=9376475</td>\n",
       "    </tr>\n",
       "    <tr>\n",
       "      <th>...</th>\n",
       "      <td>...</td>\n",
       "      <td>...</td>\n",
       "      <td>...</td>\n",
       "      <td>...</td>\n",
       "      <td>...</td>\n",
       "      <td>...</td>\n",
       "    </tr>\n",
       "    <tr>\n",
       "      <th>2520</th>\n",
       "      <td>Шахтинский Городской Коммерческий Банк</td>\n",
       "      <td>619</td>\n",
       "      <td>26.06.1992</td>\n",
       "      <td>[]</td>\n",
       "      <td>отозв.</td>\n",
       "      <td>/banks/memory/bank/?id=209265</td>\n",
       "    </tr>\n",
       "    <tr>\n",
       "      <th>2521</th>\n",
       "      <td>Донкредит</td>\n",
       "      <td>789</td>\n",
       "      <td>26.06.1992</td>\n",
       "      <td>[]</td>\n",
       "      <td>отозв.</td>\n",
       "      <td>/banks/memory/bank/?id=215945</td>\n",
       "    </tr>\n",
       "    <tr>\n",
       "      <th>2522</th>\n",
       "      <td>Трактор-Банк</td>\n",
       "      <td>1457</td>\n",
       "      <td>26.06.1992</td>\n",
       "      <td>[]</td>\n",
       "      <td>ликв.</td>\n",
       "      <td>/banks/memory/bank/?id=144294</td>\n",
       "    </tr>\n",
       "    <tr>\n",
       "      <th>2523</th>\n",
       "      <td>Егорлыкский Кооперативный Банк</td>\n",
       "      <td>551</td>\n",
       "      <td>26.06.1992</td>\n",
       "      <td>[]</td>\n",
       "      <td>отозв.</td>\n",
       "      <td>/banks/memory/bank/?id=209122</td>\n",
       "    </tr>\n",
       "    <tr>\n",
       "      <th>2524</th>\n",
       "      <td>Белоглинский Коммерческий Банк</td>\n",
       "      <td>530</td>\n",
       "      <td>26.06.1992</td>\n",
       "      <td>[]</td>\n",
       "      <td>ликв.</td>\n",
       "      <td>/banks/memory/bank/?id=207596</td>\n",
       "    </tr>\n",
       "    <tr>\n",
       "      <th>2525</th>\n",
       "      <td>Катуньбанк</td>\n",
       "      <td>175</td>\n",
       "      <td>08.04.1992</td>\n",
       "      <td>[&lt;dd class=\"margin-bottom-zero\"&gt;Лицензия аннул...</td>\n",
       "      <td>ликв.</td>\n",
       "      <td>/banks/memory/bank/?id=203505</td>\n",
       "    </tr>\n",
       "    <tr>\n",
       "      <th>2526</th>\n",
       "      <td>Сердобский</td>\n",
       "      <td>765</td>\n",
       "      <td>08.04.1992</td>\n",
       "      <td>[&lt;dd class=\"margin-bottom-zero\"&gt;Лицензия аннул...</td>\n",
       "      <td>ликв.</td>\n",
       "      <td>/banks/memory/bank/?id=203507</td>\n",
       "    </tr>\n",
       "    <tr>\n",
       "      <th>2527</th>\n",
       "      <td>Чернышевск-Забайкальский</td>\n",
       "      <td>1026</td>\n",
       "      <td>08.04.1992</td>\n",
       "      <td>[&lt;dd class=\"margin-bottom-zero\"&gt;Лицензия аннул...</td>\n",
       "      <td>ликв.</td>\n",
       "      <td>/banks/memory/bank/?id=203509</td>\n",
       "    </tr>\n",
       "    <tr>\n",
       "      <th>2528</th>\n",
       "      <td>Красночикойский</td>\n",
       "      <td>1045</td>\n",
       "      <td>08.04.1992</td>\n",
       "      <td>[&lt;dd class=\"margin-bottom-zero\"&gt;Лицензия аннул...</td>\n",
       "      <td>ликв.</td>\n",
       "      <td>/banks/memory/bank/?id=203511</td>\n",
       "    </tr>\n",
       "    <tr>\n",
       "      <th>2529</th>\n",
       "      <td>Мста</td>\n",
       "      <td>432</td>\n",
       "      <td>08.04.1992</td>\n",
       "      <td>[&lt;dd class=\"margin-bottom-zero\"&gt;Решение об отз...</td>\n",
       "      <td>отозв.</td>\n",
       "      <td>/banks/memory/bank/?id=203515</td>\n",
       "    </tr>\n",
       "    <tr>\n",
       "      <th>2530</th>\n",
       "      <td>Кировский</td>\n",
       "      <td>717</td>\n",
       "      <td>04.02.1992</td>\n",
       "      <td>[]</td>\n",
       "      <td>ликв.</td>\n",
       "      <td>/banks/memory/bank/?id=210584</td>\n",
       "    </tr>\n",
       "    <tr>\n",
       "      <th>2531</th>\n",
       "      <td>Курскагропромбанк</td>\n",
       "      <td>1010</td>\n",
       "      <td>28.12.1991</td>\n",
       "      <td>[]</td>\n",
       "      <td>ликв.</td>\n",
       "      <td>/banks/memory/bank/?id=221711</td>\n",
       "    </tr>\n",
       "    <tr>\n",
       "      <th>2532</th>\n",
       "      <td>Рязанский</td>\n",
       "      <td>867</td>\n",
       "      <td>28.12.1991</td>\n",
       "      <td>[]</td>\n",
       "      <td>ликв.</td>\n",
       "      <td>/banks/memory/bank/?id=217113</td>\n",
       "    </tr>\n",
       "    <tr>\n",
       "      <th>2533</th>\n",
       "      <td>Клепиковский</td>\n",
       "      <td>868</td>\n",
       "      <td>28.12.1991</td>\n",
       "      <td>[]</td>\n",
       "      <td>ликв.</td>\n",
       "      <td>/banks/memory/bank/?id=217116</td>\n",
       "    </tr>\n",
       "    <tr>\n",
       "      <th>2534</th>\n",
       "      <td>Янтиковский</td>\n",
       "      <td>1015</td>\n",
       "      <td>28.12.1991</td>\n",
       "      <td>[]</td>\n",
       "      <td>ликв.</td>\n",
       "      <td>/banks/memory/bank/?id=221732</td>\n",
       "    </tr>\n",
       "    <tr>\n",
       "      <th>2535</th>\n",
       "      <td>Мариинско-Посадский Коммерческий Банк</td>\n",
       "      <td>1021</td>\n",
       "      <td>28.12.1991</td>\n",
       "      <td>[]</td>\n",
       "      <td>ликв.</td>\n",
       "      <td>/banks/memory/bank/?id=221740</td>\n",
       "    </tr>\n",
       "    <tr>\n",
       "      <th>2536</th>\n",
       "      <td>Михайловский</td>\n",
       "      <td>893</td>\n",
       "      <td>28.12.1991</td>\n",
       "      <td>[]</td>\n",
       "      <td>ликв.</td>\n",
       "      <td>/banks/memory/bank/?id=217149</td>\n",
       "    </tr>\n",
       "    <tr>\n",
       "      <th>2537</th>\n",
       "      <td>Шиловский</td>\n",
       "      <td>897</td>\n",
       "      <td>28.12.1991</td>\n",
       "      <td>[]</td>\n",
       "      <td>ликв.</td>\n",
       "      <td>/banks/memory/bank/?id=217153</td>\n",
       "    </tr>\n",
       "    <tr>\n",
       "      <th>2538</th>\n",
       "      <td>Нижнеудинский Коммерческий Банк</td>\n",
       "      <td>1074</td>\n",
       "      <td>28.12.1991</td>\n",
       "      <td>[]</td>\n",
       "      <td>ликв.</td>\n",
       "      <td>/banks/memory/bank/?id=238151</td>\n",
       "    </tr>\n",
       "    <tr>\n",
       "      <th>2539</th>\n",
       "      <td>Ухоловский</td>\n",
       "      <td>768</td>\n",
       "      <td>28.12.1991</td>\n",
       "      <td>[]</td>\n",
       "      <td>ликв.</td>\n",
       "      <td>/banks/memory/bank/?id=215908</td>\n",
       "    </tr>\n",
       "    <tr>\n",
       "      <th>2540</th>\n",
       "      <td>Спассккомбанк</td>\n",
       "      <td>769</td>\n",
       "      <td>28.12.1991</td>\n",
       "      <td>[]</td>\n",
       "      <td>ликв.</td>\n",
       "      <td>/banks/memory/bank/?id=215912</td>\n",
       "    </tr>\n",
       "    <tr>\n",
       "      <th>2541</th>\n",
       "      <td>Аликовский</td>\n",
       "      <td>954</td>\n",
       "      <td>28.12.1991</td>\n",
       "      <td>[]</td>\n",
       "      <td>ликв.</td>\n",
       "      <td>/banks/memory/bank/?id=219776</td>\n",
       "    </tr>\n",
       "    <tr>\n",
       "      <th>2542</th>\n",
       "      <td>Порецкий</td>\n",
       "      <td>955</td>\n",
       "      <td>28.12.1991</td>\n",
       "      <td>[]</td>\n",
       "      <td>ликв.</td>\n",
       "      <td>/banks/memory/bank/?id=220097</td>\n",
       "    </tr>\n",
       "    <tr>\n",
       "      <th>2543</th>\n",
       "      <td>Бирюса</td>\n",
       "      <td>957</td>\n",
       "      <td>28.12.1991</td>\n",
       "      <td>[]</td>\n",
       "      <td>ликв.</td>\n",
       "      <td>/banks/memory/bank/?id=220099</td>\n",
       "    </tr>\n",
       "    <tr>\n",
       "      <th>2544</th>\n",
       "      <td>Рыбновский</td>\n",
       "      <td>859</td>\n",
       "      <td>28.12.1991</td>\n",
       "      <td>[]</td>\n",
       "      <td>ликв.</td>\n",
       "      <td>/banks/memory/bank/?id=217068</td>\n",
       "    </tr>\n",
       "    <tr>\n",
       "      <th>2545</th>\n",
       "      <td>Сасовобанк</td>\n",
       "      <td>862</td>\n",
       "      <td>28.12.1991</td>\n",
       "      <td>[]</td>\n",
       "      <td>ликв.</td>\n",
       "      <td>/banks/memory/bank/?id=217070</td>\n",
       "    </tr>\n",
       "    <tr>\n",
       "      <th>2546</th>\n",
       "      <td>Содружество</td>\n",
       "      <td>556</td>\n",
       "      <td>28.12.1991</td>\n",
       "      <td>[]</td>\n",
       "      <td>ликв.</td>\n",
       "      <td>/banks/memory/bank/?id=209141</td>\n",
       "    </tr>\n",
       "    <tr>\n",
       "      <th>2547</th>\n",
       "      <td>Александр Невский</td>\n",
       "      <td>1179</td>\n",
       "      <td>28.12.1991</td>\n",
       "      <td>[]</td>\n",
       "      <td>ликв.</td>\n",
       "      <td>/banks/memory/bank/?id=238326</td>\n",
       "    </tr>\n",
       "    <tr>\n",
       "      <th>2548</th>\n",
       "      <td>Конверсия, Реконструкция и Развитие</td>\n",
       "      <td>472</td>\n",
       "      <td>11.07.1991</td>\n",
       "      <td>[&lt;dd class=\"margin-bottom-zero\"&gt;В результате п...</td>\n",
       "      <td>отозв.</td>\n",
       "      <td>/banks/memory/bank/?id=206345</td>\n",
       "    </tr>\n",
       "    <tr>\n",
       "      <th>2549</th>\n",
       "      <td>Универсал</td>\n",
       "      <td>244</td>\n",
       "      <td>22.01.1991</td>\n",
       "      <td>[&lt;dd class=\"margin-bottom-zero\"&gt;Пpоведенная в ...</td>\n",
       "      <td>отозв.</td>\n",
       "      <td>/banks/memory/bank/?id=203724</td>\n",
       "    </tr>\n",
       "  </tbody>\n",
       "</table>\n",
       "<p>2550 rows × 6 columns</p>\n",
       "</div>"
      ],
      "text/plain": [
       "                                        Банк Лицензия    ликвдата  \\\n",
       "0                            Нефтяной Альянс     2859  14.03.2017   \n",
       "1                    Банк Экономический Союз     2798  13.03.2017   \n",
       "2                    Торговый Городской Банк     3180  13.03.2017   \n",
       "3              Межрегиональный Почтовый Банк     3171  03.03.2017   \n",
       "4                                 Анкор Банк      889  03.03.2017   \n",
       "5                                  Интехбанк     2705  03.03.2017   \n",
       "6                                Татфондбанк     3058  03.03.2017   \n",
       "7                                ГПБ-Ипотека     2403  21.02.2017   \n",
       "8              Северо-Западный 1 Альянс Банк      766  16.02.2017   \n",
       "9                                     Енисей      474  09.02.2017   \n",
       "10                            Тальменка-Банк      826  23.01.2017   \n",
       "11                                   Новация      840  23.01.2017   \n",
       "12                                    Сириус     3506  23.01.2017   \n",
       "13                            Юниаструм Банк     2771  20.01.2017   \n",
       "14                               Булгар Банк     1917  16.01.2017   \n",
       "15                                       НКБ     2942  29.12.2016   \n",
       "16                   Банк на Красных Воротах     2472  29.12.2016   \n",
       "17                Столичная расчетная палата   3419-К  22.12.2016   \n",
       "18          Межрегиональный Клиринговый Банк     2543  22.12.2016   \n",
       "19                                Форус Банк     3457  19.12.2016   \n",
       "20                                 Идея Банк      430  19.12.2016   \n",
       "21                                      Миръ     3089  19.12.2016   \n",
       "22                               Вологдабанк      992  19.12.2016   \n",
       "23                                 Вега-Банк     3270  09.12.2016   \n",
       "24                          М2М Прайвет Банк     1414  09.12.2016   \n",
       "25               Международный Банк Развития     2704  09.12.2016   \n",
       "26                 Русский Финансовый Альянс     2035  09.12.2016   \n",
       "27                                  МДМ Банк     2562  18.11.2016   \n",
       "28                          Бинбанк Мурманск     1276  18.11.2016   \n",
       "29               Национальный Залоговый Банк     2944  18.11.2016   \n",
       "...                                      ...      ...         ...   \n",
       "2520  Шахтинский Городской Коммерческий Банк      619  26.06.1992   \n",
       "2521                               Донкредит      789  26.06.1992   \n",
       "2522                            Трактор-Банк     1457  26.06.1992   \n",
       "2523          Егорлыкский Кооперативный Банк      551  26.06.1992   \n",
       "2524          Белоглинский Коммерческий Банк      530  26.06.1992   \n",
       "2525                              Катуньбанк      175  08.04.1992   \n",
       "2526                              Сердобский      765  08.04.1992   \n",
       "2527                Чернышевск-Забайкальский     1026  08.04.1992   \n",
       "2528                         Красночикойский     1045  08.04.1992   \n",
       "2529                                    Мста      432  08.04.1992   \n",
       "2530                               Кировский      717  04.02.1992   \n",
       "2531                       Курскагропромбанк     1010  28.12.1991   \n",
       "2532                               Рязанский      867  28.12.1991   \n",
       "2533                            Клепиковский      868  28.12.1991   \n",
       "2534                             Янтиковский     1015  28.12.1991   \n",
       "2535   Мариинско-Посадский Коммерческий Банк     1021  28.12.1991   \n",
       "2536                            Михайловский      893  28.12.1991   \n",
       "2537                               Шиловский      897  28.12.1991   \n",
       "2538         Нижнеудинский Коммерческий Банк     1074  28.12.1991   \n",
       "2539                              Ухоловский      768  28.12.1991   \n",
       "2540                           Спассккомбанк      769  28.12.1991   \n",
       "2541                              Аликовский      954  28.12.1991   \n",
       "2542                                Порецкий      955  28.12.1991   \n",
       "2543                                  Бирюса      957  28.12.1991   \n",
       "2544                              Рыбновский      859  28.12.1991   \n",
       "2545                              Сасовобанк      862  28.12.1991   \n",
       "2546                             Содружество      556  28.12.1991   \n",
       "2547                       Александр Невский     1179  28.12.1991   \n",
       "2548     Конверсия, Реконструкция и Развитие      472  11.07.1991   \n",
       "2549                               Универсал      244  22.01.1991   \n",
       "\n",
       "                                                причина  статус  \\\n",
       "0     [<dd class=\"margin-bottom-zero\"><p>Решение о п...  отозв.   \n",
       "1     [<dd class=\"margin-bottom-zero\"><p>Решение о п...  отозв.   \n",
       "2     [<dd class=\"margin-bottom-zero\"><p>Решение о п...  отозв.   \n",
       "3     [<dd class=\"margin-bottom-zero\"><p>Лицензия у ...   ликв.   \n",
       "4     [<dd class=\"margin-bottom-zero\"><p>Решение о п...  отозв.   \n",
       "5     [<dd class=\"margin-bottom-zero\">Решение о прим...  отозв.   \n",
       "6     [<dd class=\"margin-bottom-zero\">Решение о прим...  отозв.   \n",
       "7     [<dd class=\"margin-bottom-zero\">Приказом Банка...   ликв.   \n",
       "8     [<dd class=\"margin-bottom-zero\">Решение о прим...  отозв.   \n",
       "9     [<dd class=\"margin-bottom-zero\">Решение о прим...  отозв.   \n",
       "10    [<dd class=\"margin-bottom-zero\">Решение о прим...  отозв.   \n",
       "11    [<dd class=\"margin-bottom-zero\">Решение о прим...  отозв.   \n",
       "12    [<dd class=\"margin-bottom-zero\">Решение о прим...  отозв.   \n",
       "13    [<dd class=\"margin-bottom-zero\">Прекращение де...   ликв.   \n",
       "14    [<dd class=\"margin-bottom-zero\">Решение о прим...  отозв.   \n",
       "15    [<dd class=\"margin-bottom-zero\">Решение о прим...  отозв.   \n",
       "16    [<dd class=\"margin-bottom-zero\">Решение о прим...  отозв.   \n",
       "17    [<dd class=\"margin-bottom-zero\">Решение о прим...  отозв.   \n",
       "18    [<dd class=\"margin-bottom-zero\">Решение о прим...  отозв.   \n",
       "19    [<dd class=\"margin-bottom-zero\">Решение о прим...  отозв.   \n",
       "20    [<dd class=\"margin-bottom-zero\">Решение о прим...  отозв.   \n",
       "21    [<dd class=\"margin-bottom-zero\">Решение о прим...  отозв.   \n",
       "22    [<dd class=\"margin-bottom-zero\">Решение о прим...  отозв.   \n",
       "23    [<dd class=\"margin-bottom-zero\">Решение о прим...  отозв.   \n",
       "24    [<dd class=\"margin-bottom-zero\">Решение о прим...  отозв.   \n",
       "25    [<dd class=\"margin-bottom-zero\">Решение о прим...  отозв.   \n",
       "26    [<dd class=\"margin-bottom-zero\">Решение о прим...  отозв.   \n",
       "27    [<dd class=\"margin-bottom-zero\">Запись о регис...   ликв.   \n",
       "28    [<dd class=\"margin-bottom-zero\">Прекращение де...   ликв.   \n",
       "29    [<dd class=\"margin-bottom-zero\">Решение о прим...  отозв.   \n",
       "...                                                 ...     ...   \n",
       "2520                                                 []  отозв.   \n",
       "2521                                                 []  отозв.   \n",
       "2522                                                 []   ликв.   \n",
       "2523                                                 []  отозв.   \n",
       "2524                                                 []   ликв.   \n",
       "2525  [<dd class=\"margin-bottom-zero\">Лицензия аннул...   ликв.   \n",
       "2526  [<dd class=\"margin-bottom-zero\">Лицензия аннул...   ликв.   \n",
       "2527  [<dd class=\"margin-bottom-zero\">Лицензия аннул...   ликв.   \n",
       "2528  [<dd class=\"margin-bottom-zero\">Лицензия аннул...   ликв.   \n",
       "2529  [<dd class=\"margin-bottom-zero\">Решение об отз...  отозв.   \n",
       "2530                                                 []   ликв.   \n",
       "2531                                                 []   ликв.   \n",
       "2532                                                 []   ликв.   \n",
       "2533                                                 []   ликв.   \n",
       "2534                                                 []   ликв.   \n",
       "2535                                                 []   ликв.   \n",
       "2536                                                 []   ликв.   \n",
       "2537                                                 []   ликв.   \n",
       "2538                                                 []   ликв.   \n",
       "2539                                                 []   ликв.   \n",
       "2540                                                 []   ликв.   \n",
       "2541                                                 []   ликв.   \n",
       "2542                                                 []   ликв.   \n",
       "2543                                                 []   ликв.   \n",
       "2544                                                 []   ликв.   \n",
       "2545                                                 []   ликв.   \n",
       "2546                                                 []   ликв.   \n",
       "2547                                                 []   ликв.   \n",
       "2548  [<dd class=\"margin-bottom-zero\">В результате п...  отозв.   \n",
       "2549  [<dd class=\"margin-bottom-zero\">Пpоведенная в ...  отозв.   \n",
       "\n",
       "                                хреф  \n",
       "0     /banks/memory/bank/?id=9607838  \n",
       "1     /banks/memory/bank/?id=9604681  \n",
       "2     /banks/memory/bank/?id=9604686  \n",
       "3     /banks/memory/bank/?id=9576507  \n",
       "4     /banks/memory/bank/?id=9576536  \n",
       "5     /banks/memory/bank/?id=9576541  \n",
       "6     /banks/memory/bank/?id=9576563  \n",
       "7     /banks/memory/bank/?id=9558699  \n",
       "8     /banks/memory/bank/?id=9548566  \n",
       "9     /banks/memory/bank/?id=9534528  \n",
       "10    /banks/memory/bank/?id=9496166  \n",
       "11    /banks/memory/bank/?id=9496187  \n",
       "12    /banks/memory/bank/?id=9496192  \n",
       "13    /banks/memory/bank/?id=9506345  \n",
       "14    /banks/memory/bank/?id=9483841  \n",
       "15    /banks/memory/bank/?id=9463816  \n",
       "16    /banks/memory/bank/?id=9463828  \n",
       "17    /banks/memory/bank/?id=9447832  \n",
       "18    /banks/memory/bank/?id=9447838  \n",
       "19    /banks/memory/bank/?id=9439932  \n",
       "20    /banks/memory/bank/?id=9439939  \n",
       "21    /banks/memory/bank/?id=9439945  \n",
       "22    /banks/memory/bank/?id=9439950  \n",
       "23    /banks/memory/bank/?id=9425078  \n",
       "24    /banks/memory/bank/?id=9425083  \n",
       "25    /banks/memory/bank/?id=9425094  \n",
       "26    /banks/memory/bank/?id=9425137  \n",
       "27    /banks/memory/bank/?id=9385325  \n",
       "28    /banks/memory/bank/?id=9387441  \n",
       "29    /banks/memory/bank/?id=9376475  \n",
       "...                              ...  \n",
       "2520   /banks/memory/bank/?id=209265  \n",
       "2521   /banks/memory/bank/?id=215945  \n",
       "2522   /banks/memory/bank/?id=144294  \n",
       "2523   /banks/memory/bank/?id=209122  \n",
       "2524   /banks/memory/bank/?id=207596  \n",
       "2525   /banks/memory/bank/?id=203505  \n",
       "2526   /banks/memory/bank/?id=203507  \n",
       "2527   /banks/memory/bank/?id=203509  \n",
       "2528   /banks/memory/bank/?id=203511  \n",
       "2529   /banks/memory/bank/?id=203515  \n",
       "2530   /banks/memory/bank/?id=210584  \n",
       "2531   /banks/memory/bank/?id=221711  \n",
       "2532   /banks/memory/bank/?id=217113  \n",
       "2533   /banks/memory/bank/?id=217116  \n",
       "2534   /banks/memory/bank/?id=221732  \n",
       "2535   /banks/memory/bank/?id=221740  \n",
       "2536   /banks/memory/bank/?id=217149  \n",
       "2537   /banks/memory/bank/?id=217153  \n",
       "2538   /banks/memory/bank/?id=238151  \n",
       "2539   /banks/memory/bank/?id=215908  \n",
       "2540   /banks/memory/bank/?id=215912  \n",
       "2541   /banks/memory/bank/?id=219776  \n",
       "2542   /banks/memory/bank/?id=220097  \n",
       "2543   /banks/memory/bank/?id=220099  \n",
       "2544   /banks/memory/bank/?id=217068  \n",
       "2545   /banks/memory/bank/?id=217070  \n",
       "2546   /banks/memory/bank/?id=209141  \n",
       "2547   /banks/memory/bank/?id=238326  \n",
       "2548   /banks/memory/bank/?id=206345  \n",
       "2549   /banks/memory/bank/?id=203724  \n",
       "\n",
       "[2550 rows x 6 columns]"
      ]
     },
     "execution_count": 125,
     "metadata": {},
     "output_type": "execute_result"
    }
   ],
   "source": [
    "closed_banks = pd.DataFrame(bankrot)\n",
    "closed_banks"
   ]
  },
  {
   "cell_type": "code",
   "execution_count": 126,
   "metadata": {
    "collapsed": false
   },
   "outputs": [],
   "source": [
    "new_povod = [ ] \n",
    "for item in closed_banks['причина']:\n",
    "    if item == []:\n",
    "        new_povod.append('Причина не указана')\n",
    "    else:\n",
    "        new_povod.append(item[0].text)"
   ]
  },
  {
   "cell_type": "code",
   "execution_count": 127,
   "metadata": {
    "collapsed": false
   },
   "outputs": [],
   "source": [
    "closed_banks['Причина'] = new_povod  # новая причина с большой буквы П, старая с маленькой!\n",
    "closed_banks.drop('причина',axis=1,inplace=True) # дропаем старую причину!"
   ]
  },
  {
   "cell_type": "code",
   "execution_count": 128,
   "metadata": {
    "collapsed": true
   },
   "outputs": [],
   "source": [
    "# Списики банков!\n",
    "likvid_banks = closed_banks[closed_banks['статус']=='ликв.']['Банк']\n",
    "otozv_banks = closed_banks[closed_banks['статус']=='отозв.']['Банк']"
   ]
  },
  {
   "cell_type": "code",
   "execution_count": 129,
   "metadata": {
    "collapsed": false
   },
   "outputs": [
    {
     "data": {
      "text/plain": [
       "2550"
      ]
     },
     "execution_count": 129,
     "metadata": {},
     "output_type": "execute_result"
    }
   ],
   "source": [
    "len(likvid_banks) + len(otozv_banks)"
   ]
  },
  {
   "cell_type": "code",
   "execution_count": 130,
   "metadata": {
    "collapsed": false
   },
   "outputs": [],
   "source": [
    "# Причины по ликвидированным банкам: \n",
    "likvid_data = closed_banks[closed_banks['статус']=='ликв.']\n",
    "otozv_data = closed_banks[closed_banks['статус']=='отозв.']\n",
    "\n",
    "likvid_data.to_csv('likvid_data.csv',sep='\\t',header=True,index=False)\n",
    "otozv_data.to_csv('otozv_data.csv',sep='\\t',header=True,index=False)\n",
    "likvid_banks.to_csv('likvid_banks.csv',sep='\\t',header=True,index=False)\n",
    "otozv_banks.to_csv('otozv_banks.csv',sep='\\t',header=True,index=False)"
   ]
  },
  {
   "cell_type": "markdown",
   "metadata": {
    "collapsed": true
   },
   "source": [
    "# Проставляем 0 и 1 в наших данных"
   ]
  },
  {
   "cell_type": "code",
   "execution_count": 186,
   "metadata": {
    "collapsed": false
   },
   "outputs": [
    {
     "name": "stdout",
     "output_type": "stream",
     "text": [
      "1255\n",
      "544\n",
      "2006\n"
     ]
    },
    {
     "name": "stderr",
     "output_type": "stream",
     "text": [
      "/usr/local/lib/python3.5/dist-packages/IPython/core/interactiveshell.py:2717: DtypeWarning: Columns (3,6,7,8,9,10,21,22,23,24,25) have mixed types. Specify dtype option on import or set low_memory=False.\n",
      "  interactivity=interactivity, compiler=compiler, result=result)\n"
     ]
    }
   ],
   "source": [
    "# Подгружаем списки из банков.\n",
    "uniq_banks = list(pd.read_csv('uniq_banks.csv',sep='\\t',header = 0).iloc[:,0])\n",
    "uniq_banks2 = [re.sub(\"\\D\",'',item) for item in uniq_banks]\n",
    "\n",
    "print(len(uniq_banks))\n",
    "\n",
    "# Подгружаем данные по всякой отозванной фигне. \n",
    "likvid_data = pd.read_csv('likvid_data.csv',sep='\\t',header=0)\n",
    "otozv_data = pd.read_csv('otozv_data.csv',sep='\\t',header=0)\n",
    "print(likvid_data.shape[0])\n",
    "print(otozv_data.shape[0])\n",
    "\n",
    "# Подгружаем табличку с данными.\n",
    "bank_frame = pd.read_csv('bank_panel.csv',sep='\\t',header=0)\n",
    "#uniq_banks = set(bank_frame['Банк'])\n"
   ]
  },
  {
   "cell_type": "markdown",
   "metadata": {},
   "source": [
    "Мы должны взять из наших данных каждый банк, проверить его на предмет вхождения в список банков, чья лицензия была отозвана. Если она была отозвана, то нам необходимо найти дату, в которую лицензию отозвали и поставить на все дни, которые идут после этой даты цифру 1. Иначе мы должны поставить нули. "
   ]
  },
  {
   "cell_type": "code",
   "execution_count": 314,
   "metadata": {
    "collapsed": false
   },
   "outputs": [],
   "source": [
    "# Функция, которая находит состояния, ответственные за отзыв лицензии у конкретного банка.\n",
    "# Функция от двух аргументов. Первый - по какой дате ищем отзывы. Второй - номер банка. \n",
    "def Otz_To_be_or_not(dataframe, jjj):\n",
    "    uniq_b = uniq_banks2[jjj]\n",
    "    if uniq_b in list(dataframe['Лицензия']):\n",
    "        kill_date = list(dataframe[dataframe['Лицензия'] == uniq_b]['ликвдата'])[0]\n",
    "        compare_kill_date = kill_date[-4:] + '-' + kill_date[-7:-5] + '-01'\n",
    "\n",
    "        periods = list(bank_frame[bank_frame['Лицензия']==uniq_banks[jjj]]['год'])\n",
    "        n = len(periods)\n",
    "        n_kill = len([item for item in periods if item >= compare_kill_date])\n",
    "        cur_regime = [0 for i in range(n-n_kill)]\n",
    "        cur_regime.extend([1 for i in range(n_kill)])\n",
    "    else:\n",
    "        cur_regime = [0 for i in range(bank_frame[bank_frame['Лицензия']==uniq_banks[jjj]].shape[0])]\n",
    "    return(cur_regime)"
   ]
  },
  {
   "cell_type": "code",
   "execution_count": 312,
   "metadata": {
    "collapsed": false
   },
   "outputs": [
    {
     "data": {
      "text/plain": [
       "134285"
      ]
     },
     "execution_count": 312,
     "metadata": {},
     "output_type": "execute_result"
    }
   ],
   "source": [
    "# Проходимся функцией, определяющей отозвали лицензию или нет для каждого банка из фрэйма.\n",
    "Otozv_Regimes = [ ]\n",
    "for jjj in range(len(uniq_banks2)):\n",
    "    now_reg = Otz_To_be_or_not(otozv_data,jjj)\n",
    "    Otozv_Regimes.extend(now_reg)\n",
    "len(Otozv_Regimes)"
   ]
  },
  {
   "cell_type": "code",
   "execution_count": 262,
   "metadata": {
    "collapsed": false
   },
   "outputs": [
    {
     "data": {
      "text/plain": [
       "134285"
      ]
     },
     "execution_count": 262,
     "metadata": {},
     "output_type": "execute_result"
    }
   ],
   "source": [
    "# Размерность DataFrame и вектора режимов совпадает. Это хорошо. \n",
    "# Сделаем точно такую же колонку по ликвидированным банкам. \n",
    "\n",
    "Likv_Regimes = [ ]\n",
    "for jjj in range(len(uniq_banks2)):\n",
    "    now_reg = Otz_To_be_or_not(likvid_data,jjj)\n",
    "    Likv_Regimes.extend(now_reg)\n",
    "len(Likv_Regimes)"
   ]
  },
  {
   "cell_type": "code",
   "execution_count": 265,
   "metadata": {
    "collapsed": false
   },
   "outputs": [],
   "source": [
    "# Добавим в нашу таблицу две новые переменные.\n",
    "bank_frame['Otozvano'] = Otozv_Regimes\n",
    "bank_frame['Likvidirovano'] = Likv_Regimes"
   ]
  },
  {
   "cell_type": "markdown",
   "metadata": {},
   "source": [
    "# Наташины выкрутасы"
   ]
  },
  {
   "cell_type": "code",
   "execution_count": null,
   "metadata": {
    "collapsed": true
   },
   "outputs": [],
   "source": [
    "# Теперь введём последнюю - третью переменную, связанную с тем нужен нам банк или нет.\n",
    "# Эта переменная называется NATASHA. Если она равна bad,то от этот банк надо выбросить из выборки.\n",
    "# Если она равна GOOD, то банк нужно оставить. \n",
    "# В файле от Наташи 1 - банк подходит. 0 - банк не подходит. \n",
    "natasha = pd.read_csv('natasha_krit.csv',sep=';',header=0)\n",
    "natasha_bag = list(natasha[natasha['Unnamed: 1']==1]['Банк'])"
   ]
  },
  {
   "cell_type": "code",
   "execution_count": 337,
   "metadata": {
    "collapsed": true
   },
   "outputs": [],
   "source": [
    "# 1 - это херово, 0 - это хорошо!\n",
    "\n",
    "def Otz_To_be_or_not(dataframe, jjj):\n",
    "    uniq_b = uniq_banks2[jjj]\n",
    "    if uniq_b in list(dataframe['Лицензия']):\n",
    "        periods = list(bank_frame[bank_frame['Лицензия']==uniq_banks[jjj]]['год'])\n",
    "        n = len(periods)\n",
    "        \n",
    "        obj = list(bank_frame[bank_frame['Лицензия'] == uniq_banks[jjj]]['Банк'])[0]\n",
    "        if obj not in natasha_bag and obj in list(dataframe['Банк']):\n",
    "            Ntsha = [1 for i in range(n)]\n",
    "        else:\n",
    "            Ntsha = [0 for i in range(n)]\n",
    "\n",
    "    else:\n",
    "        Ntsha = [0 for i in range(bank_frame[bank_frame['Лицензия']==uniq_banks[jjj]].shape[0])]\n",
    "    return(Ntsha)\n"
   ]
  },
  {
   "cell_type": "code",
   "execution_count": 338,
   "metadata": {
    "collapsed": false
   },
   "outputs": [
    {
     "name": "stdout",
     "output_type": "stream",
     "text": [
      "134285\n",
      "134285\n"
     ]
    }
   ],
   "source": [
    "Natasha_Otozv_Regimes = [ ]\n",
    "for jjj in range(len(uniq_banks2)):\n",
    "    now_reg = Otz_To_be_or_not(otozv_data,jjj)\n",
    "    Natasha_Otozv_Regimes.extend(now_reg)\n",
    "print(len(Natasha_Otozv_Regimes))\n",
    "\n",
    "Natasha_Likv_Regimes = [ ]\n",
    "for jjj in range(len(uniq_banks2)):\n",
    "    now_reg = Otz_To_be_or_not(likvid_data,jjj)\n",
    "    Natasha_Likv_Regimes.extend(now_reg)\n",
    "print(len(Natasha_Likv_Regimes))"
   ]
  },
  {
   "cell_type": "code",
   "execution_count": 341,
   "metadata": {
    "collapsed": false
   },
   "outputs": [],
   "source": [
    "indicators = [Natasha_Likv_Regimes[i] +  Natasha_Otozv_Regimes[i] for i in range(len(Natasha_Likv_Regimes))]"
   ]
  },
  {
   "cell_type": "code",
   "execution_count": 343,
   "metadata": {
    "collapsed": false
   },
   "outputs": [],
   "source": [
    "bank_frame['Natasha'] = indicators"
   ]
  },
  {
   "cell_type": "code",
   "execution_count": 345,
   "metadata": {
    "collapsed": true
   },
   "outputs": [],
   "source": [
    "# Сохраняем грязный результат в двух форматах! \n",
    "bank_frame.to_csv('dirty_bank_panel.csv',sep='\\t',header=True,index=False,na_rep='NA')\n",
    "bank_frame.to_excel('dirty_bank_panel.xlsx',na_rep='NA')"
   ]
  },
  {
   "cell_type": "code",
   "execution_count": 354,
   "metadata": {
    "collapsed": false
   },
   "outputs": [],
   "source": [
    "# Теперь удалим все банки, которые нам не подходят. То есть все банки, для которых переменная\n",
    "# Natasha отличается от нуля. \n",
    "\n",
    "drop_rows = list(bank_frame[bank_frame['Natasha']!=0].index)\n",
    "clean_frame = bank_frame.drop(drop_rows)"
   ]
  },
  {
   "cell_type": "code",
   "execution_count": 357,
   "metadata": {
    "collapsed": true
   },
   "outputs": [],
   "source": [
    "# Сохраняем чистый результат в двух форматах! \n",
    "clean_frame.to_csv('clean_bank_panel.csv',sep='\\t',header=True,index=False,na_rep='NA')\n",
    "clean_frame.to_excel('clean_bank_panel.xlsx',na_rep='NA')"
   ]
  },
  {
   "cell_type": "code",
   "execution_count": null,
   "metadata": {
    "collapsed": true
   },
   "outputs": [],
   "source": []
  },
  {
   "cell_type": "code",
   "execution_count": null,
   "metadata": {
    "collapsed": true
   },
   "outputs": [],
   "source": []
  },
  {
   "cell_type": "code",
   "execution_count": null,
   "metadata": {
    "collapsed": true
   },
   "outputs": [],
   "source": []
  }
 ],
 "metadata": {
  "kernelspec": {
   "display_name": "Python 3",
   "language": "python",
   "name": "python3"
  },
  "language_info": {
   "codemirror_mode": {
    "name": "ipython",
    "version": 3
   },
   "file_extension": ".py",
   "mimetype": "text/x-python",
   "name": "python",
   "nbconvert_exporter": "python",
   "pygments_lexer": "ipython3",
   "version": "3.5.2"
  }
 },
 "nbformat": 4,
 "nbformat_minor": 1
}
