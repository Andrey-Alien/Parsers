{
 "cells": [
  {
   "cell_type": "markdown",
   "metadata": {},
   "source": [
    "Функция, подгружающая файл, относящийся к конкретному дню."
   ]
  },
  {
   "cell_type": "code",
   "execution_count": 296,
   "metadata": {
    "collapsed": false
   },
   "outputs": [],
   "source": [
    "def Download(n,month):\n",
    "    file_obj = open('C:/Users/zero/Desktop/scientific_work/estimation/my_data/'+str(month)+'/'+str(n)+'.txt','r')\n",
    "    df = file_obj.readlines()\n",
    "    return df"
   ]
  },
  {
   "cell_type": "markdown",
   "metadata": {},
   "source": [
    "Функция, осуществляющая проверку фаула на пустоту. Если файл пуст, то в векторе сигналов стоит 0 - отсутствие новости."
   ]
  },
  {
   "cell_type": "code",
   "execution_count": 297,
   "metadata": {
    "collapsed": false
   },
   "outputs": [],
   "source": [
    "def IsEmpty(file):\n",
    "    if file ==[]:\n",
    "        return(0)\n",
    "    else:\n",
    "        return('no estimate')"
   ]
  },
  {
   "cell_type": "markdown",
   "metadata": {},
   "source": [
    "Вспомогательная функция, позволяющая узнать сколько в месяце дней из первого файла. "
   ]
  },
  {
   "cell_type": "code",
   "execution_count": 298,
   "metadata": {
    "collapsed": true
   },
   "outputs": [],
   "source": [
    "def monthlength(month,year):\n",
    "    if year % 4 == 0:\n",
    "         VisYear = 29\n",
    "    else:\n",
    "         VisYear = 28\n",
    "    return [31,VisYear,31,30,31,30,31,31,30,31,30,31][month]"
   ]
  },
  {
   "cell_type": "markdown",
   "metadata": {},
   "source": [
    "Зададим вектор сиганлов и в первый раз пройдемся по каждому дню в поисках пустых заявлений. Оформим его как функцию от месяца и года. "
   ]
  },
  {
   "cell_type": "code",
   "execution_count": 301,
   "metadata": {
    "collapsed": false
   },
   "outputs": [],
   "source": [
    "def signal(month,year):\n",
    "    signal = [IsEmpty(Download(item,month)) for item in range(1,monthlength(month-1,year)+1)]\n",
    "    return signal"
   ]
  },
  {
   "cell_type": "code",
   "execution_count": 302,
   "metadata": {
    "collapsed": false
   },
   "outputs": [
    {
     "data": {
      "text/plain": [
       "28"
      ]
     },
     "execution_count": 302,
     "metadata": {},
     "output_type": "execute_result"
    }
   ],
   "source": [
    "s = signal(2,2015)\n",
    "len(s)"
   ]
  },
  {
   "cell_type": "markdown",
   "metadata": {},
   "source": [
    "Поиск мусорных статей."
   ]
  },
  {
   "cell_type": "code",
   "execution_count": 275,
   "metadata": {
    "collapsed": false
   },
   "outputs": [
    {
     "ename": "SyntaxError",
     "evalue": "invalid syntax (<ipython-input-275-3da605551c6b>, line 2)",
     "output_type": "error",
     "traceback": [
      "\u001b[1;36m  File \u001b[1;32m\"<ipython-input-275-3da605551c6b>\"\u001b[1;36m, line \u001b[1;32m2\u001b[0m\n\u001b[1;33m    news.count(\"ЦБ Индии\")+\u001b[0m\n\u001b[1;37m                           ^\u001b[0m\n\u001b[1;31mSyntaxError\u001b[0m\u001b[1;31m:\u001b[0m invalid syntax\n"
     ]
    }
   ],
   "source": [
    "def IsItRubbish(news):\n",
    "    news.count(\"ЦБ Индии\")+\n",
    "    news.count(\"ЦБ Швейцарии\")+\n",
    "    news.count(\"Национальный банк Швейцарии\")+\n",
    "    news.count(\"банк Индии\")+\n",
    "    news.count(\"банка Швейцарии\")+\n",
    "    news.count(\"Константин Сонин\")+\n",
    "    news.count(\"ЦБ Турции\")+\n",
    "    news.count(\"Турецкий центробанк\")+\n",
    "    news.count(\"Датский ЦБ\")+\n",
    "    news.count(\"ЦБ Дании\")+\n",
    "    news.count(\"Национальный банк Дании\")+\n",
    "    news.count(\"КПРФ\")+\n",
    "    news.count(\"ЕЦБ\")+\n",
    "    news.count(\"ЦБ азиатских стран\")+\n",
    "    news.count(\"ЦБ Китая\")+\n",
    "    news.count(\"еврозоны\")+\n",
    "    news.count(\"Внешэкономбанк не исключает повышения\")+\n",
    "    news.count(\"ЦБ Швеции\")+\n",
    "    news.count(\"Центробанк Швеции\")+\n",
    "    news.count(\"Шведский ЦБ\")\n",
    "    "
   ]
  },
  {
   "cell_type": "markdown",
   "metadata": {},
   "source": [
    "Поиск всяких ужесточений, связанных с инфляцией:"
   ]
  },
  {
   "cell_type": "code",
   "execution_count": 335,
   "metadata": {
    "collapsed": false
   },
   "outputs": [
    {
     "data": {
      "text/plain": [
       "[0,\n",
       " 0,\n",
       " 1,\n",
       " 0,\n",
       " 0,\n",
       " 0,\n",
       " ['no news'],\n",
       " ['no news'],\n",
       " 0,\n",
       " 0,\n",
       " 0,\n",
       " 0,\n",
       " 0,\n",
       " ['no news'],\n",
       " ['no news'],\n",
       " 0,\n",
       " 0,\n",
       " 0,\n",
       " 0,\n",
       " 0,\n",
       " ['no news'],\n",
       " ['no news'],\n",
       " ['no news'],\n",
       " ['no news'],\n",
       " 0,\n",
       " 0,\n",
       " 0,\n",
       " ['no news']]"
      ]
     },
     "execution_count": 335,
     "metadata": {},
     "output_type": "execute_result"
    }
   ],
   "source": [
    "def InflationToughen(n,month):\n",
    "    r = Download(n,month)\n",
    "    if IsEmpty(r) == 0:\n",
    "        estimate= [\"no news\"]\n",
    "    else:\n",
    "        estimate = [el.count(\" стабилизировать инфляцию\")+ \n",
    "                    el.count(\" ограничить рост инфляционных ожиданий\")+\n",
    "                    el.count(\" придерживаться инфляционного таргетирования\")+\n",
    "                    el.count(\"Цель ЦБ остается прежней - инфляция 4%\") for el in r]\n",
    "        estimate = sum(estimate)\n",
    "    return estimate\n",
    "[InflationToughen(j,2) for j in range(1,monthlength(1,2015)+1)]"
   ]
  },
  {
   "cell_type": "markdown",
   "metadata": {},
   "source": [
    "Поиск приостановки выпуска облигаций, ввода временных администраций, какие-то другие слова набиуллиной:"
   ]
  },
  {
   "cell_type": "code",
   "execution_count": 334,
   "metadata": {
    "collapsed": false
   },
   "outputs": [
    {
     "data": {
      "text/plain": [
       "[[0],\n",
       " [0, 0],\n",
       " [1, 0, 0, 0, 0, 0],\n",
       " [0, 0, 0, 0, 0],\n",
       " [0, 0, 0, 0, 0, 0],\n",
       " [0, 0, 0],\n",
       " ['no news'],\n",
       " ['no news'],\n",
       " [0, 0],\n",
       " [0, 0],\n",
       " [0],\n",
       " [0, 0, 0, 0, 0, 0],\n",
       " [0, 0, 0],\n",
       " ['no news'],\n",
       " ['no news'],\n",
       " [0, 0, 0, 0],\n",
       " [0, 0, 0, 0],\n",
       " [0, 0, 0],\n",
       " [0, 0],\n",
       " [0],\n",
       " ['no news'],\n",
       " ['no news'],\n",
       " ['no news'],\n",
       " ['no news'],\n",
       " [0, 1, 0],\n",
       " [2],\n",
       " [0, 0, 0],\n",
       " ['no news']]"
      ]
     },
     "execution_count": 334,
     "metadata": {},
     "output_type": "execute_result"
    }
   ],
   "source": [
    "def SecurityToughen(n,month):\n",
    "    r = Download(n,month)\n",
    "    if IsEmpty(r)==0:\n",
    "        estimate = ['no news']\n",
    "    else:\n",
    "        estimate = [el.count(\" приостановил \" and \" выпуск бумаг\") + \n",
    "                    el.count(\" ЦБ \" and \" временную администрацию\")+\n",
    "                    el.count(\"ввел уполномоченных\") +\n",
    "                    el.count(\"наша политика несмотря на снижение ставки с 17% до 15% остается жесткой\")\n",
    "                    for el in r]\n",
    "        estimate = estimate\n",
    "    return estimate\n",
    "[SecurityToughen(j,2) for j in range(1,monthlength(1,2015)+1)]"
   ]
  },
  {
   "cell_type": "markdown",
   "metadata": {},
   "source": [
    "Новости, связанные с банковской системой:"
   ]
  },
  {
   "cell_type": "code",
   "execution_count": 336,
   "metadata": {
    "collapsed": false
   },
   "outputs": [
    {
     "name": "stdout",
     "output_type": "stream",
     "text": [
      "[[0], [0, 0], [0, 0, 0, 0, 0, 0], [0, 0, 0, 0, 0], [0, 0, 0, 0, 0, 0], [0, 0, 0], ['no news'], ['no news'], [0, 0], [0, 0], [2], [0, 0, 0, 0, 0, 0], [0, 0, 0], ['no news'], ['no news'], [0, 0, 0, 0], [0, 0, 0, 0], [0, 0, 0], [0, 0], [0], ['no news'], ['no news'], ['no news'], ['no news'], [0, 0, 0], [0], [0, 0, 0], ['no news']]\n"
     ]
    },
    {
     "data": {
      "text/plain": [
       "[[0],\n",
       " [0, 0],\n",
       " [0, 0, 0, 0, 0, 0],\n",
       " [0, 0, 0, 0, 0],\n",
       " [0, 0, 0, 0, 0, 0],\n",
       " [0, 0, 0],\n",
       " ['no news'],\n",
       " ['no news'],\n",
       " [0, 0],\n",
       " [0, 0],\n",
       " [0],\n",
       " [0, 0, 0, 0, 0, 0],\n",
       " [0, 0, 0],\n",
       " ['no news'],\n",
       " ['no news'],\n",
       " [0, 0, 0, 0],\n",
       " [0, 0, 0, 0],\n",
       " [0, 0, 0],\n",
       " [0, 0],\n",
       " [0],\n",
       " ['no news'],\n",
       " ['no news'],\n",
       " ['no news'],\n",
       " ['no news'],\n",
       " [0, 0, 0],\n",
       " [0],\n",
       " [0, 0, 0],\n",
       " ['no news']]"
      ]
     },
     "execution_count": 336,
     "metadata": {},
     "output_type": "execute_result"
    }
   ],
   "source": [
    "def BankToughen(n,month):\n",
    "    r = Download(n,month)\n",
    "    if IsEmpty(r)==0:\n",
    "        estimate = ['no news']\n",
    "    else:\n",
    "        estimate = [el.count(\"отозвал лицензию\")+\n",
    "                    el.count(\"лишил лицензии\")\n",
    "                     for el in r]\n",
    "        estimate = estimate\n",
    "    return estimate\n",
    "print ([BankToughen(j,2) for j in range(1,monthlength(1,2015)+1)]);\n",
    "\n",
    "def BankCushion(n,month):\n",
    "    r = Download(n,month)\n",
    "    if IsEmpty(r)==0:\n",
    "        estimate = ['no news']\n",
    "    else:\n",
    "        estimate = [el.count(\" финансового оздоровления банков\")  \n",
    "                     for el in r]\n",
    "        estimate = estimate\n",
    "    return estimate\n",
    "[BankToughen(j,2) for j in range(1,monthlength(1,2015)+1)]"
   ]
  },
  {
   "cell_type": "markdown",
   "metadata": {},
   "source": [
    "Новости, связанные с деньгами ЦБ, эмиссией, кредитованием и РЕПО:"
   ]
  },
  {
   "cell_type": "code",
   "execution_count": 319,
   "metadata": {
    "collapsed": false
   },
   "outputs": [
    {
     "name": "stdout",
     "output_type": "stream",
     "text": [
      "[[0], [0, 0], [0, 0, 0, 0, 0, 0], [0, 0, 0, 0, 0], [0, 0, 0, 0, 0, 0], [0, 0, 0], ['no news'], ['no news'], [0, 0], [0, 0], [0], [0, 0, 0, 0, 0, 0], [0, 0, 0], ['no news'], ['no news'], [0, 0, 0, 0], [0, 0, 0, 0], [0, 0, 0], [0, 0], [0], ['no news'], ['no news'], ['no news'], ['no news'], [0, 0, 0], [0], [0, 0, 0], ['no news']]\n"
     ]
    },
    {
     "data": {
      "text/plain": [
       "[[0],\n",
       " [0, 0],\n",
       " [0, 0, 0, 0, 0, 0],\n",
       " [0, 0, 0, 0, 0],\n",
       " [0, 0, 0, 1, 0, 0],\n",
       " [0, 0, 0],\n",
       " ['no news'],\n",
       " ['no news'],\n",
       " [0, 0],\n",
       " [0, 0],\n",
       " [0],\n",
       " [0, 0, 0, 0, 0, 0],\n",
       " [0, 0, 0],\n",
       " ['no news'],\n",
       " ['no news'],\n",
       " [0, 0, 0, 0],\n",
       " [0, 0, 0, 0],\n",
       " [0, 0, 0],\n",
       " [0, 0],\n",
       " [0],\n",
       " ['no news'],\n",
       " ['no news'],\n",
       " ['no news'],\n",
       " ['no news'],\n",
       " [0, 0, 0],\n",
       " [0],\n",
       " [0, 0, 0],\n",
       " ['no news']]"
      ]
     },
     "execution_count": 319,
     "metadata": {},
     "output_type": "execute_result"
    }
   ],
   "source": [
    "def MoneyToughen(n,month):\n",
    "    r = Download(n,month)\n",
    "    if IsEmpty(r)==0:\n",
    "        estimate = ['no news']\n",
    "    else:\n",
    "        estimate = [el.count(\"gfngdntsjnt\")  \n",
    "                     for el in r]\n",
    "        estimate = estimate\n",
    "    return estimate\n",
    "print([MoneyToughen(j,2) for j in range(1,monthlength(1,2015)+1)]);\n",
    "\n",
    "\n",
    "\n",
    "def MoneyCushion(n,month):\n",
    "    r = Download(n,month)\n",
    "    if IsEmpty(r)==0:\n",
    "        estimate = ['no news']\n",
    "    else:\n",
    "        estimate = [el.count(\"поддержку банков и реального сектора\")+\n",
    "                    el.count(\"поддержку реального сектора\")+\n",
    "                    el.count(\"поддержку банков\")+\n",
    "                    el.count(\"поддержкa банков и реального сектора\")+\n",
    "                    el.count(\"поддержка реального сектора\")+\n",
    "                    el.count(\"поддержка банков\")\n",
    "                     for el in r]\n",
    "        estimate = estimate\n",
    "    return estimate\n",
    "[MoneyCushion(j,2) for j in range(1,monthlength(1,2015)+1)]"
   ]
  },
  {
   "cell_type": "markdown",
   "metadata": {},
   "source": [
    "Новости, связанные со ставками:"
   ]
  },
  {
   "cell_type": "code",
   "execution_count": 323,
   "metadata": {
    "collapsed": false
   },
   "outputs": [
    {
     "name": "stdout",
     "output_type": "stream",
     "text": [
      "[[0], [0, 0], [0, 0, 0, 0, 0, 0], [0, 0, 0, 0, 0], [0, 0, 0, 0, 0, 0], [0, 0, 0], ['no news'], ['no news'], [0, 0], [0, 0], [0], [0, 0, 0, 0, 0, 0], [0, 0, 0], ['no news'], ['no news'], [0, 0, 0, 0], [0, 0, 0, 0], [0, 0, 0], [0, 0], [0], ['no news'], ['no news'], ['no news'], ['no news'], [0, 0, 0], [0], [0, 0, 0], ['no news']]\n"
     ]
    },
    {
     "data": {
      "text/plain": [
       "[[0],\n",
       " [0, 0],\n",
       " [0, 0, 0, 0, 0, 0],\n",
       " [0, 0, 0, 0, 0],\n",
       " [0, 0, 0, 0, 0, 0],\n",
       " [0, 0, 0],\n",
       " ['no news'],\n",
       " ['no news'],\n",
       " [0, 0],\n",
       " [0, 0],\n",
       " [0],\n",
       " [0, 0, 0, 0, 0, 0],\n",
       " [0, 0, 0],\n",
       " ['no news'],\n",
       " ['no news'],\n",
       " [0, 0, 0, 0],\n",
       " [0, 0, 0, 0],\n",
       " [0, 0, 0],\n",
       " [0, 0],\n",
       " [0],\n",
       " ['no news'],\n",
       " ['no news'],\n",
       " ['no news'],\n",
       " ['no news'],\n",
       " [0, 0, 0],\n",
       " [0],\n",
       " [0, 0, 0],\n",
       " ['no news']]"
      ]
     },
     "execution_count": 323,
     "metadata": {},
     "output_type": "execute_result"
    }
   ],
   "source": [
    "def RateToughen(n,month):\n",
    "    r = Download(n,month)\n",
    "    if IsEmpty(r)==0:\n",
    "        estimate = ['no news']\n",
    "    else:\n",
    "        estimate = [el.count(\"dsfbrbaarra\")  \n",
    "                     for el in r]\n",
    "        estimate = estimate\n",
    "    return estimate\n",
    "print([RateToughen(j,2) for j in range(1,monthlength(1,2015)+1)])\n",
    "\n",
    "\n",
    "\n",
    "def RateCushion(n,month):\n",
    "    r = Download(n,month)\n",
    "    if IsEmpty(r)==0:\n",
    "        estimate = ['no news']\n",
    "    else:\n",
    "        estimate = [el.count(\"ЦБ готов снизить ключевую ставку\")+\n",
    "                    el.count(\"ЦБ может снизить ключевую ставку\")+\n",
    "                    el.count(\"Центробанк может снизить ключевую ставку\")+\n",
    "                    el.count(\"Решение ЦБ снизить ключевую ставку\")+\n",
    "                    el.count(\"решение ЦБ снизить ключевую ставку\")+\n",
    "                    el.count(\"Банк России снизил ключевую ставку\")\n",
    "                    for el in r]\n",
    "        estimate = estimate\n",
    "    return estimate\n",
    "[RateCushion(j,2) for j in range(1,monthlength(1,2015)+1)]"
   ]
  }
 ],
 "metadata": {
  "kernelspec": {
   "display_name": "Python 3",
   "language": "python",
   "name": "python3"
  },
  "language_info": {
   "codemirror_mode": {
    "name": "ipython",
    "version": 3
   },
   "file_extension": ".py",
   "mimetype": "text/x-python",
   "name": "python",
   "nbconvert_exporter": "python",
   "pygments_lexer": "ipython3",
   "version": "3.5.1"
  }
 },
 "nbformat": 4,
 "nbformat_minor": 0
}
