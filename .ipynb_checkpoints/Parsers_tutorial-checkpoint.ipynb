{
 "cells": [
  {
   "cell_type": "markdown",
   "metadata": {},
   "source": [
    "<center>\n",
    "<img src=\"../../img/ods_stickers.jpg\">\n",
    "## Открытый курс по машинному обучению\n",
    "Автор материала: Ульянкин Филипп (@filfonul). Данный туториал распостраняется по лицензии [Do What The Fuck You Want To Public License (WTFPL)](http://www.wtfpl.net/)\n",
    "\n",
    "# <center> Грабёж, разбой и другие незаконные деяния с помощью Python. Грабим ЦИАН.  </center>\n",
    "---------"
   ]
  },
  {
   "cell_type": "markdown",
   "metadata": {},
   "source": [
    "Машинное обучение, эконометрика, статистика и многие другие науки о данных занимаются поиском закономерностей. Каждый день доблестные аналитики-инквизиторы пытают природу разными методами и вытаскивают из неё сведенья о том как именно устроен великий процесс порождения данных, создавший нашу вселенную. Испанские инквизиторы в своей повседневной деятельности пытали непосредственно физическое тело своей жертвы. Природа вездесуща и не имеет однозначного физического облика. Из-за этого профессия современного инквизитора имеет странную специфику. Пытки природы происходят через анализ данных, которые надо откуда-то брать. Этот туториал призван немного приоткрыть завесу тайны с того откуда данные берутся и как их можно немножечко пособирать. Нашим девизом будет знаменитая фраза капитана Джэка Воробья: \"Бери всё и не отдавай ничего\", а сам туториал будет состоять из нескольких частей: \n",
    "\n",
    "1. Учимся скачивать ЦИАН, что такое API и как отобрать что-нибудь у Google; \n",
    "2. API Вконтакте или как приоткрыть завесу чужой личной жизни.\n",
    "\n",
    "\n",
    "<img align=\"center\" src=\"https://d.justpo.st/media/images/2014/04/e4eec44d91001b3ab02407d48fe92075.jpg\n",
    "\" height=\"300\" width=\"300\"> \n",
    "\n",
    "В этой части мы зайдём на ЦИАН без стука и заберём себе много данных. После мы очистим их от мусора и приправим данными из дополнительного источника, гугла. На выходе у нас будет красивый датафрейм."
   ]
  },
  {
   "cell_type": "markdown",
   "metadata": {},
   "source": [
    "# 1.  Грабим ЦИАН.\n",
    "\n",
    "## 1.1. Что мы хотим получить\n",
    "\n",
    "Итак, нам нужно распарсить [cian.ru](http://cian.ru) и получить кучу разных переменных: \n",
    "\n",
    "- **Rooms** – число комнат \n",
    "- **Price** – цена\n",
    "- **Totsp** – общая площадь квартиры, кв. м.\n",
    "- **Metrdist** – расстояние до метро в минутах\n",
    "- ** И другие** \n",
    "\n",
    "После полученные данные надо будет почистить, обработать и на очищенных данных можно будет строить свои модели. Например, попыться объяснить стоимость квартиры по остальным факторам. Более того, мы хотим сделать это без вот этого всего: \n",
    "\n",
    "<img align=\"center\" src=\"https://raw.githubusercontent.com/FUlyankin/Parsers/master/images%20/2.png\" height=\"600\" width=\"600\">\n",
    "\n",
    "И сделаем. Но для начала пара зубодробительных определений:\n",
    "\n",
    "* **Парсер** — это скрипт, который грабит информацию с сайта\n",
    "* **Краулер** — это часть парсера, которая бродит по ссылкам\n",
    "* **Краулинг** — это переход по страницам и ссылкам\n",
    "* **Скрапинг** — это сбор данных со страниц\n",
    "* **Парсинг** — это сразу и краулинг и скрапинг! \n",
    "\n",
    "\n",
    "\n",
    "## 1.2.  Что такое HTML \n",
    "\n",
    "**HTML (HyperText Markup Language)**  — это такой же язык разметки как Markdown или LaTeX. Он является стандартным для написания различных сайтов. Команды в таком языке называются **тегами**. Если открыть абсолютно любой сайт, нажать на правую кнопку мышки, а после нажать `View page source`, то перед вами предстанет HTML скелет этого сайта. \n",
    "\n",
    "Можно увидеть, что HTML-страница это ни что иное как набор вложенных тегов. Можно заметить, например, следующие теги:\n",
    "\n",
    "- `<title>` – заголовок страницы\n",
    "- `<h1>…<h6>` – заголовки разных уровней\n",
    "- `<p>` – абзац (paragraph)\n",
    "- `<div>` – выделения фрагмента документа с целью изменения вида содержимого\n",
    "- `<table>` – прорисовка таблицы \n",
    "- `<tr>` – разделитель для строк в таблице \n",
    "- `<td>` – разделитель для столбцов в таблице\n",
    "- `<b>` – устанавливает жирное начертание шрифта\n",
    "\n",
    "Обычно команда `<...>` открывает тег, а  `</...>` закрывает его. Все, что находится между этими двумя командами, подчиняется правилу, которое диктует тег. Например, все, что находится между `<p>` и  `</p>` — это отдельный абзац.   \n",
    "\n",
    "Теги образуют своеобразное дерево с корнем в теге `<html>` и разбивают страницу на разные логические кусочки. У каждого тега есть свои потомки (дети) — те теги, которые вложены в него и свои родители. \n",
    "\n",
    "Например, HTML-древо страницы может выглядеть вот так:\n",
    "\n",
    "    <html>\n",
    "    <head> Заголовок </head>\n",
    "    <body>\n",
    "        <div> \n",
    "            Первый кусок текста со своими свойствами\n",
    "        </div>\n",
    "        <div>\n",
    "            Второй кусок текста\n",
    "                <b>\n",
    "                    Третий, жирный кусок\n",
    "                </b>\n",
    "        </div>\n",
    "        Четвёртый кусок текста        \n",
    "    </body>\n",
    "    </html>            \n",
    "    \n",
    "    \n",
    "<img align=\"center\" src=\"https://raw.githubusercontent.com/FUlyankin/Parsers/master/images%20/tree.png\" height=\"500\" width=\"500\"> \n",
    "\n",
    "Можно работать с этим html как с тексом, а можно как с деревом. Обход этого дерева и есть парсинг веб-страницы. Мы всего лишь будем находить нужные нам узлы среди всего этого разнообразия и забирать из них информацию!\n",
    "\n",
    "Вручную обходить эти деревья не очень приятно, поэтому есть специальные языки для обхода деревьев.\n",
    "\n",
    "- [CSS-селектор](https://ru.wikibooks.org/wiki/CSS/%D0%A1%D0%B5%D0%BB%D0%B5%D0%BA%D1%82%D0%BE%D1%80%D1%8B) (это когда мы ищем элемент страницы по паре ключ, значение)\n",
    "- XPath  (это когда мы прописываем путь по дереву вот так: /html/body/div[1]/div[3]/div/div[2]/div)\n",
    "- Всякие разные библиотеки для всяких разных языков, например, BeautifulSoup для питона. Именно эту библиотеку мы и будем использовать. "
   ]
  },
  {
   "cell_type": "markdown",
   "metadata": {},
   "source": [
    "## 1.3. Наш первый запрос\n",
    "\n",
    "Доступ к веб-станицам позволяет получать модуль `requests`. Подгрузим его. Если у вас не установлен этот модуль, то придётся напрячься и установить, прописав в терминале `pip3 install requests`."
   ]
  },
  {
   "cell_type": "code",
   "execution_count": 1,
   "metadata": {
    "collapsed": true
   },
   "outputs": [],
   "source": [
    "import requests\n",
    "import numpy as np \n",
    "import pandas as pd"
   ]
  },
  {
   "cell_type": "markdown",
   "metadata": {},
   "source": [
    "Сохраним в переменную `mainpage` ссылку, по которой мы будем ходить и получим ответ на наш запрос по этой ссылке. Перед тем как скопировать ссылку, настроим параметры поиска. Будем искать 1- и 2-х комнатые квартиры в Москве для продажи. Все ограничения на поиск, которые мы выберем на сайте, отобразятся в нашей ссылке. \n",
    "\n",
    "<img align=\"center\" src=\"https://pp.userapi.com/c841337/v841337861/2962a/Hk7ny4B7CmM.jpg\" height=\"600\" width=\"600\"> \n"
   ]
  },
  {
   "cell_type": "code",
   "execution_count": 2,
   "metadata": {},
   "outputs": [
    {
     "data": {
      "text/plain": [
       "<Response [200]>"
      ]
     },
     "execution_count": 2,
     "metadata": {},
     "output_type": "execute_result"
    }
   ],
   "source": [
    "main_page = 'https://www.cian.ru/cat.php?deal_type=sale&engine_version=2&offer_type=flat&region=1&room1=1&room2=1'\n",
    "response = requests.get(main_page)\n",
    "response"
   ]
  },
  {
   "cell_type": "markdown",
   "metadata": {},
   "source": [
    "Благословенный 200 ответ — соединение установлено и данные получены, всё чудесно! Если попытаться перейти на несуществующую страницу, то можно получить, например, знаменитую ошибку 404, которая говорит о том, что клиент в состоянии общаться с сервером, но не может найти данные согласно запросу.  "
   ]
  },
  {
   "cell_type": "code",
   "execution_count": 3,
   "metadata": {},
   "outputs": [
    {
     "data": {
      "text/plain": [
       "<Response [404]>"
      ]
     },
     "execution_count": 3,
     "metadata": {},
     "output_type": "execute_result"
    }
   ],
   "source": [
    "requests.get('https://www.cian.ru/jhgrgoiffhasgrsjjrtshretlhgwe;jg;eafnklejohwghoahogr')"
   ]
  },
  {
   "cell_type": "markdown",
   "metadata": {},
   "source": [
    "Вернёмся к успешному запросу и посмотрим что же такого мы там получили..."
   ]
  },
  {
   "cell_type": "code",
   "execution_count": 4,
   "metadata": {
    "collapsed": true
   },
   "outputs": [],
   "source": [
    "html = response.content"
   ]
  },
  {
   "cell_type": "markdown",
   "metadata": {},
   "source": [
    "Получили мы что-то вот такое, только подлиннее...\n",
    "\n",
    "````\n",
    "b'\\n\\n<!DOCTYPE html>\\n<html class=\"no-touch\" >\\n    <head>\\n        \\n\\n<!-- Google Analytics Content Experiment code -->\\n<script>function utmx_section(){}function utmx(){}(function(){var\\nk=\\'57940811-35\\',d=document,l=d.location,c=d.cookie;\\nif(l.search.indexOf(\\'utm_expid=\\'+k)>0)return;\\nfunction f(n){if(c){var i=c.indexOf(n+\\'=\\');if(i>-1){var j=c.\\nindexOf(\\';\\',i);return escape(c.substring(i+n.length+1,j<0?c.\\nlength:j))}}}var x=f(\\'__utmx\\'),xx=f(\\'__utmxx\\'),h=l.hash;d.write(\\n\\'<sc\\'+\\'ript src=\"\\'+\\'http\\'+(l.protocol==\\'https:\\'?\\'s://ssl\\':\\n\\'://www\\')+\\'.google-analytics.com/ga_exp.js?\\'+\\'utmxkey=\\'+k+\\n\\'&utmx=\\'+(x?x:\\'\\')+\\'&utmxx=\\'+(xx?xx:\\'\\')+\\'&utmxtime=\\'+new Date().\\nvalueOf()+(h?\\'&utmxhash=\\'+escape(h.substr(1)):\\'\\')+\\n\\'\" type=\"text/javascript\" charset=\"utf-8\"><\\\\/sc\\'+\\'ript>\\')})();\\n</script><script>utmx(\\'url\\',\\'A/B\\');</script>\\n<!-- End of Google Analytics Content Experiment code -->\\n\\n\\n        \\n    \\n            <meta http-equiv=\"Content-Type\" content=\"text/html; charset=utf-8\"/>\\n            <meta name=\"google-site-verification\" content=\"Eig23WXwvPZu3gp9EYVreR61rG4TX1bHQDEG0Di5ZSE\"/>\\n            <meta name=\"apple-mobile-web-app-title\" content=\"\\xd0\\xa6\\xd0\\x98\\xd0\\x90\\xd0\\x9d\">\\n        \\n    <meta name=\"apple-itunes-app\" content=\"app-id=911804296, app-argument=https://www.cian.ru/cat.php?deal_type=sale&amp;engine_version=2&amp;offer_type=flat&amp;region=1&amp;room1=1&amp;room2=1\">\\n\\n    <meta name=\"viewport\" content=\"width=1024, initial-scale=1\">\\n\\n\\n        \\n            <meta property=\"og:type\" content=\"website\"/>\\n            <meta property=\"og:site_name\" content=\"CIAN\"/>\\n            \\n            \\n            \\n                <meta property=\"og:image\" content=\"https://www.cian.ru/static/images/cian-logo-cyrillic-vertical.png\" />\\n            \\n            \\n        \\n\\n        \\n            <title>\\n                \\xd0\\x9a\\xd1\\x83\\xd0\\xbf\\xd0\\xb8\\xd1\\x82\\xd1\\x8c 1, 2-\\xd0\\xba\\xd0\\xbe\\xd0\\xbc\\xd0\\xbd\\xd0\\xb0\\xd1\\x82\\xd0\\xbd\\xd1\\x83\\xd1\\x8e\n",
    "\n",
    "````"
   ]
  },
  {
   "cell_type": "markdown",
   "metadata": {},
   "source": [
    "Можно ли работать с этим ужасом? Ну... на самом деле да, но лучше не пробовать. Давайте сделаем всё красиво и используем для этого красивый суп! \n",
    "\n",
    "## 1.4. Красивый суп\n",
    "\n",
    "<img align=\"center\" src=\"https://www.crummy.com/software/BeautifulSoup/10.1.jpg\" height=\"200\" width=\"200\"> \n",
    "\n",
    "Пакет **[bs4 , a.k.a BeautifulSoup](https://www.crummy.com/software/BeautifulSoup/)** (тут есть гиперссылка на лучшего друга человека — документацию) был назван в честь стишка про красивый суп из Алисы в стране чудес.\n",
    "\n",
    "Красивый суп. Эта совершенно волшебная библиотека, которая из сырого и необработанного HTML (или XML) кода страницы выдаст вам структурированный массив данных, по которому очень удобно искать необходимые теги, классы, атрибуты, тексты и прочие элементы веб страниц.\n",
    "\n",
    "> Пакет под названием `BeautifulSoup` — скорее всего, не то, что вам нужно. Это третья версия (*Beautiful Soup 3*), а мы будем использовать четвертую. Так что нам нужен пакет `beautifulsoup4`. Чтобы было совсем весело, при импорте нужно указывать другое название пакета — `bs4`, а импортировать функцию под названием `BeautifulSoup`. В общем, сначала легко запутаться, но эти трудности нужно преодолеть."
   ]
  },
  {
   "cell_type": "code",
   "execution_count": 5,
   "metadata": {
    "collapsed": true
   },
   "outputs": [],
   "source": [
    "from bs4 import BeautifulSoup"
   ]
  },
  {
   "cell_type": "markdown",
   "metadata": {},
   "source": [
    "Передадим функции `BeautifulSoup` текст веб-страницы, которую мы недавно получили."
   ]
  },
  {
   "cell_type": "code",
   "execution_count": 6,
   "metadata": {
    "collapsed": true
   },
   "outputs": [],
   "source": [
    "soup = BeautifulSoup(html,'html.parser') # В опции также можно указать lxml, \n",
    "                                         # если предварительно установить одноименный пакет"
   ]
  },
  {
   "cell_type": "markdown",
   "metadata": {},
   "source": [
    "Получим что-то вот такое:\n",
    "\n",
    "````\n",
    "<!DOCTYPE html>\n",
    "\n",
    "<html class=\"no-touch\">\n",
    "<head>\n",
    "<!-- Google Analytics Content Experiment code -->\n",
    "<script>function utmx_section(){}function utmx(){}(function(){var\n",
    "k='57940811-35',d=document,l=d.location,c=d.cookie;\n",
    "if(l.search.indexOf('utm_expid='+k)>0)return;\n",
    "function f(n){if(c){var i=c.indexOf(n+'=');if(i>-1){var j=c.\n",
    "indexOf(';',i);return escape(c.substring(i+n.length+1,j<0?c.\n",
    "length:j))}}}var x=f('__utmx'),xx=f('__utmxx'),h=l.hash;d.write(\n",
    "'<sc'+'ript src=\"'+'http'+(l.protocol=='https:'?'s://ssl':\n",
    "'://www')+'.google-analytics.com/ga_exp.js?'+'utmxkey='+k+\n",
    "'&utmx='+(x?x:'')+'&utmxx='+(xx?xx:'')+'&utmxtime='+new Date().\n",
    "valueOf()+(h?'&utmxhash='+escape(h.substr(1)):'')+\n",
    "'\" type=\"text/javascript\" charset=\"utf-8\"><\\/sc'+'ript>')})();\n",
    "</script><script>utmx('url','A/B');</script>\n",
    "<!-- End of Google Analytics Content Experiment code -->\n",
    "<meta content=\"text/html; charset=utf-8\" http-equiv=\"Content-Type\"/>\n",
    "<meta content=\"Eig23WXwvPZu3gp9EYVreR61rG4TX1bHQDEG0Di5ZSE\" name=\"google-site-verification\"/>\n",
    "<meta content=\"ЦИАН\" name=\"apple-mobile-web-app-title\">\n",
    "<meta content=\"app-id=911804296, app-argument=https://www.cian.ru/cat.php?deal_type=sale&amp;engine_version=2&amp;offer_type=flat&amp;region=1&amp;room1=1&amp;room2=1\" name=\"apple-itunes-app\">\n",
    "<meta content=\"width=1024, initial-scale=1\" name=\"viewport\">\n",
    "<meta content=\"website\" property=\"og:type\"/>\n",
    "<meta content=\"CIAN\" property=\"og:site_name\"/>\n",
    "<meta content=\"https://www.cian.ru/static/images/cian-logo-cyrillic-vertical.png\" property=\"og:image\"/>\n",
    "<title>\n",
    "                Купить 1, 2-комнатную квартиру в Москве — 93 400 объявлений\n",
    "            </title>\n",
    "<meta content=\"Продажа 1, 2-комнатных квартир в Москве — 93 400 объявлений\" name=\"description\"/>\n",
    "<meta content=\"noindex\" name=\"robots\"/>\n",
    "<meta content=\"noindex\" name=\"googlebot\"/>\n",
    "<link href=\"/static/images/favicon.ico\" rel=\"icon\" type=\"image/x-icon\"/>\n",
    "<!--[if lte IE 10]>\n",
    "        <link rel=\"stylesheet\" type=\"text/css\" href=\"/static/fonts/webfont_ie.css\" media=\"all\"/>\n",
    "    <![endif]-->\n",
    "<link href=\"/static/newbuild/dist/serp.40208471dedc.css\" media=\"all\" rel=\"stylesheet\" type=\"text/css\"/>\n",
    "<script src=\"//sentry.cian.site/sentry.min.js\" type=\"text/javascript\"></script>\n",
    "````"
   ]
  },
  {
   "cell_type": "markdown",
   "metadata": {},
   "source": [
    "Что же лежит в переменной `soup`? Невнимательный пользователь, скорее всего, скажет,что ничего вообще не изменилось. Тем не менее, это не так. Теперь мы можем свободно бродить по HTML-дереву страницы, искать детей, родителей и вытаскивать их! \n",
    "\n",
    "Например, можно бродить по вершинам, указывая путь из тегов."
   ]
  },
  {
   "cell_type": "code",
   "execution_count": 7,
   "metadata": {},
   "outputs": [
    {
     "data": {
      "text/plain": [
       "<title>Купить 1, 2-комнатную квартиру в Москве — 90 038 объявлений</title>"
      ]
     },
     "execution_count": 7,
     "metadata": {},
     "output_type": "execute_result"
    }
   ],
   "source": [
    "soup.html.head.title"
   ]
  },
  {
   "cell_type": "markdown",
   "metadata": {},
   "source": [
    "Можно вытащить из того места, куда мы забрели, текст с помощью метода `text`."
   ]
  },
  {
   "cell_type": "code",
   "execution_count": 8,
   "metadata": {},
   "outputs": [
    {
     "data": {
      "text/plain": [
       "'Купить 1, 2-комнатную квартиру в Москве — 90 038 объявлений'"
      ]
     },
     "execution_count": 8,
     "metadata": {},
     "output_type": "execute_result"
    }
   ],
   "source": [
    "soup.html.head.title.text"
   ]
  },
  {
   "cell_type": "markdown",
   "metadata": {},
   "source": [
    "Более того, зная адрес элемента, мы сразу можем найти его. Например, можно сделать это по классу. Следующая команда ищет элемент, который лежит внутри тега `div` и имеет класс `header--2lxlC`."
   ]
  },
  {
   "cell_type": "code",
   "execution_count": 9,
   "metadata": {},
   "outputs": [
    {
     "data": {
      "text/plain": [
       "<div class=\"header--2lxlC\">3,5 млн. руб.</div>"
      ]
     },
     "execution_count": 9,
     "metadata": {},
     "output_type": "execute_result"
    }
   ],
   "source": [
    "obj = soup.find('div', attrs = {'class':\"header--2lxlC\"})\n",
    "obj"
   ]
  },
  {
   "cell_type": "markdown",
   "metadata": {},
   "source": [
    "Полученный после поиска объект также обладает структурой bs4. Поэтому можно продолжить искать нужные нам объекты уже в нём! Вытащим стоимость квартирки. "
   ]
  },
  {
   "cell_type": "code",
   "execution_count": 10,
   "metadata": {},
   "outputs": [
    {
     "data": {
      "text/plain": [
       "'3,5 млн. руб.'"
      ]
     },
     "execution_count": 10,
     "metadata": {},
     "output_type": "execute_result"
    }
   ],
   "source": [
    "obj.text"
   ]
  },
  {
   "cell_type": "markdown",
   "metadata": {},
   "source": [
    "Обратите внимание, что после всех этих безумных преобразований у данных поменялся тип. Теперь они `str`. Это означет, что с ними можно работать как с текстом и пускать в ход для отсеивания лишней информации регулярные выражения.  "
   ]
  },
  {
   "cell_type": "code",
   "execution_count": 11,
   "metadata": {},
   "outputs": [
    {
     "name": "stdout",
     "output_type": "stream",
     "text": [
      "Тип данных до вытаскивания цены: <class 'bs4.element.Tag'>\n",
      "Тип данных после вытаскивания цены: <class 'str'>\n"
     ]
    }
   ],
   "source": [
    "print(\"Тип данных до вытаскивания цены:\", type(obj))\n",
    "print(\"Тип данных после вытаскивания цены:\", type(obj.text))"
   ]
  },
  {
   "cell_type": "markdown",
   "metadata": {},
   "source": [
    "Если несколько элементов на странице обладают указанным адресом, то метод `find` вернёт только самый первый.  Чтобы найти все элементы с таким адресом, нужно использовать метод `findAll`. На выход будет выдан список!"
   ]
  },
  {
   "cell_type": "code",
   "execution_count": 12,
   "metadata": {},
   "outputs": [
    {
     "data": {
      "text/plain": [
       "['3,5 млн. руб.',\n",
       " '5,84 млн. руб.',\n",
       " '3,03 млн. руб.',\n",
       " '1,85 млн. руб.',\n",
       " '1,79 млн. руб.']"
      ]
     },
     "execution_count": 12,
     "metadata": {},
     "output_type": "execute_result"
    }
   ],
   "source": [
    "dirty_prices = soup.findAll('div', attrs = {'class':\"header--2lxlC\"})\n",
    "clean_prices = [item.text for item in dirty_prices]\n",
    "clean_prices[:5]"
   ]
  },
  {
   "cell_type": "markdown",
   "metadata": {},
   "source": [
    "Окей, то, что можно искать элемент по его адресу, конечно же, круто, но откуда взять этот адрес? \n",
    "\n",
    "Можно установить для своего браузера какую-нибудь утилиту, позволяющую вытаскивать со страницы нужные теги. Например, [selectorgadget.](http://selectorgadget.com/)\n",
    "\n",
    "Тем не менее, это путь для девочек. Для настоящих мужиков есть другой способ — искать теги для каждого нужного нам элемента вручную. Для этого нам придётся жать правой кнопкой мышки по окошечку браузера, тыкать кнопку **Inspect**. Ваше окно браузера будет после всех этих манипуляций выглядеть как-то вот так: \n",
    "\n",
    "<img align=\"center\" src=\"https://raw.githubusercontent.com/FUlyankin/Parsers/master/images%20/adres_page.png\" height=\"500\" width=\"500\"> \n",
    "\n",
    "Если тыкнуть кнопочку, которая находится в огромном красном кружочке, а после навести курсорчек на требующийся вам кусочек странички и тыкнуть на него, то справа, там где находится гигантская стрелочка выскочит кусок html-кода, в котором находится адрес выбранного вами объекта. Этот адрес можно смело копировать в свой код и наслаждаться своей брутальностью. "
   ]
  },
  {
   "cell_type": "markdown",
   "metadata": {},
   "source": [
    "В принципе, по большей части, это всё. Дело осталось за малым: написать кучу функций для поиска конкретных элементов и пройтись циклом по всем страницам с квартирками. Однако, если нажать на кнопку \"Подробнее\", мы увидим чудо-чудное, диво-дивное! Дополнительную информацию! \n",
    "\n",
    "\n",
    "<img align=\"center\" src=\"https://raw.githubusercontent.com/FUlyankin/Parsers/master/images%20/3.png\" height=\"700\" width=\"700\">\n"
   ]
  },
  {
   "cell_type": "markdown",
   "metadata": {},
   "source": [
    "## 1.5. Качаем хрефы\n",
    "\n",
    "Для начала соберём все хрефы на квартиры! Уже, как обычно (как же быстро новое становится обыденным), с помощью красивого супа мы найдём ссылки на все хрефы."
   ]
  },
  {
   "cell_type": "code",
   "execution_count": 13,
   "metadata": {},
   "outputs": [
    {
     "name": "stdout",
     "output_type": "stream",
     "text": [
      "28\n"
     ]
    },
    {
     "data": {
      "text/plain": [
       "<a class=\"cardLink--3KbME\" href=\"https://www.cian.ru/sale/flat/151426885/\" target=\"_blank\">Подробнее</a>"
      ]
     },
     "execution_count": 13,
     "metadata": {},
     "output_type": "execute_result"
    }
   ],
   "source": [
    "hrefs = soup.findAll('a', attrs = {'class':\"cardLink--3KbME\"})\n",
    "# убедимся, что мы не насобирали лишнего\n",
    "print(len(hrefs))\n",
    "hrefs[0] "
   ]
  },
  {
   "cell_type": "markdown",
   "metadata": {},
   "source": [
    "Ура, у нас есть ссылки. Вытащим их все по атрибуту `href`. Так мы ещё не делали, но так тоже можно... "
   ]
  },
  {
   "cell_type": "code",
   "execution_count": 14,
   "metadata": {},
   "outputs": [
    {
     "data": {
      "text/plain": [
       "'https://www.cian.ru/sale/flat/151426885/'"
      ]
     },
     "execution_count": 14,
     "metadata": {},
     "output_type": "execute_result"
    }
   ],
   "source": [
    "hrefs[0].attrs['href']"
   ]
  },
  {
   "cell_type": "code",
   "execution_count": 15,
   "metadata": {},
   "outputs": [
    {
     "data": {
      "text/plain": [
       "'https://www.cian.ru/sale/flat/151426885/'"
      ]
     },
     "execution_count": 15,
     "metadata": {},
     "output_type": "execute_result"
    }
   ],
   "source": [
    "clean_hrefs = [item.attrs['href'] for item in hrefs]\n",
    "clean_hrefs[0]"
   ]
  },
  {
   "cell_type": "markdown",
   "metadata": {},
   "source": [
    "Нам надо будет путешествовать по огромному длинному списку из квартир. Пробираться вглубь сайта можно тыкая на циферки внизу старницы.\n",
    "\n",
    "<img align=\"center\" src=\"https://raw.githubusercontent.com/FUlyankin/Parsers/master/images%20/4.png\" height=\"900\" width=\"900\">\n",
    "\n",
    "Как только мы нажимаем на одну из цифр, меняется ссылка.\n",
    "\n",
    "    `https://www.cian.ru/cat.php?deal_type=sale&engine_version=2&offer_type=flat&\n",
    "    p=3&region=1&room1=1&room2=1`\n",
    "   \n",
    "    `https://www.cian.ru/cat.php?deal_type=sale&engine_version=2&offer_type=flat&\n",
    "    p=10&region=1&room1=1&room2=1`\n",
    "     \n",
    "Обратите внимание на начало второй строки. Когда мы находились на третьей странице, там стояла цифра 3. Как толкьо мы переходим на десятую страницу, цифра меняется на 10. Как уже отмечалось выше, все ограничения, которые мы задаём на поиск, отображаются в струтуре нашей ссылки. Пройдёмся по всем существующим страницам ЦИАН и заберём себе все ссылки на квартиры! \n",
    "\n",
    "Каждую ссылку будем формировать следующим образом:"
   ]
  },
  {
   "cell_type": "code",
   "execution_count": 16,
   "metadata": {},
   "outputs": [
    {
     "data": {
      "text/plain": [
       "'https://www.cian.ru/cat.php?deal_type=sale&engine_version=2&offer_type=flat&p=42&region=1&room1=1&room2=1'"
      ]
     },
     "execution_count": 16,
     "metadata": {},
     "output_type": "execute_result"
    }
   ],
   "source": [
    "page_part_1 = \"https://www.cian.ru/cat.php?deal_type=sale&engine_version=2&offer_type=flat&p=\"\n",
    "page_part_2 = \"&region=1&room1=1&room2=1\"\n",
    "\n",
    "page = page_part_1 + str(42) + page_part_2  # Мы окжемся на 42 странице\n",
    "page"
   ]
  },
  {
   "cell_type": "markdown",
   "metadata": {},
   "source": [
    "Всего на каждой странице находится 28 ссылок. Вытаскиваем необходимое нам число квартир."
   ]
  },
  {
   "cell_type": "code",
   "execution_count": 17,
   "metadata": {},
   "outputs": [
    {
     "name": "stdout",
     "output_type": "stream",
     "text": [
      "CPU times: user 2.65 s, sys: 28 ms, total: 2.68 s\n",
      "Wall time: 15.8 s\n"
     ]
    }
   ],
   "source": [
    "%%time \n",
    "n = 280  # Число квартир (кратно 28) \n",
    "all_hrefs = [ ]  # Тут мы будем хранить наши хрефы!\n",
    "\n",
    "nn = (n // 28) + 1\n",
    "for i in range(1, nn):\n",
    "    # Делаем ссылку!\n",
    "    page = page_part_1 + str(i) + page_part_2\n",
    "    \n",
    "    # Загружаем страницу\n",
    "    response = requests.get(page)\n",
    "    html = response.content\n",
    "    soup = BeautifulSoup(html,'html.parser')\n",
    "    \n",
    "    # Забираем себе хрефы и очищаем их\n",
    "    hrefs = soup.findAll('a', attrs = {'class':\"cardLink--3KbME\"})\n",
    "    clean_hrefs = [item.attrs['href'] for item in hrefs]\n",
    "    all_hrefs.extend(clean_hrefs)"
   ]
  },
  {
   "cell_type": "code",
   "execution_count": 18,
   "metadata": {},
   "outputs": [
    {
     "data": {
      "text/plain": [
       "['https://www.cian.ru/sale/flat/156743792/',\n",
       " 'https://www.cian.ru/sale/flat/163681209/',\n",
       " 'https://www.cian.ru/sale/flat/157824483/',\n",
       " 'https://www.cian.ru/sale/flat/161680487/',\n",
       " 'https://www.cian.ru/sale/flat/161493344/']"
      ]
     },
     "execution_count": 18,
     "metadata": {},
     "output_type": "execute_result"
    }
   ],
   "source": [
    "all_hrefs[:5]"
   ]
  },
  {
   "cell_type": "markdown",
   "metadata": {},
   "source": [
    "Не забываем следить за временем работы нашего кода. Когда надо собрать много данных, это довольно критично. Переодически приходится код паралелить.\n",
    "\n",
    "Итак, в векторе `all_hrefs` теперь лежит куча ссылок на разные квартирки. Будем ходить по этим хрефам и забирать себе нужную нам информацию. Напишем функцию, которая будет по конкретному хрефу забирать для нас данные. \n",
    "\n",
    "## 1.6. Финальная подготовка к грабежу\n",
    "\n",
    "По аналогии с ценами можно вытащить что угодно. Для этого надо сделать несколько шагов: \n",
    "\n",
    "1. Открываем страничку с квартирой\n",
    "2. Находим тег для нужной нам информации\n",
    "3. Пихаем всё это в красивый суп\n",
    "4. ......\n",
    "5. Profit \n",
    "\n",
    "Для закрепления информации в голове любознательного читателя, вытащим число комнат."
   ]
  },
  {
   "cell_type": "code",
   "execution_count": 19,
   "metadata": {},
   "outputs": [
    {
     "data": {
      "text/plain": [
       "[<div class=\"object_descr_title\" itemprop=\"name\">\n",
       "                 \n",
       "     \n",
       "         1-комн. кв. \n",
       "     \n",
       " \n",
       "                 \n",
       "                     \n",
       "                 \n",
       "                 \n",
       "                 </div>]"
      ]
     },
     "execution_count": 19,
     "metadata": {},
     "output_type": "execute_result"
    }
   ],
   "source": [
    "href = all_hrefs[0]\n",
    "# Подгружаем страничку с информацией по квартире\n",
    "response = requests.get(href)\n",
    "html = response.content\n",
    "soup = BeautifulSoup(html,'html.parser')\n",
    "\n",
    "# Вытаскиваем количество комнат в квартире\n",
    "komnata = soup.findAll('div', attrs = {'class':\"object_descr_title\"})\n",
    "komnata"
   ]
  },
  {
   "cell_type": "markdown",
   "metadata": {},
   "source": [
    "Информация вытащилась как вектор, т.к. мы использовали метод findAll, который ищет все элементы с указанным тегом и адресом и записывает их в список. Неплохо было бы избавиться от лишних пробелов и тегов. Сказано - сделано. Пустим в ход метод `strip`, который это и делает. "
   ]
  },
  {
   "cell_type": "code",
   "execution_count": 20,
   "metadata": {},
   "outputs": [
    {
     "data": {
      "text/plain": [
       "'1-комн. кв.'"
      ]
     },
     "execution_count": 20,
     "metadata": {},
     "output_type": "execute_result"
    }
   ],
   "source": [
    "komnata = soup.findAll('div', attrs = {'class':\"object_descr_title\"})[0].text.strip()\n",
    "komnata"
   ]
  },
  {
   "cell_type": "markdown",
   "metadata": {},
   "source": [
    "Большая часть интересующих нас параметров вытаскивается ровно также. Вытащим что-нибудь особенное. Например, основные данные о квартире, которые представлены в html Разметке в виде таблицы.  "
   ]
  },
  {
   "cell_type": "code",
   "execution_count": 21,
   "metadata": {},
   "outputs": [
    {
     "data": {
      "text/plain": [
       "<table class=\"object_descr_props flat sale\" style=\"float:left\">\n",
       "<tr>\n",
       "<th style=\"padding-top:5px;\">Общая информация:</th>\n",
       "</tr>\n",
       "<tr>\n",
       "<th>Этаж:</th>\n",
       "<td>\n",
       "                11 / 17\n",
       "                \n",
       "            </td>\n",
       "</tr>\n",
       "<tr>\n",
       "<th>Тип дома:</th>\n",
       "<td>\n",
       "            вторичка, \n",
       "            панельный дом\n",
       "        </td>\n",
       "</tr>\n",
       "<tr>\n",
       "<th>Тип продажи:</th>\n",
       "<td>свободная</td>\n",
       "</tr>\n",
       "<tr>\n",
       "<th>Общая площадь:</th>\n",
       "<td>\n",
       "<i class=\"object_descr_details_color\"></i>40 м<sup>2</sup>\n",
       "</td>\n",
       "</tr>\n",
       "<tr>\n",
       "<th>Площадь комнат:</th>\n",
       "<td>\n",
       "<i class=\"object_descr_details_color\"></i><!--\n",
       "-->17 м<sup>2</sup>\n",
       "</td>\n",
       "</tr>\n",
       "<tr>\n",
       "<th>Жилая площадь:</th>\n",
       "<td>\n",
       "<i class=\"object_descr_details_color\" style=\"background-color:#90C090\"></i>17 м<sup>2</sup>\n",
       "</td>\n",
       "</tr>\n",
       "<tr>\n",
       "<th>Площадь кухни:</th>\n",
       "<td>\n",
       "<i class=\"object_descr_details_color\" style=\"background-color:#C09090\"></i>10 м<sup>2</sup>\n",
       "</td>\n",
       "</tr>\n",
       "<tr>\n",
       "<th>Раздельных санузлов:</th>\n",
       "<td><i class=\"object_descr_details_color\" style=\"background-color:#90C0C0\"></i>1\n",
       "            </td>\n",
       "</tr>\n",
       "<tr>\n",
       "<th>Балкон:</th>\n",
       "<td><i class=\"object_descr_details_color\" style=\"background-color:#C0C0C0\"></i>1 лодж.\n",
       "        </td>\n",
       "</tr>\n",
       "<tr>\n",
       "<th>Лифт:</th>\n",
       "<td>1 пасс. + 1 груз.</td>\n",
       "</tr>\n",
       "<tr>\n",
       "<th>Телефон:</th>\n",
       "<td>нет</td>\n",
       "</tr>\n",
       "<tr>\n",
       "<th>Вид из окна:</th>\n",
       "<td>двор</td>\n",
       "</tr>\n",
       "</table>"
      ]
     },
     "execution_count": 21,
     "metadata": {},
     "output_type": "execute_result"
    }
   ],
   "source": [
    "table = soup.findAll('table',attrs = {'class':\"object_descr_props flat sale\"})[0]\n",
    "table"
   ]
  },
  {
   "cell_type": "markdown",
   "metadata": {},
   "source": [
    "\"Хмммм...\" — скажем мы и начнём эту табличку потихоньку разгребать. Будем делать это хардкорно, по тэгам. Как настоящие мужики! \n",
    "\n",
    "Вытаскиваем все строки. "
   ]
  },
  {
   "cell_type": "code",
   "execution_count": 22,
   "metadata": {},
   "outputs": [
    {
     "data": {
      "text/plain": [
       "<tr>\n",
       "<th>Балкон:</th>\n",
       "<td><i class=\"object_descr_details_color\" style=\"background-color:#C0C0C0\"></i>1 лодж.\n",
       "        </td>\n",
       "</tr>"
      ]
     },
     "execution_count": 22,
     "metadata": {},
     "output_type": "execute_result"
    }
   ],
   "source": [
    "rows = table.findAll('tr')[1:]  # В нулевой строке идёт фраза \"Общая информация:\" Забьём на неё! \n",
    "rows[8]  "
   ]
  },
  {
   "cell_type": "markdown",
   "metadata": {},
   "source": [
    "Находим конкретные элементы"
   ]
  },
  {
   "cell_type": "code",
   "execution_count": 23,
   "metadata": {},
   "outputs": [
    {
     "data": {
      "text/plain": [
       "'Балкон:'"
      ]
     },
     "execution_count": 23,
     "metadata": {},
     "output_type": "execute_result"
    }
   ],
   "source": [
    "rows[8].findAll('th')[0].text.strip()"
   ]
  },
  {
   "cell_type": "code",
   "execution_count": 24,
   "metadata": {},
   "outputs": [
    {
     "data": {
      "text/plain": [
       "'1 лодж.'"
      ]
     },
     "execution_count": 24,
     "metadata": {},
     "output_type": "execute_result"
    }
   ],
   "source": [
    "rows[8].findAll('td')[0].text.strip()"
   ]
  },
  {
   "cell_type": "markdown",
   "metadata": {},
   "source": [
    "Такимии незатейливыми действиями вытащили отдельный объект из отдельной строки. А теперь всё сразу в виде цикла: "
   ]
  },
  {
   "cell_type": "code",
   "execution_count": 25,
   "metadata": {},
   "outputs": [
    {
     "data": {
      "text/plain": [
       "{'Балкон:': '1 лодж.',\n",
       " 'Вид из окна:': 'двор',\n",
       " 'Жилая площадь:': '17\\xa0м2',\n",
       " 'Лифт:': '1 пасс. + 1 груз.',\n",
       " 'Общая площадь:': '40\\xa0м2',\n",
       " 'Площадь комнат:': '17\\xa0м2',\n",
       " 'Площадь кухни:': '10\\xa0м2',\n",
       " 'Раздельных санузлов:': '1',\n",
       " 'Телефон:': 'нет',\n",
       " 'Тип дома:': 'вторичка, \\n            панельный дом',\n",
       " 'Тип продажи:': 'свободная',\n",
       " 'Этаж:': '11\\xa0/\\xa017'}"
      ]
     },
     "execution_count": 25,
     "metadata": {},
     "output_type": "execute_result"
    }
   ],
   "source": [
    "rows = table.find_all('tr')[1:]  # Вытащили все строки\n",
    "data = { } # Задали пустой словарь, в который мы будем сохранять наши строки \n",
    "for row in rows:\n",
    "    # очищаем каждую строку! \n",
    "    cols = {row.findAll('th')[0].text.strip(): row.findAll('td')[0].text.strip()} \n",
    "    data.update(cols) # запоминаем\n",
    "data "
   ]
  },
  {
   "cell_type": "markdown",
   "metadata": {},
   "source": [
    "Вы не любите циклы? Есть более простой путь. Всеми нами любимый пакет `pandas` позволяет с помощью команды `read_html` забирать такие таблички в пандасовский формат сразу же в наш ноутбук. Можете попробовать эту команду на досуге, а мы двигаемся дальше. \n",
    "\n",
    "Вытащим ещё один важный атрибут, координаты квартиры. Они понадобятся нам для вычисления различных расстояний. На рассматриваемой нами странице есть карта. Если мы можем открыть карту, на которую нанесён дом, значит где-то в HTML страницы спрятаны географические координаты! Попробуем отыскать их. \n",
    "\n",
    "Для этого откроем [Яндекс - карты](https://yandex.ru/maps) и вобьём адрес дома. Яндекс заботливо напишет нам координаты объекта. Скопируем одну из координат. Откроем код ЦИАНовской странички и воспользуемся поиском по ней. Опа! Мы нашли нужный нам тег..."
   ]
  },
  {
   "cell_type": "code",
   "execution_count": 26,
   "metadata": {},
   "outputs": [
    {
     "data": {
      "text/plain": [
       "<div class=\"object-descr__map-tabs__content js-object_descr__panorama\">\n",
       "<panorama ns=\"ymapspano\" point=\"[37.761411,55.678600]\"></panorama>\n",
       "</div>"
      ]
     },
     "execution_count": 26,
     "metadata": {},
     "output_type": "execute_result"
    }
   ],
   "source": [
    "coordinates = soup.findAll('div',\n",
    "    {'class':\"object-descr__map-tabs__content js-object_descr__panorama\"})[0]\n",
    "coordinates"
   ]
  },
  {
   "cell_type": "markdown",
   "metadata": {},
   "source": [
    "Перейдём по тегу, после по атрибуту и координаты у нас в кармане. "
   ]
  },
  {
   "cell_type": "code",
   "execution_count": 27,
   "metadata": {},
   "outputs": [
    {
     "data": {
      "text/plain": [
       "'[37.761411,55.678600]'"
      ]
     },
     "execution_count": 27,
     "metadata": {},
     "output_type": "execute_result"
    }
   ],
   "source": [
    "coordinates.panorama.attrs['point'] "
   ]
  },
  {
   "cell_type": "markdown",
   "metadata": {},
   "source": [
    "Пришло время соеденить всё это в одно целое. Напишем одну большую функцию, которая по конкретному хрефу будет скачивать всю информацию о нём в виде словаря."
   ]
  },
  {
   "cell_type": "code",
   "execution_count": 28,
   "metadata": {},
   "outputs": [],
   "source": [
    "def One_Flat_Downloader(href):\n",
    "    \n",
    "    data = { }  # Задали пустой словарь, в который мы будем сохранять данные\n",
    "    \n",
    "    # Подгружаем страничку с информацией по квартире\n",
    "    response = requests.get(href)\n",
    "    html = response.content\n",
    "    soup = BeautifulSoup(html,'html.parser')\n",
    "    \n",
    "    # Вытаскиваем цену на квартиру\n",
    "    price = soup.findAll('div', attrs = {'class':\"object_descr_price\"})[0].text.strip()\n",
    "    data['Цена'] = price\n",
    "    \n",
    "    # Вытаскиваем метро\n",
    "    station = soup.findAll('p', attrs = {'class':\"objects_item_metro_prg\"})[0].a.text\n",
    "    data['Метро'] = station\n",
    "    \n",
    "    # Вытаскиваем количество комнат в квартире\n",
    "    komnata = soup.findAll('div', attrs = {'class':\"object_descr_title\"})[0].text.strip()\n",
    "    data['Комнаты'] = komnata\n",
    "    \n",
    "    # Вытаскиваем расстояние до метро то ли пешком то ли на машине...\n",
    "    Do_metro = soup.findAll('p', attrs = {'class':\"objects_item_metro_prg\"})[0]\n",
    "    Do_metro = Do_metro.find('span',{'class':'object_item_metro_comment'}).text.strip()\n",
    "    data['До метро'] = Do_metro\n",
    "    \n",
    "    # Вытаскиваем координаты квартиры\n",
    "    coordinates = soup.findAll('div',{'class':\"object-descr__map-tabs__content js-object_descr__panorama\"})[0]\n",
    "    data['Координаты'] = coordinates.panorama.attrs['point']\n",
    "    \n",
    "    # Вытаскиваем всё остальное\n",
    "    table = soup.findAll('table',attrs = {'class':\"object_descr_props flat sale\"})[0]\n",
    "    rows = table.find_all('tr')[1:]  # Вытащили все строки\n",
    "    dt = { } # Задали пустой словарь, в который мы будем сохранять наши строки \n",
    "    for row in rows:\n",
    "        cols = {row.findAll('th')[0].text.strip(): row.findAll('td')[0].text.strip()} # очищаем каждую строку! \n",
    "        dt.update(cols) # запоминаем\n",
    "    data.update(dt)\n",
    "\n",
    "    return(data) "
   ]
  },
  {
   "cell_type": "code",
   "execution_count": 29,
   "metadata": {},
   "outputs": [
    {
     "data": {
      "text/plain": [
       "{'Балкон:': '–',\n",
       " 'Вид из окна:': 'двор',\n",
       " 'Год постройки:': '2017',\n",
       " 'До метро': '50\\n                мин.\\n                \\n                    на машине',\n",
       " 'Жилая площадь:': '18,1\\xa0м2',\n",
       " 'Комнаты': '1-комн. кв.',\n",
       " 'Координаты': '[36.921576,55.496572]',\n",
       " 'Лифт:': '–',\n",
       " 'Метро': 'Киевская,',\n",
       " 'Общая площадь:': '34,8\\xa0м2',\n",
       " 'Парковка:': 'наземная',\n",
       " 'Площадь комнат:': '18,1\\xa0м2',\n",
       " 'Площадь кухни:': '10,8\\xa0м2',\n",
       " 'Ремонт:': 'отсутствует',\n",
       " 'Совмещенных санузлов:': '1',\n",
       " 'Телефон:': 'нет',\n",
       " 'Тип дома:': 'вторичка, \\n            монолитный',\n",
       " 'Тип продажи:': 'свободная',\n",
       " 'Цена': '2 000 000 руб.',\n",
       " 'Этаж:': '2\\xa0/\\xa03'}"
      ]
     },
     "execution_count": 29,
     "metadata": {},
     "output_type": "execute_result"
    }
   ],
   "source": [
    "One_Flat_Downloader(all_hrefs[10])"
   ]
  },
  {
   "cell_type": "markdown",
   "metadata": {},
   "source": [
    "Такая функция иногда будет работать, а иногда не будет...\n",
    "\n",
    "<img align=\"center\" src=\"https://raw.githubusercontent.com/FUlyankin/Parsers/master/images%20/5.jpg\" height=\"500\" width=\"500\">\n",
    "\n",
    "Если проанализировать где именно происходят сбои в работе нашей функции, можно увидеть, что мы часто пытаемся найти метро. Тем не менее в окрестностях многих квартир метро нет. Например, в Новой Москве. \n",
    "\n",
    "Что же нам делать? Конечно же прописывать исключения! В python существует специальная конструкция, которая называется `try - except`. Посмотрим на то как она работает: \n",
    "\n",
    "```python\n",
    "try:\n",
    "    something\n",
    "except Name_of_some_error:\n",
    "    do_something_else\n",
    "```\n",
    "\n",
    "> Конструкция позволяет в случае, если произошла ошибка типа Name_of_some_error не заканчивать программу со словами «Все пропало! Ошибка!», а тут же передать управление блоку do_something_else, который что-нибудь сделает. \n",
    "\n",
    "Например, в ситуации ниже, когда функция сталкивается с отрицательными числами, она не пишет нам, что логарифма от отрицательного числа не существует, она молча записывает в вектор `b` указанное нами число. "
   ]
  },
  {
   "cell_type": "code",
   "execution_count": 30,
   "metadata": {},
   "outputs": [
    {
     "name": "stdout",
     "output_type": "stream",
     "text": [
      "[0.0, 0.6931471805599453, 1.0986122886681098, 1.3862943611198906, 'NA', 'NA', 2.1972245773362196, 2.302585092994046, 'NA', 2.4849066497880004, 0.6931471805599453]\n"
     ]
    }
   ],
   "source": [
    "from math import log\n",
    "a = [1,2,3,4,-5,-7,9,10,0,12,2]\n",
    "b = [ ]\n",
    "for atem in a:\n",
    "    try:\n",
    "        b.append(log(atem))\n",
    "    except Exception:\n",
    "        b.append('NA')\n",
    "print(b)"
   ]
  },
  {
   "cell_type": "markdown",
   "metadata": {},
   "source": [
    "Про исключения можно почитать [на просорах интернета](https://pythonworld.ru/tipy-dannyx-v-python/isklyucheniya-v-python-konstrukciya-try-except-dlya-obrabotki-isklyuchenij.html). В данном примере мы наложили очень сильное исключение, которое работает при возникновении абсолютно любой неадекватной ситуации в коде. Это исключение при необходимость можно ослабить, заменив на другое.\n",
    "\n",
    "Пропишем в функции, которая выкачивает страницы, в графе, которая отвечает за станцию метро, такое исключение. Итоговый код для скачки ЦИАН будет иметь следующий вид: "
   ]
  },
  {
   "cell_type": "code",
   "execution_count": 31,
   "metadata": {
    "collapsed": true
   },
   "outputs": [],
   "source": [
    "def One_Flat_Downloader(href):\n",
    "   \n",
    "    data = { }  # Задали пустой словарь, в который мы будем сохранять данные\n",
    "    \n",
    "    # Подгружаем страничку с информацией по квартире\n",
    "    response = requests.get(href)\n",
    "    html = response.content\n",
    "    soup = BeautifulSoup(html,'html.parser')\n",
    "    \n",
    "    # Вытаскиваем цену на квартиру\n",
    "    price = soup.findAll('div', attrs = {'class':\"object_descr_price\"})[0].text.strip()\n",
    "    data['Цена'] = price\n",
    "     \n",
    "    # Вытаскиваем метро\n",
    "    try:\n",
    "        station = soup.findAll('p', attrs = {'class':\"objects_item_metro_prg\"})[0].a.text\n",
    "        data['Метро'] = station\n",
    "    except Exception:\n",
    "        data['Метро'] = \"NA\"\n",
    "    \n",
    "    # Вытаскиваем расстояние до метро то ли пешком то ли на машине...\n",
    "    try:\n",
    "        Do_metro = soup.findAll('p', attrs = {'class':\"objects_item_metro_prg\"})[0]\n",
    "        Do_metro = Do_metro.find('span',{'class':'object_item_metro_comment'}).text.strip()\n",
    "        data['До метро'] = Do_metro\n",
    "    except Exception:\n",
    "        data['До метро'] = \"NA\"\n",
    "    \n",
    "    # Вытаскиваем количество комнат в квартире\n",
    "    komnata = soup.findAll('div', attrs = {'class':\"object_descr_title\"})[0].text.strip()\n",
    "    data['Комнаты'] = komnata\n",
    "    \n",
    "    # Вытаскиваем координаты квартиры\n",
    "    coordinates = soup.findAll('div',{'class':\"object-descr__map-tabs__content js-object_descr__panorama\"})[0]\n",
    "    data['Координаты'] = coordinates.panorama.attrs['point']\n",
    "    \n",
    "    # Вытаскиваем всё остальное\n",
    "    table = soup.findAll('table',attrs = {'class':\"object_descr_props flat sale\"})[0]\n",
    "    rows = table.find_all('tr')[1:]  # Вытащили все строки\n",
    "    dt = { } # Задали пустой словарь, в который мы будем сохранять наши строки \n",
    "    for row in rows:\n",
    "        cols = {row.findAll('th')[0].text.strip(): row.findAll('td')[0].text.strip()} # очищаем каждую строку! \n",
    "        dt.update(cols) # запоминаем\n",
    "    data.update(dt)\n",
    "    \n",
    "    return data "
   ]
  },
  {
   "cell_type": "markdown",
   "metadata": {},
   "source": [
    "## 1.7. Качаем всё, что плохо лежит!\n",
    "\n",
    "Теперь просто пробежимся по всем хрефам и вытащим нужную нам информацию о квартирах. Заведём таблицу, в которую будем собирать всю информацию. "
   ]
  },
  {
   "cell_type": "code",
   "execution_count": 32,
   "metadata": {
    "scrolled": true
   },
   "outputs": [
    {
     "name": "stdout",
     "output_type": "stream",
     "text": [
      "скачал 50  квартир из 280\n",
      "скачал 100  квартир из 280\n",
      "скачал 150  квартир из 280\n",
      "скачал 200  квартир из 280\n",
      "скачал 250  квартир из 280\n",
      "CPU times: user 1min 7s, sys: 496 ms, total: 1min 7s\n",
      "Wall time: 3min 27s\n"
     ]
    }
   ],
   "source": [
    "%%time\n",
    "# В эту табличку будем собирать данные\n",
    "df = pd.DataFrame( )\n",
    "k = 0 # Это номера наблюдений\n",
    "\n",
    "for item in all_hrefs:\n",
    "    k = k + 1\n",
    "    # грузим новое наблюдение\n",
    "    df1 = pd.DataFrame.from_dict(One_Flat_Downloader(item),orient='index')\n",
    "    # присваиваем этому наблюдению номер\n",
    "    df1.columns =[k]\n",
    "    # закидываем его в итоговую таблицу\n",
    "    df = df.join(df1, how='outer')   \n",
    "    # Ну и, конечно же, классический костыль, чтобы понимать на какой мы итерации\n",
    "    if k % 50 == 0:\n",
    "        print('скачал', k, ' квартир из', n)\n",
    "\n",
    "df = df.T  # Для удобства транспонируем таблицу        \n",
    "\n",
    "# Добавим к итоговой таблице колонку из хрефов. Когда вы будете изучать скаченые данные (мало ли),\n",
    "# будет возникать довольно большое количество аномалий. Хотелось бы получше изучить их природу...\n",
    "\n",
    "df['Хрефы'] = all_hrefs"
   ]
  },
  {
   "cell_type": "markdown",
   "metadata": {},
   "source": [
    "В итоге получилась вот такая грязная страшная табличка. Пришло время почистить её, а заодно похоливарить в комментах на тему почему я не очистил эту табличку сразу же при скачке, а также о том как лучше поступать: сначала парсить грязные данные, чтобы избежать неожиданных ошибок и сделать код максимально простым, а после чистить их или же сразу делать всё начисто. Мне будет интересно узнать про ваш опыт парсинга.  "
   ]
  },
  {
   "cell_type": "code",
   "execution_count": 33,
   "metadata": {},
   "outputs": [
    {
     "data": {
      "text/html": [
       "<div>\n",
       "<table border=\"1\" class=\"dataframe\">\n",
       "  <thead>\n",
       "    <tr style=\"text-align: right;\">\n",
       "      <th></th>\n",
       "      <th>Балкон:</th>\n",
       "      <th>Вид из окна:</th>\n",
       "      <th>Высота потолков:</th>\n",
       "      <th>Год постройки:</th>\n",
       "      <th>До метро</th>\n",
       "      <th>Жилая площадь:</th>\n",
       "      <th>Комнаты</th>\n",
       "      <th>Координаты</th>\n",
       "      <th>Лифт:</th>\n",
       "      <th>Метро</th>\n",
       "      <th>...</th>\n",
       "      <th>Сдача ГК:</th>\n",
       "      <th>Совмещенных санузлов:</th>\n",
       "      <th>Статус помещения:</th>\n",
       "      <th>Телефон:</th>\n",
       "      <th>Тип дома:</th>\n",
       "      <th>Тип комнаты:</th>\n",
       "      <th>Тип продажи:</th>\n",
       "      <th>Цена</th>\n",
       "      <th>Этаж:</th>\n",
       "      <th>Хрефы</th>\n",
       "    </tr>\n",
       "  </thead>\n",
       "  <tbody>\n",
       "    <tr>\n",
       "      <th>1</th>\n",
       "      <td>1 лодж.</td>\n",
       "      <td>двор</td>\n",
       "      <td>NaN</td>\n",
       "      <td>NaN</td>\n",
       "      <td>5\\n                мин.\\n                \\n   ...</td>\n",
       "      <td>17 м2</td>\n",
       "      <td>1-комн. кв.</td>\n",
       "      <td>[37.761411,55.678600]</td>\n",
       "      <td>1 пасс. + 1 груз.</td>\n",
       "      <td>Люблино,</td>\n",
       "      <td>...</td>\n",
       "      <td>NaN</td>\n",
       "      <td>NaN</td>\n",
       "      <td>NaN</td>\n",
       "      <td>нет</td>\n",
       "      <td>вторичка, \\n            панельный дом</td>\n",
       "      <td>NaN</td>\n",
       "      <td>свободная</td>\n",
       "      <td>6 600 000 руб.</td>\n",
       "      <td>11 / 17</td>\n",
       "      <td>https://www.cian.ru/sale/flat/156743792/</td>\n",
       "    </tr>\n",
       "    <tr>\n",
       "      <th>2</th>\n",
       "      <td>1 лодж.</td>\n",
       "      <td>двор и улица</td>\n",
       "      <td>2,72 м</td>\n",
       "      <td>NaN</td>\n",
       "      <td>4\\n                мин.\\n                \\n   ...</td>\n",
       "      <td>23,7 м2</td>\n",
       "      <td>2-комн. кв. \\n    \\n\\n                \\n      ...</td>\n",
       "      <td>[37.773762,55.670899]</td>\n",
       "      <td>1 пасс. + 1 груз.</td>\n",
       "      <td>Люблино,</td>\n",
       "      <td>...</td>\n",
       "      <td>1 кв. 2019 года</td>\n",
       "      <td>1</td>\n",
       "      <td>NaN</td>\n",
       "      <td>NaN</td>\n",
       "      <td>новостройка, \\n            монолитный</td>\n",
       "      <td>NaN</td>\n",
       "      <td>214-ФЗ</td>\n",
       "      <td>6 252 246 руб.</td>\n",
       "      <td>3 / 17\\n                \\n                    ...</td>\n",
       "      <td>https://www.cian.ru/sale/flat/163681209/</td>\n",
       "    </tr>\n",
       "    <tr>\n",
       "      <th>3</th>\n",
       "      <td>–</td>\n",
       "      <td>двор</td>\n",
       "      <td>NaN</td>\n",
       "      <td>2016</td>\n",
       "      <td>12\\n                мин.\\n                \\n  ...</td>\n",
       "      <td>42 м2</td>\n",
       "      <td>1-комн. кв. \\n    \\n\\n                \\n      ...</td>\n",
       "      <td>[37.641315,55.739960]</td>\n",
       "      <td>1 пасс.</td>\n",
       "      <td>Таганская,</td>\n",
       "      <td>...</td>\n",
       "      <td>NaN</td>\n",
       "      <td>1</td>\n",
       "      <td>NaN</td>\n",
       "      <td>NaN</td>\n",
       "      <td>вторичка, \\n            монолитный</td>\n",
       "      <td>NaN</td>\n",
       "      <td>свободная</td>\n",
       "      <td>38 000 000 руб.</td>\n",
       "      <td>3 / 4</td>\n",
       "      <td>https://www.cian.ru/sale/flat/157824483/</td>\n",
       "    </tr>\n",
       "    <tr>\n",
       "      <th>4</th>\n",
       "      <td>1 лодж.</td>\n",
       "      <td>–</td>\n",
       "      <td>NaN</td>\n",
       "      <td>NaN</td>\n",
       "      <td>12\\n                мин.\\n                \\n  ...</td>\n",
       "      <td>12 м2</td>\n",
       "      <td>1-комн. кв. \\n    \\n\\n                \\n      ...</td>\n",
       "      <td>[37.467436,55.555401]</td>\n",
       "      <td>2 пасс. + 1 груз.</td>\n",
       "      <td>Теплый Стан,</td>\n",
       "      <td>...</td>\n",
       "      <td>3 кв. 2018 года</td>\n",
       "      <td>1</td>\n",
       "      <td>NaN</td>\n",
       "      <td>NaN</td>\n",
       "      <td>новостройка, \\n            монолитный</td>\n",
       "      <td>NaN</td>\n",
       "      <td>214-ФЗ</td>\n",
       "      <td>1 847 605 руб.</td>\n",
       "      <td>8 / 15</td>\n",
       "      <td>https://www.cian.ru/sale/flat/161680487/</td>\n",
       "    </tr>\n",
       "    <tr>\n",
       "      <th>5</th>\n",
       "      <td>–</td>\n",
       "      <td>–</td>\n",
       "      <td>NaN</td>\n",
       "      <td>1971</td>\n",
       "      <td>15\\n                мин.\\n                \\n  ...</td>\n",
       "      <td>–</td>\n",
       "      <td>1-комн. кв.</td>\n",
       "      <td>[37.829557,55.724018]</td>\n",
       "      <td>1 пасс.</td>\n",
       "      <td>Выхино,</td>\n",
       "      <td>...</td>\n",
       "      <td>NaN</td>\n",
       "      <td>NaN</td>\n",
       "      <td>NaN</td>\n",
       "      <td>NaN</td>\n",
       "      <td>вторичка, \\n            панельный дом</td>\n",
       "      <td>NaN</td>\n",
       "      <td>свободная</td>\n",
       "      <td>1 790 000 руб.</td>\n",
       "      <td>1 / 9</td>\n",
       "      <td>https://www.cian.ru/sale/flat/161493344/</td>\n",
       "    </tr>\n",
       "  </tbody>\n",
       "</table>\n",
       "<p>5 rows × 29 columns</p>\n",
       "</div>"
      ],
      "text/plain": [
       "   Балкон:  Вид из окна: Высота потолков: Год постройки:  \\\n",
       "1  1 лодж.          двор              NaN            NaN   \n",
       "2  1 лодж.  двор и улица           2,72 м            NaN   \n",
       "3        –          двор              NaN           2016   \n",
       "4  1 лодж.             –              NaN            NaN   \n",
       "5        –             –              NaN           1971   \n",
       "\n",
       "                                            До метро Жилая площадь:  \\\n",
       "1  5\\n                мин.\\n                \\n   ...          17 м2   \n",
       "2  4\\n                мин.\\n                \\n   ...        23,7 м2   \n",
       "3  12\\n                мин.\\n                \\n  ...          42 м2   \n",
       "4  12\\n                мин.\\n                \\n  ...          12 м2   \n",
       "5  15\\n                мин.\\n                \\n  ...              –   \n",
       "\n",
       "                                             Комнаты             Координаты  \\\n",
       "1                                        1-комн. кв.  [37.761411,55.678600]   \n",
       "2  2-комн. кв. \\n    \\n\\n                \\n      ...  [37.773762,55.670899]   \n",
       "3  1-комн. кв. \\n    \\n\\n                \\n      ...  [37.641315,55.739960]   \n",
       "4  1-комн. кв. \\n    \\n\\n                \\n      ...  [37.467436,55.555401]   \n",
       "5                                        1-комн. кв.  [37.829557,55.724018]   \n",
       "\n",
       "               Лифт:         Метро                    ...                     \\\n",
       "1  1 пасс. + 1 груз.      Люблино,                    ...                      \n",
       "2  1 пасс. + 1 груз.      Люблино,                    ...                      \n",
       "3            1 пасс.    Таганская,                    ...                      \n",
       "4  2 пасс. + 1 груз.  Теплый Стан,                    ...                      \n",
       "5            1 пасс.       Выхино,                    ...                      \n",
       "\n",
       "         Сдача ГК: Совмещенных санузлов: Статус помещения: Телефон:  \\\n",
       "1              NaN                   NaN               NaN      нет   \n",
       "2  1 кв. 2019 года                     1               NaN      NaN   \n",
       "3              NaN                     1               NaN      NaN   \n",
       "4  3 кв. 2018 года                     1               NaN      NaN   \n",
       "5              NaN                   NaN               NaN      NaN   \n",
       "\n",
       "                               Тип дома: Тип комнаты: Тип продажи:  \\\n",
       "1  вторичка, \\n            панельный дом          NaN    свободная   \n",
       "2  новостройка, \\n            монолитный          NaN       214-ФЗ   \n",
       "3     вторичка, \\n            монолитный          NaN    свободная   \n",
       "4  новостройка, \\n            монолитный          NaN       214-ФЗ   \n",
       "5  вторичка, \\n            панельный дом          NaN    свободная   \n",
       "\n",
       "              Цена                                              Этаж:  \\\n",
       "1   6 600 000 руб.                                            11 / 17   \n",
       "2   6 252 246 руб.  3 / 17\\n                \\n                    ...   \n",
       "3  38 000 000 руб.                                              3 / 4   \n",
       "4   1 847 605 руб.                                             8 / 15   \n",
       "5   1 790 000 руб.                                              1 / 9   \n",
       "\n",
       "                                      Хрефы  \n",
       "1  https://www.cian.ru/sale/flat/156743792/  \n",
       "2  https://www.cian.ru/sale/flat/163681209/  \n",
       "3  https://www.cian.ru/sale/flat/157824483/  \n",
       "4  https://www.cian.ru/sale/flat/161680487/  \n",
       "5  https://www.cian.ru/sale/flat/161493344/  \n",
       "\n",
       "[5 rows x 29 columns]"
      ]
     },
     "execution_count": 33,
     "metadata": {},
     "output_type": "execute_result"
    }
   ],
   "source": [
    "df.head( )"
   ]
  },
  {
   "cell_type": "markdown",
   "metadata": {
    "collapsed": true
   },
   "source": [
    "Сохраняем на всякий случай грязную табличку и приступаем к её очистке. "
   ]
  },
  {
   "cell_type": "code",
   "execution_count": 34,
   "metadata": {
    "collapsed": true
   },
   "outputs": [],
   "source": [
    "pd.DataFrame.to_csv(df,'CIAN_data_dirty.csv')"
   ]
  },
  {
   "cell_type": "markdown",
   "metadata": {
    "collapsed": true
   },
   "source": [
    "# 2. Отмываем данные\n",
    "\n",
    "<img align=\"center\" src=\"https://raw.githubusercontent.com/FUlyankin/Parsers/master/images%20/otmyivanie-deneg-cherez-bankovskie-kartyi.jpg\" height=\"200\" width=\"200\"> \n",
    "\n",
    "Заведём для новых, чистеньких данных свежую табличку.  "
   ]
  },
  {
   "cell_type": "code",
   "execution_count": 35,
   "metadata": {
    "collapsed": true
   },
   "outputs": [],
   "source": [
    "df_clean = pd.DataFrame( )"
   ]
  },
  {
   "cell_type": "markdown",
   "metadata": {},
   "source": [
    "### 2.1. Очистка цен\n",
    "\n",
    "Для очистки можно пользоваться разными вещами. Например, для того, чтобы очистить от лишних символов цены, можно использоват метод `replace`. "
   ]
  },
  {
   "cell_type": "code",
   "execution_count": 36,
   "metadata": {},
   "outputs": [
    {
     "data": {
      "text/plain": [
       "'6 600 000 руб.'"
      ]
     },
     "execution_count": 36,
     "metadata": {},
     "output_type": "execute_result"
    }
   ],
   "source": [
    "df['Цена'][1]"
   ]
  },
  {
   "cell_type": "code",
   "execution_count": 37,
   "metadata": {},
   "outputs": [
    {
     "data": {
      "text/plain": [
       "'6600000'"
      ]
     },
     "execution_count": 37,
     "metadata": {},
     "output_type": "execute_result"
    }
   ],
   "source": [
    "df['Цена'][1].replace(\" \", \"\").replace(\"руб.\", \"\")"
   ]
  },
  {
   "cell_type": "markdown",
   "metadata": {},
   "source": [
    "А можно подгрузить [пакет re](https://docs.python.org/2/library/re.html), который позволяет использовать регулярные выражения, а также более удобно работать с текстовыми данными.  Регулярные выражение — это очень стнрашные конструкции, которые позволяют выцеплять из текстов разные закономерности. \n",
    "\n",
    "Существует довольно большое количество самых разных регулярных выражений, позволяющих очень лихо работать с текстами. Вот только учить их лениво... Если вы хотите подробнее поизучать регулярные выражения, а не только гуглить на стаковерфлоу необходимые вам паттерны, как делаю я, то вот [неплохой источник.](http://regexr.com/)\n",
    "\n",
    "Кроме регулярных выражений, в пакете `re` лежат удобные функции для текстовых данных. Если вы ещё не забыли, мы подгружали этот пакет для того, чтобы уничтожить рубли и пробелы. Регулярное выражение `\\d` означает цифру. Выражение `\\D` означает всё кроме цифры. Удалим всё, кроме цифр. "
   ]
  },
  {
   "cell_type": "code",
   "execution_count": 38,
   "metadata": {},
   "outputs": [
    {
     "data": {
      "text/plain": [
       "'6600000'"
      ]
     },
     "execution_count": 38,
     "metadata": {},
     "output_type": "execute_result"
    }
   ],
   "source": [
    "import re\n",
    "re.sub('\\D' ,'',df['Цена'][1])"
   ]
  },
  {
   "cell_type": "markdown",
   "metadata": {},
   "source": [
    "Обрабатываем всю колонку из цен и закидываем её в чистую табличку. "
   ]
  },
  {
   "cell_type": "code",
   "execution_count": 39,
   "metadata": {
    "collapsed": true
   },
   "outputs": [],
   "source": [
    "price = [int(re.sub('\\D' ,'',item)) for item in df['Цена']]\n",
    "df_clean['Price'] = price "
   ]
  },
  {
   "cell_type": "markdown",
   "metadata": {},
   "source": [
    "### 2.2. Этажность\n",
    "Обработаем этажность. Первая цифра — это этаж, на котором расположена квартира. Вторая цифра — это высота дома. Будем сплитить эти цифры по значку `/`."
   ]
  },
  {
   "cell_type": "code",
   "execution_count": 40,
   "metadata": {},
   "outputs": [
    {
     "data": {
      "text/plain": [
       "2    3 / 17\\n                \\n                    ...\n",
       "3                                                3 / 4\n",
       "Name: Этаж:, dtype: object"
      ]
     },
     "execution_count": 40,
     "metadata": {},
     "output_type": "execute_result"
    }
   ],
   "source": [
    "df['Этаж:'][1:3]"
   ]
  },
  {
   "cell_type": "markdown",
   "metadata": {},
   "source": [
    "Методом проб и ошибок выясним, что в данных встречаются квартиры, для которых не указана вторая цифра. Пропишем `try-except` и забросим всё это чудо в нашу свежую табличку. "
   ]
  },
  {
   "cell_type": "code",
   "execution_count": 41,
   "metadata": {},
   "outputs": [],
   "source": [
    "new_floors0 =  [int(floor.split('\\xa0/\\xa0')[0]) for floor in df['Этаж:']] \n",
    "\n",
    "new_floors1 =  [ ]\n",
    "for floor in df['Этаж:']: \n",
    "    try:\n",
    "        new_floors1.append(int(floor.split('\\xa0/\\xa0')[1]))\n",
    "    except Exception:\n",
    "        new_floors1.append(int(floor.split('\\xa0/\\xa0')[0]))\n",
    "        \n",
    "df_clean['Total_floor'] =  new_floors1\n",
    "df_clean['Curent_floor'] = new_floors0 "
   ]
  },
  {
   "cell_type": "markdown",
   "metadata": {},
   "source": [
    "### 2.3.  Площади\n",
    "\n",
    "Идём дальше. Площади. С ними возникает довольно много проблем. Мы должны: \n",
    "\n",
    "* Убрать подписи `m2` \n",
    "* Заменить `,` на `.`\n",
    "* Заменить – на NA  (сделаем это в самом конце) "
   ]
  },
  {
   "cell_type": "code",
   "execution_count": 42,
   "metadata": {},
   "outputs": [
    {
     "data": {
      "text/plain": [
       "1     10 м2\n",
       "2    9,8 м2\n",
       "3     10 м2\n",
       "4         –\n",
       "5         –\n",
       "Name: Площадь кухни:, dtype: object"
      ]
     },
     "execution_count": 42,
     "metadata": {},
     "output_type": "execute_result"
    }
   ],
   "source": [
    "df['Площадь кухни:'][:5]"
   ]
  },
  {
   "cell_type": "markdown",
   "metadata": {},
   "source": [
    "Напишем функцию, которая будет делать всё вышеперечисленное и обработаем ей все четыре площади из датасета. "
   ]
  },
  {
   "cell_type": "code",
   "execution_count": 43,
   "metadata": {},
   "outputs": [
    {
     "data": {
      "text/html": [
       "<div>\n",
       "<table border=\"1\" class=\"dataframe\">\n",
       "  <thead>\n",
       "    <tr style=\"text-align: right;\">\n",
       "      <th></th>\n",
       "      <th>Price</th>\n",
       "      <th>Total_floor</th>\n",
       "      <th>Curent_floor</th>\n",
       "      <th>TotalSq</th>\n",
       "      <th>LiveSq</th>\n",
       "      <th>KichSq</th>\n",
       "      <th>RoomSq</th>\n",
       "    </tr>\n",
       "  </thead>\n",
       "  <tbody>\n",
       "    <tr>\n",
       "      <th>0</th>\n",
       "      <td>6600000</td>\n",
       "      <td>17</td>\n",
       "      <td>11</td>\n",
       "      <td>40</td>\n",
       "      <td>17</td>\n",
       "      <td>10</td>\n",
       "      <td>17</td>\n",
       "    </tr>\n",
       "    <tr>\n",
       "      <th>1</th>\n",
       "      <td>6252246</td>\n",
       "      <td>3</td>\n",
       "      <td>3</td>\n",
       "      <td>48.6</td>\n",
       "      <td>23.7</td>\n",
       "      <td>9.8</td>\n",
       "      <td>–</td>\n",
       "    </tr>\n",
       "    <tr>\n",
       "      <th>2</th>\n",
       "      <td>38000000</td>\n",
       "      <td>4</td>\n",
       "      <td>3</td>\n",
       "      <td>68</td>\n",
       "      <td>42</td>\n",
       "      <td>10</td>\n",
       "      <td>16-26</td>\n",
       "    </tr>\n",
       "    <tr>\n",
       "      <th>3</th>\n",
       "      <td>1847605</td>\n",
       "      <td>15</td>\n",
       "      <td>8</td>\n",
       "      <td>18.7</td>\n",
       "      <td>12</td>\n",
       "      <td>–</td>\n",
       "      <td>12</td>\n",
       "    </tr>\n",
       "    <tr>\n",
       "      <th>4</th>\n",
       "      <td>1790000</td>\n",
       "      <td>9</td>\n",
       "      <td>1</td>\n",
       "      <td>12.8</td>\n",
       "      <td>–</td>\n",
       "      <td>–</td>\n",
       "      <td>–</td>\n",
       "    </tr>\n",
       "  </tbody>\n",
       "</table>\n",
       "</div>"
      ],
      "text/plain": [
       "      Price  Total_floor  Curent_floor TotalSq LiveSq KichSq RoomSq\n",
       "0   6600000           17            11      40     17     10     17\n",
       "1   6252246            3             3    48.6   23.7    9.8      –\n",
       "2  38000000            4             3      68     42     10  16-26\n",
       "3   1847605           15             8    18.7     12      –     12\n",
       "4   1790000            9             1    12.8      –      –      –"
      ]
     },
     "execution_count": 43,
     "metadata": {},
     "output_type": "execute_result"
    }
   ],
   "source": [
    "def sqmaker(text_vector):\n",
    "    # Сначала убираем м2\n",
    "    step1 = [re.sub('\\xa0м2' ,'',text) for text in text_vector]\n",
    "    # Меняем запятые на точки \n",
    "    step2 = [re.sub(',','.', text) for text in step1]\n",
    "    return(step2)\n",
    "\n",
    "df_clean['TotalSq'] = sqmaker(df['Общая площадь:'])\n",
    "df_clean['LiveSq'] = sqmaker(df['Жилая площадь:'])\n",
    "df_clean['KichSq'] = sqmaker(df['Площадь кухни:'])\n",
    "df_clean['RoomSq'] = sqmaker(df['Площадь комнат:'])\n",
    "\n",
    "# Обратите внимание, что люди очень непредсказуемо заполняют графу, которая отвечает за площадь комнат. \n",
    "df_clean.head()"
   ]
  },
  {
   "cell_type": "markdown",
   "metadata": {},
   "source": [
    "### 2.4. Лифты и балконы \n",
    "\n",
    "Данные о лифтах и балконах отображаются стрёмно. Надо разбивать Кажду из переменных на две. В случае балкона на количество лоджий и количество балконов. "
   ]
  },
  {
   "cell_type": "code",
   "execution_count": 44,
   "metadata": {},
   "outputs": [
    {
     "data": {
      "text/plain": [
       "–          103\n",
       "1 лодж.     90\n",
       "1 балк.     62\n",
       "нет         22\n",
       "2 лодж.      2\n",
       "2 балк.      1\n",
       "Name: Балкон:, dtype: int64"
      ]
     },
     "execution_count": 44,
     "metadata": {},
     "output_type": "execute_result"
    }
   ],
   "source": [
    "df['Балкон:'].value_counts()"
   ]
  },
  {
   "cell_type": "code",
   "execution_count": 45,
   "metadata": {},
   "outputs": [
    {
     "data": {
      "text/plain": [
       "1 пасс. + 1 груз.    151\n",
       "–                     42\n",
       "2 пасс. + 1 груз.     27\n",
       "1 пасс.               20\n",
       "2 пасс. + 2 груз.     12\n",
       "нет                   10\n",
       "1 груз.                6\n",
       "2 пасс.                5\n",
       "1 пасс. + 2 груз.      4\n",
       "2 груз.                2\n",
       "3 груз.                1\n",
       "Name: Лифт:, dtype: int64"
      ]
     },
     "execution_count": 45,
     "metadata": {},
     "output_type": "execute_result"
    }
   ],
   "source": [
    "df['Лифт:'].value_counts()"
   ]
  },
  {
   "cell_type": "markdown",
   "metadata": {},
   "source": [
    "Хотелось бы очистить все данные от мусора нахаляву. Однако они слишком разнородные и более простого способа, чем проходить по ним циклом, я найти не могу. "
   ]
  },
  {
   "cell_type": "code",
   "execution_count": 47,
   "metadata": {},
   "outputs": [
    {
     "name": "stdout",
     "output_type": "stream",
     "text": [
      "[['1', 'лодж.'], ['1', 'лодж.'], ['–'], ['1', 'лодж.'], ['–']]\n"
     ]
    }
   ],
   "source": [
    "# Дробим все Балконы на два разных вида!  ( | - это значёк или для регулярных выражений)\n",
    "house_bal = [re.split(' \\+ | ',house) for house in df['Балкон:'].replace('нет','–')]\n",
    "print(house_bal[:5])"
   ]
  },
  {
   "cell_type": "code",
   "execution_count": 48,
   "metadata": {},
   "outputs": [
    {
     "name": "stdout",
     "output_type": "stream",
     "text": [
      "[0, 0, 0, 0, 0, 0, 0, 0, 0, 0]\n",
      "[1, 1, 0, 1, 0, 1, 1, 0, 0, 1]\n"
     ]
    }
   ],
   "source": [
    "balkon = [ ]\n",
    "lodgya = [ ] \n",
    "for transport in house_bal:\n",
    "    if transport[0] == '–':  # Если длина 1, то нет ни балкона ни лоджии...\n",
    "        balkon.append(0)\n",
    "        lodgya.append(0)\n",
    "    elif len(transport) == 2: # Если длина 2, то есть либо балконы либо лоджии...\n",
    "        if transport[1] == 'балк.':\n",
    "            balkon.append(int(transport[0]))\n",
    "            lodgya.append(0)\n",
    "        else:\n",
    "            balkon.append(0)\n",
    "            lodgya.append(int(transport[0]))   # Если не балкон, то лоджия. Другого не дано. \n",
    "    else:                    # Если длина ни 2 и ни 1, то она 4. И у нас есть и балкон и лоджия.\n",
    "        balkon.append(int(transport[0]))\n",
    "        lodgya.append(int(transport[2]))\n",
    "    \n",
    "print(balkon[:10])\n",
    "print(lodgya[:10])"
   ]
  },
  {
   "cell_type": "markdown",
   "metadata": {},
   "source": [
    "Ровно точно также поступим с лифтами. "
   ]
  },
  {
   "cell_type": "code",
   "execution_count": 49,
   "metadata": {
    "collapsed": true
   },
   "outputs": [],
   "source": [
    "house_transport = [re.split(' \\+ | ',house) for house in df['Лифт:'].replace('нет','–')]\n",
    "\n",
    "passagir = [ ]\n",
    "gruzovoy = [ ] \n",
    "for transport in house_transport:\n",
    "    if len(transport) <=1:  # Если длина 1, то нет ни одного лифта...\n",
    "        passagir.append(0)\n",
    "        gruzovoy.append(0)\n",
    "    elif len(transport) == 2: # Если длина 2, то есть либо грузовой либо пассажирский...\n",
    "        if transport[1] == 'пасс.':\n",
    "            passagir.append(int(transport[0]))\n",
    "            gruzovoy.append(0)\n",
    "        else:\n",
    "            passagir.append(0)\n",
    "            gruzovoy.append(int(transport[0]))   # Если не пассажирский, то грузовой. Другого не дано. \n",
    "    else:                    # Если длина ни 2 и ни 1, то она 4. И у нас есть оба типа лифтов.\n",
    "        passagir.append(int(transport[0]))\n",
    "        gruzovoy.append(int(transport[2]))"
   ]
  },
  {
   "cell_type": "markdown",
   "metadata": {},
   "source": [
    "Закидываем в табличку новую информацию. "
   ]
  },
  {
   "cell_type": "code",
   "execution_count": 50,
   "metadata": {},
   "outputs": [],
   "source": [
    "df_clean['pass_elevator'] = passagir\n",
    "df_clean['gruz_elevator'] = gruzovoy\n",
    "\n",
    "df_clean['balkon'] = balkon\n",
    "df_clean['lodgya'] = lodgya"
   ]
  },
  {
   "cell_type": "markdown",
   "metadata": {},
   "source": [
    "### 2.5. Высота потолков\n",
    "\n",
    "Очищаем высоту потолков от метров, пробелов и меняем все запятые на точки. "
   ]
  },
  {
   "cell_type": "code",
   "execution_count": 51,
   "metadata": {},
   "outputs": [
    {
     "data": {
      "text/plain": [
       "nan"
      ]
     },
     "execution_count": 51,
     "metadata": {},
     "output_type": "execute_result"
    }
   ],
   "source": [
    "df['Высота потолков:'][1]"
   ]
  },
  {
   "cell_type": "code",
   "execution_count": 53,
   "metadata": {},
   "outputs": [
    {
     "ename": "TypeError",
     "evalue": "expected string or bytes-like object",
     "output_type": "error",
     "traceback": [
      "\u001b[0;31m---------------------------------------------------------------------------\u001b[0m",
      "\u001b[0;31mTypeError\u001b[0m                                 Traceback (most recent call last)",
      "\u001b[0;32m<ipython-input-53-e821ed73d8bb>\u001b[0m in \u001b[0;36m<module>\u001b[0;34m()\u001b[0m\n\u001b[0;32m----> 1\u001b[0;31m \u001b[0;34m[\u001b[0m\u001b[0mre\u001b[0m\u001b[0;34m.\u001b[0m\u001b[0msub\u001b[0m\u001b[0;34m(\u001b[0m\u001b[0;34m'\\xa0м'\u001b[0m\u001b[0;34m,\u001b[0m\u001b[0;34m''\u001b[0m\u001b[0;34m,\u001b[0m\u001b[0mtext\u001b[0m\u001b[0;34m)\u001b[0m \u001b[0;32mfor\u001b[0m \u001b[0mtext\u001b[0m \u001b[0;32min\u001b[0m \u001b[0mdf\u001b[0m\u001b[0;34m[\u001b[0m\u001b[0;34m'Высота потолков:'\u001b[0m\u001b[0;34m]\u001b[0m\u001b[0;34m]\u001b[0m\u001b[0;34m\u001b[0m\u001b[0m\n\u001b[0m",
      "\u001b[0;32m<ipython-input-53-e821ed73d8bb>\u001b[0m in \u001b[0;36m<listcomp>\u001b[0;34m(.0)\u001b[0m\n\u001b[0;32m----> 1\u001b[0;31m \u001b[0;34m[\u001b[0m\u001b[0mre\u001b[0m\u001b[0;34m.\u001b[0m\u001b[0msub\u001b[0m\u001b[0;34m(\u001b[0m\u001b[0;34m'\\xa0м'\u001b[0m\u001b[0;34m,\u001b[0m\u001b[0;34m''\u001b[0m\u001b[0;34m,\u001b[0m\u001b[0mtext\u001b[0m\u001b[0;34m)\u001b[0m \u001b[0;32mfor\u001b[0m \u001b[0mtext\u001b[0m \u001b[0;32min\u001b[0m \u001b[0mdf\u001b[0m\u001b[0;34m[\u001b[0m\u001b[0;34m'Высота потолков:'\u001b[0m\u001b[0;34m]\u001b[0m\u001b[0;34m]\u001b[0m\u001b[0;34m\u001b[0m\u001b[0m\n\u001b[0m",
      "\u001b[0;32m/usr/lib/python3.5/re.py\u001b[0m in \u001b[0;36msub\u001b[0;34m(pattern, repl, string, count, flags)\u001b[0m\n\u001b[1;32m    180\u001b[0m     \u001b[0ma\u001b[0m \u001b[0mcallable\u001b[0m\u001b[0;34m,\u001b[0m \u001b[0mit\u001b[0m\u001b[0;31m'\u001b[0m\u001b[0ms\u001b[0m \u001b[0mpassed\u001b[0m \u001b[0mthe\u001b[0m \u001b[0mmatch\u001b[0m \u001b[0mobject\u001b[0m \u001b[0;32mand\u001b[0m \u001b[0mmust\u001b[0m \u001b[0;32mreturn\u001b[0m\u001b[0;34m\u001b[0m\u001b[0m\n\u001b[1;32m    181\u001b[0m     a replacement string to be used.\"\"\"\n\u001b[0;32m--> 182\u001b[0;31m     \u001b[0;32mreturn\u001b[0m \u001b[0m_compile\u001b[0m\u001b[0;34m(\u001b[0m\u001b[0mpattern\u001b[0m\u001b[0;34m,\u001b[0m \u001b[0mflags\u001b[0m\u001b[0;34m)\u001b[0m\u001b[0;34m.\u001b[0m\u001b[0msub\u001b[0m\u001b[0;34m(\u001b[0m\u001b[0mrepl\u001b[0m\u001b[0;34m,\u001b[0m \u001b[0mstring\u001b[0m\u001b[0;34m,\u001b[0m \u001b[0mcount\u001b[0m\u001b[0;34m)\u001b[0m\u001b[0;34m\u001b[0m\u001b[0m\n\u001b[0m\u001b[1;32m    183\u001b[0m \u001b[0;34m\u001b[0m\u001b[0m\n\u001b[1;32m    184\u001b[0m \u001b[0;32mdef\u001b[0m \u001b[0msubn\u001b[0m\u001b[0;34m(\u001b[0m\u001b[0mpattern\u001b[0m\u001b[0;34m,\u001b[0m \u001b[0mrepl\u001b[0m\u001b[0;34m,\u001b[0m \u001b[0mstring\u001b[0m\u001b[0;34m,\u001b[0m \u001b[0mcount\u001b[0m\u001b[0;34m=\u001b[0m\u001b[0;36m0\u001b[0m\u001b[0;34m,\u001b[0m \u001b[0mflags\u001b[0m\u001b[0;34m=\u001b[0m\u001b[0;36m0\u001b[0m\u001b[0;34m)\u001b[0m\u001b[0;34m:\u001b[0m\u001b[0;34m\u001b[0m\u001b[0m\n",
      "\u001b[0;31mTypeError\u001b[0m: expected string or bytes-like object"
     ]
    }
   ],
   "source": [
    "[re.sub('\\xa0м','',text) for text in df['Высота потолков:']]"
   ]
  },
  {
   "cell_type": "markdown",
   "metadata": {},
   "source": [
    "Не получается. Почему не получается? Что делать, чтобы получилось? \n",
    "\n",
    "Правильно! Всё дела в NaN. Код не работает для них и выдаёт кучу ошибок. Заменим все NaN на что-нибудь... Заодно заменим все запятые на точки. "
   ]
  },
  {
   "cell_type": "code",
   "execution_count": 54,
   "metadata": {},
   "outputs": [],
   "source": [
    "potolki = [re.sub('\\xa0м','',text) for text in df['Высота потолков:'].replace(np.nan, '–')]\n",
    "potolki = [re.sub(',','.',potolok) for potolok in potolki]\n",
    "df_clean['visokiy_potolok'] = potolki"
   ]
  },
  {
   "cell_type": "markdown",
   "metadata": {},
   "source": [
    "### 2.6. Комнаты\n",
    "\n",
    "Отрезаем лишнюю информацию по какому-то странному символу!"
   ]
  },
  {
   "cell_type": "code",
   "execution_count": 55,
   "metadata": {},
   "outputs": [
    {
     "data": {
      "text/plain": [
       "1                                           1-комн. кв.\n",
       "2     2-комн. кв. \\n    \\n\\n                \\n      ...\n",
       "3     1-комн. кв. \\n    \\n\\n                \\n      ...\n",
       "4     1-комн. кв. \\n    \\n\\n                \\n      ...\n",
       "5                                           1-комн. кв.\n",
       "6     1-комн. кв. \\n    \\n\\n                \\n      ...\n",
       "7     1-комн. кв. \\n    \\n\\n                \\n      ...\n",
       "8                                           1-комн. кв.\n",
       "9     1-комн. кв. \\n    \\n\\n                \\n      ...\n",
       "10    2-комн. кв. \\n    \\n\\n                \\n      ...\n",
       "Name: Комнаты, dtype: object"
      ]
     },
     "execution_count": 55,
     "metadata": {},
     "output_type": "execute_result"
    }
   ],
   "source": [
    "df['Комнаты'][:10]"
   ]
  },
  {
   "cell_type": "code",
   "execution_count": 56,
   "metadata": {},
   "outputs": [],
   "source": [
    "rooms = [item.split('\\xa0')[0] for item in df['Комнаты']]\n",
    "df_clean['rooms'] = rooms"
   ]
  },
  {
   "cell_type": "markdown",
   "metadata": {},
   "source": [
    "### 2.7. Год постройки и год предполагаемой постройки. \n",
    "\n",
    "С годом постройки всё хорошо. "
   ]
  },
  {
   "cell_type": "code",
   "execution_count": 57,
   "metadata": {},
   "outputs": [
    {
     "data": {
      "text/plain": [
       "['–', '–', '2016', '–', '1971']"
      ]
     },
     "execution_count": 57,
     "metadata": {},
     "output_type": "execute_result"
    }
   ],
   "source": [
    "past_year = list(df['Год постройки:'].replace(np.nan,'–'))\n",
    "past_year[:5]"
   ]
  },
  {
   "cell_type": "markdown",
   "metadata": {},
   "source": [
    "С годом сдачи проблемы. Кварталы указаны не везде. Пренебрежём ими. "
   ]
  },
  {
   "cell_type": "code",
   "execution_count": 58,
   "metadata": {},
   "outputs": [
    {
     "data": {
      "text/plain": [
       "1                NaN\n",
       "2    1 кв. 2019 года\n",
       "3                NaN\n",
       "4    3 кв. 2018 года\n",
       "5                NaN\n",
       "Name: Сдача ГК:, dtype: object"
      ]
     },
     "execution_count": 58,
     "metadata": {},
     "output_type": "execute_result"
    }
   ],
   "source": [
    "df['Сдача ГК:'][:5]"
   ]
  },
  {
   "cell_type": "code",
   "execution_count": 59,
   "metadata": {},
   "outputs": [],
   "source": [
    "future_year = [ ]\n",
    "for year in df['Сдача ГК:'].replace(np.nan,'–'):\n",
    "    if year == '–':\n",
    "        future_year.append('–')\n",
    "    else:\n",
    "        future_year.append(re.findall('2\\d+', year))"
   ]
  },
  {
   "cell_type": "code",
   "execution_count": 60,
   "metadata": {},
   "outputs": [],
   "source": [
    "df_clean['past_year'] = past_year\n",
    "df_clean['future_year'] = future_year"
   ]
  },
  {
   "cell_type": "markdown",
   "metadata": {},
   "source": [
    "### 2.8. Расстояние до метро \n",
    "\n",
    "До метро можно добраться либо пешком либо на машине. Разобьём переменную, отвечающую за это на две части — машинную и пешеходную."
   ]
  },
  {
   "cell_type": "code",
   "execution_count": 61,
   "metadata": {},
   "outputs": [
    {
     "data": {
      "text/plain": [
       "'5\\n                мин.\\n                \\n                    пешком'"
      ]
     },
     "execution_count": 61,
     "metadata": {},
     "output_type": "execute_result"
    }
   ],
   "source": [
    "df['До метро'][1]"
   ]
  },
  {
   "cell_type": "code",
   "execution_count": 62,
   "metadata": {},
   "outputs": [
    {
     "data": {
      "text/plain": [
       "['5', 'пешком']"
      ]
     },
     "execution_count": 62,
     "metadata": {},
     "output_type": "execute_result"
    }
   ],
   "source": [
    "re.split('\\n +мин.\\n + \\n +',df['До метро'][1])"
   ]
  },
  {
   "cell_type": "code",
   "execution_count": 63,
   "metadata": {},
   "outputs": [
    {
     "data": {
      "text/plain": [
       "[['5', 'пешком'],\n",
       " ['4', 'на машине'],\n",
       " ['12', 'пешком'],\n",
       " ['12', 'на машине'],\n",
       " ['15', 'пешком'],\n",
       " ['12', 'на машине'],\n",
       " ['12', 'на машине'],\n",
       " ['30', 'на машине'],\n",
       " ['50', 'на машине'],\n",
       " ['NA']]"
      ]
     },
     "execution_count": 63,
     "metadata": {},
     "output_type": "execute_result"
    }
   ],
   "source": [
    "do_metro = [re.split('\\n +мин.\\n + \\n + ', item) for item in df['До метро'].replace(np.nan,'–')]\n",
    "do_metro[:10]"
   ]
  },
  {
   "cell_type": "code",
   "execution_count": 64,
   "metadata": {
    "collapsed": true
   },
   "outputs": [],
   "source": [
    "do_metro_mashina = [ ]\n",
    "do_metro_peshkom = [ ]\n",
    "for doroga in do_metro:\n",
    "    if len(doroga) == 1:  # Значит никакой информации не дано\n",
    "        do_metro_mashina.append('–')\n",
    "        do_metro_peshkom.append('–')\n",
    "    elif doroga[1] == 'пешком':\n",
    "        do_metro_mashina.append('–')\n",
    "        do_metro_peshkom.append(doroga[0])\n",
    "    else:\n",
    "        do_metro_mashina.append(doroga[0])\n",
    "        do_metro_peshkom.append('–')"
   ]
  },
  {
   "cell_type": "markdown",
   "metadata": {},
   "source": [
    "Добавляем очередные колонки к таблице."
   ]
  },
  {
   "cell_type": "code",
   "execution_count": 65,
   "metadata": {
    "collapsed": true
   },
   "outputs": [],
   "source": [
    "df_clean['do_metro_peshkom'] = do_metro_peshkom\n",
    "df_clean['do_metro_mashina'] = do_metro_mashina"
   ]
  },
  {
   "cell_type": "markdown",
   "metadata": {},
   "source": [
    "### 2.9. Качественные переменные\n",
    "\n",
    "Посмотрим на текстовую переменную, которая отвечает за тип дома. Её было бы удобно раздробить на две части: часть отвечающую за то вторичный рынок или первичный и часть, отвечающую за тип дома. "
   ]
  },
  {
   "cell_type": "code",
   "execution_count": 66,
   "metadata": {},
   "outputs": [
    {
     "data": {
      "text/plain": [
       "новостройка, \\n            монолитный             164\n",
       "новостройка, \\n            кирпично-монолитный     27\n",
       "вторичка, \\n            панельный дом              20\n",
       "новостройка, \\n            панельный дом           19\n",
       "вторичка                                           16\n",
       "вторичка, \\n            монолитный                 11\n",
       "вторичка, \\n            кирпично-монолитный         8\n",
       "новостройка                                         8\n",
       "вторичка, \\n            кирпичный                   5\n",
       "новостройка, \\n            блочный                  1\n",
       "новостройка, \\n            кирпичный                1\n",
       "Name: Тип дома:, dtype: int64"
      ]
     },
     "execution_count": 66,
     "metadata": {},
     "output_type": "execute_result"
    }
   ],
   "source": [
    "df['Тип дома:'].value_counts()"
   ]
  },
  {
   "cell_type": "markdown",
   "metadata": {},
   "source": [
    "Будем сплитить по значку `\\n`. Если тип дома не указан, будем ставить прочерк. "
   ]
  },
  {
   "cell_type": "code",
   "execution_count": 67,
   "metadata": {
    "collapsed": true
   },
   "outputs": [],
   "source": [
    "new_or_not = [re.split(', +\\n +', house)[0] for house in df['Тип дома:']]\n",
    "house_type = [re.split(', +\\n +', house)[1] if len(re.split(', +\\n +', house)) == 2 \\\n",
    "                                                            else '–' for house in df['Тип дома:'] ]"
   ]
  },
  {
   "cell_type": "code",
   "execution_count": 68,
   "metadata": {},
   "outputs": [],
   "source": [
    "df_clean['new_or_not'] = new_or_not \n",
    "df_clean['house_type'] = house_type"
   ]
  },
  {
   "cell_type": "code",
   "execution_count": 69,
   "metadata": {},
   "outputs": [
    {
     "data": {
      "text/plain": [
       "новостройка    220\n",
       "вторичка        60\n",
       "Name: new_or_not, dtype: int64"
      ]
     },
     "execution_count": 69,
     "metadata": {},
     "output_type": "execute_result"
    }
   ],
   "source": [
    "df_clean['new_or_not'].value_counts()"
   ]
  },
  {
   "cell_type": "code",
   "execution_count": 70,
   "metadata": {},
   "outputs": [
    {
     "data": {
      "text/plain": [
       "монолитный             175\n",
       "панельный дом           39\n",
       "кирпично-монолитный     35\n",
       "–                       24\n",
       "кирпичный                6\n",
       "блочный                  1\n",
       "Name: house_type, dtype: int64"
      ]
     },
     "execution_count": 70,
     "metadata": {},
     "output_type": "execute_result"
    }
   ],
   "source": [
    "df_clean['house_type'].value_counts()"
   ]
  },
  {
   "cell_type": "markdown",
   "metadata": {},
   "source": [
    "Вроде бы всё получилось нормально. Продолжаем очистку. "
   ]
  },
  {
   "cell_type": "markdown",
   "metadata": {},
   "source": [
    "### 2.10. Очистка координат "
   ]
  },
  {
   "cell_type": "code",
   "execution_count": 71,
   "metadata": {},
   "outputs": [
    {
     "data": {
      "text/plain": [
       "'[37.761411,55.678600]'"
      ]
     },
     "execution_count": 71,
     "metadata": {},
     "output_type": "execute_result"
    }
   ],
   "source": [
    "df['Координаты'][1]"
   ]
  },
  {
   "cell_type": "code",
   "execution_count": 72,
   "metadata": {},
   "outputs": [
    {
     "data": {
      "text/plain": [
       "['', '37.761411', '55.678600', '']"
      ]
     },
     "execution_count": 72,
     "metadata": {},
     "output_type": "execute_result"
    }
   ],
   "source": [
    "re.split('\\[|,|\\]',df['Координаты'][1])"
   ]
  },
  {
   "cell_type": "code",
   "execution_count": 73,
   "metadata": {},
   "outputs": [],
   "source": [
    "longitude = [float(re.split('\\[|,|\\]',item)[1]) for item in df['Координаты']]  # долгота \n",
    "latitude  = [float(re.split('\\[|,|\\]',item)[2]) for item in df['Координаты']]  # широта\n",
    "\n",
    "df_clean['latitude'] = latitude\n",
    "df_clean['longitude'] = longitude"
   ]
  },
  {
   "cell_type": "markdown",
   "metadata": {},
   "source": [
    "### 2.11. Уже чистые данные\n",
    "\n",
    "Наша работа здесь окончена. Дальше идёт несколько колонок, с которыми всё хорошо. В основном, это категориальные переменные. Просто берём и закидываем все переменные в чистую табличку. Закидываем туда даже переменую, которая отвечает за существование санузла... "
   ]
  },
  {
   "cell_type": "code",
   "execution_count": 74,
   "metadata": {},
   "outputs": [
    {
     "data": {
      "text/plain": [
       "открытая     84\n",
       "наземная     28\n",
       "подземная    19\n",
       "на крыше      1\n",
       "Name: Парковка:, dtype: int64"
      ]
     },
     "execution_count": 74,
     "metadata": {},
     "output_type": "execute_result"
    }
   ],
   "source": [
    "df['Парковка:'].value_counts()"
   ]
  },
  {
   "cell_type": "code",
   "execution_count": 75,
   "metadata": {},
   "outputs": [],
   "source": [
    "df_clean['sell_type'] = list(df['Тип продажи:'])\n",
    "df_clean['phone'] = list(df['Телефон:'])\n",
    "df_clean['status_doma'] = list(df['Статус помещения:'])\n",
    "df_clean['repair'] = list(df['Ремонт:'])\n",
    "df_clean['parking'] = list(df['Парковка:'])\n",
    "df_clean['view_window'] = list(df['Вид из окна:'])\n",
    "df_clean['otdelka'] = list(df['Отделка:'])     # Довольно сомнительная переменная. \n",
    "df_clean['metro_name'] = list(df['Метро'])\n",
    "\n",
    "df_clean['sovmest_sanuz'] = list(df['Совмещенных санузлов:'])\n",
    "df_clean['razdeln_sanuz'] = list(df['Раздельных санузлов:'])\n",
    "df_clean['exist_sanuz'] =  list(df['Санузел:']) # Существует санузел (иногда в переменной написано нет)"
   ]
  },
  {
   "cell_type": "markdown",
   "metadata": {},
   "source": [
    "### 2.12. Несколько финальных штрихов\n",
    "\n",
    "Посмотрим на сводную информацию по таблице и обнаружим несколько нюансов, от которых нужно избавиться. Например, многие цифровые данные обладают строковым типом. Также необходимо заменить все прочерки на NA. Более того, в столбце RoomSq приведено несколько цифр через какие-то разные разделитеели. Это площади комнат. Если их сложить, то получится в точности LiveSq. Этот столбец можно выкинуть. \n",
    "\n",
    "Для чувства завершённости попробуем решить проблему с разделителями в колонке RoomSq и сложить в ней все цифры. "
   ]
  },
  {
   "cell_type": "code",
   "execution_count": 76,
   "metadata": {},
   "outputs": [
    {
     "data": {
      "text/html": [
       "<div>\n",
       "<table border=\"1\" class=\"dataframe\">\n",
       "  <thead>\n",
       "    <tr style=\"text-align: right;\">\n",
       "      <th></th>\n",
       "      <th>Price</th>\n",
       "      <th>Total_floor</th>\n",
       "      <th>Curent_floor</th>\n",
       "      <th>TotalSq</th>\n",
       "      <th>LiveSq</th>\n",
       "      <th>KichSq</th>\n",
       "      <th>RoomSq</th>\n",
       "      <th>pass_elevator</th>\n",
       "      <th>gruz_elevator</th>\n",
       "      <th>balkon</th>\n",
       "      <th>...</th>\n",
       "      <th>phone</th>\n",
       "      <th>status_doma</th>\n",
       "      <th>repair</th>\n",
       "      <th>parking</th>\n",
       "      <th>view_window</th>\n",
       "      <th>otdelka</th>\n",
       "      <th>metro_name</th>\n",
       "      <th>sovmest_sanuz</th>\n",
       "      <th>razdeln_sanuz</th>\n",
       "      <th>exist_sanuz</th>\n",
       "    </tr>\n",
       "  </thead>\n",
       "  <tbody>\n",
       "    <tr>\n",
       "      <th>0</th>\n",
       "      <td>6600000</td>\n",
       "      <td>17</td>\n",
       "      <td>11</td>\n",
       "      <td>40</td>\n",
       "      <td>17</td>\n",
       "      <td>10</td>\n",
       "      <td>17</td>\n",
       "      <td>1</td>\n",
       "      <td>1</td>\n",
       "      <td>0</td>\n",
       "      <td>...</td>\n",
       "      <td>нет</td>\n",
       "      <td>NaN</td>\n",
       "      <td>NaN</td>\n",
       "      <td>NaN</td>\n",
       "      <td>двор</td>\n",
       "      <td>NaN</td>\n",
       "      <td>Люблино,</td>\n",
       "      <td>NaN</td>\n",
       "      <td>1</td>\n",
       "      <td>NaN</td>\n",
       "    </tr>\n",
       "    <tr>\n",
       "      <th>1</th>\n",
       "      <td>6252246</td>\n",
       "      <td>3</td>\n",
       "      <td>3</td>\n",
       "      <td>48.6</td>\n",
       "      <td>23.7</td>\n",
       "      <td>9.8</td>\n",
       "      <td>–</td>\n",
       "      <td>1</td>\n",
       "      <td>1</td>\n",
       "      <td>0</td>\n",
       "      <td>...</td>\n",
       "      <td>NaN</td>\n",
       "      <td>NaN</td>\n",
       "      <td>NaN</td>\n",
       "      <td>открытая</td>\n",
       "      <td>двор и улица</td>\n",
       "      <td>NaN</td>\n",
       "      <td>Люблино,</td>\n",
       "      <td>1</td>\n",
       "      <td>NaN</td>\n",
       "      <td>NaN</td>\n",
       "    </tr>\n",
       "    <tr>\n",
       "      <th>2</th>\n",
       "      <td>38000000</td>\n",
       "      <td>4</td>\n",
       "      <td>3</td>\n",
       "      <td>68</td>\n",
       "      <td>42</td>\n",
       "      <td>10</td>\n",
       "      <td>16-26</td>\n",
       "      <td>1</td>\n",
       "      <td>0</td>\n",
       "      <td>0</td>\n",
       "      <td>...</td>\n",
       "      <td>NaN</td>\n",
       "      <td>NaN</td>\n",
       "      <td>отсутствует</td>\n",
       "      <td>подземная</td>\n",
       "      <td>двор</td>\n",
       "      <td>NaN</td>\n",
       "      <td>Таганская,</td>\n",
       "      <td>1</td>\n",
       "      <td>NaN</td>\n",
       "      <td>NaN</td>\n",
       "    </tr>\n",
       "    <tr>\n",
       "      <th>3</th>\n",
       "      <td>1847605</td>\n",
       "      <td>15</td>\n",
       "      <td>8</td>\n",
       "      <td>18.7</td>\n",
       "      <td>12</td>\n",
       "      <td>–</td>\n",
       "      <td>12</td>\n",
       "      <td>2</td>\n",
       "      <td>1</td>\n",
       "      <td>0</td>\n",
       "      <td>...</td>\n",
       "      <td>NaN</td>\n",
       "      <td>NaN</td>\n",
       "      <td>NaN</td>\n",
       "      <td>NaN</td>\n",
       "      <td>–</td>\n",
       "      <td>NaN</td>\n",
       "      <td>Теплый Стан,</td>\n",
       "      <td>1</td>\n",
       "      <td>NaN</td>\n",
       "      <td>NaN</td>\n",
       "    </tr>\n",
       "    <tr>\n",
       "      <th>4</th>\n",
       "      <td>1790000</td>\n",
       "      <td>9</td>\n",
       "      <td>1</td>\n",
       "      <td>12.8</td>\n",
       "      <td>–</td>\n",
       "      <td>–</td>\n",
       "      <td>–</td>\n",
       "      <td>1</td>\n",
       "      <td>0</td>\n",
       "      <td>0</td>\n",
       "      <td>...</td>\n",
       "      <td>NaN</td>\n",
       "      <td>NaN</td>\n",
       "      <td>косметический</td>\n",
       "      <td>NaN</td>\n",
       "      <td>–</td>\n",
       "      <td>NaN</td>\n",
       "      <td>Выхино,</td>\n",
       "      <td>NaN</td>\n",
       "      <td>NaN</td>\n",
       "      <td>–</td>\n",
       "    </tr>\n",
       "  </tbody>\n",
       "</table>\n",
       "<p>5 rows × 32 columns</p>\n",
       "</div>"
      ],
      "text/plain": [
       "      Price  Total_floor  Curent_floor TotalSq LiveSq KichSq RoomSq  \\\n",
       "0   6600000           17            11      40     17     10     17   \n",
       "1   6252246            3             3    48.6   23.7    9.8      –   \n",
       "2  38000000            4             3      68     42     10  16-26   \n",
       "3   1847605           15             8    18.7     12      –     12   \n",
       "4   1790000            9             1    12.8      –      –      –   \n",
       "\n",
       "   pass_elevator  gruz_elevator  balkon     ...       phone status_doma  \\\n",
       "0              1              1       0     ...         нет         NaN   \n",
       "1              1              1       0     ...         NaN         NaN   \n",
       "2              1              0       0     ...         NaN         NaN   \n",
       "3              2              1       0     ...         NaN         NaN   \n",
       "4              1              0       0     ...         NaN         NaN   \n",
       "\n",
       "          repair    parking   view_window otdelka    metro_name sovmest_sanuz  \\\n",
       "0            NaN        NaN          двор     NaN      Люблино,           NaN   \n",
       "1            NaN   открытая  двор и улица     NaN      Люблино,             1   \n",
       "2    отсутствует  подземная          двор     NaN    Таганская,             1   \n",
       "3            NaN        NaN             –     NaN  Теплый Стан,             1   \n",
       "4  косметический        NaN             –     NaN       Выхино,           NaN   \n",
       "\n",
       "  razdeln_sanuz  exist_sanuz  \n",
       "0             1          NaN  \n",
       "1           NaN          NaN  \n",
       "2           NaN          NaN  \n",
       "3           NaN          NaN  \n",
       "4           NaN            –  \n",
       "\n",
       "[5 rows x 32 columns]"
      ]
     },
     "execution_count": 76,
     "metadata": {},
     "output_type": "execute_result"
    }
   ],
   "source": [
    "df_clean.head()"
   ]
  },
  {
   "cell_type": "markdown",
   "metadata": {},
   "source": [
    "Заменим все встречающиеся разделители на плюсы и воспользуемся супер-мега командой `eval`. Если у нас был текст \"2 + 2\", команда eval преобразует его в код и вычислит результат. "
   ]
  },
  {
   "cell_type": "code",
   "execution_count": 77,
   "metadata": {},
   "outputs": [
    {
     "name": "stdout",
     "output_type": "stream",
     "text": [
      "2 + 2\n",
      "4\n"
     ]
    }
   ],
   "source": [
    "a = '2 + 2'\n",
    "print(a)\n",
    "print(eval(a))"
   ]
  },
  {
   "cell_type": "code",
   "execution_count": 78,
   "metadata": {},
   "outputs": [
    {
     "name": "stdout",
     "output_type": "stream",
     "text": [
      "Несовпавшие площади: 169\n",
      "Несуществующие площади: 154\n"
     ]
    }
   ],
   "source": [
    "rsq = [re.sub('-| ','+',item) for item in df_clean['RoomSq']]\n",
    "rsq = [eval(item) if item != '–' else '–' for item in rsq]\n",
    "print('Несовпавшие площади:', sum(df_clean['LiveSq'] == rsq)) \n",
    "print('Несуществующие площади:', sum(np.array(rsq) == '–'))"
   ]
  },
  {
   "cell_type": "markdown",
   "metadata": {},
   "source": [
    "Видим, что в жилая площадь отличается от суммы площади комнат в 17 квартирах из 280. Один из двух признаков избыточен. Закругляемся с очисткой."
   ]
  },
  {
   "cell_type": "code",
   "execution_count": 79,
   "metadata": {},
   "outputs": [],
   "source": [
    "# Выпиливаем переменную \n",
    "df_clean.drop('RoomSq',axis=1,inplace=True)\n",
    "\n",
    "# Меняем прочерки на NA\n",
    "df_clean.replace('–',np.nan, inplace = True)\n",
    "\n",
    "# Меняем тип данных на числовой\n",
    "df_clean['TotalSq'] = df_clean['TotalSq'].astype('float64')\n",
    "df_clean['LiveSq'] = df_clean['LiveSq'].astype('float64')\n",
    "df_clean['KichSq'] = df_clean['KichSq'].astype('float64')\n",
    "df_clean['visokiy_potolok'] = df_clean['visokiy_potolok'].astype('float64')\n",
    "df_clean['do_metro_peshkom'] = df_clean['do_metro_peshkom'].astype('float64')\n",
    "df_clean['do_metro_mashina'] = df_clean['do_metro_mashina'].astype('float64')\n",
    "\n",
    "# Добавим в итоговую таблицу колонку из хрефов, чтобы в случае чего смотреть на аномалии.\n",
    "df_clean['hrefs'] = list(df['Хрефы'])"
   ]
  },
  {
   "cell_type": "markdown",
   "metadata": {},
   "source": [
    "# 3. Задействуем союзника. Присоединяем к ЦИАН Google. \n",
    "\n",
    "## 3.1. Что такое API?\n",
    "\n",
    "API (Application Programming Interface) это уже готовый код, который можно всунуть в свой код!  Многие разработчики, в том числе Google и Вконтакте, предоставляют свои уже готовые решения для вашей разработки. \n",
    "\n",
    "Обычно обращение к API происходит точно также как к обычной ссылке через пакет `requests`.\n",
    "\n",
    "Обратиться через этот пакет обычно нужно к простой банальной ссылке, в которую будет вшито то, что вы хотели бы для себя достать. Итак, заходим в [документацию по API для Google maps](https://developers.google.com/maps/documentation/webservices/), которая была заботливо для нас написана и начинаем её использовать.\n",
    "\n",
    "Мы хотим получить расстояние, которое нужно пройти пешком или проехать на машине от каждой квартиры до ближайшего метро. Для этого мы будем использовать метод, который называется *distancematrix*. \n",
    "\n",
    "*Google Distance Matrix API* — это сервис, который предоставляет расстояние и время пути между указанными точками. Ссылка для запроса к API будет иметь следующую структуру\n",
    "\n",
    "> https://maps.googleapis.com/maps/api/distancematrix/json?units=imperial&origins=Washington,DC&destinations=New+York+City,NY&key=YOUR_API_KEY\n",
    "\n",
    "В первой строке указано название сервиса, к API которого мы обращаемся, метод который мы используем ,*distancematrix*, формат, в котором мы хотели бы получить ответ, *json*, и объекты, между которыми мы ищем расстояние, *Origins* — начало отсчета, *Destinations* — конец отсчета. Кроме того через амперсанды в ссылку можно добавить кучу других параметров. Например: *Mode* — способ перемещения, *Language* — язык, на котором мы хотели бы получить ответ на наш запрос.\n",
    "\n",
    "Пробуем!"
   ]
  },
  {
   "cell_type": "code",
   "execution_count": 80,
   "metadata": {},
   "outputs": [
    {
     "data": {
      "text/plain": [
       "'http://maps.googleapis.com/maps/api/distancematrix/json?origins=м. Юго-Западная, Москва&destinations=ул. Академика Анохина 20, Москва&mode=walking&language=ru-Ru'"
      ]
     },
     "execution_count": 80,
     "metadata": {},
     "output_type": "execute_result"
    }
   ],
   "source": [
    "mainpage = \"http://maps.googleapis.com/maps/api/distancematrix/json?\"\n",
    "\n",
    "place_one = \"м. Юго-Западная, Москва\"\n",
    "place_two = \"ул. Академика Анохина 20, Москва\"\n",
    "sposob = \"walking\"\n",
    "YOU_API_KEY = ' ' # Для некоторых методов вам придётся его получить. \n",
    "\n",
    "parameters = 'origins='+place_one+'&destinations='+place_two+'&mode='+sposob+'&language=ru-Ru'\n",
    "\n",
    "itog_url = mainpage + parameters\n",
    "itog_url"
   ]
  },
  {
   "cell_type": "code",
   "execution_count": 81,
   "metadata": {},
   "outputs": [
    {
     "data": {
      "text/plain": [
       "<Response [200]>"
      ]
     },
     "execution_count": 81,
     "metadata": {},
     "output_type": "execute_result"
    }
   ],
   "source": [
    "response = requests.get(itog_url)\n",
    "response"
   ]
  },
  {
   "cell_type": "markdown",
   "metadata": {},
   "source": [
    "Ура! Благосолавенный 200-всё-очень-хорошо-ответ! Попробуем сделать как мы делали раньше и посмотреть html нашей странички."
   ]
  },
  {
   "cell_type": "code",
   "execution_count": 82,
   "metadata": {},
   "outputs": [
    {
     "data": {
      "text/plain": [
       "b'{\\n   \"destination_addresses\" : [\\n      \"\\xd1\\x83\\xd0\\xbb. \\xd0\\x90\\xd0\\xbd\\xd0\\xbe\\xd1\\x85\\xd0\\xb8\\xd0\\xbd\\xd0\\xb0 \\xd0\\x90\\xd0\\xba\\xd0\\xb0\\xd0\\xb4\\xd0\\xb5\\xd0\\xbc\\xd0\\xb8\\xd0\\xba\\xd0\\xb0, 20, \\xd0\\x9c\\xd0\\xbe\\xd1\\x81\\xd0\\xba\\xd0\\xb2\\xd0\\xb0, \\xd0\\xa0\\xd0\\xbe\\xd1\\x81\\xd1\\x81\\xd0\\xb8\\xd1\\x8f, 119602\"\\n   ],\\n   \"origin_addresses\" : [ \"\\xd0\\x9c\\xd0\\xbe\\xd1\\x81\\xd0\\xba\\xd0\\xb2\\xd0\\xb0, \\xd0\\xa0\\xd0\\xbe\\xd1\\x81\\xd1\\x81\\xd0\\xb8\\xd1\\x8f, 119526\" ],\\n   \"rows\" : [\\n      {\\n         \"elements\" : [\\n            {\\n               \"distance\" : {\\n                  \"text\" : \"0,8 \\xd0\\xba\\xd0\\xbc\",\\n                  \"value\" : 826\\n               },\\n               \"duration\" : {\\n                  \"text\" : \"11 \\xd0\\xbc\\xd0\\xb8\\xd0\\xbd.\",\\n                  \"value\" : 634\\n               },\\n               \"status\" : \"OK\"\\n            }\\n         ]\\n      }\\n   ],\\n   \"status\" : \"OK\"\\n}\\n'"
      ]
     },
     "execution_count": 82,
     "metadata": {},
     "output_type": "execute_result"
    }
   ],
   "source": [
    "content = response.content\n",
    "content"
   ]
  },
  {
   "cell_type": "markdown",
   "metadata": {},
   "source": [
    "Ух! Какая страшная штука. Но тем не менее она похожа именно на то, что нам нужно. Как я это понял? Интуиция... Но почему тогда она такая некрасивая? Всё дело в том, что мы пытаемся применить к нашему контенту те же самые методы, что мы использовали для HTML разметки. Тем не менее данные были скачены в формате JSON. Если бы мы указали в ссылке для скачки XML-формат, то мы могли бы даже поработать с нашими данными красивым супом. \n",
    "\n",
    "JSON расшифровывается как JavaScript Object Notation и изначально возник как подмножество языка JavaScript (пусть вас не вводит в заблуждение название, этот язык ничего не имеет общего с Java), используемое для описания объектов, но впоследствии стал использоваться и в других языках программирования, включая Python. Различные API могут поддерживать либо XML, либо JSON, либо и то, и другое.\n",
    "\n",
    "Почему же мы указали именно JSON... Потому что он более удобный. Смотрите!"
   ]
  },
  {
   "cell_type": "code",
   "execution_count": 83,
   "metadata": {},
   "outputs": [
    {
     "data": {
      "text/plain": [
       "{'destination_addresses': ['ул. Анохина Академика, 20, Москва, Россия, 119602'],\n",
       " 'origin_addresses': ['Москва, Россия, 119526'],\n",
       " 'rows': [{'elements': [{'distance': {'text': '0,8 км', 'value': 826},\n",
       "     'duration': {'text': '11 мин.', 'value': 634},\n",
       "     'status': 'OK'}]}],\n",
       " 'status': 'OK'}"
      ]
     },
     "execution_count": 83,
     "metadata": {},
     "output_type": "execute_result"
    }
   ],
   "source": [
    "content = response.json()\n",
    "content"
   ]
  },
  {
   "cell_type": "markdown",
   "metadata": {},
   "source": [
    "Секундочку... Это что? Словарь? Да! Это словарь! "
   ]
  },
  {
   "cell_type": "code",
   "execution_count": 84,
   "metadata": {},
   "outputs": [
    {
     "data": {
      "text/plain": [
       "dict"
      ]
     },
     "execution_count": 84,
     "metadata": {},
     "output_type": "execute_result"
    }
   ],
   "source": [
    "type(content)"
   ]
  },
  {
   "cell_type": "markdown",
   "metadata": {},
   "source": [
    "Вытаскиваем из этого словаря всё, что нам необходимо. "
   ]
  },
  {
   "cell_type": "code",
   "execution_count": 85,
   "metadata": {},
   "outputs": [
    {
     "data": {
      "text/plain": [
       "['ул. Анохина Академика, 20, Москва, Россия, 119602']"
      ]
     },
     "execution_count": 85,
     "metadata": {},
     "output_type": "execute_result"
    }
   ],
   "source": [
    "content['destination_addresses']"
   ]
  },
  {
   "cell_type": "code",
   "execution_count": 86,
   "metadata": {},
   "outputs": [
    {
     "data": {
      "text/plain": [
       "'11 мин.'"
      ]
     },
     "execution_count": 86,
     "metadata": {},
     "output_type": "execute_result"
    }
   ],
   "source": [
    "content['rows'][0]['elements'][0]['duration']['text']"
   ]
  },
  {
   "cell_type": "markdown",
   "metadata": {},
   "source": [
    "Точно также можно качать расстояние между объектами по координатам! Возьмём координаты из датасета и напишем функцию для сбора координат. "
   ]
  },
  {
   "cell_type": "code",
   "execution_count": 87,
   "metadata": {},
   "outputs": [],
   "source": [
    "longtitude = list(df_clean['longitude'])\n",
    "latitude = list(df_clean['latitude'])\n",
    "metro = list(df_clean['metro_name'])"
   ]
  },
  {
   "cell_type": "code",
   "execution_count": 88,
   "metadata": {
    "collapsed": true
   },
   "outputs": [],
   "source": [
    "def infa_downloader(place_one,place_two,sposob):\n",
    "    \n",
    "    # создлали ссылку по входным параметрам\n",
    "    mainpage = \"http://maps.googleapis.com/maps/api/distancematrix/json?\"\n",
    "    parameters = 'origins='+place_one+'&destinations='+place_two+'&mode='+sposob+'&language=ru-Ru'+'&key='\n",
    "    itog_url = mainpage + parameters\n",
    "    \n",
    "    # сделали запрос и вытащили инфу\n",
    "    response = requests.get(itog_url)\n",
    "    content = response.json()\n",
    "    return(content['rows'][0]['elements'][0]['duration']['text'])"
   ]
  },
  {
   "cell_type": "code",
   "execution_count": 89,
   "metadata": {},
   "outputs": [
    {
     "data": {
      "text/plain": [
       "'37.761411,55.6786'"
      ]
     },
     "execution_count": 89,
     "metadata": {},
     "output_type": "execute_result"
    }
   ],
   "source": [
    "str(longtitude[0])+','+str(latitude[0])"
   ]
  },
  {
   "cell_type": "code",
   "execution_count": 90,
   "metadata": {},
   "outputs": [
    {
     "data": {
      "text/plain": [
       "'Люблино,'"
      ]
     },
     "execution_count": 90,
     "metadata": {},
     "output_type": "execute_result"
    }
   ],
   "source": [
    "metro[0]"
   ]
  },
  {
   "cell_type": "code",
   "execution_count": 91,
   "metadata": {},
   "outputs": [
    {
     "data": {
      "text/plain": [
       "'4 мин.'"
      ]
     },
     "execution_count": 91,
     "metadata": {},
     "output_type": "execute_result"
    }
   ],
   "source": [
    "infa_downloader(str(latitude[0])+','+str(longtitude[0]),metro[0],\"walking\")"
   ]
  },
  {
   "cell_type": "code",
   "execution_count": 92,
   "metadata": {},
   "outputs": [
    {
     "data": {
      "text/plain": [
       "'2 мин.'"
      ]
     },
     "execution_count": 92,
     "metadata": {},
     "output_type": "execute_result"
    }
   ],
   "source": [
    "infa_downloader(str(latitude[0])+','+str(longtitude[0]),metro[0],\"driving\")"
   ]
  },
  {
   "cell_type": "markdown",
   "metadata": {},
   "source": [
    "Вроде бы всё хорошо. Дело осталось за малым - написать цикл! \n",
    "\n",
    "# НЕТ! \n",
    "\n",
    "Ничего подобного. Сначала нужно изучить ограничения.\n",
    "\n",
    "<img src=\"https://raw.githubusercontent.com/FUlyankin/Parsers/master/images%20/Workspace%201_180.png\" height=\"700\" width=\"700\">\n",
    "\n",
    "Неожиданно выясняется, что мы можем делать в течение суток не более 2500 запросов. Чёрт возьми! Какая боль, какая обида и какие страдания... Ограничения выяснили, попробуем теперь написать цикл. Авось прокатит...   \n",
    "\n",
    "Добавим в цикл заглушку `time.sleap(0.3)`. Когда наш код начинает наглеть и делать запросы слишком часто, API выдаёт нам NA. "
   ]
  },
  {
   "cell_type": "code",
   "execution_count": 93,
   "metadata": {},
   "outputs": [
    {
     "name": "stdout",
     "output_type": "stream",
     "text": [
      "0 2 мин. 4 мин.\n",
      "50 21 мин. 3 ч. 17 мин.\n",
      "100 10 мин. 33 мин.\n",
      "150 10 мин. 1 час. 11 мин.\n",
      "200 7 дн. 22 ч. 99 дн. 5 ч.\n",
      "250 17 мин. 1 час. 25 мин.\n"
     ]
    }
   ],
   "source": [
    "import time \n",
    "walk_dist  = [ ]\n",
    "drive_dist = [ ]\n",
    "\n",
    "for i in range(len(metro)):\n",
    "    time.sleap(0.3) # Не будем торопиться в скачивании... \n",
    "    try: # Не забываем о том, что метро есте не везде, поэтому ставим везде try-except! \n",
    "        walk_dist.append( infa_downloader(str(latitude[i])+','+str(longtitude[i]),metro[i],\"walking\") )\n",
    "    except Exception:\n",
    "        walk_dist.append(np.nan)\n",
    "    \n",
    "    try:\n",
    "        drive_dist.append( infa_downloader(str(latitude[i])+','+str(longtitude[i]),metro[i],\"driving\") )\n",
    "    except Exception:\n",
    "        drive_dist.append(np.nan)    \n",
    "        \n",
    "    # Мы хотим видеть где именно находится наш цикл, а также мы ленивые для норм пакета! \n",
    "    if i%50 == 0:\n",
    "        print(i,drive_dist[i],walk_dist[i])"
   ]
  },
  {
   "cell_type": "markdown",
   "metadata": {},
   "source": [
    "Цикл работает довольно быстро и обрубается как только число отведённых нам запросов заканчивается. Вместо хороших ответов на наши запросы начинают появляться вот такие: \n",
    "\n",
    "``` \n",
    "{'destination_addresses': [],\n",
    " 'error_message': 'You have exceeded your daily request quota for this API. We recommend registering for a key at the Google Developers Console: https://console.developers.google.com/apis/credentials?project=_',\n",
    " 'origin_addresses': [],\n",
    " 'rows': [],\n",
    " 'status': 'OVER_QUERY_LIMIT'}\n",
    "\n",
    "```\n",
    "\n",
    "Что нам с этим делать? \n",
    "\n",
    "* Выход первый: качать несколько дней, качать с разных компов\n",
    "* Выход второй: попытаться обмануть гугл и обойти ограничения. Но это совсем другая история. \n",
    "\n",
    "Преобразуем новую информацию в нормальный формат. Переведём все часы в минуты и забьём на секунды. "
   ]
  },
  {
   "cell_type": "code",
   "execution_count": 129,
   "metadata": {},
   "outputs": [
    {
     "data": {
      "text/plain": [
       "'Люблино,'"
      ]
     },
     "execution_count": 129,
     "metadata": {},
     "output_type": "execute_result"
    }
   ],
   "source": [
    "metro[0]"
   ]
  },
  {
   "cell_type": "code",
   "execution_count": 128,
   "metadata": {},
   "outputs": [
    {
     "ename": "TypeError",
     "evalue": "ufunc 'isnan' not supported for the input types, and the inputs could not be safely coerced to any supported types according to the casting rule ''safe''",
     "output_type": "error",
     "traceback": [
      "\u001b[0;31m---------------------------------------------------------------------------\u001b[0m",
      "\u001b[0;31mTypeError\u001b[0m                                 Traceback (most recent call last)",
      "\u001b[0;32m<ipython-input-128-d77785ce0193>\u001b[0m in \u001b[0;36m<module>\u001b[0;34m()\u001b[0m\n\u001b[0;32m----> 1\u001b[0;31m \u001b[0mnp\u001b[0m\u001b[0;34m.\u001b[0m\u001b[0misnan\u001b[0m\u001b[0;34m(\u001b[0m\u001b[0mmetro\u001b[0m\u001b[0;34m[\u001b[0m\u001b[0;36m0\u001b[0m\u001b[0;34m]\u001b[0m\u001b[0;34m)\u001b[0m\u001b[0;34m\u001b[0m\u001b[0m\n\u001b[0m",
      "\u001b[0;31mTypeError\u001b[0m: ufunc 'isnan' not supported for the input types, and the inputs could not be safely coerced to any supported types according to the casting rule ''safe''"
     ]
    }
   ],
   "source": [
    "np.isnan(metro[0])"
   ]
  },
  {
   "cell_type": "code",
   "execution_count": 127,
   "metadata": {},
   "outputs": [
    {
     "data": {
      "text/plain": [
       "{'1 час. 5 мин.': 'Бунинская аллея,',\n",
       " nan: 'Митино,',\n",
       " '54 мин.': 'Алтуфьево,',\n",
       " '7 ч. 40 мин.': 'Саларьево,',\n",
       " '4 ч. 17 мин.': 'Теплый Стан,',\n",
       " '2 ч. 2 мин.': 'Теплый Стан,',\n",
       " '3 ч. 22 мин.': 'Тропарево,',\n",
       " '2 ч. 5 мин.': 'Теплый Стан,',\n",
       " '34 мин.': 'Речной вокзал,',\n",
       " '2 ч. 4 мин.': 'Теплый Стан,',\n",
       " '7 ч. 39 мин.': 'Саларьево,',\n",
       " '13 мин.': 'Преображенская площадь,',\n",
       " '9 мин.': 'Фрунзенская,',\n",
       " '52 мин.': 'Петровско-Разумовская,',\n",
       " '5 дн. 20 ч.': 'Международная,',\n",
       " '3 ч. 51 мин.': 'Теплый Стан,',\n",
       " '46 мин.': 'Речной вокзал,',\n",
       " '2 ч. 42 мин.': 'Теплый Стан,',\n",
       " '1 час. 30 мин.': 'Теплый Стан,',\n",
       " '7 ч. 10 мин.': 'Петровско-Разумовская,',\n",
       " '1 час. 0 мин.': 'Бунинская аллея,',\n",
       " '1 час. 24 мин.': 'Теплый Стан,',\n",
       " '3 ч. 45 мин.': 'Теплый Стан,',\n",
       " '18 мин.': 'Саларьево,',\n",
       " '1 час. 49 мин.': 'Выхино,',\n",
       " '7 ч. 48 мин.': 'Саларьево,',\n",
       " '2 ч. 8 мин.': 'Саларьево,',\n",
       " '11 дн. 23 ч.': 'Марьино,',\n",
       " '9 ч. 45 мин.': 'Юго-Западная,',\n",
       " '4 ч. 55 мин.': 'Юго-Западная,',\n",
       " '15 мин.': 'Люблино,',\n",
       " '3 ч. 17 мин.': 'Теплый Стан,',\n",
       " '99 дн. 4 ч.': 'NA',\n",
       " '49 мин.': 'Царицыно,',\n",
       " '21 мин.': 'Черкизовская,',\n",
       " '1 час. 6 мин.': 'Бунинская аллея,',\n",
       " '1 час. 9 мин.': 'Пятницкое шоссе,',\n",
       " '1 час. 55 мин.': 'Выхино,',\n",
       " '3 ч. 50 мин.': 'Теплый Стан,',\n",
       " '1 час. 10 мин.': 'Алтуфьево,',\n",
       " '2 дн. 21 ч.': 'Медведково,',\n",
       " '37 мин.': 'Бунинская аллея,',\n",
       " '99 дн. 5 ч.': 'NA',\n",
       " '2 ч. 9 мин.': 'Саларьево,',\n",
       " '1 час. 23 мин.': 'Теплый Стан,',\n",
       " '3 ч. 33 мин.': 'Аннино,',\n",
       " '1 час. 8 мин.': 'Пятницкое шоссе,',\n",
       " '1 час. 3 мин.': 'Бунинская аллея,',\n",
       " '51 мин.': 'Царицыно,',\n",
       " '3 ч. 44 мин.': 'Теплый Стан,',\n",
       " '3 ч. 25 мин.': 'Тропарево,',\n",
       " '1 час. 13 мин.': 'Бунинская аллея,',\n",
       " '5 дн. 16 ч.': 'Отрадное,',\n",
       " '8 ч. 39 мин.': 'Тропарево,',\n",
       " '48 мин.': 'Царицыно,',\n",
       " '2 ч. 38 мин.': 'Юго-Западная,',\n",
       " '1 час. 11 мин.': 'Алтуфьево,',\n",
       " '3 ч. 54 мин.': 'Киевская,',\n",
       " '11 ч. 20 мин.': 'Киевская,',\n",
       " '99 дн. 10 ч.': 'NA',\n",
       " '43 мин.': 'Щелковская,',\n",
       " '5 дн. 2 ч.': 'Владыкино,',\n",
       " '1 час. 1 мин.': 'Юго-Западная,',\n",
       " '38 мин.': 'Речной вокзал,',\n",
       " '6 ч. 32 мин.': 'Теплый Стан,',\n",
       " '4 ч. 46 мин.': 'Саларьево,',\n",
       " '3 ч. 43 мин.': 'Теплый Стан,',\n",
       " '17 мин.': 'Полежаевская,',\n",
       " '98 дн. 22 ч.': 'NA',\n",
       " '5 ч. 12 мин.': 'Речной вокзал,',\n",
       " '5 ч. 30 мин.': 'Саларьево,',\n",
       " '5 ч. 31 мин.': 'Саларьево,',\n",
       " '1 час. 38 мин.': 'Пятницкое шоссе,',\n",
       " '4 мин.': 'Люблино,',\n",
       " '14 мин.': 'Водный стадион,',\n",
       " '4 ч. 33 мин.': 'Теплый Стан,',\n",
       " '7 ч. 46 мин.': 'Саларьево,',\n",
       " '99 дн. 1 час.': 'NA',\n",
       " '26 мин.': 'Бунинская аллея,',\n",
       " '1 час. 39 мин.': 'Саларьево,',\n",
       " '7 ч. 45 мин.': 'Саларьево,',\n",
       " '2 ч. 15 мин.': 'Выхино,',\n",
       " '10 мин.': 'Павелецкая,',\n",
       " '58 мин.': 'Юго-Западная,',\n",
       " '1 час. 17 мин.': 'Теплый Стан,',\n",
       " '8 ч. 56 мин.': 'Юго-Западная,',\n",
       " '31 мин.': 'Юго-Западная,',\n",
       " '8 мин.': 'Фрунзенская,',\n",
       " '1 час. 12 мин.': 'Юго-Западная,',\n",
       " '1 час. 56 мин.': 'Теплый Стан,',\n",
       " '1 час. 25 мин.': 'Теплый Стан,',\n",
       " '7 ч. 47 мин.': 'Саларьево,',\n",
       " '8 ч. 41 мин.': 'Саларьево,',\n",
       " '5 ч. 10 мин.': 'Теплый Стан,',\n",
       " '4 ч. 10 мин.': 'Динамо,',\n",
       " '22 мин.': 'Бунинская аллея,',\n",
       " '27 мин.': 'Бунинская аллея,',\n",
       " '24 мин.': 'Люблино,',\n",
       " '3 ч. 47 мин.': 'Теплый Стан,',\n",
       " '1 час. 29 мин.': 'Теплый Стан,',\n",
       " '99 дн. 6 ч.': 'NA',\n",
       " '4 ч. 14 мин.': 'Саларьево,',\n",
       " '23 мин.': 'Бунинская аллея,',\n",
       " '33 мин.': 'Бунинская аллея,',\n",
       " '3 ч. 15 мин.': 'Теплый Стан,',\n",
       " '19 мин.': 'Первомайская,',\n",
       " '1 час. 31 мин.': 'Теплый Стан,',\n",
       " '6 ч. 38 мин.': 'Теплый Стан,',\n",
       " '1 час. 45 мин.': 'Бульвар Дмитрия Донского,',\n",
       " '1 час. 28 мин.': 'Теплый Стан,',\n",
       " '11 мин.': 'Кузьминки,',\n",
       " '5 ч. 34 мин.': 'Саларьево,',\n",
       " '3 ч. 23 мин.': 'Тропарево,'}"
      ]
     },
     "execution_count": 127,
     "metadata": {},
     "output_type": "execute_result"
    }
   ],
   "source": [
    "dict(zip(walk_dist, metro) ) "
   ]
  },
  {
   "cell_type": "code",
   "execution_count": 119,
   "metadata": {},
   "outputs": [
    {
     "ename": "TypeError",
     "evalue": "object of type 'float' has no len()",
     "output_type": "error",
     "traceback": [
      "\u001b[0;31m---------------------------------------------------------------------------\u001b[0m",
      "\u001b[0;31mTypeError\u001b[0m                                 Traceback (most recent call last)",
      "\u001b[0;32m<ipython-input-119-90ec226e973a>\u001b[0m in \u001b[0;36m<module>\u001b[0;34m()\u001b[0m\n\u001b[0;32m----> 1\u001b[0;31m \u001b[0;34m[\u001b[0m\u001b[0mlen\u001b[0m\u001b[0;34m(\u001b[0m\u001b[0mitem\u001b[0m\u001b[0;34m)\u001b[0m \u001b[0;32mfor\u001b[0m \u001b[0mitem\u001b[0m \u001b[0;32min\u001b[0m \u001b[0mwalk_dist\u001b[0m\u001b[0;34m]\u001b[0m\u001b[0;34m\u001b[0m\u001b[0m\n\u001b[0m",
      "\u001b[0;32m<ipython-input-119-90ec226e973a>\u001b[0m in \u001b[0;36m<listcomp>\u001b[0;34m(.0)\u001b[0m\n\u001b[0;32m----> 1\u001b[0;31m \u001b[0;34m[\u001b[0m\u001b[0mlen\u001b[0m\u001b[0;34m(\u001b[0m\u001b[0mitem\u001b[0m\u001b[0;34m)\u001b[0m \u001b[0;32mfor\u001b[0m \u001b[0mitem\u001b[0m \u001b[0;32min\u001b[0m \u001b[0mwalk_dist\u001b[0m\u001b[0;34m]\u001b[0m\u001b[0;34m\u001b[0m\u001b[0m\n\u001b[0m",
      "\u001b[0;31mTypeError\u001b[0m: object of type 'float' has no len()"
     ]
    }
   ],
   "source": [
    "[len(item) for item in walk_dist]"
   ]
  },
  {
   "cell_type": "code",
   "execution_count": 97,
   "metadata": {},
   "outputs": [],
   "source": [
    "df_clean['do_metro_peshkom_g'] = walk_dist\n",
    "df_clean['do_metro_mashina_g'] = drive_dist"
   ]
  },
  {
   "cell_type": "code",
   "execution_count": 95,
   "metadata": {},
   "outputs": [
    {
     "ename": "TypeError",
     "evalue": "unsupported operand type(s) for -: 'float' and 'str'",
     "output_type": "error",
     "traceback": [
      "\u001b[0;31m---------------------------------------------------------------------------\u001b[0m",
      "\u001b[0;31mTypeError\u001b[0m                                 Traceback (most recent call last)",
      "\u001b[0;32m/usr/local/lib/python3.5/dist-packages/pandas/core/ops.py\u001b[0m in \u001b[0;36mna_op\u001b[0;34m(x, y)\u001b[0m\n\u001b[1;32m    651\u001b[0m             result = expressions.evaluate(op, str_rep, x, y,\n\u001b[0;32m--> 652\u001b[0;31m                                           raise_on_error=True, **eval_kwargs)\n\u001b[0m\u001b[1;32m    653\u001b[0m         \u001b[0;32mexcept\u001b[0m \u001b[0mTypeError\u001b[0m\u001b[0;34m:\u001b[0m\u001b[0;34m\u001b[0m\u001b[0m\n",
      "\u001b[0;32m/usr/local/lib/python3.5/dist-packages/pandas/computation/expressions.py\u001b[0m in \u001b[0;36mevaluate\u001b[0;34m(op, op_str, a, b, raise_on_error, use_numexpr, **eval_kwargs)\u001b[0m\n\u001b[1;32m    209\u001b[0m         return _evaluate(op, op_str, a, b, raise_on_error=raise_on_error,\n\u001b[0;32m--> 210\u001b[0;31m                          **eval_kwargs)\n\u001b[0m\u001b[1;32m    211\u001b[0m     \u001b[0;32mreturn\u001b[0m \u001b[0m_evaluate_standard\u001b[0m\u001b[0;34m(\u001b[0m\u001b[0mop\u001b[0m\u001b[0;34m,\u001b[0m \u001b[0mop_str\u001b[0m\u001b[0;34m,\u001b[0m \u001b[0ma\u001b[0m\u001b[0;34m,\u001b[0m \u001b[0mb\u001b[0m\u001b[0;34m,\u001b[0m \u001b[0mraise_on_error\u001b[0m\u001b[0;34m=\u001b[0m\u001b[0mraise_on_error\u001b[0m\u001b[0;34m)\u001b[0m\u001b[0;34m\u001b[0m\u001b[0m\n",
      "\u001b[0;32m/usr/local/lib/python3.5/dist-packages/pandas/computation/expressions.py\u001b[0m in \u001b[0;36m_evaluate_standard\u001b[0;34m(op, op_str, a, b, raise_on_error, **eval_kwargs)\u001b[0m\n\u001b[1;32m     62\u001b[0m     \u001b[0;32mwith\u001b[0m \u001b[0mnp\u001b[0m\u001b[0;34m.\u001b[0m\u001b[0merrstate\u001b[0m\u001b[0;34m(\u001b[0m\u001b[0mall\u001b[0m\u001b[0;34m=\u001b[0m\u001b[0;34m'ignore'\u001b[0m\u001b[0;34m)\u001b[0m\u001b[0;34m:\u001b[0m\u001b[0;34m\u001b[0m\u001b[0m\n\u001b[0;32m---> 63\u001b[0;31m         \u001b[0;32mreturn\u001b[0m \u001b[0mop\u001b[0m\u001b[0;34m(\u001b[0m\u001b[0ma\u001b[0m\u001b[0;34m,\u001b[0m \u001b[0mb\u001b[0m\u001b[0;34m)\u001b[0m\u001b[0;34m\u001b[0m\u001b[0m\n\u001b[0m\u001b[1;32m     64\u001b[0m \u001b[0;34m\u001b[0m\u001b[0m\n",
      "\u001b[0;31mTypeError\u001b[0m: unsupported operand type(s) for -: 'float' and 'str'",
      "\nDuring handling of the above exception, another exception occurred:\n",
      "\u001b[0;31mTypeError\u001b[0m                                 Traceback (most recent call last)",
      "\u001b[0;32m<ipython-input-95-be9065bff8d3>\u001b[0m in \u001b[0;36m<module>\u001b[0;34m()\u001b[0m\n\u001b[0;32m----> 1\u001b[0;31m \u001b[0mdf_clean\u001b[0m\u001b[0;34m[\u001b[0m\u001b[0;34m'do_metro_peshkom'\u001b[0m\u001b[0;34m]\u001b[0m \u001b[0;34m-\u001b[0m \u001b[0mdf_clean\u001b[0m\u001b[0;34m[\u001b[0m\u001b[0;34m'do_metro_peshkom_g'\u001b[0m\u001b[0;34m]\u001b[0m\u001b[0;34m\u001b[0m\u001b[0m\n\u001b[0m",
      "\u001b[0;32m/usr/local/lib/python3.5/dist-packages/pandas/core/ops.py\u001b[0m in \u001b[0;36mwrapper\u001b[0;34m(left, right, name, na_op)\u001b[0m\n\u001b[1;32m    713\u001b[0m                 \u001b[0mlvalues\u001b[0m \u001b[0;34m=\u001b[0m \u001b[0mlvalues\u001b[0m\u001b[0;34m.\u001b[0m\u001b[0mvalues\u001b[0m\u001b[0;34m\u001b[0m\u001b[0m\n\u001b[1;32m    714\u001b[0m \u001b[0;34m\u001b[0m\u001b[0m\n\u001b[0;32m--> 715\u001b[0;31m         \u001b[0mresult\u001b[0m \u001b[0;34m=\u001b[0m \u001b[0mwrap_results\u001b[0m\u001b[0;34m(\u001b[0m\u001b[0msafe_na_op\u001b[0m\u001b[0;34m(\u001b[0m\u001b[0mlvalues\u001b[0m\u001b[0;34m,\u001b[0m \u001b[0mrvalues\u001b[0m\u001b[0;34m)\u001b[0m\u001b[0;34m)\u001b[0m\u001b[0;34m\u001b[0m\u001b[0m\n\u001b[0m\u001b[1;32m    716\u001b[0m         return construct_result(\n\u001b[1;32m    717\u001b[0m             \u001b[0mleft\u001b[0m\u001b[0;34m,\u001b[0m\u001b[0;34m\u001b[0m\u001b[0m\n",
      "\u001b[0;32m/usr/local/lib/python3.5/dist-packages/pandas/core/ops.py\u001b[0m in \u001b[0;36msafe_na_op\u001b[0;34m(lvalues, rvalues)\u001b[0m\n\u001b[1;32m    674\u001b[0m         \u001b[0;32mtry\u001b[0m\u001b[0;34m:\u001b[0m\u001b[0;34m\u001b[0m\u001b[0m\n\u001b[1;32m    675\u001b[0m             \u001b[0;32mwith\u001b[0m \u001b[0mnp\u001b[0m\u001b[0;34m.\u001b[0m\u001b[0merrstate\u001b[0m\u001b[0;34m(\u001b[0m\u001b[0mall\u001b[0m\u001b[0;34m=\u001b[0m\u001b[0;34m'ignore'\u001b[0m\u001b[0;34m)\u001b[0m\u001b[0;34m:\u001b[0m\u001b[0;34m\u001b[0m\u001b[0m\n\u001b[0;32m--> 676\u001b[0;31m                 \u001b[0;32mreturn\u001b[0m \u001b[0mna_op\u001b[0m\u001b[0;34m(\u001b[0m\u001b[0mlvalues\u001b[0m\u001b[0;34m,\u001b[0m \u001b[0mrvalues\u001b[0m\u001b[0;34m)\u001b[0m\u001b[0;34m\u001b[0m\u001b[0m\n\u001b[0m\u001b[1;32m    677\u001b[0m         \u001b[0;32mexcept\u001b[0m \u001b[0mException\u001b[0m\u001b[0;34m:\u001b[0m\u001b[0;34m\u001b[0m\u001b[0m\n\u001b[1;32m    678\u001b[0m             \u001b[0;32mif\u001b[0m \u001b[0misinstance\u001b[0m\u001b[0;34m(\u001b[0m\u001b[0mrvalues\u001b[0m\u001b[0;34m,\u001b[0m \u001b[0mABCSeries\u001b[0m\u001b[0;34m)\u001b[0m\u001b[0;34m:\u001b[0m\u001b[0;34m\u001b[0m\u001b[0m\n",
      "\u001b[0;32m/usr/local/lib/python3.5/dist-packages/pandas/core/ops.py\u001b[0m in \u001b[0;36mna_op\u001b[0;34m(x, y)\u001b[0m\n\u001b[1;32m    656\u001b[0m                 \u001b[0mresult\u001b[0m \u001b[0;34m=\u001b[0m \u001b[0mnp\u001b[0m\u001b[0;34m.\u001b[0m\u001b[0mempty\u001b[0m\u001b[0;34m(\u001b[0m\u001b[0mx\u001b[0m\u001b[0;34m.\u001b[0m\u001b[0msize\u001b[0m\u001b[0;34m,\u001b[0m \u001b[0mdtype\u001b[0m\u001b[0;34m=\u001b[0m\u001b[0mdtype\u001b[0m\u001b[0;34m)\u001b[0m\u001b[0;34m\u001b[0m\u001b[0m\n\u001b[1;32m    657\u001b[0m                 \u001b[0mmask\u001b[0m \u001b[0;34m=\u001b[0m \u001b[0mnotnull\u001b[0m\u001b[0;34m(\u001b[0m\u001b[0mx\u001b[0m\u001b[0;34m)\u001b[0m \u001b[0;34m&\u001b[0m \u001b[0mnotnull\u001b[0m\u001b[0;34m(\u001b[0m\u001b[0my\u001b[0m\u001b[0;34m)\u001b[0m\u001b[0;34m\u001b[0m\u001b[0m\n\u001b[0;32m--> 658\u001b[0;31m                 \u001b[0mresult\u001b[0m\u001b[0;34m[\u001b[0m\u001b[0mmask\u001b[0m\u001b[0;34m]\u001b[0m \u001b[0;34m=\u001b[0m \u001b[0mop\u001b[0m\u001b[0;34m(\u001b[0m\u001b[0mx\u001b[0m\u001b[0;34m[\u001b[0m\u001b[0mmask\u001b[0m\u001b[0;34m]\u001b[0m\u001b[0;34m,\u001b[0m \u001b[0m_values_from_object\u001b[0m\u001b[0;34m(\u001b[0m\u001b[0my\u001b[0m\u001b[0;34m[\u001b[0m\u001b[0mmask\u001b[0m\u001b[0;34m]\u001b[0m\u001b[0;34m)\u001b[0m\u001b[0;34m)\u001b[0m\u001b[0;34m\u001b[0m\u001b[0m\n\u001b[0m\u001b[1;32m    659\u001b[0m             \u001b[0;32melif\u001b[0m \u001b[0misinstance\u001b[0m\u001b[0;34m(\u001b[0m\u001b[0mx\u001b[0m\u001b[0;34m,\u001b[0m \u001b[0mnp\u001b[0m\u001b[0;34m.\u001b[0m\u001b[0mndarray\u001b[0m\u001b[0;34m)\u001b[0m\u001b[0;34m:\u001b[0m\u001b[0;34m\u001b[0m\u001b[0m\n\u001b[1;32m    660\u001b[0m                 \u001b[0mresult\u001b[0m \u001b[0;34m=\u001b[0m \u001b[0mnp\u001b[0m\u001b[0;34m.\u001b[0m\u001b[0mempty\u001b[0m\u001b[0;34m(\u001b[0m\u001b[0mlen\u001b[0m\u001b[0;34m(\u001b[0m\u001b[0mx\u001b[0m\u001b[0;34m)\u001b[0m\u001b[0;34m,\u001b[0m \u001b[0mdtype\u001b[0m\u001b[0;34m=\u001b[0m\u001b[0mx\u001b[0m\u001b[0;34m.\u001b[0m\u001b[0mdtype\u001b[0m\u001b[0;34m)\u001b[0m\u001b[0;34m\u001b[0m\u001b[0m\n",
      "\u001b[0;31mTypeError\u001b[0m: unsupported operand type(s) for -: 'float' and 'str'"
     ]
    }
   ],
   "source": [
    "df_clean['do_metro_peshkom'] - df_clean['do_metro_peshkom_g']\n"
   ]
  },
  {
   "cell_type": "code",
   "execution_count": null,
   "metadata": {
    "collapsed": true
   },
   "outputs": [],
   "source": [
    "## 3.2 Маленький бонус.\n"
   ]
  },
  {
   "cell_type": "code",
   "execution_count": null,
   "metadata": {
    "collapsed": true
   },
   "outputs": [],
   "source": [
    "df_clean['do_metro_mashina'] - "
   ]
  },
  {
   "cell_type": "code",
   "execution_count": null,
   "metadata": {
    "collapsed": true
   },
   "outputs": [],
   "source": [
    "pd.DataFrame.to_csv(df,'CIAN_data_dirty.csv')"
   ]
  },
  {
   "cell_type": "markdown",
   "metadata": {},
   "source": [
    "\n",
    "<img src=\"https://raw.githubusercontent.com/FUlyankin/Parsers/master/images%20/cian_main_theme.png\" height=\"1000\" width=\"1000\"> \n"
   ]
  }
 ],
 "metadata": {
  "kernelspec": {
   "display_name": "Python 3",
   "language": "python",
   "name": "python3"
  },
  "language_info": {
   "codemirror_mode": {
    "name": "ipython",
    "version": 3
   },
   "file_extension": ".py",
   "mimetype": "text/x-python",
   "name": "python",
   "nbconvert_exporter": "python",
   "pygments_lexer": "ipython3",
   "version": "3.6.3"
  }
 },
 "nbformat": 4,
 "nbformat_minor": 2
}
