{
 "cells": [
  {
   "cell_type": "markdown",
   "metadata": {},
   "source": [
    "<img align=\"center\" src=\"https://raw.githubusercontent.com/FUlyankin/Parsers/master/images%20/spiderman.jpg\" height=\"1000\" width=\"1000\"> \n",
    "\n",
    "# <center> Грабёж, разбой и другие незаконные деяния с помощью Python. <br> <br> Пауки, Scrapy и Grab.  </center>\n",
    "\n",
    "Первое, что хотелось бы сказать это то, что сегодня будет довольно сложно...\n",
    "\n",
    "---------\n"
   ]
  },
  {
   "cell_type": "markdown",
   "metadata": {},
   "source": [
    "## 1. Объектно-ориентированное программирование (ООП) \n",
    "\n",
    "Существует довольно много различных парадигм (грубо говоря стилей) программирования. Можно сказать, что мы с вами до этого момента занимались функциональным программированием. Мы представляли программу в форме последовательности функций, поочерёдный вызов которых давал нам ответ. \n",
    "\n",
    "Совершенно другой парадигмой является ООП. В ООП программа представляется в виде взаимодействующих объектов. Сразу же взять и проникнуться этой парадигмой, если вы до этого никогда с ней не встречались, довольно сложно. Однако мы попробуем сделать первый приступ на эту страшную штуку. \n",
    "\n",
    "Основными понятиями ООП являются **объекты** и **классы**. Класс — это тип, который описывает устройство объектов. Объект — это один экземпляр класса. Например, бабочки это класс. Бабочка-капустница и бабочка-махаон разные объекты этого класса. \n",
    "\n",
    "В Python всё является объектами — и строки, и списки, и словари, и вообще всё. Например, мы можем подгрузить из пакета `sklearn` класс для линейных регрессий, а после создать два объекта: регрессию с константой и регрессию без константы. "
   ]
  },
  {
   "cell_type": "code",
   "execution_count": null,
   "metadata": {
    "collapsed": true
   },
   "outputs": [],
   "source": [
    "from sklearn.linear_model import LinearRegression\n",
    "\n",
    "regr_const = LinearRegression(fit_intercept=True)\n",
    "regr_no_const = LinearRegression(fit_intercept=False)\n"
   ]
  },
  {
   "cell_type": "markdown",
   "metadata": {},
   "source": [
    "Две созданные регрессии обладают одними и теми же свойствами. Их можно обучит на каких-нибудь данных, по ним можно что-нибдь спрогнозировать и так далее. Но между ними будет одно отличие — константа. \n",
    "\n",
    "Если нам нужно создать много похожих, но разных объектов, к каждому из которых нам хотелось бы применять одни и те функции, то ООП нам подходит! \n",
    "\n",
    "Кроме того, ООП позволяет контактировать разным объектам между собой, передовать друг-другу какие-то свойства и даже порождать наследников. Напишем собственный класс.\n",
    "\n",
    "Наш класс это лифты."
   ]
  },
  {
   "cell_type": "code",
   "execution_count": 1,
   "metadata": {
    "collapsed": true
   },
   "outputs": [],
   "source": [
    "class Elevator:\n",
    "    \"\"\" Простой класс для создания лифтов \"\"\"\n",
    "    # Переменная класса. Сколько людей было перевезено ВСЕМИ лифтами\n",
    "    # Она будет изменяться при использовании каждого объекта\n",
    "    people_lifted = 0\n",
    " \n",
    "    # Инициализация. Эта функция всегда вызывается при создании объекта\n",
    "    # В отличие от переменной people_lifted, переменные, которые находятся в \n",
    "    # инициализации будут изменяться отдельно для каждого объекта\n",
    "    def __init__(self,name):\n",
    "        self.name = name  # Каждый раз, когда мы создаём объект, мы даём ему какое-то имя\n",
    "        self.people_lifted = 0 # Каждый раз, когда мы создаём объект, переменная, отвечающая за коилчество\n",
    "                               # людей в нём принимает нулевое значение\n",
    " \n",
    "    # Метод для перевозки людей\n",
    "    def lift(self):\n",
    "        print (\"{} лифт получил человека\".format(self.name))\n",
    "        # Увеличиваем количество людей перевезенных ЭТИМ лифтом\n",
    "        self.people_lifted += 1\n",
    "        # Увеличиваем количество людей перевезенных ВСЕМИ лифтами\n",
    "        Elevator.people_lifted += 1\n",
    " \n",
    "    # Метод печатающий информацию о конкретном лифте\n",
    "    def info(self):\n",
    "        print (self.name, \"лифт везёт\", self.people_lifted, \"из\", Elevator.people_lifted)\n",
    "\n",
    "        \n",
    "# Обычно первый аргумент в имени метода — self. Как говорит автор языка Гвидо Ван Россум,\n",
    "# это не более чем соглашение: имя self не имеет абсолютно никакого специального значения.\n",
    "# self полезен для того, чтобы обращаться к другим атрибутам класса! "
   ]
  },
  {
   "cell_type": "markdown",
   "metadata": {},
   "source": [
    "Создадим несколько экземпляров нашего класса. Пусть один лифт будет грузовым, а второй пассажирским."
   ]
  },
  {
   "cell_type": "code",
   "execution_count": 2,
   "metadata": {
    "collapsed": true
   },
   "outputs": [],
   "source": [
    "elevator_1 = Elevator(\"Пассажирский\")\n",
    "elevator_2 = Elevator(\"Грузовой\")"
   ]
  },
  {
   "cell_type": "markdown",
   "metadata": {},
   "source": [
    "Как мы с вами помним, чтобы получить доступ к методам класса, нужно поставить точку. "
   ]
  },
  {
   "cell_type": "code",
   "execution_count": 3,
   "metadata": {
    "collapsed": false
   },
   "outputs": [
    {
     "name": "stdout",
     "output_type": "stream",
     "text": [
      "Пассажирский лифт получил человека\n"
     ]
    }
   ],
   "source": [
    "elevator_1.lift() # Везём человека в пассажирском лифте"
   ]
  },
  {
   "cell_type": "code",
   "execution_count": 4,
   "metadata": {
    "collapsed": false
   },
   "outputs": [
    {
     "name": "stdout",
     "output_type": "stream",
     "text": [
      "Грузовой лифт получил человека\n",
      "Грузовой лифт получил человека\n"
     ]
    }
   ],
   "source": [
    "# Везем двоих человек в грузовом лифте\n",
    "elevator_2.lift()\n",
    "elevator_2.lift()"
   ]
  },
  {
   "cell_type": "code",
   "execution_count": 7,
   "metadata": {
    "collapsed": false
   },
   "outputs": [
    {
     "data": {
      "text/plain": [
       "1"
      ]
     },
     "execution_count": 7,
     "metadata": {},
     "output_type": "execute_result"
    }
   ],
   "source": [
    "elevator_1.people_lifted"
   ]
  },
  {
   "cell_type": "code",
   "execution_count": 8,
   "metadata": {
    "collapsed": false
   },
   "outputs": [
    {
     "data": {
      "text/plain": [
       "2"
      ]
     },
     "execution_count": 8,
     "metadata": {},
     "output_type": "execute_result"
    }
   ],
   "source": [
    "elevator_2.people_lifted"
   ]
  },
  {
   "cell_type": "code",
   "execution_count": 9,
   "metadata": {
    "collapsed": false
   },
   "outputs": [
    {
     "name": "stdout",
     "output_type": "stream",
     "text": [
      "Грузовой лифт получил человека\n"
     ]
    }
   ],
   "source": [
    "elevator_2.lift()"
   ]
  },
  {
   "cell_type": "code",
   "execution_count": 10,
   "metadata": {
    "collapsed": false
   },
   "outputs": [
    {
     "data": {
      "text/plain": [
       "3"
      ]
     },
     "execution_count": 10,
     "metadata": {},
     "output_type": "execute_result"
    }
   ],
   "source": [
    "elevator_2.people_lifted"
   ]
  },
  {
   "cell_type": "code",
   "execution_count": 11,
   "metadata": {
    "collapsed": false
   },
   "outputs": [
    {
     "name": "stdout",
     "output_type": "stream",
     "text": [
      "Пассажирский лифт везёт 1 из 4\n",
      "Грузовой лифт везёт 3 из 4\n"
     ]
    }
   ],
   "source": [
    "# Получаем информацию по лифтам\n",
    "elevator_1.info()\n",
    "elevator_2.info()"
   ]
  },
  {
   "cell_type": "markdown",
   "metadata": {},
   "source": [
    "Про ООП можно говорить очень много и очень долго. Но на данный момент, это всё, что нам понадобится.\n",
    "\n",
    "Хороших пауков можно писать в двух библиотеках: `Scrapy` и `Grab`. Изучим кажду из них немого подробнее.  "
   ]
  },
  {
   "cell_type": "markdown",
   "metadata": {},
   "source": [
    "## 2. Паук плетёт узор раз. Scrapy."
   ]
  },
  {
   "cell_type": "markdown",
   "metadata": {},
   "source": [
    "В качестве цели для парсинга мы для начала возьмём учебный сайт с книгами, http://books.toscrape.com/. Как мы с вами выяснили на самой первой паре, каждый сайт представляет из себя HTML-дерево, которое можно обходить с помощью специальных языков. Для того, чтобы найти информацию на сайте, мы можем пойти двумя путями:\n",
    "\n",
    "* Путь настоящего мужика (если вы девушка, то настоящей сильной независимой девушки): открыть на сайте правой кнопкой мыши inspect и найти HTML-код нужного нам элемента. \n",
    "* Путь ленивого балбеса: заходим в магазин расширений для браузера и находим там [SelectorGadget,](https://chrome.google.com/webstore/detail/selectorgadget/mhjhnkcfbdhnjickkkdbjoemdmbfginb?hl=en-US) устанавливаем его. Теперь нам открыты все пути! Справа, около адресной строки у браузера появилась лупа. \n",
    "\n",
    "Перейдём на сайт, который является нашей целью и попробуем эту лупу протестировать.\n",
    "\n",
    "Тыкаем лупой на какой-нибудь элемент, он обводится зелёным и нам предлагается селектор, с помощью которого мы можем этот элемент найти. Все элементы, которые можно найти по этому селектору окрашиваются в жёлтый цвет. Если какой-то из этих жёлтых элементов нас не интересует, окрашиваем его в красный. Предлагаемый селектор уточняется. Удобно? Удобно! Напишем парсер ровно так, как мы это делали раньше. Попытаемся вытащить все ссылки со страницы. \n",
    "\n",
    "<img align=\"center\" src=\"https://raw.githubusercontent.com/FUlyankin/Parsers/master/images%20/css-selectorgadget.png\" height=\"800\" width=\"800\"> \n"
   ]
  },
  {
   "cell_type": "code",
   "execution_count": 13,
   "metadata": {
    "collapsed": false
   },
   "outputs": [
    {
     "name": "stdout",
     "output_type": "stream",
     "text": [
      "20\n"
     ]
    },
    {
     "data": {
      "text/plain": [
       "['catalogue/a-light-in-the-attic_1000/index.html',\n",
       " 'catalogue/tipping-the-velvet_999/index.html',\n",
       " 'catalogue/soumission_998/index.html',\n",
       " 'catalogue/sharp-objects_997/index.html',\n",
       " 'catalogue/sapiens-a-brief-history-of-humankind_996/index.html']"
      ]
     },
     "execution_count": 13,
     "metadata": {},
     "output_type": "execute_result"
    }
   ],
   "source": [
    "# Раньше: \n",
    "import requests               # Наш пакет для реквестов\n",
    "from bs4 import BeautifulSoup # Красивый суп\n",
    "\n",
    "response = requests.get('http://books.toscrape.com/') # На любой реквест всегда найдётся 200-респонс!\n",
    "html = response.content                               # Достаём из респонса контент\n",
    "soup = BeautifulSoup(html,'html.parser')              # Окрасивосупиваем контент\n",
    "\n",
    "hrefs = [ ]   # Пустой вектор для записи хрефов\n",
    "for item in soup.select('h3 a'): # Находим в супе по селектору нужные места\n",
    "    hrefs.append(item.attrs['href']) # Вытаскиваем из каждого места хреф\n",
    "print(len(hrefs))\n",
    "hrefs[:5]"
   ]
  },
  {
   "cell_type": "markdown",
   "metadata": {},
   "source": [
    "Кстати говоря, вывод поиска в супе по селектору выглядит как-то вот так:"
   ]
  },
  {
   "cell_type": "code",
   "execution_count": 14,
   "metadata": {
    "collapsed": false
   },
   "outputs": [
    {
     "data": {
      "text/plain": [
       "[<a href=\"catalogue/a-light-in-the-attic_1000/index.html\" title=\"A Light in the Attic\">A Light in the ...</a>,\n",
       " <a href=\"catalogue/tipping-the-velvet_999/index.html\" title=\"Tipping the Velvet\">Tipping the Velvet</a>,\n",
       " <a href=\"catalogue/soumission_998/index.html\" title=\"Soumission\">Soumission</a>,\n",
       " <a href=\"catalogue/sharp-objects_997/index.html\" title=\"Sharp Objects\">Sharp Objects</a>,\n",
       " <a href=\"catalogue/sapiens-a-brief-history-of-humankind_996/index.html\" title=\"Sapiens: A Brief History of Humankind\">Sapiens: A Brief History ...</a>]"
      ]
     },
     "execution_count": 14,
     "metadata": {},
     "output_type": "execute_result"
    }
   ],
   "source": [
    "soup.select('h3 a')[:5]"
   ]
  },
  {
   "cell_type": "markdown",
   "metadata": {},
   "source": [
    "Эту команду мы никогда раньше не использовали, но её вывод для нас довольно привычен. Её работа чем-то напоминает работу метода `findAll`. Можно продолжить развивать код как раньше и написать поисковик информации по каждой ссылке. \n",
    "\n",
    "Эх! Мы с вами уже бывалые грабители (или мирные собиратели данных). Пришло время изучить новый инструмент для грабежа (собирания), а именно  `Scrapy`. `Scrapy` – одна из наиболее популярных библиотек для парсинга. Она включает в себя довольно многго разных функциональных возможностей и освобождает юзера от самостоятельного прописывания многих функций. Например, когда мы самостоятельно парсим все ссылки, переодически мы просто не находим какую-то информацию на сайте и код выдаёт нам ошибку. Чтобы избежать этой ошибки, мы прописываем исключение через `try – except`. В `Scrapy` это делать не нужно. \n",
    "\n",
    "Самое главное отличие `Scrapy` от других пакетов состоит в том, что нам придётся запускать пауков из консоли. Существуют пути обхода этого отличия, позволяющие запускать пауков прямо из скрипта, но о них мы поговорим ближе к концу блокнота. \n",
    "\n",
    "Устанавливаем пакет для создания пауков, `pip3 install scrapy`. С гайдом по установке можно ознакомиться в [документации.](https://doc.scrapy.org/en/latest/intro/install.html) Обратите внимание, что у разных систем есть [свои особенности установки.](https://doc.scrapy.org/en/latest/intro/install.html#intro-install-platform-notes)\n",
    "\n",
    "Для начала создадим базовый код для нашего робота. У каждого паука есть два обязательных атрибута: имя и список ссылок, которые нужно проанализировать. "
   ]
  },
  {
   "cell_type": "code",
   "execution_count": 16,
   "metadata": {
    "collapsed": true
   },
   "outputs": [],
   "source": [
    "import scrapy\n",
    "\n",
    "class BookSpider(scrapy.Spider):\n",
    "    name = 'books'\n",
    "    start_urls = ['http://books.toscrape.com/']"
   ]
  },
  {
   "cell_type": "markdown",
   "metadata": {},
   "source": [
    "Создадим на основе класса `scrapy.Spyder` новый класс пауков. Назовём их книжными пауками. Каждый книжный паук будет обладать именем books и списком ссылок, который он должен будет пройти. Можно посмотреть на эти атрибуты."
   ]
  },
  {
   "cell_type": "code",
   "execution_count": 17,
   "metadata": {
    "collapsed": false
   },
   "outputs": [
    {
     "data": {
      "text/plain": [
       "['http://books.toscrape.com/']"
      ]
     },
     "execution_count": 17,
     "metadata": {},
     "output_type": "execute_result"
    }
   ],
   "source": [
    "BookSpider.start_urls"
   ]
  },
  {
   "cell_type": "code",
   "execution_count": 19,
   "metadata": {
    "collapsed": false
   },
   "outputs": [
    {
     "data": {
      "text/plain": [
       "'books'"
      ]
     },
     "execution_count": 19,
     "metadata": {},
     "output_type": "execute_result"
    }
   ],
   "source": [
    "BookSpider.name"
   ]
  },
  {
   "cell_type": "markdown",
   "metadata": {},
   "source": [
    "Отлично! Сохраним нашего паука в отдельном файлике под названием books.py и с консоли запустим его. Обычно, чтобы запустить какой-то питоний код, нужно использовать команду `python path_do_coda/nash_super_code.py`. Пакет предлагает нам свой более удобный способ запускать коды: `scrapy runspider nash_super_code.py`.\n",
    "\n",
    "Попробуем запустить код. В консоли появится сообщение следующего вида: \n",
    "\n",
    "````\n",
    "2017-05-25 03:48:48 [scrapy.utils.log] INFO: Scrapy 1.4.0 started (bot: scrapybot)\n",
    "2017-05-25 03:48:48 [scrapy.utils.log] INFO: Overridden settings: {'SPIDER_LOADER_WARN_ONLY': True}\n",
    "2017-05-25 03:48:48 [scrapy.middleware] INFO: Enabled extensions:\n",
    "['scrapy.extensions.telnet.TelnetConsole',\n",
    " 'scrapy.extensions.corestats.CoreStats',\n",
    " 'scrapy.extensions.logstats.LogStats',\n",
    " 'scrapy.extensions.memusage.MemoryUsage']\n",
    "2017-05-25 03:48:48 [scrapy.middleware] INFO: Enabled downloader middlewares:\n",
    "['scrapy.downloadermiddlewares.httpauth.HttpAuthMiddleware',\n",
    " 'scrapy.downloadermiddlewares.downloadtimeout.DownloadTimeoutMiddleware',\n",
    " 'scrapy.downloadermiddlewares.defaultheaders.DefaultHeadersMiddleware',\n",
    " 'scrapy.downloadermiddlewares.useragent.UserAgentMiddleware',\n",
    " 'scrapy.downloadermiddlewares.retry.RetryMiddleware',\n",
    " 'scrapy.downloadermiddlewares.redirect.MetaRefreshMiddleware',\n",
    " 'scrapy.downloadermiddlewares.httpcompression.HttpCompressionMiddleware',\n",
    " 'scrapy.downloadermiddlewares.redirect.RedirectMiddleware',\n",
    " 'scrapy.downloadermiddlewares.cookies.CookiesMiddleware',\n",
    " 'scrapy.downloadermiddlewares.httpproxy.HttpProxyMiddleware',\n",
    " 'scrapy.downloadermiddlewares.stats.DownloaderStats']\n",
    "2017-05-25 03:48:48 [scrapy.middleware] INFO: Enabled spider middlewares:\n",
    "['scrapy.spidermiddlewares.httperror.HttpErrorMiddleware',\n",
    " 'scrapy.spidermiddlewares.offsite.OffsiteMiddleware',\n",
    " 'scrapy.spidermiddlewares.referer.RefererMiddleware',\n",
    " 'scrapy.spidermiddlewares.urllength.UrlLengthMiddleware',\n",
    " 'scrapy.spidermiddlewares.depth.DepthMiddleware']\n",
    "2017-05-25 03:48:48 [scrapy.middleware] INFO: Enabled item pipelines:\n",
    "[]\n",
    "2017-05-25 03:48:48 [scrapy.core.engine] INFO: Spider opened\n",
    "2017-05-25 03:48:48 [scrapy.extensions.logstats] INFO: Crawled 0 pages (at 0 pages/min), scraped 0 items (at 0 items/min)\n",
    "2017-05-25 03:48:48 [scrapy.extensions.telnet] DEBUG: Telnet console listening on 127.0.0.1:6023\n",
    "2017-05-25 03:48:49 [scrapy.core.engine] DEBUG: Crawled (200) <GET http://books.toscrape.com/> (referer: None)\n",
    "2017-05-25 03:48:49 [scrapy.core.scraper] ERROR: Spider error processing <GET http://books.toscrape.com/> (referer: None)\n",
    "Traceback (most recent call last):\n",
    "  File \"/usr/local/lib/python3.5/dist-packages/twisted/internet/defer.py\", line 653, in _runCallbacks\n",
    "    current.result = callback(current.result, *args, **kw)\n",
    "  File \"/usr/local/lib/python3.5/dist-packages/scrapy/spiders/__init__.py\", line 90, in parse\n",
    "    raise NotImplementedError\n",
    "NotImplementedError\n",
    "2017-05-25 03:48:49 [scrapy.core.engine] INFO: Closing spider (finished)\n",
    "2017-05-25 03:48:49 [scrapy.statscollectors] INFO: Dumping Scrapy stats:\n",
    "{'downloader/request_bytes': 216,\n",
    " 'downloader/request_count': 1,\n",
    " 'downloader/request_method_count/GET': 1,\n",
    " 'downloader/response_bytes': 5900,\n",
    " 'downloader/response_count': 1,\n",
    " 'downloader/response_status_count/200': 1,\n",
    " 'finish_reason': 'finished',\n",
    " 'finish_time': datetime.datetime(2017, 5, 25, 0, 48, 49, 310862),\n",
    " 'log_count/DEBUG': 2,\n",
    " 'log_count/ERROR': 1,\n",
    " 'log_count/INFO': 7,\n",
    " 'memusage/max': 49901568,\n",
    " 'memusage/startup': 49901568,\n",
    " 'response_received_count': 1,\n",
    " 'scheduler/dequeued': 1,\n",
    " 'scheduler/dequeued/memory': 1,\n",
    " 'scheduler/enqueued': 1,\n",
    " 'scheduler/enqueued/memory': 1,\n",
    " 'spider_exceptions/NotImplementedError': 1,\n",
    " 'start_time': datetime.datetime(2017, 5, 25, 0, 48, 48, 860709)}\n",
    "2017-05-25 03:48:49 [scrapy.core.engine] INFO: Spider closed (finished)\n",
    "\n",
    "````"
   ]
  },
  {
   "cell_type": "markdown",
   "metadata": {},
   "source": [
    "Паук сначала инициализирует и загружает дополнительные компоненты и расширения, которые нужны ему для работы. Затем он переходит по урлу из `start_urls` и загружает HTML. После этого робот передаёт код страницы методу `parse`, который у нас не написан и поэтому ничего не делает. На этом паук заканчивает свою работу. \n",
    "\n",
    "У нас есть паук, который открывает страницу, смотрит нанеё и закрывает. Научим нашего паука собирать данные. Напишем метод parse внутри нашего класса. "
   ]
  },
  {
   "cell_type": "code",
   "execution_count": null,
   "metadata": {
    "collapsed": true
   },
   "outputs": [],
   "source": [
    "class BookSpider(scrapy.Spider):\n",
    "    name = 'books'\n",
    "    start_urls = ['http://books.toscrape.com/']\n",
    "    \n",
    "    def parse(self, response):\n",
    "        for href in response.css('h3 a').extract():\n",
    "            url = response.urljoin(href)\n",
    "            print(url)"
   ]
  },
  {
   "cell_type": "markdown",
   "metadata": {},
   "source": [
    "Метод `parse` принимает на вход html код страницы и находит в ней нужные нам элементы. Метод `extract()` используется для того, чтобы извлечь из найденного куска разметки сылку. Пример из [документации:](https://doc.scrapy.org/en/latest/intro/tutorial.html#creating-a-project)\n",
    "\n",
    "```\n",
    "response.css('title')\n",
    "[<Selector xpath='descendant-or-self::title'data='<title>Quotes to Scrape</title>'>]\n",
    "```\n",
    "\n",
    "```\n",
    "response.css('title::text').extract()\n",
    "['Quotes to Scrape']\n",
    "```\n",
    "\n",
    "\n",
    "```\n",
    "response.css('title').extract()\n",
    "['<title>Quotes to Scrape</title>']\n",
    "```\n",
    "\n",
    "Строка `response.urljoin(href)` даёт нам на выход не `catalogue/soumission_998/index.html`, а `http://books.toscrape.com/catalogue/soumission_998/index.html`.\n",
    "\n",
    "Таким образом код работает следующим образом:\n",
    "\n",
    "* Паук загружается, переходит по урлу, забирает html.\n",
    "* Код страницы передаётся методу parse, который осуществляет сбор хрефов.\n",
    "\n",
    "Попробуем запустить код в консоли и убедиться, что он рабоатет."
   ]
  },
  {
   "cell_type": "code",
   "execution_count": 21,
   "metadata": {
    "collapsed": false
   },
   "outputs": [
    {
     "name": "stdout",
     "output_type": "stream",
     "text": [
      "2017-05-25 11:27:13 [scrapy.utils.log] INFO: Scrapy 1.4.0 started (bot: scrapybot)\n",
      "2017-05-25 11:27:13 [scrapy.utils.log] INFO: Overridden settings: {'SPIDER_LOADER_WARN_ONLY': True}\n",
      "2017-05-25 11:27:13 [scrapy.middleware] INFO: Enabled extensions:\n",
      "['scrapy.extensions.logstats.LogStats',\n",
      " 'scrapy.extensions.telnet.TelnetConsole',\n",
      " 'scrapy.extensions.corestats.CoreStats',\n",
      " 'scrapy.extensions.memusage.MemoryUsage']\n",
      "2017-05-25 11:27:13 [scrapy.middleware] INFO: Enabled downloader middlewares:\n",
      "['scrapy.downloadermiddlewares.httpauth.HttpAuthMiddleware',\n",
      " 'scrapy.downloadermiddlewares.downloadtimeout.DownloadTimeoutMiddleware',\n",
      " 'scrapy.downloadermiddlewares.defaultheaders.DefaultHeadersMiddleware',\n",
      " 'scrapy.downloadermiddlewares.useragent.UserAgentMiddleware',\n",
      " 'scrapy.downloadermiddlewares.retry.RetryMiddleware',\n",
      " 'scrapy.downloadermiddlewares.redirect.MetaRefreshMiddleware',\n",
      " 'scrapy.downloadermiddlewares.httpcompression.HttpCompressionMiddleware',\n",
      " 'scrapy.downloadermiddlewares.redirect.RedirectMiddleware',\n",
      " 'scrapy.downloadermiddlewares.cookies.CookiesMiddleware',\n",
      " 'scrapy.downloadermiddlewares.httpproxy.HttpProxyMiddleware',\n",
      " 'scrapy.downloadermiddlewares.stats.DownloaderStats']\n",
      "2017-05-25 11:27:13 [scrapy.middleware] INFO: Enabled spider middlewares:\n",
      "['scrapy.spidermiddlewares.httperror.HttpErrorMiddleware',\n",
      " 'scrapy.spidermiddlewares.offsite.OffsiteMiddleware',\n",
      " 'scrapy.spidermiddlewares.referer.RefererMiddleware',\n",
      " 'scrapy.spidermiddlewares.urllength.UrlLengthMiddleware',\n",
      " 'scrapy.spidermiddlewares.depth.DepthMiddleware']\n",
      "2017-05-25 11:27:13 [scrapy.middleware] INFO: Enabled item pipelines:\n",
      "[]\n",
      "2017-05-25 11:27:13 [scrapy.core.engine] INFO: Spider opened\n",
      "2017-05-25 11:27:13 [scrapy.extensions.logstats] INFO: Crawled 0 pages (at 0 pages/min), scraped 0 items (at 0 items/min)\n",
      "2017-05-25 11:27:13 [scrapy.extensions.telnet] DEBUG: Telnet console listening on 127.0.0.1:6023\n",
      "2017-05-25 11:27:13 [scrapy.core.engine] DEBUG: Crawled (200) <GET http://books.toscrape.com/> (referer: None)\n",
      "http://books.toscrape.com/<a href=\"catalogue/a-light-in-the-attic_1000/index.html\" title=\"A Light in the Attic\">A Light in the ...</a>\n",
      "http://books.toscrape.com/<a href=\"catalogue/tipping-the-velvet_999/index.html\" title=\"Tipping the Velvet\">Tipping the Velvet</a>\n",
      "http://books.toscrape.com/<a href=\"catalogue/soumission_998/index.html\" title=\"Soumission\">Soumission</a>\n",
      "http://books.toscrape.com/<a href=\"catalogue/sharp-objects_997/index.html\" title=\"Sharp Objects\">Sharp Objects</a>\n",
      "http://books.toscrape.com/<a href=\"catalogue/sapiens-a-brief-history-of-humankind_996/index.html\" title=\"Sapiens: A Brief History of Humankind\">Sapiens: A Brief History ...</a>\n",
      "http://books.toscrape.com/<a href=\"catalogue/the-requiem-red_995/index.html\" title=\"The Requiem Red\">The Requiem Red</a>\n",
      "http://books.toscrape.com/<a href=\"catalogue/the-dirty-little-secrets-of-getting-your-dream-job_994/index.html\" title=\"The Dirty Little Secrets of Getting Your Dream Job\">The Dirty Little Secrets ...</a>\n",
      "http://books.toscrape.com/<a href=\"catalogue/the-coming-woman-a-novel-based-on-the-life-of-the-infamous-feminist-victoria-woodhull_993/index.html\" title=\"The Coming Woman: A Novel Based on the Life of the Infamous Feminist, Victoria Woodhull\">The Coming Woman: A ...</a>\n",
      "http://books.toscrape.com/<a href=\"catalogue/the-boys-in-the-boat-nine-americans-and-their-epic-quest-for-gold-at-the-1936-berlin-olympics_992/index.html\" title=\"The Boys in the Boat: Nine Americans and Their Epic Quest for Gold at the 1936 Berlin Olympics\">The Boys in the ...</a>\n",
      "http://books.toscrape.com/<a href=\"catalogue/the-black-maria_991/index.html\" title=\"The Black Maria\">The Black Maria</a>\n",
      "http://books.toscrape.com/<a href=\"catalogue/starving-hearts-triangular-trade-trilogy-1_990/index.html\" title=\"Starving Hearts (Triangular Trade Trilogy, #1)\">Starving Hearts (Triangular Trade ...</a>\n",
      "http://books.toscrape.com/<a href=\"catalogue/shakespeares-sonnets_989/index.html\" title=\"Shakespeare's Sonnets\">Shakespeare's Sonnets</a>\n",
      "http://books.toscrape.com/<a href=\"catalogue/set-me-free_988/index.html\" title=\"Set Me Free\">Set Me Free</a>\n",
      "http://books.toscrape.com/<a href=\"catalogue/scott-pilgrims-precious-little-life-scott-pilgrim-1_987/index.html\" title=\"Scott Pilgrim's Precious Little Life (Scott Pilgrim #1)\">Scott Pilgrim's Precious Little ...</a>\n",
      "http://books.toscrape.com/<a href=\"catalogue/rip-it-up-and-start-again_986/index.html\" title=\"Rip it Up and Start Again\">Rip it Up and ...</a>\n",
      "http://books.toscrape.com/<a href=\"catalogue/our-band-could-be-your-life-scenes-from-the-american-indie-underground-1981-1991_985/index.html\" title=\"Our Band Could Be Your Life: Scenes from the American Indie Underground, 1981-1991\">Our Band Could Be ...</a>\n",
      "http://books.toscrape.com/<a href=\"catalogue/olio_984/index.html\" title=\"Olio\">Olio</a>\n",
      "http://books.toscrape.com/<a href=\"catalogue/mesaerion-the-best-science-fiction-stories-1800-1849_983/index.html\" title=\"Mesaerion: The Best Science Fiction Stories 1800-1849\">Mesaerion: The Best Science ...</a>\n",
      "http://books.toscrape.com/<a href=\"catalogue/libertarianism-for-beginners_982/index.html\" title=\"Libertarianism for Beginners\">Libertarianism for Beginners</a>\n",
      "http://books.toscrape.com/<a href=\"catalogue/its-only-the-himalayas_981/index.html\" title=\"It's Only the Himalayas\">It's Only the Himalayas</a>\n",
      "2017-05-25 11:27:13 [scrapy.core.engine] INFO: Closing spider (finished)\n",
      "2017-05-25 11:27:13 [scrapy.statscollectors] INFO: Dumping Scrapy stats:\n",
      "{'downloader/request_bytes': 216,\n",
      " 'downloader/request_count': 1,\n",
      " 'downloader/request_method_count/GET': 1,\n",
      " 'downloader/response_bytes': 5900,\n",
      " 'downloader/response_count': 1,\n",
      " 'downloader/response_status_count/200': 1,\n",
      " 'finish_reason': 'finished',\n",
      " 'finish_time': datetime.datetime(2017, 5, 25, 8, 27, 13, 593067),\n",
      " 'log_count/DEBUG': 2,\n",
      " 'log_count/INFO': 7,\n",
      " 'memusage/max': 52772864,\n",
      " 'memusage/startup': 52772864,\n",
      " 'response_received_count': 1,\n",
      " 'scheduler/dequeued': 1,\n",
      " 'scheduler/dequeued/memory': 1,\n",
      " 'scheduler/enqueued': 1,\n",
      " 'scheduler/enqueued/memory': 1,\n",
      " 'start_time': datetime.datetime(2017, 5, 25, 8, 27, 13, 360132)}\n",
      "2017-05-25 11:27:13 [scrapy.core.engine] INFO: Spider closed (finished)\n"
     ]
    }
   ],
   "source": [
    "# Проверяем код в консоли!!! Можно для этого использовать мэджик...\n",
    "! scrapy runspider '/home/filipp/Desktop/books/book.py'\n",
    "# Для винды надо использовать % cmd!!! "
   ]
  },
  {
   "cell_type": "markdown",
   "metadata": {},
   "source": [
    "Продолжим дорабатывать код. Добавим ещё один метод. Он будет отвечать за переход по каждой из полученных сылок и сбор данных по ним. Будем собирать названия книг, их цены и изображения. Пройдёмся по всем изменениям, произошедшим с кодом.\n",
    "\n",
    "`Scrapy` позволяет сохранять собранные данные в видет словарей или csv-файликов. Для того, чтобы проделать это используется ключевое слово `yield`."
   ]
  },
  {
   "cell_type": "code",
   "execution_count": 23,
   "metadata": {
    "collapsed": true
   },
   "outputs": [],
   "source": [
    "class BookSpider(scrapy.Spider):\n",
    "    name = 'books'\n",
    "    start_urls = ['http://books.toscrape.com/']\n",
    "    \n",
    "    def parse(self, response):\n",
    "        for href in response.css('.product_pod a::attr(href)').extract():\n",
    "            url = response.urljoin(href)\n",
    "            # Сохраним результат применениея функции parse_book к текущему урлу\n",
    "            yield scrapy.Request(url,self.parse_book)\n",
    "    \n",
    "    def parse_book(self,response):\n",
    "        # Сохраним в виде словаря следующие элементы из респонса:\n",
    "        yield {\n",
    "            'title': response.css('h1::text').extract_first(),\n",
    "            'price': response.css('.price_color::text').extract_first(),\n",
    "            'image': response.css('img::attr(src)').extract_first(),\n",
    "            }\n",
    "            \n",
    "# scrapy runspider books1.py -o books.json\n",
    "# Сохранит книги в формате json\n",
    "\n",
    "# scrapy runspider books1.py -o books.csv\n",
    "# Сохранит книги в формате csv"
   ]
  },
  {
   "cell_type": "markdown",
   "metadata": {},
   "source": [
    "## 3. Паук плетёт узор два. Grab. \n",
    "\n",
    "Перед тем как устанвоить пакет, нужно поставить зависимости, `pip3 install pycurl lxml`. После можно ставить пакет, `pip install Grab`.\n",
    "\n",
    "Автор пакета говорит на русском языке. Поэтому [документация](http://docs.grablib.org/ru/latest/) есть как на русском, так и на английском."
   ]
  },
  {
   "cell_type": "markdown",
   "metadata": {},
   "source": [
    "Рассмотрим пример простого парсера из документации."
   ]
  },
  {
   "cell_type": "code",
   "execution_count": 24,
   "metadata": {
    "collapsed": false
   },
   "outputs": [
    {
     "name": "stdout",
     "output_type": "stream",
     "text": [
      "python: https://www.python.org/\n",
      "perl: https://ru.wikipedia.org/wiki/Perl\n",
      "ruby: https://ru.wikipedia.org/wiki/Ruby\n"
     ]
    }
   ],
   "source": [
    "from grab.spider import Spider, Task\n",
    "\n",
    "class ExampleSpider(Spider):\n",
    "    def task_generator(self):\n",
    "        for lang in 'python', 'ruby', 'perl':\n",
    "            url = 'https://www.google.com/search?q=' + lang\n",
    "            yield Task('search', url=url, lang=lang)\n",
    "\n",
    "    def task_search(self, grab, task):\n",
    "        print('%s: %s' % (task.lang,\n",
    "                          grab.doc('//div[@class=\"s\"]//cite').text()))\n",
    "\n",
    "\n",
    "bot = ExampleSpider(thread_number=2)\n",
    "bot.run()"
   ]
  },
  {
   "cell_type": "code",
   "execution_count": null,
   "metadata": {
    "collapsed": true
   },
   "outputs": [],
   "source": []
  }
 ],
 "metadata": {
  "kernelspec": {
   "display_name": "Python 3",
   "language": "python",
   "name": "python3"
  },
  "language_info": {
   "codemirror_mode": {
    "name": "ipython",
    "version": 3
   },
   "file_extension": ".py",
   "mimetype": "text/x-python",
   "name": "python",
   "nbconvert_exporter": "python",
   "pygments_lexer": "ipython3",
   "version": "3.5.2"
  }
 },
 "nbformat": 4,
 "nbformat_minor": 1
}
