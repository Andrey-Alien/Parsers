{
 "cells": [
  {
   "cell_type": "markdown",
   "metadata": {},
   "source": [
    "# Парсинг Тасс и его лемматизация"
   ]
  },
  {
   "cell_type": "code",
   "execution_count": 1,
   "metadata": {},
   "outputs": [],
   "source": [
    "import requests\n",
    "import numpy as np\n",
    "import datetime\n",
    "import re\n",
    "from bs4 import BeautifulSoup\n",
    "\n",
    "import time\n",
    "import pandas as pd\n",
    "import pickle\n",
    "\n",
    "from tqdm import tqdm_notebook"
   ]
  },
  {
   "cell_type": "markdown",
   "metadata": {
    "collapsed": true
   },
   "source": [
    "## 1. Скачиваем ссылки на новости \n",
    "\n",
    "Все API-запросы к Тасс можно формировать следующим образом через обычный реквест: \n",
    "\n",
    "Если нужны вообще все новости:\n",
    "'http://tass.ru/api/news/lenta?limit=50&before=1488624568'\n",
    "\n",
    "Если нужны новости только из 25 раздела - экономика:\n",
    "'http://tass.ru/api/news/lenta?limit=200&sections%5B%5D=25&unmarked[]=1581998&before=1488624568'"
   ]
  },
  {
   "cell_type": "code",
   "execution_count": 2,
   "metadata": {},
   "outputs": [],
   "source": [
    "# функция, которая крутит вниз ленту из новостей ТАСС\n",
    "def tass_lenta(before,limit=200):\n",
    "    mainpage = 'http://tass.ru/api/news/lenta?limit='+str(limit)+'&before='+str(before)\n",
    "    response = requests.get(mainpage)\n",
    "    dic = response.json()\n",
    "    df = dic['articles']\n",
    "    w =[[item['title'],item['time'],item['url'],item['is_breaking_news'],item['section']] for item in df]\n",
    "    return(w)  "
   ]
  },
  {
   "cell_type": "markdown",
   "metadata": {
    "collapsed": true
   },
   "source": [
    "``` Что ещё можно достать нахаляву из df \n",
    "  {'audio': False,\n",
    "  'color': '2',\n",
    "  'flash': False,\n",
    "  'id': '4070830',\n",
    "  'is_breaking_news': False,\n",
    "  'is_online': False,\n",
    "  'live_text': False,\n",
    "  'marked': False,\n",
    "  'photos': False,\n",
    "  'search_queries': None,\n",
    "  'section': {'id': '25', 'title': 'Экономика и бизнес', 'url': '/ekonomika'},\n",
    "  'show_at_common_feed': True,\n",
    "  'show_at_section_feed': True,\n",
    "  'slideshow': False\n",
    "  'time': '1488624568',\n",
    "  'title': 'Глава ВТБ: курс доллара к концу года может достигнуть 61-62 рублей',\n",
    "  'topics': None,\n",
    "  'url': '/ekonomika/4070830',\n",
    "  'video': False}, ```"
   ]
  },
  {
   "cell_type": "code",
   "execution_count": null,
   "metadata": {},
   "outputs": [],
   "source": [
    "%%time\n",
    "before = 9999999999999\n",
    "tass_news = [ ]\n",
    "\n",
    "for i in tqdm_notebook(range(100000)):\n",
    "    try:\n",
    "        # if i%100 == 0: print(i,len(tass_news),'\\n')\n",
    "        current_news = tass_lenta(before)\n",
    "        reserv_1 = current_news[-1]\n",
    "        reserv_2 = current_news[-2]\n",
    "        reserv_3 = current_news[-3]  # ну чтобы уж наверняка! Моя вера в ЗБЧ не даёт мне написать функцию для проверки...\n",
    "\n",
    "        # Смотрим на пропуски в датах: \n",
    "        if reserv_1[1] != None:\n",
    "            before = reserv_1[1]\n",
    "        elif reserv_2[1] != None:\n",
    "            print('Какой-то чувак неправильно запостил новость:','\\n',reserv_1)\n",
    "            print('Будем использовать другую:','\\n',reserv_2)\n",
    "            ttt = datetime.datetime.fromtimestamp(int(reserv_2[1])).strftime('%Y-%m-%d %H:%M:%S')\n",
    "            print('Время публикации другой новости:', ttt, '\\n')\n",
    "            before = reserv_2[1]\n",
    "        else:\n",
    "            print('Редкое событие! Две неверные новости подряд:','\\n',reserv_1, '\\n', reserv_2)\n",
    "            print('Будем использовать другую:','\\n',reserv_3)\n",
    "            ttt = datetime.datetime.fromtimestamp(int(reserv_3[1])).strftime('%Y-%m-%d %H:%M:%S')\n",
    "            print('Время публикации другой новости:', ttt, '\\n')\n",
    "            before = reserv_3[1]\n",
    "        # Расширяем базу из новостей:\n",
    "        tass_news.extend(current_news)\n",
    "    # Качаем новости до первой ошибки!    \n",
    "    except:\n",
    "        break"
   ]
  },
  {
   "cell_type": "code",
   "execution_count": null,
   "metadata": {},
   "outputs": [],
   "source": [
    "len(tass_news)"
   ]
  },
  {
   "cell_type": "code",
   "execution_count": null,
   "metadata": {},
   "outputs": [],
   "source": [
    "with open('tass_urls.pickle', 'wb') as f:\n",
    "    pickle.dump(tass_news, f)"
   ]
  },
  {
   "cell_type": "markdown",
   "metadata": {},
   "source": [
    "## 2. Качаем текст каждой новости по ссылке "
   ]
  },
  {
   "cell_type": "code",
   "execution_count": 3,
   "metadata": {},
   "outputs": [],
   "source": [
    "with open('tass_urls.pickle', 'rb') as f:\n",
    "    tass_urls = pickle.load(f)"
   ]
  },
  {
   "cell_type": "code",
   "execution_count": 4,
   "metadata": {},
   "outputs": [
    {
     "data": {
      "text/plain": [
       "648383"
      ]
     },
     "execution_count": 4,
     "metadata": {},
     "output_type": "execute_result"
    }
   ],
   "source": [
    "len(tass_urls)"
   ]
  },
  {
   "cell_type": "code",
   "execution_count": 8,
   "metadata": {},
   "outputs": [],
   "source": [
    "def getPage(url):\n",
    "    response = requests.get(url)\n",
    "                                       # выгружает данные по ссылке\n",
    "    html = response.content            # переводит их в читаемый формат, который можно вывести на экран\n",
    "    soup = BeautifulSoup(html,\"lxml\")  # отсекает кучу всяких ненужных вещей и запускает поиск по тегам в html  \n",
    "    return soup"
   ]
  },
  {
   "cell_type": "code",
   "execution_count": 9,
   "metadata": {},
   "outputs": [],
   "source": [
    "def html_stripper(text):\n",
    "    return re.sub('<[^<]+?>', '', str(text)) \n",
    "# очень крутые регулярные выражения - убирают все скобочки, тэги и прочую ерунду\n",
    "# очищаю посты от тэгов так, а не через .text из-за разнообразия постов\n",
    "\n",
    "\n",
    "def PageContent(url):\n",
    "    a = getPage(url)\n",
    "    vvv = a.findAll(\"div\", { \"class\" : \"b-material-text__l js-mediator-article\" })\n",
    "    text = vvv[0].findAll('p')\n",
    "    textwp = [html_stripper(item) for item in text]\n",
    "    return(textwp)\n",
    "\n",
    "# Функция для объединения абзацев в текст\n",
    "def Uniter(vect):\n",
    "    a = vect[0]\n",
    "    for item in vect[1:]:\n",
    "        a = a + item\n",
    "    return(a)"
   ]
  },
  {
   "cell_type": "code",
   "execution_count": 10,
   "metadata": {},
   "outputs": [
    {
     "data": {
      "text/plain": [
       "'ПАРИЖ, 31 декабря. /Корр. ТАСС Иван Батырев/. Официальный Париж полностью поддерживает резолюцию 2336 Совета Безопасности ООН о перемирии в Сирии и ожидает скорейшего возобновления переговоров о мирном урегулировании конфликта в этой стране. Об этом заявили в субботу\\xa0в Министерстве иностранных дел Франции.\"Единогласное принятие резолюции 2336 свидетельствует о том, какую важность мировое сообщество придает установлению перемирия в Сирии. Франция, со своей стороны, уже давно призывает к этому\", - говорится в официальном заявлении французского МИД.Как подчеркнули в министерстве, теперь Париж ожидает того, чтобы \"перемирие полностью соблюдалось, дабы сохранить жизни мирного населения и обеспечить полноценный доступ гуманитарной помощи\". \"Срочно необходимо также, чтобы возобновились политические переговоры под эгидой ООН на базе Женевского коммюнике и соответствующих резолюций Совета Безопасности. Франция примет в этом самое деятельное участие\", - заключили в МИД республики.Ранее сегодня СБ ООН принял резолюцию в поддержку достигнутых при посредничестве России и Турции договоренностей о прекращении огня в Сирии и проведении в Астане переговоров между Дамаском и оппозицией. За документ проголосовали все 15 стран - членов Совбеза.В принятой резолюции Совбез принял во внимание достигнутые договоренности, а также заявил о поддержке \"усилий России и Турции по прекращению насилия в Сирии и запуску политического процесса\". Члены Совета подчеркнули, что ожидают проведения в столице Казахстана встречи и рассматривают ее в качестве важного шага перед намеченным на 8 февраля возобновлением в Женеве межсирийских переговоров под эгидой ООН.В СБ ООН подтвердили приверженность \"суверенитету, независимости, единству и территориальной целостности Сирийской Арабской Республики\", а также подчеркнули, что единственный путь устойчивого урегулирования конфликта в стране лежит через всесторонний политический процесс, который должен идти под руководством самих сирийцев на основе Женевского коммюнике, решений СБ ООН и Международной группы поддержки Сирии (МГПС). Кроме того, в текст включено положение, призывающее стороны конфликта предоставить гуманитарным сотрудникам безопасный и беспрепятственный доступ для оказания помощи жителям всех районов Сирии.'"
      ]
     },
     "execution_count": 10,
     "metadata": {},
     "output_type": "execute_result"
    }
   ],
   "source": [
    "Uniter(PageContent(\"http://tass.ru\" + tass_urls[0][2]))"
   ]
  },
  {
   "cell_type": "code",
   "execution_count": 11,
   "metadata": {},
   "outputs": [],
   "source": [
    "# Функция берёт одну конкретную новость и узнаёт про неё кучу полезной информации\n",
    "def href_grab(unic_predata):\n",
    "    url = \"http://tass.ru\" + unic_predata[2]\n",
    "    \n",
    "    try:\n",
    "        precontent = PageContent(url)     # скачали контент страницы \n",
    "        count_abz = (len(precontent)) # посчитали количество абзацев\n",
    "        text = Uniter(precontent)  # слили абзацы в текст\n",
    "    except Exception:   # на Тасс обычно выскакивают ошибки на интервьюшках + ошибки из-за пустот (см. ниже)\n",
    "        count_abz = 'Error' \n",
    "        text = 'Error'\n",
    "        print('Error')\n",
    "    \n",
    "    # Онормаливаем время\n",
    "    if unic_predata[1] == None:\n",
    "        new_time = 'Error'\n",
    "    else:\n",
    "        new_time = datetime.datetime.fromtimestamp(int(unic_predata[1])).strftime('%Y-%m-%d %H:%M:%S')\n",
    "        # Отметим, что время будет записано в формате string\n",
    "\n",
    "    # Блок для диагностики пустоты в куске с тематикой\n",
    "    if unic_predata[4]==False:\n",
    "        cur_id = 'Error'\n",
    "        cur_title= 'Error'\n",
    "    else:\n",
    "        cur_id = unic_predata[4]['id']\n",
    "        cur_title = unic_predata[4]['title']\n",
    "    \n",
    "    infa = [unic_predata[0],text,count_abz,new_time,unic_predata[2],unic_predata[3],cur_title,cur_id]\n",
    "    #[заголовок, текст, число абзацев, время публикации, ссылка, срочная ли новость, название раздела,\n",
    "    # id раздела]\n",
    "    return(infa)"
   ]
  },
  {
   "cell_type": "code",
   "execution_count": 12,
   "metadata": {},
   "outputs": [
    {
     "data": {
      "text/plain": [
       "['ООП заявила о возможном прекращении диалога с США в случае закрытия ее офиса в Вашингтоне',\n",
       " 'МОСКВА, 18 ноября. /ТАСС/. Организация освобождения Палестины (ООП) выступила с предупреждением о прекращении отношений с Соединенными Штатами в случае закрытия офиса организации в американской столице. Об этом субботу на своей странице в Twitter\\xa0заявил генеральный секретарь Исполкома ООП Саиб Эрикат.\"ООП официально уведомила США, что прекратит отношения с американской администрацией в любом формате, если будет закрыт офис организации в Вашингтоне\", - отметил Эрикат. По его словам, отношения будут заморожены до тех пор, \"пока офис ООП вновь не заработает в обычном режиме\".Ранее в субботу поступила информация, что Госдепартамент не стал продлевать разрешение на работу в американской столице ООП после попытки обратиться в Международный уголовный суд\\xa0с обвинениями против израильских властей.Как сообщил представитель пресс-службы американского внешнеполитического ведомства, в соответствии с законодательством США, для отказа от установленных ограничений на ООП и его Вашингтонское отделение, госсекретарь должен подтвердить, что ООП выполнила условия, установленные законодателями. В соответствии с принятым в декабре 2015 года американским Конгрессом законом, палестинцы теряют свое право иметь представительство в столице США в том случае, если они поддерживают расследование МУС против израильтян за преступления против палестинцев.',\n",
       " 5,\n",
       " '2017-11-18 23:34:16',\n",
       " '/mezhdunarodnaya-panorama/4741134',\n",
       " False,\n",
       " 'Международная панорама',\n",
       " '22']"
      ]
     },
     "execution_count": 12,
     "metadata": {},
     "output_type": "execute_result"
    }
   ],
   "source": [
    "href_grab(tass_urls[1])"
   ]
  },
  {
   "cell_type": "code",
   "execution_count": 13,
   "metadata": {},
   "outputs": [
    {
     "data": {
      "text/plain": [
       "['Ливийский лидер продолжает наступление на восставшие города',\n",
       " 'РАБАТ, 25 февраля. /Корр. ИТАР-ТАСС Первин Мамед-заде/.   Минувший четверг стал для Ливии очередным днем кровавых   столкновений между противниками режима Муамара Каддафи и   лояльными ему силами безопасности.Желая перехватить инициативу и доказать свои все еще   значительные возможности по удержанию контроля над   ситуацией, власти в первой половине дня направили войска и   африканских наемников в расположенный в 50 км к западу от   Триполи город Эз-Зауия, который оказался в руках   восставших. В результате устроенной силовиками бойни с   использованием вертолетов и тяжелого оружия погибло   множество людей, были разрушены дома, мечети, школы. По   словам очевидцев, военные вели прицельный огонь по   безоружным жителям, явно намереваясь убивать, а не   запугивать. В общей сложности, утверждает спутниковый   телеканал \"Аль-Джазира\", в результате устроенной верными   Каддафи силами многочасовой резни погибли около 100   человек, еще более 400 получили ранения.В крупном городе Мисрата элитный правительственный   батальон \"Хамса\" пытался взять под свой контроль местный   аэропорт. Тем временем, в столице - Триполи - весь день   царила напряженная обстановка, несмотря на то, что после   нескольких дней беспорядков начали открываться некоторые   магазины и банки. Силы безопасности Ливии распространили   заявление, в котором пообещали \"полную амнистию\" всем   вооруженным противникам режима Каддафи, кто добровольно   сложит оружие. Они также призвали граждан выдавать   организаторов антиправительственных акций. Жители восточных   областей Ливии, объявивших ранее об освобождении от режима   диктатора, между тем пригрозили организовать марш на   столицу для свержения находящегося у власти 42 года   полковника.В четверг стало известно о бегстве родственника и   близкого к Каддафи силовика Ахмеда Каддафа ад-Дама, который   публично заявил протест в связи с развязанным насилием и   нарушением прав человека. Ушедший на днях в отставку экс-  министр юстиции Мустафа Абдель Джалиль, принявший участие   во встрече глав племен и представителей общин восточной   части страны в городе Эль-Байда, предупредил, что Каддафи   располагает биологическим и химическим оружием, которое   способен применить. \"Призываем международное сообщество и   ООН помешать Каддафи претворить свои планы в жизнь. В   момент, когда он будет по-настоящему прижат к стенке, он   может сделать все что угодно. Думаю, Каддафи сожжет все за   собой\", - сказал Абдель Джалиль.В арабском мире, где лидера Джамахирии знают давно и   хорошо, царит неподдельное беспокойство за судьбу как   Ливии, так и всего региона. По словам генерального   секретаря Лиги арабских государств /ЛАГ/ Амра Мусы,   сложившаяся в этой стране ситуация является неприемлемой.   Он вновь напомнил о принятом решении приостановить участие   всех правительственных делегаций из Ливии в работе ЛАГ и ее   организаций, отметив, что \"эта мера будет оставаться в силе   до тех пор, пока властями в Триполи не будут удовлетворены   требования ливийского народа\". Лига внимательно следит за   развитием событий в Джамахирии, отметил Муса, добавив, что   свою четкую позицию в отношении разворачивающейся в Ливии   ситуации ЛАГ примет на встрече глав МИД и саммите   организации, намеченных на март.Сын руководителя ливийской революции Сейф аль-Ислам   Каддафи, выступая по телевидению, обвинил некоторые   арабские режимы в осуществление заговора против Ливии. Он   пригласил иностранных журналистов приехать в страну и   увидеть собственными глазами реальную обстановку, заверив,   что жизнь в Триполи уже нормализовалась.Сам Муамар Каддафи, обращаясь с традиционно   эмоциональной речью, обвинил террористическую сеть \"Аль-  Каида\" в происходящих в Ливии волнениях. Оппозиционеров он   назвал \"наркоманами\", которые служат интересам /Усамы/ бен   Ладена\". По словам Каддафи, реальная власть в стране   находится в руках народа, а сам он выполняет лишь   \"моральную институциональную функцию\". Он призвал жителей   выйти на улицы и дать отпор участникам акций протестов.   Лидер ливийской революции также заявил, что не несет   ответственности за происходящие в Ливии беспорядки и   разрушения, поскольку \"власть сосредоточена в руках   народных комитетов\".Между тем, международный тон в отношении происходящих в   Ливии событий становится все более резким. Так, Германия   назвала Каддафи \"диктатором, выступающим против своего   собственного народа\". Президент ФРГ Кристиан Вульф   охарактеризовал лидера революции как психически   неуравновешенного человека, который \"терроризирует\" свой   народ с помощью силы. Идею всестороннего ужесточения   санкций против Ливии поддержала Франция. Власти Швейцарии   распорядились заморозить все авуары, принадлежащие Каддафи,   которые могут быть размещены на ее территории. Впрочем, в   ответ на это МИД Ливии сразу же отверг сведения о том, что   полковник имеет банковские счета в Швейцарии или в каком-  либо другом банке мира, пригрозив властям конфедерации   разбирательствами.По-прежнему царит тревога в аэропорту Триполи, где   отчаявшиеся и изнуренные люди ждут возможности покинуть   охваченную насилием и страхом ливийскую землю. На северо-  востоке границу с Джамахирией пересекают тысячи   возвращающихся домой египтян.',\n",
       " 9,\n",
       " '2011-02-25 04:50:00',\n",
       " '/mezhdunarodnaya-panorama/496775',\n",
       " False,\n",
       " 'Международная панорама',\n",
       " '22']"
      ]
     },
     "execution_count": 13,
     "metadata": {},
     "output_type": "execute_result"
    }
   ],
   "source": [
    "href_grab(tass_urls[-7])"
   ]
  },
  {
   "cell_type": "markdown",
   "metadata": {},
   "source": [
    "Возникают ошибки. Где-то нет ссылок. Найдём проблемные новости и удалим их."
   ]
  },
  {
   "cell_type": "code",
   "execution_count": 14,
   "metadata": {},
   "outputs": [
    {
     "name": "stdout",
     "output_type": "stream",
     "text": [
      "['Все вологодские лагеря проверят после отравления детей под Череповцом', None, None, False, False]\n",
      "['Обвиняемый в хищении 330 млн у Кержакова просит проверить нетрудоспособность футболиста', None, None, False, False]\n"
     ]
    }
   ],
   "source": [
    "tss_urls = [ ]\n",
    "for item in tass_urls:\n",
    "    try:\n",
    "        len(item[2])\n",
    "        tss_urls.append(item)\n",
    "    except:\n",
    "        print(item)"
   ]
  },
  {
   "cell_type": "code",
   "execution_count": 15,
   "metadata": {},
   "outputs": [],
   "source": [
    "tass_urls = tss_urls"
   ]
  },
  {
   "cell_type": "markdown",
   "metadata": {},
   "source": [
    "Прямой подход"
   ]
  },
  {
   "cell_type": "markdown",
   "metadata": {},
   "source": [
    "    i = 0\n",
    "    nws = [ ]\n",
    "    for url in tass_urls:\n",
    "        nws.append(href_grab(url))\n",
    "        i+=1\n",
    "        if i % 10 == 0:\n",
    "            with open('tass_news_'+str(i)+'.pickle', 'wb') as f:\n",
    "                pickle.dump(nws, f)"
   ]
  },
  {
   "cell_type": "markdown",
   "metadata": {},
   "source": [
    "Добавим немного паралельности в наш код"
   ]
  },
  {
   "cell_type": "code",
   "execution_count": 16,
   "metadata": {},
   "outputs": [],
   "source": [
    "from multiprocessing.pool import ThreadPool"
   ]
  },
  {
   "cell_type": "code",
   "execution_count": 17,
   "metadata": {},
   "outputs": [],
   "source": [
    "# Функция Map для нелинейной части. Она берёт какой-то вектор с данными и скачивает всю инфу по нему\n",
    "def Map(vect):\n",
    "    wect = [href_grab(item) for item in vect]\n",
    "    return(wect)\n",
    "\n",
    "# Функция Reduce для нелинейной части. Она берёт все результаты разных Map и объединяет их в единый вектор\n",
    "def Reduce(l):\n",
    "    ll = [ ]\n",
    "    for item in l:\n",
    "        ll.extend(item)\n",
    "    return(ll)\n",
    "\n",
    "# Функция, которая делит входной поток данных на несколько частей\n",
    "def Separator(vect,part):\n",
    "    n = len(vect)\n",
    "    vec_parts = [round(n/part)*i for i in range(part)]\n",
    "    vec_parts.append(n)\n",
    "    prereduce = [vect[vec_parts[i]:vec_parts[i+1]] for i in range(part)]\n",
    "    return(prereduce)\n",
    "\n",
    "# Тестер того коректным ли было разбиение (на всякий случай)\n",
    "def Test(begin,end):\n",
    "    m=[]\n",
    "    for item in end:\n",
    "        m.extend(item)\n",
    "    print(m==begin)"
   ]
  },
  {
   "cell_type": "code",
   "execution_count": 18,
   "metadata": {},
   "outputs": [],
   "source": [
    "# Функция для выгрузки! Ура! Ура! Ура! \n",
    "def Kachatel(chto_kachat,chislo_potokov):\n",
    "    # Map-шаг. В скобках у Pool задаётся количество потоков для работы \n",
    "    separatorlist = Separator(chto_kachat,chislo_potokov)\n",
    "    Test(chto_kachat,separatorlist)\n",
    "    # Качаем\n",
    "    pool = ThreadPool(chislo_potokov)\n",
    "    l = pool.map(Map, separatorlist)\n",
    "    # Reduce-шаг.\n",
    "    itog = Reduce(l)\n",
    "    return(itog)"
   ]
  },
  {
   "cell_type": "code",
   "execution_count": null,
   "metadata": {},
   "outputs": [],
   "source": [
    "# Делай два - распаралеленная часть.\n",
    "# Ставим в аргументы вектор из линейной части и число потоков\n",
    "# Результаты тестирования времени и количества потоков: \n",
    "# 1000 статей 5 потоков по 200 - 219 секунд (около 6 минут)\n",
    "# 2000 статей 10 потоков по 200 -221 секунда\n",
    "# 2000 статей 20 потоков по 100 -160 секунд (2 минуты)\n",
    "# 20000 статей 20 потоков по 1000 штук - 1526 секунд (около 25 минут)\n",
    "# 60000 cтатей 30 потоков              - 3467 секунд (2016-09-07)"
   ]
  },
  {
   "cell_type": "code",
   "execution_count": 19,
   "metadata": {},
   "outputs": [
    {
     "data": {
      "text/plain": [
       "648381"
      ]
     },
     "execution_count": 19,
     "metadata": {},
     "output_type": "execute_result"
    }
   ],
   "source": [
    "len(tass_urls)"
   ]
  },
  {
   "cell_type": "markdown",
   "metadata": {},
   "source": [
    "Судя по всему есть ограничения на количество запросов. Экспериментальным путём было получено, что уместно будет качать в 30 потоков. Будем качать батчами по 100 000 каждые сутки по два захода. Через три дня у нас будут все тексты. "
   ]
  },
  {
   "cell_type": "code",
   "execution_count": 18,
   "metadata": {},
   "outputs": [],
   "source": [
    "tass_urls_tst = tass_urls[500000:]"
   ]
  },
  {
   "cell_type": "code",
   "execution_count": 19,
   "metadata": {
    "scrolled": true
   },
   "outputs": [
    {
     "name": "stdout",
     "output_type": "stream",
     "text": [
      "True\n",
      "Error\n",
      "Error\n",
      "Error\n",
      "Error\n",
      "Error\n",
      "Error\n",
      "Error\n",
      "Error\n",
      "Error\n",
      "Error\n",
      "Error\n",
      "Error\n",
      "Error\n",
      "Error\n",
      "Error\n",
      "Error\n",
      "Error\n",
      "Error\n",
      "Error\n",
      "Error\n",
      "Error\n",
      "Error\n",
      "Error\n",
      "Error\n",
      "Error\n",
      "Error\n",
      "Error\n",
      "Error\n",
      "Error\n",
      "Error\n",
      "Error\n",
      "Error\n",
      "Error\n",
      "Error\n",
      "Error\n",
      "Error\n",
      "Error\n",
      "Error\n",
      "Error\n",
      "Error\n",
      "Error\n",
      "Error\n",
      "Error\n",
      "Error\n",
      "Error\n",
      "Error\n",
      "Error\n",
      "Error\n",
      "Error\n",
      "Error\n",
      "Error\n",
      "Error\n",
      "Error\n",
      "Error\n",
      "Error\n",
      "Error\n",
      "Error\n",
      "Error\n",
      "Error\n",
      "Error\n",
      "Error\n",
      "Error\n",
      "Error\n",
      "Error\n",
      "Error\n",
      "Error\n",
      "Error\n",
      "Error\n",
      "Error\n",
      "Error\n",
      "Error\n",
      "Error\n",
      "Error\n",
      "Error\n",
      "Error\n",
      "Error\n",
      "Error\n",
      "Error\n",
      "Error\n",
      "Error\n",
      "Error\n",
      "Error\n",
      "Error\n",
      "Error\n",
      "Error\n",
      "Error\n",
      "Error\n",
      "Error\n",
      "Error\n",
      "Error\n",
      "Error\n",
      "Error\n",
      "Error\n",
      "Error\n",
      "Error\n",
      "Error\n",
      "Error\n",
      "Error\n",
      "Error\n",
      "Error\n",
      "Error\n",
      "Error\n",
      "Error\n",
      "Error\n",
      "Error\n",
      "Error\n",
      "Error\n",
      "Error\n",
      "Error\n",
      "Error\n",
      "Error\n",
      "Error\n",
      "Error\n",
      "Error\n",
      "Error\n",
      "Error\n",
      "Error\n",
      "Error\n",
      "Error\n",
      "Error\n",
      "Error\n",
      "Error\n",
      "Error\n",
      "Error\n",
      "Error\n",
      "Error\n",
      "Error\n",
      "Error\n",
      "Error\n",
      "Error\n",
      "Error\n",
      "Error\n",
      "Error\n",
      "Error\n",
      "Error\n",
      "Error\n",
      "Error\n",
      "Error\n",
      "Error\n",
      "Error\n",
      "Error\n",
      "Error\n",
      "Error\n",
      "Error\n",
      "Error\n",
      "Error\n",
      "Error\n",
      "Error\n",
      "Error\n",
      "Error\n",
      "Error\n",
      "Error\n",
      "Error\n",
      "Error\n",
      "Error\n",
      "Error\n",
      "Error\n",
      "Error\n",
      "Error\n",
      "Error\n",
      "Error\n",
      "Error\n",
      "Error\n",
      "Error\n",
      "Error\n",
      "Error\n",
      "Error\n",
      "Error\n",
      "Error\n",
      "Error\n",
      "Error\n",
      "Error\n",
      "Error\n",
      "Error\n",
      "Error\n",
      "Error\n",
      "Error\n",
      "Error\n",
      "Error\n",
      "Error\n",
      "Error\n",
      "Error\n",
      "Error\n",
      "Error\n",
      "Error\n",
      "Error\n",
      "Error\n",
      "Error\n",
      "Error\n",
      "Error\n",
      "Error\n",
      "Error\n",
      "Error\n",
      "Error\n",
      "Error\n",
      "Error\n",
      "Error\n",
      "Error\n",
      "Error\n",
      "Error\n",
      "Error\n",
      "Error\n",
      "Error\n",
      "Error\n",
      "Error\n",
      "Error\n",
      "Error\n",
      "Error\n",
      "Error\n",
      "Error\n",
      "Error\n",
      "Error\n",
      "Error\n",
      "Error\n",
      "Error\n",
      "Error\n",
      "Error\n",
      "Error\n",
      "Error\n",
      "CPU times: user 4h 39min 9s, sys: 1h 16min 27s, total: 5h 55min 36s\n",
      "Wall time: 4h 55min 38s\n"
     ]
    }
   ],
   "source": [
    "%%time\n",
    "data_vector = Kachatel(tass_urls_tst,30)"
   ]
  },
  {
   "cell_type": "code",
   "execution_count": 20,
   "metadata": {},
   "outputs": [
    {
     "data": {
      "text/plain": [
       "219"
      ]
     },
     "execution_count": 20,
     "metadata": {},
     "output_type": "execute_result"
    }
   ],
   "source": [
    "errors = [item for item in  data_vector  if item[2] == 'Error' ]\n",
    "len(errors)"
   ]
  },
  {
   "cell_type": "code",
   "execution_count": 21,
   "metadata": {},
   "outputs": [
    {
     "data": {
      "text/plain": [
       "148381"
      ]
     },
     "execution_count": 21,
     "metadata": {},
     "output_type": "execute_result"
    }
   ],
   "source": [
    "len(data_vector)"
   ]
  },
  {
   "cell_type": "code",
   "execution_count": 22,
   "metadata": {},
   "outputs": [],
   "source": [
    "with open('news_tass_600+.pickle', 'wb') as f:\n",
    "    pickle.dump(data_vector, f)"
   ]
  },
  {
   "cell_type": "markdown",
   "metadata": {},
   "source": [
    "## 3. Проверка ошибок после скачки "
   ]
  },
  {
   "cell_type": "code",
   "execution_count": 25,
   "metadata": {},
   "outputs": [],
   "source": [
    "all_news = [ ]\n",
    "for name in ['news_tass_100','news_tass_200','news_tass_300','news_tass_400','news_tass_500','news_tass_600+']:\n",
    "    with open(name+'.pickle', 'rb') as f:\n",
    "        nws = pickle.load(f)\n",
    "    all_news.append(nws)"
   ]
  },
  {
   "cell_type": "code",
   "execution_count": 24,
   "metadata": {},
   "outputs": [
    {
     "name": "stdout",
     "output_type": "stream",
     "text": [
      "2994 100000\n",
      "4190 100000\n",
      "350 100000\n",
      "277 100000\n",
      "351 100000\n",
      "219 148381\n"
     ]
    }
   ],
   "source": [
    "for nw in all_news:\n",
    "    print(len([item for item in  nw  if item[2] == 'Error' ]),len(nw))"
   ]
  },
  {
   "cell_type": "markdown",
   "metadata": {},
   "source": [
    "## 4. Лемматизация "
   ]
  },
  {
   "cell_type": "code",
   "execution_count": 37,
   "metadata": {},
   "outputs": [],
   "source": [
    "# теперь обработаем всё это дело токенайзером и лемматизатором\n",
    "\n",
    "from nltk.tokenize import RegexpTokenizer\n",
    "tokenizer = RegexpTokenizer(r'\\w+')\n",
    "\n",
    "import pymorphy2\n",
    "morph = pymorphy2.MorphAnalyzer()\n",
    "\n",
    "def token_lemma(statia):\n",
    "    out_1 = tokenizer.tokenize(statia.lower())\n",
    "    # Возможно, имеет смысл нормировать статью на количество слов\n",
    "    out_2 = [morph.parse(tx)[0].normal_form for tx in out_1]\n",
    "    return out_2"
   ]
  },
  {
   "cell_type": "code",
   "execution_count": 41,
   "metadata": {},
   "outputs": [
    {
     "data": {
      "text/plain": [
       "['париж', 'поддерживать', 'резолюция', 'сб', 'оон', 'по', 'перемирие', 'сирия']"
      ]
     },
     "execution_count": 41,
     "metadata": {},
     "output_type": "execute_result"
    }
   ],
   "source": [
    "token_lemma(all_news[0][0][0])"
   ]
  },
  {
   "cell_type": "code",
   "execution_count": 43,
   "metadata": {},
   "outputs": [
    {
     "data": {
      "application/vnd.jupyter.widget-view+json": {
       "model_id": "340a1176f56641a58a4f96362697fb4d",
       "version_major": 2,
       "version_minor": 0
      },
      "text/html": [
       "<p>Failed to display Jupyter Widget of type <code>HBox</code>.</p>\n",
       "<p>\n",
       "  If you're reading this message in the Jupyter Notebook or JupyterLab Notebook, it may mean\n",
       "  that the widgets JavaScript is still loading. If this message persists, it\n",
       "  likely means that the widgets JavaScript library is either not installed or\n",
       "  not enabled. See the <a href=\"https://ipywidgets.readthedocs.io/en/stable/user_install.html\">Jupyter\n",
       "  Widgets Documentation</a> for setup instructions.\n",
       "</p>\n",
       "<p>\n",
       "  If you're reading this message in another frontend (for example, a static\n",
       "  rendering on GitHub or <a href=\"https://nbviewer.jupyter.org/\">NBViewer</a>),\n",
       "  it may mean that your frontend doesn't currently support widgets.\n",
       "</p>\n"
      ],
      "text/plain": [
       "HBox(children=(IntProgress(value=0, max=6), HTML(value='')))"
      ]
     },
     "metadata": {},
     "output_type": "display_data"
    },
    {
     "data": {
      "application/vnd.jupyter.widget-view+json": {
       "model_id": "4e38421e1ca14dfba9d8813cdd17f11a",
       "version_major": 2,
       "version_minor": 0
      },
      "text/html": [
       "<p>Failed to display Jupyter Widget of type <code>HBox</code>.</p>\n",
       "<p>\n",
       "  If you're reading this message in the Jupyter Notebook or JupyterLab Notebook, it may mean\n",
       "  that the widgets JavaScript is still loading. If this message persists, it\n",
       "  likely means that the widgets JavaScript library is either not installed or\n",
       "  not enabled. See the <a href=\"https://ipywidgets.readthedocs.io/en/stable/user_install.html\">Jupyter\n",
       "  Widgets Documentation</a> for setup instructions.\n",
       "</p>\n",
       "<p>\n",
       "  If you're reading this message in another frontend (for example, a static\n",
       "  rendering on GitHub or <a href=\"https://nbviewer.jupyter.org/\">NBViewer</a>),\n",
       "  it may mean that your frontend doesn't currently support widgets.\n",
       "</p>\n"
      ],
      "text/plain": [
       "HBox(children=(IntProgress(value=0, max=100000), HTML(value='')))"
      ]
     },
     "metadata": {},
     "output_type": "display_data"
    },
    {
     "data": {
      "application/vnd.jupyter.widget-view+json": {
       "model_id": "ce328eb67ea74c48b93505af91d1634d",
       "version_major": 2,
       "version_minor": 0
      },
      "text/html": [
       "<p>Failed to display Jupyter Widget of type <code>HBox</code>.</p>\n",
       "<p>\n",
       "  If you're reading this message in the Jupyter Notebook or JupyterLab Notebook, it may mean\n",
       "  that the widgets JavaScript is still loading. If this message persists, it\n",
       "  likely means that the widgets JavaScript library is either not installed or\n",
       "  not enabled. See the <a href=\"https://ipywidgets.readthedocs.io/en/stable/user_install.html\">Jupyter\n",
       "  Widgets Documentation</a> for setup instructions.\n",
       "</p>\n",
       "<p>\n",
       "  If you're reading this message in another frontend (for example, a static\n",
       "  rendering on GitHub or <a href=\"https://nbviewer.jupyter.org/\">NBViewer</a>),\n",
       "  it may mean that your frontend doesn't currently support widgets.\n",
       "</p>\n"
      ],
      "text/plain": [
       "HBox(children=(IntProgress(value=0, max=100000), HTML(value='')))"
      ]
     },
     "metadata": {},
     "output_type": "display_data"
    },
    {
     "data": {
      "application/vnd.jupyter.widget-view+json": {
       "model_id": "ff4515a8734c4586a851fd2e2dd5be0c",
       "version_major": 2,
       "version_minor": 0
      },
      "text/html": [
       "<p>Failed to display Jupyter Widget of type <code>HBox</code>.</p>\n",
       "<p>\n",
       "  If you're reading this message in the Jupyter Notebook or JupyterLab Notebook, it may mean\n",
       "  that the widgets JavaScript is still loading. If this message persists, it\n",
       "  likely means that the widgets JavaScript library is either not installed or\n",
       "  not enabled. See the <a href=\"https://ipywidgets.readthedocs.io/en/stable/user_install.html\">Jupyter\n",
       "  Widgets Documentation</a> for setup instructions.\n",
       "</p>\n",
       "<p>\n",
       "  If you're reading this message in another frontend (for example, a static\n",
       "  rendering on GitHub or <a href=\"https://nbviewer.jupyter.org/\">NBViewer</a>),\n",
       "  it may mean that your frontend doesn't currently support widgets.\n",
       "</p>\n"
      ],
      "text/plain": [
       "HBox(children=(IntProgress(value=0, max=100000), HTML(value='')))"
      ]
     },
     "metadata": {},
     "output_type": "display_data"
    },
    {
     "data": {
      "application/vnd.jupyter.widget-view+json": {
       "model_id": "ea6dae73e99a4bcca7f7bd28947d0272",
       "version_major": 2,
       "version_minor": 0
      },
      "text/html": [
       "<p>Failed to display Jupyter Widget of type <code>HBox</code>.</p>\n",
       "<p>\n",
       "  If you're reading this message in the Jupyter Notebook or JupyterLab Notebook, it may mean\n",
       "  that the widgets JavaScript is still loading. If this message persists, it\n",
       "  likely means that the widgets JavaScript library is either not installed or\n",
       "  not enabled. See the <a href=\"https://ipywidgets.readthedocs.io/en/stable/user_install.html\">Jupyter\n",
       "  Widgets Documentation</a> for setup instructions.\n",
       "</p>\n",
       "<p>\n",
       "  If you're reading this message in another frontend (for example, a static\n",
       "  rendering on GitHub or <a href=\"https://nbviewer.jupyter.org/\">NBViewer</a>),\n",
       "  it may mean that your frontend doesn't currently support widgets.\n",
       "</p>\n"
      ],
      "text/plain": [
       "HBox(children=(IntProgress(value=0, max=100000), HTML(value='')))"
      ]
     },
     "metadata": {},
     "output_type": "display_data"
    },
    {
     "data": {
      "application/vnd.jupyter.widget-view+json": {
       "model_id": "e25d79336eed46c28e734586b7d5f66f",
       "version_major": 2,
       "version_minor": 0
      },
      "text/html": [
       "<p>Failed to display Jupyter Widget of type <code>HBox</code>.</p>\n",
       "<p>\n",
       "  If you're reading this message in the Jupyter Notebook or JupyterLab Notebook, it may mean\n",
       "  that the widgets JavaScript is still loading. If this message persists, it\n",
       "  likely means that the widgets JavaScript library is either not installed or\n",
       "  not enabled. See the <a href=\"https://ipywidgets.readthedocs.io/en/stable/user_install.html\">Jupyter\n",
       "  Widgets Documentation</a> for setup instructions.\n",
       "</p>\n",
       "<p>\n",
       "  If you're reading this message in another frontend (for example, a static\n",
       "  rendering on GitHub or <a href=\"https://nbviewer.jupyter.org/\">NBViewer</a>),\n",
       "  it may mean that your frontend doesn't currently support widgets.\n",
       "</p>\n"
      ],
      "text/plain": [
       "HBox(children=(IntProgress(value=0, max=100000), HTML(value='')))"
      ]
     },
     "metadata": {},
     "output_type": "display_data"
    },
    {
     "data": {
      "application/vnd.jupyter.widget-view+json": {
       "model_id": "0b1be8f6b52c4b43a9c055fe077bbf89",
       "version_major": 2,
       "version_minor": 0
      },
      "text/html": [
       "<p>Failed to display Jupyter Widget of type <code>HBox</code>.</p>\n",
       "<p>\n",
       "  If you're reading this message in the Jupyter Notebook or JupyterLab Notebook, it may mean\n",
       "  that the widgets JavaScript is still loading. If this message persists, it\n",
       "  likely means that the widgets JavaScript library is either not installed or\n",
       "  not enabled. See the <a href=\"https://ipywidgets.readthedocs.io/en/stable/user_install.html\">Jupyter\n",
       "  Widgets Documentation</a> for setup instructions.\n",
       "</p>\n",
       "<p>\n",
       "  If you're reading this message in another frontend (for example, a static\n",
       "  rendering on GitHub or <a href=\"https://nbviewer.jupyter.org/\">NBViewer</a>),\n",
       "  it may mean that your frontend doesn't currently support widgets.\n",
       "</p>\n"
      ],
      "text/plain": [
       "HBox(children=(IntProgress(value=0, max=148381), HTML(value='')))"
      ]
     },
     "metadata": {},
     "output_type": "display_data"
    },
    {
     "name": "stdout",
     "output_type": "stream",
     "text": [
      "\n"
     ]
    }
   ],
   "source": [
    "lemm_all_news = [ ]\n",
    "for nws in tqdm_notebook(all_news):\n",
    "    cur_lemm_nws = [ ]\n",
    "    for item in tqdm_notebook(nws):\n",
    "        name_lemm = token_lemma(item[0])\n",
    "        text_lemm = token_lemma(item[1])\n",
    "        cur_lemm_nws.append([name_lemm, text_lemm, item[2],item[3],item[4],item[5],item[6],item[7]])\n",
    "    lemm_all_news.append(cur_lemm_nws)    "
   ]
  },
  {
   "cell_type": "code",
   "execution_count": 44,
   "metadata": {},
   "outputs": [],
   "source": [
    "for name,nws in zip(['100','200','300','400','500','600+'],lemm_all_news):\n",
    "    with open('lemm_news_tass_' + name + '.pickle', 'wb') as f:\n",
    "        pickle.dump(nws,f)"
   ]
  }
 ],
 "metadata": {
  "kernelspec": {
   "display_name": "Python 3",
   "language": "python",
   "name": "python3"
  },
  "language_info": {
   "codemirror_mode": {
    "name": "ipython",
    "version": 3
   },
   "file_extension": ".py",
   "mimetype": "text/x-python",
   "name": "python",
   "nbconvert_exporter": "python",
   "pygments_lexer": "ipython3",
   "version": "3.6.3"
  },
  "widgets": {
   "state": {
    "2e282405835a4d09aab2a62f9d0cf023": {
     "views": [
      {
       "cell_index": 19
      }
     ]
    }
   },
   "version": "1.2.0"
  }
 },
 "nbformat": 4,
 "nbformat_minor": 2
}
